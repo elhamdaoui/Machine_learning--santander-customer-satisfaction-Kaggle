{
 "cells": [
  {
   "cell_type": "code",
   "execution_count": 1,
   "metadata": {
    "collapsed": false
   },
   "outputs": [
    {
     "name": "stderr",
     "output_type": "stream",
     "text": [
      "C:\\Anaconda2\\lib\\site-packages\\sklearn\\cross_validation.py:44: DeprecationWarning: This module was deprecated in version 0.18 in favor of the model_selection module into which all the refactored classes and functions are moved. Also note that the interface of the new CV iterators are different from that of this module. This module will be removed in 0.20.\n",
      "  \"This module will be removed in 0.20.\", DeprecationWarning)\n",
      "C:\\Anaconda2\\lib\\site-packages\\sklearn\\grid_search.py:43: DeprecationWarning: This module was deprecated in version 0.18 in favor of the model_selection module into which all the refactored classes and functions are moved. This module will be removed in 0.20.\n",
      "  DeprecationWarning)\n"
     ]
    }
   ],
   "source": [
    "# Load libraries\n",
    "import pandas as pd\n",
    "import numpy as np\n",
    "from pandas.tools.plotting import scatter_matrix\n",
    "import matplotlib.pyplot as plt\n",
    "#import seaborn as sb\n",
    "\n",
    "\n",
    "\n",
    "from sklearn import metrics, cross_validation, linear_model, ensemble\n",
    "from sklearn.neighbors import KNeighborsClassifier\n",
    "from sklearn.discriminant_analysis import LinearDiscriminantAnalysis\n",
    "from sklearn.naive_bayes import GaussianNB\n",
    "from sklearn.svm import SVC\n",
    "from sklearn import neural_network\n",
    "from sklearn.grid_search import GridSearchCV\n",
    "from sklearn.cross_validation import StratifiedKFold\n",
    "from sklearn.tree import DecisionTreeClassifier\n",
    "%matplotlib inline\n",
    "#afficher les graphique ici dans le navigateur\n",
    "\n",
    "import json\n",
    "from random import randint"
   ]
  },
  {
   "cell_type": "code",
   "execution_count": 3,
   "metadata": {
    "collapsed": false
   },
   "outputs": [],
   "source": [
    "dataProject_origine = pd.read_csv('train.csv')"
   ]
  },
  {
   "cell_type": "code",
   "execution_count": 31,
   "metadata": {
    "collapsed": true
   },
   "outputs": [],
   "source": [
    "dataProject_test = pd.read_csv('test.csv')"
   ]
  },
  {
   "cell_type": "code",
   "execution_count": 5,
   "metadata": {
    "collapsed": false
   },
   "outputs": [
    {
     "data": {
      "text/html": [
       "<div>\n",
       "<table border=\"1\" class=\"dataframe\">\n",
       "  <thead>\n",
       "    <tr style=\"text-align: right;\">\n",
       "      <th></th>\n",
       "      <th>ID</th>\n",
       "      <th>var3</th>\n",
       "      <th>var15</th>\n",
       "      <th>imp_ent_var16_ult1</th>\n",
       "      <th>imp_op_var39_comer_ult1</th>\n",
       "      <th>imp_op_var39_comer_ult3</th>\n",
       "      <th>imp_op_var40_comer_ult1</th>\n",
       "      <th>imp_op_var40_comer_ult3</th>\n",
       "      <th>imp_op_var40_efect_ult1</th>\n",
       "      <th>imp_op_var40_efect_ult3</th>\n",
       "      <th>...</th>\n",
       "      <th>saldo_medio_var33_hace2</th>\n",
       "      <th>saldo_medio_var33_hace3</th>\n",
       "      <th>saldo_medio_var33_ult1</th>\n",
       "      <th>saldo_medio_var33_ult3</th>\n",
       "      <th>saldo_medio_var44_hace2</th>\n",
       "      <th>saldo_medio_var44_hace3</th>\n",
       "      <th>saldo_medio_var44_ult1</th>\n",
       "      <th>saldo_medio_var44_ult3</th>\n",
       "      <th>var38</th>\n",
       "      <th>TARGET</th>\n",
       "    </tr>\n",
       "  </thead>\n",
       "  <tbody>\n",
       "    <tr>\n",
       "      <th>0</th>\n",
       "      <td>1</td>\n",
       "      <td>2</td>\n",
       "      <td>23</td>\n",
       "      <td>0.0</td>\n",
       "      <td>0.0</td>\n",
       "      <td>0.0</td>\n",
       "      <td>0.0</td>\n",
       "      <td>0.0</td>\n",
       "      <td>0.0</td>\n",
       "      <td>0.0</td>\n",
       "      <td>...</td>\n",
       "      <td>0.0</td>\n",
       "      <td>0.0</td>\n",
       "      <td>0.0</td>\n",
       "      <td>0.0</td>\n",
       "      <td>0.0</td>\n",
       "      <td>0.0</td>\n",
       "      <td>0.0</td>\n",
       "      <td>0.0</td>\n",
       "      <td>39205.170000</td>\n",
       "      <td>0</td>\n",
       "    </tr>\n",
       "    <tr>\n",
       "      <th>1</th>\n",
       "      <td>3</td>\n",
       "      <td>2</td>\n",
       "      <td>34</td>\n",
       "      <td>0.0</td>\n",
       "      <td>0.0</td>\n",
       "      <td>0.0</td>\n",
       "      <td>0.0</td>\n",
       "      <td>0.0</td>\n",
       "      <td>0.0</td>\n",
       "      <td>0.0</td>\n",
       "      <td>...</td>\n",
       "      <td>0.0</td>\n",
       "      <td>0.0</td>\n",
       "      <td>0.0</td>\n",
       "      <td>0.0</td>\n",
       "      <td>0.0</td>\n",
       "      <td>0.0</td>\n",
       "      <td>0.0</td>\n",
       "      <td>0.0</td>\n",
       "      <td>49278.030000</td>\n",
       "      <td>0</td>\n",
       "    </tr>\n",
       "    <tr>\n",
       "      <th>2</th>\n",
       "      <td>4</td>\n",
       "      <td>2</td>\n",
       "      <td>23</td>\n",
       "      <td>0.0</td>\n",
       "      <td>0.0</td>\n",
       "      <td>0.0</td>\n",
       "      <td>0.0</td>\n",
       "      <td>0.0</td>\n",
       "      <td>0.0</td>\n",
       "      <td>0.0</td>\n",
       "      <td>...</td>\n",
       "      <td>0.0</td>\n",
       "      <td>0.0</td>\n",
       "      <td>0.0</td>\n",
       "      <td>0.0</td>\n",
       "      <td>0.0</td>\n",
       "      <td>0.0</td>\n",
       "      <td>0.0</td>\n",
       "      <td>0.0</td>\n",
       "      <td>67333.770000</td>\n",
       "      <td>0</td>\n",
       "    </tr>\n",
       "    <tr>\n",
       "      <th>3</th>\n",
       "      <td>8</td>\n",
       "      <td>2</td>\n",
       "      <td>37</td>\n",
       "      <td>0.0</td>\n",
       "      <td>195.0</td>\n",
       "      <td>195.0</td>\n",
       "      <td>0.0</td>\n",
       "      <td>0.0</td>\n",
       "      <td>0.0</td>\n",
       "      <td>0.0</td>\n",
       "      <td>...</td>\n",
       "      <td>0.0</td>\n",
       "      <td>0.0</td>\n",
       "      <td>0.0</td>\n",
       "      <td>0.0</td>\n",
       "      <td>0.0</td>\n",
       "      <td>0.0</td>\n",
       "      <td>0.0</td>\n",
       "      <td>0.0</td>\n",
       "      <td>64007.970000</td>\n",
       "      <td>0</td>\n",
       "    </tr>\n",
       "    <tr>\n",
       "      <th>4</th>\n",
       "      <td>10</td>\n",
       "      <td>2</td>\n",
       "      <td>39</td>\n",
       "      <td>0.0</td>\n",
       "      <td>0.0</td>\n",
       "      <td>0.0</td>\n",
       "      <td>0.0</td>\n",
       "      <td>0.0</td>\n",
       "      <td>0.0</td>\n",
       "      <td>0.0</td>\n",
       "      <td>...</td>\n",
       "      <td>0.0</td>\n",
       "      <td>0.0</td>\n",
       "      <td>0.0</td>\n",
       "      <td>0.0</td>\n",
       "      <td>0.0</td>\n",
       "      <td>0.0</td>\n",
       "      <td>0.0</td>\n",
       "      <td>0.0</td>\n",
       "      <td>117310.979016</td>\n",
       "      <td>0</td>\n",
       "    </tr>\n",
       "  </tbody>\n",
       "</table>\n",
       "<p>5 rows × 371 columns</p>\n",
       "</div>"
      ],
      "text/plain": [
       "   ID  var3  var15  imp_ent_var16_ult1  imp_op_var39_comer_ult1  \\\n",
       "0   1     2     23                 0.0                      0.0   \n",
       "1   3     2     34                 0.0                      0.0   \n",
       "2   4     2     23                 0.0                      0.0   \n",
       "3   8     2     37                 0.0                    195.0   \n",
       "4  10     2     39                 0.0                      0.0   \n",
       "\n",
       "   imp_op_var39_comer_ult3  imp_op_var40_comer_ult1  imp_op_var40_comer_ult3  \\\n",
       "0                      0.0                      0.0                      0.0   \n",
       "1                      0.0                      0.0                      0.0   \n",
       "2                      0.0                      0.0                      0.0   \n",
       "3                    195.0                      0.0                      0.0   \n",
       "4                      0.0                      0.0                      0.0   \n",
       "\n",
       "   imp_op_var40_efect_ult1  imp_op_var40_efect_ult3   ...    \\\n",
       "0                      0.0                      0.0   ...     \n",
       "1                      0.0                      0.0   ...     \n",
       "2                      0.0                      0.0   ...     \n",
       "3                      0.0                      0.0   ...     \n",
       "4                      0.0                      0.0   ...     \n",
       "\n",
       "   saldo_medio_var33_hace2  saldo_medio_var33_hace3  saldo_medio_var33_ult1  \\\n",
       "0                      0.0                      0.0                     0.0   \n",
       "1                      0.0                      0.0                     0.0   \n",
       "2                      0.0                      0.0                     0.0   \n",
       "3                      0.0                      0.0                     0.0   \n",
       "4                      0.0                      0.0                     0.0   \n",
       "\n",
       "   saldo_medio_var33_ult3  saldo_medio_var44_hace2  saldo_medio_var44_hace3  \\\n",
       "0                     0.0                      0.0                      0.0   \n",
       "1                     0.0                      0.0                      0.0   \n",
       "2                     0.0                      0.0                      0.0   \n",
       "3                     0.0                      0.0                      0.0   \n",
       "4                     0.0                      0.0                      0.0   \n",
       "\n",
       "   saldo_medio_var44_ult1  saldo_medio_var44_ult3          var38  TARGET  \n",
       "0                     0.0                     0.0   39205.170000       0  \n",
       "1                     0.0                     0.0   49278.030000       0  \n",
       "2                     0.0                     0.0   67333.770000       0  \n",
       "3                     0.0                     0.0   64007.970000       0  \n",
       "4                     0.0                     0.0  117310.979016       0  \n",
       "\n",
       "[5 rows x 371 columns]"
      ]
     },
     "execution_count": 5,
     "metadata": {},
     "output_type": "execute_result"
    }
   ],
   "source": [
    "dataProject_origine.head()"
   ]
  },
  {
   "cell_type": "code",
   "execution_count": 8,
   "metadata": {
    "collapsed": false
   },
   "outputs": [
    {
     "data": {
      "text/plain": [
       "['ID',\n",
       " 'TARGET',\n",
       " 'delta_imp_amort_var18_1y3',\n",
       " 'delta_imp_amort_var34_1y3',\n",
       " 'delta_imp_aport_var13_1y3',\n",
       " 'delta_imp_aport_var17_1y3',\n",
       " 'delta_imp_aport_var33_1y3',\n",
       " 'delta_imp_compra_var44_1y3',\n",
       " 'delta_imp_reemb_var13_1y3',\n",
       " 'delta_imp_reemb_var17_1y3',\n",
       " 'delta_imp_reemb_var33_1y3',\n",
       " 'delta_imp_trasp_var17_in_1y3',\n",
       " 'delta_imp_trasp_var17_out_1y3',\n",
       " 'delta_imp_trasp_var33_in_1y3',\n",
       " 'delta_imp_trasp_var33_out_1y3',\n",
       " 'delta_imp_venta_var44_1y3',\n",
       " 'delta_num_aport_var13_1y3',\n",
       " 'delta_num_aport_var17_1y3',\n",
       " 'delta_num_aport_var33_1y3',\n",
       " 'delta_num_compra_var44_1y3',\n",
       " 'delta_num_reemb_var13_1y3',\n",
       " 'delta_num_reemb_var17_1y3',\n",
       " 'delta_num_reemb_var33_1y3',\n",
       " 'delta_num_trasp_var17_in_1y3',\n",
       " 'delta_num_trasp_var17_out_1y3',\n",
       " 'delta_num_trasp_var33_in_1y3',\n",
       " 'delta_num_trasp_var33_out_1y3',\n",
       " 'delta_num_venta_var44_1y3',\n",
       " 'imp_amort_var18_hace3',\n",
       " 'imp_amort_var18_ult1',\n",
       " 'imp_amort_var34_hace3',\n",
       " 'imp_amort_var34_ult1',\n",
       " 'imp_aport_var13_hace3',\n",
       " 'imp_aport_var13_ult1',\n",
       " 'imp_aport_var17_hace3',\n",
       " 'imp_aport_var17_ult1',\n",
       " 'imp_aport_var33_hace3',\n",
       " 'imp_aport_var33_ult1',\n",
       " 'imp_compra_var44_hace3',\n",
       " 'imp_compra_var44_ult1',\n",
       " 'imp_ent_var16_ult1',\n",
       " 'imp_op_var39_comer_ult1',\n",
       " 'imp_op_var39_comer_ult3',\n",
       " 'imp_op_var39_efect_ult1',\n",
       " 'imp_op_var39_efect_ult3',\n",
       " 'imp_op_var39_ult1',\n",
       " 'imp_op_var40_comer_ult1',\n",
       " 'imp_op_var40_comer_ult3',\n",
       " 'imp_op_var40_efect_ult1',\n",
       " 'imp_op_var40_efect_ult3',\n",
       " 'imp_op_var40_ult1',\n",
       " 'imp_op_var41_comer_ult1',\n",
       " 'imp_op_var41_comer_ult3',\n",
       " 'imp_op_var41_efect_ult1',\n",
       " 'imp_op_var41_efect_ult3',\n",
       " 'imp_op_var41_ult1',\n",
       " 'imp_reemb_var13_hace3',\n",
       " 'imp_reemb_var13_ult1',\n",
       " 'imp_reemb_var17_hace3',\n",
       " 'imp_reemb_var17_ult1',\n",
       " 'imp_reemb_var33_hace3',\n",
       " 'imp_reemb_var33_ult1',\n",
       " 'imp_sal_var16_ult1',\n",
       " 'imp_trans_var37_ult1',\n",
       " 'imp_trasp_var17_in_hace3',\n",
       " 'imp_trasp_var17_in_ult1',\n",
       " 'imp_trasp_var17_out_hace3',\n",
       " 'imp_trasp_var17_out_ult1',\n",
       " 'imp_trasp_var33_in_hace3',\n",
       " 'imp_trasp_var33_in_ult1',\n",
       " 'imp_trasp_var33_out_hace3',\n",
       " 'imp_trasp_var33_out_ult1',\n",
       " 'imp_var43_emit_ult1',\n",
       " 'imp_var7_emit_ult1',\n",
       " 'imp_var7_recib_ult1',\n",
       " 'imp_venta_var44_hace3',\n",
       " 'imp_venta_var44_ult1',\n",
       " 'ind_var1',\n",
       " 'ind_var10_ult1',\n",
       " 'ind_var10cte_ult1',\n",
       " 'ind_var12',\n",
       " 'ind_var12_0',\n",
       " 'ind_var13',\n",
       " 'ind_var13_0',\n",
       " 'ind_var13_corto',\n",
       " 'ind_var13_corto_0',\n",
       " 'ind_var13_largo',\n",
       " 'ind_var13_largo_0',\n",
       " 'ind_var13_medio',\n",
       " 'ind_var13_medio_0',\n",
       " 'ind_var14',\n",
       " 'ind_var14_0',\n",
       " 'ind_var17',\n",
       " 'ind_var17_0',\n",
       " 'ind_var18',\n",
       " 'ind_var18_0',\n",
       " 'ind_var19',\n",
       " 'ind_var1_0',\n",
       " 'ind_var2',\n",
       " 'ind_var20',\n",
       " 'ind_var20_0',\n",
       " 'ind_var24',\n",
       " 'ind_var24_0',\n",
       " 'ind_var25',\n",
       " 'ind_var25_0',\n",
       " 'ind_var25_cte',\n",
       " 'ind_var26',\n",
       " 'ind_var26_0',\n",
       " 'ind_var26_cte',\n",
       " 'ind_var27',\n",
       " 'ind_var27_0',\n",
       " 'ind_var28',\n",
       " 'ind_var28_0',\n",
       " 'ind_var29',\n",
       " 'ind_var29_0',\n",
       " 'ind_var2_0',\n",
       " 'ind_var30',\n",
       " 'ind_var30_0',\n",
       " 'ind_var31',\n",
       " 'ind_var31_0',\n",
       " 'ind_var32',\n",
       " 'ind_var32_0',\n",
       " 'ind_var32_cte',\n",
       " 'ind_var33',\n",
       " 'ind_var33_0',\n",
       " 'ind_var34',\n",
       " 'ind_var34_0',\n",
       " 'ind_var37',\n",
       " 'ind_var37_0',\n",
       " 'ind_var37_cte',\n",
       " 'ind_var39',\n",
       " 'ind_var39_0',\n",
       " 'ind_var40',\n",
       " 'ind_var40_0',\n",
       " 'ind_var41',\n",
       " 'ind_var41_0',\n",
       " 'ind_var43_emit_ult1',\n",
       " 'ind_var43_recib_ult1',\n",
       " 'ind_var44',\n",
       " 'ind_var44_0',\n",
       " 'ind_var46',\n",
       " 'ind_var46_0',\n",
       " 'ind_var5',\n",
       " 'ind_var5_0',\n",
       " 'ind_var6',\n",
       " 'ind_var6_0',\n",
       " 'ind_var7_emit_ult1',\n",
       " 'ind_var7_recib_ult1',\n",
       " 'ind_var8',\n",
       " 'ind_var8_0',\n",
       " 'ind_var9_cte_ult1',\n",
       " 'ind_var9_ult1',\n",
       " 'num_aport_var13_hace3',\n",
       " 'num_aport_var13_ult1',\n",
       " 'num_aport_var17_hace3',\n",
       " 'num_aport_var17_ult1',\n",
       " 'num_aport_var33_hace3',\n",
       " 'num_aport_var33_ult1',\n",
       " 'num_compra_var44_hace3',\n",
       " 'num_compra_var44_ult1',\n",
       " 'num_ent_var16_ult1',\n",
       " 'num_med_var22_ult3',\n",
       " 'num_med_var45_ult3',\n",
       " 'num_meses_var12_ult3',\n",
       " 'num_meses_var13_corto_ult3',\n",
       " 'num_meses_var13_largo_ult3',\n",
       " 'num_meses_var13_medio_ult3',\n",
       " 'num_meses_var17_ult3',\n",
       " 'num_meses_var29_ult3',\n",
       " 'num_meses_var33_ult3',\n",
       " 'num_meses_var39_vig_ult3',\n",
       " 'num_meses_var44_ult3',\n",
       " 'num_meses_var5_ult3',\n",
       " 'num_meses_var8_ult3',\n",
       " 'num_op_var39_comer_ult1',\n",
       " 'num_op_var39_comer_ult3',\n",
       " 'num_op_var39_efect_ult1',\n",
       " 'num_op_var39_efect_ult3',\n",
       " 'num_op_var39_hace2',\n",
       " 'num_op_var39_hace3',\n",
       " 'num_op_var39_ult1',\n",
       " 'num_op_var39_ult3',\n",
       " 'num_op_var40_comer_ult1',\n",
       " 'num_op_var40_comer_ult3',\n",
       " 'num_op_var40_efect_ult1',\n",
       " 'num_op_var40_efect_ult3',\n",
       " 'num_op_var40_hace2',\n",
       " 'num_op_var40_hace3',\n",
       " 'num_op_var40_ult1',\n",
       " 'num_op_var40_ult3',\n",
       " 'num_op_var41_comer_ult1',\n",
       " 'num_op_var41_comer_ult3',\n",
       " 'num_op_var41_efect_ult1',\n",
       " 'num_op_var41_efect_ult3',\n",
       " 'num_op_var41_hace2',\n",
       " 'num_op_var41_hace3',\n",
       " 'num_op_var41_ult1',\n",
       " 'num_op_var41_ult3',\n",
       " 'num_reemb_var13_hace3',\n",
       " 'num_reemb_var13_ult1',\n",
       " 'num_reemb_var17_hace3',\n",
       " 'num_reemb_var17_ult1',\n",
       " 'num_reemb_var33_hace3',\n",
       " 'num_reemb_var33_ult1',\n",
       " 'num_sal_var16_ult1',\n",
       " 'num_trasp_var11_ult1',\n",
       " 'num_trasp_var17_in_hace3',\n",
       " 'num_trasp_var17_in_ult1',\n",
       " 'num_trasp_var17_out_hace3',\n",
       " 'num_trasp_var17_out_ult1',\n",
       " 'num_trasp_var33_in_hace3',\n",
       " 'num_trasp_var33_in_ult1',\n",
       " 'num_trasp_var33_out_hace3',\n",
       " 'num_trasp_var33_out_ult1',\n",
       " 'num_var1',\n",
       " 'num_var12',\n",
       " 'num_var12_0',\n",
       " 'num_var13',\n",
       " 'num_var13_0',\n",
       " 'num_var13_corto',\n",
       " 'num_var13_corto_0',\n",
       " 'num_var13_largo',\n",
       " 'num_var13_largo_0',\n",
       " 'num_var13_medio',\n",
       " 'num_var13_medio_0',\n",
       " 'num_var14',\n",
       " 'num_var14_0',\n",
       " 'num_var17',\n",
       " 'num_var17_0',\n",
       " 'num_var18',\n",
       " 'num_var18_0',\n",
       " 'num_var1_0',\n",
       " 'num_var20',\n",
       " 'num_var20_0',\n",
       " 'num_var22_hace2',\n",
       " 'num_var22_hace3',\n",
       " 'num_var22_ult1',\n",
       " 'num_var22_ult3',\n",
       " 'num_var24',\n",
       " 'num_var24_0',\n",
       " 'num_var25',\n",
       " 'num_var25_0',\n",
       " 'num_var26',\n",
       " 'num_var26_0',\n",
       " 'num_var27',\n",
       " 'num_var27_0',\n",
       " 'num_var28',\n",
       " 'num_var28_0',\n",
       " 'num_var29',\n",
       " 'num_var29_0',\n",
       " 'num_var2_0_ult1',\n",
       " 'num_var2_ult1',\n",
       " 'num_var30',\n",
       " 'num_var30_0',\n",
       " 'num_var31',\n",
       " 'num_var31_0',\n",
       " 'num_var32',\n",
       " 'num_var32_0',\n",
       " 'num_var33',\n",
       " 'num_var33_0',\n",
       " 'num_var34',\n",
       " 'num_var34_0',\n",
       " 'num_var35',\n",
       " 'num_var37',\n",
       " 'num_var37_0',\n",
       " 'num_var37_med_ult2',\n",
       " 'num_var39',\n",
       " 'num_var39_0',\n",
       " 'num_var4',\n",
       " 'num_var40',\n",
       " 'num_var40_0',\n",
       " 'num_var41',\n",
       " 'num_var41_0',\n",
       " 'num_var42',\n",
       " 'num_var42_0',\n",
       " 'num_var43_emit_ult1',\n",
       " 'num_var43_recib_ult1',\n",
       " 'num_var44',\n",
       " 'num_var44_0',\n",
       " 'num_var45_hace2',\n",
       " 'num_var45_hace3',\n",
       " 'num_var45_ult1',\n",
       " 'num_var45_ult3',\n",
       " 'num_var46',\n",
       " 'num_var46_0',\n",
       " 'num_var5',\n",
       " 'num_var5_0',\n",
       " 'num_var6',\n",
       " 'num_var6_0',\n",
       " 'num_var7_emit_ult1',\n",
       " 'num_var7_recib_ult1',\n",
       " 'num_var8',\n",
       " 'num_var8_0',\n",
       " 'num_venta_var44_hace3',\n",
       " 'num_venta_var44_ult1',\n",
       " 'saldo_medio_var12_hace2',\n",
       " 'saldo_medio_var12_hace3',\n",
       " 'saldo_medio_var12_ult1',\n",
       " 'saldo_medio_var12_ult3',\n",
       " 'saldo_medio_var13_corto_hace2',\n",
       " 'saldo_medio_var13_corto_hace3',\n",
       " 'saldo_medio_var13_corto_ult1',\n",
       " 'saldo_medio_var13_corto_ult3',\n",
       " 'saldo_medio_var13_largo_hace2',\n",
       " 'saldo_medio_var13_largo_hace3',\n",
       " 'saldo_medio_var13_largo_ult1',\n",
       " 'saldo_medio_var13_largo_ult3',\n",
       " 'saldo_medio_var13_medio_hace2',\n",
       " 'saldo_medio_var13_medio_hace3',\n",
       " 'saldo_medio_var13_medio_ult1',\n",
       " 'saldo_medio_var13_medio_ult3',\n",
       " 'saldo_medio_var17_hace2',\n",
       " 'saldo_medio_var17_hace3',\n",
       " 'saldo_medio_var17_ult1',\n",
       " 'saldo_medio_var17_ult3',\n",
       " 'saldo_medio_var29_hace2',\n",
       " 'saldo_medio_var29_hace3',\n",
       " 'saldo_medio_var29_ult1',\n",
       " 'saldo_medio_var29_ult3',\n",
       " 'saldo_medio_var33_hace2',\n",
       " 'saldo_medio_var33_hace3',\n",
       " 'saldo_medio_var33_ult1',\n",
       " 'saldo_medio_var33_ult3',\n",
       " 'saldo_medio_var44_hace2',\n",
       " 'saldo_medio_var44_hace3',\n",
       " 'saldo_medio_var44_ult1',\n",
       " 'saldo_medio_var44_ult3',\n",
       " 'saldo_medio_var5_hace2',\n",
       " 'saldo_medio_var5_hace3',\n",
       " 'saldo_medio_var5_ult1',\n",
       " 'saldo_medio_var5_ult3',\n",
       " 'saldo_medio_var8_hace2',\n",
       " 'saldo_medio_var8_hace3',\n",
       " 'saldo_medio_var8_ult1',\n",
       " 'saldo_medio_var8_ult3',\n",
       " 'saldo_var1',\n",
       " 'saldo_var12',\n",
       " 'saldo_var13',\n",
       " 'saldo_var13_corto',\n",
       " 'saldo_var13_largo',\n",
       " 'saldo_var13_medio',\n",
       " 'saldo_var14',\n",
       " 'saldo_var17',\n",
       " 'saldo_var18',\n",
       " 'saldo_var20',\n",
       " 'saldo_var24',\n",
       " 'saldo_var25',\n",
       " 'saldo_var26',\n",
       " 'saldo_var27',\n",
       " 'saldo_var28',\n",
       " 'saldo_var29',\n",
       " 'saldo_var2_ult1',\n",
       " 'saldo_var30',\n",
       " 'saldo_var31',\n",
       " 'saldo_var32',\n",
       " 'saldo_var33',\n",
       " 'saldo_var34',\n",
       " 'saldo_var37',\n",
       " 'saldo_var40',\n",
       " 'saldo_var41',\n",
       " 'saldo_var42',\n",
       " 'saldo_var44',\n",
       " 'saldo_var46',\n",
       " 'saldo_var5',\n",
       " 'saldo_var6',\n",
       " 'saldo_var8',\n",
       " 'var15',\n",
       " 'var21',\n",
       " 'var3',\n",
       " 'var36',\n",
       " 'var38']"
      ]
     },
     "execution_count": 8,
     "metadata": {},
     "output_type": "execute_result"
    }
   ],
   "source": [
    "cols=dataProject_origine.columns.tolist()\n",
    "sorted(cols)"
   ]
  },
  {
   "cell_type": "code",
   "execution_count": 27,
   "metadata": {
    "collapsed": false
   },
   "outputs": [
    {
     "data": {
      "image/png": "[encoded data removed]",
      "text/plain": [
       "<IPython.core.display.Image object>"
      ]
     },
     "execution_count": 27,
     "metadata": {},
     "output_type": "execute_result"
    }
   ],
   "source": [
    "from IPython.display import Image\n",
    "Image(filename=\"feature_imporatnce.png\")\n"
   ]
  },
  {
   "cell_type": "code",
   "execution_count": 2,
   "metadata": {
    "collapsed": false
   },
   "outputs": [
    {
     "data": {
      "text/plain": [
       "30"
      ]
     },
     "execution_count": 2,
     "metadata": {},
     "output_type": "execute_result"
    }
   ],
   "source": [
    "imporatnce_features=['var38',\n",
    "                     'var15',\n",
    "                     'saldo_medio_var5_hace3',\n",
    "                     'saldo_medio_var5_ult3',\n",
    "                     'num_var45_ult3',\n",
    "                     'num_var45_hace3',\n",
    "                     'num_var45_hace2',\n",
    "                     'num_var22_ult3',\n",
    "                     'saldo_medio_var5_hace2',\n",
    "                     'num_var45_ult1',\n",
    "                     'num_med_var45_ult3',\n",
    "                     'num_var22_hace3',\n",
    "                     'saldo_var42',\n",
    "                     'num_var22_hace2',\n",
    "                     'saldo_medio_var5_ult1',\n",
    "                     'saldo_var30',\n",
    "                     'saldo_var5',\n",
    "                     'num_meses_var5_ult3',\n",
    "                     'var36',\n",
    "                     'num_meses_var39_vig_ult3',\n",
    "                     'num_var22_ult1',\n",
    "                     'ind_var30',\n",
    "                     'num_med_var22_ult3',\n",
    "                     'num_var42',\n",
    "                     'imp_op_var39_ult1',\n",
    "                     'imp_op_var39_efect_ult3',\n",
    "                     'imp_ent_var16_ult1',\n",
    "                     'imp_op_var41_ult1',\n",
    "                     'var3',\n",
    "                     'imp_trans_var37_ult1',\n",
    "                     ]\n",
    "len(imporatnce_features)"
   ]
  },
  {
   "cell_type": "code",
   "execution_count": 34,
   "metadata": {
    "collapsed": false
   },
   "outputs": [],
   "source": [
    "Train=dataProject_origine[imporatnce_features+['TARGET']]\n",
    "Test=dataProject_test[imporatnce_features]"
   ]
  },
  {
   "cell_type": "code",
   "execution_count": 35,
   "metadata": {
    "collapsed": false
   },
   "outputs": [
    {
     "data": {
      "text/plain": [
       "((76020, 31), (75818, 30))"
      ]
     },
     "execution_count": 35,
     "metadata": {},
     "output_type": "execute_result"
    }
   ],
   "source": [
    "Train.shape , Test.shape"
   ]
  },
  {
   "cell_type": "code",
   "execution_count": 36,
   "metadata": {
    "collapsed": true
   },
   "outputs": [],
   "source": [
    "Train.to_csv(\"train_imp_features.csv\")\n",
    "Test.to_csv(\"test_imp_features.csv\")"
   ]
  },
  {
   "cell_type": "markdown",
   "metadata": {},
   "source": [
    "<font style=\"color:red;font-weight:bold;font-size:1.3em;\">===============New Start, clear Memory=============</font>"
   ]
  },
  {
   "cell_type": "code",
   "execution_count": 3,
   "metadata": {
    "collapsed": false
   },
   "outputs": [],
   "source": [
    "TrainData=pd.read_csv('train_imp_features.csv',index_col=0)\n",
    "TestData=pd.read_csv('test_imp_features.csv',index_col=0)"
   ]
  },
  {
   "cell_type": "code",
   "execution_count": 4,
   "metadata": {
    "collapsed": false
   },
   "outputs": [
    {
     "data": {
      "text/plain": [
       "((76020, 31), (75818, 30))"
      ]
     },
     "execution_count": 4,
     "metadata": {},
     "output_type": "execute_result"
    }
   ],
   "source": [
    "TrainData.shape, TestData.shape"
   ]
  },
  {
   "cell_type": "code",
   "execution_count": 13,
   "metadata": {
    "collapsed": false
   },
   "outputs": [
    {
     "data": {
      "text/html": [
       "<div>\n",
       "<table border=\"1\" class=\"dataframe\">\n",
       "  <thead>\n",
       "    <tr style=\"text-align: right;\">\n",
       "      <th></th>\n",
       "      <th>var38</th>\n",
       "      <th>var15</th>\n",
       "      <th>saldo_medio_var5_hace3</th>\n",
       "      <th>saldo_medio_var5_ult3</th>\n",
       "      <th>num_var45_ult3</th>\n",
       "      <th>num_var45_hace3</th>\n",
       "      <th>num_var45_hace2</th>\n",
       "      <th>num_var22_ult3</th>\n",
       "      <th>saldo_medio_var5_hace2</th>\n",
       "      <th>num_var45_ult1</th>\n",
       "      <th>...</th>\n",
       "      <th>ind_var30</th>\n",
       "      <th>num_med_var22_ult3</th>\n",
       "      <th>num_var42</th>\n",
       "      <th>imp_op_var39_ult1</th>\n",
       "      <th>imp_op_var39_efect_ult3</th>\n",
       "      <th>imp_ent_var16_ult1</th>\n",
       "      <th>imp_op_var41_ult1</th>\n",
       "      <th>var3</th>\n",
       "      <th>imp_trans_var37_ult1</th>\n",
       "      <th>TARGET</th>\n",
       "    </tr>\n",
       "  </thead>\n",
       "  <tbody>\n",
       "    <tr>\n",
       "      <th>0</th>\n",
       "      <td>39205.170000</td>\n",
       "      <td>23</td>\n",
       "      <td>0.00</td>\n",
       "      <td>0.00</td>\n",
       "      <td>0</td>\n",
       "      <td>0</td>\n",
       "      <td>0</td>\n",
       "      <td>0</td>\n",
       "      <td>0.00</td>\n",
       "      <td>0</td>\n",
       "      <td>...</td>\n",
       "      <td>0</td>\n",
       "      <td>0</td>\n",
       "      <td>0</td>\n",
       "      <td>0.0</td>\n",
       "      <td>0.0</td>\n",
       "      <td>0.0</td>\n",
       "      <td>0.0</td>\n",
       "      <td>2</td>\n",
       "      <td>0.0</td>\n",
       "      <td>0</td>\n",
       "    </tr>\n",
       "    <tr>\n",
       "      <th>1</th>\n",
       "      <td>49278.030000</td>\n",
       "      <td>34</td>\n",
       "      <td>88.89</td>\n",
       "      <td>0.00</td>\n",
       "      <td>0</td>\n",
       "      <td>0</td>\n",
       "      <td>0</td>\n",
       "      <td>0</td>\n",
       "      <td>0.00</td>\n",
       "      <td>0</td>\n",
       "      <td>...</td>\n",
       "      <td>1</td>\n",
       "      <td>0</td>\n",
       "      <td>0</td>\n",
       "      <td>0.0</td>\n",
       "      <td>0.0</td>\n",
       "      <td>0.0</td>\n",
       "      <td>0.0</td>\n",
       "      <td>2</td>\n",
       "      <td>0.0</td>\n",
       "      <td>0</td>\n",
       "    </tr>\n",
       "    <tr>\n",
       "      <th>2</th>\n",
       "      <td>67333.770000</td>\n",
       "      <td>23</td>\n",
       "      <td>0.18</td>\n",
       "      <td>2.07</td>\n",
       "      <td>0</td>\n",
       "      <td>0</td>\n",
       "      <td>0</td>\n",
       "      <td>0</td>\n",
       "      <td>3.00</td>\n",
       "      <td>0</td>\n",
       "      <td>...</td>\n",
       "      <td>1</td>\n",
       "      <td>0</td>\n",
       "      <td>3</td>\n",
       "      <td>0.0</td>\n",
       "      <td>0.0</td>\n",
       "      <td>0.0</td>\n",
       "      <td>0.0</td>\n",
       "      <td>2</td>\n",
       "      <td>0.0</td>\n",
       "      <td>0</td>\n",
       "    </tr>\n",
       "    <tr>\n",
       "      <th>3</th>\n",
       "      <td>64007.970000</td>\n",
       "      <td>37</td>\n",
       "      <td>0.00</td>\n",
       "      <td>138.84</td>\n",
       "      <td>48</td>\n",
       "      <td>3</td>\n",
       "      <td>27</td>\n",
       "      <td>3</td>\n",
       "      <td>186.09</td>\n",
       "      <td>18</td>\n",
       "      <td>...</td>\n",
       "      <td>1</td>\n",
       "      <td>0</td>\n",
       "      <td>3</td>\n",
       "      <td>195.0</td>\n",
       "      <td>0.0</td>\n",
       "      <td>0.0</td>\n",
       "      <td>195.0</td>\n",
       "      <td>2</td>\n",
       "      <td>0.0</td>\n",
       "      <td>0</td>\n",
       "    </tr>\n",
       "    <tr>\n",
       "      <th>4</th>\n",
       "      <td>117310.979016</td>\n",
       "      <td>39</td>\n",
       "      <td>0.30</td>\n",
       "      <td>13501.47</td>\n",
       "      <td>0</td>\n",
       "      <td>0</td>\n",
       "      <td>0</td>\n",
       "      <td>9</td>\n",
       "      <td>3.00</td>\n",
       "      <td>0</td>\n",
       "      <td>...</td>\n",
       "      <td>1</td>\n",
       "      <td>3</td>\n",
       "      <td>3</td>\n",
       "      <td>0.0</td>\n",
       "      <td>0.0</td>\n",
       "      <td>0.0</td>\n",
       "      <td>0.0</td>\n",
       "      <td>2</td>\n",
       "      <td>270003.0</td>\n",
       "      <td>0</td>\n",
       "    </tr>\n",
       "  </tbody>\n",
       "</table>\n",
       "<p>5 rows × 31 columns</p>\n",
       "</div>"
      ],
      "text/plain": [
       "           var38  var15  saldo_medio_var5_hace3  saldo_medio_var5_ult3  \\\n",
       "0   39205.170000     23                    0.00                   0.00   \n",
       "1   49278.030000     34                   88.89                   0.00   \n",
       "2   67333.770000     23                    0.18                   2.07   \n",
       "3   64007.970000     37                    0.00                 138.84   \n",
       "4  117310.979016     39                    0.30               13501.47   \n",
       "\n",
       "   num_var45_ult3  num_var45_hace3  num_var45_hace2  num_var22_ult3  \\\n",
       "0               0                0                0               0   \n",
       "1               0                0                0               0   \n",
       "2               0                0                0               0   \n",
       "3              48                3               27               3   \n",
       "4               0                0                0               9   \n",
       "\n",
       "   saldo_medio_var5_hace2  num_var45_ult1   ...    ind_var30  \\\n",
       "0                    0.00               0   ...            0   \n",
       "1                    0.00               0   ...            1   \n",
       "2                    3.00               0   ...            1   \n",
       "3                  186.09              18   ...            1   \n",
       "4                    3.00               0   ...            1   \n",
       "\n",
       "   num_med_var22_ult3  num_var42  imp_op_var39_ult1  imp_op_var39_efect_ult3  \\\n",
       "0                   0          0                0.0                      0.0   \n",
       "1                   0          0                0.0                      0.0   \n",
       "2                   0          3                0.0                      0.0   \n",
       "3                   0          3              195.0                      0.0   \n",
       "4                   3          3                0.0                      0.0   \n",
       "\n",
       "   imp_ent_var16_ult1  imp_op_var41_ult1  var3  imp_trans_var37_ult1  TARGET  \n",
       "0                 0.0                0.0     2                   0.0       0  \n",
       "1                 0.0                0.0     2                   0.0       0  \n",
       "2                 0.0                0.0     2                   0.0       0  \n",
       "3                 0.0              195.0     2                   0.0       0  \n",
       "4                 0.0                0.0     2              270003.0       0  \n",
       "\n",
       "[5 rows x 31 columns]"
      ]
     },
     "execution_count": 13,
     "metadata": {},
     "output_type": "execute_result"
    }
   ],
   "source": [
    "TrainData.head()"
   ]
  },
  {
   "cell_type": "code",
   "execution_count": 27,
   "metadata": {
    "collapsed": false
   },
   "outputs": [
    {
     "name": "stdout",
     "output_type": "stream",
     "text": [
      "                         var38 , Nan in Train: 0 0  | in Test: 0 0\n",
      "                         var15 , Nan in Train: 0 0  | in Test: 0 0\n",
      "        saldo_medio_var5_hace3 , Nan in Train: 0 0  | in Test: 0 0\n",
      "         saldo_medio_var5_ult3 , Nan in Train: 0 0  | in Test: 0 0\n",
      "                num_var45_ult3 , Nan in Train: 0 0  | in Test: 0 0\n",
      "               num_var45_hace3 , Nan in Train: 0 0  | in Test: 0 0\n",
      "               num_var45_hace2 , Nan in Train: 0 0  | in Test: 0 0\n",
      "                num_var22_ult3 , Nan in Train: 0 0  | in Test: 0 0\n",
      "        saldo_medio_var5_hace2 , Nan in Train: 0 0  | in Test: 0 0\n",
      "                num_var45_ult1 , Nan in Train: 0 0  | in Test: 0 0\n",
      "            num_med_var45_ult3 , Nan in Train: 0 0  | in Test: 0 0\n",
      "               num_var22_hace3 , Nan in Train: 0 0  | in Test: 0 0\n",
      "                   saldo_var42 , Nan in Train: 0 0  | in Test: 0 0\n",
      "               num_var22_hace2 , Nan in Train: 0 0  | in Test: 0 0\n",
      "         saldo_medio_var5_ult1 , Nan in Train: 0 0  | in Test: 0 0\n",
      "                   saldo_var30 , Nan in Train: 0 0  | in Test: 0 0\n",
      "                    saldo_var5 , Nan in Train: 0 0  | in Test: 0 0\n",
      "           num_meses_var5_ult3 , Nan in Train: 0 0  | in Test: 0 0\n",
      "                         var36 , Nan in Train: 0 0  | in Test: 0 0\n",
      "      num_meses_var39_vig_ult3 , Nan in Train: 0 0  | in Test: 0 0\n",
      "                num_var22_ult1 , Nan in Train: 0 0  | in Test: 0 0\n",
      "                     ind_var30 , Nan in Train: 0 0  | in Test: 0 0\n",
      "            num_med_var22_ult3 , Nan in Train: 0 0  | in Test: 0 0\n",
      "                     num_var42 , Nan in Train: 0 0  | in Test: 0 0\n",
      "             imp_op_var39_ult1 , Nan in Train: 0 0  | in Test: 0 0\n",
      "       imp_op_var39_efect_ult3 , Nan in Train: 0 0  | in Test: 0 0\n",
      "            imp_ent_var16_ult1 , Nan in Train: 0 0  | in Test: 0 0\n",
      "             imp_op_var41_ult1 , Nan in Train: 0 0  | in Test: 0 0\n",
      "                          var3 , Nan in Train: 0 0  | in Test: 0 0\n",
      "          imp_trans_var37_ult1 , Nan in Train: 0 0  | in Test: 0 0\n"
     ]
    }
   ],
   "source": [
    "for col in TestData.columns.values:\n",
    "    print \"%30s\"%col,\", Nan in Train:\",sum(TrainData[col].isnull()),len(TrainData[TrainData[col]==9999999999]),\" | in Test:\",\\\n",
    "    sum(TestData[col].isnull()),len(TestData[TestData[col]==9999999999])"
   ]
  },
  {
   "cell_type": "code",
   "execution_count": 5,
   "metadata": {
    "collapsed": false
   },
   "outputs": [],
   "source": [
    "VALID_SIZE = 0.30 # 30% of train\n",
    "HOLDOUT_SIZE = 0.33 # 33% of valid => 10% of train And it remains 66% of valid => 20% of train for the Vaidation\n",
    "seed = 7\n",
    "Y=TrainData.TARGET\n",
    "X=TrainData.drop(\"TARGET\",axis=1)\n",
    "#X_test = dataset[:][dataset.index<len(TEST.index)]\n",
    "X_train, X_valid, Y_train, Y_valid = cross_validation.train_test_split(X, Y, test_size=VALID_SIZE, random_state=seed)\n",
    "X_valid,X_hold,Y_valid,Y_hold = cross_validation.train_test_split(X_valid, Y_valid, test_size=HOLDOUT_SIZE, random_state=seed)"
   ]
  },
  {
   "cell_type": "code",
   "execution_count": 6,
   "metadata": {
    "collapsed": false
   },
   "outputs": [
    {
     "name": "stdout",
     "output_type": "stream",
     "text": [
      "Train     :  (53214, 30) (53214,)      70% of Dataset :: TARGET distribution  [51106  2108]\n",
      "Validation:  (15280, 30) (15280,)      20% of Dataset :: TARGET distribution  [14654   626]\n",
      "Holdout   :  (7526, 30) (7526,)      10% of Dataset :: TARGET distribution  [7252  274]\n"
     ]
    }
   ],
   "source": [
    "print \"Train     : \",X_train.shape, Y_train.shape, \"     70% of Dataset\", \":: TARGET distribution \",Y_train.value_counts().values\n",
    "print \"Validation: \",X_valid.shape, Y_valid.shape, \"     20% of Dataset\", \":: TARGET distribution \",Y_valid.value_counts().values\n",
    "print \"Holdout   : \",X_hold.shape, Y_hold.shape, \"     10% of Dataset\", \":: TARGET distribution \",Y_hold.value_counts().values\n"
   ]
  },
  {
   "cell_type": "code",
   "execution_count": 8,
   "metadata": {
    "collapsed": false
   },
   "outputs": [
    {
     "name": "stderr",
     "output_type": "stream",
     "text": [
      "C:\\Anaconda2\\lib\\site-packages\\ipykernel\\__main__.py:1: SettingWithCopyWarning: \n",
      "A value is trying to be set on a copy of a slice from a DataFrame.\n",
      "Try using .loc[row_indexer,col_indexer] = value instead\n",
      "\n",
      "See the caveats in the documentation: http://pandas.pydata.org/pandas-docs/stable/indexing.html#indexing-view-versus-copy\n",
      "  if __name__ == '__main__':\n"
     ]
    }
   ],
   "source": [
    "X_train[\"TARGET\"]=Y_train\n",
    "X_valid[\"TARGET\"]=Y_valid\n",
    "X_hold[\"TARGET\"]=Y_hold\n",
    "X_train.to_csv(\"datas/train_final.csv\")\n",
    "X_valid.to_csv(\"datas/valid_final.csv\")\n",
    "X_hold.to_csv(\"datas/hold_final.csv\")"
   ]
  },
  {
   "cell_type": "markdown",
   "metadata": {},
   "source": [
    "<font style=\"color:red;font-weight:bold;font-size:1.3em;\">===============New Start, clear Memory=============</font>"
   ]
  },
  {
   "cell_type": "code",
   "execution_count": 17,
   "metadata": {
    "collapsed": true
   },
   "outputs": [],
   "source": [
    "TestData=pd.read_csv('test_imp_features.csv',index_col=0)\n",
    "X_train=pd.read_csv('datas/train_final.csv',index_col=0)\n",
    "X_valid=pd.read_csv('datas/valid_final.csv',index_col=0)\n",
    "X_hold=pd.read_csv('datas/hold_final.csv',index_col=0)\n",
    "Y_train,Y_valid,Y_hold=X_train.TARGET,X_valid.TARGET,X_hold.TARGET\n",
    "X_train,X_valid,X_hold=X_train.drop(\"TARGET\",axis=1),X_valid.drop(\"TARGET\",axis=1),X_hold.drop(\"TARGET\",axis=1)"
   ]
  },
  {
   "cell_type": "code",
   "execution_count": 18,
   "metadata": {
    "collapsed": false
   },
   "outputs": [
    {
     "name": "stdout",
     "output_type": "stream",
     "text": [
      "Train     :  (53214, 30) (53214,)      70% of Dataset :: TARGET distribution  [51106  2108]\n",
      "Validation:  (15280, 30) (15280,)      20% of Dataset :: TARGET distribution  [14654   626]\n",
      "Holdout   :  (7526, 30) (7526,)      10% of Dataset :: TARGET distribution  [7252  274]\n"
     ]
    }
   ],
   "source": [
    "print \"Train     : \",X_train.shape, Y_train.shape, \"     70% of Dataset\", \":: TARGET distribution \",Y_train.value_counts().values\n",
    "print \"Validation: \",X_valid.shape, Y_valid.shape, \"     20% of Dataset\", \":: TARGET distribution \",Y_valid.value_counts().values\n",
    "print \"Holdout   : \",X_hold.shape, Y_hold.shape, \"     10% of Dataset\", \":: TARGET distribution \",Y_hold.value_counts().values"
   ]
  },
  {
   "cell_type": "markdown",
   "metadata": {},
   "source": [
    "<font style=\"color:blue;font-weight:bold;font-size:1.3em;\">Finds the models with its parameters where the score is greater than 0.5 </font>"
   ]
  },
  {
   "cell_type": "code",
   "execution_count": 19,
   "metadata": {
    "collapsed": false
   },
   "outputs": [
    {
     "data": {
      "text/plain": [
       "30"
      ]
     },
     "execution_count": 19,
     "metadata": {},
     "output_type": "execute_result"
    }
   ],
   "source": [
    "imporatnce_features=['var38',\n",
    "                     'var15',\n",
    "                     'saldo_medio_var5_hace3',\n",
    "                     'saldo_medio_var5_ult3',\n",
    "                     'num_var45_ult3',\n",
    "                     'num_var45_hace3',\n",
    "                     'num_var45_hace2',\n",
    "                     'num_var22_ult3',\n",
    "                     'saldo_medio_var5_hace2',\n",
    "                     'num_var45_ult1',\n",
    "                     'num_med_var45_ult3',\n",
    "                     'num_var22_hace3',\n",
    "                     'saldo_var42',\n",
    "                     'num_var22_hace2',\n",
    "                     'saldo_medio_var5_ult1',\n",
    "                     'saldo_var30',\n",
    "                     'saldo_var5',\n",
    "                     'num_meses_var5_ult3',\n",
    "                     'var36',\n",
    "                     'num_meses_var39_vig_ult3',\n",
    "                     'num_var22_ult1',\n",
    "                     'ind_var30',\n",
    "                     'num_med_var22_ult3',\n",
    "                     'num_var42',\n",
    "                     'imp_op_var39_ult1',\n",
    "                     'imp_op_var39_efect_ult3',\n",
    "                     'imp_ent_var16_ult1',\n",
    "                     'imp_op_var41_ult1',\n",
    "                     'var3',\n",
    "                     'imp_trans_var37_ult1',\n",
    "                     ]\n",
    "len(imporatnce_features)"
   ]
  },
  {
   "cell_type": "code",
   "execution_count": 22,
   "metadata": {
    "collapsed": true
   },
   "outputs": [],
   "source": [
    "RAND_STATE=7\n",
    "scoring = 'roc_auc'\n",
    "N_TREES = 500\n",
    "\n",
    "PARAM_GRID = {\n",
    "    'LR': {'C': [10**x for x in range(-8,5)],\n",
    "           'class_weight': ['balanced'],\n",
    "           'penalty':['l2'],\n",
    "           'solver' :['newton-cg', 'lbfgs', 'liblinear', 'sag'],\n",
    "           'random_state':[RAND_STATE,],\n",
    "    },\n",
    "    \n",
    "    'RFC': {\n",
    "        'n_jobs': [3],\n",
    "        'criterion':[\"gini\",\"entropy\"],\n",
    "        \"max_features\":[\"sqrt\",None],\n",
    "        \"max_depth\":[180,200,None],\n",
    "        \"n_estimators\":[500,1000],\n",
    "        \"min_samples_split\":[2,5,10],\n",
    "        \"class_weight\": ['balanced','balanced_subsample',None],\n",
    "        'random_state':[RAND_STATE,],\n",
    "    },\n",
    "    'DTC': {#DecisionTreeClassifier\n",
    "        \"criterion\":[\"gini\",\"entropy\"],\n",
    "        \"splitter\":[\"best\",\"random\"],\n",
    "        \"max_features\":[\"sqrt\",None],\n",
    "        \"max_depth\":[None,],\n",
    "        \"min_samples_split\":[2,5,9,12,15],\n",
    "        'class_weight': ['balanced',None],\n",
    "        \"presort\":[False],\n",
    "        'random_state':[RAND_STATE,],\n",
    "    },\n",
    "    'ExtraTreesClassifier': {'min_samples_leaf': [2, 3],\n",
    "                             'n_jobs': [5],\n",
    "                             'min_samples_split': [1, 2, 5],\n",
    "                             'bootstrap': [False],\n",
    "                             'max_depth': [15, 20, 25, 30],\n",
    "                             'max_features': [1, 3, 5, 8],\n",
    "                             'random_state':[RAND_STATE,],\n",
    "    },\n",
    "    'GBC': {'max_features': [4, 5, 6, 7, 8],\n",
    "            'learning_rate': [.05, .08, .1],\n",
    "            'max_depth': [8, 10, 13],\n",
    "            'random_state':[RAND_STATE,],\n",
    "    },\n",
    "    'SVC':{'C':[10**x for x in range(-7,4)],\n",
    "           'kernel':['linear', 'poly', 'rbf', 'sigmoid', 'precomputed'],\n",
    "           'gamma':['auto',0.5,0.7],\n",
    "           'degree':[2,3],\n",
    "           'class_weight': ['balanced',],\n",
    "           'probability':[True,],\n",
    "           'random_state':[RAND_STATE,],\n",
    "          },\n",
    "    'KNN':{ 'n_neighbors' : list({randint(1,500) for i in range(4)}),\n",
    "            'weights' : ['uniform','distance'],\n",
    "            'algorithm' : ['auto', 'ball_tree', 'kd_tree', 'brute'],\n",
    "            'leaf_size' : [20,30,40,60],\n",
    "            'metric' : ['minkowski',],\n",
    "            #'n_jobs' :[2,],\n",
    "            'p' : [1,2,7,10],\n",
    "          },\n",
    "    'NNC':{'solver' : ['lbfgs', 'sgd', 'adam'],\n",
    "           'hidden_layer_sizes':[1,2,4,8,32,128],\n",
    "           'activation':['identity', 'logistic', 'tanh', 'relu'],\n",
    "           'alpha':[0.0001,0.005],#L2 penalty (regularization term) parameter.\n",
    "           'batch_size':['auto'],#auto=min(200,n_samples)\n",
    "           'learning_rate': ['constant', 'invscaling', 'adaptive'],\n",
    "           #'momentu':[0,0.2,0.5,0.9], \n",
    "           'random_state':[RAND_STATE,],\n",
    "    },\n",
    "    'BAGC':{#BaggingClassifier\n",
    "        'base_estimator':[DecisionTreeClassifier(),linear_model.LogisticRegression(),KNeighborsClassifier(),SVC()],\n",
    "        'n_estimators':[5,10,20],\n",
    "        'max_samples':[0.8,1.0],\n",
    "        'max_features':[0.5,1.0],\n",
    "        'n_jobs':[1,],\n",
    "        'random_state':[RAND_STATE,],\n",
    "        \n",
    "    }\n",
    "}\n",
    "\n",
    "models= {\n",
    "    'LR': linear_model.LogisticRegression(),\n",
    "    'KNN': KNeighborsClassifier(),\n",
    "    #'GBC': ensemble.GradientBoostingClassifier(),\n",
    "    'RFC': ensemble.RandomForestClassifier(),\n",
    "    #'ExtraTreesClassifier': ensemble.ExtraTreesClassifier(),\n",
    "    'SVC':SVC(),\n",
    "    'NNC': neural_network.MLPClassifier(),\n",
    "    'DTC': DecisionTreeClassifier(),\n",
    "    'BAGC': ensemble.BaggingClassifier(),\n",
    "    \n",
    "}"
   ]
  },
  {
   "cell_type": "code",
   "execution_count": 23,
   "metadata": {
    "collapsed": true
   },
   "outputs": [],
   "source": [
    "\n",
    "def generer20Feature():\n",
    "    nb=len(imporatnce_features)\n",
    "    a=set()\n",
    "    while len(a)<=20:\n",
    "        a.add(randint(0,nb-1))\n",
    "    return list(a)"
   ]
  },
  {
   "cell_type": "code",
   "execution_count": 24,
   "metadata": {
    "collapsed": false
   },
   "outputs": [
    {
     "name": "stdout",
     "output_type": "stream",
     "text": [
      "[1, 2, 5, 8, 10, 11, 12, 14, 15, 16, 17, 18, 19, 20, 21, 22, 23, 24, 25, 27, 28]\n",
      "[0, 1, 3, 7, 8, 9, 10, 11, 12, 13, 15, 16, 18, 19, 20, 22, 23, 24, 25, 27, 29]\n",
      "[0, 1, 5, 6, 7, 10, 11, 12, 13, 15, 17, 18, 19, 20, 21, 22, 24, 25, 26, 28, 29]\n",
      "[0, 1, 5, 6, 7, 8, 10, 14, 16, 17, 18, 19, 20, 21, 22, 23, 24, 25, 26, 27, 28]\n",
      "[0, 1, 6, 8, 9, 10, 11, 12, 13, 14, 15, 16, 17, 19, 20, 22, 23, 25, 26, 27, 29]\n"
     ]
    }
   ],
   "source": [
    "#generation and stock the different combinaisons of features has a length 20 \n",
    "#X_train[(10,11,1,2,29)]\n",
    "for i in range(5):\n",
    "    print generer20Feature()"
   ]
  },
  {
   "cell_type": "code",
   "execution_count": 25,
   "metadata": {
    "collapsed": false,
    "scrolled": true
   },
   "outputs": [
    {
     "name": "stdout",
     "output_type": "stream",
     "text": [
      "{'max_features': 4, 'learning_rate': 0.05, 'random_state': 7, 'max_depth': 8}\n",
      "{'max_features': 4, 'learning_rate': 0.05, 'random_state': 7, 'max_depth': 10}\n",
      "{'max_features': 4, 'learning_rate': 0.05, 'random_state': 7, 'max_depth': 13}\n",
      "{'max_features': 4, 'learning_rate': 0.08, 'random_state': 7, 'max_depth': 8}\n",
      "{'max_features': 4, 'learning_rate': 0.08, 'random_state': 7, 'max_depth': 10}\n",
      "{'max_features': 4, 'learning_rate': 0.08, 'random_state': 7, 'max_depth': 13}\n",
      "{'max_features': 4, 'learning_rate': 0.1, 'random_state': 7, 'max_depth': 8}\n",
      "{'max_features': 4, 'learning_rate': 0.1, 'random_state': 7, 'max_depth': 10}\n",
      "{'max_features': 4, 'learning_rate': 0.1, 'random_state': 7, 'max_depth': 13}\n",
      "{'max_features': 5, 'learning_rate': 0.05, 'random_state': 7, 'max_depth': 8}\n",
      "{'max_features': 5, 'learning_rate': 0.05, 'random_state': 7, 'max_depth': 10}\n",
      "{'max_features': 5, 'learning_rate': 0.05, 'random_state': 7, 'max_depth': 13}\n",
      "{'max_features': 5, 'learning_rate': 0.08, 'random_state': 7, 'max_depth': 8}\n",
      "{'max_features': 5, 'learning_rate': 0.08, 'random_state': 7, 'max_depth': 10}\n",
      "{'max_features': 5, 'learning_rate': 0.08, 'random_state': 7, 'max_depth': 13}\n",
      "{'max_features': 5, 'learning_rate': 0.1, 'random_state': 7, 'max_depth': 8}\n",
      "{'max_features': 5, 'learning_rate': 0.1, 'random_state': 7, 'max_depth': 10}\n",
      "{'max_features': 5, 'learning_rate': 0.1, 'random_state': 7, 'max_depth': 13}\n",
      "{'max_features': 6, 'learning_rate': 0.05, 'random_state': 7, 'max_depth': 8}\n",
      "{'max_features': 6, 'learning_rate': 0.05, 'random_state': 7, 'max_depth': 10}\n",
      "{'max_features': 6, 'learning_rate': 0.05, 'random_state': 7, 'max_depth': 13}\n",
      "{'max_features': 6, 'learning_rate': 0.08, 'random_state': 7, 'max_depth': 8}\n",
      "{'max_features': 6, 'learning_rate': 0.08, 'random_state': 7, 'max_depth': 10}\n",
      "{'max_features': 6, 'learning_rate': 0.08, 'random_state': 7, 'max_depth': 13}\n",
      "{'max_features': 6, 'learning_rate': 0.1, 'random_state': 7, 'max_depth': 8}\n",
      "{'max_features': 6, 'learning_rate': 0.1, 'random_state': 7, 'max_depth': 10}\n",
      "{'max_features': 6, 'learning_rate': 0.1, 'random_state': 7, 'max_depth': 13}\n",
      "{'max_features': 7, 'learning_rate': 0.05, 'random_state': 7, 'max_depth': 8}\n",
      "{'max_features': 7, 'learning_rate': 0.05, 'random_state': 7, 'max_depth': 10}\n",
      "{'max_features': 7, 'learning_rate': 0.05, 'random_state': 7, 'max_depth': 13}\n",
      "{'max_features': 7, 'learning_rate': 0.08, 'random_state': 7, 'max_depth': 8}\n",
      "{'max_features': 7, 'learning_rate': 0.08, 'random_state': 7, 'max_depth': 10}\n",
      "{'max_features': 7, 'learning_rate': 0.08, 'random_state': 7, 'max_depth': 13}\n",
      "{'max_features': 7, 'learning_rate': 0.1, 'random_state': 7, 'max_depth': 8}\n",
      "{'max_features': 7, 'learning_rate': 0.1, 'random_state': 7, 'max_depth': 10}\n",
      "{'max_features': 7, 'learning_rate': 0.1, 'random_state': 7, 'max_depth': 13}\n",
      "{'max_features': 8, 'learning_rate': 0.05, 'random_state': 7, 'max_depth': 8}\n",
      "{'max_features': 8, 'learning_rate': 0.05, 'random_state': 7, 'max_depth': 10}\n",
      "{'max_features': 8, 'learning_rate': 0.05, 'random_state': 7, 'max_depth': 13}\n",
      "{'max_features': 8, 'learning_rate': 0.08, 'random_state': 7, 'max_depth': 8}\n",
      "{'max_features': 8, 'learning_rate': 0.08, 'random_state': 7, 'max_depth': 10}\n",
      "{'max_features': 8, 'learning_rate': 0.08, 'random_state': 7, 'max_depth': 13}\n",
      "{'max_features': 8, 'learning_rate': 0.1, 'random_state': 7, 'max_depth': 8}\n",
      "{'max_features': 8, 'learning_rate': 0.1, 'random_state': 7, 'max_depth': 10}\n",
      "{'max_features': 8, 'learning_rate': 0.1, 'random_state': 7, 'max_depth': 13}\n"
     ]
    }
   ],
   "source": [
    "def generatorParameters(algoName):\n",
    "    params=PARAM_GRID[algoName]\n",
    "    prms=dict()\n",
    "    ch=\"\"\"def genarator_parameters(nameAlgo):\n",
    "    params=PARAM_GRID[nameAlgo]\n",
    "    prms=dict()\n",
    "    \n",
    "    \"\"\"\n",
    "    i=0\n",
    "    for key,val in params.items():\n",
    "        ch+='\\t'*i\n",
    "        ch+=\"\"\"for \"\"\"+key+\"\"\" in params['\"\"\"+key+\"\"\"']:\n",
    "        \"\"\"+('\\t'*(i+1))+\"\"\"prms['\"\"\"+key+\"\"\"']=\"\"\"+key+\"\"\"\n",
    "            \"\"\"\n",
    "        i+=1\n",
    "    ch+='\\t'*i\n",
    "    ch+=\"\"\"yield prms\n",
    "    \"\"\"\n",
    "    ch+='\\t'*(i+1)\n",
    "    #ch+=\"\"\"prms=dict()\"\"\"\n",
    "    exec(ch)\n",
    "    return genarator_parameters(algoName)\n",
    "    \n",
    "for pr in generatorParameters('GBC'):\n",
    "    print pr\n",
    "        \n",
    " "
   ]
  },
  {
   "cell_type": "code",
   "execution_count": 31,
   "metadata": {
    "collapsed": false
   },
   "outputs": [],
   "source": [
    "def execAlgo(ALGO,set_features,parameters,file_json,i,prefix_id=\"\",score_seuil=0.5):\n",
    "    try:\n",
    "        ALGO.set_params(**parameters)\n",
    "        ALGO.fit(X_train[set_features],Y_train)\n",
    "        ALGO_preds = ALGO.predict_proba(X_valid[set_features])[:, 1]\n",
    "        fpr,tpr,ll=metrics.roc_curve(Y_valid, ALGO_preds)\n",
    "        score=metrics.auc(fpr, tpr)\n",
    "        #print score,\":\",set_features\n",
    "        if score>=score_seuil:#si >=score_seuil on stock\n",
    "            idd=prefix_id+\"_\"+str(i)\n",
    "            obj_json=dict()\n",
    "            obj_json[\"id\"]=idd\n",
    "            obj_json[\"score\"]=score\n",
    "            obj_json[\"params\"]=parameters\n",
    "            obj_json[\"features\"]=set_features\n",
    "            obj_json[\"valid\"]=ALGO.predict(X_valid[set_features]).tolist()\n",
    "            obj_json[\"hold\"]=ALGO.predict(X_hold[set_features]).tolist()\n",
    "            obj_json[\"test\"]=ALGO.predict(TestData[set_features]).tolist()\n",
    "            json.dump(obj=obj_json,fp=file_json,indent=5)\n",
    "            file_json.flush()\n",
    "            i+=1#rise the number of classifier\n",
    "    except Exception as e:\n",
    "        print e\n",
    "    return i,score#return the next position of next classifier, and score"
   ]
  },
  {
   "cell_type": "code",
   "execution_count": 34,
   "metadata": {
    "collapsed": true
   },
   "outputs": [],
   "source": [
    "def run_stock_for_algo(model_name):\n",
    "    with open(\"results/\"+model_name+\".amh\",\"w\") as dtOut:#results file\n",
    "        seuil_score=0.6\n",
    "        #obj_json=dict()\n",
    "        i,min_score,max_score=1,1,0\n",
    "        ALGO=models[model_name]\n",
    "        all_features=list(range(len(imporatnce_features)))\n",
    "        for parameters in generatorParameters(model_name):\n",
    "            j=i\n",
    "            set_features=generer20Feature()\n",
    "            i,score=execAlgo(ALGO,all_features,parameters,dtOut,i,model_name,seuil_score)\n",
    "            min_score=score if score<min_score and i>j else min_score\n",
    "            max_score=score if score>max_score and i>j else max_score\n",
    "            j=i\n",
    "            i,score=execAlgo(ALGO,set_features,parameters,dtOut,i,model_name,seuil_score)\n",
    "            min_score=score if score<min_score and i>j else min_score\n",
    "            max_score=score if score>max_score and i>j else max_score\n",
    "        #json.dump(obj=obj_json,fp=dtOut,indent=5)\n",
    "        dtOut.flush()\n",
    "        print i-1, \"Classifier :\"+model_name,\"  with the scores between:\",min_score,\"and \",max_score"
   ]
  },
  {
   "cell_type": "code",
   "execution_count": 13,
   "metadata": {
    "collapsed": false
   },
   "outputs": [
    {
     "name": "stdout",
     "output_type": "stream",
     "text": [
      "102 Classifier :DTC   with the scores between: 0.600081278444 and  0.68998302048\n"
     ]
    }
   ],
   "source": [
    "#---------------DecisionTreeClassifier--------#DONE\n",
    "model_name=\"DTC\"\n",
    "run_stock_for_algo(model_name)"
   ]
  },
  {
   "cell_type": "code",
   "execution_count": 19,
   "metadata": {
    "collapsed": false
   },
   "outputs": [
    {
     "name": "stdout",
     "output_type": "stream",
     "text": [
      "104 Classifier :LR   with the scores between: 0.63680641341 and  0.76521583482\n"
     ]
    }
   ],
   "source": [
    "#---------------LogisticRegression--------#DONE\n",
    "model_name=\"LR\"\n",
    "run_stock_for_algo(model_name)"
   ]
  },
  {
   "cell_type": "code",
   "execution_count": null,
   "metadata": {
    "collapsed": false,
    "scrolled": true
   },
   "outputs": [
    {
     "name": "stdout",
     "output_type": "stream",
     "text": [
      "\n",
      "\n",
      "\n",
      "\n",
      "\n",
      "\n",
      "\n",
      "\n",
      "\n",
      "\n",
      "\n",
      "\n",
      "\n",
      "\n",
      "\n",
      "\n",
      "\n",
      "\n",
      "\n",
      "\n",
      "\n",
      "\n",
      "\n",
      "\n",
      "\n",
      "\n",
      "\n",
      "\n",
      "\n",
      "\n",
      "\n",
      "\n",
      "\n",
      "\n",
      "\n",
      "\n",
      "\n",
      "\n",
      "\n",
      "\n",
      "\n",
      "\n",
      "\n",
      "\n",
      "\n",
      "\n",
      "\n",
      "\n",
      "\n",
      "\n",
      "\n",
      "\n",
      "\n",
      "\n",
      "\n",
      "\n",
      "\n",
      "\n",
      "\n",
      "\n",
      "\n",
      "\n",
      "\n",
      "\n",
      "\n",
      "\n",
      "\n",
      "\n",
      "\n",
      "\n",
      "\n",
      "\n",
      "\n",
      "\n",
      "\n",
      "\n",
      "\n",
      "\n",
      "\n",
      "\n",
      "\n",
      "\n",
      "\n",
      "\n",
      "\n",
      "\n",
      "\n",
      "\n",
      "\n",
      "\n",
      "\n",
      "\n",
      "\n",
      "\n",
      "\n",
      "\n",
      "\n",
      "\n",
      "\n"
     ]
    }
   ],
   "source": [
    "#---------------KNeighborsClassifier--------# HP-Prof Pc #\n",
    "model_name=\"KNN\"\n",
    "run_stock_for_algo(model_name)"
   ]
  },
  {
   "cell_type": "code",
   "execution_count": null,
   "metadata": {
    "collapsed": true
   },
   "outputs": [],
   "source": [
    "# ---------------RandomForestClassifier--------#\n",
    "model_name=\"RFC\"\n",
    "run_stock_for_algo(model_name)"
   ]
  },
  {
   "cell_type": "code",
   "execution_count": 12,
   "metadata": {
    "collapsed": false
   },
   "outputs": [
    {
     "name": "stderr",
     "output_type": "stream",
     "text": [
      "C:\\Anaconda2\\lib\\site-packages\\sklearn\\neural_network\\_stochastic_optimizers.py:174: RuntimeWarning: invalid value encountered in subtract\n",
      "  for velocity, grad in zip(self.velocities, grads)]\n",
      "C:\\Anaconda2\\lib\\site-packages\\sklearn\\neural_network\\multilayer_perceptron.py:563: ConvergenceWarning: Stochastic Optimizer: Maximum iterations reached and the optimization hasn't converged yet.\n",
      "  % (), ConvergenceWarning)\n"
     ]
    },
    {
     "ename": "ValueError",
     "evalue": "Input contains NaN, infinity or a value too large for dtype('float64').",
     "output_type": "error",
     "traceback": [
      "\u001b[1;31m---------------------------------------------------------------------------\u001b[0m",
      "\u001b[1;31mValueError\u001b[0m                                Traceback (most recent call last)",
      "\u001b[1;32m<ipython-input-12-98f91a0455a7>\u001b[0m in \u001b[0;36m<module>\u001b[1;34m()\u001b[0m\n\u001b[0;32m      1\u001b[0m \u001b[1;31m# ---------------neural_network.MLPClassifier--------#\u001b[0m\u001b[1;33m\u001b[0m\u001b[1;33m\u001b[0m\u001b[0m\n\u001b[0;32m      2\u001b[0m \u001b[0mmodel_name\u001b[0m\u001b[1;33m=\u001b[0m\u001b[1;34m\"NNC\"\u001b[0m\u001b[1;33m\u001b[0m\u001b[0m\n\u001b[1;32m----> 3\u001b[1;33m \u001b[0mrun_stock_for_algo\u001b[0m\u001b[1;33m(\u001b[0m\u001b[0mmodel_name\u001b[0m\u001b[1;33m)\u001b[0m\u001b[1;33m\u001b[0m\u001b[0m\n\u001b[0m",
      "\u001b[1;32m<ipython-input-11-a8a8a5c364c7>\u001b[0m in \u001b[0;36mrun_stock_for_algo\u001b[1;34m(model_name)\u001b[0m\n\u001b[0;32m      9\u001b[0m             \u001b[0mj\u001b[0m\u001b[1;33m=\u001b[0m\u001b[0mi\u001b[0m\u001b[1;33m\u001b[0m\u001b[0m\n\u001b[0;32m     10\u001b[0m             \u001b[0mset_features\u001b[0m\u001b[1;33m=\u001b[0m\u001b[0mgenerer20Feature\u001b[0m\u001b[1;33m(\u001b[0m\u001b[1;33m)\u001b[0m\u001b[1;33m\u001b[0m\u001b[0m\n\u001b[1;32m---> 11\u001b[1;33m             \u001b[0mi\u001b[0m\u001b[1;33m,\u001b[0m\u001b[0mscore\u001b[0m\u001b[1;33m=\u001b[0m\u001b[0mexecAlgo\u001b[0m\u001b[1;33m(\u001b[0m\u001b[0mALGO\u001b[0m\u001b[1;33m,\u001b[0m\u001b[0mall_features\u001b[0m\u001b[1;33m,\u001b[0m\u001b[0mparameters\u001b[0m\u001b[1;33m,\u001b[0m\u001b[0mobj_json\u001b[0m\u001b[1;33m,\u001b[0m\u001b[0mi\u001b[0m\u001b[1;33m,\u001b[0m\u001b[0mmodel_name\u001b[0m\u001b[1;33m,\u001b[0m\u001b[0mseuil_score\u001b[0m\u001b[1;33m)\u001b[0m\u001b[1;33m\u001b[0m\u001b[0m\n\u001b[0m\u001b[0;32m     12\u001b[0m             \u001b[0mmin_score\u001b[0m\u001b[1;33m=\u001b[0m\u001b[0mscore\u001b[0m \u001b[1;32mif\u001b[0m \u001b[0mscore\u001b[0m\u001b[1;33m<\u001b[0m\u001b[0mmin_score\u001b[0m \u001b[1;32mand\u001b[0m \u001b[0mi\u001b[0m\u001b[1;33m>\u001b[0m\u001b[0mj\u001b[0m \u001b[1;32melse\u001b[0m \u001b[0mmin_score\u001b[0m\u001b[1;33m\u001b[0m\u001b[0m\n\u001b[0;32m     13\u001b[0m             \u001b[0mmax_score\u001b[0m\u001b[1;33m=\u001b[0m\u001b[0mscore\u001b[0m \u001b[1;32mif\u001b[0m \u001b[0mscore\u001b[0m\u001b[1;33m>\u001b[0m\u001b[0mmax_score\u001b[0m \u001b[1;32mand\u001b[0m \u001b[0mi\u001b[0m\u001b[1;33m>\u001b[0m\u001b[0mj\u001b[0m \u001b[1;32melse\u001b[0m \u001b[0mmax_score\u001b[0m\u001b[1;33m\u001b[0m\u001b[0m\n",
      "\u001b[1;32m<ipython-input-10-9eb4a3fa3adf>\u001b[0m in \u001b[0;36mexecAlgo\u001b[1;34m(ALGO, set_features, parameters, obj_json, i, prefix_id, score_seuil)\u001b[0m\n\u001b[0;32m      3\u001b[0m     \u001b[0mALGO\u001b[0m\u001b[1;33m.\u001b[0m\u001b[0mfit\u001b[0m\u001b[1;33m(\u001b[0m\u001b[0mX_train\u001b[0m\u001b[1;33m[\u001b[0m\u001b[0mset_features\u001b[0m\u001b[1;33m]\u001b[0m\u001b[1;33m,\u001b[0m\u001b[0mY_train\u001b[0m\u001b[1;33m)\u001b[0m\u001b[1;33m\u001b[0m\u001b[0m\n\u001b[0;32m      4\u001b[0m     \u001b[0mALGO_preds\u001b[0m \u001b[1;33m=\u001b[0m \u001b[0mALGO\u001b[0m\u001b[1;33m.\u001b[0m\u001b[0mpredict_proba\u001b[0m\u001b[1;33m(\u001b[0m\u001b[0mX_valid\u001b[0m\u001b[1;33m[\u001b[0m\u001b[0mset_features\u001b[0m\u001b[1;33m]\u001b[0m\u001b[1;33m)\u001b[0m\u001b[1;33m[\u001b[0m\u001b[1;33m:\u001b[0m\u001b[1;33m,\u001b[0m \u001b[1;36m1\u001b[0m\u001b[1;33m]\u001b[0m\u001b[1;33m\u001b[0m\u001b[0m\n\u001b[1;32m----> 5\u001b[1;33m     \u001b[0mfpr\u001b[0m\u001b[1;33m,\u001b[0m\u001b[0mtpr\u001b[0m\u001b[1;33m,\u001b[0m\u001b[0mll\u001b[0m\u001b[1;33m=\u001b[0m\u001b[0mmetrics\u001b[0m\u001b[1;33m.\u001b[0m\u001b[0mroc_curve\u001b[0m\u001b[1;33m(\u001b[0m\u001b[0mY_valid\u001b[0m\u001b[1;33m,\u001b[0m \u001b[0mALGO_preds\u001b[0m\u001b[1;33m)\u001b[0m\u001b[1;33m\u001b[0m\u001b[0m\n\u001b[0m\u001b[0;32m      6\u001b[0m     \u001b[0mscore\u001b[0m\u001b[1;33m=\u001b[0m\u001b[0mmetrics\u001b[0m\u001b[1;33m.\u001b[0m\u001b[0mauc\u001b[0m\u001b[1;33m(\u001b[0m\u001b[0mfpr\u001b[0m\u001b[1;33m,\u001b[0m \u001b[0mtpr\u001b[0m\u001b[1;33m)\u001b[0m\u001b[1;33m\u001b[0m\u001b[0m\n\u001b[0;32m      7\u001b[0m     \u001b[1;31m#print score,\":\",set_features\u001b[0m\u001b[1;33m\u001b[0m\u001b[1;33m\u001b[0m\u001b[0m\n",
      "\u001b[1;32mC:\\Anaconda2\\lib\\site-packages\\sklearn\\metrics\\ranking.pyc\u001b[0m in \u001b[0;36mroc_curve\u001b[1;34m(y_true, y_score, pos_label, sample_weight, drop_intermediate)\u001b[0m\n\u001b[0;32m    503\u001b[0m     \"\"\"\n\u001b[0;32m    504\u001b[0m     fps, tps, thresholds = _binary_clf_curve(\n\u001b[1;32m--> 505\u001b[1;33m         y_true, y_score, pos_label=pos_label, sample_weight=sample_weight)\n\u001b[0m\u001b[0;32m    506\u001b[0m \u001b[1;33m\u001b[0m\u001b[0m\n\u001b[0;32m    507\u001b[0m     \u001b[1;31m# Attempt to drop thresholds corresponding to points in between and\u001b[0m\u001b[1;33m\u001b[0m\u001b[1;33m\u001b[0m\u001b[0m\n",
      "\u001b[1;32mC:\\Anaconda2\\lib\\site-packages\\sklearn\\metrics\\ranking.pyc\u001b[0m in \u001b[0;36m_binary_clf_curve\u001b[1;34m(y_true, y_score, pos_label, sample_weight)\u001b[0m\n\u001b[0;32m    299\u001b[0m     \u001b[0my_score\u001b[0m \u001b[1;33m=\u001b[0m \u001b[0mcolumn_or_1d\u001b[0m\u001b[1;33m(\u001b[0m\u001b[0my_score\u001b[0m\u001b[1;33m)\u001b[0m\u001b[1;33m\u001b[0m\u001b[0m\n\u001b[0;32m    300\u001b[0m     \u001b[0massert_all_finite\u001b[0m\u001b[1;33m(\u001b[0m\u001b[0my_true\u001b[0m\u001b[1;33m)\u001b[0m\u001b[1;33m\u001b[0m\u001b[0m\n\u001b[1;32m--> 301\u001b[1;33m     \u001b[0massert_all_finite\u001b[0m\u001b[1;33m(\u001b[0m\u001b[0my_score\u001b[0m\u001b[1;33m)\u001b[0m\u001b[1;33m\u001b[0m\u001b[0m\n\u001b[0m\u001b[0;32m    302\u001b[0m \u001b[1;33m\u001b[0m\u001b[0m\n\u001b[0;32m    303\u001b[0m     \u001b[1;32mif\u001b[0m \u001b[0msample_weight\u001b[0m \u001b[1;32mis\u001b[0m \u001b[1;32mnot\u001b[0m \u001b[0mNone\u001b[0m\u001b[1;33m:\u001b[0m\u001b[1;33m\u001b[0m\u001b[0m\n",
      "\u001b[1;32mC:\\Anaconda2\\lib\\site-packages\\sklearn\\utils\\validation.pyc\u001b[0m in \u001b[0;36massert_all_finite\u001b[1;34m(X)\u001b[0m\n\u001b[0;32m     63\u001b[0m \u001b[1;33m\u001b[0m\u001b[0m\n\u001b[0;32m     64\u001b[0m     Input MUST be an np.ndarray instance or a scipy.sparse matrix.\"\"\"\n\u001b[1;32m---> 65\u001b[1;33m     \u001b[0m_assert_all_finite\u001b[0m\u001b[1;33m(\u001b[0m\u001b[0mX\u001b[0m\u001b[1;33m.\u001b[0m\u001b[0mdata\u001b[0m \u001b[1;32mif\u001b[0m \u001b[0msp\u001b[0m\u001b[1;33m.\u001b[0m\u001b[0missparse\u001b[0m\u001b[1;33m(\u001b[0m\u001b[0mX\u001b[0m\u001b[1;33m)\u001b[0m \u001b[1;32melse\u001b[0m \u001b[0mX\u001b[0m\u001b[1;33m)\u001b[0m\u001b[1;33m\u001b[0m\u001b[0m\n\u001b[0m\u001b[0;32m     66\u001b[0m \u001b[1;33m\u001b[0m\u001b[0m\n\u001b[0;32m     67\u001b[0m \u001b[1;33m\u001b[0m\u001b[0m\n",
      "\u001b[1;32mC:\\Anaconda2\\lib\\site-packages\\sklearn\\utils\\validation.pyc\u001b[0m in \u001b[0;36m_assert_all_finite\u001b[1;34m(X)\u001b[0m\n\u001b[0;32m     56\u001b[0m             and not np.isfinite(X).all()):\n\u001b[0;32m     57\u001b[0m         raise ValueError(\"Input contains NaN, infinity\"\n\u001b[1;32m---> 58\u001b[1;33m                          \" or a value too large for %r.\" % X.dtype)\n\u001b[0m\u001b[0;32m     59\u001b[0m \u001b[1;33m\u001b[0m\u001b[0m\n\u001b[0;32m     60\u001b[0m \u001b[1;33m\u001b[0m\u001b[0m\n",
      "\u001b[1;31mValueError\u001b[0m: Input contains NaN, infinity or a value too large for dtype('float64')."
     ]
    }
   ],
   "source": [
    "# ---------------neural_network.MLPClassifier--------#\n",
    "model_name=\"NNC\"\n",
    "run_stock_for_algo(model_name)"
   ]
  },
  {
   "cell_type": "code",
   "execution_count": null,
   "metadata": {
    "collapsed": true
   },
   "outputs": [],
   "source": [
    "# ---------------BaggingClassifier--------#\n",
    "model_name=\"BAGC\"\n",
    "run_stock_for_algo(model_name)"
   ]
  },
  {
   "cell_type": "code",
   "execution_count": null,
   "metadata": {
    "collapsed": true
   },
   "outputs": [],
   "source": [
    "# ---------------SVC--------#\n",
    "model_name=\"SVC\"\n",
    "run_stock_for_algo(model_name)"
   ]
  },
  {
   "cell_type": "code",
   "execution_count": 15,
   "metadata": {
    "collapsed": false
   },
   "outputs": [
    {
     "data": {
      "text/plain": [
       "[1e-08, 1e-07, 1e-06, 1e-05, 0.0001, 0.001, 0.01, 0.1, 1, 10, 100, 1000, 10000]"
      ]
     },
     "execution_count": 15,
     "metadata": {},
     "output_type": "execute_result"
    }
   ],
   "source": [
    "[10**x for x in range(-8,5)]"
   ]
  },
  {
   "cell_type": "code",
   "execution_count": 15,
   "metadata": {
    "collapsed": false
   },
   "outputs": [
    {
     "name": "stdout",
     "output_type": "stream",
     "text": [
      "                         var38 , Nan in Train: 0 0  | in Test:"
     ]
    },
    {
     "ename": "NameError",
     "evalue": "name 'X_test' is not defined",
     "output_type": "error",
     "traceback": [
      "\u001b[1;31m---------------------------------------------------------------------------\u001b[0m",
      "\u001b[1;31mNameError\u001b[0m                                 Traceback (most recent call last)",
      "\u001b[1;32m<ipython-input-15-a014f4fbafa2>\u001b[0m in \u001b[0;36m<module>\u001b[1;34m()\u001b[0m\n\u001b[0;32m      1\u001b[0m \u001b[1;32mfor\u001b[0m \u001b[0mcol\u001b[0m \u001b[1;32min\u001b[0m \u001b[0mX_train\u001b[0m\u001b[1;33m.\u001b[0m\u001b[0mcolumns\u001b[0m\u001b[1;33m.\u001b[0m\u001b[0mvalues\u001b[0m\u001b[1;33m:\u001b[0m\u001b[1;33m\u001b[0m\u001b[0m\n\u001b[1;32m----> 2\u001b[1;33m     \u001b[1;32mprint\u001b[0m \u001b[1;34m\"%30s\"\u001b[0m\u001b[1;33m%\u001b[0m\u001b[0mcol\u001b[0m\u001b[1;33m,\u001b[0m\u001b[1;34m\", Nan in Train:\"\u001b[0m\u001b[1;33m,\u001b[0m\u001b[0msum\u001b[0m\u001b[1;33m(\u001b[0m\u001b[0mX_train\u001b[0m\u001b[1;33m[\u001b[0m\u001b[0mcol\u001b[0m\u001b[1;33m]\u001b[0m\u001b[1;33m.\u001b[0m\u001b[0misnull\u001b[0m\u001b[1;33m(\u001b[0m\u001b[1;33m)\u001b[0m\u001b[1;33m)\u001b[0m\u001b[1;33m,\u001b[0m\u001b[0mlen\u001b[0m\u001b[1;33m(\u001b[0m\u001b[0mX_train\u001b[0m\u001b[1;33m[\u001b[0m\u001b[0mX_train\u001b[0m\u001b[1;33m[\u001b[0m\u001b[0mcol\u001b[0m\u001b[1;33m]\u001b[0m\u001b[1;33m==\u001b[0m\u001b[1;36m9999999999\u001b[0m\u001b[1;33m]\u001b[0m\u001b[1;33m)\u001b[0m\u001b[1;33m,\u001b[0m\u001b[1;34m\" | in Test:\"\u001b[0m\u001b[1;33m,\u001b[0m    \u001b[0msum\u001b[0m\u001b[1;33m(\u001b[0m\u001b[0mX_test\u001b[0m\u001b[1;33m[\u001b[0m\u001b[0mcol\u001b[0m\u001b[1;33m]\u001b[0m\u001b[1;33m.\u001b[0m\u001b[0misnull\u001b[0m\u001b[1;33m(\u001b[0m\u001b[1;33m)\u001b[0m\u001b[1;33m)\u001b[0m\u001b[1;33m,\u001b[0m\u001b[0mlen\u001b[0m\u001b[1;33m(\u001b[0m\u001b[0mX_test\u001b[0m\u001b[1;33m[\u001b[0m\u001b[0mX_valid\u001b[0m\u001b[1;33m[\u001b[0m\u001b[0mcol\u001b[0m\u001b[1;33m]\u001b[0m\u001b[1;33m==\u001b[0m\u001b[1;36m9999999999\u001b[0m\u001b[1;33m]\u001b[0m\u001b[1;33m)\u001b[0m\u001b[1;33m\u001b[0m\u001b[0m\n\u001b[0m",
      "\u001b[1;31mNameError\u001b[0m: name 'X_test' is not defined"
     ]
    }
   ],
   "source": [
    "for col in X_train.columns.values:\n",
    "    print \"%30s\"%col,\", Nan in Train:\",sum(X_train[col].isnull()),len(X_train[X_train[col]==9999999999]),\" | in Test:\",\\\n",
    "    sum(X_test[col].isnull()),len(X_test[X_valid[col]==9999999999])"
   ]
  }
 ],
 "metadata": {
  "kernelspec": {
   "display_name": "Python 2",
   "language": "python",
   "name": "python2"
  },
  "language_info": {
   "codemirror_mode": {
    "name": "ipython",
    "version": 2
   },
   "file_extension": ".py",
   "mimetype": "text/x-python",
   "name": "python",
   "nbconvert_exporter": "python",
   "pygments_lexer": "ipython2",
   "version": "2.7.12"
  }
 },
 "nbformat": 4,
 "nbformat_minor": 0
}
