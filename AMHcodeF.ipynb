{
 "cells": [
  {
   "cell_type": "code",
   "execution_count": 1,
   "metadata": {
    "collapsed": false
   },
   "outputs": [
    {
     "name": "stderr",
     "output_type": "stream",
     "text": [
      "C:\\Anaconda2\\lib\\site-packages\\sklearn\\cross_validation.py:44: DeprecationWarning: This module was deprecated in version 0.18 in favor of the model_selection module into which all the refactored classes and functions are moved. Also note that the interface of the new CV iterators are different from that of this module. This module will be removed in 0.20.\n",
      "  \"This module will be removed in 0.20.\", DeprecationWarning)\n",
      "C:\\Anaconda2\\lib\\site-packages\\sklearn\\grid_search.py:43: DeprecationWarning: This module was deprecated in version 0.18 in favor of the model_selection module into which all the refactored classes and functions are moved. This module will be removed in 0.20.\n",
      "  DeprecationWarning)\n"
     ]
    }
   ],
   "source": [
    "# Load libraries\n",
    "import pandas as pd\n",
    "import numpy as np\n",
    "from pandas.tools.plotting import scatter_matrix\n",
    "import matplotlib.pyplot as plt\n",
    "#import seaborn as sb\n",
    "\n",
    "\n",
    "\n",
    "from sklearn import metrics, cross_validation, linear_model, ensemble\n",
    "from sklearn.neighbors import KNeighborsClassifier\n",
    "from sklearn.discriminant_analysis import LinearDiscriminantAnalysis\n",
    "from sklearn.naive_bayes import GaussianNB\n",
    "from sklearn.svm import SVC\n",
    "from sklearn import neural_network\n",
    "from sklearn.grid_search import GridSearchCV\n",
    "from sklearn.cross_validation import StratifiedKFold\n",
    "from sklearn.tree import DecisionTreeClassifier\n",
    "%matplotlib inline\n",
    "#afficher les graphique ici dans le navigateur\n",
    "\n",
    "import json\n",
    "import codecs\n",
    "from random import randint\n",
    "from IPython.display import Image"
   ]
  },
  {
   "cell_type": "code",
   "execution_count": 10,
   "metadata": {
    "collapsed": false
   },
   "outputs": [],
   "source": [
    "dataProject_origine = pd.read_csv('train.csv')"
   ]
  },
  {
   "cell_type": "code",
   "execution_count": 2,
   "metadata": {
    "collapsed": true
   },
   "outputs": [],
   "source": [
    "dataProject_test = pd.read_csv('test.csv')"
   ]
  },
  {
   "cell_type": "code",
   "execution_count": 5,
   "metadata": {
    "collapsed": false
   },
   "outputs": [
    {
     "data": {
      "text/html": [
       "<div>\n",
       "<table border=\"1\" class=\"dataframe\">\n",
       "  <thead>\n",
       "    <tr style=\"text-align: right;\">\n",
       "      <th></th>\n",
       "      <th>ID</th>\n",
       "      <th>var3</th>\n",
       "      <th>var15</th>\n",
       "      <th>imp_ent_var16_ult1</th>\n",
       "      <th>imp_op_var39_comer_ult1</th>\n",
       "      <th>imp_op_var39_comer_ult3</th>\n",
       "      <th>imp_op_var40_comer_ult1</th>\n",
       "      <th>imp_op_var40_comer_ult3</th>\n",
       "      <th>imp_op_var40_efect_ult1</th>\n",
       "      <th>imp_op_var40_efect_ult3</th>\n",
       "      <th>...</th>\n",
       "      <th>saldo_medio_var33_hace2</th>\n",
       "      <th>saldo_medio_var33_hace3</th>\n",
       "      <th>saldo_medio_var33_ult1</th>\n",
       "      <th>saldo_medio_var33_ult3</th>\n",
       "      <th>saldo_medio_var44_hace2</th>\n",
       "      <th>saldo_medio_var44_hace3</th>\n",
       "      <th>saldo_medio_var44_ult1</th>\n",
       "      <th>saldo_medio_var44_ult3</th>\n",
       "      <th>var38</th>\n",
       "      <th>TARGET</th>\n",
       "    </tr>\n",
       "  </thead>\n",
       "  <tbody>\n",
       "    <tr>\n",
       "      <th>0</th>\n",
       "      <td>1</td>\n",
       "      <td>2</td>\n",
       "      <td>23</td>\n",
       "      <td>0.0</td>\n",
       "      <td>0.0</td>\n",
       "      <td>0.0</td>\n",
       "      <td>0.0</td>\n",
       "      <td>0.0</td>\n",
       "      <td>0.0</td>\n",
       "      <td>0.0</td>\n",
       "      <td>...</td>\n",
       "      <td>0.0</td>\n",
       "      <td>0.0</td>\n",
       "      <td>0.0</td>\n",
       "      <td>0.0</td>\n",
       "      <td>0.0</td>\n",
       "      <td>0.0</td>\n",
       "      <td>0.0</td>\n",
       "      <td>0.0</td>\n",
       "      <td>39205.170000</td>\n",
       "      <td>0</td>\n",
       "    </tr>\n",
       "    <tr>\n",
       "      <th>1</th>\n",
       "      <td>3</td>\n",
       "      <td>2</td>\n",
       "      <td>34</td>\n",
       "      <td>0.0</td>\n",
       "      <td>0.0</td>\n",
       "      <td>0.0</td>\n",
       "      <td>0.0</td>\n",
       "      <td>0.0</td>\n",
       "      <td>0.0</td>\n",
       "      <td>0.0</td>\n",
       "      <td>...</td>\n",
       "      <td>0.0</td>\n",
       "      <td>0.0</td>\n",
       "      <td>0.0</td>\n",
       "      <td>0.0</td>\n",
       "      <td>0.0</td>\n",
       "      <td>0.0</td>\n",
       "      <td>0.0</td>\n",
       "      <td>0.0</td>\n",
       "      <td>49278.030000</td>\n",
       "      <td>0</td>\n",
       "    </tr>\n",
       "    <tr>\n",
       "      <th>2</th>\n",
       "      <td>4</td>\n",
       "      <td>2</td>\n",
       "      <td>23</td>\n",
       "      <td>0.0</td>\n",
       "      <td>0.0</td>\n",
       "      <td>0.0</td>\n",
       "      <td>0.0</td>\n",
       "      <td>0.0</td>\n",
       "      <td>0.0</td>\n",
       "      <td>0.0</td>\n",
       "      <td>...</td>\n",
       "      <td>0.0</td>\n",
       "      <td>0.0</td>\n",
       "      <td>0.0</td>\n",
       "      <td>0.0</td>\n",
       "      <td>0.0</td>\n",
       "      <td>0.0</td>\n",
       "      <td>0.0</td>\n",
       "      <td>0.0</td>\n",
       "      <td>67333.770000</td>\n",
       "      <td>0</td>\n",
       "    </tr>\n",
       "    <tr>\n",
       "      <th>3</th>\n",
       "      <td>8</td>\n",
       "      <td>2</td>\n",
       "      <td>37</td>\n",
       "      <td>0.0</td>\n",
       "      <td>195.0</td>\n",
       "      <td>195.0</td>\n",
       "      <td>0.0</td>\n",
       "      <td>0.0</td>\n",
       "      <td>0.0</td>\n",
       "      <td>0.0</td>\n",
       "      <td>...</td>\n",
       "      <td>0.0</td>\n",
       "      <td>0.0</td>\n",
       "      <td>0.0</td>\n",
       "      <td>0.0</td>\n",
       "      <td>0.0</td>\n",
       "      <td>0.0</td>\n",
       "      <td>0.0</td>\n",
       "      <td>0.0</td>\n",
       "      <td>64007.970000</td>\n",
       "      <td>0</td>\n",
       "    </tr>\n",
       "    <tr>\n",
       "      <th>4</th>\n",
       "      <td>10</td>\n",
       "      <td>2</td>\n",
       "      <td>39</td>\n",
       "      <td>0.0</td>\n",
       "      <td>0.0</td>\n",
       "      <td>0.0</td>\n",
       "      <td>0.0</td>\n",
       "      <td>0.0</td>\n",
       "      <td>0.0</td>\n",
       "      <td>0.0</td>\n",
       "      <td>...</td>\n",
       "      <td>0.0</td>\n",
       "      <td>0.0</td>\n",
       "      <td>0.0</td>\n",
       "      <td>0.0</td>\n",
       "      <td>0.0</td>\n",
       "      <td>0.0</td>\n",
       "      <td>0.0</td>\n",
       "      <td>0.0</td>\n",
       "      <td>117310.979016</td>\n",
       "      <td>0</td>\n",
       "    </tr>\n",
       "  </tbody>\n",
       "</table>\n",
       "<p>5 rows × 371 columns</p>\n",
       "</div>"
      ],
      "text/plain": [
       "   ID  var3  var15  imp_ent_var16_ult1  imp_op_var39_comer_ult1  \\\n",
       "0   1     2     23                 0.0                      0.0   \n",
       "1   3     2     34                 0.0                      0.0   \n",
       "2   4     2     23                 0.0                      0.0   \n",
       "3   8     2     37                 0.0                    195.0   \n",
       "4  10     2     39                 0.0                      0.0   \n",
       "\n",
       "   imp_op_var39_comer_ult3  imp_op_var40_comer_ult1  imp_op_var40_comer_ult3  \\\n",
       "0                      0.0                      0.0                      0.0   \n",
       "1                      0.0                      0.0                      0.0   \n",
       "2                      0.0                      0.0                      0.0   \n",
       "3                    195.0                      0.0                      0.0   \n",
       "4                      0.0                      0.0                      0.0   \n",
       "\n",
       "   imp_op_var40_efect_ult1  imp_op_var40_efect_ult3   ...    \\\n",
       "0                      0.0                      0.0   ...     \n",
       "1                      0.0                      0.0   ...     \n",
       "2                      0.0                      0.0   ...     \n",
       "3                      0.0                      0.0   ...     \n",
       "4                      0.0                      0.0   ...     \n",
       "\n",
       "   saldo_medio_var33_hace2  saldo_medio_var33_hace3  saldo_medio_var33_ult1  \\\n",
       "0                      0.0                      0.0                     0.0   \n",
       "1                      0.0                      0.0                     0.0   \n",
       "2                      0.0                      0.0                     0.0   \n",
       "3                      0.0                      0.0                     0.0   \n",
       "4                      0.0                      0.0                     0.0   \n",
       "\n",
       "   saldo_medio_var33_ult3  saldo_medio_var44_hace2  saldo_medio_var44_hace3  \\\n",
       "0                     0.0                      0.0                      0.0   \n",
       "1                     0.0                      0.0                      0.0   \n",
       "2                     0.0                      0.0                      0.0   \n",
       "3                     0.0                      0.0                      0.0   \n",
       "4                     0.0                      0.0                      0.0   \n",
       "\n",
       "   saldo_medio_var44_ult1  saldo_medio_var44_ult3          var38  TARGET  \n",
       "0                     0.0                     0.0   39205.170000       0  \n",
       "1                     0.0                     0.0   49278.030000       0  \n",
       "2                     0.0                     0.0   67333.770000       0  \n",
       "3                     0.0                     0.0   64007.970000       0  \n",
       "4                     0.0                     0.0  117310.979016       0  \n",
       "\n",
       "[5 rows x 371 columns]"
      ]
     },
     "execution_count": 5,
     "metadata": {},
     "output_type": "execute_result"
    }
   ],
   "source": [
    "dataProject_origine.head()"
   ]
  },
  {
   "cell_type": "code",
   "execution_count": 8,
   "metadata": {
    "collapsed": false
   },
   "outputs": [
    {
     "data": {
      "text/plain": [
       "['ID',\n",
       " 'TARGET',\n",
       " 'delta_imp_amort_var18_1y3',\n",
       " 'delta_imp_amort_var34_1y3',\n",
       " 'delta_imp_aport_var13_1y3',\n",
       " 'delta_imp_aport_var17_1y3',\n",
       " 'delta_imp_aport_var33_1y3',\n",
       " 'delta_imp_compra_var44_1y3',\n",
       " 'delta_imp_reemb_var13_1y3',\n",
       " 'delta_imp_reemb_var17_1y3',\n",
       " 'delta_imp_reemb_var33_1y3',\n",
       " 'delta_imp_trasp_var17_in_1y3',\n",
       " 'delta_imp_trasp_var17_out_1y3',\n",
       " 'delta_imp_trasp_var33_in_1y3',\n",
       " 'delta_imp_trasp_var33_out_1y3',\n",
       " 'delta_imp_venta_var44_1y3',\n",
       " 'delta_num_aport_var13_1y3',\n",
       " 'delta_num_aport_var17_1y3',\n",
       " 'delta_num_aport_var33_1y3',\n",
       " 'delta_num_compra_var44_1y3',\n",
       " 'delta_num_reemb_var13_1y3',\n",
       " 'delta_num_reemb_var17_1y3',\n",
       " 'delta_num_reemb_var33_1y3',\n",
       " 'delta_num_trasp_var17_in_1y3',\n",
       " 'delta_num_trasp_var17_out_1y3',\n",
       " 'delta_num_trasp_var33_in_1y3',\n",
       " 'delta_num_trasp_var33_out_1y3',\n",
       " 'delta_num_venta_var44_1y3',\n",
       " 'imp_amort_var18_hace3',\n",
       " 'imp_amort_var18_ult1',\n",
       " 'imp_amort_var34_hace3',\n",
       " 'imp_amort_var34_ult1',\n",
       " 'imp_aport_var13_hace3',\n",
       " 'imp_aport_var13_ult1',\n",
       " 'imp_aport_var17_hace3',\n",
       " 'imp_aport_var17_ult1',\n",
       " 'imp_aport_var33_hace3',\n",
       " 'imp_aport_var33_ult1',\n",
       " 'imp_compra_var44_hace3',\n",
       " 'imp_compra_var44_ult1',\n",
       " 'imp_ent_var16_ult1',\n",
       " 'imp_op_var39_comer_ult1',\n",
       " 'imp_op_var39_comer_ult3',\n",
       " 'imp_op_var39_efect_ult1',\n",
       " 'imp_op_var39_efect_ult3',\n",
       " 'imp_op_var39_ult1',\n",
       " 'imp_op_var40_comer_ult1',\n",
       " 'imp_op_var40_comer_ult3',\n",
       " 'imp_op_var40_efect_ult1',\n",
       " 'imp_op_var40_efect_ult3',\n",
       " 'imp_op_var40_ult1',\n",
       " 'imp_op_var41_comer_ult1',\n",
       " 'imp_op_var41_comer_ult3',\n",
       " 'imp_op_var41_efect_ult1',\n",
       " 'imp_op_var41_efect_ult3',\n",
       " 'imp_op_var41_ult1',\n",
       " 'imp_reemb_var13_hace3',\n",
       " 'imp_reemb_var13_ult1',\n",
       " 'imp_reemb_var17_hace3',\n",
       " 'imp_reemb_var17_ult1',\n",
       " 'imp_reemb_var33_hace3',\n",
       " 'imp_reemb_var33_ult1',\n",
       " 'imp_sal_var16_ult1',\n",
       " 'imp_trans_var37_ult1',\n",
       " 'imp_trasp_var17_in_hace3',\n",
       " 'imp_trasp_var17_in_ult1',\n",
       " 'imp_trasp_var17_out_hace3',\n",
       " 'imp_trasp_var17_out_ult1',\n",
       " 'imp_trasp_var33_in_hace3',\n",
       " 'imp_trasp_var33_in_ult1',\n",
       " 'imp_trasp_var33_out_hace3',\n",
       " 'imp_trasp_var33_out_ult1',\n",
       " 'imp_var43_emit_ult1',\n",
       " 'imp_var7_emit_ult1',\n",
       " 'imp_var7_recib_ult1',\n",
       " 'imp_venta_var44_hace3',\n",
       " 'imp_venta_var44_ult1',\n",
       " 'ind_var1',\n",
       " 'ind_var10_ult1',\n",
       " 'ind_var10cte_ult1',\n",
       " 'ind_var12',\n",
       " 'ind_var12_0',\n",
       " 'ind_var13',\n",
       " 'ind_var13_0',\n",
       " 'ind_var13_corto',\n",
       " 'ind_var13_corto_0',\n",
       " 'ind_var13_largo',\n",
       " 'ind_var13_largo_0',\n",
       " 'ind_var13_medio',\n",
       " 'ind_var13_medio_0',\n",
       " 'ind_var14',\n",
       " 'ind_var14_0',\n",
       " 'ind_var17',\n",
       " 'ind_var17_0',\n",
       " 'ind_var18',\n",
       " 'ind_var18_0',\n",
       " 'ind_var19',\n",
       " 'ind_var1_0',\n",
       " 'ind_var2',\n",
       " 'ind_var20',\n",
       " 'ind_var20_0',\n",
       " 'ind_var24',\n",
       " 'ind_var24_0',\n",
       " 'ind_var25',\n",
       " 'ind_var25_0',\n",
       " 'ind_var25_cte',\n",
       " 'ind_var26',\n",
       " 'ind_var26_0',\n",
       " 'ind_var26_cte',\n",
       " 'ind_var27',\n",
       " 'ind_var27_0',\n",
       " 'ind_var28',\n",
       " 'ind_var28_0',\n",
       " 'ind_var29',\n",
       " 'ind_var29_0',\n",
       " 'ind_var2_0',\n",
       " 'ind_var30',\n",
       " 'ind_var30_0',\n",
       " 'ind_var31',\n",
       " 'ind_var31_0',\n",
       " 'ind_var32',\n",
       " 'ind_var32_0',\n",
       " 'ind_var32_cte',\n",
       " 'ind_var33',\n",
       " 'ind_var33_0',\n",
       " 'ind_var34',\n",
       " 'ind_var34_0',\n",
       " 'ind_var37',\n",
       " 'ind_var37_0',\n",
       " 'ind_var37_cte',\n",
       " 'ind_var39',\n",
       " 'ind_var39_0',\n",
       " 'ind_var40',\n",
       " 'ind_var40_0',\n",
       " 'ind_var41',\n",
       " 'ind_var41_0',\n",
       " 'ind_var43_emit_ult1',\n",
       " 'ind_var43_recib_ult1',\n",
       " 'ind_var44',\n",
       " 'ind_var44_0',\n",
       " 'ind_var46',\n",
       " 'ind_var46_0',\n",
       " 'ind_var5',\n",
       " 'ind_var5_0',\n",
       " 'ind_var6',\n",
       " 'ind_var6_0',\n",
       " 'ind_var7_emit_ult1',\n",
       " 'ind_var7_recib_ult1',\n",
       " 'ind_var8',\n",
       " 'ind_var8_0',\n",
       " 'ind_var9_cte_ult1',\n",
       " 'ind_var9_ult1',\n",
       " 'num_aport_var13_hace3',\n",
       " 'num_aport_var13_ult1',\n",
       " 'num_aport_var17_hace3',\n",
       " 'num_aport_var17_ult1',\n",
       " 'num_aport_var33_hace3',\n",
       " 'num_aport_var33_ult1',\n",
       " 'num_compra_var44_hace3',\n",
       " 'num_compra_var44_ult1',\n",
       " 'num_ent_var16_ult1',\n",
       " 'num_med_var22_ult3',\n",
       " 'num_med_var45_ult3',\n",
       " 'num_meses_var12_ult3',\n",
       " 'num_meses_var13_corto_ult3',\n",
       " 'num_meses_var13_largo_ult3',\n",
       " 'num_meses_var13_medio_ult3',\n",
       " 'num_meses_var17_ult3',\n",
       " 'num_meses_var29_ult3',\n",
       " 'num_meses_var33_ult3',\n",
       " 'num_meses_var39_vig_ult3',\n",
       " 'num_meses_var44_ult3',\n",
       " 'num_meses_var5_ult3',\n",
       " 'num_meses_var8_ult3',\n",
       " 'num_op_var39_comer_ult1',\n",
       " 'num_op_var39_comer_ult3',\n",
       " 'num_op_var39_efect_ult1',\n",
       " 'num_op_var39_efect_ult3',\n",
       " 'num_op_var39_hace2',\n",
       " 'num_op_var39_hace3',\n",
       " 'num_op_var39_ult1',\n",
       " 'num_op_var39_ult3',\n",
       " 'num_op_var40_comer_ult1',\n",
       " 'num_op_var40_comer_ult3',\n",
       " 'num_op_var40_efect_ult1',\n",
       " 'num_op_var40_efect_ult3',\n",
       " 'num_op_var40_hace2',\n",
       " 'num_op_var40_hace3',\n",
       " 'num_op_var40_ult1',\n",
       " 'num_op_var40_ult3',\n",
       " 'num_op_var41_comer_ult1',\n",
       " 'num_op_var41_comer_ult3',\n",
       " 'num_op_var41_efect_ult1',\n",
       " 'num_op_var41_efect_ult3',\n",
       " 'num_op_var41_hace2',\n",
       " 'num_op_var41_hace3',\n",
       " 'num_op_var41_ult1',\n",
       " 'num_op_var41_ult3',\n",
       " 'num_reemb_var13_hace3',\n",
       " 'num_reemb_var13_ult1',\n",
       " 'num_reemb_var17_hace3',\n",
       " 'num_reemb_var17_ult1',\n",
       " 'num_reemb_var33_hace3',\n",
       " 'num_reemb_var33_ult1',\n",
       " 'num_sal_var16_ult1',\n",
       " 'num_trasp_var11_ult1',\n",
       " 'num_trasp_var17_in_hace3',\n",
       " 'num_trasp_var17_in_ult1',\n",
       " 'num_trasp_var17_out_hace3',\n",
       " 'num_trasp_var17_out_ult1',\n",
       " 'num_trasp_var33_in_hace3',\n",
       " 'num_trasp_var33_in_ult1',\n",
       " 'num_trasp_var33_out_hace3',\n",
       " 'num_trasp_var33_out_ult1',\n",
       " 'num_var1',\n",
       " 'num_var12',\n",
       " 'num_var12_0',\n",
       " 'num_var13',\n",
       " 'num_var13_0',\n",
       " 'num_var13_corto',\n",
       " 'num_var13_corto_0',\n",
       " 'num_var13_largo',\n",
       " 'num_var13_largo_0',\n",
       " 'num_var13_medio',\n",
       " 'num_var13_medio_0',\n",
       " 'num_var14',\n",
       " 'num_var14_0',\n",
       " 'num_var17',\n",
       " 'num_var17_0',\n",
       " 'num_var18',\n",
       " 'num_var18_0',\n",
       " 'num_var1_0',\n",
       " 'num_var20',\n",
       " 'num_var20_0',\n",
       " 'num_var22_hace2',\n",
       " 'num_var22_hace3',\n",
       " 'num_var22_ult1',\n",
       " 'num_var22_ult3',\n",
       " 'num_var24',\n",
       " 'num_var24_0',\n",
       " 'num_var25',\n",
       " 'num_var25_0',\n",
       " 'num_var26',\n",
       " 'num_var26_0',\n",
       " 'num_var27',\n",
       " 'num_var27_0',\n",
       " 'num_var28',\n",
       " 'num_var28_0',\n",
       " 'num_var29',\n",
       " 'num_var29_0',\n",
       " 'num_var2_0_ult1',\n",
       " 'num_var2_ult1',\n",
       " 'num_var30',\n",
       " 'num_var30_0',\n",
       " 'num_var31',\n",
       " 'num_var31_0',\n",
       " 'num_var32',\n",
       " 'num_var32_0',\n",
       " 'num_var33',\n",
       " 'num_var33_0',\n",
       " 'num_var34',\n",
       " 'num_var34_0',\n",
       " 'num_var35',\n",
       " 'num_var37',\n",
       " 'num_var37_0',\n",
       " 'num_var37_med_ult2',\n",
       " 'num_var39',\n",
       " 'num_var39_0',\n",
       " 'num_var4',\n",
       " 'num_var40',\n",
       " 'num_var40_0',\n",
       " 'num_var41',\n",
       " 'num_var41_0',\n",
       " 'num_var42',\n",
       " 'num_var42_0',\n",
       " 'num_var43_emit_ult1',\n",
       " 'num_var43_recib_ult1',\n",
       " 'num_var44',\n",
       " 'num_var44_0',\n",
       " 'num_var45_hace2',\n",
       " 'num_var45_hace3',\n",
       " 'num_var45_ult1',\n",
       " 'num_var45_ult3',\n",
       " 'num_var46',\n",
       " 'num_var46_0',\n",
       " 'num_var5',\n",
       " 'num_var5_0',\n",
       " 'num_var6',\n",
       " 'num_var6_0',\n",
       " 'num_var7_emit_ult1',\n",
       " 'num_var7_recib_ult1',\n",
       " 'num_var8',\n",
       " 'num_var8_0',\n",
       " 'num_venta_var44_hace3',\n",
       " 'num_venta_var44_ult1',\n",
       " 'saldo_medio_var12_hace2',\n",
       " 'saldo_medio_var12_hace3',\n",
       " 'saldo_medio_var12_ult1',\n",
       " 'saldo_medio_var12_ult3',\n",
       " 'saldo_medio_var13_corto_hace2',\n",
       " 'saldo_medio_var13_corto_hace3',\n",
       " 'saldo_medio_var13_corto_ult1',\n",
       " 'saldo_medio_var13_corto_ult3',\n",
       " 'saldo_medio_var13_largo_hace2',\n",
       " 'saldo_medio_var13_largo_hace3',\n",
       " 'saldo_medio_var13_largo_ult1',\n",
       " 'saldo_medio_var13_largo_ult3',\n",
       " 'saldo_medio_var13_medio_hace2',\n",
       " 'saldo_medio_var13_medio_hace3',\n",
       " 'saldo_medio_var13_medio_ult1',\n",
       " 'saldo_medio_var13_medio_ult3',\n",
       " 'saldo_medio_var17_hace2',\n",
       " 'saldo_medio_var17_hace3',\n",
       " 'saldo_medio_var17_ult1',\n",
       " 'saldo_medio_var17_ult3',\n",
       " 'saldo_medio_var29_hace2',\n",
       " 'saldo_medio_var29_hace3',\n",
       " 'saldo_medio_var29_ult1',\n",
       " 'saldo_medio_var29_ult3',\n",
       " 'saldo_medio_var33_hace2',\n",
       " 'saldo_medio_var33_hace3',\n",
       " 'saldo_medio_var33_ult1',\n",
       " 'saldo_medio_var33_ult3',\n",
       " 'saldo_medio_var44_hace2',\n",
       " 'saldo_medio_var44_hace3',\n",
       " 'saldo_medio_var44_ult1',\n",
       " 'saldo_medio_var44_ult3',\n",
       " 'saldo_medio_var5_hace2',\n",
       " 'saldo_medio_var5_hace3',\n",
       " 'saldo_medio_var5_ult1',\n",
       " 'saldo_medio_var5_ult3',\n",
       " 'saldo_medio_var8_hace2',\n",
       " 'saldo_medio_var8_hace3',\n",
       " 'saldo_medio_var8_ult1',\n",
       " 'saldo_medio_var8_ult3',\n",
       " 'saldo_var1',\n",
       " 'saldo_var12',\n",
       " 'saldo_var13',\n",
       " 'saldo_var13_corto',\n",
       " 'saldo_var13_largo',\n",
       " 'saldo_var13_medio',\n",
       " 'saldo_var14',\n",
       " 'saldo_var17',\n",
       " 'saldo_var18',\n",
       " 'saldo_var20',\n",
       " 'saldo_var24',\n",
       " 'saldo_var25',\n",
       " 'saldo_var26',\n",
       " 'saldo_var27',\n",
       " 'saldo_var28',\n",
       " 'saldo_var29',\n",
       " 'saldo_var2_ult1',\n",
       " 'saldo_var30',\n",
       " 'saldo_var31',\n",
       " 'saldo_var32',\n",
       " 'saldo_var33',\n",
       " 'saldo_var34',\n",
       " 'saldo_var37',\n",
       " 'saldo_var40',\n",
       " 'saldo_var41',\n",
       " 'saldo_var42',\n",
       " 'saldo_var44',\n",
       " 'saldo_var46',\n",
       " 'saldo_var5',\n",
       " 'saldo_var6',\n",
       " 'saldo_var8',\n",
       " 'var15',\n",
       " 'var21',\n",
       " 'var3',\n",
       " 'var36',\n",
       " 'var38']"
      ]
     },
     "execution_count": 8,
     "metadata": {},
     "output_type": "execute_result"
    }
   ],
   "source": [
    "cols=dataProject_origine.columns.tolist()\n",
    "sorted(cols)"
   ]
  },
  {
   "cell_type": "code",
   "execution_count": 2,
   "metadata": {
    "collapsed": false
   },
   "outputs": [],
   "source": [
    "#from IPython.display import Image\n",
    "#Image(filename=\"feature_imporatnce.png\")\n"
   ]
  },
  {
   "cell_type": "code",
   "execution_count": 6,
   "metadata": {
    "collapsed": false
   },
   "outputs": [
    {
     "data": {
      "text/plain": [
       "30"
      ]
     },
     "execution_count": 6,
     "metadata": {},
     "output_type": "execute_result"
    }
   ],
   "source": [
    "imporatnce_features=['var38',\n",
    "                     'var15',\n",
    "                     'saldo_medio_var5_hace3',\n",
    "                     'saldo_medio_var5_ult3',\n",
    "                     'num_var45_ult3',\n",
    "                     'num_var45_hace3',\n",
    "                     'num_var45_hace2',\n",
    "                     'num_var22_ult3',\n",
    "                     'saldo_medio_var5_hace2',\n",
    "                     'num_var45_ult1',\n",
    "                     'num_med_var45_ult3',\n",
    "                     'num_var22_hace3',\n",
    "                     'saldo_var42',\n",
    "                     'num_var22_hace2',\n",
    "                     'saldo_medio_var5_ult1',\n",
    "                     'saldo_var30',\n",
    "                     'saldo_var5',\n",
    "                     'num_meses_var5_ult3',\n",
    "                     'var36',\n",
    "                     'num_meses_var39_vig_ult3',\n",
    "                     'num_var22_ult1',\n",
    "                     'ind_var30',\n",
    "                     'num_med_var22_ult3',\n",
    "                     'num_var42',\n",
    "                     'imp_op_var39_ult1',\n",
    "                     'imp_op_var39_efect_ult3',\n",
    "                     'imp_ent_var16_ult1',\n",
    "                     'imp_op_var41_ult1',\n",
    "                     'var3',\n",
    "                     'imp_trans_var37_ult1',\n",
    "                     ]\n",
    "len(imporatnce_features)"
   ]
  },
  {
   "cell_type": "code",
   "execution_count": 11,
   "metadata": {
    "collapsed": false
   },
   "outputs": [],
   "source": [
    "Train=dataProject_origine[imporatnce_features+['TARGET']]\n",
    "Test=dataProject_test[imporatnce_features]"
   ]
  },
  {
   "cell_type": "code",
   "execution_count": 12,
   "metadata": {
    "collapsed": false
   },
   "outputs": [
    {
     "data": {
      "text/plain": [
       "((76020, 31), (75818, 30))"
      ]
     },
     "execution_count": 12,
     "metadata": {},
     "output_type": "execute_result"
    }
   ],
   "source": [
    "Train.shape , Test.shape"
   ]
  },
  {
   "cell_type": "code",
   "execution_count": 36,
   "metadata": {
    "collapsed": true
   },
   "outputs": [],
   "source": [
    "Train.to_csv(\"train_imp_features.csv\")\n",
    "Test.to_csv(\"test_imp_features.csv\")"
   ]
  },
  {
   "cell_type": "markdown",
   "metadata": {},
   "source": [
    "<font style=\"color:red;font-weight:bold;font-size:1.3em;\">===============New Start, clear Memory=============</font>"
   ]
  },
  {
   "cell_type": "code",
   "execution_count": 13,
   "metadata": {
    "collapsed": false
   },
   "outputs": [],
   "source": [
    "TrainData=pd.read_csv('train_imp_features.csv',index_col=0)\n",
    "TestData=pd.read_csv('test_imp_features.csv',index_col=0)"
   ]
  },
  {
   "cell_type": "code",
   "execution_count": 14,
   "metadata": {
    "collapsed": false
   },
   "outputs": [
    {
     "data": {
      "text/plain": [
       "((76020, 31), (75818, 30))"
      ]
     },
     "execution_count": 14,
     "metadata": {},
     "output_type": "execute_result"
    }
   ],
   "source": [
    "TrainData.shape, TestData.shape"
   ]
  },
  {
   "cell_type": "code",
   "execution_count": 13,
   "metadata": {
    "collapsed": false
   },
   "outputs": [
    {
     "data": {
      "text/html": [
       "<div>\n",
       "<table border=\"1\" class=\"dataframe\">\n",
       "  <thead>\n",
       "    <tr style=\"text-align: right;\">\n",
       "      <th></th>\n",
       "      <th>var38</th>\n",
       "      <th>var15</th>\n",
       "      <th>saldo_medio_var5_hace3</th>\n",
       "      <th>saldo_medio_var5_ult3</th>\n",
       "      <th>num_var45_ult3</th>\n",
       "      <th>num_var45_hace3</th>\n",
       "      <th>num_var45_hace2</th>\n",
       "      <th>num_var22_ult3</th>\n",
       "      <th>saldo_medio_var5_hace2</th>\n",
       "      <th>num_var45_ult1</th>\n",
       "      <th>...</th>\n",
       "      <th>ind_var30</th>\n",
       "      <th>num_med_var22_ult3</th>\n",
       "      <th>num_var42</th>\n",
       "      <th>imp_op_var39_ult1</th>\n",
       "      <th>imp_op_var39_efect_ult3</th>\n",
       "      <th>imp_ent_var16_ult1</th>\n",
       "      <th>imp_op_var41_ult1</th>\n",
       "      <th>var3</th>\n",
       "      <th>imp_trans_var37_ult1</th>\n",
       "      <th>TARGET</th>\n",
       "    </tr>\n",
       "  </thead>\n",
       "  <tbody>\n",
       "    <tr>\n",
       "      <th>0</th>\n",
       "      <td>39205.170000</td>\n",
       "      <td>23</td>\n",
       "      <td>0.00</td>\n",
       "      <td>0.00</td>\n",
       "      <td>0</td>\n",
       "      <td>0</td>\n",
       "      <td>0</td>\n",
       "      <td>0</td>\n",
       "      <td>0.00</td>\n",
       "      <td>0</td>\n",
       "      <td>...</td>\n",
       "      <td>0</td>\n",
       "      <td>0</td>\n",
       "      <td>0</td>\n",
       "      <td>0.0</td>\n",
       "      <td>0.0</td>\n",
       "      <td>0.0</td>\n",
       "      <td>0.0</td>\n",
       "      <td>2</td>\n",
       "      <td>0.0</td>\n",
       "      <td>0</td>\n",
       "    </tr>\n",
       "    <tr>\n",
       "      <th>1</th>\n",
       "      <td>49278.030000</td>\n",
       "      <td>34</td>\n",
       "      <td>88.89</td>\n",
       "      <td>0.00</td>\n",
       "      <td>0</td>\n",
       "      <td>0</td>\n",
       "      <td>0</td>\n",
       "      <td>0</td>\n",
       "      <td>0.00</td>\n",
       "      <td>0</td>\n",
       "      <td>...</td>\n",
       "      <td>1</td>\n",
       "      <td>0</td>\n",
       "      <td>0</td>\n",
       "      <td>0.0</td>\n",
       "      <td>0.0</td>\n",
       "      <td>0.0</td>\n",
       "      <td>0.0</td>\n",
       "      <td>2</td>\n",
       "      <td>0.0</td>\n",
       "      <td>0</td>\n",
       "    </tr>\n",
       "    <tr>\n",
       "      <th>2</th>\n",
       "      <td>67333.770000</td>\n",
       "      <td>23</td>\n",
       "      <td>0.18</td>\n",
       "      <td>2.07</td>\n",
       "      <td>0</td>\n",
       "      <td>0</td>\n",
       "      <td>0</td>\n",
       "      <td>0</td>\n",
       "      <td>3.00</td>\n",
       "      <td>0</td>\n",
       "      <td>...</td>\n",
       "      <td>1</td>\n",
       "      <td>0</td>\n",
       "      <td>3</td>\n",
       "      <td>0.0</td>\n",
       "      <td>0.0</td>\n",
       "      <td>0.0</td>\n",
       "      <td>0.0</td>\n",
       "      <td>2</td>\n",
       "      <td>0.0</td>\n",
       "      <td>0</td>\n",
       "    </tr>\n",
       "    <tr>\n",
       "      <th>3</th>\n",
       "      <td>64007.970000</td>\n",
       "      <td>37</td>\n",
       "      <td>0.00</td>\n",
       "      <td>138.84</td>\n",
       "      <td>48</td>\n",
       "      <td>3</td>\n",
       "      <td>27</td>\n",
       "      <td>3</td>\n",
       "      <td>186.09</td>\n",
       "      <td>18</td>\n",
       "      <td>...</td>\n",
       "      <td>1</td>\n",
       "      <td>0</td>\n",
       "      <td>3</td>\n",
       "      <td>195.0</td>\n",
       "      <td>0.0</td>\n",
       "      <td>0.0</td>\n",
       "      <td>195.0</td>\n",
       "      <td>2</td>\n",
       "      <td>0.0</td>\n",
       "      <td>0</td>\n",
       "    </tr>\n",
       "    <tr>\n",
       "      <th>4</th>\n",
       "      <td>117310.979016</td>\n",
       "      <td>39</td>\n",
       "      <td>0.30</td>\n",
       "      <td>13501.47</td>\n",
       "      <td>0</td>\n",
       "      <td>0</td>\n",
       "      <td>0</td>\n",
       "      <td>9</td>\n",
       "      <td>3.00</td>\n",
       "      <td>0</td>\n",
       "      <td>...</td>\n",
       "      <td>1</td>\n",
       "      <td>3</td>\n",
       "      <td>3</td>\n",
       "      <td>0.0</td>\n",
       "      <td>0.0</td>\n",
       "      <td>0.0</td>\n",
       "      <td>0.0</td>\n",
       "      <td>2</td>\n",
       "      <td>270003.0</td>\n",
       "      <td>0</td>\n",
       "    </tr>\n",
       "  </tbody>\n",
       "</table>\n",
       "<p>5 rows × 31 columns</p>\n",
       "</div>"
      ],
      "text/plain": [
       "           var38  var15  saldo_medio_var5_hace3  saldo_medio_var5_ult3  \\\n",
       "0   39205.170000     23                    0.00                   0.00   \n",
       "1   49278.030000     34                   88.89                   0.00   \n",
       "2   67333.770000     23                    0.18                   2.07   \n",
       "3   64007.970000     37                    0.00                 138.84   \n",
       "4  117310.979016     39                    0.30               13501.47   \n",
       "\n",
       "   num_var45_ult3  num_var45_hace3  num_var45_hace2  num_var22_ult3  \\\n",
       "0               0                0                0               0   \n",
       "1               0                0                0               0   \n",
       "2               0                0                0               0   \n",
       "3              48                3               27               3   \n",
       "4               0                0                0               9   \n",
       "\n",
       "   saldo_medio_var5_hace2  num_var45_ult1   ...    ind_var30  \\\n",
       "0                    0.00               0   ...            0   \n",
       "1                    0.00               0   ...            1   \n",
       "2                    3.00               0   ...            1   \n",
       "3                  186.09              18   ...            1   \n",
       "4                    3.00               0   ...            1   \n",
       "\n",
       "   num_med_var22_ult3  num_var42  imp_op_var39_ult1  imp_op_var39_efect_ult3  \\\n",
       "0                   0          0                0.0                      0.0   \n",
       "1                   0          0                0.0                      0.0   \n",
       "2                   0          3                0.0                      0.0   \n",
       "3                   0          3              195.0                      0.0   \n",
       "4                   3          3                0.0                      0.0   \n",
       "\n",
       "   imp_ent_var16_ult1  imp_op_var41_ult1  var3  imp_trans_var37_ult1  TARGET  \n",
       "0                 0.0                0.0     2                   0.0       0  \n",
       "1                 0.0                0.0     2                   0.0       0  \n",
       "2                 0.0                0.0     2                   0.0       0  \n",
       "3                 0.0              195.0     2                   0.0       0  \n",
       "4                 0.0                0.0     2              270003.0       0  \n",
       "\n",
       "[5 rows x 31 columns]"
      ]
     },
     "execution_count": 13,
     "metadata": {},
     "output_type": "execute_result"
    }
   ],
   "source": [
    "TrainData.head()"
   ]
  },
  {
   "cell_type": "code",
   "execution_count": 15,
   "metadata": {
    "collapsed": false
   },
   "outputs": [
    {
     "data": {
      "text/plain": [
       "Int64Index([    0,     1,     2,     3,     4,     5,     6,     7,     8,\n",
       "                9,\n",
       "            ...\n",
       "            75808, 75809, 75810, 75811, 75812, 75813, 75814, 75815, 75816,\n",
       "            75817],\n",
       "           dtype='int64', length=75818)"
      ]
     },
     "execution_count": 15,
     "metadata": {},
     "output_type": "execute_result"
    }
   ],
   "source": [
    "TestData.index"
   ]
  },
  {
   "cell_type": "code",
   "execution_count": 27,
   "metadata": {
    "collapsed": false,
    "scrolled": true
   },
   "outputs": [
    {
     "name": "stdout",
     "output_type": "stream",
     "text": [
      "                         var38 , Nan in Train: 0 0  | in Test: 0 0\n",
      "                         var15 , Nan in Train: 0 0  | in Test: 0 0\n",
      "        saldo_medio_var5_hace3 , Nan in Train: 0 0  | in Test: 0 0\n",
      "         saldo_medio_var5_ult3 , Nan in Train: 0 0  | in Test: 0 0\n",
      "                num_var45_ult3 , Nan in Train: 0 0  | in Test: 0 0\n",
      "               num_var45_hace3 , Nan in Train: 0 0  | in Test: 0 0\n",
      "               num_var45_hace2 , Nan in Train: 0 0  | in Test: 0 0\n",
      "                num_var22_ult3 , Nan in Train: 0 0  | in Test: 0 0\n",
      "        saldo_medio_var5_hace2 , Nan in Train: 0 0  | in Test: 0 0\n",
      "                num_var45_ult1 , Nan in Train: 0 0  | in Test: 0 0\n",
      "            num_med_var45_ult3 , Nan in Train: 0 0  | in Test: 0 0\n",
      "               num_var22_hace3 , Nan in Train: 0 0  | in Test: 0 0\n",
      "                   saldo_var42 , Nan in Train: 0 0  | in Test: 0 0\n",
      "               num_var22_hace2 , Nan in Train: 0 0  | in Test: 0 0\n",
      "         saldo_medio_var5_ult1 , Nan in Train: 0 0  | in Test: 0 0\n",
      "                   saldo_var30 , Nan in Train: 0 0  | in Test: 0 0\n",
      "                    saldo_var5 , Nan in Train: 0 0  | in Test: 0 0\n",
      "           num_meses_var5_ult3 , Nan in Train: 0 0  | in Test: 0 0\n",
      "                         var36 , Nan in Train: 0 0  | in Test: 0 0\n",
      "      num_meses_var39_vig_ult3 , Nan in Train: 0 0  | in Test: 0 0\n",
      "                num_var22_ult1 , Nan in Train: 0 0  | in Test: 0 0\n",
      "                     ind_var30 , Nan in Train: 0 0  | in Test: 0 0\n",
      "            num_med_var22_ult3 , Nan in Train: 0 0  | in Test: 0 0\n",
      "                     num_var42 , Nan in Train: 0 0  | in Test: 0 0\n",
      "             imp_op_var39_ult1 , Nan in Train: 0 0  | in Test: 0 0\n",
      "       imp_op_var39_efect_ult3 , Nan in Train: 0 0  | in Test: 0 0\n",
      "            imp_ent_var16_ult1 , Nan in Train: 0 0  | in Test: 0 0\n",
      "             imp_op_var41_ult1 , Nan in Train: 0 0  | in Test: 0 0\n",
      "                          var3 , Nan in Train: 0 0  | in Test: 0 0\n",
      "          imp_trans_var37_ult1 , Nan in Train: 0 0  | in Test: 0 0\n"
     ]
    }
   ],
   "source": [
    "for col in TestData.columns.values:\n",
    "    print \"%30s\"%col,\", Nan in Train:\",sum(TrainData[col].isnull()),len(TrainData[TrainData[col]==9999999999]),\" | in Test:\",\\\n",
    "    sum(TestData[col].isnull()),len(TestData[TestData[col]==9999999999])"
   ]
  },
  {
   "cell_type": "code",
   "execution_count": 5,
   "metadata": {
    "collapsed": false
   },
   "outputs": [],
   "source": [
    "VALID_SIZE = 0.30 # 30% of train\n",
    "HOLDOUT_SIZE = 0.33 # 33% of valid => 10% of train And it remains 66% of valid => 20% of train for the Vaidation\n",
    "seed = 7\n",
    "Y=TrainData.TARGET\n",
    "X=TrainData.drop(\"TARGET\",axis=1)\n",
    "#X_test = dataset[:][dataset.index<len(TEST.index)]\n",
    "X_train, X_valid, Y_train, Y_valid = cross_validation.train_test_split(X, Y, test_size=VALID_SIZE, random_state=seed)\n",
    "X_valid,X_hold,Y_valid,Y_hold = cross_validation.train_test_split(X_valid, Y_valid, test_size=HOLDOUT_SIZE, random_state=seed)"
   ]
  },
  {
   "cell_type": "code",
   "execution_count": 6,
   "metadata": {
    "collapsed": false
   },
   "outputs": [
    {
     "name": "stdout",
     "output_type": "stream",
     "text": [
      "Train     :  (53214, 30) (53214,)      70% of Dataset :: TARGET distribution  [51106  2108]\n",
      "Validation:  (15280, 30) (15280,)      20% of Dataset :: TARGET distribution  [14654   626]\n",
      "Holdout   :  (7526, 30) (7526,)      10% of Dataset :: TARGET distribution  [7252  274]\n"
     ]
    }
   ],
   "source": [
    "print \"Train     : \",X_train.shape, Y_train.shape, \"     70% of Dataset\", \":: TARGET distribution \",Y_train.value_counts().values\n",
    "print \"Validation: \",X_valid.shape, Y_valid.shape, \"     20% of Dataset\", \":: TARGET distribution \",Y_valid.value_counts().values\n",
    "print \"Holdout   : \",X_hold.shape, Y_hold.shape, \"     10% of Dataset\", \":: TARGET distribution \",Y_hold.value_counts().values\n"
   ]
  },
  {
   "cell_type": "code",
   "execution_count": 8,
   "metadata": {
    "collapsed": false
   },
   "outputs": [
    {
     "name": "stderr",
     "output_type": "stream",
     "text": [
      "C:\\Anaconda2\\lib\\site-packages\\ipykernel\\__main__.py:1: SettingWithCopyWarning: \n",
      "A value is trying to be set on a copy of a slice from a DataFrame.\n",
      "Try using .loc[row_indexer,col_indexer] = value instead\n",
      "\n",
      "See the caveats in the documentation: http://pandas.pydata.org/pandas-docs/stable/indexing.html#indexing-view-versus-copy\n",
      "  if __name__ == '__main__':\n"
     ]
    }
   ],
   "source": [
    "X_train[\"TARGET\"]=Y_train\n",
    "X_valid[\"TARGET\"]=Y_valid\n",
    "X_hold[\"TARGET\"]=Y_hold\n",
    "X_train.to_csv(\"datas/train_final.csv\")\n",
    "X_valid.to_csv(\"datas/valid_final.csv\")\n",
    "X_hold.to_csv(\"datas/hold_final.csv\")"
   ]
  },
  {
   "cell_type": "markdown",
   "metadata": {},
   "source": [
    "<font style=\"color:red;font-weight:bold;font-size:1.3em;\">===============New Start, clear Memory=============</font>"
   ]
  },
  {
   "cell_type": "code",
   "execution_count": 3,
   "metadata": {
    "collapsed": true
   },
   "outputs": [],
   "source": [
    "TestData=pd.read_csv('test_imp_features.csv',index_col=0)\n",
    "X_train=pd.read_csv('datas/train_final.csv',index_col=0)\n",
    "X_valid=pd.read_csv('datas/valid_final.csv',index_col=0)\n",
    "X_hold=pd.read_csv('datas/hold_final.csv',index_col=0)\n",
    "Y_train,Y_valid,Y_hold=X_train.TARGET,X_valid.TARGET,X_hold.TARGET\n",
    "X_train,X_valid,X_hold=X_train.drop(\"TARGET\",axis=1),X_valid.drop(\"TARGET\",axis=1),X_hold.drop(\"TARGET\",axis=1)"
   ]
  },
  {
   "cell_type": "code",
   "execution_count": 5,
   "metadata": {
    "collapsed": false
   },
   "outputs": [
    {
     "name": "stdout",
     "output_type": "stream",
     "text": [
      "Train     :  (53214, 30) (53214,)      70% of Dataset :: TARGET distribution  [51106  2108]\n",
      "Validation:  (15280, 30) (15280,)      20% of Dataset :: TARGET distribution  [14654   626]\n",
      "Holdout   :  (7526, 30) (7526,)      10% of Dataset :: TARGET distribution  [7252  274]\n"
     ]
    }
   ],
   "source": [
    "print \"Train     : \",X_train.shape, Y_train.shape, \"     70% of Dataset\", \":: TARGET distribution \",Y_train.value_counts().values\n",
    "print \"Validation: \",X_valid.shape, Y_valid.shape, \"     20% of Dataset\", \":: TARGET distribution \",Y_valid.value_counts().values\n",
    "print \"Holdout   : \",X_hold.shape, Y_hold.shape, \"     10% of Dataset\", \":: TARGET distribution \",Y_hold.value_counts().values"
   ]
  },
  {
   "cell_type": "code",
   "execution_count": null,
   "metadata": {
    "collapsed": false
   },
   "outputs": [],
   "source": []
  },
  {
   "cell_type": "markdown",
   "metadata": {},
   "source": [
    "<font style=\"color:blue;font-weight:bold;font-size:1.3em;\">Finds the models with its parameters where the score is greater than 0.6 </font>"
   ]
  },
  {
   "cell_type": "code",
   "execution_count": 19,
   "metadata": {
    "collapsed": false
   },
   "outputs": [
    {
     "data": {
      "text/plain": [
       "30"
      ]
     },
     "execution_count": 19,
     "metadata": {},
     "output_type": "execute_result"
    }
   ],
   "source": [
    "imporatnce_features=['var38',\n",
    "                     'var15',\n",
    "                     'saldo_medio_var5_hace3',\n",
    "                     'saldo_medio_var5_ult3',\n",
    "                     'num_var45_ult3',\n",
    "                     'num_var45_hace3',\n",
    "                     'num_var45_hace2',\n",
    "                     'num_var22_ult3',\n",
    "                     'saldo_medio_var5_hace2',\n",
    "                     'num_var45_ult1',\n",
    "                     'num_med_var45_ult3',\n",
    "                     'num_var22_hace3',\n",
    "                     'saldo_var42',\n",
    "                     'num_var22_hace2',\n",
    "                     'saldo_medio_var5_ult1',\n",
    "                     'saldo_var30',\n",
    "                     'saldo_var5',\n",
    "                     'num_meses_var5_ult3',\n",
    "                     'var36',\n",
    "                     'num_meses_var39_vig_ult3',\n",
    "                     'num_var22_ult1',\n",
    "                     'ind_var30',\n",
    "                     'num_med_var22_ult3',\n",
    "                     'num_var42',\n",
    "                     'imp_op_var39_ult1',\n",
    "                     'imp_op_var39_efect_ult3',\n",
    "                     'imp_ent_var16_ult1',\n",
    "                     'imp_op_var41_ult1',\n",
    "                     'var3',\n",
    "                     'imp_trans_var37_ult1',\n",
    "                     ]\n",
    "len(imporatnce_features)"
   ]
  },
  {
   "cell_type": "code",
   "execution_count": 49,
   "metadata": {
    "collapsed": true
   },
   "outputs": [],
   "source": [
    "RAND_STATE=7\n",
    "scoring = 'roc_auc'\n",
    "N_TREES = 500\n",
    "\n",
    "PARAM_GRID = {\n",
    "    'LR': {'C': [10**x for x in range(-8,5)],\n",
    "           'class_weight': ['balanced'],\n",
    "           'penalty':['l2'],\n",
    "           'solver' :['newton-cg', 'lbfgs', 'liblinear', 'sag'],\n",
    "           'random_state':[RAND_STATE,],\n",
    "    },\n",
    "    \n",
    "    'RFC': {\n",
    "        'n_jobs': [3],\n",
    "        'criterion':[\"gini\",\"entropy\"],\n",
    "        \"max_features\":[\"sqrt\",None],\n",
    "        \"max_depth\":[180,200,None],\n",
    "        \"n_estimators\":[500,1000],\n",
    "        \"min_samples_split\":[2,5,10],\n",
    "        \"class_weight\": ['balanced','balanced_subsample',None],\n",
    "        'random_state':[RAND_STATE,],\n",
    "    },\n",
    "    'DTC': {#DecisionTreeClassifier\n",
    "        \"criterion\":[\"gini\",\"entropy\"],\n",
    "        \"splitter\":[\"best\",\"random\"],\n",
    "        \"max_features\":[\"sqrt\",None],\n",
    "        \"max_depth\":[None,],\n",
    "        \"min_samples_split\":[2,5,9,12,15],\n",
    "        'class_weight': ['balanced',None],\n",
    "        \"presort\":[False],\n",
    "        'random_state':[RAND_STATE,],\n",
    "    },\n",
    "    'ETC': {'min_samples_leaf': [2, 3],#copie de ubuntu rush\n",
    "                             'n_jobs': [5],\n",
    "                             'min_samples_split': [1, 2, 5],\n",
    "                             'bootstrap': [False],\n",
    "                             'max_depth': [15, 20, 25, 30],\n",
    "                             'max_features': [1, 3, 5, 8],\n",
    "                             'random_state':[RAND_STATE,],\n",
    "    },\n",
    "    'GBC': {'max_features': [4, 5, 6, 7, 8],\n",
    "            'learning_rate': [.05, .08, .1],\n",
    "            'max_depth': [8, 10, 13],\n",
    "            'random_state':[RAND_STATE,],\n",
    "    },\n",
    "    'SVC':{'C':[10**x for x in range(-7,4)],\n",
    "           'kernel':['linear', 'poly', 'rbf', 'sigmoid', 'precomputed'],\n",
    "           'gamma':['auto',0.5,0.7],\n",
    "           'degree':[2,3],\n",
    "           'class_weight': ['balanced',],\n",
    "           'probability':[True,],\n",
    "           'random_state':[RAND_STATE,],\n",
    "          },\n",
    "    'KNN':{ 'n_neighbors' : list({randint(1,500) for i in range(8)}),\n",
    "            'weights' : ['uniform','distance'],\n",
    "            'algorithm' : ['auto', 'ball_tree', 'kd_tree', 'brute'],\n",
    "            'leaf_size' : [20,30,40,60],\n",
    "            'metric' : ['minkowski',],\n",
    "            #'n_jobs' :[2,],\n",
    "            'p' : [1,2,7,10],\n",
    "          },\n",
    "    'NNC':{'solver' : ['lbfgs', 'sgd', 'adam'],\n",
    "           'hidden_layer_sizes':[1,2,4,8,32,128],\n",
    "           'activation':['identity', 'logistic', 'tanh', 'relu'],\n",
    "           'alpha':[0.0001,0.005],#L2 penalty (regularization term) parameter.\n",
    "           'batch_size':['auto'],#auto=min(200,n_samples)\n",
    "           'learning_rate': ['constant', 'invscaling', 'adaptive'],\n",
    "           #'momentu':[0,0.2,0.5,0.9], \n",
    "           'random_state':[RAND_STATE,],\n",
    "    },\n",
    "    'BAGC':{#BaggingClassifier\n",
    "        'base_estimator':[DecisionTreeClassifier(),linear_model.LogisticRegression(),\\\n",
    "                          ensemble.GradientBoostingClassifier()],KNeighborsClassifier(),],\n",
    "        'n_estimators':[10,20,100],\n",
    "        'max_samples':[0.6,0.8],\n",
    "        'max_features':[0.6,0.9],\n",
    "        'n_jobs':[2,],\n",
    "        'random_state':[RAND_STATE,],\n",
    "        \n",
    "    }\n",
    "}\n",
    "\n",
    "models= {\n",
    "    'LR':  linear_model.LogisticRegression(),\n",
    "    'KNN': KNeighborsClassifier(),\n",
    "    'GBC': ensemble.GradientBoostingClassifier(),\n",
    "    'RFC': ensemble.RandomForestClassifier(),\n",
    "    'ETC': ensemble.ExtraTreesClassifier(),\n",
    "    'SVC': SVC(),\n",
    "    'NNC': neural_network.MLPClassifier(),\n",
    "    'DTC': DecisionTreeClassifier(),\n",
    "    'BAGC': ensemble.BaggingClassifier(),\n",
    "    \n",
    "}"
   ]
  },
  {
   "cell_type": "code",
   "execution_count": 50,
   "metadata": {
    "collapsed": true
   },
   "outputs": [],
   "source": [
    "\n",
    "def generer20Feature():\n",
    "    \"\"\"Random 20 features\"\"\"\n",
    "    nb=len(imporatnce_features)\n",
    "    a=set()\n",
    "    while len(a)<=20:\n",
    "        a.add(randint(0,nb-1))\n",
    "    return list(a)"
   ]
  },
  {
   "cell_type": "code",
   "execution_count": 51,
   "metadata": {
    "collapsed": false
   },
   "outputs": [
    {
     "name": "stdout",
     "output_type": "stream",
     "text": [
      "[1, 3, 4, 5, 7, 8, 11, 13, 14, 15, 17, 19, 20, 21, 22, 23, 24, 25, 26, 27, 29]\n",
      "[0, 2, 3, 6, 7, 8, 9, 10, 11, 12, 14, 16, 18, 19, 21, 22, 24, 25, 27, 28, 29]\n",
      "[0, 1, 2, 3, 6, 7, 8, 10, 11, 12, 15, 16, 17, 18, 19, 20, 21, 22, 26, 28, 29]\n",
      "[0, 1, 2, 4, 7, 8, 9, 11, 12, 13, 14, 18, 20, 21, 22, 23, 24, 25, 26, 27, 28]\n",
      "[0, 4, 5, 6, 7, 9, 10, 11, 12, 14, 15, 16, 18, 20, 21, 22, 23, 24, 25, 26, 29]\n"
     ]
    }
   ],
   "source": [
    "#generation and stock the different combinaisons of features has a length 20 \n",
    "#X_train[(10,11,1,2,29)]\n",
    "for i in range(5):\n",
    "    print generer20Feature()"
   ]
  },
  {
   "cell_type": "code",
   "execution_count": 52,
   "metadata": {
    "collapsed": false,
    "scrolled": true
   },
   "outputs": [
    {
     "name": "stdout",
     "output_type": "stream",
     "text": [
      "{'max_features': 4, 'learning_rate': 0.05, 'random_state': 7, 'max_depth': 8}\n",
      "{'max_features': 4, 'learning_rate': 0.05, 'random_state': 7, 'max_depth': 10}\n",
      "{'max_features': 4, 'learning_rate': 0.05, 'random_state': 7, 'max_depth': 13}\n",
      "{'max_features': 4, 'learning_rate': 0.08, 'random_state': 7, 'max_depth': 8}\n",
      "{'max_features': 4, 'learning_rate': 0.08, 'random_state': 7, 'max_depth': 10}\n",
      "{'max_features': 4, 'learning_rate': 0.08, 'random_state': 7, 'max_depth': 13}\n",
      "{'max_features': 4, 'learning_rate': 0.1, 'random_state': 7, 'max_depth': 8}\n",
      "{'max_features': 4, 'learning_rate': 0.1, 'random_state': 7, 'max_depth': 10}\n",
      "{'max_features': 4, 'learning_rate': 0.1, 'random_state': 7, 'max_depth': 13}\n",
      "{'max_features': 5, 'learning_rate': 0.05, 'random_state': 7, 'max_depth': 8}\n",
      "{'max_features': 5, 'learning_rate': 0.05, 'random_state': 7, 'max_depth': 10}\n",
      "{'max_features': 5, 'learning_rate': 0.05, 'random_state': 7, 'max_depth': 13}\n",
      "{'max_features': 5, 'learning_rate': 0.08, 'random_state': 7, 'max_depth': 8}\n",
      "{'max_features': 5, 'learning_rate': 0.08, 'random_state': 7, 'max_depth': 10}\n",
      "{'max_features': 5, 'learning_rate': 0.08, 'random_state': 7, 'max_depth': 13}\n",
      "{'max_features': 5, 'learning_rate': 0.1, 'random_state': 7, 'max_depth': 8}\n",
      "{'max_features': 5, 'learning_rate': 0.1, 'random_state': 7, 'max_depth': 10}\n",
      "{'max_features': 5, 'learning_rate': 0.1, 'random_state': 7, 'max_depth': 13}\n",
      "{'max_features': 6, 'learning_rate': 0.05, 'random_state': 7, 'max_depth': 8}\n",
      "{'max_features': 6, 'learning_rate': 0.05, 'random_state': 7, 'max_depth': 10}\n",
      "{'max_features': 6, 'learning_rate': 0.05, 'random_state': 7, 'max_depth': 13}\n",
      "{'max_features': 6, 'learning_rate': 0.08, 'random_state': 7, 'max_depth': 8}\n",
      "{'max_features': 6, 'learning_rate': 0.08, 'random_state': 7, 'max_depth': 10}\n",
      "{'max_features': 6, 'learning_rate': 0.08, 'random_state': 7, 'max_depth': 13}\n",
      "{'max_features': 6, 'learning_rate': 0.1, 'random_state': 7, 'max_depth': 8}\n",
      "{'max_features': 6, 'learning_rate': 0.1, 'random_state': 7, 'max_depth': 10}\n",
      "{'max_features': 6, 'learning_rate': 0.1, 'random_state': 7, 'max_depth': 13}\n",
      "{'max_features': 7, 'learning_rate': 0.05, 'random_state': 7, 'max_depth': 8}\n",
      "{'max_features': 7, 'learning_rate': 0.05, 'random_state': 7, 'max_depth': 10}\n",
      "{'max_features': 7, 'learning_rate': 0.05, 'random_state': 7, 'max_depth': 13}\n",
      "{'max_features': 7, 'learning_rate': 0.08, 'random_state': 7, 'max_depth': 8}\n",
      "{'max_features': 7, 'learning_rate': 0.08, 'random_state': 7, 'max_depth': 10}\n",
      "{'max_features': 7, 'learning_rate': 0.08, 'random_state': 7, 'max_depth': 13}\n",
      "{'max_features': 7, 'learning_rate': 0.1, 'random_state': 7, 'max_depth': 8}\n",
      "{'max_features': 7, 'learning_rate': 0.1, 'random_state': 7, 'max_depth': 10}\n",
      "{'max_features': 7, 'learning_rate': 0.1, 'random_state': 7, 'max_depth': 13}\n",
      "{'max_features': 8, 'learning_rate': 0.05, 'random_state': 7, 'max_depth': 8}\n",
      "{'max_features': 8, 'learning_rate': 0.05, 'random_state': 7, 'max_depth': 10}\n",
      "{'max_features': 8, 'learning_rate': 0.05, 'random_state': 7, 'max_depth': 13}\n",
      "{'max_features': 8, 'learning_rate': 0.08, 'random_state': 7, 'max_depth': 8}\n",
      "{'max_features': 8, 'learning_rate': 0.08, 'random_state': 7, 'max_depth': 10}\n",
      "{'max_features': 8, 'learning_rate': 0.08, 'random_state': 7, 'max_depth': 13}\n",
      "{'max_features': 8, 'learning_rate': 0.1, 'random_state': 7, 'max_depth': 8}\n",
      "{'max_features': 8, 'learning_rate': 0.1, 'random_state': 7, 'max_depth': 10}\n",
      "{'max_features': 8, 'learning_rate': 0.1, 'random_state': 7, 'max_depth': 13}\n"
     ]
    }
   ],
   "source": [
    "def generatorParameters(algoName):\n",
    "    \"\"\"Combinaisons of parameters\"\"\"\n",
    "    params=PARAM_GRID[algoName]\n",
    "    prms=dict()\n",
    "    ch=\"\"\"def genarator_parameters(nameAlgo):\n",
    "    params=PARAM_GRID[nameAlgo]\n",
    "    prms=dict()\n",
    "    \n",
    "    \"\"\"\n",
    "    i=0\n",
    "    for key,val in params.items():\n",
    "        ch+='\\t'*i\n",
    "        ch+=\"\"\"for \"\"\"+key+\"\"\" in params['\"\"\"+key+\"\"\"']:\n",
    "        \"\"\"+('\\t'*(i+1))+\"\"\"prms['\"\"\"+key+\"\"\"']=\"\"\"+key+\"\"\"\n",
    "            \"\"\"\n",
    "        i+=1\n",
    "    ch+='\\t'*i\n",
    "    ch+=\"\"\"yield prms\n",
    "    \"\"\"\n",
    "    ch+='\\t'*(i+1)\n",
    "    #ch+=\"\"\"prms=dict()\"\"\"\n",
    "    exec(ch)\n",
    "    return genarator_parameters(algoName)\n",
    "    \n",
    "for pr in generatorParameters('GBC'):\n",
    "    print pr\n",
    "        \n",
    " "
   ]
  },
  {
   "cell_type": "code",
   "execution_count": 53,
   "metadata": {
    "collapsed": false
   },
   "outputs": [],
   "source": [
    "def execAlgo(ALGO,set_features,parameters,file_json,indice,prefix_id=\"\",score_seuil=0.5):\n",
    "    \"\"\"Exec one classifier with a combinaison of parameters and on a dataset, and save the resuts in a json File.\n",
    "       parameters: one parameters combinaison\n",
    "       set_features: dataset\n",
    "    \"\"\"\n",
    "    score=0\n",
    "    try:\n",
    "        ALGO.set_params(**parameters)\n",
    "        ALGO.fit(X_train[set_features],Y_train)\n",
    "        ALGO_preds = ALGO.predict_proba(X_valid[set_features])[:, 1]\n",
    "        fpr,tpr,ll=metrics.roc_curve(Y_valid, ALGO_preds)\n",
    "        score=metrics.auc(fpr, tpr)\n",
    "        #print score,\":\",set_features\n",
    "        if score>=score_seuil:#si >=score_seuil on stock\n",
    "            params=parameters\n",
    "            idd=prefix_id+\"_\"+str(indice)\n",
    "            obj_json=dict()\n",
    "            obj_json[\"id\"]=idd\n",
    "            obj_json[\"score\"]=score\n",
    "            obj_json[\"features\"]=set_features\n",
    "            obj_json[\"valid\"]=ALGO_preds#ALGO.predict(X_valid[set_features]).tolist()\n",
    "            obj_json[\"hold\"]=ALGO.predict_proba(X_hold[set_features])[:, 1]#ALGO.predict(X_hold[set_features]).tolist()\n",
    "            obj_json[\"test\"]=ALGO.predict_proba(TestData[set_features])[:, 1]#ALGO.predict(TestData[set_features]).tolist()\n",
    "            if type(ALGO)==type(ensemble.BaggingClassifier()):\n",
    "                #prob de parameter 'base_estimator' is Not Serializable\n",
    "                #we have been stocked the estimator class name\n",
    "                params={i:j for i,j in parameters.items() if i!='base_estimator'}\n",
    "                params['base_estimator']=str(parameters['base_estimator'].__class__).split(\"'\")[1].split(\".\")[-1]\n",
    "                print params['base_estimator'],\" score:\",score\n",
    "            obj_json[\"params\"]=params\n",
    "            json.dump(obj=obj_json,fp=file_json,indent=5)\n",
    "            file_json.flush()\n",
    "            indice+=1#rise the number of classifier\n",
    "    except Exception as e:\n",
    "        print e\n",
    "    return indice,score#return the next position of next classifier, and score"
   ]
  },
  {
   "cell_type": "code",
   "execution_count": 54,
   "metadata": {
    "collapsed": true
   },
   "outputs": [],
   "source": [
    "def run_stock_for_algo(model_name,thresholds_score=0.6):\n",
    "    \"\"\"Run a classifier for each parameters combinaison and two differents datasets (All features, 20 Random features )\"\"\"\n",
    "    with open(\"results/\"+model_name+\".amh\",\"a\") as dtOut:#results file\n",
    "        seuil_score=thresholds_score\n",
    "        #obj_json=dict()\n",
    "        indice,min_score,max_score=1,1,0\n",
    "        ALGO=models[model_name]\n",
    "        all_features=list(range(len(imporatnce_features)))\n",
    "        for parameters in generatorParameters(model_name):\n",
    "            j=indice\n",
    "            set_features=generer20Feature()\n",
    "            indice,score=execAlgo(ALGO,all_features,parameters,dtOut,indice,model_name,seuil_score)\n",
    "            min_score=score if score<min_score and indice>j else min_score\n",
    "            max_score=score if score>max_score and indice>j else max_score\n",
    "            j=indice\n",
    "            indice,score=execAlgo(ALGO,set_features,parameters,dtOut,indice,model_name,seuil_score)\n",
    "            min_score=score if score<min_score and indice>j else min_score\n",
    "            max_score=score if score>max_score and indice>j else max_score\n",
    "        #json.dump(obj=obj_json,fp=dtOut,indent=5)\n",
    "        dtOut.flush()\n",
    "        print indice-1, \"Classifier :\"+model_name,\"  with the scores between:\",min_score,\"and \",max_score"
   ]
  },
  {
   "cell_type": "code",
   "execution_count": 13,
   "metadata": {
    "collapsed": false
   },
   "outputs": [
    {
     "name": "stdout",
     "output_type": "stream",
     "text": [
      "102 Classifier :DTC   with the scores between: 0.600081278444 and  0.68998302048\n"
     ]
    }
   ],
   "source": [
    "#---------------DecisionTreeClassifier--------# Lenovo-Majid-PC #DONE\n",
    "model_name=\"DTC\"\n",
    "run_stock_for_algo(model_name)"
   ]
  },
  {
   "cell_type": "code",
   "execution_count": 19,
   "metadata": {
    "collapsed": false
   },
   "outputs": [
    {
     "name": "stdout",
     "output_type": "stream",
     "text": [
      "104 Classifier :LR   with the scores between: 0.63680641341 and  0.76521583482\n"
     ]
    }
   ],
   "source": [
    "#---------------LogisticRegression--------# Lenovo-Majid-PC #DONE\n",
    "model_name=\"LR\"\n",
    "run_stock_for_algo(model_name)"
   ]
  },
  {
   "cell_type": "code",
   "execution_count": null,
   "metadata": {
    "collapsed": true
   },
   "outputs": [],
   "source": [
    "#---------------KNeighborsClassifier--------# HP-Prof-PC #\n",
    "model_name=\"KNN\"\n",
    "run_stock_for_algo(model_name)"
   ]
  },
  {
   "cell_type": "code",
   "execution_count": null,
   "metadata": {
    "collapsed": true
   },
   "outputs": [],
   "source": [
    "# ---------------RandomForestClassifier--------# HP-Majid-PC #\n",
    "model_name=\"RFC\"\n",
    "run_stock_for_algo(model_name)"
   ]
  },
  {
   "cell_type": "code",
   "execution_count": null,
   "metadata": {
    "collapsed": true
   },
   "outputs": [],
   "source": [
    "# ---------------ExtraTreesClassifier--------# Ubuntu-rush #\n",
    "model_name=\"ETC\"\n",
    "run_stock_for_algo(model_name,0.6)"
   ]
  },
  {
   "cell_type": "code",
   "execution_count": 48,
   "metadata": {
    "collapsed": false,
    "scrolled": true
   },
   "outputs": [
    {
     "name": "stdout",
     "output_type": "stream",
     "text": [
      "DecisionTreeClassifier  score: 0.689585567146\n",
      "DecisionTreeClassifier  score: 0.667273893094\n",
      "DecisionTreeClassifier  score: 0.650940806706\n",
      "DecisionTreeClassifier  score: 0.601933753272\n",
      "DecisionTreeClassifier  score: 0.718905708285\n",
      "DecisionTreeClassifier  score: 0.710249434125\n",
      "DecisionTreeClassifier  score: 0.702953124053\n",
      "DecisionTreeClassifier  score: 0.70311042662\n",
      "DecisionTreeClassifier  score: 0.748118255775\n",
      "DecisionTreeClassifier  score: 0.747726089465\n",
      "DecisionTreeClassifier  score: 0.736280828796\n",
      "DecisionTreeClassifier  score: 0.719522763851\n",
      "LogisticRegression  score: 0.706838922607\n",
      "LogisticRegression  score: 0.625391784773\n",
      "LogisticRegression  score: 0.666957925324\n",
      "LogisticRegression  score: 0.670664292121\n",
      "GradientBoostingClassifier  score: 0.809536514472\n",
      "GradientBoostingClassifier  score: 0.787786027956\n",
      "GradientBoostingClassifier  score: 0.826803496281\n",
      "GradientBoostingClassifier  score: 0.818822271427\n",
      "GradientBoostingClassifier  score: 0.81352451064\n",
      "GradientBoostingClassifier  score: 0.785291861124\n",
      "GradientBoostingClassifier  score: 0.828075488663\n",
      "GradientBoostingClassifier  score: 0.764153851722\n",
      "GradientBoostingClassifier  score: 0.813681867712\n",
      "GradientBoostingClassifier  score: 0.808120573344\n",
      "GradientBoostingClassifier  score: 0.828883640141\n",
      "GradientBoostingClassifier  score: 0.827272515197\n",
      "KNeighborsClassifier  score: 0.688543478517\n",
      "KNeighborsClassifier  score: 0.62178701603\n",
      "KNeighborsClassifier  score: 0.615984371777\n",
      "KNeighborsClassifier  score: 0.615192353896\n",
      "KNeighborsClassifier  score: 0.695529107843\n",
      "KNeighborsClassifier  score: 0.710248180501\n",
      "KNeighborsClassifier  score: 0.629212830919\n",
      "KNeighborsClassifier  score: 0.718121593685\n",
      "KNeighborsClassifier  score: 0.73947364577\n",
      "KNeighborsClassifier  score: 0.634334648294\n",
      "KNeighborsClassifier  score: 0.711144412696\n",
      "DecisionTreeClassifier  score: 0.686988930172\n",
      "DecisionTreeClassifier  score: 0.665076508132\n",
      "DecisionTreeClassifier  score: 0.649362221483\n",
      "DecisionTreeClassifier  score: 0.636906321797\n",
      "DecisionTreeClassifier  score: 0.727323139807\n",
      "DecisionTreeClassifier  score: 0.712388498315\n",
      "DecisionTreeClassifier  score: 0.695297405412\n",
      "DecisionTreeClassifier  score: 0.682193491097\n",
      "DecisionTreeClassifier  score: 0.749244882271\n",
      "DecisionTreeClassifier  score: 0.738273218971\n",
      "DecisionTreeClassifier  score: 0.726503542197\n",
      "DecisionTreeClassifier  score: 0.725011457034\n",
      "LogisticRegression  score: 0.682542598146\n",
      "LogisticRegression  score: 0.616324812469\n",
      "LogisticRegression  score: 0.610627690659\n",
      "GradientBoostingClassifier  score: 0.809787893349\n",
      "GradientBoostingClassifier  score: 0.795255338149\n",
      "GradientBoostingClassifier  score: 0.828045619707\n",
      "GradientBoostingClassifier  score: 0.82592497834\n",
      "GradientBoostingClassifier  score: 0.813739098376\n",
      "GradientBoostingClassifier  score: 0.782970421885\n",
      "GradientBoostingClassifier  score: 0.829326768994\n",
      "GradientBoostingClassifier  score: 0.819739106661\n",
      "GradientBoostingClassifier  score: 0.81464007254\n",
      "GradientBoostingClassifier  score: 0.739270885704\n",
      "GradientBoostingClassifier  score: 0.830245021368\n",
      "GradientBoostingClassifier  score: 0.829668408804\n",
      "KNeighborsClassifier  score: 0.663123089313\n",
      "KNeighborsClassifier  score: 0.650554199946\n",
      "KNeighborsClassifier  score: 0.612328913019\n",
      "KNeighborsClassifier  score: 0.685967880625\n",
      "KNeighborsClassifier  score: 0.684675666743\n",
      "KNeighborsClassifier  score: 0.684075889386\n",
      "KNeighborsClassifier  score: 0.624389812113\n",
      "KNeighborsClassifier  score: 0.60510356897\n",
      "KNeighborsClassifier  score: 0.721476782228\n",
      "KNeighborsClassifier  score: 0.666403877993\n",
      "KNeighborsClassifier  score: 0.627755029649\n",
      "KNeighborsClassifier  score: 0.707207815114\n",
      "78 Classifier :BAGC   with the scores between: 0.601933753272 and  0.830245021368\n"
     ]
    }
   ],
   "source": [
    "# ---------------BaggingClassifier--------#1 Lenovo-Majid-PC #Done\n",
    "model_name=\"BAGC\"\n",
    "run_stock_for_algo(model_name,0.6)"
   ]
  },
  {
   "cell_type": "code",
   "execution_count": 55,
   "metadata": {
    "collapsed": false,
    "scrolled": true
   },
   "outputs": [
    {
     "name": "stdout",
     "output_type": "stream",
     "text": [
      "DecisionTreeClassifier  score: 0.725426406599\n",
      "DecisionTreeClassifier  score: 0.717623305373\n",
      "DecisionTreeClassifier  score: 0.726479559823\n",
      "DecisionTreeClassifier  score: 0.732883017035\n",
      "DecisionTreeClassifier  score: 0.762728372151\n",
      "DecisionTreeClassifier  score: 0.757990654287\n",
      "DecisionTreeClassifier  score: 0.756925891414\n",
      "DecisionTreeClassifier  score: 0.751010148468\n",
      "DecisionTreeClassifier  score: 0.789201260514\n",
      "DecisionTreeClassifier  score: 0.768702653889\n",
      "DecisionTreeClassifier  score: 0.7782173335\n",
      "DecisionTreeClassifier  score: 0.779488181268\n",
      "LogisticRegression  score: 0.660268859847\n",
      "GradientBoostingClassifier  score: 0.819818630031\n",
      "GradientBoostingClassifier  score: 0.793175957365\n",
      "GradientBoostingClassifier  score: 0.828112007277\n",
      "GradientBoostingClassifier  score: 0.822696950881\n",
      "GradientBoostingClassifier  score: 0.819944210459\n",
      "GradientBoostingClassifier  score: 0.75632431538\n",
      "GradientBoostingClassifier  score: 0.829053587959\n",
      "GradientBoostingClassifier  score: 0.762101287592\n",
      "GradientBoostingClassifier  score: 0.814248887327\n",
      "GradientBoostingClassifier  score: 0.760353517626\n",
      "GradientBoostingClassifier  score: 0.826249230929\n",
      "GradientBoostingClassifier  score: 0.820934246437\n",
      "DecisionTreeClassifier  score: 0.724909749968\n",
      "DecisionTreeClassifier  score: 0.707516915204\n",
      "DecisionTreeClassifier  score: 0.731131431691\n",
      "DecisionTreeClassifier  score: 0.67870781664\n",
      "DecisionTreeClassifier  score: 0.756535905319\n",
      "DecisionTreeClassifier  score: 0.751544846384\n",
      "DecisionTreeClassifier  score: 0.761464610084\n",
      "DecisionTreeClassifier  score: 0.738237517938\n",
      "DecisionTreeClassifier  score: 0.781846357143\n",
      "DecisionTreeClassifier  score: 0.770103660539\n",
      "DecisionTreeClassifier  score: 0.773480324207\n",
      "DecisionTreeClassifier  score: 0.766674998725\n",
      "LogisticRegression  score: 0.648669457924\n",
      "LogisticRegression  score: 0.615578633624\n",
      "LogisticRegression  score: 0.615408086246\n",
      "GradientBoostingClassifier  score: 0.820562465144\n",
      "GradientBoostingClassifier  score: 0.819953748903\n",
      "GradientBoostingClassifier  score: 0.82823137409\n",
      "GradientBoostingClassifier  score: 0.764095639961\n",
      "GradientBoostingClassifier  score: 0.821267601427\n",
      "GradientBoostingClassifier  score: 0.818225273846\n",
      "GradientBoostingClassifier  score: 0.828728081746\n",
      "GradientBoostingClassifier  score: 0.825303671353\n",
      "GradientBoostingClassifier  score: 0.814777262617\n",
      "GradientBoostingClassifier  score: 0.740346822183\n",
      "GradientBoostingClassifier  score: 0.826734219925\n",
      "GradientBoostingClassifier  score: 0.822902327206\n",
      "52 Classifier :BAGC   with the scores between: 0.615408086246 and  0.829053587959\n"
     ]
    }
   ],
   "source": [
    "# ---------------BaggingClassifier--------#2 Lenovo-Majid-PC\n",
    "model_name=\"BAGC\"\n",
    "run_stock_for_algo(model_name,0.6)"
   ]
  },
  {
   "cell_type": "code",
   "execution_count": null,
   "metadata": {
    "collapsed": true
   },
   "outputs": [],
   "source": [
    "# ---------------ensemble.GradientBoostingClassifier()--------#\n",
    "model_name=\"GBC\"\n",
    "run_stock_for_algo(model_name)"
   ]
  },
  {
   "cell_type": "code",
   "execution_count": null,
   "metadata": {
    "collapsed": true
   },
   "outputs": [],
   "source": [
    "# ---------------neural_network.MLPClassifier--------#\n",
    "model_name=\"NNC\"\n",
    "run_stock_for_algo(model_name)\n",
    "#ValueError: Input contains NaN, infinity or a value too large for dtype('float64')."
   ]
  },
  {
   "cell_type": "code",
   "execution_count": null,
   "metadata": {
    "collapsed": true
   },
   "outputs": [],
   "source": [
    "# ---------------SVC--------# Prof-HP-PC #\n",
    "model_name=\"SVC\"\n",
    "run_stock_for_algo(model_name)"
   ]
  },
  {
   "cell_type": "code",
   "execution_count": 15,
   "metadata": {
    "collapsed": false
   },
   "outputs": [
    {
     "data": {
      "text/plain": [
       "[1e-08, 1e-07, 1e-06, 1e-05, 0.0001, 0.001, 0.01, 0.1, 1, 10, 100, 1000, 10000]"
      ]
     },
     "execution_count": 15,
     "metadata": {},
     "output_type": "execute_result"
    }
   ],
   "source": [
    "[10**x for x in range(-8,5)]"
   ]
  },
  {
   "cell_type": "markdown",
   "metadata": {
    "collapsed": false
   },
   "source": [
    "<font style=\"color:red;font-weight:bold;font-size:1.3em;\">===============New Start, clear Memory=============</font>"
   ]
  },
  {
   "cell_type": "markdown",
   "metadata": {},
   "source": [
    "<font style=\"color:blue;font-weight:bold;font-size:1.2em;\">Upload results files, and construct new dataset </font>"
   ]
  },
  {
   "cell_type": "code",
   "execution_count": null,
   "metadata": {
    "collapsed": true
   },
   "outputs": [],
   "source": [
    "#standarized the files\n",
    "i=2\n",
    "with open(\"results/rushHpPC/ETC.amh\",\"r\") as fi:\n",
    "    with open(\"results/rushHpPC/ETC2.amh\",\"w\") as fo:\n",
    "        lines=[\"{\",\"\\\"ETC_1\\\":\"]\n",
    "        for line in fi:\n",
    "            if \"}{\" in line:\n",
    "                lines.append(\"},\")\n",
    "                fo.writelines(lines)\n",
    "                lines=[\"\\\"ETC_\"+str(i)+\"\\\":{\"]\n",
    "                i+=1\n",
    "            else:\n",
    "                lines.append(line)\n",
    "        lines.append(\"}\")\n",
    "        fo.writelines(lines)\n",
    "#Done"
   ]
  },
  {
   "cell_type": "code",
   "execution_count": null,
   "metadata": {
    "collapsed": true
   },
   "outputs": [],
   "source": [
    "# The best 228 classifiers \"ExtraTreesClassifier\" score >0.78\n",
    "b=load_json_objcet(\"results/AbdelmajidLenovoPC/ETC.amh\")\n",
    "clsEtc={key:cls for key,cls in b.items() if cls['score']>0.78}\n",
    "with open(\"results/AbdelmajidLenovoPC/ETC228.amh\",\"w\") as f:\n",
    "    json.dump(clsEtc,f)\n",
    "len(clsEtc)"
   ]
  },
  {
   "cell_type": "markdown",
   "metadata": {
    "collapsed": false
   },
   "source": [
    "Construction the datasets"
   ]
  },
  {
   "cell_type": "code",
   "execution_count": 2,
   "metadata": {
    "collapsed": false
   },
   "outputs": [],
   "source": [
    "result_valid=pd.DataFrame()\n",
    "result_hold=pd.DataFrame()\n",
    "result_test=pd.DataFrame()"
   ]
  },
  {
   "cell_type": "code",
   "execution_count": 9,
   "metadata": {
    "collapsed": true
   },
   "outputs": [],
   "source": [
    "#==========\n",
    "def load_json_objcet(file_path):\n",
    "    \"\"\"Method return an object or objects from the file\"\"\"\n",
    "    try:\n",
    "        with open(file_path, 'r') as f:\n",
    "            return json.load(f,encoding='utf8')\n",
    "    except Exception as e:\n",
    "        print \"Exception load Json: \",file_path,\"::\",e\n",
    "        return None"
   ]
  },
  {
   "cell_type": "code",
   "execution_count": 4,
   "metadata": {
    "collapsed": false
   },
   "outputs": [],
   "source": [
    "def go_load(file_path, result_valid, result_hold, result_test):\n",
    "    \"\"\"Load the classifiers results and construct the new datasets\"\"\"\n",
    "    classifiers=load_json_objcet(file_path)\n",
    "    for idd,classifier in classifiers.items():\n",
    "        if result_valid is not None:result_valid[idd]=classifier['valid']\n",
    "        if result_hold is not None:result_hold[idd]=classifier['hold']\n",
    "        if result_test is not None:result_test[idd]=classifier['test']"
   ]
  },
  {
   "cell_type": "code",
   "execution_count": 6,
   "metadata": {
    "collapsed": false
   },
   "outputs": [],
   "source": [
    "b=load_json_objcet(\"results/resultsProba/GBC2.amh\")"
   ]
  },
  {
   "cell_type": "code",
   "execution_count": 8,
   "metadata": {
    "collapsed": false
   },
   "outputs": [
    {
     "data": {
      "text/plain": [
       "122"
      ]
     },
     "execution_count": 8,
     "metadata": {},
     "output_type": "execute_result"
    }
   ],
   "source": []
  },
  {
   "cell_type": "markdown",
   "metadata": {},
   "source": [
    "<font style=\"color:green;font-size:1.2em;\"> <<<<<===== New data set =====>>>>>> </font>"
   ]
  },
  {
   "cell_type": "code",
   "execution_count": 5,
   "metadata": {
    "collapsed": false
   },
   "outputs": [],
   "source": [
    "paths=[\n",
    "       \"results/resultsProba/ETC2.amh\", # in Test => prat 1\n",
    "       \"results/resultsProba/RFC2.amh\", # in Test => prat 2\n",
    "       \"results/resultsProba/BAGC2.amh\", # in Test => prat 2\n",
    "       \"results/resultsProba/DTC2.amh\", # in Test => prat 2\n",
    "       \"results/resultsProba/LR2.amh\", # in Test => prat 3\n",
    "       \"results/resultsProba/KNN2.amh\", # in Test => prat 3\n",
    "       \"results/resultsProba/GBC2.amh\", # in Test => prat 3\n",
    "      ] \n"
   ]
  },
  {
   "cell_type": "code",
   "execution_count": 7,
   "metadata": {
    "collapsed": false
   },
   "outputs": [],
   "source": [
    "# Vaildation Proba\n",
    "for path in paths:\n",
    "    go_load(path, result_valid, result_hold=None, result_test=None)"
   ]
  },
  {
   "cell_type": "code",
   "execution_count": 7,
   "metadata": {
    "collapsed": false
   },
   "outputs": [],
   "source": [
    "result_valid.to_csv(\"results/result_proba_valid.csv\")"
   ]
  },
  {
   "cell_type": "code",
   "execution_count": null,
   "metadata": {
    "collapsed": true
   },
   "outputs": [],
   "source": [
    "# Holding proba\n",
    "for path in paths:\n",
    "    go_load(path, result_valid=None, result_hold=result_hold, result_test=None)"
   ]
  },
  {
   "cell_type": "code",
   "execution_count": 6,
   "metadata": {
    "collapsed": true
   },
   "outputs": [],
   "source": [
    "result_hold.to_csv(\"results/result_proba_hold.csv\")"
   ]
  },
  {
   "cell_type": "code",
   "execution_count": 6,
   "metadata": {
    "collapsed": false
   },
   "outputs": [],
   "source": [
    "# Test proba\n",
    "for path in paths:\n",
    "    go_load(path, result_valid=None, result_hold=None, result_test=result_test)"
   ]
  },
  {
   "cell_type": "code",
   "execution_count": null,
   "metadata": {
    "collapsed": false
   },
   "outputs": [],
   "source": [
    "result_test.to_csv(\"results/result_proba_test1.csv\")# 1 part ETC \n",
    "result_test.to_csv(\"results/result_proba_test2.csv\")# 2 part RFC,BAGC and DTC\n",
    "result_test.to_csv(\"results/result_proba_test3.csv\")# 3 part LR, KNN and GBC"
   ]
  },
  {
   "cell_type": "code",
   "execution_count": 2,
   "metadata": {
    "collapsed": true
   },
   "outputs": [],
   "source": [
    "#=====================================\n",
    "# On va faire la stepwise sur la validation et Holding.\n",
    "# apres on va savoir les colonnes q'on va utilser. et on les recupere depuis Test1 et Test2.\n",
    "# et on va construire le jeu de test avec seulement les colonnes qu'on a obtient. et on fait l'etape de \n",
    "# prediction => submit le resultat\n",
    "\n",
    "#Test1=pd.read_csv(\"results/result_test1.csv\",index_col=0)\n",
    "#Test2=pd.read_csv(\"results/result_test1.csv\",index_col=0)"
   ]
  },
  {
   "cell_type": "code",
   "execution_count": 2,
   "metadata": {
    "collapsed": false
   },
   "outputs": [],
   "source": [
    "#(pd.read_csv(\"results/result_test1.csv\",index_col=0)+pd.read_csv(\"results/result_test1.csv\",index_col=0))\\\n",
    "#.to_csv(\"results/result_test.csv\")"
   ]
  },
  {
   "cell_type": "markdown",
   "metadata": {
    "collapsed": false
   },
   "source": [
    "<font style=\"color:blue;font-size:1.1em;\"> SetpWise </font>"
   ]
  },
  {
   "cell_type": "code",
   "execution_count": 17,
   "metadata": {
    "collapsed": false
   },
   "outputs": [],
   "source": [
    "#-----------------Done------\n",
    "\n",
    "X_validation=pd.read_csv(\"results/result_proba_valid.csv\")\n",
    "X_holding=pd.read_csv(\"results/result_proba_hold.csv\")\n",
    "\n",
    "Y_validation=pd.read_csv('datas/valid_final.csv')['TARGET']\n",
    "Y_holding=pd.read_csv('datas/hold_final.csv')['TARGET']\n",
    "X_validation['TARGET']=Y_validation\n",
    "X_holding['TARGET']=Y_holding\n",
    "\n",
    "#stocker les dataframes de validation et de holding avec le TARGET\n",
    "X_validation.to_csv(\"results/result_proba_valid_target.csv\")\n",
    "\n",
    "X_holding.to_csv(\"results/result_proba_hold_target.csv\")\n",
    "\n",
    "#------------------Done"
   ]
  },
  {
   "cell_type": "code",
   "execution_count": 18,
   "metadata": {
    "collapsed": false
   },
   "outputs": [
    {
     "data": {
      "text/html": [
       "<div>\n",
       "<table border=\"1\" class=\"dataframe\">\n",
       "  <thead>\n",
       "    <tr style=\"text-align: right;\">\n",
       "      <th></th>\n",
       "      <th>Unnamed: 0</th>\n",
       "      <th>RFC_168</th>\n",
       "      <th>RFC_169</th>\n",
       "      <th>RFC_162</th>\n",
       "      <th>RFC_163</th>\n",
       "      <th>RFC_160</th>\n",
       "      <th>RFC_161</th>\n",
       "      <th>RFC_166</th>\n",
       "      <th>RFC_167</th>\n",
       "      <th>RFC_164</th>\n",
       "      <th>...</th>\n",
       "      <th>GBC_48</th>\n",
       "      <th>GBC_47</th>\n",
       "      <th>GBC_46</th>\n",
       "      <th>GBC_45</th>\n",
       "      <th>GBC_44</th>\n",
       "      <th>GBC_43</th>\n",
       "      <th>GBC_42</th>\n",
       "      <th>GBC_41</th>\n",
       "      <th>GBC_40</th>\n",
       "      <th>TARGET</th>\n",
       "    </tr>\n",
       "  </thead>\n",
       "  <tbody>\n",
       "    <tr>\n",
       "      <th>0</th>\n",
       "      <td>0</td>\n",
       "      <td>0.00</td>\n",
       "      <td>0.00</td>\n",
       "      <td>0.00</td>\n",
       "      <td>0.00</td>\n",
       "      <td>0.02</td>\n",
       "      <td>0.00</td>\n",
       "      <td>0.00</td>\n",
       "      <td>0.00</td>\n",
       "      <td>0.00</td>\n",
       "      <td>...</td>\n",
       "      <td>0.00</td>\n",
       "      <td>0.00</td>\n",
       "      <td>0.00</td>\n",
       "      <td>0.00</td>\n",
       "      <td>0.00</td>\n",
       "      <td>0.00</td>\n",
       "      <td>0.00</td>\n",
       "      <td>0.00</td>\n",
       "      <td>0.00</td>\n",
       "      <td>0</td>\n",
       "    </tr>\n",
       "    <tr>\n",
       "      <th>1</th>\n",
       "      <td>1</td>\n",
       "      <td>0.00</td>\n",
       "      <td>0.00</td>\n",
       "      <td>0.00</td>\n",
       "      <td>0.00</td>\n",
       "      <td>0.00</td>\n",
       "      <td>0.00</td>\n",
       "      <td>0.00</td>\n",
       "      <td>0.00</td>\n",
       "      <td>0.00</td>\n",
       "      <td>...</td>\n",
       "      <td>0.00</td>\n",
       "      <td>0.00</td>\n",
       "      <td>0.00</td>\n",
       "      <td>0.00</td>\n",
       "      <td>0.01</td>\n",
       "      <td>0.00</td>\n",
       "      <td>0.00</td>\n",
       "      <td>0.00</td>\n",
       "      <td>0.00</td>\n",
       "      <td>0</td>\n",
       "    </tr>\n",
       "    <tr>\n",
       "      <th>2</th>\n",
       "      <td>2</td>\n",
       "      <td>0.01</td>\n",
       "      <td>0.00</td>\n",
       "      <td>0.00</td>\n",
       "      <td>0.00</td>\n",
       "      <td>0.05</td>\n",
       "      <td>0.01</td>\n",
       "      <td>0.00</td>\n",
       "      <td>0.00</td>\n",
       "      <td>0.03</td>\n",
       "      <td>...</td>\n",
       "      <td>0.00</td>\n",
       "      <td>0.00</td>\n",
       "      <td>0.00</td>\n",
       "      <td>0.00</td>\n",
       "      <td>0.02</td>\n",
       "      <td>0.00</td>\n",
       "      <td>0.00</td>\n",
       "      <td>0.00</td>\n",
       "      <td>0.00</td>\n",
       "      <td>0</td>\n",
       "    </tr>\n",
       "    <tr>\n",
       "      <th>3</th>\n",
       "      <td>3</td>\n",
       "      <td>0.00</td>\n",
       "      <td>0.16</td>\n",
       "      <td>0.12</td>\n",
       "      <td>0.16</td>\n",
       "      <td>0.00</td>\n",
       "      <td>0.12</td>\n",
       "      <td>0.76</td>\n",
       "      <td>0.04</td>\n",
       "      <td>0.76</td>\n",
       "      <td>...</td>\n",
       "      <td>0.15</td>\n",
       "      <td>0.10</td>\n",
       "      <td>0.15</td>\n",
       "      <td>0.10</td>\n",
       "      <td>0.03</td>\n",
       "      <td>0.07</td>\n",
       "      <td>0.11</td>\n",
       "      <td>0.09</td>\n",
       "      <td>0.10</td>\n",
       "      <td>1</td>\n",
       "    </tr>\n",
       "    <tr>\n",
       "      <th>4</th>\n",
       "      <td>4</td>\n",
       "      <td>0.09</td>\n",
       "      <td>0.09</td>\n",
       "      <td>0.07</td>\n",
       "      <td>0.09</td>\n",
       "      <td>0.15</td>\n",
       "      <td>0.07</td>\n",
       "      <td>0.18</td>\n",
       "      <td>0.05</td>\n",
       "      <td>0.11</td>\n",
       "      <td>...</td>\n",
       "      <td>0.01</td>\n",
       "      <td>0.01</td>\n",
       "      <td>0.05</td>\n",
       "      <td>0.05</td>\n",
       "      <td>0.08</td>\n",
       "      <td>0.16</td>\n",
       "      <td>0.02</td>\n",
       "      <td>0.02</td>\n",
       "      <td>0.06</td>\n",
       "      <td>0</td>\n",
       "    </tr>\n",
       "  </tbody>\n",
       "</table>\n",
       "<p>5 rows × 1037 columns</p>\n",
       "</div>"
      ],
      "text/plain": [
       "   Unnamed: 0  RFC_168  RFC_169  RFC_162  RFC_163  RFC_160  RFC_161  RFC_166  \\\n",
       "0           0     0.00     0.00     0.00     0.00     0.02     0.00     0.00   \n",
       "1           1     0.00     0.00     0.00     0.00     0.00     0.00     0.00   \n",
       "2           2     0.01     0.00     0.00     0.00     0.05     0.01     0.00   \n",
       "3           3     0.00     0.16     0.12     0.16     0.00     0.12     0.76   \n",
       "4           4     0.09     0.09     0.07     0.09     0.15     0.07     0.18   \n",
       "\n",
       "   RFC_167  RFC_164   ...    GBC_48  GBC_47  GBC_46  GBC_45  GBC_44  GBC_43  \\\n",
       "0     0.00     0.00   ...      0.00    0.00    0.00    0.00    0.00    0.00   \n",
       "1     0.00     0.00   ...      0.00    0.00    0.00    0.00    0.01    0.00   \n",
       "2     0.00     0.03   ...      0.00    0.00    0.00    0.00    0.02    0.00   \n",
       "3     0.04     0.76   ...      0.15    0.10    0.15    0.10    0.03    0.07   \n",
       "4     0.05     0.11   ...      0.01    0.01    0.05    0.05    0.08    0.16   \n",
       "\n",
       "   GBC_42  GBC_41  GBC_40  TARGET  \n",
       "0    0.00    0.00    0.00       0  \n",
       "1    0.00    0.00    0.00       0  \n",
       "2    0.00    0.00    0.00       0  \n",
       "3    0.11    0.09    0.10       1  \n",
       "4    0.02    0.02    0.06       0  \n",
       "\n",
       "[5 rows x 1037 columns]"
      ]
     },
     "execution_count": 18,
     "metadata": {},
     "output_type": "execute_result"
    }
   ],
   "source": [
    "X_validation.head()"
   ]
  },
  {
   "cell_type": "markdown",
   "metadata": {},
   "source": [
    "<font style=\"color:red;font-size:1.3em;\"> The last start :O , The stepwise is Here </font>"
   ]
  },
  {
   "cell_type": "code",
   "execution_count": 3,
   "metadata": {
    "collapsed": false
   },
   "outputs": [],
   "source": [
    "X_validation=pd.read_csv(\"results/result_proba_valid_target.csv\",index_col=0)\n",
    "X_holding=pd.read_csv(\"results/result_proba_hold_target.csv\",index_col=0)\n",
    "\n",
    "Y_validation=X_validation['TARGET']\n",
    "Y_holding=X_holding['TARGET']\n",
    "\n",
    "X_validation=X_validation.drop('TARGET',axis=1)\n",
    "X_holding=X_holding.drop('TARGET',axis=1)"
   ]
  },
  {
   "cell_type": "code",
   "execution_count": 3,
   "metadata": {
    "collapsed": false
   },
   "outputs": [
    {
     "data": {
      "text/plain": [
       "('Xvalid:',\n",
       " (15280, 1036),\n",
       " 'Yvalid:',\n",
       " (15280,),\n",
       " ' - ',\n",
       " 'Xhold:',\n",
       " (7526, 1036),\n",
       " 'Yhold:',\n",
       " (7526,))"
      ]
     },
     "execution_count": 3,
     "metadata": {},
     "output_type": "execute_result"
    }
   ],
   "source": [
    "\"Xvalid:\",X_validation.shape,\"Yvalid:\",Y_validation.shape,\" - \",\"Xhold:\",X_holding.shape,\"Yhold:\",Y_holding.shape"
   ]
  },
  {
   "cell_type": "code",
   "execution_count": 4,
   "metadata": {
    "collapsed": false
   },
   "outputs": [
    {
     "data": {
      "text/html": [
       "<div>\n",
       "<table border=\"1\" class=\"dataframe\">\n",
       "  <thead>\n",
       "    <tr style=\"text-align: right;\">\n",
       "      <th></th>\n",
       "      <th>Unnamed: 0.1</th>\n",
       "      <th>RFC_168</th>\n",
       "      <th>RFC_169</th>\n",
       "      <th>RFC_162</th>\n",
       "      <th>RFC_163</th>\n",
       "      <th>RFC_160</th>\n",
       "      <th>RFC_161</th>\n",
       "      <th>RFC_166</th>\n",
       "      <th>RFC_167</th>\n",
       "      <th>RFC_164</th>\n",
       "      <th>...</th>\n",
       "      <th>GBC_49</th>\n",
       "      <th>GBC_48</th>\n",
       "      <th>GBC_47</th>\n",
       "      <th>GBC_46</th>\n",
       "      <th>GBC_45</th>\n",
       "      <th>GBC_44</th>\n",
       "      <th>GBC_43</th>\n",
       "      <th>GBC_42</th>\n",
       "      <th>GBC_41</th>\n",
       "      <th>GBC_40</th>\n",
       "    </tr>\n",
       "  </thead>\n",
       "  <tbody>\n",
       "    <tr>\n",
       "      <th>0</th>\n",
       "      <td>0</td>\n",
       "      <td>0.00</td>\n",
       "      <td>0.00</td>\n",
       "      <td>0.00</td>\n",
       "      <td>0.00</td>\n",
       "      <td>0.02</td>\n",
       "      <td>0.00</td>\n",
       "      <td>0.00</td>\n",
       "      <td>0.00</td>\n",
       "      <td>0.00</td>\n",
       "      <td>...</td>\n",
       "      <td>0.00</td>\n",
       "      <td>0.00</td>\n",
       "      <td>0.00</td>\n",
       "      <td>0.00</td>\n",
       "      <td>0.00</td>\n",
       "      <td>0.00</td>\n",
       "      <td>0.00</td>\n",
       "      <td>0.00</td>\n",
       "      <td>0.00</td>\n",
       "      <td>0.00</td>\n",
       "    </tr>\n",
       "    <tr>\n",
       "      <th>1</th>\n",
       "      <td>1</td>\n",
       "      <td>0.00</td>\n",
       "      <td>0.00</td>\n",
       "      <td>0.00</td>\n",
       "      <td>0.00</td>\n",
       "      <td>0.00</td>\n",
       "      <td>0.00</td>\n",
       "      <td>0.00</td>\n",
       "      <td>0.00</td>\n",
       "      <td>0.00</td>\n",
       "      <td>...</td>\n",
       "      <td>0.00</td>\n",
       "      <td>0.00</td>\n",
       "      <td>0.00</td>\n",
       "      <td>0.00</td>\n",
       "      <td>0.00</td>\n",
       "      <td>0.01</td>\n",
       "      <td>0.00</td>\n",
       "      <td>0.00</td>\n",
       "      <td>0.00</td>\n",
       "      <td>0.00</td>\n",
       "    </tr>\n",
       "    <tr>\n",
       "      <th>2</th>\n",
       "      <td>2</td>\n",
       "      <td>0.01</td>\n",
       "      <td>0.00</td>\n",
       "      <td>0.00</td>\n",
       "      <td>0.00</td>\n",
       "      <td>0.05</td>\n",
       "      <td>0.01</td>\n",
       "      <td>0.00</td>\n",
       "      <td>0.00</td>\n",
       "      <td>0.03</td>\n",
       "      <td>...</td>\n",
       "      <td>0.00</td>\n",
       "      <td>0.00</td>\n",
       "      <td>0.00</td>\n",
       "      <td>0.00</td>\n",
       "      <td>0.00</td>\n",
       "      <td>0.02</td>\n",
       "      <td>0.00</td>\n",
       "      <td>0.00</td>\n",
       "      <td>0.00</td>\n",
       "      <td>0.00</td>\n",
       "    </tr>\n",
       "    <tr>\n",
       "      <th>3</th>\n",
       "      <td>3</td>\n",
       "      <td>0.00</td>\n",
       "      <td>0.16</td>\n",
       "      <td>0.12</td>\n",
       "      <td>0.16</td>\n",
       "      <td>0.00</td>\n",
       "      <td>0.12</td>\n",
       "      <td>0.76</td>\n",
       "      <td>0.04</td>\n",
       "      <td>0.76</td>\n",
       "      <td>...</td>\n",
       "      <td>0.08</td>\n",
       "      <td>0.15</td>\n",
       "      <td>0.10</td>\n",
       "      <td>0.15</td>\n",
       "      <td>0.10</td>\n",
       "      <td>0.03</td>\n",
       "      <td>0.07</td>\n",
       "      <td>0.11</td>\n",
       "      <td>0.09</td>\n",
       "      <td>0.10</td>\n",
       "    </tr>\n",
       "    <tr>\n",
       "      <th>4</th>\n",
       "      <td>4</td>\n",
       "      <td>0.09</td>\n",
       "      <td>0.09</td>\n",
       "      <td>0.07</td>\n",
       "      <td>0.09</td>\n",
       "      <td>0.15</td>\n",
       "      <td>0.07</td>\n",
       "      <td>0.18</td>\n",
       "      <td>0.05</td>\n",
       "      <td>0.11</td>\n",
       "      <td>...</td>\n",
       "      <td>0.07</td>\n",
       "      <td>0.01</td>\n",
       "      <td>0.01</td>\n",
       "      <td>0.05</td>\n",
       "      <td>0.05</td>\n",
       "      <td>0.08</td>\n",
       "      <td>0.16</td>\n",
       "      <td>0.02</td>\n",
       "      <td>0.02</td>\n",
       "      <td>0.06</td>\n",
       "    </tr>\n",
       "  </tbody>\n",
       "</table>\n",
       "<p>5 rows × 1036 columns</p>\n",
       "</div>"
      ],
      "text/plain": [
       "   Unnamed: 0.1  RFC_168  RFC_169  RFC_162  RFC_163  RFC_160  RFC_161  \\\n",
       "0             0     0.00     0.00     0.00     0.00     0.02     0.00   \n",
       "1             1     0.00     0.00     0.00     0.00     0.00     0.00   \n",
       "2             2     0.01     0.00     0.00     0.00     0.05     0.01   \n",
       "3             3     0.00     0.16     0.12     0.16     0.00     0.12   \n",
       "4             4     0.09     0.09     0.07     0.09     0.15     0.07   \n",
       "\n",
       "   RFC_166  RFC_167  RFC_164   ...    GBC_49  GBC_48  GBC_47  GBC_46  GBC_45  \\\n",
       "0     0.00     0.00     0.00   ...      0.00    0.00    0.00    0.00    0.00   \n",
       "1     0.00     0.00     0.00   ...      0.00    0.00    0.00    0.00    0.00   \n",
       "2     0.00     0.00     0.03   ...      0.00    0.00    0.00    0.00    0.00   \n",
       "3     0.76     0.04     0.76   ...      0.08    0.15    0.10    0.15    0.10   \n",
       "4     0.18     0.05     0.11   ...      0.07    0.01    0.01    0.05    0.05   \n",
       "\n",
       "   GBC_44  GBC_43  GBC_42  GBC_41  GBC_40  \n",
       "0    0.00    0.00    0.00    0.00    0.00  \n",
       "1    0.01    0.00    0.00    0.00    0.00  \n",
       "2    0.02    0.00    0.00    0.00    0.00  \n",
       "3    0.03    0.07    0.11    0.09    0.10  \n",
       "4    0.08    0.16    0.02    0.02    0.06  \n",
       "\n",
       "[5 rows x 1036 columns]"
      ]
     },
     "execution_count": 4,
     "metadata": {},
     "output_type": "execute_result"
    }
   ],
   "source": [
    "X_validation.head()"
   ]
  },
  {
   "cell_type": "code",
   "execution_count": 5,
   "metadata": {
    "collapsed": false
   },
   "outputs": [
    {
     "data": {
      "text/html": [
       "<div>\n",
       "<table border=\"1\" class=\"dataframe\">\n",
       "  <thead>\n",
       "    <tr style=\"text-align: right;\">\n",
       "      <th></th>\n",
       "      <th>Unnamed: 0.1</th>\n",
       "      <th>RFC_168</th>\n",
       "      <th>RFC_169</th>\n",
       "      <th>RFC_162</th>\n",
       "      <th>RFC_163</th>\n",
       "      <th>RFC_160</th>\n",
       "      <th>RFC_161</th>\n",
       "      <th>RFC_166</th>\n",
       "      <th>RFC_167</th>\n",
       "      <th>RFC_164</th>\n",
       "      <th>...</th>\n",
       "      <th>GBC_49</th>\n",
       "      <th>GBC_48</th>\n",
       "      <th>GBC_47</th>\n",
       "      <th>GBC_46</th>\n",
       "      <th>GBC_45</th>\n",
       "      <th>GBC_44</th>\n",
       "      <th>GBC_43</th>\n",
       "      <th>GBC_42</th>\n",
       "      <th>GBC_41</th>\n",
       "      <th>GBC_40</th>\n",
       "    </tr>\n",
       "  </thead>\n",
       "  <tbody>\n",
       "    <tr>\n",
       "      <th>0</th>\n",
       "      <td>0</td>\n",
       "      <td>0.0</td>\n",
       "      <td>0.12</td>\n",
       "      <td>0.03</td>\n",
       "      <td>0.12</td>\n",
       "      <td>0.01</td>\n",
       "      <td>0.01</td>\n",
       "      <td>0.15</td>\n",
       "      <td>0.03</td>\n",
       "      <td>0.06</td>\n",
       "      <td>...</td>\n",
       "      <td>0.02</td>\n",
       "      <td>0.01</td>\n",
       "      <td>0.00</td>\n",
       "      <td>0.02</td>\n",
       "      <td>0.02</td>\n",
       "      <td>0.01</td>\n",
       "      <td>0.02</td>\n",
       "      <td>0.01</td>\n",
       "      <td>0.01</td>\n",
       "      <td>0.02</td>\n",
       "    </tr>\n",
       "    <tr>\n",
       "      <th>1</th>\n",
       "      <td>1</td>\n",
       "      <td>0.0</td>\n",
       "      <td>0.02</td>\n",
       "      <td>0.05</td>\n",
       "      <td>0.02</td>\n",
       "      <td>0.00</td>\n",
       "      <td>0.07</td>\n",
       "      <td>0.54</td>\n",
       "      <td>0.02</td>\n",
       "      <td>0.54</td>\n",
       "      <td>...</td>\n",
       "      <td>0.02</td>\n",
       "      <td>0.04</td>\n",
       "      <td>0.02</td>\n",
       "      <td>0.04</td>\n",
       "      <td>0.02</td>\n",
       "      <td>0.03</td>\n",
       "      <td>0.02</td>\n",
       "      <td>0.02</td>\n",
       "      <td>0.02</td>\n",
       "      <td>0.02</td>\n",
       "    </tr>\n",
       "    <tr>\n",
       "      <th>2</th>\n",
       "      <td>2</td>\n",
       "      <td>0.2</td>\n",
       "      <td>0.07</td>\n",
       "      <td>0.08</td>\n",
       "      <td>0.07</td>\n",
       "      <td>0.08</td>\n",
       "      <td>0.08</td>\n",
       "      <td>0.05</td>\n",
       "      <td>0.17</td>\n",
       "      <td>0.10</td>\n",
       "      <td>...</td>\n",
       "      <td>0.03</td>\n",
       "      <td>0.00</td>\n",
       "      <td>0.00</td>\n",
       "      <td>0.00</td>\n",
       "      <td>0.02</td>\n",
       "      <td>0.00</td>\n",
       "      <td>0.01</td>\n",
       "      <td>0.00</td>\n",
       "      <td>0.01</td>\n",
       "      <td>0.01</td>\n",
       "    </tr>\n",
       "    <tr>\n",
       "      <th>3</th>\n",
       "      <td>3</td>\n",
       "      <td>0.0</td>\n",
       "      <td>0.00</td>\n",
       "      <td>0.00</td>\n",
       "      <td>0.00</td>\n",
       "      <td>0.00</td>\n",
       "      <td>0.00</td>\n",
       "      <td>0.00</td>\n",
       "      <td>0.00</td>\n",
       "      <td>0.00</td>\n",
       "      <td>...</td>\n",
       "      <td>0.00</td>\n",
       "      <td>0.00</td>\n",
       "      <td>0.00</td>\n",
       "      <td>0.00</td>\n",
       "      <td>0.00</td>\n",
       "      <td>0.01</td>\n",
       "      <td>0.00</td>\n",
       "      <td>0.00</td>\n",
       "      <td>0.00</td>\n",
       "      <td>0.00</td>\n",
       "    </tr>\n",
       "    <tr>\n",
       "      <th>4</th>\n",
       "      <td>4</td>\n",
       "      <td>0.0</td>\n",
       "      <td>0.18</td>\n",
       "      <td>0.16</td>\n",
       "      <td>0.18</td>\n",
       "      <td>0.00</td>\n",
       "      <td>0.04</td>\n",
       "      <td>0.81</td>\n",
       "      <td>0.05</td>\n",
       "      <td>0.82</td>\n",
       "      <td>...</td>\n",
       "      <td>0.25</td>\n",
       "      <td>0.17</td>\n",
       "      <td>0.19</td>\n",
       "      <td>0.19</td>\n",
       "      <td>0.23</td>\n",
       "      <td>0.12</td>\n",
       "      <td>0.26</td>\n",
       "      <td>0.21</td>\n",
       "      <td>0.21</td>\n",
       "      <td>0.23</td>\n",
       "    </tr>\n",
       "  </tbody>\n",
       "</table>\n",
       "<p>5 rows × 1036 columns</p>\n",
       "</div>"
      ],
      "text/plain": [
       "   Unnamed: 0.1  RFC_168  RFC_169  RFC_162  RFC_163  RFC_160  RFC_161  \\\n",
       "0             0      0.0     0.12     0.03     0.12     0.01     0.01   \n",
       "1             1      0.0     0.02     0.05     0.02     0.00     0.07   \n",
       "2             2      0.2     0.07     0.08     0.07     0.08     0.08   \n",
       "3             3      0.0     0.00     0.00     0.00     0.00     0.00   \n",
       "4             4      0.0     0.18     0.16     0.18     0.00     0.04   \n",
       "\n",
       "   RFC_166  RFC_167  RFC_164   ...    GBC_49  GBC_48  GBC_47  GBC_46  GBC_45  \\\n",
       "0     0.15     0.03     0.06   ...      0.02    0.01    0.00    0.02    0.02   \n",
       "1     0.54     0.02     0.54   ...      0.02    0.04    0.02    0.04    0.02   \n",
       "2     0.05     0.17     0.10   ...      0.03    0.00    0.00    0.00    0.02   \n",
       "3     0.00     0.00     0.00   ...      0.00    0.00    0.00    0.00    0.00   \n",
       "4     0.81     0.05     0.82   ...      0.25    0.17    0.19    0.19    0.23   \n",
       "\n",
       "   GBC_44  GBC_43  GBC_42  GBC_41  GBC_40  \n",
       "0    0.01    0.02    0.01    0.01    0.02  \n",
       "1    0.03    0.02    0.02    0.02    0.02  \n",
       "2    0.00    0.01    0.00    0.01    0.01  \n",
       "3    0.01    0.00    0.00    0.00    0.00  \n",
       "4    0.12    0.26    0.21    0.21    0.23  \n",
       "\n",
       "[5 rows x 1036 columns]"
      ]
     },
     "execution_count": 5,
     "metadata": {},
     "output_type": "execute_result"
    }
   ],
   "source": [
    "X_holding.head()"
   ]
  },
  {
   "cell_type": "code",
   "execution_count": 7,
   "metadata": {
    "collapsed": false
   },
   "outputs": [],
   "source": [
    "x=X_validation.RFC_1\n",
    "y=X_validation.RFC_2\n",
    "#x+y"
   ]
  },
  {
   "cell_type": "markdown",
   "metadata": {},
   "source": [
    "The models score in file"
   ]
  },
  {
   "cell_type": "code",
   "execution_count": 3,
   "metadata": {
    "collapsed": false
   },
   "outputs": [],
   "source": [
    "#################################### Done ####### don't run this\n",
    "# sort the classifiers by score\n",
    "paths=[\n",
    "       \"results/resultsProba/ETC2.amh\", # in Test => prat 1\n",
    "       \"results/resultsProba/RFC2.amh\", # in Test => prat 2\n",
    "       \"results/resultsProba/BAGC2.amh\", # in Test => prat 2\n",
    "       \"results/resultsProba/DTC2.amh\", # in Test => prat 2\n",
    "       \"results/resultsProba/LR2.amh\", # in Test => prat 3\n",
    "       \"results/resultsProba/KNN2.amh\", # in Test => prat 3\n",
    "       \"results/resultsProba/GBC2.amh\", # in Test => prat 3\n",
    "      ]\n",
    "score_classifiers=[]\n",
    "for path in paths:\n",
    "    with open(path,\"r\") as f:\n",
    "        classifiers=load_json_objcet(path)\n",
    "        for idd,cls in classifiers.items():\n",
    "            score=cls[\"score\"]\n",
    "            score_classifiers.append(idd+\":\"+str(score)+\"\\n\")\n",
    "with open(\"results/resultsProba/scoresClassifiers.txt\",\"w\") as fo:\n",
    "    fo.writelines(score_classifiers)\n",
    "\n",
    "#################################### Done ####### don't run this"
   ]
  },
  {
   "cell_type": "markdown",
   "metadata": {},
   "source": [
    "Sort the classifiers by its scores auc, used in K_best models in stepWise"
   ]
  },
  {
   "cell_type": "code",
   "execution_count": null,
   "metadata": {
    "collapsed": true
   },
   "outputs": [],
   "source": [
    "#################################### Done ####### don't run this\n",
    "\n",
    "sorted_classifiers=[\"None:0.0\",]\n",
    "with open(\"results/resultsProba/scoresClassifiers.txt\",\"r\") as fi:\n",
    "    for line in fi:\n",
    "        cls,score=line.split(\":\")\n",
    "        score=score[:-1]\n",
    "        for i in range(len(sorted_classifiers)):\n",
    "            if float(score)>= float(sorted_classifiers[i].split(\":\")[1]):\n",
    "                sorted_classifiers.insert(i,line[:-1])\n",
    "                #print sorted_classifiers\n",
    "                break\n",
    "print \"Fin, stock...\"\n",
    "with open(\"sresults/resultsProba/ortedClassifiers.txt\",\"w\") as fo:\n",
    "    fo.writelines(\"\\n\".join(sorted_classifiers[:-1]))\n",
    "print \"Fin\"\n",
    "\n",
    "#################################### Done ####### don't run this"
   ]
  },
  {
   "cell_type": "markdown",
   "metadata": {},
   "source": [
    "Our StepWise Implementation"
   ]
  },
  {
   "cell_type": "code",
   "execution_count": 3,
   "metadata": {
    "collapsed": false
   },
   "outputs": [],
   "source": [
    "import math\n",
    "class StepWiseAMH:\n",
    "    \"\"\"StepWise implementation\"\"\"\n",
    "    \n",
    "    all_models=X_validation.columns # All models\n",
    "    \n",
    "    #==========================================================#\n",
    "    def __init__(self,k_best=5,max_models=40,epslon=0.01,random=False):\n",
    "        self.random=random # if true select k_best random models, else k_best best models in initial step\n",
    "        self.k_best=k_best # Number of models in the nitial ensemble\n",
    "        self.max_models=max_models # number maximal of models in ensemble\n",
    "        self.epslon=epslon # if new_score - old_score is positif and less than epsilon ==> stop\n",
    "        self.ensemble_models=dict() # {\"model_name\":weight}\n",
    "        self.scores_ensemble=[(dict(),0.0,0.0),] # the auc score of the current ensemble for validation and holding \n",
    "    \n",
    "    #==========================================================#\n",
    "    def run(self):\n",
    "        \"\"\"Run the StepWise\"\"\"\n",
    "        if not self.random:\n",
    "            self.ensemble_models= self.the_k_best_models() # get the k best models\n",
    "        else:\n",
    "            self.ensemble_models= self.select_random_k_models() # get the k random models\n",
    "        scv,sch=self.get_score_ensemble()\n",
    "        self.scores_ensemble.append((self.ensemble_models.copy(),scv,sch))\n",
    "        \n",
    "        while True:\n",
    "            md=self.select_one_model() # Add Model\n",
    "            print \"Add model -\",md,\"- ensemble and score:\",self.scores_ensemble[-1]\n",
    "            if md is None:\n",
    "                print \"Stop no model can increase score --------------\"\n",
    "                break\n",
    "            \n",
    "            last_score1= self.scores_ensemble[-1][1]\n",
    "            last_score2= self.scores_ensemble[-2][1]\n",
    "            #print last_score1,last_score2,\"eps\",math.fabs(last_score1-last_score2)\n",
    "            if math.fabs(last_score1-last_score2)<=self.epslon:\n",
    "                print \"Stop epsilon  -------------------\"\n",
    "                #break\n",
    "                \n",
    "            \n",
    "            self.eliminate_one_model() # eliminate Model\n",
    "            print \"Elminate models -- ensemble and score:\",self.scores_ensemble[-1]\n",
    "            \n",
    "            if len(self.ensemble_models.keys())>self.max_models:\n",
    "                print \"Stop max models \",self.max_models,\"models ----------\"\n",
    "                break\n",
    "        \n",
    "    #==========================================================#\n",
    "    def get_score_ensemble(self):\n",
    "        \"\"\"get validation and holding score\"\"\"\n",
    "        probs_v,probs_h = None,None\n",
    "        number_models=sum(self.ensemble_models.values())\n",
    "        for model,weight in self.ensemble_models.items():\n",
    "            if probs_v is None:\n",
    "                probs_v=X_validation[model]*weight\n",
    "            else:\n",
    "                probs_v+=X_validation[model]*weight\n",
    "            if probs_h is None:\n",
    "                probs_h=X_holding[model]*weight\n",
    "            else:\n",
    "                probs_h+=X_holding[model]*weight\n",
    "        #print \"number\",float(number_models)\n",
    "        probs_v,probs_h = probs_v/float(number_models), probs_h/float(number_models)\n",
    "        #print \"is Nan\",np.any(np.isnan(Y_validation))\n",
    "        #print \"is Inf\",np.all(np.isfinite(Y_validation))\n",
    "        fprv,tprv,llv=metrics.roc_curve(Y_validation, probs_v)\n",
    "        score_v=metrics.auc(fprv, tprv)\n",
    "        fprh,tprh,llh=metrics.roc_curve(Y_holding, probs_h)\n",
    "        score_h=metrics.auc(fprh, tprh)\n",
    "        \n",
    "        return score_v,score_h\n",
    "    \n",
    "    #==========================================================#\n",
    "    def select_one_model(self):\n",
    "        \"\"\"Method add a model wich maximize score: StepWise Selection\"\"\"\n",
    "        choose_model=None\n",
    "        score_max= self.scores_ensemble[-1][1]\n",
    "        scr_v,scr_h=0,0\n",
    "        \n",
    "        for model in StepWiseAMH.all_models:\n",
    "            self.add_model_in_ensemble(model)       # add model\n",
    "            scr_vt,scr_ht=self.get_score_ensemble()\n",
    "            if scr_vt>score_max:\n",
    "                choose_model=model\n",
    "                scr_v,scr_h=scr_vt,scr_ht\n",
    "            \n",
    "            self.delete_model_from_ensemble(model)  # delete the model\n",
    "        \n",
    "        if choose_model is not None:\n",
    "            self.add_model_in_ensemble(choose_model)\n",
    "            self.scores_ensemble.append((self.ensemble_models.copy(),scr_v,scr_h))# for the curve revolution score\n",
    "        \n",
    "        return choose_model\n",
    "    \n",
    "    #==========================================================#\n",
    "    def eliminate_one_model(self):\n",
    "        \"\"\"Method elemine a model wich maximize score: StepWise Elemination\"\"\"\n",
    "        models=self.ensemble_models.keys()\n",
    "        choose_model=None\n",
    "        score_max= self.scores_ensemble[-1][1]\n",
    "        scr_v,scr_h=0,0\n",
    "        \n",
    "        if len(models)<2:\n",
    "            return\n",
    "        for model in models:\n",
    "            ret=self.delete_model_from_ensemble(model,weighted=True)  # delete model\n",
    "            scr_vt,scr_ht=self.get_score_ensemble()\n",
    "            if scr_vt>score_max:\n",
    "                choose_model=model\n",
    "                scr_v,scr_h=scr_vt,scr_ht\n",
    "            self.add_model_in_ensemble(model,weight=ret[1])      # add the model\n",
    "            \n",
    "        if choose_model is not None:\n",
    "            ret=self.delete_model_from_ensemble(choose_model,weighted=True)\n",
    "            self.scores_ensemble.append((self.ensemble_models.copy(),scr_v,scr_h))# for the curve revolution score\n",
    "            \n",
    "            self.eliminate_one_model() # continue elemination ...\n",
    "        \n",
    "    \n",
    "    \n",
    "    #==========================================================#\n",
    "    def add_model_in_ensemble(self, model,weight=1):\n",
    "        \"\"\"Add a model in ensemble\"\"\"\n",
    "        \n",
    "        if model in self.ensemble_models:\n",
    "            self.ensemble_models[model]+=1\n",
    "        else:\n",
    "            self.ensemble_models[model]=weight\n",
    "                    \n",
    "    #==========================================================#\n",
    "    def delete_model_from_ensemble(self,model,weighted=False):\n",
    "        \"\"\"Delete one model\"\"\"\n",
    "        if model in self.ensemble_models:\n",
    "            if weighted==True:\n",
    "                ret=(model,self.ensemble_models[model]) #return (model, weight)\n",
    "                del self.ensemble_models[model]\n",
    "                return ret\n",
    "            if self.ensemble_models[model]>1:\n",
    "                self.ensemble_models[model]-=1\n",
    "            else:\n",
    "                del self.ensemble_models[model]\n",
    "    \n",
    "    #==========================================================#\n",
    "    def the_k_best_models(self):\n",
    "        \"\"\"Get the k best models by score auc\"\"\"\n",
    "        ensemble=dict()\n",
    "        with open(\"results/resultsProba/sortedClassifiers.txt\",\"r\") as fin:\n",
    "            i=1\n",
    "            for line in fin:\n",
    "                model=line.split(\":\")[0]\n",
    "                ensemble[model]=1\n",
    "                if i>=self.k_best:\n",
    "                    break\n",
    "                i+=1\n",
    "        return ensemble\n",
    "    \n",
    "    #==========================================================#\n",
    "    def select_random_k_models(self):\n",
    "        \"\"\"Get the k random models\"\"\"\n",
    "        ensemble=dict()\n",
    "        n=len(StepWiseAMH.all_models)\n",
    "        while len(ensemble) < self.k_best:\n",
    "            ensemble[StepWiseAMH.all_models[randint(0,n-1)]]=1\n",
    "        return ensemble\n",
    "        \n",
    "        \n",
    "  \n",
    "              "
   ]
  },
  {
   "cell_type": "code",
   "execution_count": 69,
   "metadata": {
    "collapsed": true
   },
   "outputs": [],
   "source": [
    "myStep=StepWiseAMH(k_best=7,max_models=200,epslon=0.00,random=False)"
   ]
  },
  {
   "cell_type": "code",
   "execution_count": 70,
   "metadata": {
    "collapsed": false
   },
   "outputs": [
    {
     "data": {
      "text/plain": [
       "{'BAGC_19': 1,\n",
       " 'GBC_1': 1,\n",
       " 'GBC_109': 1,\n",
       " 'GBC_113': 1,\n",
       " 'GBC_114': 1,\n",
       " 'GBC_93': 1,\n",
       " 'GBC_97': 1}"
      ]
     },
     "execution_count": 70,
     "metadata": {},
     "output_type": "execute_result"
    }
   ],
   "source": [
    "myStep.the_k_best_models()"
   ]
  },
  {
   "cell_type": "code",
   "execution_count": 71,
   "metadata": {
    "collapsed": true
   },
   "outputs": [
    {
     "name": "stdout",
     "output_type": "stream",
     "text": [
      "Add model - GBC_112 - ensemble and score: ({'GBC_109': 1, 'GBC_114': 1, 'GBC_97': 1, 'GBC_112': 1, 'GBC_113': 1, 'BAGC_19': 1, 'GBC_1': 1, 'GBC_93': 1}, 0.83170347670286837, 0.83556939741767688)\n",
      "Elminate models -- ensemble and score: ({'GBC_109': 1, 'GBC_114': 1, 'GBC_1': 1, 'GBC_93': 1}, 0.83226613588587184, 0.83359360216763767)\n",
      "Add model - GBC_115 - ensemble and score: ({'GBC_109': 1, 'GBC_114': 1, 'GBC_115': 1, 'GBC_1': 1, 'GBC_93': 1}, 0.8326271251108095, 0.83335430246274877)\n",
      "Elminate models -- ensemble and score: ({'GBC_1': 1, 'GBC_114': 1, 'GBC_115': 1, 'GBC_93': 1}, 0.83263889827592896, 0.8330151058253249)\n",
      "Add model - GBC_107 - ensemble and score: ({'GBC_1': 1, 'GBC_114': 1, 'GBC_115': 1, 'GBC_107': 1, 'GBC_93': 1}, 0.83264522090164117, 0.83298113583567179)\n",
      "Elminate models -- ensemble and score: ({'GBC_1': 1, 'GBC_114': 1, 'GBC_115': 1, 'GBC_107': 1, 'GBC_93': 1}, 0.83264522090164117, 0.83298113583567179)\n",
      "Add model - GBC_117 - ensemble and score: ({'GBC_1': 1, 'GBC_107': 1, 'GBC_117': 1, 'GBC_114': 1, 'GBC_115': 1, 'GBC_93': 1}, 0.8326454934286116, 0.8322954453037873)\n",
      "Elminate models -- ensemble and score: ({'GBC_1': 1, 'GBC_107': 1, 'GBC_117': 1, 'GBC_114': 1, 'GBC_115': 1, 'GBC_93': 1}, 0.8326454934286116, 0.8322954453037873)\n",
      "Add model - GBC_114 - ensemble and score: ({'GBC_1': 1, 'GBC_107': 1, 'GBC_117': 1, 'GBC_114': 2, 'GBC_115': 1, 'GBC_93': 1}, 0.83267220107170692, 0.8328294032152217)\n",
      "Elminate models -- ensemble and score: ({'GBC_1': 1, 'GBC_107': 1, 'GBC_117': 1, 'GBC_114': 2, 'GBC_115': 1, 'GBC_93': 1}, 0.83267220107170692, 0.8328294032152217)\n",
      "Add model - GBC_55 - ensemble and score: ({'GBC_1': 1, 'GBC_55': 1, 'GBC_107': 1, 'GBC_117': 1, 'GBC_114': 2, 'GBC_115': 1, 'GBC_93': 1}, 0.83269754607995017, 0.83256569544369341)\n",
      "Elminate models -- ensemble and score: ({'GBC_1': 1, 'GBC_55': 1, 'GBC_107': 1, 'GBC_117': 1, 'GBC_114': 2, 'GBC_115': 1, 'GBC_93': 1}, 0.83269754607995017, 0.83256569544369341)\n",
      "Add model - GBC_109 - ensemble and score: ({'GBC_55': 1, 'GBC_107': 1, 'GBC_109': 1, 'GBC_117': 1, 'GBC_114': 2, 'GBC_115': 1, 'GBC_93': 1, 'GBC_1': 1}, 0.832820183216612, 0.83265074623260227)\n",
      "Elminate models -- ensemble and score: ({'GBC_55': 1, 'GBC_107': 1, 'GBC_109': 1, 'GBC_117': 1, 'GBC_114': 2, 'GBC_115': 1, 'GBC_93': 1, 'GBC_1': 1}, 0.832820183216612, 0.83265074623260227)\n",
      "Add model - GBC_79 - ensemble and score: ({'GBC_55': 1, 'GBC_107': 1, 'GBC_109': 1, 'GBC_117': 1, 'GBC_114': 2, 'GBC_115': 1, 'GBC_79': 1, 'GBC_1': 1, 'GBC_93': 1}, 0.83315860720840396, 0.83313865593584036)\n",
      "Elminate models -- ensemble and score: ({'GBC_55': 1, 'GBC_107': 1, 'GBC_109': 1, 'GBC_117': 1, 'GBC_114': 2, 'GBC_115': 1, 'GBC_79': 1, 'GBC_1': 1, 'GBC_93': 1}, 0.83315860720840396, 0.83313865593584036)\n",
      "Add model - GBC_74 - ensemble and score: ({'GBC_74': 1, 'GBC_55': 1, 'GBC_107': 1, 'GBC_109': 1, 'GBC_117': 1, 'GBC_114': 2, 'GBC_115': 1, 'GBC_79': 1, 'GBC_1': 1, 'GBC_93': 1}, 0.83318575089465141, 0.83337644586341142)\n",
      "Elminate models -- ensemble and score: ({'GBC_74': 1, 'GBC_1': 1, 'GBC_117': 1, 'GBC_114': 2, 'GBC_115': 1, 'GBC_93': 1, 'GBC_79': 1}, 0.83338398701289074, 0.83358227883775327)\n",
      "Add model - GBC_93 - ensemble and score: ({'GBC_74': 1, 'GBC_1': 1, 'GBC_117': 1, 'GBC_114': 2, 'GBC_115': 1, 'GBC_93': 2, 'GBC_79': 1}, 0.83338894700375121, 0.83333064928476819)\n",
      "Elminate models -- ensemble and score: ({'GBC_74': 1, 'GBC_115': 1, 'GBC_93': 2, 'GBC_114': 2, 'GBC_79': 1}, 0.83341788936800343, 0.8333324106916391)\n",
      "Add model - GBC_109 - ensemble and score: ({'GBC_74': 1, 'GBC_109': 1, 'GBC_114': 2, 'GBC_115': 1, 'GBC_93': 2, 'GBC_79': 1}, 0.83344230778454753, 0.83376118744992567)\n",
      "Elminate models -- ensemble and score: ({'GBC_74': 1, 'GBC_109': 1, 'GBC_114': 2, 'GBC_115': 1, 'GBC_93': 2, 'GBC_79': 1}, 0.83344230778454753, 0.83376118744992567)\n",
      "Add model - GBC_109 - ensemble and score: ({'GBC_79': 1, 'GBC_74': 1, 'GBC_109': 2, 'GBC_114': 2, 'GBC_115': 1, 'GBC_93': 2}, 0.83349261626327587, 0.83383416002029143)\n",
      "Elminate models -- ensemble and score: ({'GBC_79': 1, 'GBC_74': 1, 'GBC_109': 2, 'GBC_114': 2, 'GBC_115': 1, 'GBC_93': 2}, 0.83349261626327587, 0.83383416002029143)\n",
      "Add model - GBC_115 - ensemble and score: ({'GBC_74': 1, 'GBC_109': 2, 'GBC_114': 2, 'GBC_115': 2, 'GBC_93': 2, 'GBC_79': 1}, 0.83350286327736134, 0.83350653834230481)\n",
      "Elminate models -- ensemble and score: ({'GBC_74': 1, 'GBC_109': 2, 'GBC_114': 2, 'GBC_115': 2, 'GBC_93': 2, 'GBC_79': 1}, 0.83350286327736134, 0.83350653834230481)\n",
      "Add model - GBC_22 - ensemble and score: ({'GBC_79': 1, 'GBC_74': 1, 'GBC_115': 2, 'GBC_109': 2, 'GBC_114': 2, 'GBC_22': 1, 'GBC_93': 2}, 0.83353126058767291, 0.83373401145820314)\n",
      "Elminate models -- ensemble and score: ({'GBC_79': 1, 'GBC_74': 1, 'GBC_115': 2, 'GBC_109': 2, 'GBC_114': 2, 'GBC_22': 1, 'GBC_93': 2}, 0.83353126058767291, 0.83373401145820314)\n",
      "Add model - GBC_109 - ensemble and score: ({'GBC_74': 1, 'GBC_115': 2, 'GBC_109': 3, 'GBC_114': 2, 'GBC_22': 1, 'GBC_93': 2, 'GBC_79': 1}, 0.83354586803328412, 0.83361599719785329)\n",
      "Elminate models -- ensemble and score: ({'GBC_74': 1, 'GBC_115': 2, 'GBC_109': 3, 'GBC_114': 2, 'GBC_22': 1, 'GBC_93': 2, 'GBC_79': 1}, 0.83354586803328412, 0.83361599719785329)\n",
      "Add model - GBC_109 - ensemble and score: ({'GBC_74': 1, 'GBC_115': 2, 'GBC_109': 4, 'GBC_114': 2, 'GBC_22': 1, 'GBC_93': 2, 'GBC_79': 1}, 0.83357639105396419, 0.83353748877732192)\n",
      "Elminate models -- ensemble and score: ({'GBC_74': 1, 'GBC_115': 2, 'GBC_109': 4, 'GBC_114': 2, 'GBC_22': 1, 'GBC_93': 2, 'GBC_79': 1}, 0.83357639105396419, 0.83353748877732192)\n",
      "Add model - GBC_93 - ensemble and score: ({'GBC_74': 1, 'GBC_115': 2, 'GBC_109': 4, 'GBC_114': 2, 'GBC_22': 1, 'GBC_93': 3, 'GBC_79': 1}, 0.8335941053070377, 0.83341268051904127)\n",
      "Elminate models -- ensemble and score: ({'GBC_74': 1, 'GBC_115': 2, 'GBC_109': 4, 'GBC_114': 2, 'GBC_22': 1, 'GBC_93': 3, 'GBC_79': 1}, 0.8335941053070377, 0.83341268051904127)\n",
      "Add model - GBC_109 - ensemble and score: ({'GBC_74': 1, 'GBC_115': 2, 'GBC_109': 5, 'GBC_114': 2, 'GBC_22': 1, 'GBC_93': 3, 'GBC_79': 1}, 0.83361705207794157, 0.8333049830703636)\n",
      "Elminate models -- ensemble and score: ({'GBC_74': 1, 'GBC_115': 2, 'GBC_109': 5, 'GBC_114': 2, 'GBC_22': 1, 'GBC_93': 3, 'GBC_79': 1}, 0.83361705207794157, 0.8333049830703636)\n",
      "Add model - GBC_114 - ensemble and score: ({'GBC_74': 1, 'GBC_115': 2, 'GBC_109': 5, 'GBC_114': 3, 'GBC_22': 1, 'GBC_93': 3, 'GBC_79': 1}, 0.83367199351516608, 0.83342249407160762)\n",
      "Elminate models -- ensemble and score: ({'GBC_74': 1, 'GBC_115': 2, 'GBC_109': 5, 'GBC_114': 3, 'GBC_22': 1, 'GBC_93': 3, 'GBC_79': 1}, 0.83367199351516608, 0.83342249407160762)\n",
      "Add model - GBC_109 - ensemble and score: ({'GBC_74': 1, 'GBC_115': 2, 'GBC_109': 6, 'GBC_114': 3, 'GBC_22': 1, 'GBC_93': 3, 'GBC_79': 1}, 0.83368387569107394, 0.83336663231084507)\n",
      "Elminate models -- ensemble and score: ({'GBC_74': 1, 'GBC_115': 2, 'GBC_109': 6, 'GBC_114': 3, 'GBC_22': 1, 'GBC_93': 3, 'GBC_79': 1}, 0.83368387569107394, 0.83336663231084507)\n",
      "Add model - GBC_26 - ensemble and score: ({'GBC_74': 1, 'GBC_115': 2, 'GBC_109': 6, 'GBC_114': 3, 'GBC_22': 1, 'GBC_93': 3, 'GBC_79': 1, 'GBC_26': 1}, 0.83371892265946201, 0.83290162089692843)\n",
      "Elminate models -- ensemble and score: ({'GBC_74': 1, 'GBC_115': 2, 'GBC_109': 6, 'GBC_114': 3, 'GBC_22': 1, 'GBC_93': 3, 'GBC_79': 1, 'GBC_26': 1}, 0.83371892265946201, 0.83290162089692843)\n",
      "Add model - GBC_117 - ensemble and score: ({'GBC_74': 1, 'GBC_115': 2, 'GBC_109': 6, 'GBC_117': 1, 'GBC_114': 3, 'GBC_22': 1, 'GBC_93': 3, 'GBC_79': 1, 'GBC_26': 1}, 0.83373685493411176, 0.83287167698012332)\n",
      "Elminate models -- ensemble and score: ({'GBC_74': 1, 'GBC_115': 2, 'GBC_109': 6, 'GBC_117': 1, 'GBC_114': 3, 'GBC_22': 1, 'GBC_93': 3, 'GBC_79': 1, 'GBC_26': 1}, 0.83373685493411176, 0.83287167698012332)\n",
      "Add model - GBC_55 - ensemble and score: ({'GBC_74': 1, 'GBC_115': 2, 'GBC_55': 1, 'GBC_109': 6, 'GBC_117': 1, 'GBC_114': 3, 'GBC_22': 1, 'GBC_93': 3, 'GBC_79': 1, 'GBC_26': 1}, 0.83374939117474822, 0.83279241367093304)\n",
      "Elminate models -- ensemble and score: ({'GBC_74': 1, 'GBC_115': 2, 'GBC_55': 1, 'GBC_109': 6, 'GBC_117': 1, 'GBC_114': 3, 'GBC_22': 1, 'GBC_93': 3, 'GBC_79': 1, 'GBC_26': 1}, 0.83374939117474822, 0.83279241367093304)\n",
      "Add model - GBC_105 - ensemble and score: ({'GBC_74': 1, 'GBC_115': 2, 'GBC_105': 1, 'GBC_55': 1, 'GBC_109': 6, 'GBC_117': 1, 'GBC_114': 3, 'GBC_22': 1, 'GBC_93': 3, 'GBC_79': 1, 'GBC_26': 1}, 0.83377800650663592, 0.83096457659804901)\n",
      "Elminate models -- ensemble and score: ({'GBC_74': 1, 'GBC_115': 2, 'GBC_105': 1, 'GBC_55': 1, 'GBC_109': 6, 'GBC_117': 1, 'GBC_114': 3, 'GBC_22': 1, 'GBC_93': 3, 'GBC_79': 1, 'GBC_26': 1}, 0.83377800650663592, 0.83096457659804901)\n",
      "Add model - GBC_114 - ensemble and score: ({'GBC_74': 1, 'GBC_115': 2, 'GBC_105': 1, 'GBC_55': 1, 'GBC_109': 6, 'GBC_117': 1, 'GBC_114': 4, 'GBC_22': 1, 'GBC_93': 3, 'GBC_79': 1, 'GBC_26': 1}, 0.83378351155143715, 0.83117821008853321)\n",
      "Elminate models -- ensemble and score: ({'GBC_74': 1, 'GBC_115': 2, 'GBC_105': 1, 'GBC_109': 6, 'GBC_117': 1, 'GBC_114': 4, 'GBC_22': 1, 'GBC_93': 3, 'GBC_79': 1, 'GBC_26': 1}, 0.83384848198117079, 0.83109039137454155)\n",
      "Add model - GBC_109 - ensemble and score: ({'GBC_74': 1, 'GBC_115': 2, 'GBC_105': 1, 'GBC_109': 7, 'GBC_117': 1, 'GBC_114': 4, 'GBC_22': 1, 'GBC_93': 3, 'GBC_79': 1, 'GBC_26': 1}, 0.83388085818524937, 0.83113870424871472)\n",
      "Elminate models -- ensemble and score: ({'GBC_74': 1, 'GBC_115': 2, 'GBC_105': 1, 'GBC_109': 7, 'GBC_117': 1, 'GBC_114': 4, 'GBC_22': 1, 'GBC_93': 3, 'GBC_79': 1, 'GBC_26': 1}, 0.83388085818524937, 0.83113870424871472)\n",
      "Add model - GBC_115 - ensemble and score: ({'GBC_74': 1, 'GBC_115': 3, 'GBC_105': 1, 'GBC_109': 7, 'GBC_117': 1, 'GBC_114': 4, 'GBC_22': 1, 'GBC_93': 3, 'GBC_79': 1, 'GBC_26': 1}, 0.83394506553946601, 0.83113820098960867)\n",
      "Elminate models -- ensemble and score: ({'GBC_74': 1, 'GBC_115': 3, 'GBC_105': 1, 'GBC_109': 7, 'GBC_117': 1, 'GBC_114': 4, 'GBC_22': 1, 'GBC_93': 3, 'GBC_79': 1, 'GBC_26': 1}, 0.83394506553946601, 0.83113820098960867)\n",
      "Add model - GBC_107 - ensemble and score: ({'GBC_74': 1, 'GBC_115': 3, 'GBC_105': 1, 'GBC_107': 1, 'GBC_109': 7, 'GBC_117': 1, 'GBC_114': 4, 'GBC_22': 1, 'GBC_93': 3, 'GBC_79': 1, 'GBC_26': 1}, 0.83399144962982119, 0.83113115536212501)\n",
      "Elminate models -- ensemble and score: ({'GBC_74': 1, 'GBC_115': 3, 'GBC_105': 1, 'GBC_107': 1, 'GBC_109': 7, 'GBC_117': 1, 'GBC_114': 4, 'GBC_22': 1, 'GBC_79': 1, 'GBC_93': 3}, 0.83400840080737748, 0.83132868456121845)\n",
      "Add model - GBC_109 - ensemble and score: ({'GBC_74': 1, 'GBC_115': 3, 'GBC_105': 1, 'GBC_107': 1, 'GBC_109': 8, 'GBC_117': 1, 'GBC_114': 4, 'GBC_22': 1, 'GBC_79': 1, 'GBC_93': 3}, 0.83401450541151356, 0.83140492831577295)\n",
      "Elminate models -- ensemble and score: ({'GBC_74': 1, 'GBC_115': 3, 'GBC_105': 1, 'GBC_107': 1, 'GBC_109': 8, 'GBC_117': 1, 'GBC_114': 4, 'GBC_22': 1, 'GBC_79': 1, 'GBC_93': 3}, 0.83401450541151356, 0.83140492831577295)\n",
      "Add model - GBC_109 - ensemble and score: ({'GBC_74': 1, 'GBC_115': 3, 'GBC_105': 1, 'GBC_107': 1, 'GBC_109': 9, 'GBC_117': 1, 'GBC_114': 4, 'GBC_22': 1, 'GBC_79': 1, 'GBC_93': 3}, 0.83401897485382748, 0.83139586965186552)\n",
      "Elminate models -- ensemble and score: ({'GBC_74': 1, 'GBC_115': 3, 'GBC_105': 1, 'GBC_107': 1, 'GBC_109': 9, 'GBC_117': 1, 'GBC_114': 4, 'GBC_22': 1, 'GBC_79': 1, 'GBC_93': 3}, 0.83401897485382748, 0.83139586965186552)\n",
      "Add model - GBC_107 - ensemble and score: ({'GBC_74': 1, 'GBC_115': 3, 'GBC_105': 1, 'GBC_107': 2, 'GBC_109': 9, 'GBC_117': 1, 'GBC_114': 4, 'GBC_22': 1, 'GBC_79': 1, 'GBC_93': 3}, 0.83405532995167331, 0.8313422725570796)\n",
      "Elminate models -- ensemble and score: ({'GBC_74': 1, 'GBC_115': 3, 'GBC_105': 1, 'GBC_107': 2, 'GBC_109': 9, 'GBC_117': 1, 'GBC_114': 4, 'GBC_22': 1, 'GBC_79': 1, 'GBC_93': 3}, 0.83405532995167331, 0.8313422725570796)\n",
      "Add model - GBC_115 - ensemble and score: ({'GBC_74': 1, 'GBC_115': 4, 'GBC_105': 1, 'GBC_107': 2, 'GBC_109': 9, 'GBC_117': 1, 'GBC_114': 4, 'GBC_22': 1, 'GBC_79': 1, 'GBC_93': 3}, 0.83408143803543366, 0.83143034290062434)\n",
      "Elminate models -- ensemble and score: ({'GBC_74': 1, 'GBC_115': 4, 'GBC_105': 1, 'GBC_107': 2, 'GBC_109': 9, 'GBC_117': 1, 'GBC_114': 4, 'GBC_22': 1, 'GBC_79': 1, 'GBC_93': 3}, 0.83408143803543366, 0.83143034290062434)\n",
      "Add model - GBC_107 - ensemble and score: ({'GBC_74': 1, 'GBC_115': 4, 'GBC_105': 1, 'GBC_107': 3, 'GBC_109': 9, 'GBC_117': 1, 'GBC_114': 4, 'GBC_22': 1, 'GBC_79': 1, 'GBC_93': 3}, 0.83408536242380693, 0.83138228165600425)\n",
      "Elminate models -- ensemble and score: ({'GBC_74': 1, 'GBC_115': 4, 'GBC_105': 1, 'GBC_107': 3, 'GBC_109': 9, 'GBC_117': 1, 'GBC_114': 4, 'GBC_22': 1, 'GBC_79': 1, 'GBC_93': 3}, 0.83408536242380693, 0.83138228165600425)\n",
      "Add model - GBC_107 - ensemble and score: ({'GBC_74': 1, 'GBC_115': 4, 'GBC_105': 1, 'GBC_107': 4, 'GBC_109': 9, 'GBC_117': 1, 'GBC_114': 4, 'GBC_22': 1, 'GBC_79': 1, 'GBC_93': 3}, 0.83409043142545558, 0.83132893619077142)\n",
      "Elminate models -- ensemble and score: ({'GBC_74': 1, 'GBC_115': 4, 'GBC_105': 1, 'GBC_107': 4, 'GBC_109': 9, 'GBC_117': 1, 'GBC_114': 4, 'GBC_22': 1, 'GBC_79': 1, 'GBC_93': 3}, 0.83409043142545558, 0.83132893619077142)\n",
      "Add model - GBC_114 - ensemble and score: ({'GBC_74': 1, 'GBC_115': 4, 'GBC_105': 1, 'GBC_107': 4, 'GBC_109': 9, 'GBC_117': 1, 'GBC_114': 5, 'GBC_22': 1, 'GBC_79': 1, 'GBC_93': 3}, 0.83411735709012713, 0.83144443415559155)\n",
      "Elminate models -- ensemble and score: ({'GBC_74': 1, 'GBC_115': 4, 'GBC_105': 1, 'GBC_107': 4, 'GBC_109': 9, 'GBC_117': 1, 'GBC_114': 5, 'GBC_22': 1, 'GBC_79': 1, 'GBC_93': 3}, 0.83411735709012713, 0.83144443415559155)\n",
      "Add model - GBC_114 - ensemble and score: ({'GBC_74': 1, 'GBC_115': 4, 'GBC_105': 1, 'GBC_107': 4, 'GBC_109': 9, 'GBC_117': 1, 'GBC_114': 6, 'GBC_22': 1, 'GBC_79': 1, 'GBC_93': 3}, 0.8341708813871056, 0.83159717329425353)\n",
      "Elminate models -- ensemble and score: ({'GBC_74': 1, 'GBC_115': 4, 'GBC_105': 1, 'GBC_107': 4, 'GBC_109': 9, 'GBC_117': 1, 'GBC_114': 6, 'GBC_22': 1, 'GBC_79': 1, 'GBC_93': 3}, 0.8341708813871056, 0.83159717329425353)\n",
      "Add model - GBC_79 - ensemble and score: ({'GBC_74': 1, 'GBC_115': 4, 'GBC_105': 1, 'GBC_107': 4, 'GBC_109': 9, 'GBC_117': 1, 'GBC_114': 6, 'GBC_22': 1, 'GBC_79': 2, 'GBC_93': 3}, 0.83418085587422064, 0.83173531791884248)\n",
      "Elminate models -- ensemble and score: ({'GBC_74': 1, 'GBC_115': 4, 'GBC_105': 1, 'GBC_107': 4, 'GBC_109': 9, 'GBC_117': 1, 'GBC_114': 6, 'GBC_22': 1, 'GBC_79': 2, 'GBC_93': 3}, 0.83418085587422064, 0.83173531791884248)\n",
      "Add model - GBC_114 - ensemble and score: ({'GBC_74': 1, 'GBC_115': 4, 'GBC_105': 1, 'GBC_107': 4, 'GBC_109': 9, 'GBC_117': 1, 'GBC_114': 7, 'GBC_22': 1, 'GBC_79': 2, 'GBC_93': 3}, 0.83418123741197925, 0.8318301822603178)\n",
      "Elminate models -- ensemble and score: ({'GBC_74': 1, 'GBC_115': 4, 'GBC_105': 1, 'GBC_107': 4, 'GBC_109': 9, 'GBC_117': 1, 'GBC_114': 7, 'GBC_22': 1, 'GBC_79': 2, 'GBC_93': 3}, 0.83418123741197925, 0.8318301822603178)\n",
      "Add model - GBC_109 - ensemble and score: ({'GBC_74': 1, 'GBC_115': 4, 'GBC_105': 1, 'GBC_107': 4, 'GBC_109': 10, 'GBC_117': 1, 'GBC_114': 7, 'GBC_22': 1, 'GBC_79': 2, 'GBC_93': 3}, 0.83421503075630388, 0.83184452514483798)\n",
      "Elminate models -- ensemble and score: ({'GBC_74': 1, 'GBC_115': 4, 'GBC_105': 1, 'GBC_107': 4, 'GBC_109': 10, 'GBC_117': 1, 'GBC_114': 7, 'GBC_22': 1, 'GBC_79': 2, 'GBC_93': 3}, 0.83421503075630388, 0.83184452514483798)\n",
      "Add model - GBC_107 - ensemble and score: ({'GBC_74': 1, 'GBC_115': 4, 'GBC_105': 1, 'GBC_107': 5, 'GBC_109': 10, 'GBC_117': 1, 'GBC_114': 7, 'GBC_22': 1, 'GBC_79': 2, 'GBC_93': 3}, 0.8342200997579523, 0.83193058245195883)\n",
      "Elminate models -- ensemble and score: ({'GBC_74': 1, 'GBC_115': 4, 'GBC_105': 1, 'GBC_107': 5, 'GBC_109': 10, 'GBC_117': 1, 'GBC_114': 7, 'GBC_22': 1, 'GBC_79': 2, 'GBC_93': 3}, 0.8342200997579523, 0.83193058245195883)\n",
      "Add model - GBC_76 - ensemble and score: ({'GBC_76': 1, 'GBC_74': 1, 'GBC_115': 4, 'GBC_105': 1, 'GBC_107': 5, 'GBC_109': 10, 'GBC_117': 1, 'GBC_114': 7, 'GBC_22': 1, 'GBC_79': 2, 'GBC_93': 3}, 0.83447954543373437, 0.83126502228431332)\n",
      "Elminate models -- ensemble and score: ({'GBC_76': 1, 'GBC_74': 1, 'GBC_115': 4, 'GBC_105': 1, 'GBC_107': 5, 'GBC_109': 10, 'GBC_117': 1, 'GBC_114': 7, 'GBC_22': 1, 'GBC_79': 2, 'GBC_93': 3}, 0.83447954543373437, 0.83126502228431332)\n",
      "Add model - GBC_114 - ensemble and score: ({'GBC_76': 1, 'GBC_74': 1, 'GBC_115': 4, 'GBC_105': 1, 'GBC_107': 5, 'GBC_109': 10, 'GBC_117': 1, 'GBC_114': 8, 'GBC_22': 1, 'GBC_79': 2, 'GBC_93': 3}, 0.83454249916388712, 0.83150658665517896)\n",
      "Elminate models -- ensemble and score: ({'GBC_76': 1, 'GBC_74': 1, 'GBC_115': 4, 'GBC_105': 1, 'GBC_107': 5, 'GBC_109': 10, 'GBC_117': 1, 'GBC_114': 8, 'GBC_22': 1, 'GBC_79': 2}, 0.83454533344437909, 0.83162434928597606)\n",
      "Add model - GBC_117 - ensemble and score: ({'GBC_76': 1, 'GBC_74': 1, 'GBC_115': 4, 'GBC_105': 1, 'GBC_107': 5, 'GBC_109': 10, 'GBC_117': 2, 'GBC_114': 8, 'GBC_22': 1, 'GBC_79': 2}, 0.83460076543015005, 0.83158408855749844)\n",
      "Elminate models -- ensemble and score: ({'GBC_76': 1, 'GBC_74': 1, 'GBC_115': 4, 'GBC_105': 1, 'GBC_107': 5, 'GBC_109': 10, 'GBC_117': 2, 'GBC_114': 8, 'GBC_22': 1, 'GBC_79': 2}, 0.83460076543015005, 0.83158408855749844)\n",
      "Add model - GBC_118 - ensemble and score: ({'GBC_76': 1, 'GBC_74': 1, 'GBC_115': 4, 'GBC_105': 1, 'GBC_107': 5, 'GBC_118': 1, 'GBC_109': 10, 'GBC_117': 2, 'GBC_114': 8, 'GBC_22': 1, 'GBC_79': 2}, 0.83460883222847282, 0.83116210579714234)\n",
      "Elminate models -- ensemble and score: ({'GBC_76': 1, 'GBC_74': 1, 'GBC_115': 4, 'GBC_105': 1, 'GBC_107': 5, 'GBC_118': 1, 'GBC_109': 10, 'GBC_117': 2, 'GBC_114': 8, 'GBC_22': 1, 'GBC_79': 2}, 0.83460883222847282, 0.83116210579714234)\n",
      "Add model - GBC_107 - ensemble and score: ({'GBC_76': 1, 'GBC_74': 1, 'GBC_115': 4, 'GBC_105': 1, 'GBC_107': 6, 'GBC_118': 1, 'GBC_109': 10, 'GBC_117': 2, 'GBC_114': 8, 'GBC_22': 1, 'GBC_79': 2}, 0.834668297613405, 0.83130880582653255)\n",
      "Elminate models -- ensemble and score: ({'GBC_76': 1, 'GBC_74': 1, 'GBC_115': 4, 'GBC_105': 1, 'GBC_107': 6, 'GBC_118': 1, 'GBC_109': 10, 'GBC_117': 2, 'GBC_114': 8, 'GBC_22': 1, 'GBC_79': 2}, 0.834668297613405, 0.83130880582653255)\n",
      "Add model - GBC_115 - ensemble and score: ({'GBC_76': 1, 'GBC_74': 1, 'GBC_115': 5, 'GBC_105': 1, 'GBC_107': 6, 'GBC_118': 1, 'GBC_109': 10, 'GBC_117': 2, 'GBC_114': 8, 'GBC_22': 1, 'GBC_79': 2}, 0.83468077934864748, 0.83123356859019004)\n",
      "Elminate models -- ensemble and score: ({'GBC_76': 1, 'GBC_74': 1, 'GBC_115': 5, 'GBC_105': 1, 'GBC_107': 6, 'GBC_118': 1, 'GBC_109': 10, 'GBC_117': 2, 'GBC_114': 8, 'GBC_22': 1, 'GBC_79': 2}, 0.83468077934864748, 0.83123356859019004)\n",
      "Add model - GBC_117 - ensemble and score: ({'GBC_76': 1, 'GBC_74': 1, 'GBC_115': 5, 'GBC_105': 1, 'GBC_107': 6, 'GBC_118': 1, 'GBC_109': 10, 'GBC_117': 3, 'GBC_114': 8, 'GBC_22': 1, 'GBC_79': 2}, 0.8347269454174262, 0.83103729753886169)\n",
      "Elminate models -- ensemble and score: ({'GBC_76': 1, 'GBC_74': 1, 'GBC_115': 5, 'GBC_105': 1, 'GBC_107': 6, 'GBC_118': 1, 'GBC_109': 10, 'GBC_117': 3, 'GBC_114': 8, 'GBC_22': 1, 'GBC_79': 2}, 0.8347269454174262, 0.83103729753886169)\n",
      "Add model - GBC_107 - ensemble and score: ({'GBC_76': 1, 'GBC_74': 1, 'GBC_115': 5, 'GBC_105': 1, 'GBC_107': 7, 'GBC_118': 1, 'GBC_109': 10, 'GBC_117': 3, 'GBC_114': 8, 'GBC_22': 1, 'GBC_79': 2}, 0.83473523023732532, 0.8311907915661827)\n",
      "Elminate models -- ensemble and score: ({'GBC_76': 1, 'GBC_74': 1, 'GBC_115': 5, 'GBC_105': 1, 'GBC_107': 7, 'GBC_118': 1, 'GBC_109': 10, 'GBC_117': 3, 'GBC_114': 8, 'GBC_22': 1, 'GBC_79': 2}, 0.83473523023732532, 0.8311907915661827)\n",
      "Add model - GBC_74 - ensemble and score: ({'GBC_76': 1, 'GBC_74': 2, 'GBC_115': 5, 'GBC_105': 1, 'GBC_107': 7, 'GBC_118': 1, 'GBC_109': 10, 'GBC_117': 3, 'GBC_114': 8, 'GBC_22': 1, 'GBC_79': 2}, 0.83476706138746315, 0.83139561802231254)\n",
      "Elminate models -- ensemble and score: ({'GBC_76': 1, 'GBC_74': 2, 'GBC_115': 5, 'GBC_105': 1, 'GBC_107': 7, 'GBC_118': 1, 'GBC_109': 10, 'GBC_117': 3, 'GBC_114': 8, 'GBC_22': 1, 'GBC_79': 2}, 0.83476706138746315, 0.83139561802231254)\n",
      "Add model - GBC_115 - ensemble and score: ({'GBC_76': 1, 'GBC_74': 2, 'GBC_115': 6, 'GBC_105': 1, 'GBC_107': 7, 'GBC_118': 1, 'GBC_109': 10, 'GBC_117': 3, 'GBC_114': 8, 'GBC_22': 1, 'GBC_79': 2}, 0.83478363102726094, 0.83130201182860197)\n",
      "Elminate models -- ensemble and score: ({'GBC_76': 1, 'GBC_74': 2, 'GBC_115': 6, 'GBC_105': 1, 'GBC_107': 7, 'GBC_118': 1, 'GBC_109': 10, 'GBC_117': 3, 'GBC_114': 8, 'GBC_22': 1, 'GBC_79': 2}, 0.83478363102726094, 0.83130201182860197)\n",
      "Add model - GBC_107 - ensemble and score: ({'GBC_76': 1, 'GBC_74': 2, 'GBC_115': 6, 'GBC_105': 1, 'GBC_107': 8, 'GBC_118': 1, 'GBC_109': 10, 'GBC_117': 3, 'GBC_114': 8, 'GBC_22': 1, 'GBC_79': 2}, 0.83480505164713115, 0.83133497530004308)\n",
      "Elminate models -- ensemble and score: ({'GBC_76': 1, 'GBC_74': 2, 'GBC_115': 6, 'GBC_105': 1, 'GBC_107': 8, 'GBC_118': 1, 'GBC_109': 10, 'GBC_117': 3, 'GBC_114': 8, 'GBC_22': 1, 'GBC_79': 2}, 0.83480505164713115, 0.83133497530004308)\n",
      "Add model - GBC_79 - ensemble and score: ({'GBC_76': 1, 'GBC_74': 2, 'GBC_115': 6, 'GBC_105': 1, 'GBC_107': 8, 'GBC_118': 1, 'GBC_109': 10, 'GBC_117': 3, 'GBC_114': 8, 'GBC_22': 1, 'GBC_79': 3}, 0.83480821295998742, 0.83133698833646674)\n",
      "Elminate models -- ensemble and score: ({'GBC_76': 1, 'GBC_74': 2, 'GBC_115': 6, 'GBC_105': 1, 'GBC_107': 8, 'GBC_118': 1, 'GBC_109': 10, 'GBC_117': 3, 'GBC_114': 8, 'GBC_22': 1, 'GBC_79': 3}, 0.83480821295998742, 0.83133698833646674)\n",
      "Add model - GBC_115 - ensemble and score: ({'GBC_76': 1, 'GBC_74': 2, 'GBC_115': 7, 'GBC_105': 1, 'GBC_107': 8, 'GBC_118': 1, 'GBC_109': 10, 'GBC_117': 3, 'GBC_114': 8, 'GBC_22': 1, 'GBC_79': 3}, 0.83481230086454272, 0.83135837684847069)\n",
      "Elminate models -- ensemble and score: ({'GBC_76': 1, 'GBC_74': 2, 'GBC_115': 7, 'GBC_105': 1, 'GBC_107': 8, 'GBC_118': 1, 'GBC_109': 10, 'GBC_117': 3, 'GBC_114': 8, 'GBC_22': 1, 'GBC_79': 3}, 0.83481230086454272, 0.83135837684847069)\n",
      "Add model - GBC_34 - ensemble and score: ({'GBC_76': 1, 'GBC_74': 2, 'GBC_115': 7, 'GBC_105': 1, 'GBC_107': 8, 'GBC_118': 1, 'GBC_109': 10, 'GBC_117': 3, 'GBC_114': 8, 'GBC_22': 1, 'GBC_34': 1, 'GBC_79': 3}, 0.8349847559313861, 0.83143663363944909)\n",
      "Elminate models -- ensemble and score: ({'GBC_76': 1, 'GBC_74': 2, 'GBC_115': 7, 'GBC_105': 1, 'GBC_107': 8, 'GBC_118': 1, 'GBC_109': 10, 'GBC_117': 3, 'GBC_114': 8, 'GBC_22': 1, 'GBC_34': 1, 'GBC_79': 3}, 0.8349847559313861, 0.83143663363944909)\n",
      "Add model - GBC_107 - ensemble and score: ({'GBC_76': 1, 'GBC_74': 2, 'GBC_115': 7, 'GBC_105': 1, 'GBC_118': 1, 'GBC_107': 9, 'GBC_109': 10, 'GBC_117': 3, 'GBC_114': 8, 'GBC_22': 1, 'GBC_34': 1, 'GBC_79': 3}, 0.83500181611973034, 0.8314957665844005)\n",
      "Elminate models -- ensemble and score: ({'GBC_76': 1, 'GBC_74': 2, 'GBC_115': 7, 'GBC_105': 1, 'GBC_118': 1, 'GBC_107': 9, 'GBC_109': 10, 'GBC_117': 3, 'GBC_114': 8, 'GBC_22': 1, 'GBC_34': 1, 'GBC_79': 3}, 0.83500181611973034, 0.8314957665844005)\n",
      "Add model - GBC_74 - ensemble and score: ({'GBC_76': 1, 'GBC_74': 3, 'GBC_115': 7, 'GBC_105': 1, 'GBC_118': 1, 'GBC_107': 9, 'GBC_109': 10, 'GBC_117': 3, 'GBC_114': 8, 'GBC_22': 1, 'GBC_34': 1, 'GBC_79': 3}, 0.83502727013876199, 0.83156219678638865)\n",
      "Elminate models -- ensemble and score: ({'GBC_76': 1, 'GBC_74': 3, 'GBC_115': 7, 'GBC_105': 1, 'GBC_118': 1, 'GBC_107': 9, 'GBC_109': 10, 'GBC_117': 3, 'GBC_114': 8, 'GBC_22': 1, 'GBC_34': 1, 'GBC_79': 3}, 0.83502727013876199, 0.83156219678638865)\n",
      "Add model - GBC_74 - ensemble and score: ({'GBC_76': 1, 'GBC_74': 4, 'GBC_115': 7, 'GBC_105': 1, 'GBC_118': 1, 'GBC_107': 9, 'GBC_109': 10, 'GBC_117': 3, 'GBC_114': 8, 'GBC_22': 1, 'GBC_34': 1, 'GBC_79': 3}, 0.83504542043498786, 0.83166788119864243)\n",
      "Elminate models -- ensemble and score: ({'GBC_76': 1, 'GBC_74': 4, 'GBC_115': 7, 'GBC_105': 1, 'GBC_118': 1, 'GBC_107': 9, 'GBC_109': 10, 'GBC_117': 3, 'GBC_114': 8, 'GBC_22': 1, 'GBC_34': 1, 'GBC_79': 3}, 0.83504542043498786, 0.83166788119864243)\n",
      "Add model - GBC_34 - ensemble and score: ({'GBC_76': 1, 'GBC_74': 4, 'GBC_115': 7, 'GBC_105': 1, 'GBC_118': 1, 'GBC_107': 9, 'GBC_109': 10, 'GBC_117': 3, 'GBC_114': 8, 'GBC_22': 1, 'GBC_34': 2, 'GBC_79': 3}, 0.83506733160340474, 0.83176299716967084)\n",
      "Elminate models -- ensemble and score: ({'GBC_76': 1, 'GBC_74': 4, 'GBC_115': 7, 'GBC_105': 1, 'GBC_118': 1, 'GBC_107': 9, 'GBC_117': 3, 'GBC_114': 8, 'GBC_22': 1, 'GBC_34': 2, 'GBC_79': 3}, 0.83510205153942851, 0.83123205881287221)\n",
      "Add model - GBC_114 - ensemble and score: ({'GBC_76': 1, 'GBC_74': 4, 'GBC_115': 7, 'GBC_105': 1, 'GBC_107': 9, 'GBC_118': 1, 'GBC_117': 3, 'GBC_114': 9, 'GBC_22': 1, 'GBC_34': 2, 'GBC_79': 3}, 0.83510821064895879, 0.83134504048216262)\n",
      "Elminate models -- ensemble and score: ({'GBC_76': 1, 'GBC_74': 4, 'GBC_115': 7, 'GBC_105': 1, 'GBC_107': 9, 'GBC_118': 1, 'GBC_117': 3, 'GBC_114': 9, 'GBC_22': 1, 'GBC_34': 2, 'GBC_79': 3}, 0.83510821064895879, 0.83134504048216262)\n",
      "Add model - GBC_117 - ensemble and score: ({'GBC_76': 1, 'GBC_74': 4, 'GBC_115': 7, 'GBC_105': 1, 'GBC_118': 1, 'GBC_107': 9, 'GBC_117': 4, 'GBC_114': 9, 'GBC_22': 1, 'GBC_34': 2, 'GBC_79': 3}, 0.83511415173691239, 0.83133497530004308)\n",
      "Elminate models -- ensemble and score: ({'GBC_76': 1, 'GBC_74': 4, 'GBC_115': 7, 'GBC_105': 1, 'GBC_118': 1, 'GBC_107': 9, 'GBC_117': 4, 'GBC_114': 9, 'GBC_22': 1, 'GBC_34': 2, 'GBC_79': 3}, 0.83511415173691239, 0.83133497530004308)\n",
      "Add model - GBC_55 - ensemble and score: ({'GBC_76': 1, 'GBC_74': 4, 'GBC_115': 7, 'GBC_105': 1, 'GBC_55': 1, 'GBC_118': 1, 'GBC_117': 4, 'GBC_114': 9, 'GBC_22': 1, 'GBC_34': 2, 'GBC_79': 3, 'GBC_107': 9}, 0.83513415521653678, 0.83139184357901774)\n",
      "Elminate models -- ensemble and score: ({'GBC_76': 1, 'GBC_74': 4, 'GBC_115': 7, 'GBC_105': 1, 'GBC_55': 1, 'GBC_118': 1, 'GBC_117': 4, 'GBC_114': 9, 'GBC_22': 1, 'GBC_34': 2, 'GBC_79': 3, 'GBC_107': 9}, 0.83513415521653678, 0.83139184357901774)\n",
      "Add model - GBC_55 - ensemble and score: ({'GBC_76': 1, 'GBC_74': 4, 'GBC_115': 7, 'GBC_105': 1, 'GBC_55': 2, 'GBC_118': 1, 'GBC_117': 4, 'GBC_114': 9, 'GBC_22': 1, 'GBC_34': 2, 'GBC_79': 3, 'GBC_107': 9}, 0.83513884268042704, 0.83141776142297519)\n",
      "Elminate models -- ensemble and score: ({'GBC_76': 1, 'GBC_74': 4, 'GBC_115': 7, 'GBC_105': 1, 'GBC_55': 2, 'GBC_118': 1, 'GBC_117': 4, 'GBC_114': 9, 'GBC_22': 1, 'GBC_34': 2, 'GBC_79': 3, 'GBC_107': 9}, 0.83513884268042704, 0.83141776142297519)\n",
      "Add model - GBC_79 - ensemble and score: ({'GBC_76': 1, 'GBC_74': 4, 'GBC_115': 7, 'GBC_105': 1, 'GBC_55': 2, 'GBC_118': 1, 'GBC_117': 4, 'GBC_114': 9, 'GBC_22': 1, 'GBC_34': 2, 'GBC_79': 4, 'GBC_107': 9}, 0.83514320311195267, 0.83143713689855492)\n",
      "Elminate models -- ensemble and score: ({'GBC_76': 1, 'GBC_74': 4, 'GBC_115': 7, 'GBC_105': 1, 'GBC_107': 9, 'GBC_118': 1, 'GBC_117': 4, 'GBC_114': 9, 'GBC_22': 1, 'GBC_34': 2, 'GBC_79': 4}, 0.83515982725714477, 0.83137976536047442)\n",
      "Add model - GBC_22 - ensemble and score: ({'GBC_76': 1, 'GBC_74': 4, 'GBC_115': 7, 'GBC_105': 1, 'GBC_118': 1, 'GBC_107': 9, 'GBC_117': 4, 'GBC_114': 9, 'GBC_22': 2, 'GBC_34': 2, 'GBC_79': 4}, 0.83516031780569133, 0.83149878613903627)\n",
      "Elminate models -- ensemble and score: ({'GBC_76': 1, 'GBC_74': 4, 'GBC_115': 7, 'GBC_105': 1, 'GBC_118': 1, 'GBC_107': 9, 'GBC_117': 4, 'GBC_114': 9, 'GBC_22': 2, 'GBC_34': 2, 'GBC_79': 4}, 0.83516031780569133, 0.83149878613903627)\n",
      "Add model - GBC_55 - ensemble and score: ({'GBC_76': 1, 'GBC_74': 4, 'GBC_115': 7, 'GBC_105': 1, 'GBC_55': 1, 'GBC_118': 1, 'GBC_117': 4, 'GBC_114': 9, 'GBC_22': 2, 'GBC_34': 2, 'GBC_79': 4, 'GBC_107': 9}, 0.83517497975669663, 0.83149828287993033)\n",
      "Elminate models -- ensemble and score: ({'GBC_76': 1, 'GBC_74': 4, 'GBC_115': 7, 'GBC_105': 1, 'GBC_55': 1, 'GBC_118': 1, 'GBC_117': 4, 'GBC_114': 9, 'GBC_22': 2, 'GBC_34': 2, 'GBC_79': 4, 'GBC_107': 9}, 0.83517497975669663, 0.83149828287993033)\n",
      "Add model - GBC_76 - ensemble and score: ({'GBC_76': 2, 'GBC_74': 4, 'GBC_115': 7, 'GBC_105': 1, 'GBC_55': 1, 'GBC_118': 1, 'GBC_117': 4, 'GBC_114': 9, 'GBC_22': 2, 'GBC_34': 2, 'GBC_79': 4, 'GBC_107': 9}, 0.83519073181558334, 0.83105843442131233)\n",
      "Elminate models -- ensemble and score: ({'GBC_76': 2, 'GBC_74': 4, 'GBC_115': 7, 'GBC_105': 1, 'GBC_107': 9, 'GBC_118': 1, 'GBC_117': 4, 'GBC_114': 9, 'GBC_22': 2, 'GBC_34': 2, 'GBC_79': 4}, 0.83522212692256881, 0.83103780079796752)\n",
      "Add model - GBC_107 - ensemble and score: ({'GBC_76': 2, 'GBC_74': 4, 'GBC_115': 7, 'GBC_105': 1, 'GBC_118': 1, 'GBC_107': 10, 'GBC_117': 4, 'GBC_114': 9, 'GBC_22': 2, 'GBC_34': 2, 'GBC_79': 4}, 0.83522354406281463, 0.83106296375326616)\n",
      "Elminate models -- ensemble and score: ({'GBC_76': 2, 'GBC_74': 4, 'GBC_115': 7, 'GBC_105': 1, 'GBC_118': 1, 'GBC_107': 10, 'GBC_117': 4, 'GBC_114': 9, 'GBC_22': 2, 'GBC_34': 2, 'GBC_79': 4}, 0.83522354406281463, 0.83106296375326616)\n",
      "Add model - GBC_107 - ensemble and score: ({'GBC_76': 2, 'GBC_74': 4, 'GBC_115': 7, 'GBC_105': 1, 'GBC_107': 11, 'GBC_118': 1, 'GBC_117': 4, 'GBC_114': 9, 'GBC_22': 2, 'GBC_34': 2, 'GBC_79': 4}, 0.83524114930509996, 0.83108561041303486)\n",
      "Elminate models -- ensemble and score: ({'GBC_76': 2, 'GBC_74': 4, 'GBC_115': 7, 'GBC_105': 1, 'GBC_107': 11, 'GBC_118': 1, 'GBC_117': 4, 'GBC_114': 9, 'GBC_22': 2, 'GBC_34': 2, 'GBC_79': 4}, 0.83524114930509996, 0.83108561041303486)\n",
      "Add model - GBC_107 - ensemble and score: ({'GBC_76': 2, 'GBC_74': 4, 'GBC_115': 7, 'GBC_105': 1, 'GBC_118': 1, 'GBC_107': 12, 'GBC_117': 4, 'GBC_114': 9, 'GBC_22': 2, 'GBC_34': 2, 'GBC_79': 4}, 0.83524921610342251, 0.83107931967421023)\n",
      "Elminate models -- ensemble and score: ({'GBC_76': 2, 'GBC_74': 4, 'GBC_115': 7, 'GBC_105': 1, 'GBC_118': 1, 'GBC_107': 12, 'GBC_117': 4, 'GBC_114': 9, 'GBC_22': 2, 'GBC_34': 2, 'GBC_79': 4}, 0.83524921610342251, 0.83107931967421023)\n",
      "Add model - GBC_55 - ensemble and score: ({'GBC_76': 2, 'GBC_74': 4, 'GBC_115': 7, 'GBC_105': 1, 'GBC_55': 1, 'GBC_118': 1, 'GBC_117': 4, 'GBC_114': 9, 'GBC_22': 2, 'GBC_34': 2, 'GBC_79': 4, 'GBC_107': 12}, 0.83525662883701612, 0.83115304713323479)\n",
      "Elminate models -- ensemble and score: ({'GBC_76': 2, 'GBC_74': 4, 'GBC_115': 7, 'GBC_105': 1, 'GBC_55': 1, 'GBC_118': 1, 'GBC_117': 4, 'GBC_114': 9, 'GBC_22': 2, 'GBC_34': 2, 'GBC_79': 4, 'GBC_107': 12}, 0.83525662883701612, 0.83115304713323479)\n",
      "Add model - GBC_107 - ensemble and score: ({'GBC_76': 2, 'GBC_74': 4, 'GBC_115': 7, 'GBC_105': 1, 'GBC_55': 1, 'GBC_118': 1, 'GBC_117': 4, 'GBC_114': 9, 'GBC_22': 2, 'GBC_34': 2, 'GBC_79': 4, 'GBC_107': 13}, 0.83527052771250443, 0.83109039137454155)\n",
      "Elminate models -- ensemble and score: ({'GBC_76': 2, 'GBC_74': 4, 'GBC_115': 7, 'GBC_105': 1, 'GBC_55': 1, 'GBC_118': 1, 'GBC_117': 4, 'GBC_114': 9, 'GBC_22': 2, 'GBC_34': 2, 'GBC_79': 4, 'GBC_107': 13}, 0.83527052771250443, 0.83109039137454155)\n",
      "Add model - GBC_56 - ensemble and score: ({'GBC_76': 2, 'GBC_74': 4, 'GBC_115': 7, 'GBC_105': 1, 'GBC_55': 1, 'GBC_56': 1, 'GBC_117': 4, 'GBC_114': 9, 'GBC_22': 2, 'GBC_34': 2, 'GBC_79': 4, 'GBC_107': 13, 'GBC_118': 1}, 0.83527134529341551, 0.83112209669821779)\n",
      "Elminate models -- ensemble and score: ({'GBC_76': 2, 'GBC_74': 4, 'GBC_115': 7, 'GBC_105': 1, 'GBC_55': 1, 'GBC_56': 1, 'GBC_117': 4, 'GBC_114': 9, 'GBC_22': 2, 'GBC_34': 2, 'GBC_79': 4, 'GBC_107': 13, 'GBC_118': 1}, 0.83527134529341551, 0.83112209669821779)\n",
      "Add model - GBC_55 - ensemble and score: ({'GBC_76': 2, 'GBC_74': 4, 'GBC_115': 7, 'GBC_105': 1, 'GBC_55': 2, 'GBC_56': 1, 'GBC_117': 4, 'GBC_114': 9, 'GBC_22': 2, 'GBC_34': 2, 'GBC_79': 4, 'GBC_107': 13, 'GBC_118': 1}, 0.83527734088676353, 0.83119079156618247)\n",
      "Elminate models -- ensemble and score: ({'GBC_76': 2, 'GBC_74': 4, 'GBC_115': 7, 'GBC_105': 1, 'GBC_55': 2, 'GBC_56': 1, 'GBC_117': 4, 'GBC_114': 9, 'GBC_22': 2, 'GBC_34': 2, 'GBC_79': 4, 'GBC_107': 13, 'GBC_118': 1}, 0.83527734088676353, 0.83119079156618247)\n",
      "Add model - GBC_114 - ensemble and score: ({'GBC_76': 2, 'GBC_74': 4, 'GBC_115': 7, 'GBC_105': 1, 'GBC_55': 2, 'GBC_56': 1, 'GBC_117': 4, 'GBC_114': 10, 'GBC_22': 2, 'GBC_34': 2, 'GBC_79': 4, 'GBC_107': 13, 'GBC_118': 1}, 0.83527832198385665, 0.83129219827603551)\n",
      "Elminate models -- ensemble and score: ({'GBC_76': 2, 'GBC_74': 4, 'GBC_115': 7, 'GBC_105': 1, 'GBC_55': 2, 'GBC_56': 1, 'GBC_117': 4, 'GBC_114': 10, 'GBC_22': 2, 'GBC_34': 2, 'GBC_79': 4, 'GBC_107': 13, 'GBC_118': 1}, 0.83527832198385665, 0.83129219827603551)\n",
      "Add model - GBC_107 - ensemble and score: ({'GBC_76': 2, 'GBC_74': 4, 'GBC_115': 7, 'GBC_105': 1, 'GBC_55': 2, 'GBC_56': 1, 'GBC_117': 4, 'GBC_114': 10, 'GBC_22': 2, 'GBC_34': 2, 'GBC_79': 4, 'GBC_107': 14, 'GBC_118': 1}, 0.83527837648925085, 0.83127282280045567)\n",
      "Elminate models -- ensemble and score: ({'GBC_76': 2, 'GBC_74': 4, 'GBC_115': 7, 'GBC_105': 1, 'GBC_55': 2, 'GBC_56': 1, 'GBC_117': 4, 'GBC_114': 10, 'GBC_22': 2, 'GBC_34': 2, 'GBC_79': 4, 'GBC_107': 14, 'GBC_118': 1}, 0.83527837648925085, 0.83127282280045567)\n",
      "Add model - GBC_22 - ensemble and score: ({'GBC_76': 2, 'GBC_74': 4, 'GBC_115': 7, 'GBC_105': 1, 'GBC_55': 2, 'GBC_56': 1, 'GBC_117': 4, 'GBC_114': 10, 'GBC_22': 3, 'GBC_34': 2, 'GBC_79': 4, 'GBC_107': 14, 'GBC_118': 1}, 0.83529380151577326, 0.83131157375161557)\n",
      "Elminate models -- ensemble and score: ({'GBC_76': 2, 'GBC_74': 4, 'GBC_115': 7, 'GBC_105': 1, 'GBC_55': 2, 'GBC_118': 1, 'GBC_117': 4, 'GBC_114': 10, 'GBC_22': 3, 'GBC_34': 2, 'GBC_79': 4, 'GBC_107': 14}, 0.83532367047172451, 0.83133296226361919)\n",
      "Add model - GBC_56 - ensemble and score: ({'GBC_76': 2, 'GBC_74': 4, 'GBC_115': 7, 'GBC_105': 1, 'GBC_55': 2, 'GBC_56': 1, 'GBC_117': 4, 'GBC_114': 10, 'GBC_22': 3, 'GBC_34': 2, 'GBC_79': 4, 'GBC_107': 14, 'GBC_118': 1}, 0.83532977507586048, 0.83133975626154988)\n",
      "Elminate models -- ensemble and score: ({'GBC_76': 2, 'GBC_74': 4, 'GBC_115': 7, 'GBC_105': 1, 'GBC_55': 2, 'GBC_56': 1, 'GBC_117': 4, 'GBC_114': 10, 'GBC_22': 3, 'GBC_34': 2, 'GBC_79': 4, 'GBC_107': 14, 'GBC_118': 1}, 0.83532977507586048, 0.83133975626154988)\n",
      "Add model - KNN_50 - ensemble and score: ({'GBC_76': 2, 'GBC_74': 4, 'GBC_115': 7, 'GBC_105': 1, 'GBC_55': 2, 'GBC_56': 1, 'GBC_117': 4, 'GBC_114': 10, 'GBC_22': 3, 'GBC_34': 2, 'GBC_79': 4, 'KNN_50': 1, 'GBC_107': 14, 'GBC_118': 1}, 0.83541295030721407, 0.83185106751321558)\n",
      "Elminate models -- ensemble and score: ({'GBC_76': 2, 'GBC_74': 4, 'GBC_115': 7, 'GBC_105': 1, 'GBC_55': 2, 'GBC_107': 14, 'GBC_117': 4, 'GBC_114': 10, 'GBC_22': 3, 'GBC_34': 2, 'GBC_79': 4, 'KNN_50': 1, 'GBC_118': 1}, 0.83542461446154548, 0.83185081588366261)\n",
      "Add model - GBC_74 - ensemble and score: ({'GBC_76': 2, 'GBC_74': 5, 'GBC_115': 7, 'GBC_105': 1, 'GBC_55': 2, 'GBC_118': 1, 'GBC_117': 4, 'GBC_114': 10, 'GBC_22': 3, 'GBC_34': 2, 'GBC_79': 4, 'KNN_50': 1, 'GBC_107': 14}, 0.83546592955025201, 0.83202318212745741)\n",
      "Elminate models -- ensemble and score: ({'GBC_76': 2, 'GBC_74': 5, 'GBC_115': 7, 'GBC_105': 1, 'GBC_55': 2, 'GBC_118': 1, 'GBC_117': 4, 'GBC_114': 10, 'GBC_22': 3, 'GBC_34': 2, 'GBC_79': 4, 'KNN_50': 1, 'GBC_107': 14}, 0.83546592955025201, 0.83202318212745741)\n",
      "Add model - GBC_19 - ensemble and score: ({'GBC_76': 2, 'GBC_74': 5, 'GBC_115': 7, 'GBC_105': 1, 'GBC_55': 2, 'GBC_107': 14, 'GBC_117': 4, 'GBC_114': 10, 'GBC_22': 3, 'GBC_34': 2, 'GBC_79': 4, 'KNN_50': 1, 'GBC_118': 1, 'GBC_19': 1}, 0.83547486843487984, 0.83210370358441255)\n",
      "Elminate models -- ensemble and score: ({'GBC_76': 2, 'GBC_74': 5, 'GBC_115': 7, 'GBC_105': 1, 'GBC_118': 1, 'GBC_107': 14, 'GBC_117': 4, 'GBC_114': 10, 'GBC_22': 3, 'GBC_34': 2, 'GBC_79': 4, 'KNN_50': 1, 'GBC_19': 1}, 0.83549143807467763, 0.83199600613573488)\n",
      "Add model - GBC_113 - ensemble and score: ({'GBC_76': 2, 'GBC_74': 5, 'GBC_115': 7, 'GBC_105': 1, 'GBC_107': 14, 'GBC_118': 1, 'GBC_117': 4, 'GBC_114': 10, 'GBC_22': 3, 'GBC_113': 1, 'GBC_34': 2, 'GBC_79': 4, 'KNN_50': 1, 'GBC_19': 1}, 0.8354968341086908, 0.83215176482903275)\n",
      "Elminate models -- ensemble and score: ({'GBC_76': 2, 'GBC_74': 5, 'GBC_115': 7, 'GBC_105': 1, 'GBC_107': 14, 'GBC_118': 1, 'GBC_117': 4, 'GBC_114': 10, 'GBC_22': 3, 'GBC_113': 1, 'GBC_34': 2, 'GBC_79': 4, 'KNN_50': 1}, 0.83550015893772911, 0.83204306086214319)\n",
      "Add model - GBC_79 - ensemble and score: ({'GBC_76': 2, 'GBC_74': 5, 'GBC_115': 7, 'GBC_105': 1, 'GBC_118': 1, 'GBC_107': 14, 'GBC_117': 4, 'GBC_114': 10, 'GBC_22': 3, 'GBC_113': 1, 'GBC_34': 2, 'GBC_79': 5, 'KNN_50': 1}, 0.83551929033104821, 0.83209338677274025)\n",
      "Elminate models -- ensemble and score: ({'GBC_76': 2, 'GBC_74': 5, 'GBC_115': 7, 'GBC_105': 1, 'GBC_118': 1, 'GBC_107': 14, 'GBC_117': 4, 'GBC_114': 10, 'GBC_22': 3, 'GBC_113': 1, 'GBC_34': 2, 'GBC_79': 5, 'KNN_50': 1}, 0.83551929033104821, 0.83209338677274025)\n",
      "Add model - GBC_91 - ensemble and score: ({'GBC_76': 2, 'GBC_74': 5, 'GBC_115': 7, 'GBC_105': 1, 'GBC_107': 14, 'GBC_118': 1, 'GBC_117': 4, 'GBC_114': 10, 'GBC_22': 3, 'GBC_113': 1, 'GBC_34': 2, 'GBC_79': 5, 'KNN_50': 1, 'GBC_91': 1}, 0.83552648504306593, 0.83210269706620066)\n",
      "Elminate models -- ensemble and score: ({'GBC_76': 2, 'GBC_74': 5, 'GBC_115': 7, 'GBC_105': 1, 'GBC_107': 14, 'GBC_118': 1, 'GBC_117': 4, 'GBC_114': 10, 'GBC_22': 3, 'GBC_91': 1, 'GBC_34': 2, 'GBC_79': 5, 'KNN_50': 1}, 0.83554032941316014, 0.83194492533647912)\n",
      "Add model - GBC_22 - ensemble and score: ({'GBC_76': 2, 'GBC_74': 5, 'GBC_115': 7, 'GBC_105': 1, 'GBC_118': 1, 'GBC_107': 14, 'GBC_117': 4, 'GBC_114': 10, 'GBC_22': 4, 'GBC_91': 1, 'GBC_34': 2, 'GBC_79': 5, 'KNN_50': 1}, 0.83554763313596558, 0.83201160716802014)\n",
      "Elminate models -- ensemble and score: ({'GBC_76': 2, 'GBC_74': 5, 'GBC_115': 7, 'GBC_105': 1, 'GBC_118': 1, 'GBC_107': 14, 'GBC_117': 4, 'GBC_114': 10, 'GBC_22': 4, 'GBC_91': 1, 'GBC_34': 2, 'GBC_79': 5, 'KNN_50': 1}, 0.83554763313596558, 0.83201160716802014)\n",
      "Add model - GBC_91 - ensemble and score: ({'GBC_76': 2, 'GBC_74': 5, 'GBC_115': 7, 'GBC_105': 1, 'GBC_107': 14, 'GBC_118': 1, 'GBC_117': 4, 'GBC_114': 10, 'GBC_22': 4, 'GBC_91': 2, 'GBC_34': 2, 'GBC_79': 5, 'KNN_50': 1}, 0.83555488235337716, 0.83200758109517226)\n",
      "Elminate models -- ensemble and score: ({'GBC_76': 2, 'GBC_74': 5, 'GBC_115': 7, 'GBC_105': 1, 'GBC_107': 14, 'GBC_118': 1, 'GBC_117': 4, 'GBC_114': 10, 'GBC_22': 4, 'GBC_91': 2, 'GBC_34': 2, 'GBC_79': 5, 'KNN_50': 1}, 0.83555488235337716, 0.83200758109517226)\n",
      "Add model - ETC_209 - ensemble and score: ({'GBC_76': 2, 'GBC_74': 5, 'GBC_115': 7, 'GBC_105': 1, 'GBC_118': 1, 'GBC_107': 14, 'GBC_117': 4, 'GBC_114': 10, 'GBC_22': 4, 'GBC_91': 2, 'GBC_34': 2, 'GBC_79': 5, 'KNN_50': 1, 'ETC_209': 1}, 0.83571910710571551, 0.83269075533152703)\n",
      "Elminate models -- ensemble and score: ({'GBC_76': 2, 'GBC_74': 5, 'GBC_115': 7, 'GBC_105': 1, 'GBC_118': 1, 'GBC_107': 14, 'GBC_117': 4, 'GBC_114': 10, 'GBC_22': 4, 'GBC_91': 2, 'GBC_34': 2, 'GBC_79': 5, 'KNN_50': 1, 'ETC_209': 1}, 0.83571910710571551, 0.83269075533152703)\n",
      "Add model - GBC_1 - ensemble and score: ({'GBC_76': 2, 'GBC_74': 5, 'GBC_115': 7, 'GBC_105': 1, 'GBC_118': 1, 'GBC_107': 14, 'GBC_117': 4, 'GBC_114': 10, 'GBC_22': 4, 'GBC_91': 2, 'GBC_34': 2, 'GBC_79': 5, 'KNN_50': 1, 'GBC_1': 1, 'ETC_209': 1}, 0.83572488467748718, 0.83276196649502165)\n",
      "Elminate models -- ensemble and score: ({'GBC_76': 2, 'GBC_74': 5, 'GBC_115': 7, 'GBC_105': 1, 'GBC_118': 1, 'GBC_107': 14, 'GBC_117': 4, 'GBC_114': 10, 'GBC_22': 4, 'GBC_91': 2, 'GBC_34': 2, 'GBC_79': 5, 'KNN_50': 1, 'GBC_1': 1, 'ETC_209': 1}, 0.83572488467748718, 0.83276196649502165)\n",
      "Add model - GBC_114 - ensemble and score: ({'GBC_76': 2, 'GBC_74': 5, 'GBC_22': 4, 'GBC_105': 1, 'GBC_107': 14, 'GBC_118': 1, 'GBC_117': 4, 'GBC_114': 11, 'GBC_115': 7, 'GBC_91': 2, 'GBC_34': 2, 'GBC_79': 5, 'GBC_1': 1, 'KNN_50': 1, 'ETC_209': 1}, 0.83573425960526759, 0.83281883477399632)\n",
      "Elminate models -- ensemble and score: ({'GBC_76': 2, 'GBC_74': 5, 'GBC_22': 4, 'GBC_105': 1, 'GBC_107': 14, 'GBC_118': 1, 'GBC_117': 4, 'GBC_114': 11, 'GBC_115': 7, 'GBC_91': 2, 'GBC_34': 2, 'GBC_79': 5, 'GBC_1': 1, 'KNN_50': 1, 'ETC_209': 1}, 0.83573425960526759, 0.83281883477399632)\n",
      "Add model - GBC_1 - ensemble and score: ({'GBC_76': 2, 'GBC_74': 5, 'GBC_22': 4, 'GBC_105': 1, 'GBC_107': 14, 'GBC_118': 1, 'GBC_117': 4, 'GBC_114': 11, 'GBC_115': 7, 'GBC_91': 2, 'GBC_34': 2, 'GBC_79': 5, 'GBC_1': 2, 'KNN_50': 1, 'ETC_209': 1}, 0.83573665784260665, 0.83290715674709426)\n",
      "Elminate models -- ensemble and score: ({'GBC_76': 2, 'GBC_74': 5, 'GBC_22': 4, 'GBC_105': 1, 'GBC_107': 14, 'GBC_118': 1, 'GBC_117': 4, 'GBC_114': 11, 'GBC_115': 7, 'GBC_91': 2, 'GBC_34': 2, 'GBC_79': 5, 'GBC_1': 2, 'KNN_50': 1, 'ETC_209': 1}, 0.83573665784260665, 0.83290715674709426)\n",
      "Add model - GBC_114 - ensemble and score: ({'GBC_76': 2, 'GBC_74': 5, 'GBC_22': 4, 'GBC_105': 1, 'GBC_107': 14, 'GBC_118': 1, 'GBC_117': 4, 'GBC_114': 12, 'GBC_115': 7, 'GBC_91': 2, 'GBC_34': 2, 'GBC_79': 5, 'GBC_1': 2, 'KNN_50': 1, 'ETC_209': 1}, 0.83574630529735738, 0.83293785555255828)\n",
      "Elminate models -- ensemble and score: ({'GBC_76': 2, 'GBC_74': 5, 'GBC_22': 4, 'GBC_105': 1, 'GBC_107': 14, 'GBC_118': 1, 'GBC_117': 4, 'GBC_114': 12, 'GBC_115': 7, 'GBC_91': 2, 'GBC_34': 2, 'GBC_79': 5, 'GBC_1': 2, 'KNN_50': 1, 'ETC_209': 1}, 0.83574630529735738, 0.83293785555255828)\n",
      "Add model - GBC_109 - ensemble and score: ({'GBC_76': 2, 'GBC_74': 5, 'GBC_22': 4, 'GBC_34': 2, 'GBC_79': 5, 'GBC_1': 2, 'GBC_105': 1, 'GBC_107': 14, 'GBC_118': 1, 'GBC_109': 1, 'GBC_117': 4, 'GBC_114': 12, 'GBC_115': 7, 'GBC_91': 2, 'KNN_50': 1, 'ETC_209': 1}, 0.83575104726664162, 0.83295345658484354)\n",
      "Elminate models -- ensemble and score: ({'GBC_76': 2, 'GBC_74': 5, 'GBC_22': 4, 'GBC_34': 2, 'GBC_79': 5, 'GBC_1': 2, 'GBC_105': 1, 'GBC_107': 14, 'GBC_118': 1, 'GBC_109': 1, 'GBC_117': 4, 'GBC_114': 12, 'GBC_115': 7, 'GBC_91': 2, 'KNN_50': 1, 'ETC_209': 1}, 0.83575104726664162, 0.83295345658484354)\n",
      "Add model - GBC_22 - ensemble and score: ({'GBC_76': 2, 'GBC_74': 5, 'GBC_22': 5, 'GBC_34': 2, 'GBC_79': 5, 'GBC_1': 2, 'GBC_105': 1, 'GBC_107': 14, 'GBC_118': 1, 'GBC_109': 1, 'GBC_117': 4, 'GBC_114': 12, 'GBC_115': 7, 'GBC_91': 2, 'KNN_50': 1, 'ETC_209': 1}, 0.8357530094608282, 0.83300705367962924)\n",
      "Elminate models -- ensemble and score: ({'GBC_76': 2, 'GBC_74': 5, 'GBC_22': 5, 'GBC_34': 2, 'GBC_79': 5, 'GBC_1': 2, 'GBC_105': 1, 'GBC_107': 14, 'GBC_118': 1, 'GBC_109': 1, 'GBC_117': 4, 'GBC_114': 12, 'GBC_115': 7, 'GBC_91': 2, 'KNN_50': 1, 'ETC_209': 1}, 0.8357530094608282, 0.83300705367962924)\n",
      "Add model - GBC_34 - ensemble and score: ({'GBC_76': 2, 'GBC_74': 5, 'GBC_22': 5, 'GBC_34': 3, 'GBC_79': 5, 'GBC_1': 2, 'GBC_105': 1, 'GBC_107': 14, 'GBC_118': 1, 'GBC_109': 1, 'GBC_117': 4, 'GBC_114': 12, 'GBC_115': 7, 'GBC_91': 2, 'KNN_50': 1, 'ETC_209': 1}, 0.83575873252720578, 0.83296981250578739)\n",
      "Elminate models -- ensemble and score: ({'GBC_76': 2, 'GBC_74': 5, 'GBC_105': 1, 'GBC_107': 14, 'GBC_118': 1, 'GBC_117': 4, 'GBC_114': 12, 'GBC_115': 7, 'GBC_34': 3, 'GBC_79': 5, 'GBC_1': 2, 'KNN_50': 1, 'ETC_209': 1}, 0.83577759139355468, 0.83281833151489049)\n",
      "Add model - GBC_74 - ensemble and score: ({'GBC_76': 2, 'GBC_74': 6, 'GBC_105': 1, 'GBC_118': 1, 'GBC_107': 14, 'GBC_117': 4, 'GBC_114': 12, 'GBC_115': 7, 'GBC_34': 3, 'GBC_79': 5, 'GBC_1': 2, 'KNN_50': 1, 'ETC_209': 1}, 0.83580260936943374, 0.83286890905504052)\n",
      "Elminate models -- ensemble and score: ({'GBC_76': 2, 'GBC_74': 6, 'GBC_105': 1, 'GBC_118': 1, 'GBC_107': 14, 'GBC_117': 4, 'GBC_114': 12, 'GBC_115': 7, 'GBC_34': 3, 'GBC_79': 5, 'GBC_1': 2, 'KNN_50': 1, 'ETC_209': 1}, 0.83580260936943374, 0.83286890905504052)\n",
      "Add model - KNN_50 - ensemble and score: ({'GBC_76': 2, 'GBC_74': 6, 'GBC_105': 1, 'GBC_107': 14, 'GBC_118': 1, 'GBC_117': 4, 'GBC_114': 12, 'GBC_115': 7, 'GBC_34': 3, 'GBC_79': 5, 'GBC_1': 2, 'KNN_50': 2, 'ETC_209': 1}, 0.83598215013750621, 0.83288375519866664)\n",
      "Elminate models -- ensemble and score: ({'GBC_76': 2, 'GBC_74': 6, 'GBC_105': 1, 'GBC_107': 14, 'GBC_118': 1, 'GBC_117': 4, 'GBC_114': 12, 'GBC_115': 7, 'GBC_34': 3, 'GBC_79': 5, 'GBC_1': 2, 'KNN_50': 2, 'ETC_209': 1}, 0.83598215013750621, 0.83288375519866664)\n",
      "Add model - KNN_6 - ensemble and score: ({'GBC_76': 2, 'GBC_74': 6, 'GBC_105': 1, 'GBC_118': 1, 'GBC_107': 14, 'GBC_117': 4, 'GBC_114': 12, 'GBC_115': 7, 'GBC_34': 3, 'GBC_79': 5, 'KNN_6': 1, 'GBC_1': 2, 'KNN_50': 2, 'ETC_209': 1}, 0.83600460635986384, 0.8328520498749904)\n",
      "Elminate models -- ensemble and score: ({'GBC_76': 2, 'GBC_74': 6, 'GBC_105': 1, 'GBC_107': 14, 'GBC_117': 4, 'GBC_114': 12, 'GBC_115': 7, 'GBC_34': 3, 'GBC_79': 5, 'KNN_6': 1, 'GBC_1': 2, 'KNN_50': 2, 'ETC_209': 1}, 0.83600733162956742, 0.83303246826448085)\n",
      "Add model - KNN_50 - ensemble and score: ({'GBC_76': 2, 'GBC_74': 6, 'GBC_105': 1, 'GBC_107': 14, 'GBC_117': 4, 'GBC_114': 12, 'GBC_115': 7, 'GBC_34': 3, 'GBC_79': 5, 'KNN_6': 1, 'GBC_1': 2, 'KNN_50': 3, 'ETC_209': 1}, 0.83604722957802791, 0.83297258043087041)\n",
      "Elminate models -- ensemble and score: ({'GBC_76': 2, 'GBC_74': 6, 'GBC_105': 1, 'GBC_107': 14, 'GBC_117': 4, 'GBC_114': 12, 'GBC_115': 7, 'GBC_34': 3, 'GBC_79': 5, 'KNN_6': 1, 'GBC_1': 2, 'KNN_50': 3, 'ETC_209': 1}, 0.83604722957802791, 0.83297258043087041)\n",
      "Add model - GBC_118 - ensemble and score: ({'GBC_76': 2, 'GBC_74': 6, 'GBC_105': 1, 'GBC_107': 14, 'GBC_118': 1, 'GBC_117': 4, 'GBC_114': 12, 'GBC_115': 7, 'GBC_34': 3, 'GBC_79': 5, 'KNN_6': 1, 'GBC_1': 2, 'KNN_50': 3, 'ETC_209': 1}, 0.83606712404686412, 0.8327888908571911)\n",
      "Elminate models -- ensemble and score: ({'GBC_76': 2, 'GBC_74': 6, 'GBC_105': 1, 'GBC_107': 14, 'GBC_118': 1, 'GBC_117': 4, 'GBC_114': 12, 'GBC_115': 7, 'GBC_34': 3, 'GBC_79': 5, 'KNN_6': 1, 'GBC_1': 2, 'KNN_50': 3, 'ETC_209': 1}, 0.83606712404686412, 0.8327888908571911)\n",
      "Add model - BAGC_19 - ensemble and score: ({'GBC_76': 2, 'GBC_74': 6, 'GBC_105': 1, 'GBC_118': 1, 'GBC_107': 14, 'GBC_117': 4, 'GBC_114': 12, 'GBC_115': 7, 'BAGC_19': 1, 'GBC_34': 3, 'GBC_79': 5, 'KNN_6': 1, 'GBC_1': 2, 'KNN_50': 3, 'ETC_209': 1}, 0.83607186601614847, 0.83282462225371501)\n",
      "Elminate models -- ensemble and score: ({'GBC_76': 2, 'GBC_74': 6, 'GBC_105': 1, 'GBC_118': 1, 'GBC_107': 14, 'GBC_117': 4, 'GBC_114': 12, 'GBC_115': 7, 'BAGC_19': 1, 'GBC_34': 3, 'GBC_79': 5, 'KNN_6': 1, 'GBC_1': 2, 'KNN_50': 3, 'ETC_209': 1}, 0.83607186601614847, 0.83282462225371501)\n",
      "Add model - BAGC_4 - ensemble and score: ({'GBC_76': 2, 'GBC_74': 6, 'GBC_34': 3, 'GBC_79': 5, 'GBC_1': 2, 'GBC_105': 1, 'GBC_107': 14, 'GBC_118': 1, 'GBC_117': 4, 'GBC_114': 12, 'GBC_115': 7, 'BAGC_19': 1, 'KNN_6': 1, 'BAGC_4': 1, 'KNN_50': 3, 'ETC_209': 1}, 0.83607350117797052, 0.83211477528474387)\n",
      "Elminate models -- ensemble and score: ({'GBC_76': 2, 'GBC_74': 6, 'GBC_105': 1, 'GBC_107': 14, 'GBC_118': 1, 'GBC_114': 12, 'GBC_115': 7, 'BAGC_19': 1, 'GBC_34': 3, 'GBC_79': 5, 'KNN_6': 1, 'BAGC_4': 1, 'GBC_1': 2, 'KNN_50': 3, 'ETC_209': 1}, 0.83609933673476067, 0.83224461613408429)\n",
      "Add model - GBC_114 - ensemble and score: ({'GBC_76': 2, 'GBC_74': 6, 'GBC_105': 1, 'GBC_107': 14, 'GBC_118': 1, 'GBC_114': 13, 'GBC_115': 7, 'BAGC_19': 1, 'GBC_34': 3, 'GBC_79': 5, 'KNN_6': 1, 'BAGC_4': 1, 'GBC_1': 2, 'KNN_50': 3, 'ETC_209': 1}, 0.83610555034968481, 0.83230727189277764)\n",
      "Elminate models -- ensemble and score: ({'GBC_76': 2, 'GBC_74': 6, 'GBC_105': 1, 'GBC_107': 14, 'GBC_118': 1, 'GBC_114': 13, 'GBC_115': 7, 'BAGC_19': 1, 'GBC_34': 3, 'GBC_79': 5, 'KNN_6': 1, 'BAGC_4': 1, 'GBC_1': 2, 'KNN_50': 3, 'ETC_209': 1}, 0.83610555034968481, 0.83230727189277764)\n",
      "Add model - GBC_114 - ensemble and score: ({'GBC_76': 2, 'GBC_74': 6, 'GBC_105': 1, 'GBC_107': 14, 'GBC_118': 1, 'GBC_114': 14, 'GBC_115': 7, 'BAGC_19': 1, 'GBC_34': 3, 'GBC_79': 5, 'KNN_6': 1, 'BAGC_4': 1, 'GBC_1': 2, 'KNN_50': 3, 'ETC_209': 1}, 0.83613007777701709, 0.832366908096835)\n",
      "Elminate models -- ensemble and score: ({'GBC_76': 2, 'GBC_74': 6, 'GBC_105': 1, 'GBC_107': 14, 'GBC_118': 1, 'GBC_114': 14, 'GBC_115': 7, 'BAGC_19': 1, 'GBC_34': 3, 'GBC_79': 5, 'KNN_6': 1, 'BAGC_4': 1, 'GBC_1': 2, 'KNN_50': 3, 'ETC_209': 1}, 0.83613007777701709, 0.832366908096835)\n",
      "Add model - GBC_117 - ensemble and score: ({'GBC_76': 2, 'GBC_74': 6, 'GBC_34': 3, 'GBC_79': 5, 'GBC_1': 2, 'GBC_105': 1, 'GBC_107': 14, 'GBC_118': 1, 'GBC_117': 1, 'GBC_114': 14, 'GBC_115': 7, 'BAGC_19': 1, 'KNN_6': 1, 'BAGC_4': 1, 'KNN_50': 3, 'ETC_209': 1}, 0.83616250848648987, 0.83232664736835749)\n",
      "Elminate models -- ensemble and score: ({'GBC_76': 2, 'GBC_74': 6, 'GBC_34': 3, 'GBC_79': 5, 'GBC_1': 2, 'GBC_105': 1, 'GBC_107': 14, 'GBC_118': 1, 'GBC_117': 1, 'GBC_114': 14, 'GBC_115': 7, 'BAGC_19': 1, 'KNN_6': 1, 'BAGC_4': 1, 'KNN_50': 3, 'ETC_209': 1}, 0.83616250848648987, 0.83232664736835749)\n",
      "Add model - GBC_117 - ensemble and score: ({'GBC_76': 2, 'GBC_74': 6, 'GBC_34': 3, 'GBC_79': 5, 'GBC_1': 2, 'GBC_105': 1, 'GBC_107': 14, 'GBC_118': 1, 'GBC_117': 2, 'GBC_114': 14, 'GBC_115': 7, 'BAGC_19': 1, 'KNN_6': 1, 'BAGC_4': 1, 'KNN_50': 3, 'ETC_209': 1}, 0.8361766798889485, 0.83227707634641934)\n",
      "Elminate models -- ensemble and score: ({'GBC_76': 2, 'GBC_74': 6, 'GBC_34': 3, 'GBC_79': 5, 'GBC_1': 2, 'GBC_105': 1, 'GBC_107': 14, 'GBC_118': 1, 'GBC_117': 2, 'GBC_114': 14, 'GBC_115': 7, 'BAGC_19': 1, 'KNN_6': 1, 'BAGC_4': 1, 'KNN_50': 3, 'ETC_209': 1}, 0.8361766798889485, 0.83227707634641934)\n",
      "Add model - ETC_28 - ensemble and score: ({'GBC_76': 2, 'GBC_74': 6, 'GBC_34': 3, 'GBC_79': 5, 'GBC_1': 2, 'GBC_107': 14, 'GBC_105': 1, 'ETC_28': 1, 'GBC_118': 1, 'GBC_117': 2, 'GBC_114': 14, 'GBC_115': 7, 'BAGC_19': 1, 'KNN_6': 1, 'BAGC_4': 1, 'KNN_50': 3, 'ETC_209': 1}, 0.8361793506532581, 0.83291344748591878)\n",
      "Elminate models -- ensemble and score: ({'GBC_76': 2, 'GBC_74': 6, 'GBC_34': 3, 'GBC_79': 5, 'GBC_1': 2, 'GBC_107': 14, 'GBC_105': 1, 'ETC_28': 1, 'GBC_118': 1, 'GBC_117': 2, 'GBC_114': 14, 'GBC_115': 7, 'BAGC_19': 1, 'KNN_6': 1, 'BAGC_4': 1, 'KNN_50': 3, 'ETC_209': 1}, 0.8361793506532581, 0.83291344748591878)\n",
      "Add model - GBC_114 - ensemble and score: ({'GBC_76': 2, 'GBC_74': 6, 'GBC_34': 3, 'GBC_79': 5, 'GBC_1': 2, 'GBC_107': 14, 'GBC_105': 1, 'ETC_28': 1, 'GBC_118': 1, 'GBC_117': 2, 'GBC_114': 15, 'GBC_115': 7, 'BAGC_19': 1, 'KNN_6': 1, 'BAGC_4': 1, 'KNN_50': 3, 'ETC_209': 1}, 0.8362019158864038, 0.83298440701986065)\n",
      "Elminate models -- ensemble and score: ({'GBC_76': 2, 'GBC_74': 6, 'GBC_34': 3, 'GBC_79': 5, 'GBC_1': 2, 'GBC_107': 14, 'GBC_105': 1, 'ETC_28': 1, 'GBC_118': 1, 'GBC_117': 2, 'GBC_114': 15, 'GBC_115': 7, 'BAGC_19': 1, 'KNN_6': 1, 'BAGC_4': 1, 'KNN_50': 3, 'ETC_209': 1}, 0.8362019158864038, 0.83298440701986065)\n",
      "Add model - GBC_114 - ensemble and score: ({'GBC_76': 2, 'GBC_74': 6, 'GBC_34': 3, 'GBC_79': 5, 'GBC_1': 2, 'GBC_107': 14, 'GBC_105': 1, 'ETC_28': 1, 'GBC_118': 1, 'GBC_117': 2, 'GBC_114': 16, 'GBC_115': 7, 'BAGC_19': 1, 'KNN_6': 1, 'BAGC_4': 1, 'KNN_50': 3, 'ETC_209': 1}, 0.83623925208134298, 0.8329979950157218)\n",
      "Elminate models -- ensemble and score: ({'GBC_76': 2, 'GBC_74': 6, 'GBC_34': 3, 'GBC_79': 5, 'GBC_1': 2, 'GBC_107': 14, 'GBC_105': 1, 'ETC_28': 1, 'GBC_118': 1, 'GBC_117': 2, 'GBC_114': 16, 'GBC_115': 7, 'BAGC_19': 1, 'KNN_6': 1, 'BAGC_4': 1, 'KNN_50': 3, 'ETC_209': 1}, 0.83623925208134298, 0.8329979950157218)\n",
      "Add model - GBC_114 - ensemble and score: ({'GBC_76': 2, 'GBC_74': 6, 'GBC_34': 3, 'GBC_79': 5, 'GBC_1': 2, 'GBC_107': 14, 'GBC_105': 1, 'ETC_28': 1, 'GBC_118': 1, 'GBC_117': 2, 'GBC_114': 17, 'GBC_115': 7, 'BAGC_19': 1, 'KNN_6': 1, 'BAGC_4': 1, 'KNN_50': 3, 'ETC_209': 1}, 0.83625636677508153, 0.83304957907408383)\n",
      "Elminate models -- ensemble and score: ({'GBC_76': 2, 'GBC_74': 6, 'GBC_34': 3, 'GBC_79': 5, 'GBC_1': 2, 'GBC_107': 14, 'GBC_105': 1, 'ETC_28': 1, 'GBC_118': 1, 'GBC_117': 2, 'GBC_114': 17, 'GBC_115': 7, 'BAGC_19': 1, 'KNN_6': 1, 'BAGC_4': 1, 'KNN_50': 3, 'ETC_209': 1}, 0.83625636677508153, 0.83304957907408383)\n",
      "Add model - LR_36 - ensemble and score: ({'GBC_76': 2, 'GBC_74': 6, 'GBC_34': 3, 'GBC_79': 5, 'GBC_1': 2, 'GBC_107': 14, 'GBC_105': 1, 'ETC_28': 1, 'GBC_118': 1, 'GBC_117': 2, 'GBC_114': 17, 'GBC_115': 7, 'BAGC_19': 1, 'KNN_6': 1, 'BAGC_4': 1, 'KNN_50': 3, 'ETC_209': 1, 'LR_36': 1}, 0.83649673556293824, 0.83346980042756891)\n",
      "Elminate models -- ensemble and score: ({'GBC_76': 2, 'GBC_74': 6, 'GBC_34': 3, 'GBC_79': 5, 'GBC_1': 2, 'GBC_105': 1, 'GBC_107': 14, 'GBC_118': 1, 'GBC_117': 2, 'GBC_114': 17, 'GBC_115': 7, 'BAGC_19': 1, 'KNN_6': 1, 'BAGC_4': 1, 'KNN_50': 3, 'ETC_209': 1, 'LR_36': 1}, 0.83669867804797438, 0.83320533776738148)\n",
      "Add model - GBC_113 - ensemble and score: ({'GBC_76': 2, 'GBC_74': 6, 'GBC_113': 1, 'GBC_34': 3, 'GBC_79': 5, 'GBC_1': 2, 'GBC_105': 1, 'GBC_107': 14, 'GBC_118': 1, 'GBC_117': 2, 'GBC_114': 17, 'GBC_115': 7, 'BAGC_19': 1, 'KNN_6': 1, 'BAGC_4': 1, 'KNN_50': 3, 'ETC_209': 1, 'LR_36': 1}, 0.83672271492675998, 0.8332541539006606)\n",
      "Elminate models -- ensemble and score: ({'GBC_76': 2, 'GBC_74': 6, 'GBC_113': 1, 'GBC_34': 3, 'GBC_79': 5, 'GBC_1': 2, 'GBC_105': 1, 'GBC_107': 14, 'GBC_118': 1, 'GBC_117': 2, 'GBC_114': 17, 'GBC_115': 7, 'BAGC_19': 1, 'KNN_6': 1, 'BAGC_4': 1, 'KNN_50': 3, 'ETC_209': 1, 'LR_36': 1}, 0.83672271492675998, 0.8332541539006606)\n",
      "Add model - GBC_91 - ensemble and score: ({'GBC_76': 2, 'GBC_74': 6, 'GBC_113': 1, 'GBC_34': 3, 'GBC_79': 5, 'GBC_1': 2, 'GBC_105': 1, 'GBC_107': 14, 'GBC_118': 1, 'GBC_117': 2, 'GBC_114': 17, 'GBC_115': 7, 'BAGC_19': 1, 'KNN_6': 1, 'BAGC_4': 1, 'KNN_50': 3, 'ETC_209': 1, 'GBC_91': 1, 'LR_36': 1}, 0.83672952810101897, 0.83324182405256431)\n",
      "Elminate models -- ensemble and score: ({'GBC_76': 2, 'GBC_74': 6, 'GBC_113': 1, 'GBC_34': 3, 'GBC_79': 5, 'GBC_1': 2, 'GBC_105': 1, 'GBC_107': 14, 'GBC_118': 1, 'GBC_117': 2, 'GBC_114': 17, 'GBC_115': 7, 'BAGC_19': 1, 'KNN_6': 1, 'BAGC_4': 1, 'KNN_50': 3, 'ETC_209': 1, 'GBC_91': 1, 'LR_36': 1}, 0.83672952810101897, 0.83324182405256431)\n",
      "Add model - DTC_42 - ensemble and score: ({'GBC_76': 2, 'GBC_74': 6, 'GBC_34': 3, 'GBC_79': 5, 'GBC_1': 2, 'BAGC_19': 1, 'DTC_42': 1, 'GBC_105': 1, 'GBC_107': 14, 'GBC_118': 1, 'GBC_117': 2, 'GBC_114': 17, 'GBC_115': 7, 'GBC_113': 1, 'KNN_6': 1, 'BAGC_4': 1, 'KNN_50': 3, 'ETC_209': 1, 'GBC_91': 1, 'LR_36': 1}, 0.8371989830601595, 0.83435704623139451)\n",
      "Elminate models -- ensemble and score: ({'GBC_76': 2, 'GBC_74': 6, 'GBC_34': 3, 'GBC_79': 5, 'GBC_1': 2, 'BAGC_19': 1, 'DTC_42': 1, 'GBC_105': 1, 'GBC_117': 2, 'GBC_114': 17, 'GBC_115': 7, 'GBC_113': 1, 'KNN_6': 1, 'BAGC_4': 1, 'KNN_50': 3, 'ETC_209': 1, 'LR_36': 1}, 0.83723146827502637, 0.83415498770034746)\n",
      "Add model - GBC_113 - ensemble and score: ({'GBC_76': 2, 'GBC_74': 6, 'GBC_34': 3, 'GBC_79': 5, 'GBC_1': 2, 'BAGC_19': 1, 'DTC_42': 1, 'GBC_105': 1, 'GBC_117': 2, 'GBC_114': 17, 'GBC_115': 7, 'GBC_113': 2, 'KNN_6': 1, 'BAGC_4': 1, 'KNN_50': 3, 'ETC_209': 1, 'LR_36': 1}, 0.83725185329240925, 0.83427275033114445)\n",
      "Elminate models -- ensemble and score: ({'GBC_76': 2, 'GBC_74': 6, 'GBC_34': 3, 'GBC_79': 5, 'GBC_1': 2, 'BAGC_19': 1, 'DTC_42': 1, 'GBC_105': 1, 'GBC_117': 2, 'GBC_114': 17, 'GBC_115': 7, 'GBC_113': 2, 'KNN_6': 1, 'BAGC_4': 1, 'KNN_50': 3, 'ETC_209': 1, 'LR_36': 1}, 0.83725185329240925, 0.83427275033114445)\n",
      "Add model - GBC_115 - ensemble and score: ({'GBC_76': 2, 'GBC_74': 6, 'GBC_34': 3, 'GBC_79': 5, 'GBC_1': 2, 'BAGC_19': 1, 'DTC_42': 1, 'GBC_105': 1, 'GBC_117': 2, 'GBC_114': 17, 'GBC_115': 8, 'GBC_113': 2, 'KNN_6': 1, 'BAGC_4': 1, 'KNN_50': 3, 'ETC_209': 1, 'LR_36': 1}, 0.83725626822932919, 0.83429187417717132)\n",
      "Elminate models -- ensemble and score: ({'GBC_76': 2, 'GBC_74': 6, 'GBC_34': 3, 'GBC_79': 5, 'GBC_1': 2, 'BAGC_19': 1, 'DTC_42': 1, 'GBC_105': 1, 'GBC_117': 2, 'GBC_114': 17, 'GBC_115': 8, 'GBC_113': 2, 'KNN_6': 1, 'BAGC_4': 1, 'KNN_50': 3, 'ETC_209': 1, 'LR_36': 1}, 0.83725626822932919, 0.83429187417717132)\n",
      "Add model - GBC_107 - ensemble and score: ({'GBC_76': 2, 'GBC_74': 6, 'GBC_34': 3, 'GBC_79': 5, 'GBC_1': 2, 'BAGC_19': 1, 'DTC_42': 1, 'GBC_105': 1, 'GBC_107': 1, 'GBC_117': 2, 'GBC_114': 17, 'GBC_115': 8, 'GBC_113': 2, 'KNN_6': 1, 'BAGC_4': 1, 'KNN_50': 3, 'ETC_209': 1, 'LR_36': 1}, 0.83726313590898216, 0.83434849082659301)\n",
      "Elminate models -- ensemble and score: ({'GBC_76': 2, 'GBC_74': 6, 'GBC_34': 3, 'GBC_79': 5, 'GBC_1': 2, 'BAGC_19': 1, 'DTC_42': 1, 'GBC_105': 1, 'GBC_107': 1, 'GBC_117': 2, 'GBC_114': 17, 'GBC_115': 8, 'GBC_113': 2, 'KNN_6': 1, 'BAGC_4': 1, 'KNN_50': 3, 'ETC_209': 1, 'LR_36': 1}, 0.83726313590898216, 0.83434849082659301)\n",
      "Add model - GBC_107 - ensemble and score: ({'GBC_76': 2, 'GBC_74': 6, 'GBC_34': 3, 'GBC_79': 5, 'GBC_1': 2, 'BAGC_19': 1, 'DTC_42': 1, 'GBC_105': 1, 'GBC_107': 2, 'GBC_117': 2, 'GBC_114': 17, 'GBC_115': 8, 'GBC_113': 2, 'KNN_6': 1, 'BAGC_4': 1, 'KNN_50': 3, 'ETC_209': 1, 'LR_36': 1}, 0.83726858644838931, 0.83437818311384526)\n",
      "Elminate models -- ensemble and score: ({'GBC_76': 2, 'GBC_74': 6, 'GBC_34': 3, 'GBC_79': 5, 'GBC_1': 2, 'BAGC_19': 1, 'DTC_42': 1, 'GBC_105': 1, 'GBC_107': 2, 'GBC_117': 2, 'GBC_114': 17, 'GBC_115': 8, 'GBC_113': 2, 'KNN_6': 1, 'BAGC_4': 1, 'KNN_50': 3, 'ETC_209': 1, 'LR_36': 1}, 0.83726858644838931, 0.83437818311384526)\n",
      "Add model - GBC_107 - ensemble and score: ({'GBC_76': 2, 'GBC_74': 6, 'GBC_34': 3, 'GBC_79': 5, 'GBC_1': 2, 'BAGC_19': 1, 'DTC_42': 1, 'GBC_105': 1, 'GBC_107': 3, 'GBC_117': 2, 'GBC_114': 17, 'GBC_115': 8, 'GBC_113': 2, 'KNN_6': 1, 'BAGC_4': 1, 'KNN_50': 3, 'ETC_209': 1, 'LR_36': 1}, 0.83727234732058031, 0.83441592754679306)\n",
      "Elminate models -- ensemble and score: ({'GBC_76': 2, 'GBC_74': 6, 'GBC_34': 3, 'GBC_79': 5, 'GBC_1': 2, 'BAGC_19': 1, 'DTC_42': 1, 'GBC_105': 1, 'GBC_107': 3, 'GBC_117': 2, 'GBC_114': 17, 'GBC_115': 8, 'GBC_113': 2, 'KNN_6': 1, 'BAGC_4': 1, 'KNN_50': 3, 'ETC_209': 1, 'LR_36': 1}, 0.83727234732058031, 0.83441592754679306)\n",
      "Add model - GBC_107 - ensemble and score: ({'GBC_76': 2, 'GBC_74': 6, 'GBC_34': 3, 'GBC_79': 5, 'GBC_1': 2, 'BAGC_19': 1, 'DTC_42': 1, 'GBC_105': 1, 'GBC_107': 4, 'GBC_117': 2, 'GBC_114': 17, 'GBC_115': 8, 'GBC_113': 2, 'KNN_6': 1, 'BAGC_4': 1, 'KNN_50': 3, 'ETC_209': 1, 'LR_36': 1}, 0.83727436402016087, 0.83445065242510508)\n",
      "Elminate models -- ensemble and score: ({'GBC_76': 2, 'GBC_74': 6, 'GBC_34': 3, 'GBC_79': 5, 'GBC_1': 2, 'BAGC_19': 1, 'DTC_42': 1, 'GBC_105': 1, 'GBC_107': 4, 'GBC_117': 2, 'GBC_114': 17, 'GBC_115': 8, 'GBC_113': 2, 'KNN_6': 1, 'BAGC_4': 1, 'KNN_50': 3, 'ETC_209': 1, 'LR_36': 1}, 0.83727436402016087, 0.83445065242510508)\n",
      "Add model - GBC_91 - ensemble and score: ({'GBC_76': 2, 'GBC_74': 6, 'GBC_34': 3, 'GBC_79': 5, 'GBC_1': 2, 'BAGC_19': 1, 'DTC_42': 1, 'GBC_105': 1, 'GBC_107': 4, 'GBC_117': 2, 'GBC_114': 17, 'GBC_115': 8, 'GBC_113': 2, 'KNN_6': 1, 'BAGC_4': 1, 'KNN_50': 3, 'ETC_209': 1, 'GBC_91': 1, 'LR_36': 1}, 0.8372806321404791, 0.83446876975291984)\n",
      "Elminate models -- ensemble and score: ({'GBC_76': 2, 'GBC_74': 6, 'GBC_34': 3, 'GBC_79': 5, 'GBC_1': 2, 'BAGC_19': 1, 'DTC_42': 1, 'GBC_105': 1, 'GBC_107': 4, 'GBC_117': 2, 'GBC_114': 17, 'GBC_115': 8, 'GBC_113': 2, 'KNN_6': 1, 'BAGC_4': 1, 'KNN_50': 3, 'ETC_209': 1, 'GBC_91': 1, 'LR_36': 1}, 0.8372806321404791, 0.83446876975291984)\n",
      "Add model - GBC_107 - ensemble and score: ({'GBC_76': 2, 'GBC_74': 6, 'GBC_34': 3, 'GBC_79': 5, 'GBC_1': 2, 'BAGC_19': 1, 'DTC_42': 1, 'GBC_105': 1, 'GBC_107': 5, 'GBC_117': 2, 'GBC_114': 17, 'GBC_115': 8, 'GBC_113': 2, 'KNN_6': 1, 'BAGC_4': 1, 'KNN_50': 3, 'ETC_209': 1, 'GBC_91': 1, 'LR_36': 1}, 0.83728891696037799, 0.83445165894331685)\n",
      "Elminate models -- ensemble and score: ({'GBC_76': 2, 'GBC_74': 6, 'GBC_34': 3, 'GBC_79': 5, 'GBC_1': 2, 'BAGC_19': 1, 'DTC_42': 1, 'GBC_105': 1, 'GBC_107': 5, 'GBC_117': 2, 'GBC_114': 17, 'GBC_115': 8, 'GBC_113': 2, 'KNN_6': 1, 'BAGC_4': 1, 'KNN_50': 3, 'ETC_209': 1, 'GBC_91': 1, 'LR_36': 1}, 0.83728891696037799, 0.83445165894331685)\n",
      "Add model - DTC_2 - ensemble and score: ({'GBC_76': 2, 'GBC_74': 6, 'DTC_2': 1, 'GBC_34': 3, 'GBC_79': 5, 'GBC_1': 2, 'BAGC_19': 1, 'DTC_42': 1, 'GBC_105': 1, 'GBC_107': 5, 'GBC_117': 2, 'GBC_114': 17, 'GBC_115': 8, 'GBC_113': 2, 'KNN_6': 1, 'BAGC_4': 1, 'KNN_50': 3, 'ETC_209': 1, 'GBC_91': 1, 'LR_36': 1}, 0.83762363458537303, 0.833128842383274)\n",
      "Elminate models -- ensemble and score: ({'GBC_76': 2, 'GBC_74': 6, 'DTC_2': 1, 'GBC_34': 3, 'GBC_79': 5, 'GBC_1': 2, 'DTC_42': 1, 'GBC_105': 1, 'GBC_107': 5, 'GBC_117': 2, 'GBC_114': 17, 'GBC_115': 8, 'GBC_113': 2, 'BAGC_19': 1, 'BAGC_4': 1, 'KNN_50': 3, 'ETC_209': 1, 'GBC_91': 1, 'LR_36': 1}, 0.83762663238204704, 0.83313588801075755)\n",
      "Add model - GBC_107 - ensemble and score: ({'GBC_76': 2, 'GBC_74': 6, 'DTC_2': 1, 'GBC_34': 3, 'GBC_79': 5, 'GBC_1': 2, 'DTC_42': 1, 'GBC_105': 1, 'GBC_107': 6, 'GBC_117': 2, 'GBC_114': 17, 'GBC_115': 8, 'GBC_113': 2, 'BAGC_19': 1, 'BAGC_4': 1, 'KNN_50': 3, 'ETC_209': 1, 'GBC_91': 1, 'LR_36': 1}, 0.83762963017872105, 0.83316809659353974)\n",
      "Elminate models -- ensemble and score: ({'GBC_76': 2, 'GBC_74': 6, 'DTC_2': 1, 'GBC_34': 3, 'GBC_79': 5, 'GBC_1': 2, 'DTC_42': 1, 'GBC_105': 1, 'GBC_107': 6, 'GBC_117': 2, 'GBC_114': 17, 'GBC_115': 8, 'GBC_113': 2, 'BAGC_19': 1, 'BAGC_4': 1, 'KNN_50': 3, 'ETC_209': 1, 'LR_36': 1}, 0.83763322753472969, 0.83311248646233005)\n",
      "Add model - GBC_114 - ensemble and score: ({'GBC_76': 2, 'GBC_74': 6, 'DTC_2': 1, 'GBC_34': 3, 'GBC_79': 5, 'GBC_1': 2, 'DTC_42': 1, 'GBC_105': 1, 'GBC_107': 6, 'GBC_117': 2, 'GBC_114': 18, 'GBC_115': 8, 'GBC_113': 2, 'BAGC_19': 1, 'BAGC_4': 1, 'KNN_50': 3, 'ETC_209': 1, 'LR_36': 1}, 0.83763382709406442, 0.83312154512623748)\n",
      "Elminate models -- ensemble and score: ({'GBC_76': 2, 'GBC_74': 6, 'DTC_2': 1, 'GBC_34': 3, 'GBC_79': 5, 'GBC_1': 2, 'DTC_42': 1, 'GBC_105': 1, 'GBC_107': 6, 'GBC_117': 2, 'GBC_114': 18, 'GBC_115': 8, 'GBC_113': 2, 'BAGC_19': 1, 'BAGC_4': 1, 'KNN_50': 3, 'ETC_209': 1, 'LR_36': 1}, 0.83763382709406442, 0.83312154512623748)\n",
      "Add model - GBC_114 - ensemble and score: ({'GBC_76': 2, 'GBC_74': 6, 'DTC_2': 1, 'GBC_34': 3, 'GBC_79': 5, 'GBC_1': 2, 'DTC_42': 1, 'GBC_105': 1, 'GBC_107': 6, 'GBC_117': 2, 'GBC_114': 19, 'GBC_115': 8, 'GBC_113': 2, 'BAGC_19': 1, 'BAGC_4': 1, 'KNN_50': 3, 'ETC_209': 1, 'LR_36': 1}, 0.83764047675214126, 0.83314872111795979)\n",
      "Elminate models -- ensemble and score: ({'GBC_76': 2, 'GBC_74': 6, 'DTC_2': 1, 'GBC_34': 3, 'GBC_79': 5, 'GBC_1': 2, 'DTC_42': 1, 'GBC_105': 1, 'GBC_107': 6, 'GBC_117': 2, 'GBC_114': 19, 'GBC_115': 8, 'GBC_113': 2, 'BAGC_19': 1, 'BAGC_4': 1, 'KNN_50': 3, 'ETC_209': 1, 'LR_36': 1}, 0.83764047675214126, 0.83314872111795979)\n",
      "Add model - GBC_114 - ensemble and score: ({'GBC_76': 2, 'GBC_74': 6, 'DTC_2': 1, 'GBC_34': 3, 'GBC_79': 5, 'GBC_1': 2, 'DTC_42': 1, 'GBC_105': 1, 'GBC_107': 6, 'GBC_117': 2, 'GBC_114': 20, 'GBC_115': 8, 'GBC_113': 2, 'BAGC_19': 1, 'BAGC_4': 1, 'KNN_50': 3, 'ETC_209': 1, 'LR_36': 1}, 0.83764352905420936, 0.83325742508484946)\n",
      "Elminate models -- ensemble and score: ({'GBC_76': 2, 'GBC_74': 6, 'DTC_2': 1, 'GBC_34': 3, 'GBC_79': 5, 'GBC_1': 2, 'DTC_42': 1, 'GBC_105': 1, 'GBC_107': 6, 'GBC_117': 2, 'GBC_114': 20, 'GBC_115': 8, 'GBC_113': 2, 'BAGC_19': 1, 'BAGC_4': 1, 'KNN_50': 3, 'ETC_209': 1, 'LR_36': 1}, 0.83764352905420936, 0.83325742508484946)\n",
      "Add model - GBC_117 - ensemble and score: ({'GBC_76': 2, 'GBC_74': 6, 'DTC_2': 1, 'GBC_34': 3, 'GBC_79': 5, 'GBC_1': 2, 'DTC_42': 1, 'GBC_105': 1, 'GBC_107': 6, 'GBC_117': 3, 'GBC_114': 20, 'GBC_115': 8, 'GBC_113': 2, 'BAGC_19': 1, 'BAGC_4': 1, 'KNN_50': 3, 'ETC_209': 1, 'LR_36': 1}, 0.83766696637366012, 0.83320886058112342)\n",
      "Elminate models -- ensemble and score: ({'GBC_76': 2, 'GBC_74': 6, 'DTC_2': 1, 'GBC_34': 3, 'GBC_79': 5, 'GBC_1': 2, 'DTC_42': 1, 'GBC_105': 1, 'GBC_107': 6, 'GBC_117': 3, 'GBC_114': 20, 'GBC_115': 8, 'GBC_113': 2, 'BAGC_19': 1, 'BAGC_4': 1, 'KNN_50': 3, 'ETC_209': 1, 'LR_36': 1}, 0.83766696637366012, 0.83320886058112342)\n",
      "Add model - GBC_117 - ensemble and score: ({'GBC_76': 2, 'GBC_74': 6, 'DTC_2': 1, 'GBC_34': 3, 'GBC_79': 5, 'GBC_1': 2, 'DTC_42': 1, 'GBC_105': 1, 'GBC_107': 6, 'GBC_117': 4, 'GBC_114': 20, 'GBC_115': 8, 'GBC_113': 2, 'BAGC_19': 1, 'BAGC_4': 1, 'KNN_50': 3, 'ETC_209': 1, 'LR_36': 1}, 0.83767012768651627, 0.83319250466017936)\n",
      "Elminate models -- ensemble and score: ({'GBC_76': 2, 'GBC_74': 6, 'DTC_2': 1, 'GBC_34': 3, 'GBC_79': 5, 'GBC_1': 2, 'DTC_42': 1, 'GBC_105': 1, 'GBC_107': 6, 'GBC_117': 4, 'GBC_114': 20, 'GBC_115': 8, 'GBC_113': 2, 'BAGC_19': 1, 'BAGC_4': 1, 'KNN_50': 3, 'ETC_209': 1, 'LR_36': 1}, 0.83767012768651627, 0.83319250466017936)\n",
      "Add model - BAGC_15 - ensemble and score: ({'GBC_76': 2, 'GBC_74': 6, 'DTC_2': 1, 'GBC_34': 3, 'GBC_79': 5, 'GBC_1': 2, 'DTC_42': 1, 'BAGC_15': 1, 'GBC_105': 1, 'GBC_107': 6, 'GBC_117': 4, 'GBC_114': 20, 'GBC_115': 8, 'GBC_113': 2, 'BAGC_19': 1, 'BAGC_4': 1, 'KNN_50': 3, 'ETC_209': 1, 'LR_36': 1}, 0.83769449159766651, 0.83326321256456815)\n",
      "Elminate models -- ensemble and score: ({'GBC_76': 2, 'GBC_74': 6, 'DTC_2': 1, 'GBC_34': 3, 'GBC_79': 5, 'GBC_1': 2, 'DTC_42': 1, 'BAGC_15': 1, 'GBC_105': 1, 'GBC_107': 6, 'GBC_117': 4, 'GBC_114': 20, 'GBC_115': 8, 'GBC_113': 2, 'BAGC_19': 1, 'BAGC_4': 1, 'KNN_50': 3, 'ETC_209': 1, 'LR_36': 1}, 0.83769449159766651, 0.83326321256456815)\n",
      "Add model - GBC_55 - ensemble and score: ({'GBC_76': 2, 'GBC_74': 6, 'GBC_55': 1, 'DTC_2': 1, 'GBC_34': 3, 'GBC_79': 5, 'GBC_1': 2, 'DTC_42': 1, 'BAGC_15': 1, 'GBC_105': 1, 'GBC_107': 6, 'GBC_117': 4, 'GBC_114': 20, 'GBC_115': 8, 'GBC_113': 2, 'BAGC_19': 1, 'BAGC_4': 1, 'KNN_50': 3, 'ETC_209': 1, 'LR_36': 1}, 0.83769569071633609, 0.83331353847516521)\n",
      "Elminate models -- ensemble and score: ({'GBC_76': 2, 'GBC_74': 6, 'GBC_55': 1, 'DTC_2': 1, 'GBC_34': 3, 'GBC_79': 5, 'GBC_1': 2, 'DTC_42': 1, 'BAGC_15': 1, 'GBC_105': 1, 'GBC_107': 6, 'GBC_117': 4, 'GBC_114': 20, 'GBC_115': 8, 'GBC_113': 2, 'BAGC_19': 1, 'BAGC_4': 1, 'KNN_50': 3, 'ETC_209': 1, 'LR_36': 1}, 0.83769569071633609, 0.83331353847516521)\n",
      "Add model - GBC_91 - ensemble and score: ({'GBC_76': 2, 'GBC_74': 6, 'GBC_55': 1, 'DTC_2': 1, 'GBC_34': 3, 'GBC_79': 5, 'GBC_1': 2, 'DTC_42': 1, 'BAGC_15': 1, 'GBC_105': 1, 'GBC_107': 6, 'GBC_117': 4, 'GBC_114': 20, 'GBC_115': 8, 'GBC_113': 2, 'BAGC_19': 1, 'BAGC_4': 1, 'KNN_50': 3, 'ETC_209': 1, 'GBC_91': 1, 'LR_36': 1}, 0.83769907005076849, 0.83333543024627499)\n",
      "Elminate models -- ensemble and score: ({'GBC_76': 2, 'GBC_74': 6, 'GBC_55': 1, 'DTC_2': 1, 'GBC_34': 3, 'GBC_79': 5, 'KNN_50': 3, 'DTC_42': 1, 'BAGC_15': 1, 'GBC_105': 1, 'GBC_107': 6, 'GBC_117': 4, 'GBC_114': 20, 'GBC_115': 8, 'GBC_113': 2, 'BAGC_19': 1, 'BAGC_4': 1, 'ETC_209': 1, 'GBC_91': 1, 'LR_36': 1}, 0.83770174081507809, 0.83317690362789432)\n",
      "Add model - GBC_19 - ensemble and score: ({'GBC_76': 2, 'GBC_74': 6, 'GBC_55': 1, 'DTC_2': 1, 'GBC_34': 3, 'GBC_79': 5, 'KNN_50': 3, 'DTC_42': 1, 'BAGC_15': 1, 'GBC_105': 1, 'GBC_107': 6, 'GBC_117': 4, 'GBC_114': 20, 'GBC_115': 8, 'GBC_113': 2, 'BAGC_19': 1, 'BAGC_4': 1, 'ETC_209': 1, 'GBC_19': 1, 'GBC_91': 1, 'LR_36': 1}, 0.83770353949308241, 0.8332325137591039)\n",
      "Elminate models -- ensemble and score: ({'GBC_76': 2, 'GBC_74': 6, 'GBC_55': 1, 'DTC_2': 1, 'GBC_34': 3, 'GBC_79': 5, 'KNN_50': 3, 'DTC_42': 1, 'BAGC_15': 1, 'GBC_105': 1, 'GBC_107': 6, 'GBC_117': 4, 'GBC_114': 20, 'GBC_115': 8, 'GBC_113': 2, 'BAGC_19': 1, 'BAGC_4': 1, 'ETC_209': 1, 'GBC_19': 1, 'GBC_91': 1, 'LR_36': 1}, 0.83770353949308241, 0.8332325137591039)\n",
      "Add model - GBC_107 - ensemble and score: ({'GBC_76': 2, 'GBC_74': 6, 'GBC_55': 1, 'DTC_2': 1, 'GBC_34': 3, 'GBC_79': 5, 'KNN_50': 3, 'DTC_42': 1, 'BAGC_15': 1, 'GBC_105': 1, 'GBC_107': 7, 'GBC_117': 4, 'GBC_114': 20, 'GBC_115': 8, 'GBC_113': 2, 'BAGC_19': 1, 'BAGC_4': 1, 'ETC_209': 1, 'GBC_19': 1, 'GBC_91': 1, 'LR_36': 1}, 0.83770370300926467, 0.83326774189652186)\n",
      "Elminate models -- ensemble and score: ({'GBC_76': 2, 'GBC_74': 6, 'GBC_55': 1, 'DTC_2': 1, 'GBC_34': 3, 'GBC_79': 5, 'KNN_50': 3, 'DTC_42': 1, 'BAGC_15': 1, 'GBC_105': 1, 'GBC_107': 7, 'GBC_117': 4, 'GBC_114': 20, 'GBC_115': 8, 'GBC_113': 2, 'BAGC_19': 1, 'BAGC_4': 1, 'ETC_209': 1, 'GBC_19': 1, 'GBC_91': 1, 'LR_36': 1}, 0.83770370300926467, 0.83326774189652186)\n",
      "Add model - GBC_19 - ensemble and score: ({'GBC_76': 2, 'GBC_74': 6, 'GBC_55': 1, 'DTC_2': 1, 'GBC_34': 3, 'GBC_79': 5, 'KNN_50': 3, 'DTC_42': 1, 'BAGC_15': 1, 'GBC_105': 1, 'GBC_107': 7, 'GBC_117': 4, 'GBC_114': 20, 'GBC_115': 8, 'GBC_113': 2, 'BAGC_19': 1, 'BAGC_4': 1, 'ETC_209': 1, 'GBC_19': 2, 'GBC_91': 1, 'LR_36': 1}, 0.83770397553623499, 0.83331781617756595)\n",
      "Elminate models -- ensemble and score: ({'GBC_76': 2, 'GBC_74': 6, 'GBC_55': 1, 'DTC_2': 1, 'GBC_34': 3, 'GBC_79': 5, 'KNN_50': 3, 'DTC_42': 1, 'BAGC_15': 1, 'GBC_105': 1, 'GBC_107': 7, 'GBC_117': 4, 'GBC_114': 20, 'GBC_115': 8, 'GBC_113': 2, 'BAGC_19': 1, 'BAGC_4': 1, 'ETC_209': 1, 'GBC_19': 2, 'LR_36': 1}, 0.83770920805406579, 0.83326723863741581)\n",
      "Add model - GBC_34 - ensemble and score: ({'GBC_76': 2, 'GBC_74': 6, 'GBC_55': 1, 'DTC_2': 1, 'GBC_34': 4, 'GBC_79': 5, 'KNN_50': 3, 'DTC_42': 1, 'BAGC_15': 1, 'GBC_105': 1, 'GBC_107': 7, 'GBC_117': 4, 'GBC_114': 20, 'GBC_115': 8, 'GBC_113': 2, 'BAGC_19': 1, 'BAGC_4': 1, 'ETC_209': 1, 'GBC_19': 2, 'LR_36': 1}, 0.83771444057189681, 0.83326195441680317)\n",
      "Elminate models -- ensemble and score: ({'GBC_76': 2, 'GBC_74': 6, 'DTC_2': 1, 'GBC_34': 4, 'GBC_79': 5, 'KNN_50': 3, 'DTC_42': 1, 'BAGC_15': 1, 'GBC_105': 1, 'GBC_107': 7, 'GBC_117': 4, 'GBC_114': 20, 'GBC_115': 8, 'GBC_113': 2, 'BAGC_19': 1, 'BAGC_4': 1, 'ETC_209': 1, 'GBC_19': 2, 'LR_36': 1}, 0.83773864096686457, 0.83322823605670315)\n",
      "Add model - BAGC_19 - ensemble and score: ({'GBC_76': 2, 'GBC_74': 6, 'DTC_2': 1, 'GBC_34': 4, 'GBC_79': 5, 'KNN_50': 3, 'DTC_42': 1, 'BAGC_15': 1, 'GBC_105': 1, 'GBC_107': 7, 'GBC_117': 4, 'GBC_114': 20, 'GBC_115': 8, 'GBC_113': 2, 'BAGC_19': 2, 'BAGC_4': 1, 'ETC_209': 1, 'GBC_19': 2, 'LR_36': 1}, 0.8377400581071105, 0.83324610175496505)\n",
      "Elminate models -- ensemble and score: ({'GBC_76': 2, 'GBC_74': 6, 'DTC_2': 1, 'GBC_34': 4, 'GBC_79': 5, 'KNN_50': 3, 'DTC_42': 1, 'BAGC_15': 1, 'GBC_105': 1, 'GBC_107': 7, 'GBC_117': 4, 'GBC_114': 20, 'GBC_115': 8, 'GBC_113': 2, 'BAGC_19': 2, 'BAGC_4': 1, 'ETC_209': 1, 'GBC_19': 2, 'LR_36': 1}, 0.8377400581071105, 0.83324610175496505)\n",
      "Add model - GBC_79 - ensemble and score: ({'GBC_76': 2, 'GBC_74': 6, 'DTC_2': 1, 'GBC_34': 4, 'GBC_79': 6, 'KNN_50': 3, 'DTC_42': 1, 'BAGC_15': 1, 'GBC_105': 1, 'GBC_107': 7, 'GBC_117': 4, 'GBC_114': 20, 'GBC_115': 8, 'GBC_113': 2, 'BAGC_19': 2, 'BAGC_4': 1, 'ETC_209': 1, 'GBC_19': 2, 'LR_36': 1}, 0.837744963592577, 0.83335052801945397)\n",
      "Elminate models -- ensemble and score: ({'GBC_76': 2, 'GBC_74': 6, 'DTC_2': 1, 'GBC_34': 4, 'GBC_79': 6, 'KNN_50': 3, 'DTC_42': 1, 'BAGC_15': 1, 'GBC_105': 1, 'GBC_107': 7, 'GBC_117': 4, 'GBC_114': 20, 'GBC_115': 8, 'GBC_113': 2, 'BAGC_19': 2, 'BAGC_4': 1, 'ETC_209': 1, 'GBC_19': 2, 'LR_36': 1}, 0.837744963592577, 0.83335052801945397)\n",
      "Add model - GBC_55 - ensemble and score: ({'GBC_76': 2, 'GBC_74': 6, 'GBC_55': 1, 'DTC_2': 1, 'GBC_34': 4, 'GBC_79': 6, 'KNN_50': 3, 'DTC_42': 1, 'BAGC_15': 1, 'GBC_105': 1, 'GBC_107': 7, 'GBC_117': 4, 'GBC_114': 20, 'GBC_115': 8, 'GBC_113': 2, 'BAGC_19': 2, 'BAGC_4': 1, 'ETC_209': 1, 'GBC_19': 2, 'LR_36': 1}, 0.83774687128136949, 0.83333064928476819)\n",
      "Elminate models -- ensemble and score: ({'GBC_76': 2, 'GBC_74': 6, 'GBC_55': 1, 'DTC_2': 1, 'GBC_34': 4, 'GBC_79': 6, 'KNN_50': 3, 'DTC_42': 1, 'BAGC_15': 1, 'GBC_105': 1, 'GBC_107': 7, 'GBC_117': 4, 'GBC_114': 20, 'GBC_115': 8, 'GBC_113': 2, 'BAGC_19': 2, 'BAGC_4': 1, 'ETC_209': 1, 'GBC_19': 2, 'LR_36': 1}, 0.83774687128136949, 0.83333064928476819)\n",
      "Add model - GBC_1 - ensemble and score: ({'GBC_76': 2, 'GBC_74': 6, 'GBC_55': 1, 'DTC_2': 1, 'GBC_34': 4, 'GBC_79': 6, 'GBC_1': 1, 'DTC_42': 1, 'BAGC_15': 1, 'GBC_105': 1, 'GBC_107': 7, 'GBC_117': 4, 'GBC_114': 20, 'GBC_115': 8, 'GBC_113': 2, 'BAGC_19': 2, 'BAGC_4': 1, 'KNN_50': 3, 'ETC_209': 1, 'GBC_19': 2, 'LR_36': 1}, 0.83774763435688648, 0.83344312769495255)\n",
      "Elminate models -- ensemble and score: ({'GBC_76': 2, 'GBC_74': 6, 'GBC_55': 1, 'DTC_2': 1, 'GBC_34': 4, 'GBC_79': 6, 'GBC_1': 1, 'DTC_42': 1, 'BAGC_15': 1, 'GBC_105': 1, 'GBC_107': 7, 'GBC_117': 4, 'GBC_114': 20, 'GBC_115': 8, 'GBC_113': 2, 'BAGC_19': 2, 'BAGC_4': 1, 'KNN_50': 3, 'ETC_209': 1, 'GBC_19': 2, 'LR_36': 1}, 0.83774763435688648, 0.83344312769495255)\n",
      "Add model - KNN_6 - ensemble and score: ({'GBC_76': 2, 'GBC_74': 6, 'GBC_55': 1, 'DTC_2': 1, 'GBC_34': 4, 'GBC_79': 6, 'GBC_1': 1, 'BAGC_19': 2, 'DTC_42': 1, 'BAGC_15': 1, 'GBC_105': 1, 'GBC_107': 7, 'GBC_117': 4, 'GBC_114': 20, 'GBC_115': 8, 'GBC_113': 2, 'KNN_6': 1, 'BAGC_4': 1, 'KNN_50': 3, 'ETC_209': 1, 'GBC_19': 2, 'LR_36': 1}, 0.83775837191951863, 0.83343281088328014)\n",
      "Elminate models -- ensemble and score: ({'GBC_76': 2, 'GBC_74': 6, 'GBC_55': 1, 'DTC_2': 1, 'GBC_34': 4, 'GBC_79': 6, 'GBC_1': 1, 'BAGC_19': 2, 'DTC_42': 1, 'BAGC_15': 1, 'GBC_105': 1, 'GBC_107': 7, 'GBC_117': 4, 'GBC_114': 20, 'GBC_115': 8, 'GBC_113': 2, 'KNN_6': 1, 'BAGC_4': 1, 'KNN_50': 3, 'ETC_209': 1, 'GBC_19': 2, 'LR_36': 1}, 0.83775837191951863, 0.83343281088328014)\n",
      "Add model - GBC_19 - ensemble and score: ({'GBC_76': 2, 'GBC_74': 6, 'GBC_55': 1, 'DTC_2': 1, 'GBC_34': 4, 'GBC_79': 6, 'GBC_1': 1, 'BAGC_19': 2, 'DTC_42': 1, 'BAGC_15': 1, 'GBC_105': 1, 'GBC_107': 7, 'GBC_117': 4, 'GBC_114': 20, 'GBC_115': 8, 'GBC_113': 2, 'KNN_6': 1, 'BAGC_4': 1, 'KNN_50': 3, 'ETC_209': 1, 'GBC_19': 3, 'LR_36': 1}, 0.83776491256680719, 0.83350301552856298)\n",
      "Elminate models -- ensemble and score: ({'GBC_76': 2, 'GBC_74': 6, 'GBC_55': 1, 'DTC_2': 1, 'GBC_34': 4, 'GBC_79': 6, 'GBC_1': 1, 'BAGC_19': 2, 'DTC_42': 1, 'BAGC_15': 1, 'GBC_105': 1, 'GBC_107': 7, 'GBC_117': 4, 'GBC_114': 20, 'GBC_115': 8, 'GBC_113': 2, 'KNN_6': 1, 'BAGC_4': 1, 'KNN_50': 3, 'ETC_209': 1, 'GBC_19': 3, 'LR_36': 1}, 0.83776491256680719, 0.83350301552856298)\n",
      "Add model - GBC_19 - ensemble and score: ({'GBC_76': 2, 'GBC_74': 6, 'GBC_55': 1, 'DTC_2': 1, 'GBC_34': 4, 'GBC_79': 6, 'GBC_1': 1, 'BAGC_19': 2, 'DTC_42': 1, 'BAGC_15': 1, 'GBC_105': 1, 'GBC_107': 7, 'GBC_117': 4, 'GBC_114': 20, 'GBC_115': 8, 'GBC_113': 2, 'KNN_6': 1, 'BAGC_4': 1, 'KNN_50': 3, 'ETC_209': 1, 'GBC_19': 4, 'LR_36': 1}, 0.83777532309707492, 0.83354554092301747)\n",
      "Elminate models -- ensemble and score: ({'GBC_76': 2, 'GBC_74': 6, 'GBC_55': 1, 'DTC_2': 1, 'GBC_34': 4, 'GBC_79': 6, 'GBC_1': 1, 'BAGC_19': 2, 'DTC_42': 1, 'BAGC_15': 1, 'GBC_105': 1, 'GBC_107': 7, 'GBC_117': 4, 'GBC_114': 20, 'GBC_115': 8, 'GBC_113': 2, 'KNN_6': 1, 'BAGC_4': 1, 'KNN_50': 3, 'ETC_209': 1, 'GBC_19': 4, 'LR_36': 1}, 0.83777532309707492, 0.83354554092301747)\n",
      "Add model - LR_64 - ensemble and score: ({'GBC_76': 2, 'GBC_74': 6, 'GBC_55': 1, 'DTC_2': 1, 'GBC_34': 4, 'GBC_79': 6, 'GBC_1': 1, 'BAGC_19': 2, 'BAGC_4': 1, 'DTC_42': 1, 'BAGC_15': 1, 'GBC_105': 1, 'GBC_107': 7, 'GBC_117': 4, 'GBC_114': 20, 'GBC_115': 8, 'GBC_113': 2, 'KNN_6': 1, 'LR_64': 1, 'KNN_50': 3, 'ETC_209': 1, 'GBC_19': 4, 'LR_36': 1}, 0.83784677966870325, 0.83359712498137939)\n",
      "Elminate models -- ensemble and score: ({'GBC_76': 2, 'GBC_74': 6, 'GBC_55': 1, 'DTC_2': 1, 'GBC_34': 4, 'GBC_79': 6, 'GBC_1': 1, 'BAGC_19': 2, 'BAGC_4': 1, 'DTC_42': 1, 'BAGC_15': 1, 'GBC_105': 1, 'GBC_107': 7, 'GBC_117': 4, 'GBC_114': 20, 'GBC_115': 8, 'GBC_113': 2, 'KNN_6': 1, 'LR_64': 1, 'KNN_50': 3, 'ETC_209': 1, 'GBC_19': 4, 'LR_36': 1}, 0.83784677966870325, 0.83359712498137939)\n",
      "Add model - GBC_115 - ensemble and score: ({'GBC_76': 2, 'GBC_74': 6, 'GBC_55': 1, 'DTC_2': 1, 'GBC_34': 4, 'GBC_79': 6, 'GBC_1': 1, 'BAGC_19': 2, 'LR_64': 1, 'DTC_42': 1, 'BAGC_15': 1, 'GBC_105': 1, 'GBC_107': 7, 'GBC_117': 4, 'GBC_114': 20, 'GBC_115': 9, 'GBC_113': 2, 'KNN_6': 1, 'BAGC_4': 1, 'KNN_50': 3, 'ETC_209': 1, 'GBC_19': 4, 'LR_36': 1}, 0.83786400337322964, 0.83356617454636217)\n",
      "Elminate models -- ensemble and score: ({'GBC_76': 2, 'GBC_74': 6, 'GBC_55': 1, 'DTC_2': 1, 'GBC_34': 4, 'GBC_79': 6, 'GBC_1': 1, 'BAGC_19': 2, 'LR_64': 1, 'DTC_42': 1, 'BAGC_15': 1, 'GBC_105': 1, 'GBC_107': 7, 'GBC_117': 4, 'GBC_114': 20, 'GBC_115': 9, 'GBC_113': 2, 'KNN_6': 1, 'BAGC_4': 1, 'KNN_50': 3, 'ETC_209': 1, 'GBC_19': 4, 'LR_36': 1}, 0.83786400337322964, 0.83356617454636217)\n",
      "Add model - GBC_114 - ensemble and score: ({'GBC_76': 2, 'GBC_74': 6, 'GBC_55': 1, 'DTC_2': 1, 'GBC_34': 4, 'GBC_79': 6, 'GBC_1': 1, 'BAGC_19': 2, 'BAGC_4': 1, 'DTC_42': 1, 'BAGC_15': 1, 'GBC_105': 1, 'GBC_107': 7, 'GBC_117': 4, 'GBC_114': 21, 'GBC_115': 9, 'GBC_113': 2, 'KNN_6': 1, 'LR_64': 1, 'KNN_50': 3, 'ETC_209': 1, 'GBC_19': 4, 'LR_36': 1}, 0.83786438491098825, 0.83367034918129801)\n",
      "Elminate models -- ensemble and score: ({'GBC_76': 2, 'GBC_74': 6, 'GBC_55': 1, 'DTC_2': 1, 'GBC_34': 4, 'GBC_79': 6, 'GBC_1': 1, 'BAGC_19': 2, 'BAGC_4': 1, 'DTC_42': 1, 'BAGC_15': 1, 'GBC_105': 1, 'GBC_107': 7, 'GBC_117': 4, 'GBC_114': 21, 'GBC_115': 9, 'GBC_113': 2, 'KNN_6': 1, 'LR_64': 1, 'KNN_50': 3, 'ETC_209': 1, 'GBC_19': 4, 'LR_36': 1}, 0.83786438491098825, 0.83367034918129801)\n",
      "Add model - GBC_114 - ensemble and score: ({'GBC_76': 2, 'GBC_74': 6, 'GBC_55': 1, 'DTC_2': 1, 'GBC_34': 4, 'GBC_79': 6, 'GBC_1': 1, 'BAGC_19': 2, 'LR_64': 1, 'DTC_42': 1, 'BAGC_15': 1, 'GBC_105': 1, 'GBC_107': 7, 'GBC_117': 4, 'GBC_114': 22, 'GBC_115': 9, 'GBC_113': 2, 'KNN_6': 1, 'BAGC_4': 1, 'KNN_50': 3, 'ETC_209': 1, 'GBC_19': 4, 'LR_36': 1}, 0.83787157962300585, 0.83369752517302032)\n",
      "Elminate models -- ensemble and score: ({'GBC_76': 2, 'GBC_74': 6, 'GBC_55': 1, 'DTC_2': 1, 'GBC_34': 4, 'GBC_79': 6, 'GBC_1': 1, 'BAGC_19': 2, 'LR_64': 1, 'DTC_42': 1, 'BAGC_15': 1, 'GBC_105': 1, 'GBC_107': 7, 'GBC_117': 4, 'GBC_114': 22, 'GBC_115': 9, 'GBC_113': 2, 'KNN_6': 1, 'BAGC_4': 1, 'KNN_50': 3, 'ETC_209': 1, 'GBC_19': 4, 'LR_36': 1}, 0.83787157962300585, 0.83369752517302032)\n",
      "Add model - GBC_91 - ensemble and score: ({'GBC_76': 2, 'GBC_74': 6, 'GBC_55': 1, 'DTC_2': 1, 'GBC_34': 4, 'GBC_79': 6, 'GBC_1': 1, 'BAGC_19': 2, 'BAGC_4': 1, 'DTC_42': 1, 'BAGC_15': 1, 'GBC_105': 1, 'GBC_107': 7, 'GBC_117': 4, 'GBC_114': 22, 'GBC_115': 9, 'GBC_113': 2, 'KNN_6': 1, 'LR_64': 1, 'KNN_50': 3, 'ETC_209': 1, 'GBC_19': 4, 'GBC_91': 1, 'LR_36': 1}, 0.83787386884955684, 0.83369198932285482)\n",
      "Elminate models -- ensemble and score: ({'GBC_76': 2, 'GBC_74': 6, 'GBC_55': 1, 'DTC_2': 1, 'GBC_34': 4, 'GBC_79': 6, 'GBC_1': 1, 'BAGC_19': 2, 'BAGC_4': 1, 'DTC_42': 1, 'BAGC_15': 1, 'GBC_105': 1, 'GBC_107': 7, 'GBC_117': 4, 'GBC_114': 22, 'GBC_115': 9, 'GBC_113': 2, 'KNN_6': 1, 'LR_64': 1, 'KNN_50': 3, 'ETC_209': 1, 'GBC_19': 4, 'GBC_91': 1, 'LR_36': 1}, 0.83787386884955684, 0.83369198932285482)\n",
      "Add model - GBC_114 - ensemble and score: ({'GBC_76': 2, 'GBC_74': 6, 'GBC_55': 1, 'DTC_2': 1, 'GBC_34': 4, 'GBC_79': 6, 'GBC_1': 1, 'BAGC_19': 2, 'LR_64': 1, 'DTC_42': 1, 'BAGC_15': 1, 'GBC_105': 1, 'GBC_107': 7, 'GBC_117': 4, 'GBC_114': 23, 'GBC_115': 9, 'GBC_113': 2, 'KNN_6': 1, 'BAGC_4': 1, 'KNN_50': 3, 'ETC_209': 1, 'GBC_19': 4, 'GBC_91': 1, 'LR_36': 1}, 0.83788008246448098, 0.83379893188287357)\n",
      "Elminate models -- ensemble and score: ({'GBC_76': 2, 'GBC_74': 6, 'GBC_55': 1, 'DTC_2': 1, 'GBC_34': 4, 'GBC_79': 6, 'KNN_50': 3, 'BAGC_19': 2, 'LR_64': 1, 'DTC_42': 1, 'BAGC_15': 1, 'GBC_105': 1, 'GBC_107': 7, 'GBC_117': 4, 'GBC_114': 23, 'GBC_115': 9, 'GBC_113': 2, 'KNN_6': 1, 'BAGC_4': 1, 'ETC_209': 1, 'GBC_19': 4, 'LR_36': 1}, 0.83788351630430746, 0.83365172859437719)\n",
      "Add model - DTC_42 - ensemble and score: ({'GBC_76': 2, 'GBC_74': 6, 'GBC_55': 1, 'DTC_2': 1, 'GBC_34': 4, 'GBC_79': 6, 'KNN_50': 3, 'BAGC_19': 2, 'BAGC_4': 1, 'DTC_42': 2, 'BAGC_15': 1, 'GBC_105': 1, 'GBC_107': 7, 'GBC_117': 4, 'GBC_114': 23, 'GBC_115': 9, 'GBC_113': 2, 'KNN_6': 1, 'LR_64': 1, 'ETC_209': 1, 'GBC_19': 4, 'LR_36': 1}, 0.83788695014413406, 0.83409635801450199)\n",
      "Elminate models -- ensemble and score: ({'GBC_76': 2, 'GBC_74': 6, 'GBC_55': 1, 'DTC_2': 1, 'GBC_34': 4, 'GBC_79': 6, 'KNN_50': 3, 'BAGC_19': 2, 'BAGC_4': 1, 'DTC_42': 2, 'BAGC_15': 1, 'GBC_105': 1, 'GBC_107': 7, 'GBC_117': 4, 'GBC_114': 23, 'GBC_115': 9, 'GBC_113': 2, 'KNN_6': 1, 'LR_64': 1, 'ETC_209': 1, 'GBC_19': 4, 'LR_36': 1}, 0.83788695014413406, 0.83409635801450199)\n",
      "Add model - GBC_113 - ensemble and score: ({'GBC_76': 2, 'GBC_74': 6, 'GBC_55': 1, 'DTC_2': 1, 'GBC_34': 4, 'GBC_79': 6, 'KNN_50': 3, 'BAGC_19': 2, 'LR_64': 1, 'DTC_42': 2, 'BAGC_15': 1, 'GBC_105': 1, 'GBC_107': 7, 'GBC_117': 4, 'GBC_114': 23, 'GBC_115': 9, 'GBC_113': 3, 'KNN_6': 1, 'BAGC_4': 1, 'ETC_209': 1, 'GBC_19': 4, 'LR_36': 1}, 0.83789218266196508, 0.83415851051408918)\n",
      "Elminate models -- ensemble and score: ({'GBC_76': 2, 'GBC_74': 6, 'GBC_55': 1, 'DTC_2': 1, 'GBC_34': 4, 'GBC_79': 6, 'KNN_50': 3, 'BAGC_19': 2, 'LR_64': 1, 'DTC_42': 2, 'BAGC_15': 1, 'GBC_105': 1, 'GBC_107': 7, 'GBC_117': 4, 'GBC_114': 23, 'GBC_115': 9, 'GBC_113': 3, 'KNN_6': 1, 'BAGC_4': 1, 'ETC_209': 1, 'GBC_19': 4, 'LR_36': 1}, 0.83789218266196508, 0.83415851051408918)\n",
      "Add model - GBC_107 - ensemble and score: ({'GBC_76': 2, 'GBC_74': 6, 'GBC_55': 1, 'DTC_2': 1, 'GBC_34': 4, 'GBC_79': 6, 'KNN_50': 3, 'BAGC_19': 2, 'BAGC_4': 1, 'DTC_42': 2, 'BAGC_15': 1, 'GBC_105': 1, 'GBC_107': 8, 'GBC_117': 4, 'GBC_114': 23, 'GBC_115': 9, 'GBC_113': 3, 'KNN_6': 1, 'LR_64': 1, 'ETC_209': 1, 'GBC_19': 4, 'LR_36': 1}, 0.83791147757146645, 0.83423676730506768)\n",
      "Elminate models -- ensemble and score: ({'GBC_76': 2, 'GBC_74': 6, 'GBC_55': 1, 'DTC_2': 1, 'GBC_34': 4, 'GBC_79': 6, 'KNN_50': 3, 'BAGC_19': 2, 'BAGC_4': 1, 'DTC_42': 2, 'BAGC_15': 1, 'GBC_105': 1, 'GBC_107': 8, 'GBC_117': 4, 'GBC_114': 23, 'GBC_115': 9, 'GBC_113': 3, 'KNN_6': 1, 'LR_64': 1, 'ETC_209': 1, 'GBC_19': 4, 'LR_36': 1}, 0.83791147757146645, 0.83423676730506768)\n",
      "Add model - GBC_105 - ensemble and score: ({'GBC_76': 2, 'GBC_74': 6, 'GBC_55': 1, 'DTC_2': 1, 'GBC_34': 4, 'GBC_79': 6, 'KNN_50': 3, 'BAGC_19': 2, 'LR_64': 1, 'DTC_42': 2, 'BAGC_15': 1, 'GBC_105': 2, 'GBC_107': 8, 'GBC_117': 4, 'GBC_114': 23, 'GBC_115': 9, 'GBC_113': 3, 'KNN_6': 1, 'BAGC_4': 1, 'ETC_209': 1, 'GBC_19': 4, 'LR_36': 1}, 0.83794041993571855, 0.83380396447393323)\n",
      "Elminate models -- ensemble and score: ({'GBC_76': 2, 'GBC_74': 6, 'GBC_55': 1, 'DTC_2': 1, 'GBC_34': 4, 'GBC_79': 6, 'KNN_50': 3, 'BAGC_19': 2, 'LR_64': 1, 'DTC_42': 2, 'BAGC_15': 1, 'GBC_105': 2, 'GBC_107': 8, 'GBC_117': 4, 'GBC_114': 23, 'GBC_115': 9, 'GBC_113': 3, 'KNN_6': 1, 'BAGC_4': 1, 'ETC_209': 1, 'GBC_19': 4, 'LR_36': 1}, 0.83794041993571855, 0.83380396447393323)\n",
      "Add model - GBC_91 - ensemble and score: ({'GBC_76': 2, 'GBC_74': 6, 'GBC_55': 1, 'DTC_2': 1, 'GBC_34': 4, 'GBC_79': 6, 'KNN_50': 3, 'BAGC_19': 2, 'BAGC_4': 1, 'DTC_42': 2, 'BAGC_15': 1, 'GBC_105': 2, 'GBC_107': 8, 'GBC_117': 4, 'GBC_114': 23, 'GBC_115': 9, 'GBC_113': 3, 'KNN_6': 1, 'LR_64': 1, 'ETC_209': 1, 'GBC_19': 4, 'GBC_91': 1, 'LR_36': 1}, 0.83795775265103345, 0.83382459809727805)\n",
      "Elminate models -- ensemble and score: ({'GBC_76': 2, 'GBC_74': 6, 'DTC_2': 1, 'GBC_34': 4, 'GBC_79': 6, 'KNN_50': 3, 'BAGC_19': 2, 'BAGC_4': 1, 'DTC_42': 2, 'BAGC_15': 1, 'GBC_105': 2, 'GBC_107': 8, 'GBC_117': 4, 'GBC_114': 23, 'GBC_115': 9, 'GBC_113': 3, 'KNN_6': 1, 'LR_64': 1, 'ETC_209': 1, 'GBC_19': 4, 'GBC_91': 1, 'LR_36': 1}, 0.83796985284851733, 0.83379490581002569)\n",
      "Add model - GBC_91 - ensemble and score: ({'GBC_76': 2, 'GBC_74': 6, 'LR_64': 1, 'DTC_2': 1, 'GBC_34': 4, 'GBC_79': 6, 'KNN_50': 3, 'BAGC_19': 2, 'DTC_42': 2, 'BAGC_15': 1, 'GBC_105': 2, 'GBC_107': 8, 'GBC_117': 4, 'GBC_114': 23, 'GBC_115': 9, 'GBC_113': 3, 'KNN_6': 1, 'BAGC_4': 1, 'ETC_209': 1, 'GBC_19': 4, 'GBC_91': 2, 'LR_36': 1}, 0.83797552140950071, 0.83381050684231084)\n",
      "Elminate models -- ensemble and score: ({'GBC_76': 2, 'GBC_74': 6, 'LR_64': 1, 'DTC_2': 1, 'GBC_34': 4, 'GBC_79': 6, 'KNN_50': 3, 'BAGC_19': 2, 'DTC_42': 2, 'BAGC_15': 1, 'GBC_105': 2, 'GBC_107': 8, 'GBC_117': 4, 'GBC_114': 23, 'GBC_115': 9, 'GBC_113': 3, 'KNN_6': 1, 'BAGC_4': 1, 'ETC_209': 1, 'GBC_19': 4, 'GBC_91': 2, 'LR_36': 1}, 0.83797552140950071, 0.83381050684231084)\n",
      "Add model - DTC_44 - ensemble and score: ({'GBC_76': 2, 'GBC_74': 6, 'DTC_2': 1, 'GBC_34': 4, 'GBC_79': 6, 'KNN_50': 3, 'BAGC_19': 2, 'DTC_44': 1, 'BAGC_4': 1, 'DTC_42': 2, 'BAGC_15': 1, 'GBC_105': 2, 'GBC_107': 8, 'GBC_117': 4, 'GBC_114': 23, 'GBC_115': 9, 'GBC_113': 3, 'KNN_6': 1, 'LR_64': 1, 'ETC_209': 1, 'GBC_19': 4, 'GBC_91': 2, 'LR_36': 1}, 0.83800588091399875, 0.83341469355546516)\n",
      "Elminate models -- ensemble and score: ({'GBC_76': 2, 'GBC_74': 6, 'DTC_2': 1, 'GBC_34': 4, 'GBC_79': 6, 'KNN_50': 3, 'BAGC_19': 2, 'DTC_44': 1, 'BAGC_4': 1, 'DTC_42': 2, 'BAGC_15': 1, 'GBC_105': 2, 'GBC_107': 8, 'GBC_117': 4, 'GBC_114': 23, 'GBC_115': 9, 'GBC_113': 3, 'KNN_6': 1, 'LR_64': 1, 'ETC_209': 1, 'GBC_19': 4, 'GBC_91': 2, 'LR_36': 1}, 0.83800588091399875, 0.83341469355546516)\n",
      "Add model - GBC_119 - ensemble and score: ({'GBC_76': 2, 'GBC_74': 6, 'LR_64': 1, 'DTC_2': 1, 'GBC_34': 4, 'GBC_79': 6, 'KNN_50': 3, 'BAGC_19': 2, 'DTC_44': 1, 'DTC_42': 2, 'BAGC_15': 1, 'GBC_105': 2, 'GBC_107': 8, 'GBC_119': 1, 'GBC_117': 4, 'GBC_114': 23, 'GBC_115': 9, 'GBC_113': 3, 'KNN_6': 1, 'BAGC_4': 1, 'ETC_209': 1, 'GBC_19': 4, 'GBC_91': 2, 'LR_36': 1}, 0.83800931475382545, 0.83306694151323968)\n",
      "Elminate models -- ensemble and score: ({'GBC_76': 2, 'GBC_74': 6, 'LR_64': 1, 'DTC_2': 1, 'GBC_34': 4, 'GBC_79': 6, 'KNN_50': 3, 'DTC_44': 1, 'DTC_42': 2, 'BAGC_15': 1, 'GBC_105': 2, 'GBC_107': 8, 'GBC_119': 1, 'GBC_117': 4, 'GBC_114': 23, 'GBC_115': 9, 'GBC_113': 3, 'BAGC_19': 2, 'BAGC_4': 1, 'ETC_209': 1, 'GBC_19': 4, 'GBC_91': 2, 'LR_36': 1}, 0.83804005579608187, 0.83312204838534343)\n",
      "Add model - GBC_115 - ensemble and score: ({'GBC_76': 2, 'GBC_74': 6, 'DTC_2': 1, 'GBC_34': 4, 'GBC_79': 6, 'KNN_50': 3, 'DTC_44': 1, 'BAGC_4': 1, 'DTC_42': 2, 'BAGC_15': 1, 'GBC_105': 2, 'GBC_107': 8, 'GBC_119': 1, 'GBC_117': 4, 'GBC_114': 23, 'GBC_115': 10, 'GBC_113': 3, 'BAGC_19': 2, 'LR_64': 1, 'ETC_209': 1, 'GBC_19': 4, 'GBC_91': 2, 'LR_36': 1}, 0.83804370765748448, 0.83316784496398677)\n",
      "Elminate models -- ensemble and score: ({'GBC_76': 2, 'GBC_74': 6, 'DTC_2': 1, 'GBC_34': 4, 'GBC_79': 6, 'KNN_50': 3, 'DTC_44': 1, 'BAGC_4': 1, 'DTC_42': 2, 'BAGC_15': 1, 'GBC_105': 2, 'GBC_107': 8, 'GBC_119': 1, 'GBC_117': 4, 'GBC_114': 23, 'GBC_115': 10, 'GBC_113': 3, 'BAGC_19': 2, 'LR_64': 1, 'ETC_209': 1, 'GBC_19': 4, 'GBC_91': 2, 'LR_36': 1}, 0.83804370765748448, 0.83316784496398677)\n",
      "Add model - GBC_113 - ensemble and score: ({'GBC_76': 2, 'GBC_74': 6, 'LR_64': 1, 'DTC_2': 1, 'GBC_34': 4, 'GBC_79': 6, 'KNN_50': 3, 'DTC_44': 1, 'DTC_42': 2, 'BAGC_15': 1, 'GBC_105': 2, 'GBC_107': 8, 'GBC_119': 1, 'GBC_117': 4, 'GBC_114': 23, 'GBC_115': 10, 'GBC_113': 4, 'BAGC_19': 2, 'BAGC_4': 1, 'ETC_209': 1, 'GBC_19': 4, 'GBC_91': 2, 'LR_36': 1}, 0.83804915819689174, 0.8332232034656436)\n",
      "Elminate models -- ensemble and score: ({'GBC_76': 2, 'GBC_74': 6, 'LR_64': 1, 'DTC_2': 1, 'GBC_34': 4, 'GBC_79': 6, 'KNN_50': 3, 'DTC_44': 1, 'DTC_42': 2, 'BAGC_15': 1, 'GBC_105': 2, 'GBC_107': 8, 'GBC_119': 1, 'GBC_117': 4, 'GBC_114': 23, 'GBC_115': 10, 'GBC_113': 4, 'BAGC_19': 2, 'BAGC_4': 1, 'ETC_209': 1, 'GBC_19': 4, 'GBC_91': 2, 'LR_36': 1}, 0.83804915819689174, 0.8332232034656436)\n",
      "Add model - DTC_98 - ensemble and score: ({'GBC_76': 2, 'GBC_74': 6, 'DTC_2': 1, 'GBC_34': 4, 'GBC_79': 6, 'KNN_50': 3, 'DTC_44': 1, 'BAGC_4': 1, 'DTC_42': 2, 'BAGC_15': 1, 'GBC_105': 2, 'GBC_107': 8, 'GBC_119': 1, 'GBC_117': 4, 'GBC_114': 23, 'GBC_115': 10, 'GBC_113': 4, 'BAGC_19': 2, 'LR_64': 1, 'DTC_98': 1, 'ETC_209': 1, 'GBC_19': 4, 'GBC_91': 2, 'LR_36': 1}, 0.83806578234208362, 0.83274108124212398)\n",
      "Elminate models -- ensemble and score: ({'GBC_76': 2, 'GBC_74': 6, 'DTC_2': 1, 'GBC_34': 4, 'GBC_79': 6, 'KNN_50': 3, 'DTC_44': 1, 'BAGC_4': 1, 'DTC_42': 2, 'BAGC_15': 1, 'GBC_105': 2, 'GBC_107': 8, 'GBC_117': 4, 'GBC_114': 23, 'GBC_115': 10, 'GBC_113': 4, 'BAGC_19': 2, 'LR_64': 1, 'DTC_98': 1, 'ETC_209': 1, 'GBC_19': 4, 'GBC_91': 2, 'LR_36': 1}, 0.83806725398772364, 0.83297962605835385)\n",
      "Add model - GBC_113 - ensemble and score: ({'GBC_76': 2, 'GBC_74': 6, 'LR_64': 1, 'DTC_2': 1, 'GBC_34': 4, 'GBC_79': 6, 'KNN_50': 3, 'DTC_44': 1, 'DTC_42': 2, 'BAGC_15': 1, 'GBC_105': 2, 'GBC_107': 8, 'GBC_117': 4, 'GBC_114': 23, 'GBC_115': 10, 'GBC_113': 5, 'BAGC_19': 2, 'BAGC_4': 1, 'DTC_98': 1, 'ETC_209': 1, 'GBC_19': 4, 'GBC_91': 2, 'LR_36': 1}, 0.83806790805245257, 0.83308606535926666)\n",
      "Elminate models -- ensemble and score: ({'GBC_76': 2, 'GBC_74': 6, 'LR_64': 1, 'DTC_2': 1, 'GBC_34': 4, 'GBC_79': 6, 'KNN_50': 3, 'DTC_44': 1, 'DTC_42': 2, 'BAGC_15': 1, 'GBC_105': 2, 'GBC_107': 8, 'GBC_117': 4, 'GBC_114': 23, 'GBC_115': 10, 'GBC_113': 5, 'BAGC_19': 2, 'BAGC_4': 1, 'DTC_98': 1, 'ETC_209': 1, 'GBC_19': 4, 'GBC_91': 2, 'LR_36': 1}, 0.83806790805245257, 0.83308606535926666)\n",
      "Add model - GBC_115 - ensemble and score: ({'GBC_76': 2, 'GBC_74': 6, 'DTC_2': 1, 'GBC_34': 4, 'GBC_79': 6, 'KNN_50': 3, 'DTC_44': 1, 'BAGC_4': 1, 'DTC_42': 2, 'BAGC_15': 1, 'GBC_105': 2, 'GBC_107': 8, 'GBC_117': 4, 'GBC_114': 23, 'GBC_115': 11, 'GBC_113': 5, 'BAGC_19': 2, 'LR_64': 1, 'DTC_98': 1, 'ETC_209': 1, 'GBC_19': 4, 'GBC_91': 2, 'LR_36': 1}, 0.83807128738688508, 0.83311147994411805)\n",
      "Elminate models -- ensemble and score: ({'GBC_76': 2, 'GBC_74': 6, 'DTC_2': 1, 'GBC_34': 4, 'GBC_79': 6, 'KNN_50': 3, 'DTC_44': 1, 'BAGC_4': 1, 'DTC_42': 2, 'BAGC_15': 1, 'GBC_105': 2, 'GBC_107': 8, 'GBC_117': 4, 'GBC_114': 23, 'GBC_115': 11, 'GBC_113': 5, 'BAGC_19': 2, 'LR_64': 1, 'DTC_98': 1, 'ETC_209': 1, 'GBC_19': 4, 'GBC_91': 2, 'LR_36': 1}, 0.83807128738688508, 0.83311147994411805)\n",
      "Add model - GBC_79 - ensemble and score: ({'GBC_76': 2, 'GBC_74': 6, 'LR_64': 1, 'DTC_2': 1, 'GBC_34': 4, 'GBC_79': 7, 'KNN_50': 3, 'DTC_44': 1, 'DTC_42': 2, 'BAGC_15': 1, 'GBC_105': 2, 'GBC_107': 8, 'GBC_117': 4, 'GBC_114': 23, 'GBC_115': 11, 'GBC_113': 5, 'BAGC_19': 2, 'BAGC_4': 1, 'DTC_98': 1, 'ETC_209': 1, 'GBC_19': 4, 'GBC_91': 2, 'LR_36': 1}, 0.83807281353791896, 0.83319099488286141)\n",
      "Elminate models -- ensemble and score: ({'GBC_76': 2, 'GBC_74': 6, 'LR_64': 1, 'DTC_2': 1, 'GBC_34': 4, 'GBC_79': 7, 'KNN_50': 3, 'DTC_44': 1, 'DTC_42': 2, 'BAGC_15': 1, 'GBC_105': 2, 'GBC_107': 8, 'GBC_117': 4, 'GBC_114': 23, 'GBC_115': 11, 'GBC_113': 5, 'BAGC_19': 2, 'BAGC_4': 1, 'DTC_98': 1, 'ETC_209': 1, 'GBC_19': 4, 'GBC_91': 2, 'LR_36': 1}, 0.83807281353791896, 0.83319099488286141)\n",
      "Add model - GBC_119 - ensemble and score: ({'GBC_76': 2, 'GBC_74': 6, 'DTC_2': 1, 'GBC_34': 4, 'GBC_79': 7, 'KNN_50': 3, 'DTC_44': 1, 'BAGC_4': 1, 'DTC_42': 2, 'BAGC_15': 1, 'GBC_105': 2, 'GBC_107': 8, 'GBC_119': 1, 'GBC_117': 4, 'GBC_114': 23, 'GBC_115': 11, 'GBC_113': 5, 'BAGC_19': 2, 'LR_64': 1, 'DTC_98': 1, 'ETC_209': 1, 'GBC_19': 4, 'GBC_91': 2, 'LR_36': 1}, 0.8380820794549112, 0.83288073564403076)\n",
      "Elminate models -- ensemble and score: ({'GBC_76': 2, 'GBC_74': 6, 'DTC_2': 1, 'GBC_34': 4, 'GBC_79': 7, 'KNN_50': 3, 'DTC_44': 1, 'BAGC_4': 1, 'DTC_42': 2, 'BAGC_15': 1, 'GBC_105': 2, 'GBC_107': 8, 'GBC_119': 1, 'GBC_117': 4, 'GBC_114': 23, 'GBC_115': 11, 'GBC_113': 5, 'BAGC_19': 2, 'LR_64': 1, 'DTC_98': 1, 'ETC_209': 1, 'GBC_19': 4, 'GBC_91': 2, 'LR_36': 1}, 0.8380820794549112, 0.83288073564403076)\n",
      "Add model - GBC_1 - ensemble and score: ({'GBC_76': 2, 'GBC_74': 6, 'DTC_2': 1, 'GBC_34': 4, 'GBC_79': 7, 'GBC_1': 1, 'DTC_44': 1, 'BAGC_4': 1, 'DTC_42': 2, 'BAGC_15': 1, 'GBC_105': 2, 'GBC_107': 8, 'GBC_119': 1, 'GBC_117': 4, 'GBC_114': 23, 'GBC_115': 11, 'GBC_113': 5, 'BAGC_19': 2, 'LR_64': 1, 'KNN_50': 3, 'DTC_98': 1, 'ETC_209': 1, 'GBC_19': 4, 'GBC_91': 2, 'LR_36': 1}, 0.83809701393288694, 0.83290262741514043)\n",
      "Elminate models -- ensemble and score: ({'GBC_76': 2, 'GBC_74': 6, 'DTC_2': 1, 'GBC_34': 4, 'GBC_79': 7, 'GBC_1': 1, 'DTC_44': 1, 'BAGC_4': 1, 'DTC_42': 2, 'BAGC_15': 1, 'GBC_105': 2, 'GBC_107': 8, 'GBC_119': 1, 'GBC_117': 4, 'GBC_114': 23, 'GBC_115': 11, 'GBC_113': 5, 'BAGC_19': 2, 'LR_64': 1, 'KNN_50': 3, 'DTC_98': 1, 'ETC_209': 1, 'GBC_19': 4, 'GBC_91': 2, 'LR_36': 1}, 0.83809701393288694, 0.83290262741514043)\n",
      "Add model - GBC_34 - ensemble and score: ({'GBC_76': 2, 'GBC_74': 6, 'DTC_2': 1, 'GBC_34': 5, 'GBC_79': 7, 'GBC_1': 1, 'DTC_44': 1, 'BAGC_4': 1, 'DTC_42': 2, 'BAGC_15': 1, 'GBC_105': 2, 'GBC_107': 8, 'GBC_119': 1, 'GBC_117': 4, 'GBC_114': 23, 'GBC_115': 11, 'GBC_113': 5, 'BAGC_19': 2, 'LR_64': 1, 'KNN_50': 3, 'DTC_98': 1, 'ETC_209': 1, 'GBC_19': 4, 'GBC_91': 2, 'LR_36': 1}, 0.8381286815668425, 0.83287897423715984)\n",
      "Elminate models -- ensemble and score: ({'GBC_76': 2, 'GBC_74': 6, 'DTC_2': 1, 'GBC_34': 5, 'GBC_79': 7, 'GBC_1': 1, 'DTC_44': 1, 'BAGC_4': 1, 'DTC_42': 2, 'BAGC_15': 1, 'GBC_105': 2, 'GBC_107': 8, 'GBC_119': 1, 'GBC_117': 4, 'GBC_114': 23, 'GBC_115': 11, 'GBC_113': 5, 'BAGC_19': 2, 'LR_64': 1, 'KNN_50': 3, 'DTC_98': 1, 'ETC_209': 1, 'GBC_19': 4, 'GBC_91': 2, 'LR_36': 1}, 0.8381286815668425, 0.83287897423715984)\n",
      "Add model - GBC_19 - ensemble and score: ({'GBC_76': 2, 'GBC_74': 6, 'DTC_2': 1, 'GBC_34': 5, 'GBC_79': 7, 'GBC_1': 1, 'DTC_44': 1, 'BAGC_4': 1, 'DTC_42': 2, 'BAGC_15': 1, 'GBC_105': 2, 'GBC_107': 8, 'GBC_119': 1, 'GBC_117': 4, 'GBC_114': 23, 'GBC_115': 11, 'GBC_113': 5, 'BAGC_19': 2, 'LR_64': 1, 'KNN_50': 3, 'DTC_98': 1, 'ETC_209': 1, 'GBC_19': 5, 'GBC_91': 2, 'LR_36': 1}, 0.83813631232201258, 0.83289004593749116)\n",
      "Elminate models -- ensemble and score: ({'GBC_76': 2, 'GBC_74': 6, 'DTC_2': 1, 'GBC_34': 5, 'GBC_79': 7, 'GBC_1': 1, 'DTC_44': 1, 'BAGC_4': 1, 'DTC_42': 2, 'BAGC_15': 1, 'GBC_105': 2, 'GBC_107': 8, 'GBC_119': 1, 'GBC_117': 4, 'GBC_114': 23, 'GBC_115': 11, 'GBC_113': 5, 'BAGC_19': 2, 'LR_64': 1, 'KNN_50': 3, 'DTC_98': 1, 'ETC_209': 1, 'GBC_19': 5, 'GBC_91': 2, 'LR_36': 1}, 0.83813631232201258, 0.83289004593749116)\n",
      "Add model - KNN_6 - ensemble and score: ({'GBC_76': 2, 'GBC_74': 6, 'DTC_2': 1, 'GBC_34': 5, 'GBC_79': 7, 'GBC_1': 1, 'BAGC_19': 2, 'DTC_44': 1, 'BAGC_4': 1, 'DTC_42': 2, 'BAGC_15': 1, 'GBC_105': 2, 'GBC_107': 8, 'GBC_119': 1, 'GBC_117': 4, 'GBC_114': 23, 'GBC_115': 11, 'GBC_113': 5, 'KNN_6': 1, 'LR_64': 1, 'KNN_50': 3, 'DTC_98': 1, 'ETC_209': 1, 'GBC_19': 5, 'GBC_91': 2, 'LR_36': 1}, 0.83814040022656799, 0.83292577733401507)\n",
      "Elminate models -- ensemble and score: ({'GBC_76': 2, 'GBC_74': 6, 'DTC_2': 1, 'GBC_34': 5, 'GBC_79': 7, 'GBC_1': 1, 'BAGC_19': 2, 'DTC_44': 1, 'BAGC_4': 1, 'DTC_42': 2, 'BAGC_15': 1, 'GBC_105': 2, 'GBC_107': 8, 'GBC_119': 1, 'GBC_117': 4, 'GBC_114': 23, 'GBC_115': 11, 'GBC_113': 5, 'KNN_6': 1, 'LR_64': 1, 'KNN_50': 3, 'DTC_98': 1, 'ETC_209': 1, 'GBC_19': 5, 'GBC_91': 2, 'LR_36': 1}, 0.83814040022656799, 0.83292577733401507)\n",
      "Add model - BAGC_15 - ensemble and score: ({'GBC_76': 2, 'GBC_74': 6, 'DTC_2': 1, 'GBC_34': 5, 'GBC_79': 7, 'GBC_1': 1, 'BAGC_19': 2, 'DTC_44': 1, 'BAGC_4': 1, 'DTC_42': 2, 'BAGC_15': 2, 'GBC_105': 2, 'GBC_107': 8, 'GBC_119': 1, 'GBC_117': 4, 'GBC_114': 23, 'GBC_115': 11, 'GBC_113': 5, 'KNN_6': 1, 'LR_64': 1, 'KNN_50': 3, 'DTC_98': 1, 'ETC_209': 1, 'GBC_19': 5, 'GBC_91': 2, 'LR_36': 1}, 0.83815119229459423, 0.83298214235388379)\n",
      "Elminate models -- ensemble and score: ({'GBC_76': 2, 'GBC_74': 6, 'DTC_2': 1, 'GBC_34': 5, 'GBC_79': 7, 'GBC_1': 1, 'BAGC_19': 2, 'DTC_44': 1, 'BAGC_4': 1, 'DTC_42': 2, 'BAGC_15': 2, 'GBC_105': 2, 'GBC_107': 8, 'GBC_119': 1, 'GBC_117': 4, 'GBC_114': 23, 'GBC_115': 11, 'GBC_113': 5, 'KNN_6': 1, 'LR_64': 1, 'KNN_50': 3, 'DTC_98': 1, 'ETC_209': 1, 'GBC_19': 5, 'GBC_91': 2, 'LR_36': 1}, 0.83815119229459423, 0.83298214235388379)\n",
      "Add model - GBC_79 - ensemble and score: ({'GBC_76': 2, 'GBC_74': 6, 'DTC_2': 1, 'GBC_34': 5, 'GBC_79': 8, 'GBC_1': 1, 'BAGC_19': 2, 'DTC_44': 1, 'BAGC_4': 1, 'DTC_42': 2, 'BAGC_15': 2, 'GBC_105': 2, 'GBC_107': 8, 'GBC_119': 1, 'GBC_117': 4, 'GBC_114': 23, 'GBC_115': 11, 'GBC_113': 5, 'KNN_6': 1, 'LR_64': 1, 'KNN_50': 3, 'DTC_98': 1, 'ETC_209': 1, 'GBC_19': 5, 'GBC_91': 2, 'LR_36': 1}, 0.83815680635018364, 0.83299145264734409)\n",
      "Elminate models -- ensemble and score: ({'GBC_76': 2, 'GBC_74': 6, 'DTC_2': 1, 'GBC_34': 5, 'GBC_79': 8, 'GBC_1': 1, 'BAGC_19': 2, 'DTC_44': 1, 'BAGC_4': 1, 'DTC_42': 2, 'BAGC_15': 2, 'GBC_105': 2, 'GBC_107': 8, 'GBC_119': 1, 'GBC_117': 4, 'GBC_114': 23, 'GBC_115': 11, 'GBC_113': 5, 'KNN_6': 1, 'LR_64': 1, 'KNN_50': 3, 'DTC_98': 1, 'ETC_209': 1, 'GBC_19': 5, 'GBC_91': 2, 'LR_36': 1}, 0.83815680635018364, 0.83299145264734409)\n",
      "Add model - BAGC_15 - ensemble and score: ({'GBC_76': 2, 'GBC_74': 6, 'DTC_2': 1, 'GBC_34': 5, 'GBC_79': 8, 'GBC_1': 1, 'BAGC_19': 2, 'DTC_44': 1, 'BAGC_4': 1, 'DTC_42': 2, 'BAGC_15': 3, 'GBC_105': 2, 'GBC_107': 8, 'GBC_119': 1, 'GBC_117': 4, 'GBC_114': 23, 'GBC_115': 11, 'GBC_113': 5, 'KNN_6': 1, 'LR_64': 1, 'KNN_50': 3, 'DTC_98': 1, 'ETC_209': 1, 'GBC_19': 5, 'GBC_91': 2, 'LR_36': 1}, 0.8381648186431121, 0.8330140993071129)\n",
      "Elminate models -- ensemble and score: ({'GBC_76': 2, 'GBC_74': 6, 'DTC_2': 1, 'GBC_34': 5, 'GBC_79': 8, 'GBC_1': 1, 'BAGC_19': 2, 'DTC_44': 1, 'BAGC_4': 1, 'DTC_42': 2, 'BAGC_15': 3, 'GBC_105': 2, 'GBC_107': 8, 'GBC_119': 1, 'GBC_117': 4, 'GBC_114': 23, 'GBC_115': 11, 'GBC_113': 5, 'KNN_6': 1, 'LR_64': 1, 'KNN_50': 3, 'DTC_98': 1, 'ETC_209': 1, 'GBC_19': 5, 'GBC_91': 2, 'LR_36': 1}, 0.8381648186431121, 0.8330140993071129)\n",
      "Add model - RFC_76 - ensemble and score: ({'GBC_76': 2, 'GBC_74': 6, 'DTC_2': 1, 'GBC_34': 5, 'GBC_79': 8, 'GBC_1': 1, 'BAGC_19': 2, 'DTC_44': 1, 'BAGC_4': 1, 'DTC_42': 2, 'BAGC_15': 3, 'ETC_209': 1, 'GBC_105': 2, 'GBC_107': 8, 'GBC_119': 1, 'GBC_117': 4, 'GBC_114': 23, 'GBC_115': 11, 'GBC_113': 5, 'KNN_6': 1, 'LR_64': 1, 'KNN_50': 3, 'DTC_98': 1, 'RFC_76': 1, 'GBC_19': 5, 'GBC_91': 2, 'LR_36': 1}, 0.83822335743634535, 0.83282059618086735)\n",
      "Elminate models -- ensemble and score: ({'GBC_76': 2, 'GBC_74': 6, 'DTC_2': 1, 'GBC_34': 5, 'GBC_79': 8, 'GBC_1': 1, 'DTC_44': 1, 'BAGC_4': 1, 'DTC_42': 2, 'BAGC_15': 3, 'ETC_209': 1, 'GBC_105': 2, 'GBC_107': 8, 'GBC_119': 1, 'GBC_117': 4, 'GBC_114': 23, 'GBC_115': 11, 'GBC_113': 5, 'LR_64': 1, 'KNN_50': 3, 'DTC_98': 1, 'RFC_76': 1, 'GBC_19': 5, 'LR_36': 1}, 0.83827486503374316, 0.83263111912746945)\n",
      "Add model - GBC_1 - ensemble and score: ({'GBC_76': 2, 'GBC_74': 6, 'DTC_2': 1, 'GBC_34': 5, 'GBC_79': 8, 'GBC_1': 2, 'DTC_44': 1, 'BAGC_4': 1, 'DTC_42': 2, 'BAGC_15': 3, 'ETC_209': 1, 'GBC_105': 2, 'GBC_107': 8, 'GBC_119': 1, 'GBC_117': 4, 'GBC_114': 23, 'GBC_115': 11, 'GBC_113': 5, 'LR_64': 1, 'KNN_50': 3, 'DTC_98': 1, 'RFC_76': 1, 'GBC_19': 5, 'LR_36': 1}, 0.8382893634685662, 0.83267540592879485)\n",
      "Elminate models -- ensemble and score: ({'GBC_76': 2, 'GBC_74': 6, 'DTC_2': 1, 'GBC_34': 5, 'GBC_79': 8, 'GBC_1': 2, 'DTC_44': 1, 'BAGC_4': 1, 'DTC_42': 2, 'BAGC_15': 3, 'ETC_209': 1, 'GBC_105': 2, 'GBC_107': 8, 'GBC_119': 1, 'GBC_117': 4, 'GBC_114': 23, 'GBC_115': 11, 'GBC_113': 5, 'LR_64': 1, 'KNN_50': 3, 'DTC_98': 1, 'RFC_76': 1, 'GBC_19': 5, 'LR_36': 1}, 0.8382893634685662, 0.83267540592879485)\n",
      "Add model - RFC_76 - ensemble and score: ({'GBC_76': 2, 'GBC_74': 6, 'DTC_2': 1, 'GBC_34': 5, 'GBC_79': 8, 'GBC_1': 2, 'DTC_44': 1, 'BAGC_4': 1, 'DTC_42': 2, 'BAGC_15': 3, 'ETC_209': 1, 'GBC_105': 2, 'GBC_107': 8, 'GBC_119': 1, 'GBC_117': 4, 'GBC_114': 23, 'GBC_115': 11, 'GBC_113': 5, 'LR_64': 1, 'KNN_50': 3, 'DTC_98': 1, 'RFC_76': 2, 'GBC_19': 5, 'LR_36': 1}, 0.83829612213743121, 0.83224637754095521)\n",
      "Elminate models -- ensemble and score: ({'GBC_76': 2, 'GBC_74': 6, 'DTC_2': 1, 'GBC_34': 5, 'GBC_79': 8, 'GBC_1': 2, 'DTC_44': 1, 'BAGC_4': 1, 'DTC_42': 2, 'BAGC_15': 3, 'ETC_209': 1, 'GBC_105': 2, 'GBC_107': 8, 'GBC_119': 1, 'GBC_117': 4, 'GBC_114': 23, 'GBC_115': 11, 'GBC_113': 5, 'LR_64': 1, 'KNN_50': 3, 'DTC_98': 1, 'RFC_76': 2, 'GBC_19': 5, 'LR_36': 1}, 0.83829612213743121, 0.83224637754095521)\n",
      "Add model - GBC_115 - ensemble and score: ({'GBC_76': 2, 'GBC_74': 6, 'DTC_2': 1, 'GBC_34': 5, 'GBC_79': 8, 'GBC_1': 2, 'DTC_44': 1, 'BAGC_4': 1, 'DTC_42': 2, 'BAGC_15': 3, 'ETC_209': 1, 'GBC_105': 2, 'GBC_107': 8, 'GBC_119': 1, 'GBC_117': 4, 'GBC_114': 23, 'GBC_115': 12, 'GBC_113': 5, 'LR_64': 1, 'KNN_50': 3, 'DTC_98': 1, 'RFC_76': 2, 'GBC_19': 5, 'LR_36': 1}, 0.83829819334240596, 0.8323528168418679)\n",
      "Elminate models -- ensemble and score: ({'GBC_76': 2, 'GBC_74': 6, 'DTC_2': 1, 'GBC_34': 5, 'GBC_79': 8, 'GBC_1': 2, 'DTC_44': 1, 'BAGC_4': 1, 'DTC_42': 2, 'BAGC_15': 3, 'ETC_209': 1, 'GBC_105': 2, 'GBC_107': 8, 'GBC_119': 1, 'GBC_117': 4, 'GBC_114': 23, 'GBC_115': 12, 'GBC_113': 5, 'LR_64': 1, 'KNN_50': 3, 'DTC_98': 1, 'RFC_76': 2, 'GBC_19': 5, 'LR_36': 1}, 0.83829819334240596, 0.8323528168418679)\n",
      "Add model - DTC_49 - ensemble and score: ({'GBC_76': 2, 'GBC_74': 6, 'DTC_2': 1, 'GBC_34': 5, 'GBC_79': 8, 'GBC_1': 2, 'DTC_49': 1, 'DTC_44': 1, 'BAGC_4': 1, 'DTC_42': 2, 'BAGC_15': 3, 'ETC_209': 1, 'GBC_105': 2, 'GBC_107': 8, 'GBC_119': 1, 'GBC_117': 4, 'GBC_114': 23, 'GBC_115': 12, 'GBC_113': 5, 'LR_64': 1, 'KNN_50': 3, 'DTC_98': 1, 'RFC_76': 2, 'GBC_19': 5, 'LR_36': 1}, 0.83830053707435104, 0.83220737496024255)\n",
      "Elminate models -- ensemble and score: ({'GBC_76': 2, 'GBC_74': 6, 'DTC_2': 1, 'GBC_34': 5, 'GBC_79': 8, 'GBC_1': 2, 'DTC_49': 1, 'DTC_44': 1, 'BAGC_4': 1, 'DTC_42': 2, 'BAGC_15': 3, 'ETC_209': 1, 'GBC_105': 2, 'GBC_107': 8, 'GBC_119': 1, 'GBC_117': 4, 'GBC_114': 23, 'GBC_115': 12, 'GBC_113': 5, 'LR_64': 1, 'KNN_50': 3, 'DTC_98': 1, 'RFC_76': 2, 'GBC_19': 5, 'LR_36': 1}, 0.83830053707435104, 0.83220737496024255)\n",
      "Add model - BAGC_15 - ensemble and score: ({'GBC_76': 2, 'GBC_74': 6, 'DTC_2': 1, 'GBC_34': 5, 'GBC_79': 8, 'GBC_1': 2, 'DTC_49': 1, 'DTC_44': 1, 'BAGC_4': 1, 'DTC_42': 2, 'BAGC_15': 4, 'ETC_209': 1, 'GBC_105': 2, 'GBC_107': 8, 'GBC_119': 1, 'GBC_117': 4, 'GBC_114': 23, 'GBC_115': 12, 'GBC_113': 5, 'LR_64': 1, 'KNN_50': 3, 'DTC_98': 1, 'RFC_76': 2, 'GBC_19': 5, 'LR_36': 1}, 0.83830102762289782, 0.83225468131620373)\n",
      "Elminate models -- ensemble and score: ({'GBC_76': 2, 'GBC_74': 6, 'DTC_2': 1, 'GBC_34': 5, 'GBC_79': 8, 'GBC_1': 2, 'DTC_49': 1, 'DTC_44': 1, 'BAGC_4': 1, 'DTC_42': 2, 'BAGC_15': 4, 'ETC_209': 1, 'GBC_105': 2, 'GBC_107': 8, 'GBC_119': 1, 'GBC_117': 4, 'GBC_114': 23, 'GBC_115': 12, 'GBC_113': 5, 'LR_64': 1, 'KNN_50': 3, 'DTC_98': 1, 'RFC_76': 2, 'GBC_19': 5, 'LR_36': 1}, 0.83830102762289782, 0.83225468131620373)\n",
      "Add model - GBC_22 - ensemble and score: ({'GBC_76': 2, 'GBC_74': 6, 'GBC_22': 1, 'DTC_2': 1, 'GBC_34': 5, 'GBC_79': 8, 'GBC_1': 2, 'DTC_49': 1, 'DTC_44': 1, 'BAGC_4': 1, 'DTC_42': 2, 'BAGC_15': 4, 'ETC_209': 1, 'GBC_105': 2, 'GBC_107': 8, 'GBC_119': 1, 'GBC_117': 4, 'GBC_114': 23, 'GBC_115': 12, 'GBC_113': 5, 'LR_64': 1, 'KNN_50': 3, 'DTC_98': 1, 'RFC_76': 2, 'GBC_19': 5, 'LR_36': 1}, 0.83830364388181311, 0.83233696418002989)\n",
      "Elminate models -- ensemble and score: ({'GBC_76': 2, 'GBC_74': 6, 'GBC_22': 1, 'DTC_2': 1, 'GBC_34': 5, 'GBC_79': 8, 'GBC_1': 2, 'DTC_49': 1, 'DTC_44': 1, 'BAGC_4': 1, 'DTC_42': 2, 'BAGC_15': 4, 'ETC_209': 1, 'GBC_105': 2, 'GBC_107': 8, 'GBC_119': 1, 'GBC_117': 4, 'GBC_114': 23, 'GBC_115': 12, 'GBC_113': 5, 'LR_64': 1, 'KNN_50': 3, 'DTC_98': 1, 'RFC_76': 2, 'GBC_19': 5, 'LR_36': 1}, 0.83830364388181311, 0.83233696418002989)\n",
      "Add model - BAGC_15 - ensemble and score: ({'GBC_76': 2, 'GBC_74': 6, 'GBC_22': 1, 'DTC_2': 1, 'GBC_34': 5, 'GBC_79': 8, 'GBC_1': 2, 'DTC_49': 1, 'DTC_44': 1, 'BAGC_4': 1, 'DTC_42': 2, 'BAGC_15': 5, 'ETC_209': 1, 'GBC_105': 2, 'GBC_107': 8, 'GBC_119': 1, 'GBC_117': 4, 'GBC_114': 23, 'GBC_115': 12, 'GBC_113': 5, 'LR_64': 1, 'KNN_50': 3, 'DTC_98': 1, 'RFC_76': 2, 'GBC_19': 5, 'LR_36': 1}, 0.83830996650752543, 0.83236665646728203)\n",
      "Elminate models -- ensemble and score: ({'GBC_76': 2, 'GBC_74': 6, 'DTC_2': 1, 'GBC_34': 5, 'GBC_79': 8, 'KNN_50': 3, 'DTC_44': 1, 'BAGC_4': 1, 'DTC_42': 2, 'BAGC_15': 5, 'ETC_209': 1, 'GBC_105': 2, 'GBC_107': 8, 'GBC_119': 1, 'GBC_117': 4, 'GBC_114': 23, 'GBC_115': 12, 'GBC_113': 5, 'LR_64': 1, 'DTC_98': 1, 'RFC_76': 2, 'GBC_19': 5, 'LR_36': 1}, 0.83833569305352729, 0.8323613722466694)\n",
      "Add model - None - ensemble and score: ({'GBC_76': 2, 'GBC_74': 6, 'DTC_2': 1, 'GBC_34': 5, 'GBC_79': 8, 'KNN_50': 3, 'DTC_44': 1, 'BAGC_4': 1, 'DTC_42': 2, 'BAGC_15': 5, 'ETC_209': 1, 'GBC_105': 2, 'GBC_107': 8, 'GBC_119': 1, 'GBC_117': 4, 'GBC_114': 23, 'GBC_115': 12, 'GBC_113': 5, 'LR_64': 1, 'DTC_98': 1, 'RFC_76': 2, 'GBC_19': 5, 'LR_36': 1}, 0.83833569305352729, 0.8323613722466694)\n",
      "Stop no model can increase score --------------\n"
     ]
    }
   ],
   "source": [
    "#Y_holding_re=np.reshape(Y_holding,(Y_holding.shape[0],1))\n",
    "#Y_validation_re=np.reshape(Y_validation,(Y_validation.shape[0],1))\n",
    "myStep.run()"
   ]
  },
  {
   "cell_type": "code",
   "execution_count": 73,
   "metadata": {
    "collapsed": false
   },
   "outputs": [],
   "source": [
    "\n",
    "with open(\"resultStepwise.amh\",\"w\") as fo:\n",
    "    json.dump(obj=myStep.scores_ensemble,fp=fo,indent=5)\n",
    "    fo.flush()"
   ]
  },
  {
   "cell_type": "code",
   "execution_count": 80,
   "metadata": {
    "collapsed": false
   },
   "outputs": [],
   "source": [
    "myStep_rand=StepWiseAMH(k_best=7,max_models=200,epslon=0.00,random=True)"
   ]
  },
  {
   "cell_type": "code",
   "execution_count": 81,
   "metadata": {
    "collapsed": false,
    "scrolled": true
   },
   "outputs": [
    {
     "name": "stdout",
     "output_type": "stream",
     "text": [
      "Add model - GBC_40 - ensemble and score: ({'GBC_98': 1, 'RFC_212': 1, 'GBC_62': 1, 'BAGC_28': 1, 'GBC_40': 1, 'DTC_83': 1, 'BAGC_62': 1, 'RFC_12': 1}, 0.78562537963006962, 0.78872603983396472)\n",
      "Elminate models -- ensemble and score: ({'GBC_98': 1, 'GBC_40': 1}, 0.82726183213995597, 0.82757185533515054)\n",
      "Add model - GBC_43 - ensemble and score: ({'GBC_43': 1, 'GBC_98': 1, 'GBC_40': 1}, 0.82770081858381028, 0.82900664704627181)\n",
      "Elminate models -- ensemble and score: ({'GBC_43': 1, 'GBC_98': 1, 'GBC_40': 1}, 0.82770081858381028, 0.82900664704627181)\n",
      "Add model - GBC_111 - ensemble and score: ({'GBC_43': 1, 'GBC_111': 1, 'GBC_98': 1, 'GBC_40': 1}, 0.82842437769011379, 0.83017068535838079)\n",
      "Elminate models -- ensemble and score: ({'GBC_43': 1, 'GBC_98': 1, 'GBC_111': 1}, 0.82876601750015577, 0.83101867695194076)\n",
      "Add model - GBC_111 - ensemble and score: ({'GBC_43': 1, 'GBC_98': 1, 'GBC_111': 2}, 0.82907898747291631, 0.83095400815682352)\n",
      "Elminate models -- ensemble and score: ({'GBC_43': 1, 'GBC_98': 1, 'GBC_111': 2}, 0.82907898747291631, 0.83095400815682352)\n",
      "Add model - GBC_111 - ensemble and score: ({'GBC_43': 1, 'GBC_98': 1, 'GBC_111': 3}, 0.82916924840549922, 0.83090267572801457)\n",
      "Elminate models -- ensemble and score: ({'GBC_43': 1, 'GBC_98': 1, 'GBC_111': 3}, 0.82916924840549922, 0.83090267572801457)\n",
      "Add model - GBC_113 - ensemble and score: ({'GBC_43': 1, 'GBC_98': 1, 'GBC_113': 1, 'GBC_111': 3}, 0.82984369815174397, 0.83247938650701947)\n",
      "Elminate models -- ensemble and score: ({'GBC_43': 1, 'GBC_98': 1, 'GBC_113': 1, 'GBC_111': 3}, 0.82984369815174397, 0.83247938650701947)\n",
      "Add model - GBC_113 - ensemble and score: ({'GBC_43': 1, 'GBC_98': 1, 'GBC_113': 2, 'GBC_111': 3}, 0.83024562092762955, 0.83322924257491504)\n",
      "Elminate models -- ensemble and score: ({'GBC_43': 1, 'GBC_98': 1, 'GBC_113': 2, 'GBC_111': 3}, 0.83024562092762955, 0.83322924257491504)\n",
      "Add model - GBC_40 - ensemble and score: ({'GBC_43': 1, 'GBC_40': 1, 'GBC_98': 1, 'GBC_113': 2, 'GBC_111': 3}, 0.8303797587024403, 0.8325073173874008)\n",
      "Elminate models -- ensemble and score: ({'GBC_43': 1, 'GBC_40': 1, 'GBC_98': 1, 'GBC_113': 2, 'GBC_111': 3}, 0.8303797587024403, 0.8325073173874008)\n",
      "Add model - GBC_113 - ensemble and score: ({'GBC_43': 1, 'GBC_111': 3, 'GBC_98': 1, 'GBC_113': 3, 'GBC_40': 1}, 0.83047536116364218, 0.83289407201033905)\n",
      "Elminate models -- ensemble and score: ({'GBC_98': 1, 'GBC_113': 3, 'GBC_40': 1}, 0.83071769214568547, 0.83159163744408793)\n",
      "Add model - GBC_114 - ensemble and score: ({'GBC_114': 1, 'GBC_98': 1, 'GBC_113': 3, 'GBC_40': 1}, 0.83076522084931614, 0.83215528764277469)\n",
      "Elminate models -- ensemble and score: ({'GBC_114': 1, 'GBC_113': 3, 'GBC_40': 1}, 0.83077988280032145, 0.83274158450122993)\n",
      "Add model - GBC_43 - ensemble and score: ({'GBC_114': 1, 'GBC_43': 1, 'GBC_113': 3, 'GBC_40': 1}, 0.83078860366337293, 0.83330045373840989)\n",
      "Elminate models -- ensemble and score: ({'GBC_114': 1, 'GBC_43': 1, 'GBC_113': 3}, 0.83120377125001776, 0.83359209239031973)\n",
      "Add model - GBC_113 - ensemble and score: ({'GBC_114': 1, 'GBC_43': 1, 'GBC_113': 4}, 0.8312040437769882, 0.83378609877567111)\n",
      "Elminate models -- ensemble and score: ({'GBC_114': 1, 'GBC_43': 1, 'GBC_113': 4}, 0.8312040437769882, 0.83378609877567111)\n",
      "Add model - GBC_113 - ensemble and score: ({'GBC_114': 1, 'GBC_43': 1, 'GBC_113': 5}, 0.83121025739191257, 0.83382359157906594)\n",
      "Elminate models -- ensemble and score: ({'GBC_114': 1, 'GBC_43': 1, 'GBC_113': 5}, 0.83121025739191257, 0.83382359157906594)\n",
      "Add model - GBC_55 - ensemble and score: ({'GBC_114': 1, 'GBC_43': 1, 'GBC_55': 1, 'GBC_113': 5}, 0.83130765853111876, 0.83355812240066673)\n",
      "Elminate models -- ensemble and score: ({'GBC_114': 1, 'GBC_43': 1, 'GBC_55': 1, 'GBC_113': 5}, 0.83130765853111876, 0.83355812240066673)\n",
      "Add model - GBC_79 - ensemble and score: ({'GBC_114': 1, 'GBC_79': 1, 'GBC_43': 1, 'GBC_55': 1, 'GBC_113': 5}, 0.8314986999373406, 0.83414190296359225)\n",
      "Elminate models -- ensemble and score: ({'GBC_114': 1, 'GBC_55': 1, 'GBC_79': 1}, 0.83233274147742753, 0.83238754172017981)\n",
      "Add model - GBC_1 - ensemble and score: ({'GBC_114': 1, 'GBC_1': 1, 'GBC_55': 1, 'GBC_79': 1}, 0.83275025279601755, 0.83329315648137336)\n",
      "Elminate models -- ensemble and score: ({'GBC_114': 1, 'GBC_1': 1, 'GBC_55': 1, 'GBC_79': 1}, 0.83275025279601755, 0.83329315648137336)\n",
      "Add model - GBC_74 - ensemble and score: ({'GBC_1': 1, 'GBC_74': 1, 'GBC_79': 1, 'GBC_55': 1, 'GBC_114': 1}, 0.83294456452588372, 0.83402288218503007)\n",
      "Elminate models -- ensemble and score: ({'GBC_74': 1, 'GBC_1': 1, 'GBC_114': 1, 'GBC_79': 1}, 0.83306382232811294, 0.83442322480382958)\n",
      "Add model - GBC_115 - ensemble and score: ({'GBC_1': 1, 'GBC_74': 1, 'GBC_115': 1, 'GBC_114': 1, 'GBC_79': 1}, 0.83317174300837515, 0.83400250019123856)\n",
      "Elminate models -- ensemble and score: ({'GBC_1': 1, 'GBC_74': 1, 'GBC_115': 1, 'GBC_114': 1, 'GBC_79': 1}, 0.83317174300837515, 0.83400250019123856)\n",
      "Add model - GBC_107 - ensemble and score: ({'GBC_74': 1, 'GBC_1': 1, 'GBC_107': 1, 'GBC_114': 1, 'GBC_115': 1, 'GBC_79': 1}, 0.83324799605468147, 0.83405861358155398)\n",
      "Elminate models -- ensemble and score: ({'GBC_74': 1, 'GBC_1': 1, 'GBC_107': 1, 'GBC_114': 1, 'GBC_115': 1, 'GBC_79': 1}, 0.83324799605468147, 0.83405861358155398)\n",
      "Add model - GBC_93 - ensemble and score: ({'GBC_74': 1, 'GBC_1': 1, 'GBC_107': 1, 'GBC_114': 1, 'GBC_115': 1, 'GBC_93': 1, 'GBC_79': 1}, 0.833425138585415, 0.83362102978891295)\n",
      "Elminate models -- ensemble and score: ({'GBC_74': 1, 'GBC_107': 1, 'GBC_114': 1, 'GBC_115': 1, 'GBC_93': 1, 'GBC_79': 1}, 0.83347168619195233, 0.83344665050869426)\n",
      "Add model - GBC_109 - ensemble and score: ({'GBC_79': 1, 'GBC_74': 1, 'GBC_107': 1, 'GBC_109': 1, 'GBC_114': 1, 'GBC_115': 1, 'GBC_93': 1}, 0.83350629711718793, 0.83367236221772201)\n",
      "Elminate models -- ensemble and score: ({'GBC_79': 1, 'GBC_74': 1, 'GBC_107': 1, 'GBC_109': 1, 'GBC_114': 1, 'GBC_115': 1, 'GBC_93': 1}, 0.83350629711718793, 0.83367236221772201)\n",
      "Add model - GBC_109 - ensemble and score: ({'GBC_74': 1, 'GBC_107': 1, 'GBC_109': 2, 'GBC_114': 1, 'GBC_115': 1, 'GBC_93': 1, 'GBC_79': 1}, 0.83368300360476866, 0.83331655802980087)\n",
      "Elminate models -- ensemble and score: ({'GBC_74': 1, 'GBC_107': 1, 'GBC_109': 2, 'GBC_114': 1, 'GBC_115': 1, 'GBC_93': 1, 'GBC_79': 1}, 0.83368300360476866, 0.83331655802980087)\n",
      "Add model - GBC_26 - ensemble and score: ({'GBC_74': 1, 'GBC_107': 1, 'GBC_109': 2, 'GBC_114': 1, 'GBC_115': 1, 'GBC_93': 1, 'GBC_79': 1, 'GBC_26': 1}, 0.83369079787612088, 0.83288627149419625)\n",
      "Elminate models -- ensemble and score: ({'GBC_74': 1, 'GBC_115': 1, 'GBC_107': 1, 'GBC_114': 1, 'GBC_26': 1, 'GBC_93': 1, 'GBC_79': 1}, 0.83369668445868073, 0.83244063555585945)\n",
      "Add model - GBC_109 - ensemble and score: ({'GBC_74': 1, 'GBC_107': 1, 'GBC_109': 1, 'GBC_114': 1, 'GBC_115': 1, 'GBC_93': 1, 'GBC_79': 1, 'GBC_26': 1}, 0.83379381307091671, 0.83253298360180528)\n",
      "Elminate models -- ensemble and score: ({'GBC_74': 1, 'GBC_107': 1, 'GBC_109': 1, 'GBC_114': 1, 'GBC_115': 1, 'GBC_93': 1, 'GBC_79': 1, 'GBC_26': 1}, 0.83379381307091671, 0.83253298360180528)\n",
      "Add model - GBC_93 - ensemble and score: ({'GBC_74': 1, 'GBC_107': 1, 'GBC_109': 1, 'GBC_114': 1, 'GBC_115': 1, 'GBC_93': 2, 'GBC_79': 1, 'GBC_26': 1}, 0.83380138932069281, 0.8326034398766412)\n",
      "Elminate models -- ensemble and score: ({'GBC_74': 1, 'GBC_107': 1, 'GBC_109': 1, 'GBC_114': 1, 'GBC_115': 1, 'GBC_93': 2, 'GBC_79': 1, 'GBC_26': 1}, 0.83380138932069281, 0.8326034398766412)\n",
      "Add model - GBC_19 - ensemble and score: ({'GBC_74': 1, 'GBC_107': 1, 'GBC_109': 1, 'GBC_114': 1, 'GBC_115': 1, 'GBC_93': 2, 'GBC_79': 1, 'GBC_26': 1, 'GBC_19': 1}, 0.83382455411317313, 0.83278637456166138)\n",
      "Elminate models -- ensemble and score: ({'GBC_74': 1, 'GBC_107': 1, 'GBC_109': 1, 'GBC_114': 1, 'GBC_115': 1, 'GBC_93': 2, 'GBC_79': 1, 'GBC_26': 1, 'GBC_19': 1}, 0.83382455411317313, 0.83278637456166138)\n",
      "Add model - GBC_115 - ensemble and score: ({'GBC_74': 1, 'GBC_107': 1, 'GBC_109': 1, 'GBC_114': 1, 'GBC_115': 2, 'GBC_93': 2, 'GBC_79': 1, 'GBC_26': 1, 'GBC_19': 1}, 0.83383223937373752, 0.8325996654333464)\n",
      "Elminate models -- ensemble and score: ({'GBC_74': 1, 'GBC_107': 1, 'GBC_109': 1, 'GBC_114': 1, 'GBC_115': 2, 'GBC_93': 2, 'GBC_79': 1, 'GBC_26': 1, 'GBC_19': 1}, 0.83383223937373752, 0.8325996654333464)\n",
      "Add model - LR_36 - ensemble and score: ({'GBC_74': 1, 'GBC_107': 1, 'GBC_109': 1, 'GBC_114': 1, 'GBC_115': 2, 'GBC_93': 2, 'GBC_79': 1, 'GBC_26': 1, 'GBC_19': 1, 'LR_36': 1}, 0.83453437786017037, 0.83445870457080051)\n",
      "Elminate models -- ensemble and score: ({'GBC_74': 1, 'GBC_109': 1, 'GBC_114': 1, 'GBC_115': 2, 'GBC_93': 2, 'GBC_79': 1, 'GBC_26': 1, 'LR_36': 1}, 0.83466998728062125, 0.83379540906913174)\n",
      "Add model - BAGC_15 - ensemble and score: ({'BAGC_15': 1, 'GBC_74': 1, 'GBC_109': 1, 'GBC_114': 1, 'GBC_115': 2, 'GBC_93': 2, 'GBC_79': 1, 'GBC_26': 1, 'LR_36': 1}, 0.83475490668458496, 0.83433112838743706)\n",
      "Elminate models -- ensemble and score: ({'BAGC_15': 1, 'GBC_74': 1, 'GBC_114': 1, 'GBC_115': 2, 'GBC_93': 2, 'GBC_79': 1, 'GBC_26': 1, 'LR_36': 1}, 0.83476210139660267, 0.83398765404761244)\n",
      "Add model - GBC_26 - ensemble and score: ({'BAGC_15': 1, 'GBC_74': 1, 'GBC_114': 1, 'GBC_115': 2, 'GBC_93': 2, 'GBC_79': 1, 'GBC_26': 2, 'LR_36': 1}, 0.834968894861711, 0.83347885909147656)\n",
      "Elminate models -- ensemble and score: ({'BAGC_15': 1, 'GBC_74': 1, 'GBC_114': 1, 'GBC_115': 2, 'GBC_93': 2, 'GBC_79': 1, 'GBC_26': 2, 'LR_36': 1}, 0.834968894861711, 0.83347885909147656)\n",
      "Add model - None - ensemble and score: ({'BAGC_15': 1, 'GBC_74': 1, 'GBC_114': 1, 'GBC_115': 2, 'GBC_93': 2, 'GBC_79': 1, 'GBC_26': 2, 'LR_36': 1}, 0.834968894861711, 0.83347885909147656)\n",
      "Stop no model can increase score --------------\n"
     ]
    }
   ],
   "source": [
    "myStep_rand.run()"
   ]
  },
  {
   "cell_type": "code",
   "execution_count": 82,
   "metadata": {
    "collapsed": true
   },
   "outputs": [],
   "source": [
    "with open(\"resultStepwiseRandom.amh\",\"w\") as fo:\n",
    "    json.dump(obj=myStep.scores_ensemble,fp=fo,indent=5)\n",
    "    fo.flush()"
   ]
  },
  {
   "cell_type": "code",
   "execution_count": 83,
   "metadata": {
    "collapsed": false
   },
   "outputs": [
    {
     "name": "stdout",
     "output_type": "stream",
     "text": [
      "Add model - GBC_40 - ensemble and score: ({'BAGC_22': 1, 'BAGC_34': 1, 'KNN_5': 1, 'RFC_128': 1, 'GBC_40': 1, 'DTC_80': 1, 'ETC_154': 1, 'LR_65': 1, 'DTC_75': 1, 'RFC_116': 1, 'ETC_295': 1, 'ETC_55': 1, 'ETC_53': 1}, 0.79394791726168379, 0.80624851538563735)\n",
      "Elminate models -- ensemble and score: ({'KNN_5': 1, 'BAGC_22': 1, 'ETC_295': 1, 'BAGC_34': 1, 'RFC_128': 1, 'GBC_40': 1}, 0.81367941496962304, 0.81996912002125766)\n",
      "Add model - GBC_40 - ensemble and score: ({'KNN_5': 1, 'BAGC_22': 1, 'ETC_295': 1, 'BAGC_34': 1, 'RFC_128': 1, 'GBC_40': 2}, 0.81543977568196058, 0.82122777104528921)\n",
      "Elminate models -- ensemble and score: ({'BAGC_34': 1, 'BAGC_22': 1, 'ETC_295': 1, 'RFC_128': 1, 'GBC_40': 2}, 0.81558459651400927, 0.82032416932051977)\n",
      "Add model - GBC_40 - ensemble and score: ({'BAGC_34': 1, 'BAGC_22': 1, 'ETC_295': 1, 'RFC_128': 1, 'GBC_40': 3}, 0.81699078117566837, 0.82124135904115048)\n",
      "Elminate models -- ensemble and score: ({'BAGC_34': 1, 'BAGC_22': 1, 'ETC_295': 1, 'RFC_128': 1, 'GBC_40': 3}, 0.81699078117566837, 0.82124135904115048)\n",
      "Add model - GBC_40 - ensemble and score: ({'BAGC_34': 1, 'BAGC_22': 1, 'ETC_295': 1, 'RFC_128': 1, 'GBC_40': 4}, 0.81795481808061643, 0.82209966744638263)\n",
      "Elminate models -- ensemble and score: ({'BAGC_22': 1, 'GBC_40': 4}, 0.82206566940690728, 0.82234274159456655)\n",
      "Add model - GBC_43 - ensemble and score: ({'BAGC_22': 1, 'GBC_43': 1, 'GBC_40': 4}, 0.82301847820067664, 0.82527573566416101)\n",
      "Elminate models -- ensemble and score: ({'BAGC_22': 1, 'GBC_43': 1, 'GBC_40': 4}, 0.82301847820067664, 0.82527573566416101)\n",
      "Add model - GBC_43 - ensemble and score: ({'BAGC_22': 1, 'GBC_43': 2, 'GBC_40': 4}, 0.8233741804023893, 0.82598382122626135)\n",
      "Elminate models -- ensemble and score: ({'BAGC_22': 1, 'GBC_43': 2, 'GBC_40': 4}, 0.8233741804023893, 0.82598382122626135)\n",
      "Add model - GBC_43 - ensemble and score: ({'BAGC_22': 1, 'GBC_43': 3, 'GBC_40': 4}, 0.8235344807663546, 0.82653614809506359)\n",
      "Elminate models -- ensemble and score: ({'BAGC_22': 1, 'GBC_43': 3, 'GBC_40': 4}, 0.8235344807663546, 0.82653614809506359)\n",
      "Add model - GBC_43 - ensemble and score: ({'BAGC_22': 1, 'GBC_43': 4, 'GBC_40': 4}, 0.82365395659015994, 0.82690126257644514)\n",
      "Elminate models -- ensemble and score: ({'BAGC_22': 1, 'GBC_43': 4, 'GBC_40': 4}, 0.82365395659015994, 0.82690126257644514)\n",
      "Add model - GBC_43 - ensemble and score: ({'BAGC_22': 1, 'GBC_43': 5, 'GBC_40': 4}, 0.82367303347808518, 0.82679079720268456)\n",
      "Elminate models -- ensemble and score: ({'BAGC_22': 1, 'GBC_43': 5, 'GBC_40': 4}, 0.82367303347808518, 0.82679079720268456)\n",
      "Add model - GBC_111 - ensemble and score: ({'BAGC_22': 1, 'GBC_43': 5, 'GBC_111': 1, 'GBC_40': 4}, 0.82446287114357997, 0.82763602087116173)\n",
      "Elminate models -- ensemble and score: ({'BAGC_22': 1, 'GBC_43': 5, 'GBC_111': 1}, 0.82456877512426152, 0.82750240557852661)\n",
      "Add model - GBC_40 - ensemble and score: ({'BAGC_22': 1, 'GBC_43': 5, 'GBC_40': 1, 'GBC_111': 1}, 0.82496671900637963, 0.8271511307225593)\n",
      "Elminate models -- ensemble and score: ({'BAGC_22': 1, 'GBC_43': 5, 'GBC_40': 1, 'GBC_111': 1}, 0.82496671900637963, 0.8271511307225593)\n",
      "Add model - GBC_111 - ensemble and score: ({'BAGC_22': 1, 'GBC_43': 5, 'GBC_111': 2, 'GBC_40': 1}, 0.82551640590559394, 0.82763778227803253)\n",
      "Elminate models -- ensemble and score: ({'BAGC_22': 1, 'GBC_111': 2, 'GBC_40': 1}, 0.8255802317220523, 0.82480468514097283)\n",
      "Add model - GBC_40 - ensemble and score: ({'BAGC_22': 1, 'GBC_111': 2, 'GBC_40': 2}, 0.82561042771036786, 0.82610686807767097)\n",
      "Elminate models -- ensemble and score: ({'BAGC_22': 1, 'GBC_111': 2, 'GBC_40': 2}, 0.82561042771036786, 0.82610686807767097)\n",
      "Add model - GBC_43 - ensemble and score: ({'BAGC_22': 1, 'GBC_43': 1, 'GBC_111': 2, 'GBC_40': 2}, 0.8258157495298365, 0.82769842500030177)\n",
      "Elminate models -- ensemble and score: ({'GBC_43': 1, 'GBC_111': 2}, 0.82621854439202735, 0.82886447634883509)\n",
      "Add model - GBC_40 - ensemble and score: ({'GBC_111': 2, 'GBC_43': 1, 'GBC_40': 1}, 0.82662368298616318, 0.82838537367995124)\n",
      "Elminate models -- ensemble and score: ({'GBC_111': 2, 'GBC_43': 1, 'GBC_40': 1}, 0.82662368298616318, 0.82838537367995124)\n",
      "Add model - GBC_111 - ensemble and score: ({'GBC_40': 1, 'GBC_43': 1, 'GBC_111': 3}, 0.82679384882645524, 0.82859674250445892)\n",
      "Elminate models -- ensemble and score: ({'GBC_40': 1, 'GBC_43': 1, 'GBC_111': 3}, 0.82679384882645524, 0.82859674250445892)\n",
      "Add model - GBC_113 - ensemble and score: ({'GBC_111': 3, 'GBC_43': 1, 'GBC_113': 1, 'GBC_40': 1}, 0.82913790780390784, 0.83169983815187154)\n",
      "Elminate models -- ensemble and score: ({'GBC_43': 1, 'GBC_113': 1, 'GBC_111': 3}, 0.82944439163477368, 0.83224562265229607)\n",
      "Add model - GBC_113 - ensemble and score: ({'GBC_43': 1, 'GBC_113': 2, 'GBC_111': 3}, 0.8299951686418694, 0.83329114344494948)\n",
      "Elminate models -- ensemble and score: ({'GBC_43': 1, 'GBC_113': 2, 'GBC_111': 3}, 0.8299951686418694, 0.83329114344494948)\n",
      "Add model - GBC_113 - ensemble and score: ({'GBC_43': 1, 'GBC_113': 3, 'GBC_111': 3}, 0.83000612422607789, 0.8335961184631675)\n",
      "Elminate models -- ensemble and score: ({'GBC_43': 1, 'GBC_113': 3, 'GBC_111': 3}, 0.83000612422607789, 0.8335961184631675)\n",
      "Add model - GBC_40 - ensemble and score: ({'GBC_40': 1, 'GBC_43': 1, 'GBC_113': 3, 'GBC_111': 3}, 0.83018969839331158, 0.83299044612913231)\n",
      "Elminate models -- ensemble and score: ({'GBC_40': 1, 'GBC_113': 3, 'GBC_111': 3}, 0.8302668780313176, 0.83291244096770678)\n",
      "Add model - GBC_111 - ensemble and score: ({'GBC_40': 1, 'GBC_113': 3, 'GBC_111': 4}, 0.83028012284207697, 0.83264118430958889)\n",
      "Elminate models -- ensemble and score: ({'GBC_40': 1, 'GBC_113': 3, 'GBC_111': 4}, 0.83028012284207697, 0.83264118430958889)\n",
      "Add model - GBC_113 - ensemble and score: ({'GBC_40': 1, 'GBC_113': 4, 'GBC_111': 4}, 0.83036618685931629, 0.83287519979386515)\n",
      "Elminate models -- ensemble and score: ({'GBC_40': 1, 'GBC_113': 4, 'GBC_111': 4}, 0.83036618685931629, 0.83287519979386515)\n",
      "Add model - GBC_113 - ensemble and score: ({'GBC_40': 1, 'GBC_113': 5, 'GBC_111': 4}, 0.83050272287146631, 0.83362606237997283)\n",
      "Elminate models -- ensemble and score: ({'GBC_40': 1, 'GBC_113': 5, 'GBC_111': 4}, 0.83050272287146631, 0.83362606237997283)\n",
      "Add model - GBC_113 - ensemble and score: ({'GBC_40': 1, 'GBC_113': 6, 'GBC_111': 4}, 0.83066073400888041, 0.83369853169123231)\n",
      "Elminate models -- ensemble and score: ({'GBC_40': 1, 'GBC_113': 6, 'GBC_111': 4}, 0.83066073400888041, 0.83369853169123231)\n",
      "Add model - GBC_113 - ensemble and score: ({'GBC_40': 1, 'GBC_113': 7, 'GBC_111': 4}, 0.83076854567835445, 0.83378987321896592)\n",
      "Elminate models -- ensemble and score: ({'GBC_40': 1, 'GBC_113': 7, 'GBC_111': 4}, 0.83076854567835445, 0.83378987321896592)\n",
      "Add model - GBC_113 - ensemble and score: ({'GBC_40': 1, 'GBC_113': 8, 'GBC_111': 4}, 0.83077786610074078, 0.83373099190356748)\n",
      "Elminate models -- ensemble and score: ({'GBC_40': 1, 'GBC_113': 8, 'GBC_111': 4}, 0.83077786610074078, 0.83373099190356748)\n",
      "Add model - GBC_110 - ensemble and score: ({'GBC_40': 1, 'GBC_113': 8, 'GBC_110': 1, 'GBC_111': 4}, 0.83100853292845267, 0.83251713093996726)\n",
      "Elminate models -- ensemble and score: ({'GBC_40': 1, 'GBC_113': 8, 'GBC_110': 1, 'GBC_111': 4}, 0.83100853292845267, 0.83251713093996726)\n",
      "Add model - GBC_113 - ensemble and score: ({'GBC_111': 4, 'GBC_113': 9, 'GBC_110': 1, 'GBC_40': 1}, 0.83105458998644344, 0.83261929253847933)\n",
      "Elminate models -- ensemble and score: ({'GBC_111': 4, 'GBC_113': 9, 'GBC_110': 1, 'GBC_40': 1}, 0.83105458998644344, 0.83261929253847933)\n",
      "Add model - GBC_41 - ensemble and score: ({'GBC_41': 1, 'GBC_40': 1, 'GBC_113': 9, 'GBC_110': 1, 'GBC_111': 4}, 0.83109754023697202, 0.83271516339816665)\n",
      "Elminate models -- ensemble and score: ({'GBC_41': 1, 'GBC_40': 1, 'GBC_113': 9, 'GBC_110': 1, 'GBC_111': 4}, 0.83109754023697202, 0.83271516339816665)\n",
      "Add model - GBC_112 - ensemble and score: ({'GBC_41': 1, 'GBC_111': 4, 'GBC_112': 1, 'GBC_113': 9, 'GBC_110': 1, 'GBC_40': 1}, 0.8311517731040734, 0.8332164094677128)\n",
      "Elminate models -- ensemble and score: ({'GBC_111': 4, 'GBC_112': 1, 'GBC_113': 9, 'GBC_110': 1, 'GBC_40': 1}, 0.83125266258850028, 0.83322748116804435)\n",
      "Add model - GBC_111 - ensemble and score: ({'GBC_111': 5, 'GBC_112': 1, 'GBC_113': 9, 'GBC_110': 1, 'GBC_40': 1}, 0.83130449721826238, 0.83341595170323013)\n",
      "Elminate models -- ensemble and score: ({'GBC_111': 5, 'GBC_112': 1, 'GBC_113': 9, 'GBC_110': 1, 'GBC_40': 1}, 0.83130449721826238, 0.83341595170323013)\n",
      "Add model - GBC_111 - ensemble and score: ({'GBC_111': 6, 'GBC_112': 1, 'GBC_113': 9, 'GBC_110': 1, 'GBC_40': 1}, 0.83141983063211855, 0.83359586683361464)\n",
      "Elminate models -- ensemble and score: ({'GBC_111': 6, 'GBC_112': 1, 'GBC_113': 9, 'GBC_110': 1, 'GBC_40': 1}, 0.83141983063211855, 0.83359586683361464)\n",
      "Add model - GBC_111 - ensemble and score: ({'GBC_111': 7, 'GBC_112': 1, 'GBC_113': 9, 'GBC_110': 1, 'GBC_40': 1}, 0.83149330390332743, 0.83361675208651242)\n",
      "Elminate models -- ensemble and score: ({'GBC_111': 7, 'GBC_112': 1, 'GBC_113': 9, 'GBC_110': 1, 'GBC_40': 1}, 0.83149330390332743, 0.83361675208651242)\n",
      "Add model - GBC_111 - ensemble and score: ({'GBC_111': 8, 'GBC_112': 1, 'GBC_113': 9, 'GBC_110': 1, 'GBC_40': 1}, 0.83156721321768867, 0.83337946541804719)\n",
      "Elminate models -- ensemble and score: ({'GBC_111': 8, 'GBC_112': 1, 'GBC_113': 9, 'GBC_110': 1, 'GBC_40': 1}, 0.83156721321768867, 0.83337946541804719)\n",
      "Add model - GBC_113 - ensemble and score: ({'GBC_111': 8, 'GBC_112': 1, 'GBC_113': 10, 'GBC_110': 1, 'GBC_40': 1}, 0.83160542149893324, 0.83366657473800332)\n",
      "Elminate models -- ensemble and score: ({'GBC_111': 8, 'GBC_112': 1, 'GBC_113': 10, 'GBC_110': 1, 'GBC_40': 1}, 0.83160542149893324, 0.83366657473800332)\n",
      "Add model - GBC_111 - ensemble and score: ({'GBC_111': 9, 'GBC_112': 1, 'GBC_113': 10, 'GBC_110': 1, 'GBC_40': 1}, 0.83167300818758239, 0.83347307161175777)\n",
      "Elminate models -- ensemble and score: ({'GBC_111': 9, 'GBC_112': 1, 'GBC_113': 10, 'GBC_110': 1, 'GBC_40': 1}, 0.83167300818758239, 0.83347307161175777)\n",
      "Add model - GBC_111 - ensemble and score: ({'GBC_111': 10, 'GBC_112': 1, 'GBC_113': 10, 'GBC_110': 1, 'GBC_40': 1}, 0.83168281915851516, 0.83332939113700322)\n",
      "Elminate models -- ensemble and score: ({'GBC_111': 10, 'GBC_112': 1, 'GBC_113': 10, 'GBC_110': 1, 'GBC_40': 1}, 0.83168281915851516, 0.83332939113700322)\n",
      "Add model - GBC_114 - ensemble and score: ({'GBC_114': 1, 'GBC_111': 10, 'GBC_112': 1, 'GBC_113': 10, 'GBC_110': 1, 'GBC_40': 1}, 0.83177084536994117, 0.83348187864611223)\n",
      "Elminate models -- ensemble and score: ({'GBC_114': 1, 'GBC_111': 10, 'GBC_112': 1, 'GBC_113': 10, 'GBC_110': 1, 'GBC_40': 1}, 0.83177084536994117, 0.83348187864611223)\n",
      "Add model - GBC_113 - ensemble and score: ({'GBC_114': 1, 'GBC_40': 1, 'GBC_112': 1, 'GBC_113': 11, 'GBC_110': 1, 'GBC_111': 10}, 0.83179324708690483, 0.83371237131664666)\n",
      "Elminate models -- ensemble and score: ({'GBC_114': 1, 'GBC_40': 1, 'GBC_112': 1, 'GBC_113': 11, 'GBC_110': 1, 'GBC_111': 10}, 0.83179324708690483, 0.83371237131664666)\n",
      "Add model - GBC_111 - ensemble and score: ({'GBC_114': 1, 'GBC_111': 11, 'GBC_112': 1, 'GBC_113': 11, 'GBC_110': 1, 'GBC_40': 1}, 0.83186012520543084, 0.83357523321026961)\n",
      "Elminate models -- ensemble and score: ({'GBC_114': 1, 'GBC_111': 11, 'GBC_112': 1, 'GBC_113': 11, 'GBC_110': 1, 'GBC_40': 1}, 0.83186012520543084, 0.83357523321026961)\n",
      "Add model - GBC_113 - ensemble and score: ({'GBC_114': 1, 'GBC_40': 1, 'GBC_112': 1, 'GBC_113': 12, 'GBC_110': 1, 'GBC_111': 11}, 0.83197851092135477, 0.83399998389570873)\n",
      "Elminate models -- ensemble and score: ({'GBC_114': 1, 'GBC_40': 1, 'GBC_112': 1, 'GBC_113': 12, 'GBC_110': 1, 'GBC_111': 11}, 0.83197851092135477, 0.83399998389570873)\n",
      "Add model - GBC_111 - ensemble and score: ({'GBC_114': 1, 'GBC_111': 12, 'GBC_112': 1, 'GBC_113': 12, 'GBC_110': 1, 'GBC_40': 1}, 0.83205607209711896, 0.8338636006779907)\n",
      "Elminate models -- ensemble and score: ({'GBC_114': 1, 'GBC_111': 12, 'GBC_112': 1, 'GBC_113': 12, 'GBC_110': 1, 'GBC_40': 1}, 0.83205607209711896, 0.8338636006779907)\n",
      "Add model - GBC_105 - ensemble and score: ({'GBC_105': 1, 'GBC_114': 1, 'GBC_40': 1, 'GBC_112': 1, 'GBC_113': 12, 'GBC_110': 1, 'GBC_111': 12}, 0.83208855731198572, 0.83229670345155227)\n",
      "Elminate models -- ensemble and score: ({'GBC_105': 1, 'GBC_114': 1, 'GBC_40': 1, 'GBC_112': 1, 'GBC_113': 12, 'GBC_110': 1, 'GBC_111': 12}, 0.83208855731198572, 0.83229670345155227)\n",
      "Add model - GBC_112 - ensemble and score: ({'GBC_105': 1, 'GBC_114': 1, 'GBC_111': 12, 'GBC_112': 2, 'GBC_113': 12, 'GBC_110': 1, 'GBC_40': 1}, 0.83214197259817613, 0.83249700057572851)\n",
      "Elminate models -- ensemble and score: ({'GBC_105': 1, 'GBC_111': 12, 'GBC_112': 2, 'GBC_113': 12, 'GBC_110': 1, 'GBC_40': 1}, 0.83217489385619581, 0.8323095365587545)\n",
      "Add model - GBC_111 - ensemble and score: ({'GBC_105': 1, 'GBC_111': 13, 'GBC_112': 2, 'GBC_113': 12, 'GBC_110': 1, 'GBC_40': 1}, 0.83224024582368772, 0.83235432661918585)\n",
      "Elminate models -- ensemble and score: ({'GBC_105': 1, 'GBC_111': 13, 'GBC_112': 2, 'GBC_113': 12, 'GBC_110': 1, 'GBC_40': 1}, 0.83224024582368772, 0.83235432661918585)\n",
      "Add model - GBC_1 - ensemble and score: ({'GBC_1': 1, 'GBC_105': 1, 'GBC_40': 1, 'GBC_112': 2, 'GBC_113': 12, 'GBC_110': 1, 'GBC_111': 13}, 0.83231688040775265, 0.83257651551447176)\n",
      "Elminate models -- ensemble and score: ({'GBC_1': 1, 'GBC_105': 1, 'GBC_40': 1, 'GBC_112': 2, 'GBC_113': 12, 'GBC_110': 1, 'GBC_111': 13}, 0.83231688040775265, 0.83257651551447176)\n",
      "Add model - GBC_113 - ensemble and score: ({'GBC_1': 1, 'GBC_105': 1, 'GBC_111': 13, 'GBC_112': 2, 'GBC_113': 13, 'GBC_110': 1, 'GBC_40': 1}, 0.83232140435546065, 0.83263539682987031)\n",
      "Elminate models -- ensemble and score: ({'GBC_1': 1, 'GBC_105': 1, 'GBC_111': 13, 'GBC_112': 2, 'GBC_113': 13, 'GBC_110': 1, 'GBC_40': 1}, 0.83232140435546065, 0.83263539682987031)\n",
      "Add model - GBC_111 - ensemble and score: ({'GBC_1': 1, 'GBC_105': 1, 'GBC_111': 14, 'GBC_112': 2, 'GBC_113': 13, 'GBC_110': 1, 'GBC_40': 1}, 0.83234642233133971, 0.8326306158683634)\n",
      "Elminate models -- ensemble and score: ({'GBC_1': 1, 'GBC_105': 1, 'GBC_111': 14, 'GBC_112': 2, 'GBC_113': 13, 'GBC_110': 1, 'GBC_40': 1}, 0.83234642233133971, 0.8326306158683634)\n",
      "Add model - GBC_113 - ensemble and score: ({'GBC_1': 1, 'GBC_105': 1, 'GBC_111': 14, 'GBC_112': 2, 'GBC_113': 14, 'GBC_110': 1, 'GBC_40': 1}, 0.83236767943502765, 0.83278134197060172)\n",
      "Elminate models -- ensemble and score: ({'GBC_1': 1, 'GBC_105': 1, 'GBC_111': 14, 'GBC_112': 2, 'GBC_113': 14, 'GBC_110': 1, 'GBC_40': 1}, 0.83236767943502765, 0.83278134197060172)\n",
      "Add model - GBC_111 - ensemble and score: ({'GBC_1': 1, 'GBC_105': 1, 'GBC_111': 15, 'GBC_112': 2, 'GBC_113': 14, 'GBC_110': 1, 'GBC_40': 1}, 0.83237950710554132, 0.83274535894452473)\n",
      "Elminate models -- ensemble and score: ({'GBC_1': 1, 'GBC_105': 1, 'GBC_111': 15, 'GBC_112': 2, 'GBC_113': 14, 'GBC_110': 1, 'GBC_40': 1}, 0.83237950710554132, 0.83274535894452473)\n",
      "Add model - GBC_1 - ensemble and score: ({'GBC_1': 2, 'GBC_105': 1, 'GBC_111': 15, 'GBC_112': 2, 'GBC_113': 14, 'GBC_110': 1, 'GBC_40': 1}, 0.83241924153781965, 0.83285708246605006)\n",
      "Elminate models -- ensemble and score: ({'GBC_1': 2, 'GBC_105': 1, 'GBC_111': 15, 'GBC_112': 2, 'GBC_113': 14, 'GBC_110': 1, 'GBC_40': 1}, 0.83241924153781965, 0.83285708246605006)\n",
      "Add model - GBC_113 - ensemble and score: ({'GBC_1': 2, 'GBC_105': 1, 'GBC_111': 15, 'GBC_112': 2, 'GBC_113': 15, 'GBC_110': 1, 'GBC_40': 1}, 0.83243384898343087, 0.83300906671605324)\n",
      "Elminate models -- ensemble and score: ({'GBC_1': 2, 'GBC_105': 1, 'GBC_111': 15, 'GBC_112': 2, 'GBC_113': 15, 'GBC_110': 1, 'GBC_40': 1}, 0.83243384898343087, 0.83300906671605324)\n",
      "Add model - GBC_112 - ensemble and score: ({'GBC_1': 2, 'GBC_105': 1, 'GBC_111': 15, 'GBC_112': 3, 'GBC_113': 15, 'GBC_110': 1, 'GBC_40': 1}, 0.83243760985562187, 0.83295219843707846)\n",
      "Elminate models -- ensemble and score: ({'GBC_1': 2, 'GBC_105': 1, 'GBC_111': 15, 'GBC_112': 3, 'GBC_113': 15, 'GBC_110': 1, 'GBC_40': 1}, 0.83243760985562187, 0.83295219843707846)\n",
      "Add model - GBC_111 - ensemble and score: ({'GBC_1': 2, 'GBC_105': 1, 'GBC_111': 16, 'GBC_112': 3, 'GBC_113': 15, 'GBC_110': 1, 'GBC_40': 1}, 0.83248998953932485, 0.83295245006663154)\n",
      "Elminate models -- ensemble and score: ({'GBC_1': 2, 'GBC_105': 1, 'GBC_111': 16, 'GBC_112': 3, 'GBC_113': 15, 'GBC_110': 1, 'GBC_40': 1}, 0.83248998953932485, 0.83295245006663154)\n",
      "Add model - GBC_111 - ensemble and score: ({'GBC_1': 2, 'GBC_105': 1, 'GBC_111': 17, 'GBC_112': 3, 'GBC_113': 15, 'GBC_110': 1, 'GBC_40': 1}, 0.83250247127456722, 0.83295320495529057)\n",
      "Elminate models -- ensemble and score: ({'GBC_1': 2, 'GBC_105': 1, 'GBC_111': 17, 'GBC_112': 3, 'GBC_113': 15, 'GBC_110': 1, 'GBC_40': 1}, 0.83250247127456722, 0.83295320495529057)\n",
      "Add model - GBC_113 - ensemble and score: ({'GBC_1': 2, 'GBC_105': 1, 'GBC_111': 17, 'GBC_112': 3, 'GBC_113': 16, 'GBC_110': 1, 'GBC_40': 1}, 0.83251037455670762, 0.83306618662458076)\n",
      "Elminate models -- ensemble and score: ({'GBC_1': 2, 'GBC_105': 1, 'GBC_111': 17, 'GBC_112': 3, 'GBC_113': 16, 'GBC_110': 1, 'GBC_40': 1}, 0.83251037455670762, 0.83306618662458076)\n",
      "Add model - GBC_111 - ensemble and score: ({'GBC_1': 2, 'GBC_105': 1, 'GBC_111': 18, 'GBC_112': 3, 'GBC_113': 16, 'GBC_110': 1, 'GBC_40': 1}, 0.83251991300067019, 0.83304756603765984)\n",
      "Elminate models -- ensemble and score: ({'GBC_1': 2, 'GBC_105': 1, 'GBC_111': 18, 'GBC_112': 3, 'GBC_113': 16, 'GBC_110': 1, 'GBC_40': 1}, 0.83251991300067019, 0.83304756603765984)\n",
      "Add model - GBC_113 - ensemble and score: ({'GBC_1': 2, 'GBC_105': 1, 'GBC_111': 18, 'GBC_112': 3, 'GBC_113': 17, 'GBC_110': 1, 'GBC_40': 1}, 0.83256782324205936, 0.8331514890430427)\n",
      "Elminate models -- ensemble and score: ({'GBC_1': 2, 'GBC_105': 1, 'GBC_111': 18, 'GBC_112': 3, 'GBC_113': 17, 'GBC_110': 1, 'GBC_40': 1}, 0.83256782324205936, 0.8331514890430427)\n",
      "Add model - GBC_113 - ensemble and score: ({'GBC_1': 2, 'GBC_105': 1, 'GBC_111': 18, 'GBC_112': 3, 'GBC_113': 18, 'GBC_110': 1, 'GBC_40': 1}, 0.83257436388934802, 0.83320911221067628)\n",
      "Elminate models -- ensemble and score: ({'GBC_1': 2, 'GBC_105': 1, 'GBC_111': 18, 'GBC_112': 3, 'GBC_113': 18, 'GBC_110': 1, 'GBC_40': 1}, 0.83257436388934802, 0.83320911221067628)\n",
      "Add model - GBC_111 - ensemble and score: ({'GBC_1': 2, 'GBC_105': 1, 'GBC_111': 19, 'GBC_112': 3, 'GBC_113': 18, 'GBC_110': 1, 'GBC_40': 1}, 0.83260783020130813, 0.8331920014010733)\n",
      "Elminate models -- ensemble and score: ({'GBC_1': 2, 'GBC_105': 1, 'GBC_111': 19, 'GBC_112': 3, 'GBC_113': 18, 'GBC_110': 1, 'GBC_40': 1}, 0.83260783020130813, 0.8331920014010733)\n",
      "Add model - GBC_111 - ensemble and score: ({'GBC_1': 2, 'GBC_105': 1, 'GBC_111': 20, 'GBC_112': 3, 'GBC_113': 18, 'GBC_110': 1, 'GBC_40': 1}, 0.83261344425689743, 0.83318067807118901)\n",
      "Elminate models -- ensemble and score: ({'GBC_1': 2, 'GBC_105': 1, 'GBC_111': 20, 'GBC_112': 3, 'GBC_113': 18, 'GBC_110': 1, 'GBC_40': 1}, 0.83261344425689743, 0.83318067807118901)\n",
      "Add model - GBC_115 - ensemble and score: ({'GBC_105': 1, 'GBC_115': 1, 'GBC_112': 3, 'GBC_113': 18, 'GBC_110': 1, 'GBC_40': 1, 'GBC_1': 2, 'GBC_111': 20}, 0.83268462830155543, 0.83315400533857253)\n",
      "Elminate models -- ensemble and score: ({'GBC_105': 1, 'GBC_115': 1, 'GBC_112': 3, 'GBC_113': 18, 'GBC_110': 1, 'GBC_40': 1, 'GBC_1': 2, 'GBC_111': 20}, 0.83268462830155543, 0.83315400533857253)\n",
      "Add model - GBC_44 - ensemble and score: ({'GBC_115': 1, 'GBC_105': 1, 'GBC_44': 1, 'GBC_112': 3, 'GBC_113': 18, 'GBC_110': 1, 'GBC_40': 1, 'GBC_1': 2, 'GBC_111': 20}, 0.83269454828327627, 0.83373627612418022)\n",
      "Elminate models -- ensemble and score: ({'GBC_115': 1, 'GBC_105': 1, 'GBC_44': 1, 'GBC_112': 3, 'GBC_113': 18, 'GBC_110': 1, 'GBC_40': 1, 'GBC_1': 2, 'GBC_111': 20}, 0.83269454828327627, 0.83373627612418022)\n",
      "Add model - GBC_113 - ensemble and score: ({'GBC_115': 1, 'GBC_105': 1, 'GBC_44': 1, 'GBC_112': 3, 'GBC_113': 19, 'GBC_110': 1, 'GBC_40': 1, 'GBC_1': 2, 'GBC_111': 20}, 0.8327576655296115, 0.8338862473377594)\n",
      "Elminate models -- ensemble and score: ({'GBC_115': 1, 'GBC_105': 1, 'GBC_44': 1, 'GBC_112': 3, 'GBC_113': 19, 'GBC_110': 1, 'GBC_40': 1, 'GBC_1': 2, 'GBC_111': 20}, 0.8327576655296115, 0.8338862473377594)\n",
      "Add model - GBC_112 - ensemble and score: ({'GBC_115': 1, 'GBC_105': 1, 'GBC_44': 1, 'GBC_112': 4, 'GBC_113': 19, 'GBC_110': 1, 'GBC_40': 1, 'GBC_1': 2, 'GBC_111': 20}, 0.83276922067315473, 0.8338165459515825)\n",
      "Elminate models -- ensemble and score: ({'GBC_115': 1, 'GBC_105': 1, 'GBC_44': 1, 'GBC_112': 4, 'GBC_113': 19, 'GBC_110': 1, 'GBC_40': 1, 'GBC_1': 2, 'GBC_111': 20}, 0.83276922067315473, 0.8338165459515825)\n",
      "Add model - GBC_111 - ensemble and score: ({'GBC_115': 1, 'GBC_105': 1, 'GBC_44': 1, 'GBC_112': 4, 'GBC_113': 19, 'GBC_110': 1, 'GBC_40': 1, 'GBC_1': 2, 'GBC_111': 21}, 0.83278508174282961, 0.83382786928146679)\n",
      "Elminate models -- ensemble and score: ({'GBC_115': 1, 'GBC_105': 1, 'GBC_44': 1, 'GBC_112': 4, 'GBC_113': 19, 'GBC_110': 1, 'GBC_40': 1, 'GBC_1': 2, 'GBC_111': 21}, 0.83278508174282961, 0.83382786928146679)\n",
      "Add model - GBC_114 - ensemble and score: ({'GBC_115': 1, 'GBC_105': 1, 'GBC_114': 1, 'GBC_44': 1, 'GBC_112': 4, 'GBC_113': 19, 'GBC_110': 1, 'GBC_40': 1, 'GBC_1': 2, 'GBC_111': 21}, 0.83293671574913741, 0.83389908044496164)\n",
      "Elminate models -- ensemble and score: ({'GBC_115': 1, 'GBC_105': 1, 'GBC_114': 1, 'GBC_44': 1, 'GBC_112': 4, 'GBC_113': 19, 'GBC_110': 1, 'GBC_40': 1, 'GBC_1': 2, 'GBC_111': 21}, 0.83293671574913741, 0.83389908044496164)\n",
      "Add model - GBC_114 - ensemble and score: ({'GBC_115': 1, 'GBC_105': 1, 'GBC_114': 2, 'GBC_44': 1, 'GBC_112': 4, 'GBC_113': 19, 'GBC_110': 1, 'GBC_40': 1, 'GBC_1': 2, 'GBC_111': 21}, 0.83299334685357818, 0.8339682785720326)\n",
      "Elminate models -- ensemble and score: ({'GBC_115': 1, 'GBC_105': 1, 'GBC_114': 2, 'GBC_44': 1, 'GBC_112': 4, 'GBC_113': 19, 'GBC_110': 1, 'GBC_40': 1, 'GBC_1': 2, 'GBC_111': 21}, 0.83299334685357818, 0.8339682785720326)\n",
      "Add model - GBC_111 - ensemble and score: ({'GBC_115': 1, 'GBC_105': 1, 'GBC_114': 2, 'GBC_44': 1, 'GBC_112': 4, 'GBC_113': 19, 'GBC_110': 1, 'GBC_40': 1, 'GBC_1': 2, 'GBC_111': 22}, 0.83299890640377339, 0.83397557582906923)\n",
      "Elminate models -- ensemble and score: ({'GBC_115': 1, 'GBC_105': 1, 'GBC_114': 2, 'GBC_44': 1, 'GBC_112': 4, 'GBC_113': 19, 'GBC_110': 1, 'GBC_40': 1, 'GBC_1': 2, 'GBC_111': 22}, 0.83299890640377339, 0.83397557582906923)\n",
      "Add model - GBC_55 - ensemble and score: ({'GBC_115': 1, 'GBC_105': 1, 'GBC_55': 1, 'GBC_114': 2, 'GBC_44': 1, 'GBC_112': 4, 'GBC_113': 19, 'GBC_110': 1, 'GBC_40': 1, 'GBC_1': 2, 'GBC_111': 22}, 0.83301078857968103, 0.83408830586880645)\n",
      "Elminate models -- ensemble and score: ({'GBC_115': 1, 'GBC_105': 1, 'GBC_55': 1, 'GBC_114': 2, 'GBC_44': 1, 'GBC_112': 4, 'GBC_113': 19, 'GBC_110': 1, 'GBC_40': 1, 'GBC_1': 2, 'GBC_111': 22}, 0.83301078857968103, 0.83408830586880645)\n",
      "Add model - GBC_1 - ensemble and score: ({'GBC_115': 1, 'GBC_105': 1, 'GBC_55': 1, 'GBC_114': 2, 'GBC_44': 1, 'GBC_112': 4, 'GBC_113': 19, 'GBC_110': 1, 'GBC_40': 1, 'GBC_1': 3, 'GBC_111': 22}, 0.83304894235553129, 0.83419298376284834)\n",
      "Elminate models -- ensemble and score: ({'GBC_115': 1, 'GBC_105': 1, 'GBC_114': 2, 'GBC_44': 1, 'GBC_112': 4, 'GBC_113': 19, 'GBC_110': 1, 'GBC_40': 1, 'GBC_1': 3, 'GBC_111': 22}, 0.83305074103353571, 0.83403948973552733)\n",
      "Add model - GBC_113 - ensemble and score: ({'GBC_115': 1, 'GBC_105': 1, 'GBC_114': 2, 'GBC_44': 1, 'GBC_112': 4, 'GBC_113': 20, 'GBC_110': 1, 'GBC_40': 1, 'GBC_1': 3, 'GBC_111': 22}, 0.83306796473806244, 0.83414643229554586)\n",
      "Elminate models -- ensemble and score: ({'GBC_115': 1, 'GBC_105': 1, 'GBC_114': 2, 'GBC_44': 1, 'GBC_112': 4, 'GBC_113': 20, 'GBC_110': 1, 'GBC_40': 1, 'GBC_1': 3, 'GBC_111': 22}, 0.83306796473806244, 0.83414643229554586)\n",
      "Add model - GBC_1 - ensemble and score: ({'GBC_115': 1, 'GBC_105': 1, 'GBC_114': 2, 'GBC_44': 1, 'GBC_112': 4, 'GBC_113': 20, 'GBC_110': 1, 'GBC_40': 1, 'GBC_1': 4, 'GBC_111': 22}, 0.8331188182707312, 0.8342282119002663)\n",
      "Elminate models -- ensemble and score: ({'GBC_115': 1, 'GBC_105': 1, 'GBC_114': 2, 'GBC_44': 1, 'GBC_112': 4, 'GBC_113': 20, 'GBC_110': 1, 'GBC_40': 1, 'GBC_1': 4, 'GBC_111': 22}, 0.8331188182707312, 0.8342282119002663)\n",
      "Add model - GBC_117 - ensemble and score: ({'GBC_115': 1, 'GBC_105': 1, 'GBC_117': 1, 'GBC_114': 2, 'GBC_44': 1, 'GBC_112': 4, 'GBC_113': 20, 'GBC_110': 1, 'GBC_40': 1, 'GBC_1': 4, 'GBC_111': 22}, 0.83313620549144007, 0.83417964739654005)\n",
      "Elminate models -- ensemble and score: ({'GBC_115': 1, 'GBC_105': 1, 'GBC_117': 1, 'GBC_114': 2, 'GBC_44': 1, 'GBC_112': 4, 'GBC_113': 20, 'GBC_110': 1, 'GBC_40': 1, 'GBC_1': 4, 'GBC_111': 22}, 0.83313620549144007, 0.83417964739654005)\n",
      "Add model - GBC_1 - ensemble and score: ({'GBC_115': 1, 'GBC_105': 1, 'GBC_117': 1, 'GBC_114': 2, 'GBC_44': 1, 'GBC_112': 4, 'GBC_113': 20, 'GBC_110': 1, 'GBC_40': 1, 'GBC_1': 5, 'GBC_111': 22}, 0.83314519888146199, 0.83421437227485207)\n",
      "Elminate models -- ensemble and score: ({'GBC_115': 1, 'GBC_105': 1, 'GBC_117': 1, 'GBC_114': 2, 'GBC_44': 1, 'GBC_112': 4, 'GBC_113': 20, 'GBC_110': 1, 'GBC_40': 1, 'GBC_1': 5, 'GBC_111': 22}, 0.83314519888146199, 0.83421437227485207)\n",
      "Add model - GBC_111 - ensemble and score: ({'GBC_115': 1, 'GBC_105': 1, 'GBC_117': 1, 'GBC_114': 2, 'GBC_44': 1, 'GBC_112': 4, 'GBC_113': 20, 'GBC_110': 1, 'GBC_40': 1, 'GBC_1': 5, 'GBC_111': 23}, 0.83315179403414474, 0.83420581687005047)\n",
      "Elminate models -- ensemble and score: ({'GBC_115': 1, 'GBC_105': 1, 'GBC_117': 1, 'GBC_114': 2, 'GBC_44': 1, 'GBC_112': 4, 'GBC_113': 20, 'GBC_110': 1, 'GBC_40': 1, 'GBC_1': 5, 'GBC_111': 23}, 0.83315179403414474, 0.83420581687005047)\n",
      "Add model - GBC_79 - ensemble and score: ({'GBC_115': 1, 'GBC_105': 1, 'GBC_111': 23, 'GBC_117': 1, 'GBC_114': 2, 'GBC_44': 1, 'GBC_112': 4, 'GBC_113': 20, 'GBC_110': 1, 'GBC_40': 1, 'GBC_1': 5, 'GBC_79': 1}, 0.83316416675859917, 0.83452865758653039)\n",
      "Elminate models -- ensemble and score: ({'GBC_115': 1, 'GBC_105': 1, 'GBC_114': 2, 'GBC_44': 1, 'GBC_112': 4, 'GBC_113': 20, 'GBC_110': 1, 'GBC_79': 1, 'GBC_1': 5, 'GBC_111': 23}, 0.83321420271035695, 0.8346001203795782)\n",
      "Add model - GBC_117 - ensemble and score: ({'GBC_115': 1, 'GBC_105': 1, 'GBC_117': 1, 'GBC_114': 2, 'GBC_44': 1, 'GBC_112': 4, 'GBC_113': 20, 'GBC_110': 1, 'GBC_79': 1, 'GBC_1': 5, 'GBC_111': 23}, 0.83328849356247692, 0.834552059134958)\n",
      "Elminate models -- ensemble and score: ({'GBC_115': 1, 'GBC_105': 1, 'GBC_117': 1, 'GBC_114': 2, 'GBC_44': 1, 'GBC_112': 4, 'GBC_113': 20, 'GBC_110': 1, 'GBC_79': 1, 'GBC_1': 5, 'GBC_111': 23}, 0.83328849356247692, 0.834552059134958)\n",
      "Add model - GBC_19 - ensemble and score: ({'GBC_115': 1, 'GBC_105': 1, 'GBC_117': 1, 'GBC_114': 2, 'GBC_44': 1, 'GBC_112': 4, 'GBC_113': 20, 'GBC_110': 1, 'GBC_79': 1, 'GBC_1': 5, 'GBC_111': 23, 'GBC_19': 1}, 0.83331689087278826, 0.83458804216103499)\n",
      "Elminate models -- ensemble and score: ({'GBC_115': 1, 'GBC_105': 1, 'GBC_117': 1, 'GBC_114': 2, 'GBC_44': 1, 'GBC_112': 4, 'GBC_113': 20, 'GBC_110': 1, 'GBC_79': 1, 'GBC_1': 5, 'GBC_111': 23, 'GBC_19': 1}, 0.83331689087278826, 0.83458804216103499)\n",
      "Add model - GBC_76 - ensemble and score: ({'GBC_76': 1, 'GBC_115': 1, 'GBC_105': 1, 'GBC_117': 1, 'GBC_114': 2, 'GBC_44': 1, 'GBC_112': 4, 'GBC_113': 20, 'GBC_110': 1, 'GBC_79': 1, 'GBC_1': 5, 'GBC_111': 23, 'GBC_19': 1}, 0.83333471413664983, 0.83394487702360476)\n",
      "Elminate models -- ensemble and score: ({'GBC_76': 1, 'GBC_105': 1, 'GBC_117': 1, 'GBC_114': 2, 'GBC_115': 1, 'GBC_112': 4, 'GBC_113': 20, 'GBC_79': 1, 'GBC_1': 5, 'GBC_111': 23, 'GBC_19': 1}, 0.83352194016528658, 0.83392977925042566)\n",
      "Add model - GBC_110 - ensemble and score: ({'GBC_76': 1, 'GBC_105': 1, 'GBC_117': 1, 'GBC_114': 2, 'GBC_115': 1, 'GBC_112': 4, 'GBC_113': 20, 'GBC_110': 1, 'GBC_79': 1, 'GBC_1': 5, 'GBC_111': 23, 'GBC_19': 1}, 0.8337438316245529, 0.83358303372641229)\n",
      "Elminate models -- ensemble and score: ({'GBC_76': 1, 'GBC_105': 1, 'GBC_117': 1, 'GBC_114': 2, 'GBC_115': 1, 'GBC_112': 4, 'GBC_113': 20, 'GBC_110': 1, 'GBC_79': 1, 'GBC_1': 5, 'GBC_111': 23, 'GBC_19': 1}, 0.8337438316245529, 0.83358303372641229)\n",
      "Add model - GBC_104 - ensemble and score: ({'GBC_76': 1, 'GBC_105': 1, 'GBC_104': 1, 'GBC_117': 1, 'GBC_114': 2, 'GBC_115': 1, 'GBC_112': 4, 'GBC_113': 20, 'GBC_110': 1, 'GBC_79': 1, 'GBC_1': 5, 'GBC_111': 23, 'GBC_19': 1}, 0.83374764700213788, 0.83348565308940703)\n",
      "Elminate models -- ensemble and score: ({'GBC_76': 1, 'GBC_105': 1, 'GBC_104': 1, 'GBC_117': 1, 'GBC_114': 2, 'GBC_115': 1, 'GBC_112': 4, 'GBC_113': 20, 'GBC_110': 1, 'GBC_79': 1, 'GBC_1': 5, 'GBC_111': 23, 'GBC_19': 1}, 0.83374764700213788, 0.83348565308940703)\n",
      "Add model - GBC_19 - ensemble and score: ({'GBC_76': 1, 'GBC_105': 1, 'GBC_104': 1, 'GBC_117': 1, 'GBC_114': 2, 'GBC_115': 1, 'GBC_112': 4, 'GBC_113': 20, 'GBC_110': 1, 'GBC_79': 1, 'GBC_1': 5, 'GBC_111': 23, 'GBC_19': 2}, 0.83377495420456804, 0.83349823456705618)\n",
      "Elminate models -- ensemble and score: ({'GBC_76': 1, 'GBC_105': 1, 'GBC_117': 1, 'GBC_114': 2, 'GBC_115': 1, 'GBC_112': 4, 'GBC_113': 20, 'GBC_110': 1, 'GBC_79': 1, 'GBC_1': 5, 'GBC_111': 23, 'GBC_19': 2}, 0.83377860606597065, 0.83360517712707483)\n",
      "Add model - GBC_19 - ensemble and score: ({'GBC_76': 1, 'GBC_105': 1, 'GBC_117': 1, 'GBC_114': 2, 'GBC_115': 1, 'GBC_112': 4, 'GBC_113': 20, 'GBC_110': 1, 'GBC_79': 1, 'GBC_1': 5, 'GBC_111': 23, 'GBC_19': 3}, 0.83381316248581228, 0.83360895157036963)\n",
      "Elminate models -- ensemble and score: ({'GBC_76': 1, 'GBC_105': 1, 'GBC_117': 1, 'GBC_114': 2, 'GBC_115': 1, 'GBC_112': 4, 'GBC_113': 20, 'GBC_110': 1, 'GBC_79': 1, 'GBC_1': 5, 'GBC_111': 23, 'GBC_19': 3}, 0.83381316248581228, 0.83360895157036963)\n",
      "Add model - GBC_19 - ensemble and score: ({'GBC_76': 1, 'GBC_105': 1, 'GBC_117': 1, 'GBC_114': 2, 'GBC_115': 1, 'GBC_112': 4, 'GBC_113': 20, 'GBC_110': 1, 'GBC_79': 1, 'GBC_1': 5, 'GBC_111': 23, 'GBC_19': 4}, 0.83382155631649923, 0.83360920319992282)\n",
      "Elminate models -- ensemble and score: ({'GBC_76': 1, 'GBC_105': 1, 'GBC_117': 1, 'GBC_114': 2, 'GBC_115': 1, 'GBC_112': 4, 'GBC_113': 20, 'GBC_110': 1, 'GBC_79': 1, 'GBC_1': 5, 'GBC_111': 23, 'GBC_19': 4}, 0.83382155631649923, 0.83360920319992282)\n",
      "Add model - GBC_104 - ensemble and score: ({'GBC_76': 1, 'GBC_105': 1, 'GBC_104': 1, 'GBC_117': 1, 'GBC_114': 2, 'GBC_115': 1, 'GBC_112': 4, 'GBC_113': 20, 'GBC_110': 1, 'GBC_79': 1, 'GBC_1': 5, 'GBC_111': 23, 'GBC_19': 4}, 0.83383245739531364, 0.8334614966523205)\n",
      "Elminate models -- ensemble and score: ({'GBC_76': 1, 'GBC_105': 1, 'GBC_104': 1, 'GBC_117': 1, 'GBC_114': 2, 'GBC_115': 1, 'GBC_112': 4, 'GBC_113': 20, 'GBC_110': 1, 'GBC_79': 1, 'GBC_1': 5, 'GBC_111': 23, 'GBC_19': 4}, 0.83383245739531364, 0.8334614966523205)\n",
      "Add model - GBC_19 - ensemble and score: ({'GBC_76': 1, 'GBC_105': 1, 'GBC_104': 1, 'GBC_117': 1, 'GBC_114': 2, 'GBC_115': 1, 'GBC_112': 4, 'GBC_113': 20, 'GBC_110': 1, 'GBC_79': 1, 'GBC_1': 5, 'GBC_111': 23, 'GBC_19': 5}, 0.83384913604589961, 0.83343079784685625)\n",
      "Elminate models -- ensemble and score: ({'GBC_76': 1, 'GBC_105': 1, 'GBC_104': 1, 'GBC_117': 1, 'GBC_114': 2, 'GBC_115': 1, 'GBC_112': 4, 'GBC_113': 20, 'GBC_110': 1, 'GBC_79': 1, 'GBC_1': 5, 'GBC_111': 23, 'GBC_19': 5}, 0.83384913604589961, 0.83343079784685625)\n",
      "Add model - GBC_112 - ensemble and score: ({'GBC_76': 1, 'GBC_105': 1, 'GBC_104': 1, 'GBC_117': 1, 'GBC_114': 2, 'GBC_115': 1, 'GBC_112': 5, 'GBC_113': 20, 'GBC_110': 1, 'GBC_79': 1, 'GBC_1': 5, 'GBC_111': 23, 'GBC_19': 5}, 0.83385818394131561, 0.83341066748261738)\n",
      "Elminate models -- ensemble and score: ({'GBC_76': 1, 'GBC_105': 1, 'GBC_104': 1, 'GBC_117': 1, 'GBC_114': 2, 'GBC_115': 1, 'GBC_112': 5, 'GBC_113': 20, 'GBC_110': 1, 'GBC_79': 1, 'GBC_1': 5, 'GBC_111': 23, 'GBC_19': 5}, 0.83385818394131561, 0.83341066748261738)\n",
      "Add model - GBC_111 - ensemble and score: ({'GBC_76': 1, 'GBC_105': 1, 'GBC_104': 1, 'GBC_117': 1, 'GBC_114': 2, 'GBC_115': 1, 'GBC_112': 5, 'GBC_113': 20, 'GBC_110': 1, 'GBC_79': 1, 'GBC_1': 5, 'GBC_111': 24, 'GBC_19': 5}, 0.83386717733133731, 0.83342903643998545)\n",
      "Elminate models -- ensemble and score: ({'GBC_76': 1, 'GBC_105': 1, 'GBC_104': 1, 'GBC_117': 1, 'GBC_114': 2, 'GBC_115': 1, 'GBC_112': 5, 'GBC_113': 20, 'GBC_110': 1, 'GBC_79': 1, 'GBC_1': 5, 'GBC_111': 24, 'GBC_19': 5}, 0.83386717733133731, 0.83342903643998545)\n",
      "Add model - GBC_111 - ensemble and score: ({'GBC_76': 1, 'GBC_105': 1, 'GBC_104': 1, 'GBC_117': 1, 'GBC_114': 2, 'GBC_115': 1, 'GBC_112': 5, 'GBC_113': 20, 'GBC_110': 1, 'GBC_79': 1, 'GBC_1': 5, 'GBC_111': 25, 'GBC_19': 5}, 0.83386881249315958, 0.83345168309975404)\n",
      "Elminate models -- ensemble and score: ({'GBC_76': 1, 'GBC_105': 1, 'GBC_104': 1, 'GBC_117': 1, 'GBC_114': 2, 'GBC_115': 1, 'GBC_112': 5, 'GBC_113': 20, 'GBC_110': 1, 'GBC_79': 1, 'GBC_1': 5, 'GBC_111': 25, 'GBC_19': 5}, 0.83386881249315958, 0.83345168309975404)\n",
      "Add model - GBC_76 - ensemble and score: ({'GBC_76': 2, 'GBC_105': 1, 'GBC_104': 1, 'GBC_117': 1, 'GBC_114': 2, 'GBC_115': 1, 'GBC_112': 5, 'GBC_113': 20, 'GBC_110': 1, 'GBC_79': 1, 'GBC_1': 5, 'GBC_111': 25, 'GBC_19': 5}, 0.83387017512801143, 0.83302995196895091)\n",
      "Elminate models -- ensemble and score: ({'GBC_76': 2, 'GBC_105': 1, 'GBC_104': 1, 'GBC_117': 1, 'GBC_114': 2, 'GBC_115': 1, 'GBC_112': 5, 'GBC_113': 20, 'GBC_79': 1, 'GBC_1': 5, 'GBC_111': 25, 'GBC_19': 5}, 0.83391906646649383, 0.83328510433567771)\n",
      "Add model - GBC_113 - ensemble and score: ({'GBC_76': 2, 'GBC_105': 1, 'GBC_104': 1, 'GBC_117': 1, 'GBC_114': 2, 'GBC_115': 1, 'GBC_112': 5, 'GBC_113': 21, 'GBC_79': 1, 'GBC_1': 5, 'GBC_111': 25, 'GBC_19': 5}, 0.83397428043068844, 0.83332586832326139)\n",
      "Elminate models -- ensemble and score: ({'GBC_76': 2, 'GBC_105': 1, 'GBC_104': 1, 'GBC_117': 1, 'GBC_114': 2, 'GBC_115': 1, 'GBC_112': 5, 'GBC_113': 21, 'GBC_79': 1, 'GBC_1': 5, 'GBC_111': 25, 'GBC_19': 5}, 0.83397428043068844, 0.83332586832326139)\n",
      "Add model - GBC_19 - ensemble and score: ({'GBC_76': 2, 'GBC_105': 1, 'GBC_104': 1, 'GBC_117': 1, 'GBC_114': 2, 'GBC_115': 1, 'GBC_112': 5, 'GBC_113': 21, 'GBC_79': 1, 'GBC_1': 5, 'GBC_111': 25, 'GBC_19': 6}, 0.8340038768596697, 0.83330146025662188)\n",
      "Elminate models -- ensemble and score: ({'GBC_76': 2, 'GBC_105': 1, 'GBC_104': 1, 'GBC_117': 1, 'GBC_114': 2, 'GBC_115': 1, 'GBC_112': 5, 'GBC_113': 21, 'GBC_79': 1, 'GBC_1': 5, 'GBC_111': 25, 'GBC_19': 6}, 0.8340038768596697, 0.83330146025662188)\n",
      "Add model - GBC_1 - ensemble and score: ({'GBC_76': 2, 'GBC_105': 1, 'GBC_104': 1, 'GBC_117': 1, 'GBC_114': 2, 'GBC_115': 1, 'GBC_112': 5, 'GBC_113': 21, 'GBC_79': 1, 'GBC_1': 6, 'GBC_111': 25, 'GBC_19': 6}, 0.83400905487210641, 0.83335455409230175)\n",
      "Elminate models -- ensemble and score: ({'GBC_76': 2, 'GBC_105': 1, 'GBC_104': 1, 'GBC_117': 1, 'GBC_115': 1, 'GBC_112': 5, 'GBC_113': 21, 'GBC_79': 1, 'GBC_1': 6, 'GBC_111': 25, 'GBC_19': 6}, 0.83402426187705248, 0.83328359455835999)\n",
      "Add model - GBC_114 - ensemble and score: ({'GBC_76': 2, 'GBC_105': 1, 'GBC_104': 1, 'GBC_117': 1, 'GBC_114': 1, 'GBC_115': 1, 'GBC_112': 5, 'GBC_113': 21, 'GBC_79': 1, 'GBC_1': 6, 'GBC_111': 25, 'GBC_19': 6}, 0.83406388729854264, 0.83331328684561212)\n",
      "Elminate models -- ensemble and score: ({'GBC_76': 2, 'GBC_105': 1, 'GBC_104': 1, 'GBC_117': 1, 'GBC_114': 1, 'GBC_115': 1, 'GBC_112': 5, 'GBC_113': 21, 'GBC_79': 1, 'GBC_1': 6, 'GBC_111': 25, 'GBC_19': 6}, 0.83406388729854264, 0.83331328684561212)\n",
      "Add model - GBC_1 - ensemble and score: ({'GBC_76': 2, 'GBC_105': 1, 'GBC_104': 1, 'GBC_117': 1, 'GBC_114': 1, 'GBC_115': 1, 'GBC_112': 5, 'GBC_113': 21, 'GBC_79': 1, 'GBC_1': 7, 'GBC_111': 25, 'GBC_19': 6}, 0.8340956094378924, 0.83333593350538082)\n",
      "Elminate models -- ensemble and score: ({'GBC_76': 2, 'GBC_105': 1, 'GBC_104': 1, 'GBC_117': 1, 'GBC_114': 1, 'GBC_115': 1, 'GBC_112': 5, 'GBC_113': 21, 'GBC_79': 1, 'GBC_1': 7, 'GBC_111': 25, 'GBC_19': 6}, 0.8340956094378924, 0.83333593350538082)\n",
      "Add model - GBC_19 - ensemble and score: ({'GBC_76': 2, 'GBC_105': 1, 'GBC_104': 1, 'GBC_117': 1, 'GBC_114': 1, 'GBC_115': 1, 'GBC_112': 5, 'GBC_113': 21, 'GBC_79': 1, 'GBC_1': 7, 'GBC_111': 25, 'GBC_19': 7}, 0.83410874523786371, 0.83334524379884123)\n",
      "Elminate models -- ensemble and score: ({'GBC_76': 2, 'GBC_105': 1, 'GBC_104': 1, 'GBC_117': 1, 'GBC_114': 1, 'GBC_115': 1, 'GBC_112': 5, 'GBC_113': 21, 'GBC_79': 1, 'GBC_1': 7, 'GBC_111': 25, 'GBC_19': 7}, 0.83410874523786371, 0.83334524379884123)\n",
      "Add model - GBC_19 - ensemble and score: ({'GBC_76': 2, 'GBC_105': 1, 'GBC_104': 1, 'GBC_117': 1, 'GBC_114': 1, 'GBC_115': 1, 'GBC_112': 5, 'GBC_113': 21, 'GBC_79': 1, 'GBC_1': 7, 'GBC_111': 25, 'GBC_19': 8}, 0.83411762961709746, 0.83332637158236733)\n",
      "Elminate models -- ensemble and score: ({'GBC_76': 2, 'GBC_105': 1, 'GBC_104': 1, 'GBC_117': 1, 'GBC_114': 1, 'GBC_115': 1, 'GBC_112': 5, 'GBC_113': 21, 'GBC_79': 1, 'GBC_1': 7, 'GBC_111': 25, 'GBC_19': 8}, 0.83411762961709746, 0.83332637158236733)\n",
      "Add model - GBC_34 - ensemble and score: ({'GBC_76': 2, 'GBC_105': 1, 'GBC_104': 1, 'GBC_117': 1, 'GBC_114': 1, 'GBC_115': 1, 'GBC_112': 5, 'GBC_113': 21, 'GBC_34': 1, 'GBC_79': 1, 'GBC_1': 7, 'GBC_111': 25, 'GBC_19': 8}, 0.83412940278221681, 0.83352415241101374)\n",
      "Elminate models -- ensemble and score: ({'GBC_76': 2, 'GBC_105': 1, 'GBC_104': 1, 'GBC_117': 1, 'GBC_114': 1, 'GBC_115': 1, 'GBC_112': 5, 'GBC_113': 21, 'GBC_34': 1, 'GBC_111': 25, 'GBC_1': 7, 'GBC_19': 8}, 0.83416608491242716, 0.83342501036713756)\n",
      "Add model - BAGC_4 - ensemble and score: ({'GBC_76': 2, 'GBC_105': 1, 'GBC_104': 1, 'GBC_117': 1, 'GBC_114': 1, 'GBC_115': 1, 'GBC_112': 5, 'GBC_113': 21, 'GBC_34': 1, 'GBC_111': 25, 'BAGC_4': 1, 'GBC_1': 7, 'GBC_19': 8}, 0.8341757323671779, 0.83255714003889203)\n",
      "Elminate models -- ensemble and score: ({'GBC_76': 2, 'GBC_105': 1, 'GBC_104': 1, 'GBC_117': 1, 'GBC_114': 1, 'GBC_115': 1, 'GBC_112': 5, 'GBC_113': 21, 'GBC_34': 1, 'GBC_111': 25, 'BAGC_4': 1, 'GBC_1': 7, 'GBC_19': 8}, 0.8341757323671779, 0.83255714003889203)\n",
      "Add model - GBC_113 - ensemble and score: ({'GBC_76': 2, 'GBC_105': 1, 'GBC_104': 1, 'GBC_117': 1, 'GBC_114': 1, 'GBC_115': 1, 'GBC_112': 5, 'GBC_113': 22, 'GBC_34': 1, 'GBC_111': 25, 'BAGC_4': 1, 'GBC_1': 7, 'GBC_19': 8}, 0.83420396616130721, 0.83258632906703811)\n",
      "Elminate models -- ensemble and score: ({'GBC_76': 2, 'GBC_105': 1, 'GBC_104': 1, 'GBC_114': 1, 'GBC_115': 1, 'GBC_112': 5, 'GBC_113': 22, 'GBC_34': 1, 'GBC_111': 25, 'BAGC_4': 1, 'GBC_1': 7, 'GBC_19': 8}, 0.83420990724926114, 0.83259840728558143)\n",
      "Add model - GBC_113 - ensemble and score: ({'GBC_76': 2, 'GBC_105': 1, 'GBC_104': 1, 'GBC_114': 1, 'GBC_115': 1, 'GBC_112': 5, 'GBC_113': 23, 'GBC_34': 1, 'GBC_111': 25, 'BAGC_4': 1, 'GBC_1': 7, 'GBC_19': 8}, 0.83423868609733098, 0.83271239547308373)\n",
      "Elminate models -- ensemble and score: ({'GBC_76': 2, 'GBC_105': 1, 'GBC_104': 1, 'GBC_114': 1, 'GBC_115': 1, 'GBC_112': 5, 'GBC_113': 23, 'GBC_34': 1, 'GBC_111': 25, 'BAGC_4': 1, 'GBC_1': 7, 'GBC_19': 8}, 0.83423868609733098, 0.83271239547308373)\n",
      "Add model - GBC_114 - ensemble and score: ({'GBC_76': 2, 'GBC_105': 1, 'GBC_104': 1, 'GBC_114': 2, 'GBC_115': 1, 'GBC_112': 5, 'GBC_113': 23, 'GBC_34': 1, 'GBC_111': 25, 'BAGC_4': 1, 'GBC_1': 7, 'GBC_19': 8}, 0.8342550922209464, 0.83274082961257112)\n",
      "Elminate models -- ensemble and score: ({'GBC_76': 2, 'GBC_105': 1, 'GBC_104': 1, 'GBC_114': 2, 'GBC_115': 1, 'GBC_112': 5, 'GBC_113': 23, 'GBC_34': 1, 'GBC_111': 25, 'BAGC_4': 1, 'GBC_1': 7, 'GBC_19': 8}, 0.8342550922209464, 0.83274082961257112)\n",
      "Add model - GBC_40 - ensemble and score: ({'GBC_76': 2, 'GBC_105': 1, 'GBC_104': 1, 'GBC_114': 2, 'GBC_115': 1, 'GBC_112': 5, 'GBC_113': 23, 'GBC_34': 1, 'GBC_40': 1, 'BAGC_4': 1, 'GBC_1': 7, 'GBC_111': 25, 'GBC_19': 8}, 0.83425520123173469, 0.83268496785180823)\n",
      "Elminate models -- ensemble and score: ({'GBC_76': 2, 'GBC_105': 1, 'GBC_104': 1, 'GBC_114': 2, 'GBC_115': 1, 'GBC_112': 5, 'GBC_113': 23, 'GBC_34': 1, 'GBC_40': 1, 'BAGC_4': 1, 'GBC_1': 7, 'GBC_111': 25, 'GBC_19': 8}, 0.83425520123173469, 0.83268496785180823)\n",
      "Add model - GBC_118 - ensemble and score: ({'GBC_76': 2, 'GBC_105': 1, 'GBC_104': 1, 'GBC_118': 1, 'GBC_114': 2, 'GBC_115': 1, 'GBC_112': 5, 'GBC_113': 23, 'GBC_34': 1, 'GBC_40': 1, 'BAGC_4': 1, 'GBC_1': 7, 'GBC_111': 25, 'GBC_19': 8}, 0.83427187988232077, 0.83239987156827611)\n",
      "Elminate models -- ensemble and score: ({'GBC_76': 2, 'GBC_105': 1, 'GBC_104': 1, 'GBC_118': 1, 'GBC_114': 2, 'GBC_115': 1, 'GBC_112': 5, 'GBC_113': 23, 'GBC_34': 1, 'GBC_111': 25, 'BAGC_4': 1, 'GBC_1': 7, 'GBC_19': 8}, 0.83431701034861228, 0.83248995494824485)\n",
      "Add model - GBC_1 - ensemble and score: ({'GBC_76': 2, 'GBC_105': 1, 'GBC_104': 1, 'GBC_118': 1, 'GBC_114': 2, 'GBC_115': 1, 'GBC_112': 5, 'GBC_113': 23, 'GBC_34': 1, 'GBC_111': 25, 'BAGC_4': 1, 'GBC_1': 8, 'GBC_19': 8}, 0.83432725736269764, 0.83249322613243348)\n",
      "Elminate models -- ensemble and score: ({'GBC_76': 2, 'GBC_105': 1, 'GBC_104': 1, 'GBC_118': 1, 'GBC_114': 2, 'GBC_115': 1, 'GBC_112': 5, 'GBC_113': 23, 'GBC_34': 1, 'GBC_111': 25, 'BAGC_4': 1, 'GBC_1': 8, 'GBC_19': 8}, 0.83432725736269764, 0.83249322613243348)\n",
      "Add model - GBC_113 - ensemble and score: ({'GBC_76': 2, 'GBC_105': 1, 'GBC_104': 1, 'GBC_118': 1, 'GBC_114': 2, 'GBC_115': 1, 'GBC_112': 5, 'GBC_113': 24, 'GBC_34': 1, 'GBC_111': 25, 'BAGC_4': 1, 'GBC_1': 8, 'GBC_19': 8}, 0.83435587269458533, 0.83256946988698799)\n",
      "Elminate models -- ensemble and score: ({'GBC_76': 2, 'GBC_105': 1, 'GBC_104': 1, 'GBC_118': 1, 'GBC_114': 2, 'GBC_115': 1, 'GBC_112': 5, 'GBC_113': 24, 'GBC_34': 1, 'GBC_111': 25, 'BAGC_4': 1, 'GBC_1': 8, 'GBC_19': 8}, 0.83435587269458533, 0.83256946988698799)\n",
      "Add model - GBC_79 - ensemble and score: ({'GBC_76': 2, 'GBC_105': 1, 'GBC_104': 1, 'GBC_118': 1, 'GBC_114': 2, 'GBC_115': 1, 'GBC_112': 5, 'GBC_113': 24, 'GBC_34': 1, 'GBC_79': 1, 'BAGC_4': 1, 'GBC_1': 8, 'GBC_111': 25, 'GBC_19': 8}, 0.83437353244226453, 0.83269754932945772)\n",
      "Elminate models -- ensemble and score: ({'GBC_76': 2, 'GBC_105': 1, 'GBC_104': 1, 'GBC_118': 1, 'GBC_114': 2, 'GBC_115': 1, 'GBC_112': 5, 'GBC_113': 24, 'GBC_34': 1, 'GBC_79': 1, 'BAGC_4': 1, 'GBC_1': 8, 'GBC_111': 25, 'GBC_19': 8}, 0.83437353244226453, 0.83269754932945772)\n",
      "Add model - GBC_110 - ensemble and score: ({'GBC_76': 2, 'GBC_105': 1, 'GBC_104': 1, 'GBC_118': 1, 'GBC_114': 2, 'GBC_115': 1, 'GBC_112': 5, 'GBC_113': 24, 'GBC_34': 1, 'GBC_79': 1, 'BAGC_4': 1, 'GBC_1': 8, 'GBC_110': 1, 'GBC_111': 25, 'GBC_19': 8}, 0.83437903748706588, 0.83241849215519692)\n",
      "Elminate models -- ensemble and score: ({'GBC_76': 2, 'GBC_105': 1, 'GBC_104': 1, 'GBC_118': 1, 'GBC_114': 2, 'GBC_115': 1, 'GBC_112': 5, 'GBC_113': 24, 'GBC_34': 1, 'GBC_79': 1, 'BAGC_4': 1, 'GBC_1': 8, 'GBC_110': 1, 'GBC_111': 25, 'GBC_19': 8}, 0.83437903748706588, 0.83241849215519692)\n",
      "Add model - GBC_113 - ensemble and score: ({'GBC_76': 2, 'GBC_105': 1, 'GBC_104': 1, 'GBC_118': 1, 'GBC_114': 2, 'GBC_115': 1, 'GBC_112': 5, 'GBC_113': 25, 'GBC_34': 1, 'GBC_79': 1, 'BAGC_4': 1, 'GBC_1': 8, 'GBC_110': 1, 'GBC_111': 25, 'GBC_19': 8}, 0.83439173724388449, 0.8324413904445187)\n",
      "Elminate models -- ensemble and score: ({'GBC_76': 2, 'GBC_105': 1, 'GBC_104': 1, 'GBC_118': 1, 'GBC_114': 2, 'GBC_115': 1, 'GBC_112': 5, 'GBC_113': 25, 'GBC_34': 1, 'GBC_79': 1, 'BAGC_4': 1, 'GBC_1': 8, 'GBC_110': 1, 'GBC_111': 25, 'GBC_19': 8}, 0.83439173724388449, 0.8324413904445187)\n",
      "Add model - GBC_113 - ensemble and score: ({'GBC_76': 2, 'GBC_105': 1, 'GBC_104': 1, 'GBC_118': 1, 'GBC_114': 2, 'GBC_115': 1, 'GBC_112': 5, 'GBC_113': 26, 'GBC_34': 1, 'GBC_79': 1, 'BAGC_4': 1, 'GBC_1': 8, 'GBC_110': 1, 'GBC_111': 25, 'GBC_19': 8}, 0.83444656967032094, 0.83249574242796354)\n",
      "Elminate models -- ensemble and score: ({'GBC_76': 2, 'GBC_105': 1, 'GBC_104': 1, 'GBC_118': 1, 'GBC_114': 2, 'GBC_115': 1, 'GBC_112': 5, 'GBC_113': 26, 'GBC_34': 1, 'GBC_79': 1, 'BAGC_4': 1, 'GBC_1': 8, 'GBC_110': 1, 'GBC_111': 25, 'GBC_19': 8}, 0.83444656967032094, 0.83249574242796354)\n",
      "Add model - GBC_113 - ensemble and score: ({'GBC_76': 2, 'GBC_105': 1, 'GBC_104': 1, 'GBC_118': 1, 'GBC_114': 2, 'GBC_115': 1, 'GBC_112': 5, 'GBC_113': 27, 'GBC_34': 1, 'GBC_79': 1, 'BAGC_4': 1, 'GBC_1': 8, 'GBC_110': 1, 'GBC_111': 25, 'GBC_19': 8}, 0.83446700919309769, 0.832536506415547)\n",
      "Elminate models -- ensemble and score: ({'GBC_76': 2, 'GBC_105': 1, 'GBC_104': 1, 'GBC_118': 1, 'GBC_114': 2, 'GBC_115': 1, 'GBC_112': 5, 'GBC_113': 27, 'GBC_34': 1, 'GBC_79': 1, 'BAGC_4': 1, 'GBC_1': 8, 'GBC_110': 1, 'GBC_111': 25, 'GBC_19': 8}, 0.83446700919309769, 0.832536506415547)\n",
      "Add model - GBC_112 - ensemble and score: ({'GBC_76': 2, 'GBC_105': 1, 'GBC_104': 1, 'GBC_118': 1, 'GBC_114': 2, 'GBC_115': 1, 'GBC_112': 6, 'GBC_113': 27, 'GBC_34': 1, 'GBC_79': 1, 'BAGC_4': 1, 'GBC_1': 8, 'GBC_110': 1, 'GBC_111': 25, 'GBC_19': 8}, 0.83447480346445002, 0.83258456766016731)\n",
      "Elminate models -- ensemble and score: ({'GBC_76': 2, 'GBC_105': 1, 'GBC_104': 1, 'GBC_118': 1, 'GBC_114': 2, 'GBC_115': 1, 'GBC_112': 6, 'GBC_113': 27, 'GBC_34': 1, 'GBC_79': 1, 'BAGC_4': 1, 'GBC_1': 8, 'GBC_110': 1, 'GBC_111': 25, 'GBC_19': 8}, 0.83447480346445002, 0.83258456766016731)\n",
      "Add model - GBC_117 - ensemble and score: ({'GBC_76': 2, 'GBC_34': 1, 'GBC_79': 1, 'GBC_1': 8, 'GBC_105': 1, 'GBC_104': 1, 'GBC_118': 1, 'GBC_117': 1, 'GBC_114': 2, 'GBC_115': 1, 'GBC_112': 6, 'GBC_113': 27, 'GBC_110': 1, 'GBC_111': 25, 'BAGC_4': 1, 'GBC_19': 8}, 0.8344772017017893, 0.83256997314609404)\n",
      "Elminate models -- ensemble and score: ({'GBC_76': 2, 'GBC_34': 1, 'GBC_79': 1, 'GBC_1': 8, 'GBC_105': 1, 'GBC_104': 1, 'GBC_118': 1, 'GBC_117': 1, 'GBC_114': 2, 'GBC_115': 1, 'GBC_112': 6, 'GBC_113': 27, 'GBC_110': 1, 'GBC_111': 25, 'BAGC_4': 1, 'GBC_19': 8}, 0.8344772017017893, 0.83256997314609404)\n",
      "Add model - GBC_1 - ensemble and score: ({'GBC_76': 2, 'GBC_34': 1, 'GBC_79': 1, 'GBC_1': 9, 'GBC_105': 1, 'GBC_104': 1, 'GBC_118': 1, 'GBC_117': 1, 'GBC_114': 2, 'GBC_115': 1, 'GBC_112': 6, 'GBC_113': 27, 'GBC_110': 1, 'GBC_111': 25, 'BAGC_4': 1, 'GBC_19': 8}, 0.83449284474988783, 0.83259639424915743)\n",
      "Elminate models -- ensemble and score: ({'GBC_76': 2, 'GBC_105': 1, 'GBC_104': 1, 'GBC_118': 1, 'GBC_114': 2, 'GBC_115': 1, 'GBC_112': 6, 'GBC_113': 27, 'GBC_34': 1, 'GBC_79': 1, 'BAGC_4': 1, 'GBC_1': 9, 'GBC_110': 1, 'GBC_111': 25, 'GBC_19': 8}, 0.83449535199801517, 0.8326147632065255)\n",
      "Add model - GBC_22 - ensemble and score: ({'GBC_76': 2, 'GBC_22': 1, 'GBC_34': 1, 'GBC_79': 1, 'GBC_1': 9, 'GBC_105': 1, 'GBC_104': 1, 'GBC_118': 1, 'GBC_114': 2, 'GBC_115': 1, 'GBC_112': 6, 'GBC_113': 27, 'GBC_110': 1, 'GBC_111': 25, 'BAGC_4': 1, 'GBC_19': 8}, 0.83449878583784176, 0.83269880747722247)\n",
      "Elminate models -- ensemble and score: ({'GBC_76': 2, 'GBC_22': 1, 'GBC_34': 1, 'GBC_79': 1, 'GBC_1': 9, 'GBC_105': 1, 'GBC_104': 1, 'GBC_118': 1, 'GBC_114': 2, 'GBC_115': 1, 'GBC_112': 6, 'GBC_113': 27, 'GBC_110': 1, 'GBC_111': 25, 'BAGC_4': 1, 'GBC_19': 8}, 0.83449878583784176, 0.83269880747722247)\n",
      "Add model - GBC_117 - ensemble and score: ({'GBC_76': 2, 'GBC_22': 1, 'GBC_34': 1, 'GBC_79': 1, 'GBC_1': 9, 'GBC_105': 1, 'GBC_104': 1, 'GBC_118': 1, 'GBC_117': 1, 'GBC_114': 2, 'GBC_115': 1, 'GBC_112': 6, 'GBC_113': 27, 'GBC_110': 1, 'GBC_111': 25, 'BAGC_4': 1, 'GBC_19': 8}, 0.83449976693493499, 0.83272145413699106)\n",
      "Elminate models -- ensemble and score: ({'GBC_76': 2, 'GBC_22': 1, 'GBC_34': 1, 'GBC_79': 1, 'GBC_1': 9, 'GBC_105': 1, 'GBC_104': 1, 'GBC_118': 1, 'GBC_117': 1, 'GBC_114': 2, 'GBC_115': 1, 'GBC_112': 6, 'GBC_113': 27, 'GBC_110': 1, 'GBC_111': 25, 'BAGC_4': 1, 'GBC_19': 8}, 0.83449976693493499, 0.83272145413699106)\n",
      "Add model - BAGC_19 - ensemble and score: ({'GBC_76': 2, 'GBC_22': 1, 'GBC_34': 1, 'GBC_79': 1, 'GBC_1': 9, 'GBC_105': 1, 'GBC_104': 1, 'GBC_118': 1, 'GBC_117': 1, 'GBC_114': 2, 'GBC_115': 1, 'GBC_112': 6, 'GBC_113': 27, 'GBC_110': 1, 'GBC_111': 25, 'BAGC_19': 1, 'BAGC_4': 1, 'GBC_19': 8}, 0.83452778270748784, 0.83277832241596583)\n",
      "Elminate models -- ensemble and score: ({'GBC_76': 2, 'GBC_22': 1, 'GBC_34': 1, 'GBC_79': 1, 'GBC_1': 9, 'GBC_105': 1, 'GBC_104': 1, 'GBC_118': 1, 'GBC_117': 1, 'GBC_114': 2, 'GBC_115': 1, 'GBC_112': 6, 'GBC_113': 27, 'GBC_110': 1, 'GBC_111': 25, 'BAGC_19': 1, 'BAGC_4': 1, 'GBC_19': 8}, 0.83452778270748784, 0.83277832241596583)\n",
      "Add model - GBC_111 - ensemble and score: ({'GBC_76': 2, 'GBC_22': 1, 'GBC_34': 1, 'GBC_79': 1, 'GBC_1': 9, 'GBC_105': 1, 'GBC_104': 1, 'GBC_118': 1, 'GBC_117': 1, 'GBC_114': 2, 'GBC_115': 1, 'GBC_112': 6, 'GBC_113': 27, 'GBC_110': 1, 'GBC_111': 26, 'BAGC_19': 1, 'BAGC_4': 1, 'GBC_19': 8}, 0.83453176160125497, 0.8327682572338464)\n",
      "Elminate models -- ensemble and score: ({'GBC_76': 2, 'GBC_22': 1, 'GBC_34': 1, 'GBC_79': 1, 'GBC_1': 9, 'GBC_105': 1, 'GBC_104': 1, 'GBC_118': 1, 'GBC_114': 2, 'GBC_115': 1, 'GBC_112': 6, 'GBC_113': 27, 'GBC_110': 1, 'GBC_111': 26, 'BAGC_19': 1, 'BAGC_4': 1, 'GBC_19': 8}, 0.83453192511743723, 0.83273705516927621)\n",
      "Add model - LR_36 - ensemble and score: ({'GBC_76': 2, 'GBC_22': 1, 'GBC_34': 1, 'GBC_79': 1, 'GBC_1': 9, 'GBC_105': 1, 'GBC_104': 1, 'GBC_118': 1, 'GBC_114': 2, 'GBC_115': 1, 'GBC_112': 6, 'GBC_113': 27, 'GBC_110': 1, 'GBC_111': 26, 'BAGC_19': 1, 'BAGC_4': 1, 'GBC_19': 8, 'LR_36': 1}, 0.83478957211521476, 0.83373627612418033)\n",
      "Elminate models -- ensemble and score: ({'GBC_76': 2, 'GBC_105': 1, 'GBC_104': 1, 'GBC_118': 1, 'GBC_114': 2, 'GBC_22': 1, 'GBC_113': 27, 'GBC_34': 1, 'GBC_79': 1, 'BAGC_19': 1, 'BAGC_4': 1, 'GBC_1': 9, 'GBC_111': 26, 'GBC_19': 8, 'LR_36': 1}, 0.83482609072924285, 0.83347332324131074)\n",
      "Add model - GBC_40 - ensemble and score: ({'GBC_76': 2, 'GBC_22': 1, 'GBC_34': 1, 'GBC_79': 1, 'GBC_1': 9, 'GBC_40': 1, 'GBC_105': 1, 'GBC_104': 1, 'GBC_118': 1, 'GBC_114': 2, 'GBC_113': 27, 'GBC_111': 26, 'BAGC_19': 1, 'BAGC_4': 1, 'GBC_19': 8, 'LR_36': 1}, 0.83483274038731958, 0.83348967916225469)\n",
      "Elminate models -- ensemble and score: ({'GBC_76': 2, 'GBC_22': 1, 'GBC_34': 1, 'GBC_79': 1, 'GBC_1': 9, 'GBC_40': 1, 'GBC_105': 1, 'GBC_104': 1, 'GBC_118': 1, 'GBC_114': 2, 'GBC_113': 27, 'GBC_111': 26, 'BAGC_19': 1, 'BAGC_4': 1, 'GBC_19': 8, 'LR_36': 1}, 0.83483274038731958, 0.83348967916225469)\n",
      "Add model - GBC_110 - ensemble and score: ({'GBC_76': 2, 'GBC_22': 1, 'GBC_34': 1, 'GBC_79': 1, 'GBC_1': 9, 'GBC_40': 1, 'GBC_105': 1, 'GBC_104': 1, 'GBC_118': 1, 'GBC_114': 2, 'GBC_113': 27, 'GBC_110': 1, 'GBC_111': 26, 'BAGC_19': 1, 'BAGC_4': 1, 'GBC_19': 8, 'LR_36': 1}, 0.83486936801213596, 0.83304857255587195)\n",
      "Elminate models -- ensemble and score: ({'GBC_76': 2, 'GBC_22': 1, 'GBC_34': 1, 'GBC_79': 1, 'GBC_1': 9, 'GBC_40': 1, 'GBC_105': 1, 'GBC_104': 1, 'GBC_118': 1, 'GBC_114': 2, 'GBC_113': 27, 'GBC_110': 1, 'GBC_111': 26, 'BAGC_19': 1, 'BAGC_4': 1, 'GBC_19': 8, 'LR_36': 1}, 0.83486936801213596, 0.83304857255587195)\n",
      "Add model - GBC_115 - ensemble and score: ({'GBC_76': 2, 'GBC_22': 1, 'GBC_34': 1, 'GBC_79': 1, 'GBC_1': 9, 'GBC_40': 1, 'GBC_105': 1, 'GBC_104': 1, 'GBC_118': 1, 'GBC_114': 2, 'GBC_115': 1, 'GBC_113': 27, 'GBC_110': 1, 'GBC_111': 26, 'BAGC_19': 1, 'BAGC_4': 1, 'GBC_19': 8, 'LR_36': 1}, 0.83493897140036566, 0.83308682024792557)\n",
      "Elminate models -- ensemble and score: ({'GBC_76': 2, 'GBC_22': 1, 'GBC_34': 1, 'GBC_79': 1, 'GBC_1': 9, 'GBC_40': 1, 'GBC_105': 1, 'GBC_104': 1, 'GBC_118': 1, 'GBC_114': 2, 'GBC_115': 1, 'GBC_113': 27, 'GBC_110': 1, 'GBC_111': 26, 'BAGC_19': 1, 'BAGC_4': 1, 'GBC_19': 8, 'LR_36': 1}, 0.83493897140036566, 0.83308682024792557)\n",
      "Add model - BAGC_66 - ensemble and score: ({'GBC_76': 2, 'GBC_22': 1, 'GBC_34': 1, 'GBC_79': 1, 'GBC_1': 9, 'GBC_40': 1, 'GBC_105': 1, 'GBC_104': 1, 'GBC_118': 1, 'GBC_114': 2, 'GBC_115': 1, 'GBC_113': 27, 'GBC_110': 1, 'GBC_111': 26, 'BAGC_19': 1, 'BAGC_4': 1, 'BAGC_66': 1, 'GBC_19': 8, 'LR_36': 1}, 0.83499314976207295, 0.83339003385927257)\n",
      "Elminate models -- ensemble and score: ({'GBC_76': 2, 'GBC_22': 1, 'GBC_34': 1, 'GBC_79': 1, 'GBC_1': 9, 'GBC_40': 1, 'GBC_105': 1, 'GBC_104': 1, 'GBC_118': 1, 'GBC_114': 2, 'GBC_115': 1, 'GBC_113': 27, 'GBC_110': 1, 'GBC_111': 26, 'BAGC_19': 1, 'BAGC_4': 1, 'BAGC_66': 1, 'GBC_19': 8, 'LR_36': 1}, 0.83499314976207295, 0.83339003385927257)\n",
      "Add model - GBC_115 - ensemble and score: ({'GBC_76': 2, 'GBC_22': 1, 'GBC_34': 1, 'GBC_79': 1, 'GBC_1': 9, 'GBC_40': 1, 'GBC_105': 1, 'GBC_104': 1, 'GBC_118': 1, 'GBC_114': 2, 'GBC_115': 2, 'GBC_113': 27, 'GBC_110': 1, 'GBC_111': 26, 'BAGC_19': 1, 'BAGC_4': 1, 'BAGC_66': 1, 'GBC_19': 8, 'LR_36': 1}, 0.83500372380852306, 0.83339959578228617)\n",
      "Elminate models -- ensemble and score: ({'GBC_76': 2, 'GBC_22': 1, 'GBC_34': 1, 'GBC_79': 1, 'GBC_1': 9, 'GBC_105': 1, 'GBC_104': 1, 'GBC_118': 1, 'GBC_114': 2, 'GBC_115': 2, 'GBC_113': 27, 'GBC_110': 1, 'GBC_111': 26, 'BAGC_19': 1, 'BAGC_4': 1, 'BAGC_66': 1, 'GBC_19': 8, 'LR_36': 1}, 0.83501244467157454, 0.83345092821109501)\n",
      "Add model - GBC_117 - ensemble and score: ({'GBC_76': 2, 'GBC_22': 1, 'GBC_34': 1, 'GBC_79': 1, 'GBC_1': 9, 'GBC_105': 1, 'GBC_104': 1, 'GBC_118': 1, 'GBC_117': 1, 'GBC_114': 2, 'GBC_115': 2, 'GBC_113': 27, 'GBC_110': 1, 'GBC_111': 26, 'BAGC_19': 1, 'BAGC_4': 1, 'BAGC_66': 1, 'GBC_19': 8, 'LR_36': 1}, 0.83502661607403306, 0.83346401294785033)\n",
      "Elminate models -- ensemble and score: ({'GBC_76': 2, 'GBC_22': 1, 'GBC_34': 1, 'GBC_79': 1, 'GBC_1': 9, 'GBC_105': 1, 'GBC_104': 1, 'GBC_118': 1, 'GBC_117': 1, 'GBC_114': 2, 'GBC_115': 2, 'GBC_113': 27, 'GBC_110': 1, 'GBC_111': 26, 'BAGC_19': 1, 'BAGC_4': 1, 'BAGC_66': 1, 'GBC_19': 8, 'LR_36': 1}, 0.83502661607403306, 0.83346401294785033)\n",
      "Add model - GBC_117 - ensemble and score: ({'GBC_76': 2, 'GBC_22': 1, 'GBC_34': 1, 'GBC_79': 1, 'GBC_1': 9, 'GBC_105': 1, 'GBC_104': 1, 'GBC_118': 1, 'GBC_117': 2, 'GBC_114': 2, 'GBC_115': 2, 'GBC_113': 27, 'GBC_110': 1, 'GBC_111': 26, 'BAGC_19': 1, 'BAGC_4': 1, 'BAGC_66': 1, 'GBC_19': 8, 'LR_36': 1}, 0.83505108899597147, 0.83342526199669065)\n",
      "Elminate models -- ensemble and score: ({'GBC_76': 2, 'GBC_22': 1, 'GBC_34': 1, 'GBC_79': 1, 'GBC_1': 9, 'GBC_105': 1, 'GBC_104': 1, 'GBC_118': 1, 'GBC_117': 2, 'GBC_114': 2, 'GBC_115': 2, 'GBC_113': 27, 'GBC_110': 1, 'GBC_111': 26, 'BAGC_19': 1, 'BAGC_4': 1, 'BAGC_66': 1, 'GBC_19': 8, 'LR_36': 1}, 0.83505108899597147, 0.83342526199669065)\n",
      "Add model - GBC_26 - ensemble and score: ({'GBC_76': 2, 'GBC_22': 1, 'GBC_34': 1, 'GBC_79': 1, 'GBC_1': 9, 'GBC_26': 1, 'GBC_105': 1, 'GBC_104': 1, 'GBC_118': 1, 'GBC_117': 2, 'GBC_114': 2, 'GBC_115': 2, 'GBC_113': 27, 'GBC_110': 1, 'GBC_111': 26, 'BAGC_19': 1, 'BAGC_4': 1, 'BAGC_66': 1, 'GBC_19': 8, 'LR_36': 1}, 0.83507659752039709, 0.83337770401117628)\n",
      "Elminate models -- ensemble and score: ({'GBC_76': 2, 'GBC_22': 1, 'GBC_34': 1, 'GBC_79': 1, 'GBC_1': 9, 'GBC_26': 1, 'GBC_105': 1, 'GBC_104': 1, 'GBC_117': 2, 'GBC_114': 2, 'GBC_115': 2, 'GBC_113': 27, 'GBC_110': 1, 'GBC_111': 26, 'BAGC_19': 1, 'BAGC_4': 1, 'BAGC_66': 1, 'GBC_19': 8, 'LR_36': 1}, 0.83507910476852432, 0.83349295034644355)\n",
      "Add model - GBC_114 - ensemble and score: ({'GBC_76': 2, 'GBC_22': 1, 'GBC_34': 1, 'GBC_79': 1, 'GBC_1': 9, 'GBC_26': 1, 'GBC_105': 1, 'GBC_104': 1, 'GBC_117': 2, 'GBC_114': 3, 'GBC_115': 2, 'GBC_113': 27, 'GBC_110': 1, 'GBC_111': 26, 'BAGC_19': 1, 'BAGC_4': 1, 'BAGC_66': 1, 'GBC_19': 8, 'LR_36': 1}, 0.83509529287056372, 0.83351056441515237)\n",
      "Elminate models -- ensemble and score: ({'GBC_76': 2, 'GBC_22': 1, 'GBC_34': 1, 'GBC_79': 1, 'GBC_1': 9, 'GBC_26': 1, 'GBC_105': 1, 'GBC_104': 1, 'GBC_117': 2, 'GBC_114': 3, 'GBC_115': 2, 'GBC_113': 27, 'GBC_110': 1, 'GBC_111': 26, 'BAGC_19': 1, 'BAGC_4': 1, 'BAGC_66': 1, 'GBC_19': 8, 'LR_36': 1}, 0.83509529287056372, 0.83351056441515237)\n",
      "Add model - GBC_22 - ensemble and score: ({'GBC_76': 2, 'GBC_22': 2, 'GBC_34': 1, 'GBC_79': 1, 'GBC_1': 9, 'GBC_26': 1, 'GBC_105': 1, 'GBC_104': 1, 'GBC_117': 2, 'GBC_114': 3, 'GBC_115': 2, 'GBC_113': 27, 'GBC_110': 1, 'GBC_111': 26, 'BAGC_19': 1, 'BAGC_4': 1, 'BAGC_66': 1, 'GBC_19': 8, 'LR_36': 1}, 0.83510188802324625, 0.83359284727897864)\n",
      "Elminate models -- ensemble and score: ({'GBC_76': 2, 'GBC_22': 2, 'GBC_34': 1, 'GBC_79': 1, 'BAGC_66': 1, 'GBC_105': 1, 'GBC_104': 1, 'GBC_117': 2, 'GBC_114': 3, 'GBC_115': 2, 'GBC_113': 27, 'GBC_110': 1, 'BAGC_19': 1, 'BAGC_4': 1, 'GBC_19': 8, 'LR_36': 1}, 0.83515819209532249, 0.83207023685386572)\n",
      "Add model - GBC_114 - ensemble and score: ({'GBC_76': 2, 'GBC_22': 2, 'GBC_34': 1, 'GBC_79': 1, 'BAGC_66': 1, 'GBC_105': 1, 'GBC_104': 1, 'GBC_117': 2, 'GBC_114': 4, 'GBC_115': 2, 'GBC_113': 27, 'GBC_110': 1, 'BAGC_19': 1, 'BAGC_4': 1, 'GBC_19': 8, 'LR_36': 1}, 0.83518102985543863, 0.83211829809848581)\n",
      "Elminate models -- ensemble and score: ({'GBC_76': 2, 'GBC_22': 2, 'GBC_34': 1, 'GBC_79': 1, 'BAGC_66': 1, 'GBC_105': 1, 'GBC_104': 1, 'GBC_117': 2, 'GBC_114': 4, 'GBC_115': 2, 'GBC_113': 27, 'GBC_110': 1, 'BAGC_19': 1, 'BAGC_4': 1, 'GBC_19': 8, 'LR_36': 1}, 0.83518102985543863, 0.83211829809848581)\n",
      "Add model - GBC_111 - ensemble and score: ({'GBC_76': 2, 'GBC_22': 2, 'GBC_34': 1, 'GBC_79': 1, 'BAGC_66': 1, 'GBC_105': 1, 'GBC_104': 1, 'GBC_117': 2, 'GBC_114': 4, 'GBC_115': 2, 'GBC_113': 27, 'GBC_110': 1, 'GBC_111': 1, 'BAGC_19': 1, 'BAGC_4': 1, 'GBC_19': 8, 'LR_36': 1}, 0.8351822834795023, 0.83229292900825746)\n",
      "Elminate models -- ensemble and score: ({'GBC_76': 2, 'GBC_22': 2, 'GBC_34': 1, 'GBC_79': 1, 'BAGC_66': 1, 'GBC_105': 1, 'GBC_104': 1, 'GBC_117': 2, 'GBC_114': 4, 'GBC_115': 2, 'GBC_113': 27, 'GBC_110': 1, 'GBC_111': 1, 'BAGC_19': 1, 'BAGC_4': 1, 'GBC_19': 8, 'LR_36': 1}, 0.8351822834795023, 0.83229292900825746)\n",
      "Add model - GBC_111 - ensemble and score: ({'GBC_76': 2, 'GBC_22': 2, 'GBC_34': 1, 'GBC_79': 1, 'BAGC_66': 1, 'GBC_105': 1, 'GBC_104': 1, 'GBC_117': 2, 'GBC_114': 4, 'GBC_115': 2, 'GBC_113': 27, 'GBC_110': 1, 'GBC_111': 2, 'BAGC_19': 1, 'BAGC_4': 1, 'GBC_19': 8, 'LR_36': 1}, 0.83519231247201153, 0.83242780244865744)\n",
      "Elminate models -- ensemble and score: ({'GBC_76': 2, 'GBC_22': 2, 'GBC_34': 1, 'GBC_79': 1, 'BAGC_66': 1, 'GBC_105': 1, 'GBC_104': 1, 'GBC_117': 2, 'GBC_114': 4, 'GBC_115': 2, 'GBC_113': 27, 'GBC_110': 1, 'GBC_111': 2, 'BAGC_19': 1, 'BAGC_4': 1, 'GBC_19': 8, 'LR_36': 1}, 0.83519231247201153, 0.83242780244865744)\n",
      "Add model - GBC_115 - ensemble and score: ({'GBC_76': 2, 'GBC_22': 2, 'GBC_34': 1, 'GBC_79': 1, 'BAGC_66': 1, 'GBC_105': 1, 'GBC_104': 1, 'GBC_117': 2, 'GBC_114': 4, 'GBC_115': 3, 'GBC_113': 27, 'GBC_110': 1, 'GBC_111': 2, 'BAGC_19': 1, 'BAGC_4': 1, 'GBC_19': 8, 'LR_36': 1}, 0.83519454719316832, 0.8324763669523837)\n",
      "Elminate models -- ensemble and score: ({'GBC_76': 2, 'GBC_22': 2, 'GBC_34': 1, 'GBC_79': 1, 'BAGC_66': 1, 'GBC_105': 1, 'GBC_104': 1, 'GBC_117': 2, 'GBC_114': 4, 'GBC_115': 3, 'GBC_113': 27, 'GBC_110': 1, 'BAGC_19': 1, 'BAGC_4': 1, 'GBC_19': 8, 'LR_36': 1}, 0.8352063748636821, 0.83215780393830441)\n",
      "Add model - GBC_115 - ensemble and score: ({'GBC_76': 2, 'GBC_22': 2, 'GBC_34': 1, 'GBC_79': 1, 'BAGC_66': 1, 'GBC_105': 1, 'GBC_104': 1, 'GBC_117': 2, 'GBC_114': 4, 'GBC_115': 4, 'GBC_113': 27, 'GBC_110': 1, 'BAGC_19': 1, 'BAGC_4': 1, 'GBC_19': 8, 'LR_36': 1}, 0.83525668334241021, 0.83225895901860447)\n",
      "Elminate models -- ensemble and score: ({'GBC_76': 2, 'GBC_22': 2, 'GBC_34': 1, 'GBC_79': 1, 'BAGC_66': 1, 'GBC_105': 1, 'GBC_104': 1, 'GBC_117': 2, 'GBC_114': 4, 'GBC_115': 4, 'GBC_113': 27, 'GBC_110': 1, 'BAGC_19': 1, 'BAGC_4': 1, 'GBC_19': 8, 'LR_36': 1}, 0.83525668334241021, 0.83225895901860447)\n",
      "Add model - GBC_115 - ensemble and score: ({'GBC_76': 2, 'GBC_22': 2, 'GBC_34': 1, 'GBC_79': 1, 'BAGC_66': 1, 'GBC_105': 1, 'GBC_104': 1, 'GBC_117': 2, 'GBC_114': 4, 'GBC_115': 5, 'GBC_113': 27, 'GBC_110': 1, 'BAGC_19': 1, 'BAGC_4': 1, 'GBC_19': 8, 'LR_36': 1}, 0.83526720288346623, 0.83236464343085825)\n",
      "Elminate models -- ensemble and score: ({'GBC_76': 2, 'GBC_22': 2, 'GBC_34': 1, 'GBC_79': 1, 'BAGC_66': 1, 'GBC_105': 1, 'GBC_104': 1, 'GBC_117': 2, 'GBC_114': 4, 'GBC_115': 5, 'GBC_113': 27, 'GBC_110': 1, 'BAGC_19': 1, 'BAGC_4': 1, 'GBC_19': 8, 'LR_36': 1}, 0.83526720288346623, 0.83236464343085825)\n",
      "Add model - GBC_115 - ensemble and score: ({'GBC_76': 2, 'GBC_22': 2, 'GBC_34': 1, 'GBC_79': 1, 'BAGC_66': 1, 'GBC_105': 1, 'GBC_104': 1, 'GBC_117': 2, 'GBC_114': 4, 'GBC_115': 6, 'GBC_113': 27, 'GBC_110': 1, 'BAGC_19': 1, 'BAGC_4': 1, 'GBC_19': 8, 'LR_36': 1}, 0.83527347100378435, 0.83240037482738216)\n",
      "Elminate models -- ensemble and score: ({'GBC_76': 2, 'GBC_22': 2, 'GBC_34': 1, 'GBC_79': 1, 'BAGC_66': 1, 'GBC_105': 1, 'GBC_104': 1, 'GBC_117': 2, 'GBC_114': 4, 'GBC_115': 6, 'GBC_113': 27, 'GBC_110': 1, 'BAGC_19': 1, 'BAGC_4': 1, 'GBC_19': 8, 'LR_36': 1}, 0.83527347100378435, 0.83240037482738216)\n",
      "Add model - GBC_114 - ensemble and score: ({'GBC_76': 2, 'GBC_22': 2, 'GBC_34': 1, 'GBC_79': 1, 'BAGC_66': 1, 'GBC_105': 1, 'GBC_104': 1, 'GBC_117': 2, 'GBC_114': 5, 'GBC_115': 6, 'GBC_113': 27, 'GBC_110': 1, 'BAGC_19': 1, 'BAGC_4': 1, 'GBC_19': 8, 'LR_36': 1}, 0.83528780592242546, 0.83242729918955161)\n",
      "Elminate models -- ensemble and score: ({'GBC_76': 2, 'GBC_22': 2, 'GBC_105': 1, 'GBC_117': 2, 'GBC_114': 5, 'GBC_115': 6, 'GBC_113': 27, 'GBC_34': 1, 'GBC_79': 1, 'BAGC_19': 1, 'BAGC_4': 1, 'LR_36': 1}, 0.83537201675626638, 0.83259261980586263)\n",
      "Add model - GBC_115 - ensemble and score: ({'GBC_76': 2, 'GBC_115': 7, 'GBC_105': 1, 'GBC_117': 2, 'GBC_114': 5, 'GBC_22': 2, 'GBC_113': 27, 'GBC_34': 1, 'GBC_79': 1, 'BAGC_19': 1, 'BAGC_4': 1, 'LR_36': 1}, 0.8354000870342132, 0.83260671106082995)\n",
      "Elminate models -- ensemble and score: ({'GBC_76': 2, 'GBC_115': 7, 'GBC_105': 1, 'GBC_117': 2, 'GBC_114': 5, 'GBC_22': 2, 'GBC_113': 27, 'GBC_34': 1, 'GBC_79': 1, 'BAGC_19': 1, 'BAGC_4': 1, 'LR_36': 1}, 0.8354000870342132, 0.83260671106082995)\n",
      "Add model - GBC_114 - ensemble and score: ({'GBC_76': 2, 'GBC_115': 7, 'GBC_105': 1, 'GBC_117': 2, 'GBC_114': 6, 'GBC_22': 2, 'GBC_113': 27, 'GBC_34': 1, 'GBC_79': 1, 'BAGC_19': 1, 'BAGC_4': 1, 'LR_36': 1}, 0.83540068659354805, 0.83267842548343063)\n",
      "Elminate models -- ensemble and score: ({'GBC_76': 2, 'GBC_115': 7, 'GBC_105': 1, 'GBC_117': 2, 'GBC_114': 6, 'GBC_22': 2, 'GBC_113': 27, 'GBC_34': 1, 'GBC_79': 1, 'BAGC_19': 1, 'BAGC_4': 1, 'LR_36': 1}, 0.83540068659354805, 0.83267842548343063)\n",
      "Add model - GBC_114 - ensemble and score: ({'GBC_76': 2, 'GBC_115': 7, 'GBC_105': 1, 'GBC_117': 2, 'GBC_114': 7, 'GBC_22': 2, 'GBC_113': 27, 'GBC_34': 1, 'GBC_79': 1, 'BAGC_19': 1, 'BAGC_4': 1, 'LR_36': 1}, 0.83540134065827687, 0.83270685962291802)\n",
      "Elminate models -- ensemble and score: ({'GBC_76': 2, 'GBC_115': 7, 'GBC_105': 1, 'GBC_117': 2, 'GBC_114': 7, 'GBC_22': 2, 'GBC_113': 27, 'GBC_34': 1, 'GBC_79': 1, 'BAGC_19': 1, 'BAGC_4': 1, 'LR_36': 1}, 0.83540134065827687, 0.83270685962291802)\n",
      "Add model - GBC_117 - ensemble and score: ({'GBC_76': 2, 'GBC_115': 7, 'GBC_105': 1, 'GBC_117': 3, 'GBC_114': 7, 'GBC_22': 2, 'GBC_113': 27, 'GBC_34': 1, 'GBC_79': 1, 'BAGC_19': 1, 'BAGC_4': 1, 'LR_36': 1}, 0.835443800360259, 0.83273302909642843)\n",
      "Elminate models -- ensemble and score: ({'GBC_76': 2, 'GBC_115': 7, 'GBC_105': 1, 'GBC_117': 3, 'GBC_114': 7, 'GBC_22': 2, 'GBC_113': 27, 'GBC_34': 1, 'GBC_79': 1, 'BAGC_19': 1, 'BAGC_4': 1, 'LR_36': 1}, 0.835443800360259, 0.83273302909642843)\n",
      "Add model - GBC_79 - ensemble and score: ({'GBC_76': 2, 'GBC_115': 7, 'GBC_105': 1, 'GBC_117': 3, 'GBC_114': 7, 'GBC_22': 2, 'GBC_113': 27, 'GBC_34': 1, 'GBC_79': 2, 'BAGC_19': 1, 'BAGC_4': 1, 'LR_36': 1}, 0.83544472695195815, 0.83282638366058581)\n",
      "Elminate models -- ensemble and score: ({'GBC_76': 2, 'GBC_115': 7, 'GBC_105': 1, 'GBC_117': 3, 'GBC_114': 7, 'GBC_22': 2, 'GBC_113': 27, 'GBC_34': 1, 'GBC_79': 2, 'BAGC_19': 1, 'BAGC_4': 1, 'LR_36': 1}, 0.83544472695195815, 0.83282638366058581)\n",
      "Add model - GBC_117 - ensemble and score: ({'GBC_76': 2, 'GBC_115': 7, 'GBC_105': 1, 'GBC_117': 4, 'GBC_114': 7, 'GBC_22': 2, 'GBC_113': 27, 'GBC_34': 1, 'GBC_79': 2, 'BAGC_19': 1, 'BAGC_4': 1, 'LR_36': 1}, 0.83545884384902258, 0.83283342928806947)\n",
      "Elminate models -- ensemble and score: ({'GBC_76': 2, 'GBC_115': 7, 'GBC_105': 1, 'GBC_117': 4, 'GBC_114': 7, 'GBC_22': 2, 'GBC_113': 27, 'GBC_34': 1, 'GBC_79': 2, 'BAGC_19': 1, 'BAGC_4': 1, 'LR_36': 1}, 0.83545884384902258, 0.83283342928806947)\n",
      "Add model - GBC_79 - ensemble and score: ({'GBC_76': 2, 'GBC_115': 7, 'GBC_105': 1, 'GBC_117': 4, 'GBC_114': 7, 'GBC_22': 2, 'GBC_113': 27, 'GBC_34': 1, 'GBC_79': 3, 'BAGC_19': 1, 'BAGC_4': 1, 'LR_36': 1}, 0.83547247019754067, 0.8328568308364972)\n",
      "Elminate models -- ensemble and score: ({'GBC_76': 2, 'GBC_115': 7, 'GBC_105': 1, 'GBC_117': 4, 'GBC_114': 7, 'GBC_22': 2, 'GBC_113': 27, 'GBC_34': 1, 'GBC_79': 3, 'BAGC_19': 1, 'BAGC_4': 1, 'LR_36': 1}, 0.83547247019754067, 0.8328568308364972)\n",
      "Add model - GBC_117 - ensemble and score: ({'GBC_76': 2, 'GBC_115': 7, 'GBC_105': 1, 'GBC_117': 5, 'GBC_114': 7, 'GBC_22': 2, 'GBC_113': 27, 'GBC_34': 1, 'GBC_79': 3, 'BAGC_19': 1, 'BAGC_4': 1, 'LR_36': 1}, 0.83547492294027392, 0.83283292602896353)\n",
      "Elminate models -- ensemble and score: ({'GBC_76': 2, 'GBC_115': 7, 'GBC_105': 1, 'GBC_117': 5, 'GBC_114': 7, 'GBC_22': 2, 'GBC_113': 27, 'GBC_34': 1, 'GBC_79': 3, 'BAGC_19': 1, 'BAGC_4': 1, 'LR_36': 1}, 0.83547492294027392, 0.83283292602896353)\n",
      "Add model - GBC_117 - ensemble and score: ({'GBC_76': 2, 'GBC_115': 7, 'GBC_105': 1, 'GBC_117': 6, 'GBC_114': 7, 'GBC_22': 2, 'GBC_113': 27, 'GBC_34': 1, 'GBC_79': 3, 'BAGC_19': 1, 'BAGC_4': 1, 'LR_36': 1}, 0.83549672509790263, 0.83278385826613133)\n",
      "Elminate models -- ensemble and score: ({'GBC_76': 2, 'GBC_115': 7, 'GBC_105': 1, 'GBC_117': 6, 'GBC_114': 7, 'GBC_22': 2, 'GBC_113': 27, 'GBC_34': 1, 'GBC_79': 3, 'BAGC_19': 1, 'BAGC_4': 1, 'LR_36': 1}, 0.83549672509790263, 0.83278385826613133)\n",
      "Add model - GBC_74 - ensemble and score: ({'GBC_76': 2, 'GBC_74': 1, 'GBC_115': 7, 'GBC_105': 1, 'GBC_117': 6, 'GBC_114': 7, 'GBC_22': 2, 'GBC_113': 27, 'GBC_34': 1, 'GBC_79': 3, 'BAGC_19': 1, 'BAGC_4': 1, 'LR_36': 1}, 0.83551667407213293, 0.83286890905504041)\n",
      "Elminate models -- ensemble and score: ({'GBC_76': 2, 'GBC_74': 1, 'GBC_115': 7, 'GBC_105': 1, 'GBC_117': 6, 'GBC_114': 7, 'GBC_22': 2, 'GBC_113': 27, 'GBC_34': 1, 'GBC_79': 3, 'BAGC_19': 1, 'BAGC_4': 1, 'LR_36': 1}, 0.83551667407213293, 0.83286890905504041)\n",
      "Add model - GBC_74 - ensemble and score: ({'GBC_76': 2, 'GBC_74': 2, 'GBC_115': 7, 'GBC_105': 1, 'GBC_117': 6, 'GBC_114': 7, 'GBC_22': 2, 'GBC_113': 27, 'GBC_34': 1, 'GBC_79': 3, 'BAGC_19': 1, 'BAGC_4': 1, 'LR_36': 1}, 0.83552675757003614, 0.83289482689899785)\n",
      "Elminate models -- ensemble and score: ({'GBC_76': 2, 'GBC_74': 2, 'GBC_115': 7, 'GBC_105': 1, 'GBC_117': 6, 'GBC_114': 7, 'GBC_22': 2, 'GBC_113': 27, 'GBC_34': 1, 'GBC_79': 3, 'BAGC_19': 1, 'BAGC_4': 1, 'LR_36': 1}, 0.83552675757003614, 0.83289482689899785)\n",
      "Add model - GBC_74 - ensemble and score: ({'GBC_76': 2, 'GBC_74': 3, 'GBC_115': 7, 'GBC_105': 1, 'GBC_117': 6, 'GBC_114': 7, 'GBC_22': 2, 'GBC_113': 27, 'GBC_34': 1, 'GBC_79': 3, 'BAGC_19': 1, 'BAGC_4': 1, 'LR_36': 1}, 0.83556011487120818, 0.8330254226369973)\n",
      "Elminate models -- ensemble and score: ({'GBC_76': 2, 'GBC_74': 3, 'GBC_115': 7, 'GBC_105': 1, 'GBC_117': 6, 'GBC_114': 7, 'GBC_22': 2, 'GBC_113': 27, 'GBC_34': 1, 'GBC_79': 3, 'BAGC_19': 1, 'BAGC_4': 1, 'LR_36': 1}, 0.83556011487120818, 0.8330254226369973)\n",
      "Add model - GBC_114 - ensemble and score: ({'GBC_76': 2, 'GBC_74': 3, 'GBC_115': 7, 'GBC_105': 1, 'GBC_117': 6, 'GBC_114': 8, 'GBC_22': 2, 'GBC_113': 27, 'GBC_34': 1, 'GBC_79': 3, 'BAGC_19': 1, 'BAGC_4': 1, 'LR_36': 1}, 0.83556589244297974, 0.83304404322391812)\n",
      "Elminate models -- ensemble and score: ({'GBC_76': 2, 'GBC_74': 3, 'GBC_115': 7, 'GBC_105': 1, 'GBC_117': 6, 'GBC_114': 8, 'GBC_22': 2, 'GBC_113': 27, 'GBC_34': 1, 'GBC_79': 3, 'BAGC_19': 1, 'BAGC_4': 1, 'LR_36': 1}, 0.83556589244297974, 0.83304404322391812)\n",
      "Add model - GBC_115 - ensemble and score: ({'GBC_76': 2, 'GBC_74': 3, 'GBC_115': 8, 'GBC_105': 1, 'GBC_117': 6, 'GBC_114': 8, 'GBC_22': 2, 'GBC_113': 27, 'GBC_34': 1, 'GBC_79': 3, 'BAGC_19': 1, 'BAGC_4': 1, 'LR_36': 1}, 0.83558022736162063, 0.83301560908443073)\n",
      "Elminate models -- ensemble and score: ({'GBC_76': 2, 'GBC_74': 3, 'GBC_115': 8, 'GBC_105': 1, 'GBC_117': 6, 'GBC_114': 8, 'GBC_22': 2, 'GBC_113': 27, 'GBC_34': 1, 'GBC_79': 3, 'BAGC_19': 1, 'BAGC_4': 1, 'LR_36': 1}, 0.83558022736162063, 0.83301560908443073)\n",
      "Add model - GBC_74 - ensemble and score: ({'GBC_76': 2, 'GBC_74': 4, 'GBC_115': 8, 'GBC_105': 1, 'GBC_117': 6, 'GBC_114': 8, 'GBC_22': 2, 'GBC_113': 27, 'GBC_34': 1, 'GBC_79': 3, 'BAGC_19': 1, 'BAGC_4': 1, 'LR_36': 1}, 0.83558758558982027, 0.83306442521770996)\n",
      "Elminate models -- ensemble and score: ({'GBC_76': 2, 'GBC_74': 4, 'GBC_115': 8, 'GBC_105': 1, 'GBC_117': 6, 'GBC_114': 8, 'GBC_22': 2, 'GBC_113': 27, 'GBC_34': 1, 'GBC_79': 3, 'BAGC_19': 1, 'BAGC_4': 1, 'LR_36': 1}, 0.83558758558982027, 0.83306442521770996)\n",
      "Add model - GBC_117 - ensemble and score: ({'GBC_76': 2, 'GBC_74': 4, 'GBC_115': 8, 'GBC_105': 1, 'GBC_117': 7, 'GBC_114': 8, 'GBC_22': 2, 'GBC_113': 27, 'GBC_34': 1, 'GBC_79': 3, 'BAGC_19': 1, 'BAGC_4': 1, 'LR_36': 1}, 0.83559592491511336, 0.83304983070363681)\n",
      "Elminate models -- ensemble and score: ({'GBC_76': 2, 'GBC_74': 4, 'GBC_115': 8, 'GBC_105': 1, 'GBC_117': 7, 'GBC_114': 8, 'GBC_22': 2, 'GBC_113': 27, 'GBC_34': 1, 'GBC_79': 3, 'BAGC_19': 1, 'BAGC_4': 1, 'LR_36': 1}, 0.83559592491511336, 0.83304983070363681)\n",
      "Add model - GBC_107 - ensemble and score: ({'GBC_76': 2, 'GBC_74': 4, 'GBC_115': 8, 'GBC_105': 1, 'GBC_107': 1, 'GBC_117': 7, 'GBC_114': 8, 'GBC_22': 2, 'GBC_113': 27, 'GBC_34': 1, 'GBC_79': 3, 'BAGC_19': 1, 'BAGC_4': 1, 'LR_36': 1}, 0.83561216752254674, 0.83305813447888521)\n",
      "Elminate models -- ensemble and score: ({'GBC_76': 2, 'GBC_74': 4, 'GBC_115': 8, 'GBC_105': 1, 'GBC_107': 1, 'GBC_117': 7, 'GBC_114': 8, 'GBC_22': 2, 'GBC_113': 27, 'GBC_34': 1, 'GBC_79': 3, 'BAGC_19': 1, 'BAGC_4': 1, 'LR_36': 1}, 0.83561216752254674, 0.83305813447888521)\n",
      "Add model - GBC_76 - ensemble and score: ({'GBC_76': 3, 'GBC_74': 4, 'GBC_115': 8, 'GBC_105': 1, 'GBC_107': 1, 'GBC_117': 7, 'GBC_114': 8, 'GBC_22': 2, 'GBC_113': 27, 'GBC_34': 1, 'GBC_79': 3, 'BAGC_19': 1, 'BAGC_4': 1, 'LR_36': 1}, 0.83562595738724688, 0.8327003172545403)\n",
      "Elminate models -- ensemble and score: ({'GBC_76': 3, 'GBC_74': 4, 'GBC_115': 8, 'GBC_105': 1, 'GBC_117': 7, 'GBC_114': 8, 'GBC_22': 2, 'GBC_113': 27, 'GBC_34': 1, 'GBC_79': 3, 'BAGC_19': 1, 'BAGC_4': 1, 'LR_36': 1}, 0.83563533231502729, 0.83270887265934179)\n",
      "Add model - GBC_74 - ensemble and score: ({'GBC_76': 3, 'GBC_74': 5, 'GBC_115': 8, 'GBC_105': 1, 'GBC_117': 7, 'GBC_114': 8, 'GBC_22': 2, 'GBC_113': 27, 'GBC_34': 1, 'GBC_79': 3, 'BAGC_19': 1, 'BAGC_4': 1, 'LR_36': 1}, 0.83564345361874393, 0.8328135505533838)\n",
      "Elminate models -- ensemble and score: ({'GBC_76': 3, 'GBC_74': 5, 'GBC_115': 8, 'GBC_105': 1, 'GBC_117': 7, 'GBC_114': 8, 'GBC_22': 2, 'GBC_113': 27, 'GBC_34': 1, 'GBC_79': 3, 'BAGC_19': 1, 'BAGC_4': 1, 'LR_36': 1}, 0.83564345361874393, 0.8328135505533838)\n",
      "Add model - GBC_117 - ensemble and score: ({'GBC_76': 3, 'GBC_74': 5, 'GBC_115': 8, 'GBC_105': 1, 'GBC_117': 8, 'GBC_114': 8, 'GBC_22': 2, 'GBC_113': 27, 'GBC_34': 1, 'GBC_79': 3, 'BAGC_19': 1, 'BAGC_4': 1, 'LR_36': 1}, 0.8356604593016943, 0.83278260011836658)\n",
      "Elminate models -- ensemble and score: ({'GBC_76': 3, 'GBC_74': 5, 'GBC_115': 8, 'GBC_105': 1, 'GBC_117': 8, 'GBC_114': 8, 'GBC_22': 2, 'GBC_113': 27, 'GBC_34': 1, 'GBC_79': 3, 'BAGC_19': 1, 'BAGC_4': 1, 'LR_36': 1}, 0.8356604593016943, 0.83278260011836658)\n",
      "Add model - GBC_107 - ensemble and score: ({'GBC_76': 3, 'GBC_74': 5, 'GBC_115': 8, 'GBC_105': 1, 'GBC_107': 1, 'GBC_117': 8, 'GBC_114': 8, 'GBC_22': 2, 'GBC_113': 27, 'GBC_34': 1, 'GBC_79': 3, 'BAGC_19': 1, 'BAGC_4': 1, 'LR_36': 1}, 0.83566231248509282, 0.83274913338781953)\n",
      "Elminate models -- ensemble and score: ({'GBC_76': 3, 'GBC_74': 5, 'GBC_115': 8, 'GBC_105': 1, 'GBC_107': 1, 'GBC_117': 8, 'GBC_114': 8, 'GBC_22': 2, 'GBC_113': 27, 'GBC_34': 1, 'GBC_79': 3, 'BAGC_19': 1, 'BAGC_4': 1, 'LR_36': 1}, 0.83566231248509282, 0.83274913338781953)\n",
      "Add model - GBC_22 - ensemble and score: ({'GBC_76': 3, 'GBC_74': 5, 'GBC_115': 8, 'GBC_105': 1, 'GBC_107': 1, 'GBC_117': 8, 'GBC_114': 8, 'GBC_22': 3, 'GBC_113': 27, 'GBC_34': 1, 'GBC_79': 3, 'BAGC_19': 1, 'BAGC_4': 1, 'LR_36': 1}, 0.83567675641452188, 0.83283670047225833)\n",
      "Elminate models -- ensemble and score: ({'GBC_76': 3, 'GBC_74': 5, 'GBC_115': 8, 'GBC_105': 1, 'GBC_107': 1, 'GBC_117': 8, 'GBC_114': 8, 'GBC_22': 3, 'GBC_113': 27, 'GBC_34': 1, 'GBC_79': 3, 'BAGC_19': 1, 'BAGC_4': 1, 'LR_36': 1}, 0.83567675641452188, 0.83283670047225833)\n",
      "Add model - GBC_34 - ensemble and score: ({'GBC_76': 3, 'GBC_74': 5, 'GBC_115': 8, 'GBC_105': 1, 'GBC_107': 1, 'GBC_117': 8, 'GBC_114': 8, 'GBC_22': 3, 'GBC_113': 27, 'GBC_34': 2, 'GBC_79': 3, 'BAGC_19': 1, 'BAGC_4': 1, 'LR_36': 1}, 0.83578734785909359, 0.83281128588740672)\n",
      "Elminate models -- ensemble and score: ({'GBC_76': 3, 'GBC_74': 5, 'GBC_115': 8, 'GBC_105': 1, 'GBC_117': 8, 'GBC_114': 8, 'GBC_22': 3, 'GBC_113': 27, 'GBC_34': 2, 'GBC_79': 3, 'BAGC_19': 1, 'BAGC_4': 1, 'LR_36': 1}, 0.83579116323667857, 0.83279417507780396)\n",
      "Add model - GBC_79 - ensemble and score: ({'GBC_76': 3, 'GBC_74': 5, 'GBC_115': 8, 'GBC_105': 1, 'GBC_117': 8, 'GBC_114': 8, 'GBC_22': 3, 'GBC_113': 27, 'GBC_34': 2, 'GBC_79': 4, 'BAGC_19': 1, 'BAGC_4': 1, 'LR_36': 1}, 0.83579759487317906, 0.83278234848881361)\n",
      "Elminate models -- ensemble and score: ({'GBC_76': 3, 'GBC_74': 5, 'GBC_115': 8, 'GBC_105': 1, 'GBC_117': 8, 'GBC_114': 8, 'GBC_22': 3, 'GBC_113': 27, 'GBC_34': 2, 'GBC_79': 4, 'BAGC_19': 1, 'BAGC_4': 1, 'LR_36': 1}, 0.83579759487317906, 0.83278234848881361)\n",
      "Add model - GBC_34 - ensemble and score: ({'GBC_76': 3, 'GBC_74': 5, 'GBC_115': 8, 'GBC_105': 1, 'GBC_117': 8, 'GBC_114': 8, 'GBC_22': 3, 'GBC_113': 27, 'GBC_34': 3, 'GBC_79': 4, 'BAGC_19': 1, 'BAGC_4': 1, 'LR_36': 1}, 0.83586300134606517, 0.8326749026696888)\n",
      "Elminate models -- ensemble and score: ({'GBC_76': 3, 'GBC_74': 5, 'GBC_115': 8, 'GBC_105': 1, 'GBC_117': 8, 'GBC_114': 8, 'GBC_22': 3, 'GBC_113': 27, 'GBC_34': 3, 'GBC_79': 4, 'BAGC_19': 1, 'BAGC_4': 1, 'LR_36': 1}, 0.83586300134606517, 0.8326749026696888)\n",
      "Add model - GBC_115 - ensemble and score: ({'GBC_76': 3, 'GBC_74': 5, 'GBC_115': 9, 'GBC_105': 1, 'GBC_117': 8, 'GBC_114': 8, 'GBC_22': 3, 'GBC_113': 27, 'GBC_34': 3, 'GBC_79': 4, 'BAGC_19': 1, 'BAGC_4': 1, 'LR_36': 1}, 0.83586638068049768, 0.83266961844907628)\n",
      "Elminate models -- ensemble and score: ({'GBC_76': 3, 'GBC_74': 5, 'GBC_115': 9, 'GBC_105': 1, 'GBC_117': 8, 'GBC_114': 8, 'GBC_22': 3, 'GBC_113': 27, 'GBC_34': 3, 'GBC_79': 4, 'BAGC_19': 1, 'BAGC_4': 1, 'LR_36': 1}, 0.83586638068049768, 0.83266961844907628)\n",
      "Add model - GBC_115 - ensemble and score: ({'GBC_76': 3, 'GBC_74': 5, 'GBC_115': 10, 'GBC_105': 1, 'GBC_117': 8, 'GBC_114': 8, 'GBC_22': 3, 'GBC_113': 27, 'GBC_34': 3, 'GBC_79': 4, 'BAGC_19': 1, 'BAGC_4': 1, 'LR_36': 1}, 0.83587221275766332, 0.83268748414733817)\n",
      "Elminate models -- ensemble and score: ({'GBC_76': 3, 'GBC_74': 5, 'GBC_115': 10, 'GBC_105': 1, 'GBC_117': 8, 'GBC_114': 8, 'GBC_22': 3, 'GBC_113': 27, 'GBC_34': 3, 'GBC_79': 4, 'BAGC_19': 1, 'BAGC_4': 1, 'LR_36': 1}, 0.83587221275766332, 0.83268748414733817)\n",
      "Add model - GBC_34 - ensemble and score: ({'GBC_76': 3, 'GBC_74': 5, 'GBC_115': 10, 'GBC_105': 1, 'GBC_117': 8, 'GBC_114': 8, 'GBC_22': 3, 'GBC_113': 27, 'GBC_34': 4, 'GBC_79': 4, 'BAGC_19': 1, 'BAGC_4': 1, 'LR_36': 1}, 0.8358888914082494, 0.83258406440106114)\n",
      "Elminate models -- ensemble and score: ({'GBC_76': 3, 'GBC_74': 5, 'GBC_115': 10, 'GBC_105': 1, 'GBC_117': 8, 'GBC_114': 8, 'GBC_22': 3, 'GBC_113': 27, 'GBC_34': 4, 'GBC_79': 4, 'BAGC_19': 1, 'BAGC_4': 1, 'LR_36': 1}, 0.8358888914082494, 0.83258406440106114)\n",
      "Add model - GBC_22 - ensemble and score: ({'GBC_76': 3, 'GBC_74': 5, 'GBC_115': 10, 'GBC_105': 1, 'GBC_117': 8, 'GBC_114': 8, 'GBC_22': 4, 'GBC_113': 27, 'GBC_34': 4, 'GBC_79': 4, 'BAGC_19': 1, 'BAGC_4': 1, 'LR_36': 1}, 0.83591014851193735, 0.83260897572680681)\n",
      "Elminate models -- ensemble and score: ({'GBC_76': 3, 'GBC_74': 5, 'GBC_115': 10, 'GBC_105': 1, 'GBC_117': 8, 'GBC_114': 8, 'GBC_22': 4, 'GBC_113': 27, 'GBC_34': 4, 'GBC_79': 4, 'BAGC_19': 1, 'BAGC_4': 1, 'LR_36': 1}, 0.83591014851193735, 0.83260897572680681)\n",
      "Add model - ETC_209 - ensemble and score: ({'GBC_76': 3, 'GBC_74': 5, 'GBC_115': 10, 'GBC_105': 1, 'GBC_117': 8, 'GBC_114': 8, 'GBC_22': 4, 'GBC_113': 27, 'GBC_34': 4, 'GBC_79': 4, 'BAGC_19': 1, 'BAGC_4': 1, 'LR_36': 1, 'ETC_209': 1}, 0.83591053004969584, 0.83357800113535263)\n",
      "Elminate models -- ensemble and score: ({'GBC_76': 3, 'GBC_74': 5, 'GBC_105': 1, 'GBC_117': 8, 'GBC_114': 8, 'GBC_115': 10, 'GBC_113': 27, 'GBC_34': 4, 'GBC_79': 4, 'BAGC_19': 1, 'BAGC_4': 1, 'LR_36': 1, 'ETC_209': 1}, 0.83592295727954424, 0.83346954879801605)\n",
      "Add model - GBC_114 - ensemble and score: ({'GBC_76': 3, 'GBC_74': 5, 'GBC_105': 1, 'GBC_117': 8, 'GBC_114': 9, 'GBC_115': 10, 'GBC_113': 27, 'GBC_34': 4, 'GBC_79': 4, 'BAGC_19': 1, 'BAGC_4': 1, 'ETC_209': 1, 'LR_36': 1}, 0.83593778274673181, 0.83355661262334868)\n",
      "Elminate models -- ensemble and score: ({'GBC_76': 3, 'GBC_74': 5, 'GBC_105': 1, 'GBC_117': 8, 'GBC_114': 9, 'GBC_115': 10, 'GBC_113': 27, 'GBC_34': 4, 'GBC_79': 4, 'BAGC_19': 1, 'BAGC_4': 1, 'ETC_209': 1, 'LR_36': 1}, 0.83593778274673181, 0.83355661262334868)\n",
      "Add model - GBC_114 - ensemble and score: ({'GBC_76': 3, 'GBC_74': 5, 'GBC_105': 1, 'GBC_117': 8, 'GBC_114': 10, 'GBC_115': 10, 'GBC_113': 27, 'GBC_34': 4, 'GBC_79': 4, 'BAGC_19': 1, 'BAGC_4': 1, 'LR_36': 1, 'ETC_209': 1}, 0.83594465042638488, 0.83357045224876292)\n",
      "Elminate models -- ensemble and score: ({'GBC_76': 3, 'GBC_74': 5, 'GBC_105': 1, 'GBC_117': 8, 'GBC_114': 10, 'GBC_115': 10, 'GBC_113': 27, 'GBC_34': 4, 'GBC_79': 4, 'BAGC_19': 1, 'BAGC_4': 1, 'LR_36': 1, 'ETC_209': 1}, 0.83594465042638488, 0.83357045224876292)\n",
      "Add model - GBC_107 - ensemble and score: ({'GBC_76': 3, 'GBC_74': 5, 'GBC_105': 1, 'GBC_107': 1, 'GBC_117': 8, 'GBC_114': 10, 'GBC_115': 10, 'GBC_113': 27, 'GBC_34': 4, 'GBC_79': 4, 'BAGC_19': 1, 'BAGC_4': 1, 'ETC_209': 1, 'LR_36': 1}, 0.83594748470687652, 0.83364191504181084)\n",
      "Elminate models -- ensemble and score: ({'GBC_76': 3, 'GBC_74': 5, 'GBC_105': 1, 'GBC_117': 8, 'GBC_114': 10, 'GBC_115': 10, 'GBC_113': 27, 'GBC_34': 4, 'GBC_79': 4, 'BAGC_19': 1, 'BAGC_4': 1, 'ETC_209': 1, 'LR_36': 1}, 0.83595222667616087, 0.83357322017384572)\n",
      "Add model - GBC_98 - ensemble and score: ({'GBC_76': 3, 'GBC_74': 5, 'GBC_98': 1, 'GBC_117': 8, 'GBC_114': 10, 'GBC_115': 10, 'GBC_113': 27, 'GBC_34': 4, 'GBC_79': 4, 'BAGC_19': 1, 'BAGC_4': 1, 'GBC_105': 1, 'LR_36': 1, 'ETC_209': 1}, 0.83597141257487406, 0.83352641707699049)\n",
      "Elminate models -- ensemble and score: ({'GBC_76': 3, 'GBC_74': 5, 'GBC_98': 1, 'GBC_117': 8, 'GBC_114': 10, 'GBC_115': 10, 'GBC_113': 27, 'GBC_34': 4, 'GBC_79': 4, 'BAGC_19': 1, 'BAGC_4': 1, 'GBC_105': 1, 'LR_36': 1, 'ETC_209': 1}, 0.83597141257487406, 0.83352641707699049)\n",
      "Add model - GBC_105 - ensemble and score: ({'GBC_76': 3, 'GBC_74': 5, 'GBC_105': 2, 'GBC_117': 8, 'GBC_114': 10, 'GBC_115': 10, 'GBC_113': 27, 'GBC_34': 4, 'GBC_79': 4, 'BAGC_19': 1, 'BAGC_4': 1, 'GBC_98': 1, 'ETC_209': 1, 'LR_36': 1}, 0.83599921032585067, 0.83306165729262716)\n",
      "Elminate models -- ensemble and score: ({'GBC_76': 3, 'GBC_74': 5, 'GBC_105': 2, 'GBC_117': 8, 'GBC_114': 10, 'GBC_115': 10, 'GBC_113': 27, 'GBC_34': 4, 'GBC_79': 4, 'BAGC_19': 1, 'BAGC_4': 1, 'GBC_98': 1, 'ETC_209': 1, 'LR_36': 1}, 0.83599921032585067, 0.83306165729262716)\n",
      "Add model - GBC_114 - ensemble and score: ({'GBC_76': 3, 'GBC_74': 5, 'GBC_98': 1, 'GBC_117': 8, 'GBC_114': 11, 'GBC_115': 10, 'GBC_113': 27, 'GBC_34': 4, 'GBC_79': 4, 'BAGC_19': 1, 'BAGC_4': 1, 'GBC_105': 2, 'LR_36': 1, 'ETC_209': 1}, 0.83601463535237308, 0.83307172247474648)\n",
      "Elminate models -- ensemble and score: ({'GBC_76': 3, 'GBC_74': 5, 'GBC_98': 1, 'GBC_117': 8, 'GBC_114': 11, 'GBC_115': 10, 'GBC_113': 27, 'GBC_34': 4, 'GBC_79': 4, 'BAGC_19': 1, 'BAGC_4': 1, 'GBC_105': 2, 'LR_36': 1, 'ETC_209': 1}, 0.83601463535237308, 0.83307172247474648)\n",
      "Add model - GBC_98 - ensemble and score: ({'GBC_76': 3, 'GBC_74': 5, 'GBC_105': 2, 'GBC_117': 8, 'GBC_114': 11, 'GBC_115': 10, 'GBC_113': 27, 'GBC_34': 4, 'GBC_79': 4, 'BAGC_19': 1, 'BAGC_4': 1, 'GBC_98': 2, 'ETC_209': 1, 'LR_36': 1}, 0.83603512938054403, 0.83299271079510917)\n",
      "Elminate models -- ensemble and score: ({'GBC_76': 3, 'GBC_74': 5, 'GBC_105': 2, 'GBC_117': 8, 'GBC_114': 11, 'GBC_115': 10, 'GBC_113': 27, 'GBC_34': 4, 'GBC_79': 4, 'BAGC_19': 1, 'BAGC_4': 1, 'GBC_98': 2, 'ETC_209': 1, 'LR_36': 1}, 0.83603512938054403, 0.83299271079510917)\n",
      "Add model - GBC_111 - ensemble and score: ({'GBC_76': 3, 'LR_36': 1, 'GBC_74': 5, 'GBC_98': 2, 'GBC_117': 8, 'GBC_114': 11, 'GBC_115': 10, 'GBC_113': 27, 'GBC_34': 4, 'GBC_79': 4, 'BAGC_19': 1, 'BAGC_4': 1, 'GBC_105': 2, 'GBC_111': 1, 'ETC_209': 1}, 0.83604297815729045, 0.83309059469122038)\n",
      "Elminate models -- ensemble and score: ({'GBC_76': 3, 'GBC_74': 5, 'GBC_98': 2, 'GBC_117': 8, 'GBC_114': 11, 'GBC_115': 10, 'GBC_113': 27, 'GBC_34': 4, 'GBC_79': 4, 'BAGC_19': 1, 'BAGC_4': 1, 'GBC_105': 2, 'LR_36': 1, 'ETC_209': 1}, 0.83605060891246052, 0.83298818146315545)\n",
      "Add model - GBC_79 - ensemble and score: ({'GBC_76': 3, 'GBC_74': 5, 'GBC_105': 2, 'GBC_117': 8, 'GBC_114': 11, 'GBC_115': 10, 'GBC_113': 27, 'GBC_34': 4, 'GBC_79': 5, 'BAGC_19': 1, 'BAGC_4': 1, 'GBC_98': 2, 'ETC_209': 1, 'LR_36': 1}, 0.83605284363361732, 0.83306392195860401)\n",
      "Elminate models -- ensemble and score: ({'GBC_76': 3, 'GBC_74': 5, 'GBC_105': 2, 'GBC_117': 8, 'GBC_114': 11, 'GBC_115': 10, 'GBC_113': 27, 'GBC_34': 4, 'GBC_79': 5, 'BAGC_19': 1, 'BAGC_4': 1, 'GBC_98': 2, 'ETC_209': 1, 'LR_36': 1}, 0.83605284363361732, 0.83306392195860401)\n",
      "Add model - GBC_107 - ensemble and score: ({'GBC_76': 3, 'GBC_74': 5, 'GBC_98': 2, 'GBC_107': 1, 'GBC_117': 8, 'GBC_114': 11, 'GBC_115': 10, 'GBC_113': 27, 'GBC_34': 4, 'GBC_79': 5, 'BAGC_19': 1, 'BAGC_4': 1, 'GBC_105': 2, 'LR_36': 1, 'ETC_209': 1}, 0.83605622296804971, 0.83310946690769427)\n",
      "Elminate models -- ensemble and score: ({'GBC_76': 3, 'GBC_74': 5, 'GBC_98': 2, 'GBC_107': 1, 'GBC_117': 8, 'GBC_114': 11, 'GBC_115': 10, 'GBC_113': 27, 'GBC_34': 4, 'GBC_79': 5, 'BAGC_19': 1, 'BAGC_4': 1, 'GBC_105': 2, 'LR_36': 1, 'ETC_209': 1}, 0.83605622296804971, 0.83310946690769427)\n",
      "Add model - GBC_79 - ensemble and score: ({'GBC_76': 3, 'GBC_74': 5, 'GBC_98': 2, 'GBC_107': 1, 'GBC_117': 8, 'GBC_114': 11, 'GBC_115': 10, 'GBC_113': 27, 'GBC_34': 4, 'GBC_79': 6, 'BAGC_19': 1, 'BAGC_4': 1, 'GBC_105': 2, 'ETC_209': 1, 'LR_36': 1}, 0.83605753109750747, 0.83313312008567486)\n",
      "Elminate models -- ensemble and score: ({'GBC_76': 3, 'GBC_74': 5, 'GBC_98': 2, 'GBC_117': 8, 'GBC_114': 11, 'GBC_115': 10, 'GBC_113': 27, 'GBC_34': 4, 'GBC_79': 6, 'BAGC_19': 1, 'BAGC_4': 1, 'GBC_105': 2, 'ETC_209': 1, 'LR_36': 1}, 0.83605911175393566, 0.83310644735305839)\n",
      "Add model - GBC_113 - ensemble and score: ({'GBC_76': 3, 'GBC_74': 5, 'GBC_105': 2, 'GBC_117': 8, 'GBC_114': 11, 'GBC_115': 10, 'GBC_113': 28, 'GBC_34': 4, 'GBC_79': 6, 'BAGC_19': 1, 'BAGC_4': 1, 'GBC_98': 2, 'LR_36': 1, 'ETC_209': 1}, 0.83606608844437691, 0.83312632608774417)\n",
      "Elminate models -- ensemble and score: ({'GBC_76': 3, 'GBC_74': 5, 'GBC_105': 2, 'GBC_117': 8, 'GBC_114': 11, 'GBC_115': 10, 'GBC_113': 28, 'GBC_34': 4, 'GBC_79': 6, 'BAGC_19': 1, 'BAGC_4': 1, 'GBC_98': 2, 'LR_36': 1, 'ETC_209': 1}, 0.83606608844437691, 0.83312632608774417)\n",
      "Add model - GBC_79 - ensemble and score: ({'GBC_76': 3, 'GBC_74': 5, 'GBC_98': 2, 'GBC_117': 8, 'GBC_114': 11, 'GBC_115': 10, 'GBC_113': 28, 'GBC_34': 4, 'GBC_79': 7, 'BAGC_19': 1, 'BAGC_4': 1, 'GBC_105': 2, 'ETC_209': 1, 'LR_36': 1}, 0.83606636097134723, 0.83313010053103909)\n",
      "Elminate models -- ensemble and score: ({'GBC_76': 3, 'GBC_74': 5, 'GBC_98': 2, 'GBC_117': 8, 'GBC_114': 11, 'GBC_115': 10, 'GBC_113': 28, 'GBC_34': 4, 'GBC_79': 7, 'BAGC_19': 1, 'BAGC_4': 1, 'GBC_105': 2, 'ETC_209': 1, 'LR_36': 1}, 0.83606636097134723, 0.83313010053103909)\n",
      "Add model - GBC_114 - ensemble and score: ({'GBC_76': 3, 'GBC_74': 5, 'GBC_105': 2, 'GBC_117': 8, 'GBC_114': 12, 'GBC_115': 10, 'GBC_113': 28, 'GBC_34': 4, 'GBC_79': 7, 'BAGC_19': 1, 'BAGC_4': 1, 'GBC_98': 2, 'LR_36': 1, 'ETC_209': 1}, 0.83607290161863579, 0.83317539385057626)\n",
      "Elminate models -- ensemble and score: ({'GBC_76': 3, 'GBC_74': 5, 'GBC_105': 2, 'GBC_117': 8, 'GBC_114': 12, 'GBC_115': 10, 'GBC_113': 28, 'GBC_34': 4, 'GBC_79': 7, 'BAGC_19': 1, 'BAGC_4': 1, 'GBC_98': 2, 'LR_36': 1, 'ETC_209': 1}, 0.83607290161863579, 0.83317539385057626)\n",
      "Add model - GBC_73 - ensemble and score: ({'GBC_76': 3, 'GBC_74': 5, 'GBC_98': 2, 'GBC_73': 1, 'GBC_117': 8, 'GBC_114': 12, 'GBC_115': 10, 'GBC_113': 28, 'GBC_34': 4, 'GBC_79': 7, 'BAGC_19': 1, 'BAGC_4': 1, 'GBC_105': 2, 'ETC_209': 1, 'LR_36': 1}, 0.83608244006259835, 0.83321414480173606)\n",
      "Elminate models -- ensemble and score: ({'GBC_76': 3, 'GBC_74': 5, 'GBC_98': 2, 'GBC_73': 1, 'GBC_117': 8, 'GBC_114': 12, 'GBC_115': 10, 'GBC_113': 28, 'GBC_34': 4, 'GBC_79': 7, 'BAGC_19': 1, 'BAGC_4': 1, 'GBC_105': 2, 'ETC_209': 1, 'LR_36': 1}, 0.83608244006259835, 0.83321414480173606)\n",
      "Add model - GBC_34 - ensemble and score: ({'GBC_76': 3, 'GBC_74': 5, 'GBC_98': 2, 'GBC_73': 1, 'GBC_117': 8, 'GBC_114': 12, 'GBC_115': 10, 'GBC_113': 28, 'GBC_34': 5, 'GBC_79': 7, 'BAGC_19': 1, 'BAGC_4': 1, 'GBC_105': 2, 'ETC_209': 1, 'LR_36': 1}, 0.83610631342520181, 0.83316205748426808)\n",
      "Elminate models -- ensemble and score: ({'GBC_76': 3, 'GBC_74': 5, 'GBC_98': 2, 'GBC_73': 1, 'GBC_117': 8, 'GBC_114': 12, 'GBC_115': 10, 'GBC_113': 28, 'GBC_34': 5, 'GBC_79': 7, 'BAGC_19': 1, 'BAGC_4': 1, 'GBC_105': 2, 'ETC_209': 1, 'LR_36': 1}, 0.83610631342520181, 0.83316205748426808)\n",
      "Add model - GBC_74 - ensemble and score: ({'GBC_76': 3, 'GBC_74': 6, 'GBC_98': 2, 'GBC_73': 1, 'GBC_117': 8, 'GBC_114': 12, 'GBC_115': 10, 'GBC_113': 28, 'GBC_34': 5, 'GBC_79': 7, 'BAGC_19': 1, 'BAGC_4': 1, 'GBC_105': 2, 'ETC_209': 1, 'LR_36': 1}, 0.83611928570899097, 0.83321263502441822)\n",
      "Elminate models -- ensemble and score: ({'GBC_76': 3, 'GBC_74': 6, 'GBC_98': 2, 'GBC_73': 1, 'GBC_117': 8, 'GBC_114': 12, 'GBC_115': 10, 'GBC_113': 28, 'GBC_34': 5, 'GBC_79': 7, 'BAGC_19': 1, 'BAGC_4': 1, 'GBC_105': 2, 'ETC_209': 1, 'LR_36': 1}, 0.83611928570899097, 0.83321263502441822)\n",
      "Add model - GBC_73 - ensemble and score: ({'GBC_76': 3, 'GBC_74': 6, 'GBC_98': 2, 'GBC_73': 2, 'GBC_117': 8, 'GBC_114': 12, 'GBC_115': 10, 'GBC_113': 28, 'GBC_34': 5, 'GBC_79': 7, 'BAGC_19': 1, 'BAGC_4': 1, 'GBC_105': 2, 'ETC_209': 1, 'LR_36': 1}, 0.83612315559197004, 0.8332428305707763)\n",
      "Elminate models -- ensemble and score: ({'GBC_76': 3, 'GBC_74': 6, 'GBC_98': 2, 'GBC_73': 2, 'GBC_117': 8, 'GBC_114': 12, 'GBC_115': 10, 'GBC_113': 28, 'GBC_34': 5, 'GBC_79': 7, 'BAGC_19': 1, 'BAGC_4': 1, 'GBC_105': 2, 'ETC_209': 1, 'LR_36': 1}, 0.83612315559197004, 0.8332428305707763)\n",
      "Add model - KNN_52 - ensemble and score: ({'GBC_76': 3, 'GBC_74': 6, 'GBC_73': 2, 'GBC_34': 5, 'GBC_79': 7, 'KNN_52': 1, 'GBC_105': 2, 'GBC_98': 2, 'GBC_117': 8, 'GBC_114': 12, 'GBC_115': 10, 'GBC_113': 28, 'BAGC_19': 1, 'BAGC_4': 1, 'ETC_209': 1, 'LR_36': 1}, 0.83612926019610601, 0.83313890756539344)\n",
      "Elminate models -- ensemble and score: ({'GBC_76': 3, 'GBC_74': 6, 'GBC_73': 2, 'GBC_34': 5, 'GBC_79': 7, 'KNN_52': 1, 'GBC_105': 2, 'GBC_98': 2, 'GBC_117': 8, 'GBC_114': 12, 'GBC_115': 10, 'GBC_113': 28, 'BAGC_19': 1, 'BAGC_4': 1, 'ETC_209': 1, 'LR_36': 1}, 0.83612926019610601, 0.83313890756539344)\n",
      "Add model - LR_36 - ensemble and score: ({'GBC_76': 3, 'GBC_74': 6, 'GBC_73': 2, 'GBC_34': 5, 'GBC_79': 7, 'KNN_52': 1, 'GBC_105': 2, 'GBC_98': 2, 'GBC_117': 8, 'GBC_114': 12, 'GBC_115': 10, 'GBC_113': 28, 'BAGC_19': 1, 'BAGC_4': 1, 'ETC_209': 1, 'LR_36': 2}, 0.83643045700374696, 0.83354654744122936)\n",
      "Elminate models -- ensemble and score: ({'GBC_76': 3, 'GBC_74': 6, 'GBC_73': 2, 'GBC_34': 5, 'GBC_79': 7, 'KNN_52': 1, 'GBC_105': 2, 'GBC_98': 2, 'GBC_117': 8, 'GBC_114': 12, 'GBC_115': 10, 'GBC_113': 28, 'BAGC_19': 1, 'BAGC_4': 1, 'ETC_209': 1, 'LR_36': 2}, 0.83643045700374696, 0.83354654744122936)\n",
      "Add model - GBC_115 - ensemble and score: ({'GBC_76': 3, 'GBC_74': 6, 'GBC_73': 2, 'GBC_34': 5, 'GBC_79': 7, 'KNN_52': 1, 'GBC_105': 2, 'GBC_98': 2, 'GBC_117': 8, 'GBC_114': 12, 'GBC_115': 11, 'GBC_113': 28, 'BAGC_19': 1, 'BAGC_4': 1, 'ETC_209': 1, 'LR_36': 2}, 0.83645225916137567, 0.83356441313949137)\n",
      "Elminate models -- ensemble and score: ({'GBC_76': 3, 'GBC_74': 6, 'GBC_73': 2, 'GBC_34': 5, 'GBC_79': 7, 'KNN_52': 1, 'GBC_105': 2, 'GBC_98': 2, 'GBC_117': 8, 'GBC_114': 12, 'GBC_115': 11, 'GBC_113': 28, 'BAGC_19': 1, 'BAGC_4': 1, 'ETC_209': 1, 'LR_36': 2}, 0.83645225916137567, 0.83356441313949137)\n",
      "Add model - GBC_120 - ensemble and score: ({'GBC_76': 3, 'GBC_74': 6, 'GBC_73': 2, 'GBC_34': 5, 'GBC_79': 7, 'KNN_52': 1, 'GBC_105': 2, 'GBC_98': 2, 'GBC_120': 1, 'GBC_117': 8, 'GBC_114': 12, 'GBC_115': 11, 'GBC_113': 28, 'BAGC_19': 1, 'BAGC_4': 1, 'ETC_209': 1, 'LR_36': 2}, 0.83645438487174451, 0.83330447981125755)\n",
      "Elminate models -- ensemble and score: ({'GBC_76': 3, 'GBC_74': 6, 'GBC_73': 2, 'GBC_34': 5, 'GBC_79': 7, 'KNN_52': 1, 'GBC_105': 2, 'GBC_98': 2, 'GBC_120': 1, 'GBC_117': 8, 'GBC_114': 12, 'GBC_115': 11, 'GBC_113': 28, 'BAGC_19': 1, 'BAGC_4': 1, 'ETC_209': 1, 'LR_36': 2}, 0.83645438487174451, 0.83330447981125755)\n",
      "Add model - GBC_114 - ensemble and score: ({'GBC_76': 3, 'GBC_74': 6, 'GBC_73': 2, 'GBC_34': 5, 'GBC_79': 7, 'KNN_52': 1, 'GBC_98': 2, 'GBC_105': 2, 'GBC_120': 1, 'GBC_117': 8, 'GBC_114': 13, 'GBC_115': 11, 'GBC_113': 28, 'BAGC_19': 1, 'BAGC_4': 1, 'ETC_209': 1, 'LR_36': 2}, 0.83645634706593108, 0.83334901824213614)\n",
      "Elminate models -- ensemble and score: ({'GBC_76': 3, 'GBC_74': 6, 'GBC_73': 2, 'GBC_34': 5, 'GBC_79': 7, 'KNN_52': 1, 'GBC_98': 2, 'GBC_105': 2, 'GBC_120': 1, 'GBC_117': 8, 'GBC_114': 13, 'GBC_115': 11, 'GBC_113': 28, 'BAGC_19': 1, 'BAGC_4': 1, 'ETC_209': 1, 'LR_36': 2}, 0.83645634706593108, 0.83334901824213614)\n",
      "Add model - GBC_74 - ensemble and score: ({'GBC_76': 3, 'GBC_74': 7, 'GBC_73': 2, 'GBC_34': 5, 'GBC_79': 7, 'KNN_52': 1, 'GBC_98': 2, 'GBC_105': 2, 'GBC_120': 1, 'GBC_117': 8, 'GBC_114': 13, 'GBC_115': 11, 'GBC_113': 28, 'BAGC_19': 1, 'BAGC_4': 1, 'ETC_209': 1, 'LR_36': 2}, 0.8364712815439066, 0.83339305341390868)\n",
      "Elminate models -- ensemble and score: ({'GBC_76': 3, 'GBC_74': 7, 'GBC_73': 2, 'GBC_34': 5, 'GBC_79': 7, 'KNN_52': 1, 'GBC_98': 2, 'GBC_105': 2, 'GBC_120': 1, 'GBC_117': 8, 'GBC_114': 13, 'GBC_115': 11, 'GBC_113': 28, 'BAGC_19': 1, 'BAGC_4': 1, 'ETC_209': 1, 'LR_36': 2}, 0.8364712815439066, 0.83339305341390868)\n",
      "Add model - GBC_22 - ensemble and score: ({'GBC_76': 3, 'GBC_74': 7, 'GBC_73': 2, 'GBC_22': 1, 'GBC_34': 5, 'GBC_79': 7, 'KNN_52': 1, 'GBC_98': 2, 'GBC_105': 2, 'GBC_120': 1, 'GBC_117': 8, 'GBC_114': 13, 'GBC_115': 11, 'GBC_113': 28, 'BAGC_19': 1, 'BAGC_4': 1, 'ETC_209': 1, 'LR_36': 2}, 0.83648588898951803, 0.8334388499925518)\n",
      "Elminate models -- ensemble and score: ({'GBC_76': 3, 'GBC_74': 7, 'GBC_73': 2, 'GBC_22': 1, 'GBC_34': 5, 'GBC_79': 7, 'KNN_52': 1, 'GBC_98': 2, 'GBC_105': 2, 'GBC_120': 1, 'GBC_117': 8, 'GBC_114': 13, 'GBC_115': 11, 'GBC_113': 28, 'BAGC_19': 1, 'BAGC_4': 1, 'ETC_209': 1, 'LR_36': 2}, 0.83648588898951803, 0.8334388499925518)\n",
      "Add model - GBC_22 - ensemble and score: ({'GBC_76': 3, 'GBC_74': 7, 'GBC_73': 2, 'GBC_22': 2, 'GBC_34': 5, 'GBC_79': 7, 'KNN_52': 1, 'GBC_98': 2, 'GBC_105': 2, 'GBC_120': 1, 'GBC_117': 8, 'GBC_114': 13, 'GBC_115': 11, 'GBC_113': 28, 'BAGC_19': 1, 'BAGC_4': 1, 'ETC_209': 1, 'LR_36': 2}, 0.83650305818865056, 0.83348867264404292)\n",
      "Elminate models -- ensemble and score: ({'GBC_76': 3, 'GBC_74': 7, 'GBC_73': 2, 'GBC_22': 2, 'GBC_34': 5, 'GBC_79': 7, 'KNN_52': 1, 'GBC_98': 2, 'GBC_105': 2, 'GBC_120': 1, 'GBC_117': 8, 'GBC_114': 13, 'GBC_115': 11, 'GBC_113': 28, 'BAGC_19': 1, 'BAGC_4': 1, 'ETC_209': 1, 'LR_36': 2}, 0.83650305818865056, 0.83348867264404292)\n",
      "Add model - DTC_42 - ensemble and score: ({'GBC_76': 3, 'GBC_74': 7, 'GBC_73': 2, 'GBC_22': 2, 'GBC_34': 5, 'GBC_79': 7, 'KNN_52': 1, 'GBC_105': 2, 'DTC_42': 1, 'GBC_98': 2, 'GBC_120': 1, 'GBC_117': 8, 'GBC_114': 13, 'GBC_115': 11, 'GBC_113': 28, 'BAGC_19': 1, 'BAGC_4': 1, 'ETC_209': 1, 'LR_36': 2}, 0.83675062168852488, 0.83442347643338266)\n",
      "Elminate models -- ensemble and score: ({'GBC_76': 3, 'GBC_74': 7, 'GBC_34': 5, 'GBC_79': 7, 'KNN_52': 1, 'GBC_105': 2, 'DTC_42': 1, 'GBC_98': 2, 'GBC_117': 8, 'GBC_114': 13, 'GBC_115': 11, 'GBC_113': 28, 'BAGC_19': 1, 'BAGC_4': 1, 'ETC_209': 1, 'LR_36': 2}, 0.83697992588138481, 0.83467409946815585)\n",
      "Add model - GBC_117 - ensemble and score: ({'GBC_76': 3, 'GBC_74': 7, 'GBC_34': 5, 'GBC_79': 7, 'KNN_52': 1, 'GBC_105': 2, 'DTC_42': 1, 'GBC_98': 2, 'GBC_117': 9, 'GBC_114': 13, 'GBC_115': 11, 'GBC_113': 28, 'BAGC_19': 1, 'BAGC_4': 1, 'ETC_209': 1, 'LR_36': 2}, 0.83698265115108861, 0.83465170443794023)\n",
      "Elminate models -- ensemble and score: ({'GBC_76': 3, 'GBC_74': 7, 'GBC_34': 5, 'GBC_79': 7, 'KNN_52': 1, 'GBC_105': 2, 'DTC_42': 1, 'GBC_98': 2, 'GBC_117': 9, 'GBC_114': 13, 'GBC_115': 11, 'GBC_113': 28, 'BAGC_19': 1, 'BAGC_4': 1, 'ETC_209': 1, 'LR_36': 2}, 0.83698265115108861, 0.83465170443794023)\n",
      "Add model - DTC_44 - ensemble and score: ({'GBC_76': 3, 'GBC_74': 7, 'GBC_34': 5, 'GBC_79': 7, 'KNN_52': 1, 'DTC_44': 1, 'GBC_105': 2, 'DTC_42': 1, 'GBC_98': 2, 'GBC_117': 9, 'GBC_114': 13, 'GBC_115': 11, 'GBC_113': 28, 'BAGC_19': 1, 'BAGC_4': 1, 'ETC_209': 1, 'LR_36': 2}, 0.83700298166307729, 0.83433439957162581)\n",
      "Elminate models -- ensemble and score: ({'GBC_76': 3, 'GBC_74': 7, 'GBC_34': 5, 'GBC_79': 7, 'KNN_52': 1, 'DTC_44': 1, 'GBC_105': 2, 'DTC_42': 1, 'GBC_98': 2, 'GBC_117': 9, 'GBC_114': 13, 'GBC_115': 11, 'GBC_113': 28, 'BAGC_19': 1, 'BAGC_4': 1, 'ETC_209': 1, 'LR_36': 2}, 0.83700298166307729, 0.83433439957162581)\n",
      "Add model - GBC_74 - ensemble and score: ({'GBC_76': 3, 'GBC_74': 8, 'GBC_34': 5, 'GBC_79': 7, 'KNN_52': 1, 'DTC_44': 1, 'GBC_98': 2, 'DTC_42': 1, 'GBC_105': 2, 'GBC_117': 9, 'GBC_114': 13, 'GBC_115': 11, 'GBC_113': 28, 'BAGC_19': 1, 'BAGC_4': 1, 'ETC_209': 1, 'LR_36': 2}, 0.8370059794597513, 0.83435981415647731)\n",
      "Elminate models -- ensemble and score: ({'GBC_76': 3, 'GBC_74': 8, 'GBC_34': 5, 'GBC_79': 7, 'KNN_52': 1, 'DTC_44': 1, 'GBC_98': 2, 'DTC_42': 1, 'GBC_105': 2, 'GBC_117': 9, 'GBC_114': 13, 'GBC_115': 11, 'GBC_113': 28, 'BAGC_19': 1, 'BAGC_4': 1, 'ETC_209': 1, 'LR_36': 2}, 0.8370059794597513, 0.83435981415647731)\n",
      "Add model - GBC_74 - ensemble and score: ({'GBC_76': 3, 'GBC_74': 9, 'GBC_34': 5, 'GBC_79': 7, 'KNN_52': 1, 'DTC_44': 1, 'GBC_98': 2, 'DTC_42': 1, 'GBC_105': 2, 'GBC_117': 9, 'GBC_114': 13, 'GBC_115': 11, 'GBC_113': 28, 'BAGC_19': 1, 'BAGC_4': 1, 'ETC_209': 1, 'LR_36': 2}, 0.83701279263401018, 0.83438044777982201)\n",
      "Elminate models -- ensemble and score: ({'GBC_76': 3, 'GBC_74': 9, 'GBC_34': 5, 'GBC_79': 7, 'KNN_52': 1, 'DTC_44': 1, 'GBC_98': 2, 'DTC_42': 1, 'GBC_105': 2, 'GBC_117': 9, 'GBC_114': 13, 'GBC_115': 11, 'GBC_113': 28, 'BAGC_19': 1, 'BAGC_4': 1, 'ETC_209': 1, 'LR_36': 2}, 0.83701279263401018, 0.83438044777982201)\n",
      "Add model - KNN_50 - ensemble and score: ({'GBC_76': 3, 'GBC_74': 9, 'GBC_34': 5, 'GBC_79': 7, 'KNN_52': 1, 'KNN_50': 1, 'DTC_44': 1, 'GBC_98': 2, 'DTC_42': 1, 'GBC_105': 2, 'GBC_117': 9, 'GBC_114': 13, 'GBC_115': 11, 'GBC_113': 28, 'BAGC_19': 1, 'BAGC_4': 1, 'ETC_209': 1, 'LR_36': 2}, 0.83703350468375748, 0.83427727966309817)\n",
      "Elminate models -- ensemble and score: ({'GBC_76': 3, 'GBC_74': 9, 'GBC_34': 5, 'GBC_79': 7, 'KNN_52': 1, 'KNN_50': 1, 'DTC_44': 1, 'GBC_98': 2, 'DTC_42': 1, 'GBC_105': 2, 'GBC_117': 9, 'GBC_114': 13, 'GBC_115': 11, 'GBC_113': 28, 'BAGC_4': 1, 'ETC_209': 1, 'LR_36': 2}, 0.83704489631111856, 0.83427753129265136)\n",
      "Add model - GBC_22 - ensemble and score: ({'GBC_76': 3, 'GBC_74': 9, 'GBC_22': 1, 'GBC_34': 5, 'GBC_79': 7, 'KNN_52': 1, 'KNN_50': 1, 'DTC_44': 1, 'GBC_98': 2, 'DTC_42': 1, 'GBC_105': 2, 'GBC_117': 9, 'GBC_114': 13, 'GBC_115': 11, 'GBC_113': 28, 'BAGC_4': 1, 'ETC_209': 1, 'LR_36': 2}, 0.8370466404837289, 0.83436535000664303)\n",
      "Elminate models -- ensemble and score: ({'GBC_76': 3, 'GBC_74': 9, 'GBC_22': 1, 'GBC_34': 5, 'GBC_79': 7, 'KNN_52': 1, 'KNN_50': 1, 'DTC_44': 1, 'GBC_98': 2, 'DTC_42': 1, 'GBC_105': 2, 'GBC_117': 9, 'GBC_114': 13, 'GBC_115': 11, 'GBC_113': 28, 'BAGC_4': 1, 'ETC_209': 1, 'LR_36': 2}, 0.8370466404837289, 0.83436535000664303)\n",
      "Add model - DTC_42 - ensemble and score: ({'GBC_76': 3, 'GBC_74': 9, 'GBC_22': 1, 'GBC_34': 5, 'GBC_79': 7, 'KNN_52': 1, 'KNN_50': 1, 'DTC_44': 1, 'GBC_105': 2, 'DTC_42': 2, 'GBC_98': 2, 'GBC_117': 9, 'GBC_114': 13, 'GBC_115': 11, 'GBC_113': 28, 'BAGC_4': 1, 'ETC_209': 1, 'LR_36': 2}, 0.83707476526707003, 0.83482331579307578)\n",
      "Elminate models -- ensemble and score: ({'GBC_76': 3, 'GBC_74': 9, 'GBC_34': 5, 'GBC_79': 7, 'KNN_52': 1, 'KNN_50': 1, 'DTC_44': 1, 'GBC_105': 2, 'DTC_42': 2, 'GBC_98': 2, 'GBC_117': 9, 'GBC_114': 13, 'GBC_115': 11, 'GBC_113': 28, 'BAGC_4': 1, 'ETC_209': 1, 'LR_36': 2}, 0.8370951502844528, 0.83474782692718041)\n",
      "Add model - DTC_94 - ensemble and score: ({'GBC_76': 3, 'GBC_74': 9, 'GBC_34': 5, 'GBC_79': 7, 'KNN_52': 1, 'KNN_50': 1, 'DTC_44': 1, 'GBC_98': 2, 'DTC_42': 2, 'GBC_105': 2, 'ETC_209': 1, 'GBC_117': 9, 'GBC_114': 13, 'GBC_115': 11, 'GBC_113': 28, 'BAGC_4': 1, 'DTC_94': 1, 'LR_36': 2}, 0.83712322056239974, 0.83442725087667724)\n",
      "Elminate models -- ensemble and score: ({'GBC_76': 3, 'GBC_74': 9, 'GBC_34': 5, 'GBC_79': 7, 'KNN_52': 1, 'KNN_50': 1, 'DTC_42': 2, 'GBC_105': 2, 'ETC_209': 1, 'GBC_117': 9, 'GBC_114': 13, 'GBC_115': 11, 'GBC_113': 28, 'BAGC_4': 1, 'DTC_94': 1, 'LR_36': 2}, 0.83714120734244346, 0.83484520756418568)\n",
      "Add model - KNN_52 - ensemble and score: ({'GBC_76': 3, 'GBC_74': 9, 'GBC_34': 5, 'GBC_79': 7, 'KNN_52': 2, 'KNN_50': 1, 'DTC_42': 2, 'GBC_105': 2, 'ETC_209': 1, 'GBC_117': 9, 'GBC_114': 13, 'GBC_115': 11, 'GBC_113': 28, 'BAGC_4': 1, 'DTC_94': 1, 'LR_36': 2}, 0.83714415063372327, 0.83474505900209761)\n",
      "Elminate models -- ensemble and score: ({'GBC_76': 3, 'GBC_74': 9, 'GBC_34': 5, 'GBC_79': 7, 'KNN_52': 2, 'KNN_50': 1, 'DTC_42': 2, 'GBC_105': 2, 'ETC_209': 1, 'GBC_117': 9, 'GBC_114': 13, 'GBC_115': 11, 'GBC_113': 28, 'BAGC_4': 1, 'DTC_94': 1, 'LR_36': 2}, 0.83714415063372327, 0.83474505900209761)\n",
      "Add model - GBC_115 - ensemble and score: ({'GBC_76': 3, 'GBC_74': 9, 'GBC_34': 5, 'GBC_79': 7, 'KNN_52': 2, 'KNN_50': 1, 'DTC_42': 2, 'GBC_105': 2, 'ETC_209': 1, 'GBC_117': 9, 'GBC_114': 13, 'GBC_115': 12, 'GBC_113': 28, 'BAGC_4': 1, 'DTC_94': 1, 'LR_36': 2}, 0.83715548775569038, 0.83474254270656778)\n",
      "Elminate models -- ensemble and score: ({'GBC_76': 3, 'GBC_74': 9, 'GBC_34': 5, 'GBC_79': 7, 'KNN_52': 2, 'KNN_50': 1, 'DTC_42': 2, 'GBC_105': 2, 'ETC_209': 1, 'GBC_117': 9, 'GBC_114': 13, 'GBC_115': 12, 'GBC_113': 28, 'BAGC_4': 1, 'DTC_94': 1, 'LR_36': 2}, 0.83715548775569038, 0.83474254270656778)\n",
      "Add model - GBC_115 - ensemble and score: ({'GBC_76': 3, 'GBC_74': 9, 'GBC_34': 5, 'GBC_79': 7, 'KNN_52': 2, 'KNN_50': 1, 'DTC_42': 2, 'GBC_105': 2, 'ETC_209': 1, 'GBC_117': 9, 'GBC_114': 13, 'GBC_115': 13, 'GBC_113': 28, 'BAGC_4': 1, 'DTC_94': 1, 'LR_36': 2}, 0.83716311851086034, 0.83475613070242893)\n",
      "Elminate models -- ensemble and score: ({'GBC_76': 3, 'GBC_74': 9, 'GBC_34': 5, 'GBC_79': 7, 'KNN_52': 2, 'KNN_50': 1, 'DTC_42': 2, 'GBC_105': 2, 'ETC_209': 1, 'GBC_117': 9, 'GBC_114': 13, 'GBC_115': 13, 'GBC_113': 28, 'BAGC_4': 1, 'DTC_94': 1, 'LR_36': 2}, 0.83716311851086034, 0.83475613070242893)\n",
      "Add model - GBC_19 - ensemble and score: ({'GBC_76': 3, 'GBC_74': 9, 'GBC_34': 5, 'GBC_79': 7, 'KNN_52': 2, 'KNN_50': 1, 'DTC_42': 2, 'GBC_105': 2, 'ETC_209': 1, 'GBC_117': 9, 'GBC_114': 13, 'GBC_115': 13, 'GBC_113': 28, 'BAGC_4': 1, 'DTC_94': 1, 'GBC_19': 1, 'LR_36': 2}, 0.83716889608263201, 0.83478632624878724)\n",
      "Elminate models -- ensemble and score: ({'GBC_76': 3, 'GBC_74': 9, 'GBC_34': 5, 'GBC_79': 7, 'KNN_52': 2, 'KNN_50': 1, 'DTC_42': 2, 'GBC_105': 2, 'ETC_209': 1, 'GBC_117': 9, 'GBC_114': 13, 'GBC_115': 13, 'GBC_113': 28, 'BAGC_4': 1, 'DTC_94': 1, 'GBC_19': 1, 'LR_36': 2}, 0.83716889608263201, 0.83478632624878724)\n",
      "Add model - GBC_19 - ensemble and score: ({'GBC_76': 3, 'GBC_74': 9, 'GBC_34': 5, 'GBC_79': 7, 'KNN_52': 2, 'KNN_50': 1, 'DTC_42': 2, 'GBC_105': 2, 'ETC_209': 1, 'GBC_117': 9, 'GBC_114': 13, 'GBC_115': 13, 'GBC_113': 28, 'BAGC_4': 1, 'DTC_94': 1, 'GBC_19': 2, 'LR_36': 2}, 0.83717641782701391, 0.83480142402196633)\n",
      "Elminate models -- ensemble and score: ({'GBC_76': 3, 'GBC_74': 9, 'GBC_34': 5, 'GBC_79': 7, 'KNN_52': 2, 'KNN_50': 1, 'DTC_42': 2, 'GBC_105': 2, 'ETC_209': 1, 'GBC_117': 9, 'GBC_114': 13, 'GBC_115': 13, 'GBC_113': 28, 'BAGC_4': 1, 'DTC_94': 1, 'GBC_19': 2, 'LR_36': 2}, 0.83717641782701391, 0.83480142402196633)\n",
      "Add model - DTC_98 - ensemble and score: ({'GBC_76': 3, 'GBC_74': 9, 'GBC_34': 5, 'GBC_79': 7, 'KNN_52': 2, 'KNN_50': 1, 'DTC_42': 2, 'GBC_105': 2, 'ETC_209': 1, 'GBC_117': 9, 'GBC_114': 13, 'GBC_115': 13, 'GBC_113': 28, 'BAGC_4': 1, 'DTC_98': 1, 'DTC_94': 1, 'GBC_19': 2, 'LR_36': 2}, 0.8372662972218381, 0.83431326268917516)\n",
      "Elminate models -- ensemble and score: ({'GBC_76': 3, 'GBC_74': 9, 'GBC_34': 5, 'GBC_79': 7, 'KNN_52': 2, 'KNN_50': 1, 'DTC_42': 2, 'GBC_105': 2, 'GBC_117': 9, 'GBC_114': 13, 'GBC_115': 13, 'GBC_113': 28, 'BAGC_4': 1, 'DTC_98': 1, 'ETC_209': 1, 'GBC_19': 2, 'LR_36': 2}, 0.83727632621434733, 0.83459835897270729)\n",
      "Add model - KNN_52 - ensemble and score: ({'GBC_76': 3, 'GBC_74': 9, 'GBC_34': 5, 'GBC_79': 7, 'KNN_52': 3, 'KNN_50': 1, 'DTC_42': 2, 'GBC_105': 2, 'GBC_117': 9, 'GBC_114': 13, 'GBC_115': 13, 'GBC_113': 28, 'BAGC_4': 1, 'DTC_98': 1, 'ETC_209': 1, 'GBC_19': 2, 'LR_36': 2}, 0.83728564663673377, 0.83447229256666167)\n",
      "Elminate models -- ensemble and score: ({'GBC_76': 3, 'GBC_74': 9, 'GBC_34': 5, 'GBC_79': 7, 'KNN_52': 3, 'KNN_50': 1, 'DTC_42': 2, 'GBC_105': 2, 'GBC_117': 9, 'GBC_114': 13, 'GBC_115': 13, 'GBC_113': 28, 'BAGC_4': 1, 'DTC_98': 1, 'ETC_209': 1, 'GBC_19': 2, 'LR_36': 2}, 0.83728564663673377, 0.83447229256666167)\n",
      "Add model - GBC_114 - ensemble and score: ({'GBC_76': 3, 'GBC_74': 9, 'GBC_34': 5, 'GBC_79': 7, 'KNN_52': 3, 'KNN_50': 1, 'DTC_42': 2, 'GBC_105': 2, 'GBC_117': 9, 'GBC_114': 14, 'GBC_115': 13, 'GBC_113': 28, 'BAGC_4': 1, 'DTC_98': 1, 'ETC_209': 1, 'GBC_19': 2, 'LR_36': 2}, 0.83728799036867885, 0.83446776323470806)\n",
      "Elminate models -- ensemble and score: ({'GBC_76': 3, 'GBC_74': 9, 'GBC_34': 5, 'GBC_79': 7, 'KNN_52': 3, 'KNN_50': 1, 'DTC_42': 2, 'GBC_105': 2, 'GBC_117': 9, 'GBC_114': 14, 'GBC_115': 13, 'GBC_113': 28, 'BAGC_4': 1, 'DTC_98': 1, 'ETC_209': 1, 'GBC_19': 2, 'LR_36': 2}, 0.83728799036867885, 0.83446776323470806)\n",
      "Add model - GBC_114 - ensemble and score: ({'GBC_76': 3, 'GBC_74': 9, 'GBC_34': 5, 'GBC_79': 7, 'KNN_52': 3, 'KNN_50': 1, 'DTC_42': 2, 'GBC_105': 2, 'GBC_117': 9, 'GBC_114': 15, 'GBC_115': 13, 'GBC_113': 28, 'BAGC_4': 1, 'DTC_98': 1, 'ETC_209': 1, 'GBC_19': 2, 'LR_36': 2}, 0.83729066113298833, 0.83450097833570203)\n",
      "Elminate models -- ensemble and score: ({'GBC_76': 3, 'GBC_74': 9, 'GBC_34': 5, 'GBC_79': 7, 'KNN_52': 3, 'KNN_50': 1, 'DTC_42': 2, 'GBC_105': 2, 'GBC_117': 9, 'GBC_114': 15, 'GBC_115': 13, 'GBC_113': 28, 'BAGC_4': 1, 'DTC_98': 1, 'ETC_209': 1, 'GBC_19': 2, 'LR_36': 2}, 0.83729066113298833, 0.83450097833570203)\n",
      "Add model - GBC_98 - ensemble and score: ({'GBC_76': 3, 'GBC_74': 9, 'GBC_34': 5, 'GBC_79': 7, 'KNN_52': 3, 'KNN_50': 1, 'GBC_105': 2, 'DTC_42': 2, 'GBC_98': 1, 'GBC_117': 9, 'GBC_114': 15, 'GBC_115': 13, 'GBC_113': 28, 'BAGC_4': 1, 'DTC_98': 1, 'ETC_209': 1, 'GBC_19': 2, 'LR_36': 2}, 0.83730646769726913, 0.8344597110890124)\n",
      "Elminate models -- ensemble and score: ({'GBC_76': 3, 'GBC_74': 9, 'GBC_34': 5, 'GBC_79': 7, 'KNN_52': 3, 'KNN_50': 1, 'GBC_105': 2, 'DTC_42': 2, 'GBC_98': 1, 'GBC_117': 9, 'GBC_114': 15, 'GBC_115': 13, 'GBC_113': 28, 'BAGC_4': 1, 'DTC_98': 1, 'ETC_209': 1, 'GBC_19': 2, 'LR_36': 2}, 0.83730646769726913, 0.8344597110890124)\n",
      "Add model - DTC_44 - ensemble and score: ({'GBC_76': 3, 'GBC_74': 9, 'GBC_34': 5, 'GBC_79': 7, 'KNN_52': 3, 'KNN_50': 1, 'DTC_44': 1, 'GBC_105': 2, 'DTC_42': 2, 'GBC_98': 1, 'GBC_117': 9, 'GBC_114': 15, 'GBC_115': 13, 'GBC_113': 28, 'BAGC_4': 1, 'DTC_98': 1, 'ETC_209': 1, 'GBC_19': 2, 'LR_36': 2}, 0.83733170369472454, 0.83424859389405792)\n",
      "Elminate models -- ensemble and score: ({'GBC_76': 3, 'GBC_74': 9, 'GBC_34': 5, 'GBC_79': 7, 'KNN_52': 3, 'KNN_50': 1, 'DTC_44': 1, 'GBC_105': 2, 'DTC_42': 2, 'GBC_98': 1, 'GBC_117': 9, 'GBC_114': 15, 'GBC_115': 13, 'GBC_113': 28, 'BAGC_4': 1, 'DTC_98': 1, 'ETC_209': 1, 'GBC_19': 2, 'LR_36': 2}, 0.83733170369472454, 0.83424859389405792)\n",
      "Add model - GBC_113 - ensemble and score: ({'GBC_76': 3, 'GBC_74': 9, 'GBC_34': 5, 'GBC_79': 7, 'KNN_52': 3, 'KNN_50': 1, 'DTC_44': 1, 'GBC_98': 1, 'DTC_42': 2, 'GBC_105': 2, 'GBC_117': 9, 'GBC_114': 15, 'GBC_115': 13, 'GBC_113': 29, 'BAGC_4': 1, 'DTC_98': 1, 'ETC_209': 1, 'GBC_19': 2, 'LR_36': 2}, 0.83733410193206359, 0.8342704856651677)\n",
      "Elminate models -- ensemble and score: ({'GBC_76': 3, 'GBC_74': 9, 'GBC_34': 5, 'GBC_79': 7, 'KNN_52': 3, 'KNN_50': 1, 'DTC_44': 1, 'GBC_98': 1, 'DTC_42': 2, 'GBC_105': 2, 'GBC_117': 9, 'GBC_114': 15, 'GBC_115': 13, 'GBC_113': 29, 'BAGC_4': 1, 'DTC_98': 1, 'ETC_209': 1, 'GBC_19': 2, 'LR_36': 2}, 0.83733410193206359, 0.8342704856651677)\n",
      "Add model - GBC_113 - ensemble and score: ({'GBC_76': 3, 'GBC_74': 9, 'GBC_34': 5, 'GBC_79': 7, 'KNN_52': 3, 'KNN_50': 1, 'DTC_44': 1, 'GBC_105': 2, 'DTC_42': 2, 'GBC_98': 1, 'GBC_117': 9, 'GBC_114': 15, 'GBC_115': 13, 'GBC_113': 30, 'BAGC_4': 1, 'DTC_98': 1, 'ETC_209': 1, 'GBC_19': 2, 'LR_36': 2}, 0.83733426544824585, 0.83431754039157568)\n",
      "Elminate models -- ensemble and score: ({'GBC_76': 3, 'GBC_74': 9, 'GBC_34': 5, 'GBC_79': 7, 'KNN_52': 3, 'KNN_50': 1, 'DTC_44': 1, 'GBC_105': 2, 'DTC_42': 2, 'GBC_98': 1, 'GBC_117': 9, 'GBC_114': 15, 'GBC_115': 13, 'GBC_113': 30, 'BAGC_4': 1, 'DTC_98': 1, 'ETC_209': 1, 'GBC_19': 2, 'LR_36': 2}, 0.83733426544824585, 0.83431754039157568)\n",
      "Add model - GBC_79 - ensemble and score: ({'GBC_76': 3, 'GBC_74': 9, 'GBC_34': 5, 'GBC_79': 8, 'KNN_52': 3, 'KNN_50': 1, 'DTC_44': 1, 'GBC_98': 1, 'DTC_42': 2, 'GBC_105': 2, 'GBC_117': 9, 'GBC_114': 15, 'GBC_115': 13, 'GBC_113': 30, 'BAGC_4': 1, 'DTC_98': 1, 'ETC_209': 1, 'GBC_19': 2, 'LR_36': 2}, 0.8373400975254115, 0.83432383113040043)\n",
      "Elminate models -- ensemble and score: ({'GBC_76': 3, 'GBC_74': 9, 'GBC_34': 5, 'GBC_79': 8, 'KNN_52': 3, 'KNN_50': 1, 'DTC_44': 1, 'GBC_98': 1, 'DTC_42': 2, 'GBC_105': 2, 'GBC_117': 9, 'GBC_114': 15, 'GBC_115': 13, 'GBC_113': 30, 'BAGC_4': 1, 'DTC_98': 1, 'ETC_209': 1, 'GBC_19': 2, 'LR_36': 2}, 0.8373400975254115, 0.83432383113040043)\n",
      "Add model - BAGC_19 - ensemble and score: ({'GBC_76': 3, 'GBC_74': 9, 'GBC_34': 5, 'GBC_79': 8, 'KNN_52': 3, 'KNN_50': 1, 'DTC_44': 1, 'GBC_105': 2, 'DTC_42': 2, 'GBC_98': 1, 'GBC_117': 9, 'GBC_114': 15, 'GBC_115': 13, 'GBC_113': 30, 'BAGC_19': 1, 'BAGC_4': 1, 'DTC_98': 1, 'ETC_209': 1, 'GBC_19': 2, 'LR_36': 2}, 0.83734336784905572, 0.83431175291185722)\n",
      "Elminate models -- ensemble and score: ({'GBC_76': 3, 'GBC_74': 9, 'GBC_34': 5, 'GBC_79': 8, 'KNN_52': 3, 'KNN_50': 1, 'DTC_44': 1, 'DTC_42': 2, 'GBC_105': 2, 'GBC_117': 9, 'GBC_114': 15, 'GBC_115': 13, 'GBC_113': 30, 'BAGC_19': 1, 'BAGC_4': 1, 'DTC_98': 1, 'ETC_209': 1, 'GBC_19': 2, 'LR_36': 2}, 0.83734336784905583, 0.83436157556334833)\n",
      "Add model - GBC_34 - ensemble and score: ({'GBC_76': 3, 'GBC_74': 9, 'GBC_34': 6, 'GBC_79': 8, 'KNN_52': 3, 'KNN_50': 1, 'DTC_44': 1, 'DTC_42': 2, 'GBC_105': 2, 'GBC_117': 9, 'GBC_114': 15, 'GBC_115': 13, 'GBC_113': 30, 'BAGC_19': 1, 'BAGC_4': 1, 'DTC_98': 1, 'ETC_209': 1, 'GBC_19': 2, 'LR_36': 2}, 0.8373449485054838, 0.83431049476409225)\n",
      "Elminate models -- ensemble and score: ({'GBC_76': 3, 'GBC_74': 9, 'GBC_34': 6, 'GBC_79': 8, 'KNN_52': 3, 'KNN_50': 1, 'DTC_44': 1, 'DTC_42': 2, 'GBC_105': 2, 'GBC_117': 9, 'GBC_114': 15, 'GBC_115': 13, 'GBC_113': 30, 'BAGC_19': 1, 'BAGC_4': 1, 'DTC_98': 1, 'ETC_209': 1, 'GBC_19': 2, 'LR_36': 2}, 0.8373449485054838, 0.83431049476409225)\n",
      "Add model - GBC_113 - ensemble and score: ({'GBC_76': 3, 'GBC_74': 9, 'GBC_34': 6, 'GBC_79': 8, 'KNN_52': 3, 'KNN_50': 1, 'DTC_44': 1, 'DTC_42': 2, 'GBC_105': 2, 'GBC_117': 9, 'GBC_114': 15, 'GBC_115': 13, 'GBC_113': 31, 'BAGC_19': 1, 'BAGC_4': 1, 'DTC_98': 1, 'ETC_209': 1, 'GBC_19': 2, 'LR_36': 2}, 0.83734718322664081, 0.83433993542179152)\n",
      "Elminate models -- ensemble and score: ({'GBC_76': 3, 'GBC_74': 9, 'GBC_34': 6, 'GBC_79': 8, 'KNN_52': 3, 'KNN_50': 1, 'DTC_44': 1, 'DTC_42': 2, 'GBC_105': 2, 'GBC_117': 9, 'GBC_114': 15, 'GBC_115': 13, 'GBC_113': 31, 'BAGC_19': 1, 'BAGC_4': 1, 'DTC_98': 1, 'ETC_209': 1, 'GBC_19': 2, 'LR_36': 2}, 0.83734718322664081, 0.83433993542179152)\n",
      "Add model - GBC_98 - ensemble and score: ({'GBC_76': 3, 'GBC_74': 9, 'GBC_34': 6, 'GBC_79': 8, 'KNN_52': 3, 'KNN_50': 1, 'DTC_44': 1, 'GBC_105': 2, 'DTC_42': 2, 'GBC_98': 1, 'GBC_117': 9, 'GBC_114': 15, 'GBC_115': 13, 'GBC_113': 31, 'BAGC_19': 1, 'BAGC_4': 1, 'DTC_98': 1, 'ETC_209': 1, 'GBC_19': 2, 'LR_36': 2}, 0.83735830232703146, 0.83428206062460497)\n",
      "Elminate models -- ensemble and score: ({'GBC_76': 3, 'GBC_74': 9, 'GBC_34': 6, 'GBC_79': 8, 'KNN_52': 3, 'KNN_50': 1, 'DTC_44': 1, 'GBC_105': 2, 'DTC_42': 2, 'GBC_98': 1, 'GBC_117': 9, 'GBC_114': 15, 'GBC_115': 13, 'GBC_113': 31, 'BAGC_19': 1, 'BAGC_4': 1, 'DTC_98': 1, 'ETC_209': 1, 'GBC_19': 2, 'LR_36': 2}, 0.83735830232703146, 0.83428206062460497)\n",
      "Add model - BAGC_15 - ensemble and score: ({'GBC_76': 3, 'GBC_74': 9, 'GBC_34': 6, 'GBC_79': 8, 'KNN_52': 3, 'KNN_50': 1, 'DTC_44': 1, 'GBC_98': 1, 'DTC_42': 2, 'BAGC_15': 1, 'GBC_105': 2, 'GBC_117': 9, 'GBC_114': 15, 'GBC_115': 13, 'GBC_113': 31, 'BAGC_19': 1, 'BAGC_4': 1, 'DTC_98': 1, 'ETC_209': 1, 'GBC_19': 2, 'LR_36': 2}, 0.83736658714693046, 0.8343429549764273)\n",
      "Elminate models -- ensemble and score: ({'GBC_76': 3, 'GBC_74': 9, 'GBC_34': 6, 'GBC_79': 8, 'KNN_52': 3, 'KNN_50': 1, 'DTC_44': 1, 'DTC_42': 2, 'BAGC_15': 1, 'GBC_105': 2, 'GBC_117': 9, 'GBC_114': 15, 'GBC_115': 13, 'GBC_113': 31, 'BAGC_19': 1, 'BAGC_4': 1, 'DTC_98': 1, 'ETC_209': 1, 'GBC_19': 2, 'LR_36': 2}, 0.8373694214274221, 0.83435931089737136)\n",
      "Add model - BAGC_19 - ensemble and score: ({'GBC_76': 3, 'GBC_74': 9, 'GBC_34': 6, 'GBC_79': 8, 'KNN_52': 3, 'KNN_50': 1, 'DTC_44': 1, 'DTC_42': 2, 'BAGC_15': 1, 'GBC_105': 2, 'GBC_117': 9, 'GBC_114': 15, 'GBC_115': 13, 'GBC_113': 31, 'BAGC_19': 2, 'BAGC_4': 1, 'DTC_98': 1, 'ETC_209': 1, 'GBC_19': 2, 'LR_36': 2}, 0.83737857833362617, 0.83440812703065048)\n",
      "Elminate models -- ensemble and score: ({'GBC_76': 3, 'GBC_74': 9, 'GBC_34': 6, 'GBC_79': 8, 'KNN_52': 3, 'KNN_50': 1, 'DTC_44': 1, 'DTC_42': 2, 'BAGC_15': 1, 'GBC_105': 2, 'GBC_117': 9, 'GBC_114': 15, 'GBC_115': 13, 'GBC_113': 31, 'BAGC_19': 2, 'BAGC_4': 1, 'DTC_98': 1, 'ETC_209': 1, 'GBC_19': 2, 'LR_36': 2}, 0.83737857833362617, 0.83440812703065048)\n",
      "Add model - GBC_114 - ensemble and score: ({'GBC_76': 3, 'GBC_74': 9, 'GBC_34': 6, 'GBC_79': 8, 'KNN_52': 3, 'KNN_50': 1, 'DTC_44': 1, 'DTC_42': 2, 'BAGC_15': 1, 'GBC_105': 2, 'GBC_117': 9, 'GBC_114': 16, 'GBC_115': 13, 'GBC_113': 31, 'BAGC_19': 2, 'BAGC_4': 1, 'DTC_98': 1, 'ETC_209': 1, 'GBC_19': 2, 'LR_36': 2}, 0.83738277524896976, 0.83442926391310124)\n",
      "Elminate models -- ensemble and score: ({'GBC_76': 3, 'GBC_74': 9, 'GBC_34': 6, 'GBC_79': 8, 'KNN_52': 3, 'KNN_50': 1, 'DTC_44': 1, 'DTC_42': 2, 'BAGC_15': 1, 'GBC_105': 2, 'GBC_117': 9, 'GBC_114': 16, 'GBC_115': 13, 'GBC_113': 31, 'BAGC_19': 2, 'BAGC_4': 1, 'DTC_98': 1, 'ETC_209': 1, 'GBC_19': 2, 'LR_36': 2}, 0.83738277524896976, 0.83442926391310124)\n",
      "Add model - BAGC_19 - ensemble and score: ({'GBC_76': 3, 'GBC_74': 9, 'GBC_34': 6, 'GBC_79': 8, 'KNN_52': 3, 'KNN_50': 1, 'DTC_44': 1, 'DTC_42': 2, 'BAGC_15': 1, 'GBC_105': 2, 'GBC_117': 9, 'GBC_114': 16, 'GBC_115': 13, 'GBC_113': 31, 'BAGC_19': 3, 'BAGC_4': 1, 'DTC_98': 1, 'ETC_209': 1, 'GBC_19': 2, 'LR_36': 2}, 0.83738419238921558, 0.83443379324505496)\n",
      "Elminate models -- ensemble and score: ({'GBC_76': 3, 'GBC_74': 9, 'GBC_34': 6, 'GBC_79': 8, 'KNN_52': 3, 'KNN_50': 1, 'DTC_44': 1, 'DTC_42': 2, 'BAGC_15': 1, 'GBC_105': 2, 'GBC_117': 9, 'GBC_114': 16, 'GBC_115': 13, 'GBC_113': 31, 'BAGC_19': 3, 'BAGC_4': 1, 'DTC_98': 1, 'ETC_209': 1, 'GBC_19': 2, 'LR_36': 2}, 0.83738419238921558, 0.83443379324505496)\n",
      "Add model - DTC_40 - ensemble and score: ({'GBC_76': 3, 'GBC_74': 9, 'GBC_34': 6, 'GBC_79': 8, 'KNN_52': 3, 'KNN_50': 1, 'DTC_44': 1, 'DTC_40': 1, 'DTC_42': 2, 'BAGC_15': 1, 'GBC_105': 2, 'GBC_117': 9, 'GBC_114': 16, 'GBC_115': 13, 'GBC_113': 31, 'BAGC_19': 3, 'BAGC_4': 1, 'DTC_98': 1, 'ETC_209': 1, 'GBC_19': 2, 'LR_36': 2}, 0.83742234616506595, 0.83278939411629715)\n",
      "Elminate models -- ensemble and score: ({'GBC_76': 3, 'GBC_74': 9, 'GBC_34': 6, 'GBC_79': 8, 'KNN_52': 3, 'DTC_44': 1, 'DTC_40': 1, 'DTC_42': 2, 'BAGC_15': 1, 'GBC_105': 2, 'GBC_117': 9, 'GBC_114': 16, 'GBC_115': 13, 'GBC_113': 31, 'BAGC_19': 3, 'BAGC_4': 1, 'DTC_98': 1, 'GBC_19': 2, 'LR_36': 2}, 0.83743526394346102, 0.83165278342546334)\n",
      "Add model - GBC_113 - ensemble and score: ({'GBC_76': 3, 'GBC_74': 9, 'GBC_34': 6, 'GBC_79': 8, 'KNN_52': 3, 'DTC_44': 1, 'DTC_40': 1, 'DTC_42': 2, 'BAGC_15': 1, 'GBC_105': 2, 'GBC_117': 9, 'GBC_114': 16, 'GBC_115': 13, 'GBC_113': 32, 'BAGC_19': 3, 'BAGC_4': 1, 'DTC_98': 1, 'GBC_19': 2, 'LR_36': 2}, 0.83744780018409726, 0.8317124196295208)\n",
      "Elminate models -- ensemble and score: ({'GBC_76': 3, 'GBC_74': 9, 'GBC_34': 6, 'GBC_79': 8, 'KNN_52': 3, 'DTC_44': 1, 'DTC_40': 1, 'DTC_42': 2, 'BAGC_15': 1, 'GBC_105': 2, 'GBC_117': 9, 'GBC_114': 16, 'GBC_115': 13, 'GBC_113': 32, 'BAGC_19': 3, 'BAGC_4': 1, 'DTC_98': 1, 'GBC_19': 2, 'LR_36': 2}, 0.83744780018409726, 0.8317124196295208)\n",
      "Add model - ETC_257 - ensemble and score: ({'GBC_76': 3, 'GBC_74': 9, 'GBC_34': 6, 'GBC_79': 8, 'KNN_52': 3, 'DTC_44': 1, 'DTC_40': 1, 'DTC_42': 2, 'BAGC_15': 1, 'GBC_105': 2, 'GBC_117': 9, 'GBC_114': 16, 'GBC_115': 13, 'GBC_113': 32, 'BAGC_19': 3, 'BAGC_4': 1, 'DTC_98': 1, 'ETC_257': 1, 'GBC_19': 2, 'LR_36': 2}, 0.83747494387034527, 0.83290464045156432)\n",
      "Elminate models -- ensemble and score: ({'GBC_76': 3, 'GBC_74': 9, 'GBC_34': 6, 'GBC_79': 8, 'KNN_52': 3, 'DTC_44': 1, 'DTC_40': 1, 'DTC_42': 2, 'GBC_105': 2, 'GBC_117': 9, 'GBC_114': 16, 'GBC_115': 13, 'GBC_113': 32, 'BAGC_4': 1, 'DTC_98': 1, 'ETC_257': 1, 'GBC_19': 2, 'LR_36': 2}, 0.83749058691844391, 0.8327325258373226)\n",
      "Add model - GBC_74 - ensemble and score: ({'GBC_76': 3, 'GBC_74': 10, 'GBC_34': 6, 'GBC_79': 8, 'KNN_52': 3, 'DTC_44': 1, 'DTC_40': 1, 'DTC_42': 2, 'GBC_105': 2, 'GBC_117': 9, 'GBC_114': 16, 'GBC_115': 13, 'GBC_113': 32, 'BAGC_4': 1, 'DTC_98': 1, 'ETC_257': 1, 'GBC_19': 2, 'LR_36': 2}, 0.83749080494002004, 0.83281581521936054)\n",
      "Elminate models -- ensemble and score: ({'GBC_76': 3, 'GBC_74': 10, 'GBC_34': 6, 'GBC_79': 8, 'KNN_52': 3, 'DTC_44': 1, 'DTC_40': 1, 'DTC_42': 2, 'GBC_105': 2, 'GBC_117': 9, 'GBC_114': 16, 'GBC_115': 13, 'GBC_113': 32, 'BAGC_4': 1, 'DTC_98': 1, 'ETC_257': 1, 'GBC_19': 2, 'LR_36': 2}, 0.83749080494002004, 0.83281581521936054)\n",
      "Add model - GBC_114 - ensemble and score: ({'GBC_76': 3, 'GBC_74': 10, 'GBC_34': 6, 'GBC_79': 8, 'KNN_52': 3, 'DTC_44': 1, 'DTC_40': 1, 'DTC_42': 2, 'GBC_105': 2, 'GBC_117': 9, 'GBC_114': 17, 'GBC_115': 13, 'GBC_113': 32, 'BAGC_4': 1, 'DTC_98': 1, 'ETC_257': 1, 'GBC_19': 2, 'LR_36': 2}, 0.83749391174748222, 0.8328304097334337)\n",
      "Elminate models -- ensemble and score: ({'GBC_76': 3, 'GBC_74': 10, 'GBC_34': 6, 'GBC_79': 8, 'KNN_52': 3, 'DTC_44': 1, 'DTC_40': 1, 'DTC_42': 2, 'GBC_105': 2, 'GBC_117': 9, 'GBC_114': 17, 'GBC_115': 13, 'GBC_113': 32, 'BAGC_4': 1, 'DTC_98': 1, 'ETC_257': 1, 'GBC_19': 2, 'LR_36': 2}, 0.83749391174748222, 0.8328304097334337)\n",
      "Add model - GBC_115 - ensemble and score: ({'GBC_76': 3, 'GBC_74': 10, 'GBC_34': 6, 'GBC_79': 8, 'KNN_52': 3, 'DTC_44': 1, 'DTC_40': 1, 'DTC_42': 2, 'GBC_105': 2, 'GBC_117': 9, 'GBC_114': 17, 'GBC_115': 14, 'GBC_113': 32, 'BAGC_4': 1, 'DTC_98': 1, 'ETC_257': 1, 'GBC_19': 2, 'LR_36': 2}, 0.83749440229602889, 0.83280424025992328)\n",
      "Elminate models -- ensemble and score: ({'GBC_76': 3, 'GBC_74': 10, 'GBC_34': 6, 'GBC_79': 8, 'KNN_52': 3, 'DTC_44': 1, 'DTC_40': 1, 'DTC_42': 2, 'GBC_105': 2, 'GBC_117': 9, 'GBC_114': 17, 'GBC_115': 14, 'GBC_113': 32, 'BAGC_4': 1, 'DTC_98': 1, 'ETC_257': 1, 'GBC_19': 2, 'LR_36': 2}, 0.83749440229602889, 0.83280424025992328)\n",
      "Add model - GBC_19 - ensemble and score: ({'GBC_76': 3, 'GBC_74': 10, 'GBC_34': 6, 'GBC_79': 8, 'KNN_52': 3, 'DTC_44': 1, 'DTC_40': 1, 'DTC_42': 2, 'GBC_105': 2, 'GBC_117': 9, 'GBC_114': 17, 'GBC_115': 14, 'GBC_113': 32, 'BAGC_4': 1, 'DTC_98': 1, 'ETC_257': 1, 'GBC_19': 3, 'LR_36': 2}, 0.8375003433839826, 0.83282537714237403)\n",
      "Elminate models -- ensemble and score: ({'GBC_76': 3, 'GBC_74': 10, 'GBC_34': 6, 'GBC_79': 8, 'KNN_52': 3, 'DTC_44': 1, 'DTC_40': 1, 'DTC_42': 2, 'GBC_105': 2, 'GBC_117': 9, 'GBC_114': 17, 'GBC_115': 14, 'GBC_113': 32, 'BAGC_4': 1, 'DTC_98': 1, 'ETC_257': 1, 'GBC_19': 3, 'LR_36': 2}, 0.8375003433839826, 0.83282537714237403)\n",
      "Add model - BAGC_19 - ensemble and score: ({'GBC_76': 3, 'GBC_74': 10, 'GBC_34': 6, 'GBC_79': 8, 'KNN_52': 3, 'DTC_44': 1, 'DTC_40': 1, 'DTC_42': 2, 'GBC_105': 2, 'GBC_117': 9, 'GBC_114': 17, 'GBC_115': 14, 'GBC_113': 32, 'BAGC_19': 1, 'BAGC_4': 1, 'DTC_98': 1, 'ETC_257': 1, 'GBC_19': 3, 'LR_36': 2}, 0.83750077942713519, 0.83285985039113286)\n",
      "Elminate models -- ensemble and score: ({'GBC_76': 3, 'GBC_74': 10, 'GBC_34': 6, 'GBC_79': 8, 'KNN_52': 3, 'DTC_44': 1, 'DTC_40': 1, 'DTC_42': 2, 'GBC_105': 2, 'GBC_117': 9, 'GBC_114': 17, 'GBC_115': 14, 'GBC_113': 32, 'BAGC_19': 1, 'BAGC_4': 1, 'DTC_98': 1, 'ETC_257': 1, 'GBC_19': 3, 'LR_36': 2}, 0.83750077942713519, 0.83285985039113286)\n",
      "Add model - GBC_111 - ensemble and score: ({'GBC_76': 3, 'GBC_74': 10, 'GBC_34': 6, 'GBC_79': 8, 'KNN_52': 3, 'DTC_44': 1, 'DTC_40': 1, 'DTC_42': 2, 'GBC_105': 2, 'GBC_117': 9, 'GBC_114': 17, 'GBC_115': 14, 'GBC_113': 32, 'GBC_111': 1, 'BAGC_19': 1, 'BAGC_4': 1, 'DTC_98': 1, 'ETC_257': 1, 'GBC_19': 3, 'LR_36': 2}, 0.83750791963375859, 0.83293810718211136)\n",
      "Elminate models -- ensemble and score: ({'GBC_76': 3, 'GBC_74': 10, 'GBC_34': 6, 'GBC_79': 8, 'KNN_52': 3, 'DTC_44': 1, 'DTC_40': 1, 'DTC_42': 2, 'GBC_105': 2, 'GBC_117': 9, 'GBC_114': 17, 'GBC_115': 14, 'GBC_113': 32, 'GBC_111': 1, 'BAGC_19': 1, 'BAGC_4': 1, 'DTC_98': 1, 'ETC_257': 1, 'GBC_19': 3, 'LR_36': 2}, 0.83750791963375859, 0.83293810718211136)\n",
      "Add model - LR_64 - ensemble and score: ({'GBC_76': 3, 'GBC_74': 10, 'GBC_34': 6, 'GBC_79': 8, 'KNN_52': 3, 'DTC_44': 1, 'DTC_40': 1, 'BAGC_4': 1, 'DTC_42': 2, 'GBC_105': 2, 'GBC_117': 9, 'GBC_114': 17, 'GBC_115': 14, 'GBC_113': 32, 'GBC_111': 1, 'BAGC_19': 1, 'LR_64': 1, 'DTC_98': 1, 'ETC_257': 1, 'GBC_19': 3, 'LR_36': 2}, 0.8376508327770148, 0.83309965335512781)\n",
      "Elminate models -- ensemble and score: ({'GBC_76': 3, 'GBC_74': 10, 'GBC_34': 6, 'GBC_79': 8, 'KNN_52': 3, 'DTC_44': 1, 'DTC_40': 1, 'BAGC_4': 1, 'DTC_42': 2, 'GBC_105': 2, 'GBC_117': 9, 'GBC_114': 17, 'GBC_115': 14, 'GBC_113': 32, 'BAGC_19': 1, 'LR_64': 1, 'DTC_98': 1, 'ETC_257': 1, 'GBC_19': 3, 'LR_36': 2}, 0.83766042572637167, 0.83303246826448085)\n",
      "Add model - GBC_79 - ensemble and score: ({'GBC_76': 3, 'GBC_74': 10, 'LR_64': 1, 'GBC_34': 6, 'GBC_79': 9, 'KNN_52': 3, 'DTC_44': 1, 'DTC_40': 1, 'DTC_42': 2, 'GBC_105': 2, 'GBC_117': 9, 'GBC_114': 17, 'GBC_115': 14, 'GBC_113': 32, 'BAGC_19': 1, 'BAGC_4': 1, 'DTC_98': 1, 'ETC_257': 1, 'GBC_19': 3, 'LR_36': 2}, 0.83766058924255382, 0.83310518920529342)\n",
      "Elminate models -- ensemble and score: ({'GBC_76': 3, 'GBC_74': 10, 'LR_64': 1, 'GBC_34': 6, 'GBC_79': 9, 'KNN_52': 3, 'DTC_44': 1, 'DTC_40': 1, 'DTC_42': 2, 'GBC_105': 2, 'GBC_117': 9, 'GBC_114': 17, 'GBC_115': 14, 'GBC_113': 32, 'BAGC_19': 1, 'BAGC_4': 1, 'DTC_98': 1, 'ETC_257': 1, 'GBC_19': 3, 'LR_36': 2}, 0.83766058924255382, 0.83310518920529342)\n",
      "Add model - GBC_115 - ensemble and score: ({'GBC_76': 3, 'GBC_74': 10, 'GBC_34': 6, 'GBC_79': 9, 'KNN_52': 3, 'DTC_44': 1, 'DTC_40': 1, 'BAGC_4': 1, 'DTC_42': 2, 'GBC_105': 2, 'GBC_117': 9, 'GBC_114': 17, 'GBC_115': 15, 'GBC_113': 32, 'BAGC_19': 1, 'LR_64': 1, 'DTC_98': 1, 'ETC_257': 1, 'GBC_19': 3, 'LR_36': 2}, 0.83766375055541009, 0.83307549691804128)\n",
      "Elminate models -- ensemble and score: ({'GBC_76': 3, 'GBC_74': 10, 'GBC_34': 6, 'GBC_79': 9, 'KNN_52': 3, 'DTC_44': 1, 'DTC_40': 1, 'BAGC_4': 1, 'DTC_42': 2, 'GBC_105': 2, 'GBC_117': 9, 'GBC_114': 17, 'GBC_115': 15, 'GBC_113': 32, 'BAGC_19': 1, 'LR_64': 1, 'DTC_98': 1, 'ETC_257': 1, 'GBC_19': 3, 'LR_36': 2}, 0.83766375055541009, 0.83307549691804128)\n",
      "Add model - GBC_115 - ensemble and score: ({'GBC_76': 3, 'GBC_74': 10, 'LR_64': 1, 'GBC_34': 6, 'GBC_79': 9, 'KNN_52': 3, 'DTC_44': 1, 'DTC_40': 1, 'DTC_42': 2, 'GBC_105': 2, 'GBC_117': 9, 'GBC_114': 17, 'GBC_115': 16, 'GBC_113': 32, 'BAGC_19': 1, 'BAGC_4': 1, 'DTC_98': 1, 'ETC_257': 1, 'GBC_19': 3, 'LR_36': 2}, 0.83767290746161405, 0.83303926226241143)\n",
      "Elminate models -- ensemble and score: ({'GBC_76': 3, 'GBC_74': 10, 'LR_64': 1, 'GBC_34': 6, 'GBC_79': 9, 'KNN_52': 3, 'DTC_44': 1, 'DTC_40': 1, 'DTC_42': 2, 'GBC_105': 2, 'GBC_117': 9, 'GBC_114': 17, 'GBC_115': 16, 'GBC_113': 32, 'BAGC_19': 1, 'BAGC_4': 1, 'DTC_98': 1, 'ETC_257': 1, 'GBC_19': 3, 'LR_36': 2}, 0.83767290746161405, 0.83303926226241143)\n",
      "Add model - GBC_114 - ensemble and score: ({'GBC_76': 3, 'GBC_74': 10, 'GBC_34': 6, 'GBC_79': 9, 'KNN_52': 3, 'DTC_44': 1, 'DTC_40': 1, 'BAGC_4': 1, 'DTC_42': 2, 'GBC_105': 2, 'GBC_117': 9, 'GBC_114': 18, 'GBC_115': 16, 'GBC_113': 32, 'BAGC_19': 1, 'LR_64': 1, 'DTC_98': 1, 'ETC_257': 1, 'GBC_19': 3, 'LR_36': 2}, 0.83767661382841085, 0.83313890756539355)\n",
      "Elminate models -- ensemble and score: ({'GBC_76': 3, 'GBC_74': 10, 'GBC_34': 6, 'GBC_79': 9, 'KNN_52': 3, 'DTC_44': 1, 'DTC_40': 1, 'BAGC_4': 1, 'DTC_42': 2, 'GBC_105': 2, 'GBC_117': 9, 'GBC_114': 18, 'GBC_115': 16, 'GBC_113': 32, 'BAGC_19': 1, 'LR_64': 1, 'DTC_98': 1, 'ETC_257': 1, 'GBC_19': 3, 'LR_36': 2}, 0.83767661382841085, 0.83313890756539355)\n",
      "Add model - KNN_52 - ensemble and score: ({'GBC_76': 3, 'GBC_74': 10, 'LR_64': 1, 'GBC_34': 6, 'GBC_79': 9, 'KNN_52': 4, 'DTC_44': 1, 'DTC_40': 1, 'DTC_42': 2, 'GBC_105': 2, 'GBC_117': 9, 'GBC_114': 18, 'GBC_115': 16, 'GBC_113': 32, 'BAGC_19': 1, 'BAGC_4': 1, 'DTC_98': 1, 'ETC_257': 1, 'GBC_19': 3, 'LR_36': 2}, 0.83767939360350863, 0.83302944870984497)\n",
      "Elminate models -- ensemble and score: ({'GBC_76': 3, 'GBC_74': 10, 'LR_64': 1, 'GBC_34': 6, 'GBC_79': 9, 'KNN_52': 4, 'DTC_44': 1, 'DTC_40': 1, 'DTC_42': 2, 'GBC_105': 2, 'GBC_117': 9, 'GBC_114': 18, 'GBC_115': 16, 'GBC_113': 32, 'BAGC_19': 1, 'BAGC_4': 1, 'DTC_98': 1, 'ETC_257': 1, 'GBC_19': 3, 'LR_36': 2}, 0.83767939360350863, 0.83302944870984497)\n",
      "Add model - GBC_113 - ensemble and score: ({'GBC_76': 3, 'GBC_74': 10, 'GBC_34': 6, 'GBC_79': 9, 'KNN_52': 4, 'DTC_44': 1, 'DTC_40': 1, 'BAGC_4': 1, 'DTC_42': 2, 'GBC_105': 2, 'GBC_117': 9, 'GBC_114': 18, 'GBC_115': 16, 'GBC_113': 33, 'BAGC_19': 1, 'LR_64': 1, 'DTC_98': 1, 'ETC_257': 1, 'GBC_19': 3, 'LR_36': 2}, 0.83768631578855579, 0.83313387497433378)\n",
      "Elminate models -- ensemble and score: ({'GBC_76': 3, 'GBC_74': 10, 'GBC_34': 6, 'GBC_79': 9, 'KNN_52': 4, 'DTC_44': 1, 'DTC_40': 1, 'BAGC_4': 1, 'DTC_42': 2, 'GBC_105': 2, 'GBC_117': 9, 'GBC_114': 18, 'GBC_115': 16, 'GBC_113': 33, 'BAGC_19': 1, 'LR_64': 1, 'DTC_98': 1, 'ETC_257': 1, 'GBC_19': 3, 'LR_36': 2}, 0.83768631578855579, 0.83313387497433378)\n",
      "Add model - GBC_117 - ensemble and score: ({'GBC_76': 3, 'GBC_74': 10, 'LR_64': 1, 'GBC_34': 6, 'GBC_79': 9, 'KNN_52': 4, 'DTC_44': 1, 'DTC_40': 1, 'DTC_42': 2, 'GBC_105': 2, 'GBC_117': 10, 'GBC_114': 18, 'GBC_115': 16, 'GBC_113': 33, 'BAGC_19': 1, 'BAGC_4': 1, 'DTC_98': 1, 'ETC_257': 1, 'GBC_19': 3, 'LR_36': 2}, 0.83768746040183117, 0.83306543173592185)\n",
      "Elminate models -- ensemble and score: ({'GBC_76': 3, 'GBC_74': 10, 'LR_64': 1, 'GBC_34': 6, 'GBC_79': 9, 'KNN_52': 4, 'DTC_44': 1, 'DTC_40': 1, 'DTC_42': 2, 'GBC_105': 2, 'GBC_117': 10, 'GBC_114': 18, 'GBC_115': 16, 'GBC_113': 33, 'BAGC_19': 1, 'BAGC_4': 1, 'DTC_98': 1, 'ETC_257': 1, 'GBC_19': 3, 'LR_36': 2}, 0.83768746040183117, 0.83306543173592185)\n",
      "Add model - GBC_118 - ensemble and score: ({'GBC_76': 3, 'GBC_74': 10, 'GBC_34': 6, 'GBC_79': 9, 'KNN_52': 4, 'DTC_44': 1, 'DTC_40': 1, 'BAGC_4': 1, 'DTC_42': 2, 'GBC_105': 2, 'GBC_118': 1, 'GBC_117': 10, 'GBC_114': 18, 'GBC_115': 16, 'GBC_113': 33, 'BAGC_19': 1, 'LR_64': 1, 'DTC_98': 1, 'ETC_257': 1, 'GBC_19': 3, 'LR_36': 2}, 0.83768833248813634, 0.83296301850785692)\n",
      "Elminate models -- ensemble and score: ({'GBC_76': 3, 'GBC_74': 10, 'GBC_34': 6, 'GBC_79': 9, 'KNN_52': 4, 'DTC_44': 1, 'DTC_40': 1, 'BAGC_4': 1, 'DTC_42': 2, 'GBC_105': 2, 'GBC_118': 1, 'GBC_117': 10, 'GBC_114': 18, 'GBC_115': 16, 'GBC_113': 33, 'BAGC_19': 1, 'LR_64': 1, 'DTC_98': 1, 'ETC_257': 1, 'GBC_19': 3, 'LR_36': 2}, 0.83768833248813634, 0.83296301850785692)\n",
      "Add model - GBC_19 - ensemble and score: ({'GBC_76': 3, 'GBC_74': 10, 'LR_64': 1, 'GBC_34': 6, 'GBC_79': 9, 'KNN_52': 4, 'DTC_44': 1, 'DTC_40': 1, 'DTC_42': 2, 'GBC_105': 2, 'GBC_118': 1, 'GBC_117': 10, 'GBC_114': 18, 'GBC_115': 16, 'GBC_113': 33, 'BAGC_19': 1, 'BAGC_4': 1, 'DTC_98': 1, 'ETC_257': 1, 'GBC_19': 4, 'LR_36': 2}, 0.83770244938520089, 0.83299094938823826)\n",
      "Elminate models -- ensemble and score: ({'GBC_76': 3, 'GBC_74': 10, 'LR_64': 1, 'GBC_34': 6, 'GBC_79': 9, 'KNN_52': 4, 'DTC_44': 1, 'DTC_40': 1, 'DTC_42': 2, 'GBC_105': 2, 'GBC_118': 1, 'GBC_117': 10, 'GBC_114': 18, 'GBC_115': 16, 'GBC_113': 33, 'BAGC_19': 1, 'BAGC_4': 1, 'DTC_98': 1, 'ETC_257': 1, 'GBC_19': 4, 'LR_36': 2}, 0.83770244938520089, 0.83299094938823826)\n",
      "Add model - GBC_19 - ensemble and score: ({'GBC_76': 3, 'GBC_74': 10, 'GBC_34': 6, 'GBC_79': 9, 'KNN_52': 4, 'DTC_44': 1, 'DTC_40': 1, 'BAGC_4': 1, 'DTC_42': 2, 'GBC_105': 2, 'GBC_118': 1, 'GBC_117': 10, 'GBC_114': 18, 'GBC_115': 16, 'GBC_113': 33, 'BAGC_19': 1, 'LR_64': 1, 'DTC_98': 1, 'ETC_257': 1, 'GBC_19': 5, 'LR_36': 2}, 0.83772109022997343, 0.83300629879097032)\n",
      "Elminate models -- ensemble and score: ({'GBC_76': 3, 'GBC_74': 10, 'GBC_34': 6, 'GBC_79': 9, 'KNN_52': 4, 'DTC_44': 1, 'DTC_40': 1, 'BAGC_4': 1, 'DTC_42': 2, 'GBC_105': 2, 'GBC_118': 1, 'GBC_117': 10, 'GBC_114': 18, 'GBC_115': 16, 'GBC_113': 33, 'BAGC_19': 1, 'LR_64': 1, 'DTC_98': 1, 'ETC_257': 1, 'GBC_19': 5, 'LR_36': 2}, 0.83772109022997343, 0.83300629879097032)\n",
      "Add model - DTC_42 - ensemble and score: ({'GBC_76': 3, 'GBC_74': 10, 'LR_64': 1, 'GBC_34': 6, 'GBC_79': 9, 'KNN_52': 4, 'DTC_44': 1, 'DTC_40': 1, 'DTC_42': 3, 'GBC_105': 2, 'GBC_118': 1, 'GBC_117': 10, 'GBC_114': 18, 'GBC_115': 16, 'GBC_113': 33, 'BAGC_19': 1, 'BAGC_4': 1, 'DTC_98': 1, 'ETC_257': 1, 'GBC_19': 5, 'LR_36': 2}, 0.83773166427642343, 0.83332838461879122)\n",
      "Elminate models -- ensemble and score: ({'GBC_76': 3, 'GBC_74': 10, 'LR_64': 1, 'GBC_34': 6, 'GBC_79': 9, 'KNN_52': 4, 'DTC_44': 1, 'DTC_40': 1, 'DTC_42': 3, 'GBC_105': 2, 'GBC_117': 10, 'GBC_114': 18, 'GBC_115': 16, 'GBC_113': 33, 'BAGC_19': 1, 'BAGC_4': 1, 'DTC_98': 1, 'ETC_257': 1, 'GBC_19': 5, 'LR_36': 2}, 0.83773918602080533, 0.83337996867715336)\n",
      "Add model - GBC_1 - ensemble and score: ({'GBC_76': 3, 'GBC_74': 10, 'GBC_34': 6, 'GBC_79': 9, 'KNN_52': 4, 'GBC_1': 1, 'DTC_44': 1, 'DTC_40': 1, 'BAGC_4': 1, 'DTC_42': 3, 'GBC_105': 2, 'GBC_117': 10, 'GBC_114': 18, 'GBC_115': 16, 'GBC_113': 33, 'BAGC_19': 1, 'LR_64': 1, 'DTC_98': 1, 'ETC_257': 1, 'GBC_19': 5, 'LR_36': 2}, 0.83774027612868684, 0.83341041585306452)\n",
      "Elminate models -- ensemble and score: ({'GBC_76': 3, 'GBC_34': 6, 'GBC_79': 9, 'KNN_52': 4, 'GBC_1': 1, 'DTC_44': 1, 'DTC_40': 1, 'BAGC_4': 1, 'DTC_42': 3, 'GBC_105': 2, 'GBC_117': 10, 'GBC_114': 18, 'GBC_115': 16, 'GBC_113': 33, 'BAGC_19': 1, 'LR_64': 1, 'DTC_98': 1, 'ETC_257': 1, 'GBC_19': 5, 'LR_36': 2}, 0.83774561765730582, 0.83287771608939498)\n",
      "Add model - GBC_114 - ensemble and score: ({'GBC_76': 3, 'LR_64': 1, 'GBC_34': 6, 'GBC_79': 9, 'KNN_52': 4, 'GBC_1': 1, 'DTC_44': 1, 'DTC_40': 1, 'DTC_42': 3, 'GBC_105': 2, 'GBC_117': 10, 'GBC_114': 19, 'GBC_115': 16, 'GBC_113': 33, 'BAGC_19': 1, 'BAGC_4': 1, 'DTC_98': 1, 'ETC_257': 1, 'GBC_19': 5, 'LR_36': 2}, 0.83775297588550557, 0.83289482689899796)\n",
      "Elminate models -- ensemble and score: ({'GBC_76': 3, 'LR_64': 1, 'GBC_34': 6, 'GBC_79': 9, 'KNN_52': 4, 'GBC_1': 1, 'DTC_44': 1, 'DTC_40': 1, 'DTC_42': 3, 'GBC_105': 2, 'GBC_117': 10, 'GBC_114': 19, 'GBC_115': 16, 'GBC_113': 33, 'BAGC_19': 1, 'BAGC_4': 1, 'DTC_98': 1, 'ETC_257': 1, 'GBC_19': 5, 'LR_36': 2}, 0.83775297588550557, 0.83289482689899796)\n",
      "Add model - GBC_113 - ensemble and score: ({'GBC_76': 3, 'GBC_34': 6, 'GBC_79': 9, 'KNN_52': 4, 'GBC_1': 1, 'DTC_44': 1, 'DTC_40': 1, 'BAGC_4': 1, 'DTC_42': 3, 'GBC_105': 2, 'GBC_117': 10, 'GBC_114': 19, 'GBC_115': 16, 'GBC_113': 34, 'BAGC_19': 1, 'LR_64': 1, 'DTC_98': 1, 'ETC_257': 1, 'GBC_19': 5, 'LR_36': 2}, 0.83775804488715422, 0.83294414629138303)\n",
      "Elminate models -- ensemble and score: ({'GBC_76': 3, 'GBC_34': 6, 'GBC_79': 9, 'KNN_52': 4, 'GBC_1': 1, 'DTC_44': 1, 'DTC_40': 1, 'BAGC_4': 1, 'DTC_42': 3, 'GBC_105': 2, 'GBC_117': 10, 'GBC_114': 19, 'GBC_115': 16, 'GBC_113': 34, 'BAGC_19': 1, 'LR_64': 1, 'DTC_98': 1, 'ETC_257': 1, 'GBC_19': 5, 'LR_36': 2}, 0.83775804488715422, 0.83294414629138303)\n",
      "Add model - GBC_114 - ensemble and score: ({'GBC_76': 3, 'LR_64': 1, 'GBC_34': 6, 'GBC_79': 9, 'KNN_52': 4, 'GBC_1': 1, 'DTC_44': 1, 'DTC_40': 1, 'DTC_42': 3, 'GBC_105': 2, 'GBC_117': 10, 'GBC_114': 20, 'GBC_115': 16, 'GBC_113': 34, 'BAGC_19': 1, 'BAGC_4': 1, 'DTC_98': 1, 'ETC_257': 1, 'GBC_19': 5, 'LR_36': 2}, 0.83775973455437047, 0.83295874080545607)\n",
      "Elminate models -- ensemble and score: ({'GBC_76': 3, 'LR_64': 1, 'GBC_34': 6, 'GBC_79': 9, 'KNN_52': 4, 'GBC_1': 1, 'DTC_44': 1, 'DTC_40': 1, 'DTC_42': 3, 'GBC_105': 2, 'GBC_117': 10, 'GBC_114': 20, 'GBC_115': 16, 'GBC_113': 34, 'BAGC_19': 1, 'BAGC_4': 1, 'DTC_98': 1, 'ETC_257': 1, 'GBC_19': 5, 'LR_36': 2}, 0.83775973455437047, 0.83295874080545607)\n",
      "Add model - GBC_114 - ensemble and score: ({'GBC_76': 3, 'GBC_34': 6, 'GBC_79': 9, 'KNN_52': 4, 'GBC_1': 1, 'DTC_44': 1, 'DTC_40': 1, 'BAGC_4': 1, 'DTC_42': 3, 'GBC_105': 2, 'GBC_117': 10, 'GBC_114': 21, 'GBC_115': 16, 'GBC_113': 34, 'BAGC_19': 1, 'LR_64': 1, 'DTC_98': 1, 'ETC_257': 1, 'GBC_19': 5, 'LR_36': 2}, 0.83776305938340878, 0.8330055439023113)\n",
      "Elminate models -- ensemble and score: ({'GBC_76': 3, 'GBC_34': 6, 'GBC_79': 9, 'KNN_52': 4, 'GBC_1': 1, 'DTC_44': 1, 'DTC_40': 1, 'BAGC_4': 1, 'DTC_42': 3, 'GBC_105': 2, 'GBC_117': 10, 'GBC_114': 21, 'GBC_115': 16, 'GBC_113': 34, 'BAGC_19': 1, 'LR_64': 1, 'DTC_98': 1, 'ETC_257': 1, 'GBC_19': 5, 'LR_36': 2}, 0.83776305938340878, 0.8330055439023113)\n",
      "Add model - GBC_19 - ensemble and score: ({'GBC_76': 3, 'LR_64': 1, 'GBC_34': 6, 'GBC_79': 9, 'KNN_52': 4, 'GBC_1': 1, 'DTC_44': 1, 'DTC_40': 1, 'DTC_42': 3, 'GBC_105': 2, 'GBC_117': 10, 'GBC_114': 21, 'GBC_115': 16, 'GBC_113': 34, 'BAGC_19': 1, 'BAGC_4': 1, 'DTC_98': 1, 'ETC_257': 1, 'GBC_19': 6, 'LR_36': 2}, 0.83777554111865127, 0.83305586981290825)\n",
      "Elminate models -- ensemble and score: ({'GBC_76': 3, 'LR_64': 1, 'GBC_34': 6, 'GBC_79': 9, 'KNN_52': 4, 'GBC_1': 1, 'DTC_44': 1, 'DTC_40': 1, 'DTC_42': 3, 'GBC_105': 2, 'GBC_117': 10, 'GBC_114': 21, 'GBC_115': 16, 'GBC_113': 34, 'BAGC_19': 1, 'BAGC_4': 1, 'DTC_98': 1, 'ETC_257': 1, 'GBC_19': 6, 'LR_36': 2}, 0.83777554111865127, 0.83305586981290825)\n",
      "Add model - GBC_19 - ensemble and score: ({'GBC_76': 3, 'GBC_34': 6, 'GBC_79': 9, 'KNN_52': 4, 'GBC_1': 1, 'DTC_44': 1, 'DTC_40': 1, 'BAGC_4': 1, 'DTC_42': 3, 'GBC_105': 2, 'GBC_117': 10, 'GBC_114': 21, 'GBC_115': 16, 'GBC_113': 34, 'BAGC_19': 1, 'LR_64': 1, 'DTC_98': 1, 'ETC_257': 1, 'GBC_19': 7, 'LR_36': 2}, 0.83778175473357541, 0.83310418268708153)\n",
      "Elminate models -- ensemble and score: ({'GBC_76': 3, 'GBC_34': 6, 'GBC_79': 9, 'KNN_52': 4, 'GBC_1': 1, 'DTC_44': 1, 'DTC_40': 1, 'BAGC_4': 1, 'DTC_42': 3, 'GBC_105': 2, 'GBC_117': 10, 'GBC_114': 21, 'GBC_115': 16, 'GBC_113': 34, 'BAGC_19': 1, 'LR_64': 1, 'DTC_98': 1, 'ETC_257': 1, 'GBC_19': 7, 'LR_36': 2}, 0.83778175473357541, 0.83310418268708153)\n",
      "Add model - GBC_115 - ensemble and score: ({'GBC_76': 3, 'LR_64': 1, 'GBC_34': 6, 'GBC_79': 9, 'KNN_52': 4, 'GBC_1': 1, 'DTC_44': 1, 'DTC_40': 1, 'DTC_42': 3, 'GBC_105': 2, 'GBC_117': 10, 'GBC_114': 21, 'GBC_115': 17, 'GBC_113': 34, 'BAGC_19': 1, 'BAGC_4': 1, 'DTC_98': 1, 'ETC_257': 1, 'GBC_19': 7, 'LR_36': 2}, 0.83778251780909241, 0.83309210446853832)\n",
      "Elminate models -- ensemble and score: ({'GBC_76': 3, 'LR_64': 1, 'GBC_34': 6, 'GBC_79': 9, 'KNN_52': 4, 'GBC_1': 1, 'DTC_44': 1, 'DTC_40': 1, 'DTC_42': 3, 'GBC_105': 2, 'GBC_117': 10, 'GBC_114': 21, 'GBC_115': 17, 'GBC_113': 34, 'BAGC_19': 1, 'BAGC_4': 1, 'DTC_98': 1, 'ETC_257': 1, 'GBC_19': 7, 'LR_36': 2}, 0.83778251780909241, 0.83309210446853832)\n",
      "Add model - GBC_76 - ensemble and score: ({'GBC_76': 4, 'GBC_34': 6, 'GBC_79': 9, 'KNN_52': 4, 'GBC_1': 1, 'DTC_44': 1, 'DTC_40': 1, 'BAGC_4': 1, 'DTC_42': 3, 'GBC_105': 2, 'GBC_117': 10, 'GBC_114': 21, 'GBC_115': 17, 'GBC_113': 34, 'BAGC_19': 1, 'LR_64': 1, 'DTC_98': 1, 'ETC_257': 1, 'GBC_19': 7, 'LR_36': 2}, 0.83778905845638107, 0.83285808898426217)\n",
      "Elminate models -- ensemble and score: ({'GBC_76': 4, 'GBC_34': 6, 'GBC_79': 9, 'KNN_52': 4, 'DTC_44': 1, 'DTC_40': 1, 'BAGC_4': 1, 'DTC_42': 3, 'GBC_105': 2, 'GBC_117': 10, 'GBC_114': 21, 'GBC_115': 17, 'GBC_113': 34, 'BAGC_19': 1, 'LR_64': 1, 'DTC_98': 1, 'ETC_257': 1, 'GBC_19': 7, 'LR_36': 2}, 0.8377897670265041, 0.83284022328600016)\n",
      "Add model - GBC_113 - ensemble and score: ({'GBC_76': 4, 'LR_64': 1, 'GBC_34': 6, 'GBC_79': 9, 'KNN_52': 4, 'DTC_44': 1, 'DTC_40': 1, 'DTC_42': 3, 'GBC_105': 2, 'GBC_117': 10, 'GBC_114': 21, 'GBC_115': 17, 'GBC_113': 35, 'BAGC_19': 1, 'BAGC_4': 1, 'DTC_98': 1, 'ETC_257': 1, 'GBC_19': 7, 'LR_36': 2}, 0.83779826986797923, 0.83286161179800389)\n",
      "Elminate models -- ensemble and score: ({'GBC_76': 4, 'LR_64': 1, 'GBC_34': 6, 'GBC_79': 9, 'KNN_52': 4, 'DTC_44': 1, 'DTC_40': 1, 'DTC_42': 3, 'GBC_105': 2, 'GBC_117': 10, 'GBC_114': 21, 'GBC_115': 17, 'GBC_113': 35, 'BAGC_19': 1, 'BAGC_4': 1, 'DTC_98': 1, 'ETC_257': 1, 'GBC_19': 7, 'LR_36': 2}, 0.83779826986797923, 0.83286161179800389)\n",
      "Add model - DTC_88 - ensemble and score: ({'GBC_76': 4, 'GBC_34': 6, 'GBC_79': 9, 'KNN_52': 4, 'DTC_44': 1, 'DTC_40': 1, 'BAGC_4': 1, 'DTC_42': 3, 'GBC_105': 2, 'GBC_117': 10, 'GBC_114': 21, 'GBC_115': 17, 'GBC_113': 35, 'BAGC_19': 1, 'LR_64': 1, 'DTC_98': 1, 'DTC_88': 1, 'ETC_257': 1, 'GBC_19': 7, 'LR_36': 2}, 0.83788258971260843, 0.83348691123717189)\n",
      "Elminate models -- ensemble and score: ({'GBC_76': 4, 'GBC_34': 6, 'GBC_79': 9, 'KNN_52': 4, 'DTC_44': 1, 'DTC_40': 1, 'BAGC_4': 1, 'DTC_42': 3, 'GBC_105': 2, 'GBC_117': 10, 'GBC_114': 21, 'GBC_115': 17, 'GBC_113': 35, 'BAGC_19': 1, 'LR_64': 1, 'DTC_98': 1, 'DTC_88': 1, 'ETC_257': 1, 'GBC_19': 7, 'LR_36': 2}, 0.83788258971260843, 0.83348691123717189)\n",
      "Add model - GBC_113 - ensemble and score: ({'GBC_76': 4, 'LR_64': 1, 'GBC_34': 6, 'GBC_79': 9, 'KNN_52': 4, 'DTC_44': 1, 'DTC_40': 1, 'DTC_42': 3, 'GBC_105': 2, 'GBC_117': 10, 'GBC_114': 21, 'GBC_115': 17, 'GBC_113': 36, 'BAGC_19': 1, 'BAGC_4': 1, 'DTC_98': 1, 'DTC_88': 1, 'ETC_257': 1, 'GBC_19': 7, 'LR_36': 2}, 0.83788286223957875, 0.83355007025497119)\n",
      "Elminate models -- ensemble and score: ({'GBC_76': 4, 'LR_64': 1, 'GBC_34': 6, 'GBC_79': 9, 'KNN_52': 4, 'DTC_44': 1, 'DTC_40': 1, 'DTC_42': 3, 'GBC_105': 2, 'GBC_117': 10, 'GBC_114': 21, 'GBC_115': 17, 'GBC_113': 36, 'BAGC_19': 1, 'BAGC_4': 1, 'DTC_98': 1, 'DTC_88': 1, 'ETC_257': 1, 'GBC_19': 7, 'LR_36': 2}, 0.83788286223957875, 0.83355007025497119)\n",
      "Add model - GBC_111 - ensemble and score: ({'GBC_76': 4, 'GBC_34': 6, 'GBC_79': 9, 'KNN_52': 4, 'DTC_44': 1, 'DTC_40': 1, 'BAGC_4': 1, 'DTC_42': 3, 'GBC_105': 2, 'GBC_117': 10, 'GBC_114': 21, 'GBC_115': 17, 'GBC_113': 36, 'GBC_111': 1, 'BAGC_19': 1, 'LR_64': 1, 'DTC_98': 1, 'DTC_88': 1, 'ETC_257': 1, 'GBC_19': 7, 'LR_36': 2}, 0.83788635058479932, 0.83353522411134517)\n",
      "Elminate models -- ensemble and score: ({'GBC_76': 4, 'GBC_34': 6, 'GBC_79': 9, 'KNN_52': 4, 'DTC_44': 1, 'DTC_40': 1, 'BAGC_4': 1, 'DTC_42': 3, 'GBC_105': 2, 'GBC_117': 10, 'GBC_114': 21, 'GBC_115': 17, 'GBC_113': 36, 'BAGC_19': 1, 'LR_64': 1, 'DTC_98': 1, 'DTC_88': 1, 'ETC_257': 1, 'GBC_19': 7, 'LR_36': 2}, 0.83788902134910881, 0.8335631549917264)\n",
      "Add model - GBC_113 - ensemble and score: ({'GBC_76': 4, 'LR_64': 1, 'GBC_34': 6, 'GBC_79': 9, 'KNN_52': 4, 'DTC_44': 1, 'DTC_40': 1, 'DTC_42': 3, 'GBC_105': 2, 'GBC_117': 10, 'GBC_114': 21, 'GBC_115': 17, 'GBC_113': 37, 'BAGC_19': 1, 'BAGC_4': 1, 'DTC_98': 1, 'DTC_88': 1, 'ETC_257': 1, 'GBC_19': 7, 'LR_36': 2}, 0.83789817825531288, 0.83359687335182642)\n",
      "Elminate models -- ensemble and score: ({'GBC_76': 4, 'LR_64': 1, 'GBC_34': 6, 'GBC_79': 9, 'KNN_52': 4, 'DTC_44': 1, 'DTC_40': 1, 'DTC_42': 3, 'GBC_105': 2, 'GBC_117': 10, 'GBC_114': 21, 'GBC_115': 17, 'GBC_113': 37, 'BAGC_19': 1, 'BAGC_4': 1, 'DTC_98': 1, 'DTC_88': 1, 'ETC_257': 1, 'GBC_19': 7, 'LR_36': 2}, 0.83789817825531288, 0.83359687335182642)\n",
      "Add model - GBC_113 - ensemble and score: ({'GBC_76': 4, 'GBC_34': 6, 'GBC_79': 9, 'KNN_52': 4, 'DTC_44': 1, 'DTC_40': 1, 'BAGC_4': 1, 'DTC_42': 3, 'GBC_105': 2, 'GBC_117': 10, 'GBC_114': 21, 'GBC_115': 17, 'GBC_113': 38, 'BAGC_19': 1, 'LR_64': 1, 'DTC_98': 1, 'DTC_88': 1, 'ETC_257': 1, 'GBC_19': 7, 'LR_36': 2}, 0.83791038746358482, 0.83367513014280492)\n",
      "Elminate models -- ensemble and score: ({'GBC_76': 4, 'GBC_34': 6, 'GBC_79': 9, 'KNN_52': 4, 'DTC_44': 1, 'DTC_40': 1, 'BAGC_4': 1, 'DTC_42': 3, 'GBC_105': 2, 'GBC_117': 10, 'GBC_114': 21, 'GBC_115': 17, 'GBC_113': 38, 'BAGC_19': 1, 'LR_64': 1, 'DTC_98': 1, 'DTC_88': 1, 'ETC_257': 1, 'GBC_19': 7, 'LR_36': 2}, 0.83791038746358482, 0.83367513014280492)\n",
      "Add model - GBC_113 - ensemble and score: ({'GBC_76': 4, 'LR_64': 1, 'GBC_34': 6, 'GBC_79': 9, 'KNN_52': 4, 'DTC_44': 1, 'DTC_40': 1, 'DTC_42': 3, 'GBC_105': 2, 'GBC_117': 10, 'GBC_114': 21, 'GBC_115': 17, 'GBC_113': 39, 'BAGC_19': 1, 'BAGC_4': 1, 'DTC_98': 1, 'DTC_88': 1, 'ETC_257': 1, 'GBC_19': 7, 'LR_36': 2}, 0.83794309070002815, 0.83371639738949432)\n",
      "Elminate models -- ensemble and score: ({'GBC_76': 4, 'LR_64': 1, 'GBC_34': 6, 'GBC_79': 9, 'KNN_52': 4, 'DTC_44': 1, 'DTC_40': 1, 'DTC_42': 3, 'GBC_105': 2, 'GBC_117': 10, 'GBC_114': 21, 'GBC_115': 17, 'GBC_113': 39, 'BAGC_19': 1, 'BAGC_4': 1, 'DTC_98': 1, 'DTC_88': 1, 'ETC_257': 1, 'GBC_19': 7, 'LR_36': 2}, 0.83794309070002815, 0.83371639738949432)\n",
      "Add model - GBC_109 - ensemble and score: ({'GBC_76': 4, 'GBC_34': 6, 'GBC_79': 9, 'KNN_52': 4, 'DTC_44': 1, 'DTC_40': 1, 'BAGC_4': 1, 'DTC_42': 3, 'GBC_105': 2, 'GBC_109': 1, 'GBC_117': 10, 'GBC_114': 21, 'GBC_115': 17, 'GBC_113': 39, 'BAGC_19': 1, 'LR_64': 1, 'DTC_98': 1, 'DTC_88': 1, 'ETC_257': 1, 'GBC_19': 7, 'LR_36': 2}, 0.83794499838882053, 0.83374910923138246)\n",
      "Elminate models -- ensemble and score: ({'GBC_76': 4, 'GBC_34': 6, 'GBC_79': 9, 'KNN_52': 4, 'DTC_44': 1, 'DTC_40': 1, 'BAGC_4': 1, 'DTC_42': 3, 'GBC_105': 2, 'GBC_109': 1, 'GBC_117': 10, 'GBC_114': 21, 'GBC_115': 17, 'GBC_113': 39, 'BAGC_19': 1, 'LR_64': 1, 'DTC_98': 1, 'DTC_88': 1, 'ETC_257': 1, 'GBC_19': 7, 'LR_36': 2}, 0.83794499838882053, 0.83374910923138246)\n",
      "Add model - GBC_113 - ensemble and score: ({'GBC_76': 4, 'LR_64': 1, 'GBC_34': 6, 'GBC_79': 9, 'KNN_52': 4, 'DTC_44': 1, 'DTC_40': 1, 'DTC_42': 3, 'GBC_105': 2, 'GBC_109': 1, 'GBC_117': 10, 'GBC_114': 21, 'GBC_115': 17, 'GBC_113': 40, 'BAGC_19': 1, 'BAGC_4': 1, 'DTC_98': 1, 'DTC_88': 1, 'ETC_257': 1, 'GBC_19': 7, 'LR_36': 2}, 0.83795399177884244, 0.83374885760182949)\n",
      "Elminate models -- ensemble and score: ({'GBC_76': 4, 'LR_64': 1, 'GBC_34': 6, 'GBC_79': 9, 'KNN_52': 4, 'DTC_44': 1, 'DTC_40': 1, 'DTC_42': 3, 'GBC_105': 2, 'GBC_109': 1, 'GBC_117': 10, 'GBC_114': 21, 'GBC_115': 17, 'GBC_113': 40, 'BAGC_19': 1, 'BAGC_4': 1, 'DTC_98': 1, 'DTC_88': 1, 'ETC_257': 1, 'GBC_19': 7, 'LR_36': 2}, 0.83795399177884244, 0.83374885760182949)\n",
      "Add model - GBC_114 - ensemble and score: ({'GBC_76': 4, 'GBC_34': 6, 'GBC_79': 9, 'KNN_52': 4, 'DTC_44': 1, 'DTC_40': 1, 'BAGC_4': 1, 'DTC_42': 3, 'GBC_105': 2, 'GBC_109': 1, 'GBC_117': 10, 'GBC_114': 22, 'GBC_115': 17, 'GBC_113': 40, 'BAGC_19': 1, 'LR_64': 1, 'DTC_98': 1, 'DTC_88': 1, 'ETC_257': 1, 'GBC_19': 7, 'LR_36': 2}, 0.83795415529502471, 0.83376647167053841)\n",
      "Elminate models -- ensemble and score: ({'GBC_76': 4, 'GBC_34': 6, 'GBC_79': 9, 'KNN_52': 4, 'DTC_44': 1, 'DTC_40': 1, 'BAGC_4': 1, 'DTC_42': 3, 'GBC_105': 2, 'GBC_109': 1, 'GBC_117': 10, 'GBC_114': 22, 'GBC_115': 17, 'GBC_113': 40, 'LR_64': 1, 'DTC_98': 1, 'DTC_88': 1, 'ETC_257': 1, 'GBC_19': 7, 'LR_36': 2}, 0.83795431881120686, 0.83374055382658097)\n",
      "Add model - GBC_113 - ensemble and score: ({'GBC_76': 4, 'LR_64': 1, 'GBC_34': 6, 'GBC_79': 9, 'KNN_52': 4, 'DTC_44': 1, 'DTC_40': 1, 'DTC_42': 3, 'GBC_105': 2, 'GBC_109': 1, 'GBC_117': 10, 'GBC_114': 22, 'GBC_115': 17, 'GBC_113': 41, 'BAGC_4': 1, 'DTC_98': 1, 'DTC_88': 1, 'ETC_257': 1, 'GBC_19': 7, 'LR_36': 2}, 0.8379575346294571, 0.83379163462583683)\n",
      "Elminate models -- ensemble and score: ({'GBC_76': 4, 'LR_64': 1, 'GBC_34': 6, 'GBC_79': 9, 'KNN_52': 4, 'DTC_44': 1, 'DTC_40': 1, 'DTC_42': 3, 'GBC_105': 2, 'GBC_117': 10, 'GBC_114': 22, 'GBC_115': 17, 'GBC_113': 41, 'BAGC_4': 1, 'DTC_98': 1, 'DTC_88': 1, 'ETC_257': 1, 'GBC_19': 7, 'LR_36': 2}, 0.83795775265103334, 0.83375766463618395)\n",
      "Add model - GBC_79 - ensemble and score: ({'GBC_76': 4, 'GBC_34': 6, 'GBC_79': 10, 'KNN_52': 4, 'DTC_44': 1, 'DTC_40': 1, 'BAGC_4': 1, 'DTC_42': 3, 'GBC_105': 2, 'GBC_117': 10, 'GBC_114': 22, 'GBC_115': 17, 'GBC_113': 41, 'LR_64': 1, 'DTC_98': 1, 'DTC_88': 1, 'ETC_257': 1, 'GBC_19': 7, 'LR_36': 2}, 0.83796020539376648, 0.83372897886714359)\n",
      "Elminate models -- ensemble and score: ({'GBC_76': 4, 'GBC_34': 6, 'GBC_79': 10, 'KNN_52': 4, 'DTC_44': 1, 'DTC_40': 1, 'BAGC_4': 1, 'DTC_42': 3, 'GBC_105': 2, 'GBC_117': 10, 'GBC_114': 22, 'GBC_115': 17, 'GBC_113': 41, 'LR_64': 1, 'DTC_98': 1, 'DTC_88': 1, 'ETC_257': 1, 'GBC_19': 7, 'LR_36': 2}, 0.83796020539376648, 0.83372897886714359)\n",
      "Add model - GBC_115 - ensemble and score: ({'GBC_76': 4, 'LR_64': 1, 'GBC_34': 6, 'GBC_79': 10, 'KNN_52': 4, 'DTC_44': 1, 'DTC_40': 1, 'DTC_42': 3, 'GBC_105': 2, 'GBC_117': 10, 'GBC_114': 22, 'GBC_115': 18, 'GBC_113': 41, 'BAGC_4': 1, 'DTC_98': 1, 'DTC_88': 1, 'ETC_257': 1, 'GBC_19': 7, 'LR_36': 2}, 0.83796293066347016, 0.83372847560803764)\n",
      "Elminate models -- ensemble and score: ({'GBC_76': 4, 'LR_64': 1, 'GBC_34': 6, 'GBC_79': 10, 'KNN_52': 4, 'DTC_44': 1, 'DTC_40': 1, 'DTC_42': 3, 'GBC_105': 2, 'GBC_117': 10, 'GBC_114': 22, 'GBC_115': 18, 'GBC_113': 41, 'BAGC_4': 1, 'DTC_98': 1, 'DTC_88': 1, 'ETC_257': 1, 'GBC_19': 7, 'LR_36': 2}, 0.83796293066347016, 0.83372847560803764)\n",
      "Add model - GBC_111 - ensemble and score: ({'GBC_76': 4, 'GBC_34': 6, 'GBC_79': 10, 'KNN_52': 4, 'DTC_44': 1, 'DTC_40': 1, 'BAGC_4': 1, 'DTC_42': 3, 'GBC_105': 2, 'GBC_117': 10, 'GBC_114': 22, 'GBC_115': 18, 'GBC_113': 41, 'GBC_111': 1, 'LR_64': 1, 'DTC_98': 1, 'DTC_88': 1, 'ETC_257': 1, 'GBC_19': 7, 'LR_36': 2}, 0.83796423879292803, 0.83368620184313613)\n",
      "Elminate models -- ensemble and score: ({'GBC_76': 4, 'GBC_34': 6, 'GBC_79': 10, 'KNN_52': 4, 'DTC_44': 1, 'DTC_40': 1, 'BAGC_4': 1, 'DTC_42': 3, 'GBC_105': 2, 'GBC_117': 10, 'GBC_114': 22, 'GBC_115': 18, 'GBC_113': 41, 'GBC_111': 1, 'LR_64': 1, 'DTC_98': 1, 'DTC_88': 1, 'ETC_257': 1, 'GBC_19': 7, 'LR_36': 2}, 0.83796423879292803, 0.83368620184313613)\n",
      "Add model - GBC_79 - ensemble and score: ({'GBC_76': 4, 'LR_64': 1, 'GBC_34': 6, 'GBC_79': 11, 'KNN_52': 4, 'DTC_44': 1, 'DTC_40': 1, 'DTC_42': 3, 'GBC_105': 2, 'GBC_117': 10, 'GBC_114': 22, 'GBC_115': 18, 'GBC_113': 41, 'GBC_111': 1, 'BAGC_4': 1, 'DTC_98': 1, 'DTC_88': 1, 'ETC_257': 1, 'GBC_19': 7, 'LR_36': 2}, 0.837971106472581, 0.83371262294619952)\n",
      "Elminate models -- ensemble and score: ({'GBC_76': 4, 'LR_64': 1, 'GBC_34': 6, 'GBC_79': 11, 'KNN_52': 4, 'DTC_44': 1, 'DTC_40': 1, 'DTC_42': 3, 'GBC_105': 2, 'GBC_117': 10, 'GBC_114': 22, 'GBC_115': 18, 'GBC_113': 41, 'BAGC_4': 1, 'DTC_98': 1, 'DTC_88': 1, 'ETC_257': 1, 'GBC_19': 7, 'LR_36': 2}, 0.83797677503356438, 0.83375389019288915)\n",
      "Add model - GBC_113 - ensemble and score: ({'GBC_76': 4, 'GBC_34': 6, 'GBC_79': 11, 'KNN_52': 4, 'DTC_44': 1, 'DTC_40': 1, 'BAGC_4': 1, 'DTC_42': 3, 'GBC_105': 2, 'GBC_117': 10, 'GBC_114': 22, 'GBC_115': 18, 'GBC_113': 42, 'LR_64': 1, 'DTC_98': 1, 'DTC_88': 1, 'ETC_257': 1, 'GBC_19': 7, 'LR_36': 2}, 0.83798320667006487, 0.83374432826987577)\n",
      "Elminate models -- ensemble and score: ({'GBC_76': 4, 'GBC_34': 6, 'GBC_79': 11, 'KNN_52': 4, 'DTC_44': 1, 'DTC_40': 1, 'BAGC_4': 1, 'DTC_42': 3, 'GBC_105': 2, 'GBC_117': 10, 'GBC_114': 22, 'GBC_115': 18, 'GBC_113': 42, 'LR_64': 1, 'DTC_98': 1, 'DTC_88': 1, 'ETC_257': 1, 'GBC_19': 7, 'LR_36': 2}, 0.83798320667006487, 0.83374432826987577)\n",
      "Add model - GBC_113 - ensemble and score: ({'GBC_76': 4, 'LR_64': 1, 'GBC_34': 6, 'GBC_79': 11, 'KNN_52': 4, 'DTC_44': 1, 'DTC_40': 1, 'DTC_42': 3, 'GBC_105': 2, 'GBC_117': 10, 'GBC_114': 22, 'GBC_115': 18, 'GBC_113': 43, 'BAGC_4': 1, 'DTC_98': 1, 'DTC_88': 1, 'ETC_257': 1, 'GBC_19': 7, 'LR_36': 2}, 0.83798587743437447, 0.83379918351242654)\n",
      "Elminate models -- ensemble and score: ({'GBC_76': 4, 'LR_64': 1, 'GBC_34': 6, 'GBC_79': 11, 'KNN_52': 4, 'DTC_44': 1, 'DTC_40': 1, 'DTC_42': 3, 'GBC_105': 2, 'GBC_117': 10, 'GBC_114': 22, 'GBC_115': 18, 'GBC_113': 43, 'BAGC_4': 1, 'DTC_98': 1, 'DTC_88': 1, 'ETC_257': 1, 'GBC_19': 7, 'LR_36': 2}, 0.83798587743437447, 0.83379918351242654)\n",
      "Add model - GBC_104 - ensemble and score: ({'GBC_76': 4, 'GBC_34': 6, 'GBC_79': 11, 'KNN_52': 4, 'DTC_44': 1, 'DTC_40': 1, 'BAGC_4': 1, 'DTC_42': 3, 'GBC_105': 2, 'GBC_104': 1, 'GBC_117': 10, 'GBC_114': 22, 'GBC_115': 18, 'GBC_113': 43, 'LR_64': 1, 'DTC_98': 1, 'DTC_88': 1, 'ETC_257': 1, 'GBC_19': 7, 'LR_36': 2}, 0.83798631347752695, 0.83365499977856605)\n",
      "Elminate models -- ensemble and score: ({'GBC_76': 4, 'GBC_34': 6, 'GBC_79': 11, 'KNN_52': 4, 'DTC_44': 1, 'DTC_40': 1, 'BAGC_4': 1, 'DTC_42': 3, 'GBC_105': 2, 'GBC_104': 1, 'GBC_117': 10, 'GBC_114': 22, 'GBC_115': 18, 'GBC_113': 43, 'LR_64': 1, 'DTC_98': 1, 'DTC_88': 1, 'ETC_257': 1, 'GBC_19': 7, 'LR_36': 2}, 0.83798631347752695, 0.83365499977856605)\n",
      "Add model - GBC_74 - ensemble and score: ({'GBC_76': 4, 'GBC_74': 1, 'LR_64': 1, 'GBC_34': 6, 'GBC_79': 11, 'KNN_52': 4, 'DTC_44': 1, 'DTC_40': 1, 'DTC_42': 3, 'GBC_105': 2, 'GBC_104': 1, 'GBC_117': 10, 'GBC_114': 22, 'GBC_115': 18, 'GBC_113': 43, 'BAGC_4': 1, 'DTC_98': 1, 'DTC_88': 1, 'ETC_257': 1, 'GBC_19': 7, 'LR_36': 2}, 0.83798991083353569, 0.83367286547682795)\n",
      "Elminate models -- ensemble and score: ({'GBC_76': 4, 'GBC_74': 1, 'LR_64': 1, 'GBC_34': 6, 'GBC_79': 11, 'KNN_52': 4, 'DTC_44': 1, 'DTC_40': 1, 'DTC_42': 3, 'GBC_105': 2, 'GBC_104': 1, 'GBC_117': 10, 'GBC_114': 22, 'GBC_115': 18, 'GBC_113': 43, 'BAGC_4': 1, 'DTC_98': 1, 'DTC_88': 1, 'ETC_257': 1, 'GBC_19': 7, 'LR_36': 2}, 0.83798991083353569, 0.83367286547682795)\n",
      "Add model - GBC_105 - ensemble and score: ({'GBC_76': 4, 'GBC_74': 1, 'GBC_34': 6, 'GBC_79': 11, 'KNN_52': 4, 'DTC_44': 1, 'DTC_40': 1, 'BAGC_4': 1, 'DTC_42': 3, 'GBC_105': 3, 'GBC_104': 1, 'GBC_117': 10, 'GBC_114': 22, 'GBC_115': 18, 'GBC_113': 43, 'LR_64': 1, 'DTC_98': 1, 'DTC_88': 1, 'ETC_257': 1, 'GBC_19': 7, 'LR_36': 2}, 0.83799470730821413, 0.83346829065025108)\n",
      "Elminate models -- ensemble and score: ({'GBC_76': 4, 'GBC_74': 1, 'GBC_34': 6, 'GBC_79': 11, 'KNN_52': 4, 'DTC_44': 1, 'DTC_40': 1, 'BAGC_4': 1, 'DTC_42': 3, 'GBC_105': 3, 'GBC_104': 1, 'GBC_117': 10, 'GBC_114': 22, 'GBC_115': 18, 'GBC_113': 43, 'LR_64': 1, 'DTC_98': 1, 'DTC_88': 1, 'ETC_257': 1, 'GBC_19': 7, 'LR_36': 2}, 0.83799470730821413, 0.83346829065025108)\n",
      "Add model - GBC_111 - ensemble and score: ({'GBC_76': 4, 'GBC_74': 1, 'LR_64': 1, 'GBC_34': 6, 'GBC_79': 11, 'KNN_52': 4, 'DTC_44': 1, 'DTC_40': 1, 'DTC_42': 3, 'GBC_105': 3, 'GBC_104': 1, 'GBC_117': 10, 'GBC_114': 22, 'GBC_115': 18, 'GBC_113': 43, 'GBC_111': 1, 'BAGC_4': 1, 'DTC_98': 1, 'DTC_88': 1, 'ETC_257': 1, 'GBC_19': 7, 'LR_36': 2}, 0.83800408223599443, 0.8334765944254996)\n",
      "Elminate models -- ensemble and score: ({'GBC_76': 4, 'GBC_74': 1, 'LR_64': 1, 'GBC_34': 6, 'GBC_79': 11, 'KNN_52': 4, 'DTC_44': 1, 'DTC_40': 1, 'DTC_42': 3, 'GBC_105': 3, 'GBC_104': 1, 'GBC_117': 10, 'GBC_114': 22, 'GBC_115': 18, 'GBC_113': 43, 'GBC_111': 1, 'BAGC_4': 1, 'DTC_98': 1, 'DTC_88': 1, 'ETC_257': 1, 'GBC_19': 7, 'LR_36': 2}, 0.83800408223599443, 0.8334765944254996)\n",
      "Add model - GBC_19 - ensemble and score: ({'GBC_76': 4, 'GBC_74': 1, 'GBC_34': 6, 'GBC_79': 11, 'KNN_52': 4, 'DTC_44': 1, 'DTC_40': 1, 'BAGC_4': 1, 'DTC_42': 3, 'GBC_105': 3, 'GBC_104': 1, 'GBC_117': 10, 'GBC_114': 22, 'GBC_115': 18, 'GBC_113': 43, 'GBC_111': 1, 'LR_64': 1, 'DTC_98': 1, 'DTC_88': 1, 'ETC_257': 1, 'GBC_19': 8, 'LR_36': 2}, 0.83800560838702831, 0.83350855137872881)\n",
      "Elminate models -- ensemble and score: ({'GBC_76': 4, 'GBC_74': 1, 'GBC_34': 6, 'GBC_79': 11, 'KNN_52': 4, 'DTC_44': 1, 'DTC_40': 1, 'BAGC_4': 1, 'DTC_42': 3, 'GBC_105': 3, 'GBC_104': 1, 'GBC_117': 10, 'GBC_114': 22, 'GBC_115': 18, 'GBC_113': 43, 'GBC_111': 1, 'LR_64': 1, 'DTC_98': 1, 'DTC_88': 1, 'ETC_257': 1, 'GBC_19': 8, 'LR_36': 2}, 0.83800560838702831, 0.83350855137872881)\n",
      "Add model - GBC_114 - ensemble and score: ({'GBC_76': 4, 'GBC_74': 1, 'LR_64': 1, 'GBC_34': 6, 'GBC_79': 11, 'KNN_52': 4, 'DTC_44': 1, 'DTC_40': 1, 'DTC_42': 3, 'GBC_105': 3, 'GBC_104': 1, 'GBC_117': 10, 'GBC_114': 23, 'GBC_115': 18, 'GBC_113': 43, 'GBC_111': 1, 'BAGC_4': 1, 'DTC_98': 1, 'DTC_88': 1, 'ETC_257': 1, 'GBC_19': 8, 'LR_36': 2}, 0.83800931475382534, 0.83352767522475546)\n",
      "Elminate models -- ensemble and score: ({'GBC_76': 4, 'GBC_74': 1, 'LR_64': 1, 'GBC_34': 6, 'GBC_79': 11, 'KNN_52': 4, 'DTC_44': 1, 'DTC_40': 1, 'DTC_42': 3, 'GBC_105': 3, 'GBC_104': 1, 'GBC_117': 10, 'GBC_114': 23, 'GBC_115': 18, 'GBC_113': 43, 'GBC_111': 1, 'BAGC_4': 1, 'DTC_98': 1, 'DTC_88': 1, 'ETC_257': 1, 'GBC_19': 8, 'LR_36': 2}, 0.83800931475382534, 0.83352767522475546)\n",
      "Add model - GBC_19 - ensemble and score: ({'GBC_76': 4, 'GBC_74': 1, 'GBC_34': 6, 'GBC_79': 11, 'KNN_52': 4, 'DTC_44': 1, 'DTC_40': 1, 'BAGC_4': 1, 'DTC_42': 3, 'GBC_105': 3, 'GBC_104': 1, 'GBC_117': 10, 'GBC_114': 23, 'GBC_115': 18, 'GBC_113': 43, 'GBC_111': 1, 'LR_64': 1, 'DTC_98': 1, 'DTC_88': 1, 'ETC_257': 1, 'GBC_19': 9, 'LR_36': 2}, 0.8380098053023719, 0.83354201810927575)\n",
      "Elminate models -- ensemble and score: ({'GBC_76': 4, 'GBC_74': 1, 'GBC_34': 6, 'GBC_79': 11, 'KNN_52': 4, 'DTC_44': 1, 'DTC_40': 1, 'BAGC_4': 1, 'DTC_42': 3, 'GBC_105': 3, 'GBC_104': 1, 'GBC_117': 10, 'GBC_114': 23, 'GBC_115': 18, 'GBC_113': 43, 'GBC_111': 1, 'LR_64': 1, 'DTC_98': 1, 'DTC_88': 1, 'ETC_257': 1, 'GBC_19': 9, 'LR_36': 2}, 0.8380098053023719, 0.83354201810927575)\n",
      "Add model - GBC_34 - ensemble and score: ({'GBC_76': 4, 'GBC_74': 1, 'LR_64': 1, 'GBC_34': 7, 'GBC_79': 11, 'KNN_52': 4, 'DTC_44': 1, 'DTC_40': 1, 'DTC_42': 3, 'GBC_105': 3, 'GBC_104': 1, 'GBC_117': 10, 'GBC_114': 23, 'GBC_115': 18, 'GBC_113': 43, 'GBC_111': 1, 'BAGC_4': 1, 'DTC_98': 1, 'DTC_88': 1, 'ETC_257': 1, 'GBC_19': 9, 'LR_36': 2}, 0.83802730153386895, 0.83351937144950694)\n",
      "Elminate models -- ensemble and score: ({'GBC_76': 4, 'LR_64': 1, 'GBC_34': 7, 'GBC_79': 11, 'KNN_52': 4, 'DTC_44': 1, 'DTC_40': 1, 'DTC_42': 3, 'GBC_105': 3, 'GBC_104': 1, 'GBC_117': 10, 'GBC_114': 23, 'GBC_115': 18, 'GBC_113': 43, 'GBC_111': 1, 'BAGC_4': 1, 'DTC_98': 1, 'DTC_88': 1, 'ETC_257': 1, 'GBC_19': 9, 'LR_36': 2}, 0.83803961975292918, 0.83352717196564963)\n",
      "Add model - GBC_19 - ensemble and score: ({'GBC_76': 4, 'GBC_34': 7, 'GBC_79': 11, 'KNN_52': 4, 'DTC_44': 1, 'DTC_40': 1, 'BAGC_4': 1, 'DTC_42': 3, 'GBC_105': 3, 'GBC_104': 1, 'GBC_117': 10, 'GBC_114': 23, 'GBC_115': 18, 'GBC_113': 43, 'GBC_111': 1, 'LR_64': 1, 'DTC_98': 1, 'DTC_88': 1, 'ETC_257': 1, 'GBC_19': 10, 'LR_36': 2}, 0.83804076436620467, 0.83352666870654357)\n",
      "Elminate models -- ensemble and score: ({'GBC_76': 4, 'GBC_34': 7, 'GBC_79': 11, 'KNN_52': 4, 'DTC_44': 1, 'DTC_40': 1, 'BAGC_4': 1, 'DTC_42': 3, 'GBC_105': 3, 'GBC_104': 1, 'GBC_117': 10, 'GBC_114': 23, 'GBC_115': 18, 'GBC_113': 43, 'GBC_111': 1, 'LR_64': 1, 'DTC_98': 1, 'DTC_88': 1, 'ETC_257': 1, 'GBC_19': 10, 'LR_36': 2}, 0.83804076436620467, 0.83352666870654357)\n",
      "Add model - GBC_19 - ensemble and score: ({'GBC_76': 4, 'LR_64': 1, 'GBC_34': 7, 'GBC_79': 11, 'KNN_52': 4, 'DTC_44': 1, 'DTC_40': 1, 'DTC_42': 3, 'GBC_105': 3, 'GBC_104': 1, 'GBC_117': 10, 'GBC_114': 23, 'GBC_115': 18, 'GBC_113': 43, 'GBC_111': 1, 'BAGC_4': 1, 'DTC_98': 1, 'DTC_88': 1, 'ETC_257': 1, 'GBC_19': 11, 'LR_36': 2}, 0.83804844962676883, 0.83347432975952263)\n",
      "Elminate models -- ensemble and score: ({'GBC_76': 4, 'LR_64': 1, 'GBC_34': 7, 'GBC_79': 11, 'KNN_52': 4, 'DTC_44': 1, 'DTC_40': 1, 'DTC_42': 3, 'GBC_105': 3, 'GBC_104': 1, 'GBC_117': 10, 'GBC_114': 23, 'GBC_115': 18, 'GBC_113': 43, 'BAGC_4': 1, 'DTC_98': 1, 'DTC_88': 1, 'ETC_257': 1, 'GBC_19': 11, 'LR_36': 2}, 0.83805204698277758, 0.83348615634851297)\n",
      "Add model - GBC_74 - ensemble and score: ({'GBC_76': 4, 'GBC_74': 1, 'GBC_34': 7, 'GBC_79': 11, 'KNN_52': 4, 'DTC_44': 1, 'DTC_40': 1, 'BAGC_4': 1, 'DTC_42': 3, 'GBC_105': 3, 'GBC_104': 1, 'GBC_117': 10, 'GBC_114': 23, 'GBC_115': 18, 'GBC_113': 43, 'LR_64': 1, 'DTC_98': 1, 'DTC_88': 1, 'ETC_257': 1, 'GBC_19': 11, 'LR_36': 2}, 0.8380549902740575, 0.83357196202608086)\n",
      "Elminate models -- ensemble and score: ({'GBC_76': 4, 'GBC_74': 1, 'GBC_34': 7, 'GBC_79': 11, 'KNN_52': 4, 'DTC_44': 1, 'DTC_40': 1, 'BAGC_4': 1, 'DTC_42': 3, 'GBC_105': 3, 'GBC_104': 1, 'GBC_117': 10, 'GBC_114': 23, 'GBC_115': 18, 'GBC_113': 43, 'LR_64': 1, 'DTC_98': 1, 'DTC_88': 1, 'ETC_257': 1, 'GBC_19': 11, 'LR_36': 2}, 0.8380549902740575, 0.83357196202608086)\n",
      "Add model - GBC_19 - ensemble and score: ({'GBC_76': 4, 'GBC_74': 1, 'LR_64': 1, 'GBC_34': 7, 'GBC_79': 11, 'KNN_52': 4, 'DTC_44': 1, 'DTC_40': 1, 'DTC_42': 3, 'GBC_105': 3, 'GBC_104': 1, 'GBC_117': 10, 'GBC_114': 23, 'GBC_115': 18, 'GBC_113': 43, 'BAGC_4': 1, 'DTC_98': 1, 'DTC_88': 1, 'ETC_257': 1, 'GBC_19': 12, 'LR_36': 2}, 0.83805689796284999, 0.83357800113535263)\n",
      "Elminate models -- ensemble and score: ({'GBC_76': 4, 'GBC_74': 1, 'LR_64': 1, 'GBC_34': 7, 'GBC_79': 11, 'KNN_52': 4, 'DTC_44': 1, 'DTC_40': 1, 'DTC_42': 3, 'GBC_105': 3, 'GBC_117': 10, 'GBC_114': 23, 'GBC_115': 18, 'GBC_113': 43, 'BAGC_4': 1, 'DTC_98': 1, 'DTC_88': 1, 'ETC_257': 1, 'GBC_19': 12, 'LR_36': 2}, 0.83805804257612559, 0.833704319170951)\n",
      "Add model - GBC_114 - ensemble and score: ({'GBC_76': 4, 'GBC_74': 1, 'GBC_34': 7, 'GBC_79': 11, 'KNN_52': 4, 'DTC_44': 1, 'DTC_40': 1, 'BAGC_4': 1, 'DTC_42': 3, 'GBC_105': 3, 'GBC_117': 10, 'GBC_114': 24, 'GBC_115': 18, 'GBC_113': 43, 'LR_64': 1, 'DTC_98': 1, 'DTC_88': 1, 'ETC_257': 1, 'GBC_19': 12, 'LR_36': 2}, 0.83806578234208362, 0.83366305192426149)\n",
      "Elminate models -- ensemble and score: ({'GBC_76': 4, 'GBC_74': 1, 'GBC_34': 7, 'GBC_79': 11, 'KNN_52': 4, 'DTC_44': 1, 'DTC_40': 1, 'BAGC_4': 1, 'DTC_42': 3, 'GBC_105': 3, 'GBC_117': 10, 'GBC_114': 24, 'GBC_115': 18, 'GBC_113': 43, 'LR_64': 1, 'DTC_98': 1, 'DTC_88': 1, 'ETC_257': 1, 'GBC_19': 12, 'LR_36': 2}, 0.83806578234208362, 0.83366305192426149)\n",
      "Add model - GBC_114 - ensemble and score: ({'GBC_76': 4, 'GBC_74': 1, 'LR_64': 1, 'GBC_34': 7, 'GBC_79': 11, 'KNN_52': 4, 'DTC_44': 1, 'DTC_40': 1, 'DTC_42': 3, 'GBC_105': 3, 'GBC_117': 10, 'GBC_114': 25, 'GBC_115': 18, 'GBC_113': 43, 'BAGC_4': 1, 'DTC_98': 1, 'DTC_88': 1, 'ETC_257': 1, 'GBC_19': 12, 'LR_36': 2}, 0.83807744649641502, 0.83367563340191086)\n",
      "Elminate models -- ensemble and score: ({'GBC_76': 4, 'GBC_74': 1, 'LR_64': 1, 'GBC_34': 7, 'GBC_79': 11, 'KNN_52': 4, 'DTC_44': 1, 'DTC_40': 1, 'DTC_42': 3, 'GBC_105': 3, 'GBC_117': 10, 'GBC_114': 25, 'GBC_115': 18, 'GBC_113': 43, 'BAGC_4': 1, 'DTC_98': 1, 'DTC_88': 1, 'ETC_257': 1, 'GBC_19': 12, 'LR_36': 2}, 0.83807744649641502, 0.83367563340191086)\n",
      "Add model - GBC_19 - ensemble and score: ({'GBC_76': 4, 'GBC_74': 1, 'GBC_34': 7, 'GBC_79': 11, 'KNN_52': 4, 'DTC_44': 1, 'DTC_40': 1, 'BAGC_4': 1, 'DTC_42': 3, 'GBC_105': 3, 'GBC_117': 10, 'GBC_114': 25, 'GBC_115': 18, 'GBC_113': 43, 'LR_64': 1, 'DTC_98': 1, 'DTC_88': 1, 'ETC_257': 1, 'GBC_19': 13, 'LR_36': 2}, 0.83807777352877943, 0.83370457080050409)\n",
      "Elminate models -- ensemble and score: ({'GBC_76': 4, 'GBC_74': 1, 'GBC_34': 7, 'GBC_79': 11, 'KNN_52': 4, 'DTC_44': 1, 'DTC_40': 1, 'BAGC_4': 1, 'DTC_42': 3, 'GBC_105': 3, 'GBC_117': 10, 'GBC_114': 25, 'GBC_115': 18, 'GBC_113': 43, 'LR_64': 1, 'DTC_98': 1, 'DTC_88': 1, 'ETC_257': 1, 'GBC_19': 13, 'LR_36': 2}, 0.83807777352877943, 0.83370457080050409)\n",
      "Add model - GBC_114 - ensemble and score: ({'GBC_76': 4, 'GBC_74': 1, 'LR_64': 1, 'GBC_34': 7, 'GBC_79': 11, 'KNN_52': 4, 'DTC_44': 1, 'DTC_40': 1, 'DTC_42': 3, 'GBC_105': 3, 'GBC_117': 10, 'GBC_114': 26, 'GBC_115': 18, 'GBC_113': 43, 'BAGC_4': 1, 'DTC_98': 1, 'DTC_88': 1, 'ETC_257': 1, 'GBC_19': 13, 'LR_36': 2}, 0.83808949218850493, 0.83370784198469283)\n",
      "Elminate models -- ensemble and score: ({'GBC_76': 4, 'GBC_74': 1, 'LR_64': 1, 'GBC_34': 7, 'GBC_79': 11, 'KNN_52': 4, 'DTC_44': 1, 'DTC_40': 1, 'DTC_42': 3, 'GBC_105': 3, 'GBC_117': 10, 'GBC_114': 26, 'GBC_115': 18, 'GBC_113': 43, 'BAGC_4': 1, 'DTC_98': 1, 'DTC_88': 1, 'ETC_257': 1, 'GBC_19': 13, 'LR_36': 2}, 0.83808949218850493, 0.83370784198469283)\n",
      "Add model - GBC_113 - ensemble and score: ({'GBC_76': 4, 'GBC_74': 1, 'GBC_34': 7, 'GBC_79': 11, 'KNN_52': 4, 'DTC_44': 1, 'DTC_40': 1, 'BAGC_4': 1, 'DTC_42': 3, 'GBC_105': 3, 'GBC_117': 10, 'GBC_114': 26, 'GBC_115': 18, 'GBC_113': 44, 'LR_64': 1, 'DTC_98': 1, 'DTC_88': 1, 'ETC_257': 1, 'GBC_19': 13, 'LR_36': 2}, 0.83809832206234458, 0.83373375982865028)\n",
      "Elminate models -- ensemble and score: ({'GBC_76': 4, 'GBC_74': 1, 'GBC_34': 7, 'GBC_79': 11, 'KNN_52': 4, 'DTC_44': 1, 'DTC_40': 1, 'BAGC_4': 1, 'DTC_42': 3, 'GBC_105': 3, 'GBC_117': 10, 'GBC_114': 26, 'GBC_115': 18, 'GBC_113': 44, 'LR_64': 1, 'DTC_98': 1, 'DTC_88': 1, 'ETC_257': 1, 'GBC_19': 13, 'LR_36': 2}, 0.83809832206234458, 0.83373375982865028)\n",
      "Add model - GBC_114 - ensemble and score: ({'GBC_76': 4, 'GBC_74': 1, 'LR_64': 1, 'GBC_34': 7, 'GBC_79': 11, 'KNN_52': 4, 'DTC_44': 1, 'DTC_40': 1, 'DTC_42': 3, 'GBC_105': 3, 'GBC_117': 10, 'GBC_114': 27, 'GBC_115': 18, 'GBC_113': 44, 'BAGC_4': 1, 'DTC_98': 1, 'DTC_88': 1, 'ETC_257': 1, 'GBC_19': 13, 'LR_36': 2}, 0.83810371809635775, 0.83374332175166388)\n",
      "Elminate models -- ensemble and score: ({'GBC_76': 4, 'GBC_74': 1, 'LR_64': 1, 'GBC_34': 7, 'GBC_79': 11, 'KNN_52': 4, 'DTC_44': 1, 'DTC_40': 1, 'DTC_42': 3, 'GBC_105': 3, 'GBC_117': 10, 'GBC_114': 27, 'GBC_115': 18, 'GBC_113': 44, 'BAGC_4': 1, 'DTC_98': 1, 'DTC_88': 1, 'ETC_257': 1, 'GBC_19': 13, 'LR_36': 2}, 0.83810371809635775, 0.83374332175166388)\n",
      "Add model - GBC_34 - ensemble and score: ({'GBC_76': 4, 'GBC_74': 1, 'GBC_34': 8, 'GBC_79': 11, 'KNN_52': 4, 'DTC_44': 1, 'DTC_40': 1, 'BAGC_4': 1, 'DTC_42': 3, 'GBC_105': 3, 'GBC_117': 10, 'GBC_114': 27, 'GBC_115': 18, 'GBC_113': 44, 'LR_64': 1, 'DTC_98': 1, 'DTC_88': 1, 'ETC_257': 1, 'GBC_19': 13, 'LR_36': 2}, 0.83810442666648066, 0.83372772071937873)\n",
      "Elminate models -- ensemble and score: ({'GBC_76': 4, 'GBC_74': 1, 'GBC_34': 8, 'GBC_79': 11, 'KNN_52': 4, 'DTC_44': 1, 'DTC_40': 1, 'BAGC_4': 1, 'DTC_42': 3, 'GBC_105': 3, 'GBC_117': 10, 'GBC_114': 27, 'GBC_115': 18, 'GBC_113': 44, 'LR_64': 1, 'DTC_98': 1, 'DTC_88': 1, 'ETC_257': 1, 'GBC_19': 13, 'LR_36': 2}, 0.83810442666648066, 0.83372772071937873)\n",
      "Add model - KNN_52 - ensemble and score: ({'GBC_76': 4, 'GBC_74': 1, 'LR_64': 1, 'GBC_34': 8, 'GBC_79': 11, 'KNN_52': 5, 'DTC_44': 1, 'DTC_40': 1, 'DTC_42': 3, 'GBC_105': 3, 'GBC_117': 10, 'GBC_114': 27, 'GBC_115': 18, 'GBC_113': 44, 'BAGC_4': 1, 'DTC_98': 1, 'DTC_88': 1, 'ETC_257': 1, 'GBC_19': 13, 'LR_36': 2}, 0.83810475369884496, 0.83362958519371455)\n",
      "Elminate models -- ensemble and score: ({'GBC_76': 4, 'GBC_74': 1, 'LR_64': 1, 'GBC_34': 8, 'GBC_79': 11, 'KNN_52': 5, 'DTC_44': 1, 'DTC_40': 1, 'DTC_42': 3, 'GBC_105': 3, 'GBC_117': 10, 'GBC_114': 27, 'GBC_115': 18, 'GBC_113': 44, 'BAGC_4': 1, 'DTC_98': 1, 'DTC_88': 1, 'ETC_257': 1, 'GBC_19': 13, 'LR_36': 2}, 0.83810475369884496, 0.83362958519371455)\n",
      "Add model - GBC_74 - ensemble and score: ({'GBC_76': 4, 'GBC_74': 2, 'GBC_34': 8, 'GBC_79': 11, 'KNN_52': 5, 'DTC_44': 1, 'DTC_40': 1, 'BAGC_4': 1, 'DTC_42': 3, 'GBC_105': 3, 'GBC_117': 10, 'GBC_114': 27, 'GBC_115': 18, 'GBC_113': 44, 'LR_64': 1, 'DTC_98': 1, 'DTC_88': 1, 'ETC_257': 1, 'GBC_19': 13, 'LR_36': 2}, 0.83811004072207007, 0.8336809176225235)\n",
      "Elminate models -- ensemble and score: ({'GBC_76': 4, 'GBC_74': 2, 'GBC_34': 8, 'GBC_79': 11, 'KNN_52': 5, 'DTC_44': 1, 'DTC_40': 1, 'BAGC_4': 1, 'DTC_42': 3, 'GBC_105': 3, 'GBC_117': 10, 'GBC_114': 27, 'GBC_115': 18, 'GBC_113': 44, 'LR_64': 1, 'DTC_98': 1, 'DTC_88': 1, 'ETC_257': 1, 'GBC_19': 13, 'LR_36': 2}, 0.83811004072207007, 0.8336809176225235)\n",
      "Add model - GBC_68 - ensemble and score: ({'GBC_76': 4, 'GBC_74': 2, 'LR_64': 1, 'GBC_68': 1, 'GBC_34': 8, 'GBC_79': 11, 'KNN_52': 5, 'DTC_44': 1, 'DTC_40': 1, 'DTC_42': 3, 'GBC_105': 3, 'GBC_117': 10, 'GBC_114': 27, 'GBC_115': 18, 'GBC_113': 44, 'BAGC_4': 1, 'DTC_98': 1, 'DTC_88': 1, 'ETC_257': 1, 'GBC_19': 13, 'LR_36': 2}, 0.83811445565898968, 0.83360844831126368)\n",
      "Elminate models -- ensemble and score: ({'GBC_76': 4, 'GBC_74': 2, 'LR_64': 1, 'GBC_68': 1, 'GBC_34': 8, 'GBC_79': 11, 'KNN_52': 5, 'DTC_44': 1, 'DTC_40': 1, 'DTC_42': 3, 'GBC_105': 3, 'GBC_117': 10, 'GBC_114': 27, 'GBC_115': 18, 'GBC_113': 44, 'BAGC_4': 1, 'DTC_98': 1, 'DTC_88': 1, 'ETC_257': 1, 'GBC_19': 13, 'LR_36': 2}, 0.83811445565898968, 0.83360844831126368)\n",
      "Add model - ETC_312 - ensemble and score: ({'GBC_76': 4, 'GBC_74': 2, 'GBC_68': 1, 'GBC_34': 8, 'GBC_79': 11, 'KNN_52': 5, 'ETC_312': 1, 'DTC_44': 1, 'DTC_40': 1, 'BAGC_4': 1, 'DTC_42': 3, 'GBC_105': 3, 'GBC_117': 10, 'GBC_114': 27, 'GBC_115': 18, 'GBC_113': 44, 'LR_64': 1, 'DTC_98': 1, 'DTC_88': 1, 'ETC_257': 1, 'GBC_19': 13, 'LR_36': 2}, 0.83812094180088437, 0.83389278970613689)\n",
      "Elminate models -- ensemble and score: ({'GBC_76': 4, 'GBC_74': 2, 'GBC_34': 8, 'GBC_79': 11, 'KNN_52': 5, 'ETC_312': 1, 'DTC_44': 1, 'DTC_40': 1, 'BAGC_4': 1, 'DTC_42': 3, 'GBC_105': 3, 'GBC_117': 10, 'GBC_114': 27, 'GBC_115': 18, 'GBC_113': 44, 'LR_64': 1, 'DTC_98': 1, 'DTC_88': 1, 'ETC_257': 1, 'GBC_19': 13, 'LR_36': 2}, 0.83814198088299618, 0.83392550154802514)\n",
      "Add model - LR_64 - ensemble and score: ({'GBC_76': 4, 'GBC_74': 2, 'LR_64': 2, 'GBC_34': 8, 'GBC_79': 11, 'KNN_52': 5, 'ETC_312': 1, 'DTC_44': 1, 'DTC_40': 1, 'DTC_42': 3, 'GBC_105': 3, 'GBC_117': 10, 'GBC_114': 27, 'GBC_115': 18, 'GBC_113': 44, 'BAGC_4': 1, 'DTC_98': 1, 'DTC_88': 1, 'ETC_257': 1, 'GBC_19': 13, 'LR_36': 2}, 0.83819327045881764, 0.83405332936094156)\n",
      "Elminate models -- ensemble and score: ({'GBC_76': 4, 'GBC_74': 2, 'LR_64': 2, 'GBC_34': 8, 'GBC_79': 11, 'KNN_52': 5, 'DTC_44': 1, 'DTC_40': 1, 'DTC_42': 3, 'GBC_105': 3, 'GBC_117': 10, 'GBC_114': 27, 'GBC_115': 18, 'GBC_113': 44, 'BAGC_4': 1, 'DTC_98': 1, 'DTC_88': 1, 'ETC_257': 1, 'GBC_19': 13, 'LR_36': 2}, 0.83821425503553537, 0.83380622913991009)\n",
      "Add model - GBC_115 - ensemble and score: ({'GBC_76': 4, 'GBC_74': 2, 'GBC_34': 8, 'GBC_79': 11, 'KNN_52': 5, 'DTC_44': 1, 'DTC_40': 1, 'BAGC_4': 1, 'DTC_42': 3, 'GBC_105': 3, 'GBC_117': 10, 'GBC_114': 27, 'GBC_115': 19, 'GBC_113': 44, 'LR_64': 2, 'DTC_98': 1, 'DTC_88': 1, 'ETC_257': 1, 'GBC_19': 13, 'LR_36': 2}, 0.83821774338075583, 0.83382937905878463)\n",
      "Elminate models -- ensemble and score: ({'GBC_76': 4, 'GBC_74': 2, 'GBC_34': 8, 'GBC_79': 11, 'KNN_52': 5, 'DTC_44': 1, 'DTC_40': 1, 'BAGC_4': 1, 'DTC_42': 3, 'GBC_105': 3, 'GBC_117': 10, 'GBC_114': 27, 'GBC_115': 19, 'GBC_113': 44, 'LR_64': 2, 'DTC_98': 1, 'DTC_88': 1, 'ETC_257': 1, 'GBC_19': 13, 'LR_36': 2}, 0.83821774338075583, 0.83382937905878463)\n",
      "Add model - GBC_74 - ensemble and score: ({'GBC_76': 4, 'GBC_74': 3, 'LR_64': 2, 'GBC_34': 8, 'GBC_79': 11, 'KNN_52': 5, 'DTC_44': 1, 'DTC_40': 1, 'DTC_42': 3, 'GBC_105': 3, 'GBC_117': 10, 'GBC_114': 27, 'GBC_115': 19, 'GBC_113': 44, 'BAGC_4': 1, 'DTC_98': 1, 'DTC_88': 1, 'ETC_257': 1, 'GBC_19': 13, 'LR_36': 2}, 0.83822461106040891, 0.83387039467592117)\n",
      "Elminate models -- ensemble and score: ({'GBC_76': 4, 'GBC_74': 3, 'LR_64': 2, 'GBC_34': 8, 'GBC_79': 11, 'KNN_52': 5, 'DTC_44': 1, 'DTC_40': 1, 'DTC_42': 3, 'GBC_105': 3, 'GBC_117': 10, 'GBC_114': 27, 'GBC_115': 19, 'GBC_113': 44, 'BAGC_4': 1, 'DTC_98': 1, 'DTC_88': 1, 'ETC_257': 1, 'GBC_19': 13, 'LR_36': 2}, 0.83822461106040891, 0.83387039467592117)\n",
      "Add model - GBC_79 - ensemble and score: ({'GBC_76': 4, 'GBC_74': 3, 'GBC_34': 8, 'GBC_79': 12, 'KNN_52': 5, 'DTC_44': 1, 'DTC_40': 1, 'BAGC_4': 1, 'DTC_42': 3, 'GBC_105': 3, 'GBC_117': 10, 'GBC_114': 27, 'GBC_115': 19, 'GBC_113': 44, 'LR_64': 2, 'DTC_98': 1, 'DTC_88': 1, 'ETC_257': 1, 'GBC_19': 13, 'LR_36': 2}, 0.83823104269690951, 0.83386913652815631)\n",
      "Elminate models -- ensemble and score: ({'GBC_76': 4, 'GBC_74': 3, 'GBC_34': 8, 'GBC_79': 12, 'KNN_52': 5, 'DTC_44': 1, 'DTC_40': 1, 'BAGC_4': 1, 'DTC_42': 3, 'GBC_105': 3, 'GBC_117': 10, 'GBC_114': 27, 'GBC_115': 19, 'GBC_113': 44, 'LR_64': 2, 'DTC_98': 1, 'DTC_88': 1, 'ETC_257': 1, 'GBC_19': 13, 'LR_36': 2}, 0.83823104269690951, 0.83386913652815631)\n",
      "Add model - GBC_109 - ensemble and score: ({'GBC_76': 4, 'GBC_74': 3, 'LR_64': 2, 'GBC_34': 8, 'GBC_79': 12, 'KNN_52': 5, 'DTC_44': 1, 'DTC_40': 1, 'DTC_42': 3, 'GBC_105': 3, 'GBC_109': 1, 'GBC_117': 10, 'GBC_114': 27, 'GBC_115': 19, 'GBC_113': 44, 'BAGC_4': 1, 'DTC_98': 1, 'DTC_88': 1, 'ETC_257': 1, 'GBC_19': 13, 'LR_36': 2}, 0.83823365895582491, 0.83390285488825633)\n",
      "Elminate models -- ensemble and score: ({'GBC_76': 4, 'GBC_74': 3, 'LR_64': 2, 'GBC_34': 8, 'GBC_79': 12, 'KNN_52': 5, 'DTC_44': 1, 'DTC_40': 1, 'DTC_42': 3, 'GBC_105': 3, 'GBC_109': 1, 'GBC_117': 10, 'GBC_114': 27, 'GBC_115': 19, 'GBC_113': 44, 'BAGC_4': 1, 'DTC_98': 1, 'DTC_88': 1, 'ETC_257': 1, 'GBC_19': 13, 'LR_36': 2}, 0.83823365895582491, 0.83390285488825633)\n",
      "Add model - KNN_52 - ensemble and score: ({'GBC_76': 4, 'GBC_74': 3, 'GBC_34': 8, 'GBC_79': 12, 'KNN_52': 6, 'DTC_44': 1, 'DTC_40': 1, 'BAGC_4': 1, 'DTC_42': 3, 'GBC_105': 3, 'GBC_109': 1, 'GBC_117': 10, 'GBC_114': 27, 'GBC_115': 19, 'GBC_113': 44, 'LR_64': 2, 'DTC_98': 1, 'DTC_88': 1, 'ETC_257': 1, 'GBC_19': 13, 'LR_36': 2}, 0.83823872795747367, 0.83382459809727794)\n",
      "Elminate models -- ensemble and score: ({'GBC_76': 4, 'GBC_74': 3, 'GBC_34': 8, 'GBC_79': 12, 'KNN_52': 6, 'DTC_44': 1, 'DTC_40': 1, 'BAGC_4': 1, 'DTC_42': 3, 'GBC_105': 3, 'GBC_109': 1, 'GBC_117': 10, 'GBC_114': 27, 'GBC_115': 19, 'GBC_113': 44, 'LR_64': 2, 'DTC_98': 1, 'DTC_88': 1, 'ETC_257': 1, 'GBC_19': 13, 'LR_36': 2}, 0.83823872795747367, 0.83382459809727794)\n",
      "Add model - DTC_35 - ensemble and score: ({'GBC_76': 4, 'GBC_74': 3, 'LR_64': 2, 'GBC_34': 8, 'GBC_79': 12, 'KNN_52': 6, 'DTC_44': 1, 'DTC_40': 1, 'DTC_42': 3, 'GBC_105': 3, 'GBC_109': 1, 'GBC_117': 10, 'GBC_114': 27, 'GBC_115': 19, 'GBC_113': 44, 'DTC_35': 1, 'BAGC_4': 1, 'DTC_98': 1, 'DTC_88': 1, 'ETC_257': 1, 'GBC_19': 13, 'LR_36': 2}, 0.83825458902714844, 0.83346074176366147)\n",
      "Elminate models -- ensemble and score: ({'GBC_76': 4, 'GBC_74': 3, 'LR_64': 2, 'GBC_34': 8, 'GBC_79': 12, 'KNN_52': 6, 'DTC_44': 1, 'DTC_40': 1, 'DTC_42': 3, 'GBC_105': 3, 'DTC_35': 1, 'GBC_117': 10, 'GBC_114': 27, 'GBC_115': 19, 'GBC_113': 44, 'BAGC_4': 1, 'DTC_98': 1, 'DTC_88': 1, 'ETC_257': 1, 'GBC_19': 13, 'LR_36': 2}, 0.83826701625699684, 0.83342626851490254)\n",
      "Add model - GBC_104 - ensemble and score: ({'GBC_76': 4, 'GBC_74': 3, 'GBC_34': 8, 'GBC_79': 12, 'KNN_52': 6, 'DTC_44': 1, 'DTC_40': 1, 'BAGC_4': 1, 'DTC_42': 3, 'GBC_105': 3, 'GBC_104': 1, 'DTC_35': 1, 'GBC_117': 10, 'GBC_114': 27, 'GBC_115': 19, 'GBC_113': 44, 'LR_64': 2, 'DTC_98': 1, 'DTC_88': 1, 'ETC_257': 1, 'GBC_19': 13, 'LR_36': 2}, 0.83827290283955658, 0.83334524379884123)\n",
      "Elminate models -- ensemble and score: ({'GBC_76': 4, 'GBC_74': 3, 'GBC_34': 8, 'GBC_79': 12, 'KNN_52': 6, 'DTC_44': 1, 'DTC_40': 1, 'BAGC_4': 1, 'DTC_42': 3, 'GBC_105': 3, 'GBC_104': 1, 'DTC_35': 1, 'GBC_117': 10, 'GBC_114': 27, 'GBC_115': 19, 'GBC_113': 44, 'LR_64': 2, 'DTC_98': 1, 'DTC_88': 1, 'ETC_257': 1, 'GBC_19': 13, 'LR_36': 2}, 0.83827290283955658, 0.83334524379884123)\n",
      "Add model - GBC_115 - ensemble and score: ({'GBC_76': 4, 'GBC_74': 3, 'LR_64': 2, 'GBC_34': 8, 'GBC_79': 12, 'KNN_52': 6, 'DTC_44': 1, 'DTC_40': 1, 'DTC_42': 3, 'GBC_105': 3, 'GBC_104': 1, 'DTC_35': 1, 'GBC_117': 10, 'GBC_114': 27, 'GBC_115': 20, 'GBC_113': 44, 'BAGC_4': 1, 'DTC_98': 1, 'DTC_88': 1, 'ETC_257': 1, 'GBC_19': 13, 'LR_36': 2}, 0.83828173271339623, 0.83334876661258306)\n",
      "Elminate models -- ensemble and score: ({'GBC_76': 4, 'GBC_74': 3, 'LR_64': 2, 'GBC_34': 8, 'GBC_79': 12, 'KNN_52': 6, 'DTC_44': 1, 'DTC_40': 1, 'DTC_42': 3, 'GBC_105': 3, 'DTC_35': 1, 'GBC_117': 10, 'GBC_114': 27, 'GBC_115': 20, 'GBC_113': 44, 'BAGC_4': 1, 'DTC_98': 1, 'DTC_88': 1, 'ETC_257': 1, 'GBC_19': 13, 'LR_36': 2}, 0.83828320435903614, 0.833437088585681)\n",
      "Add model - GBC_34 - ensemble and score: ({'GBC_76': 4, 'GBC_74': 3, 'GBC_34': 9, 'GBC_79': 12, 'KNN_52': 6, 'DTC_44': 1, 'DTC_40': 1, 'BAGC_4': 1, 'DTC_42': 3, 'GBC_105': 3, 'DTC_35': 1, 'GBC_117': 10, 'GBC_114': 27, 'GBC_115': 20, 'GBC_113': 44, 'LR_64': 2, 'DTC_98': 1, 'DTC_88': 1, 'ETC_257': 1, 'GBC_19': 13, 'LR_36': 2}, 0.83829677620216014, 0.83344363095405849)\n",
      "Elminate models -- ensemble and score: ({'GBC_76': 4, 'GBC_74': 3, 'GBC_34': 9, 'GBC_79': 12, 'KNN_52': 6, 'DTC_44': 1, 'DTC_40': 1, 'BAGC_4': 1, 'DTC_42': 3, 'GBC_105': 3, 'DTC_35': 1, 'GBC_117': 10, 'GBC_114': 27, 'GBC_115': 20, 'GBC_113': 44, 'LR_64': 2, 'DTC_98': 1, 'DTC_88': 1, 'ETC_257': 1, 'GBC_19': 13, 'LR_36': 2}, 0.83829677620216014, 0.83344363095405849)\n",
      "Add model - BAGC_19 - ensemble and score: ({'GBC_76': 4, 'GBC_74': 3, 'LR_64': 2, 'GBC_34': 9, 'GBC_79': 12, 'KNN_52': 6, 'DTC_44': 1, 'DTC_40': 1, 'DTC_42': 3, 'GBC_105': 3, 'DTC_35': 1, 'GBC_117': 10, 'GBC_114': 27, 'GBC_115': 20, 'GBC_113': 44, 'BAGC_19': 1, 'BAGC_4': 1, 'DTC_98': 1, 'DTC_88': 1, 'ETC_257': 1, 'GBC_19': 13, 'LR_36': 2}, 0.83830168168762664, 0.83345117984064809)\n",
      "Elminate models -- ensemble and score: ({'GBC_76': 4, 'GBC_74': 3, 'LR_64': 2, 'GBC_34': 9, 'GBC_79': 12, 'KNN_52': 6, 'DTC_44': 1, 'DTC_40': 1, 'DTC_42': 3, 'GBC_105': 3, 'DTC_35': 1, 'GBC_117': 10, 'GBC_114': 27, 'GBC_115': 20, 'GBC_113': 44, 'BAGC_19': 1, 'BAGC_4': 1, 'DTC_98': 1, 'DTC_88': 1, 'ETC_257': 1, 'GBC_19': 13, 'LR_36': 2}, 0.83830168168762664, 0.83345117984064809)\n",
      "Add model - DTC_2 - ensemble and score: ({'GBC_76': 4, 'GBC_74': 3, 'DTC_2': 1, 'GBC_34': 9, 'GBC_79': 12, 'KNN_52': 6, 'DTC_44': 1, 'DTC_40': 1, 'BAGC_4': 1, 'DTC_42': 3, 'GBC_105': 3, 'DTC_35': 1, 'GBC_117': 10, 'GBC_114': 27, 'GBC_115': 20, 'GBC_113': 44, 'BAGC_19': 1, 'LR_64': 2, 'DTC_98': 1, 'DTC_88': 1, 'ETC_257': 1, 'GBC_19': 13, 'LR_36': 2}, 0.83834822929416397, 0.83291042793128289)\n",
      "Elminate models -- ensemble and score: ({'GBC_76': 4, 'GBC_74': 3, 'DTC_2': 1, 'GBC_34': 9, 'GBC_79': 12, 'DTC_44': 1, 'DTC_40': 1, 'BAGC_4': 1, 'DTC_42': 3, 'GBC_105': 3, 'DTC_35': 1, 'GBC_117': 10, 'GBC_114': 27, 'GBC_115': 20, 'GBC_113': 44, 'LR_64': 2, 'DTC_98': 1, 'DTC_88': 1, 'ETC_257': 1, 'GBC_19': 13, 'LR_36': 2}, 0.83839145207166277, 0.83326925167383981)\n",
      "Add model - GBC_109 - ensemble and score: ({'GBC_76': 4, 'GBC_74': 3, 'LR_64': 2, 'DTC_2': 1, 'GBC_34': 9, 'GBC_79': 12, 'DTC_44': 1, 'DTC_40': 1, 'DTC_42': 3, 'GBC_105': 3, 'DTC_35': 1, 'GBC_117': 10, 'GBC_114': 27, 'GBC_115': 20, 'GBC_113': 44, 'GBC_109': 1, 'BAGC_4': 1, 'DTC_98': 1, 'DTC_88': 1, 'ETC_257': 1, 'GBC_19': 13, 'LR_36': 2}, 0.83839183360942127, 0.83327529078311158)\n",
      "Elminate models -- ensemble and score: ({'GBC_76': 4, 'GBC_74': 3, 'LR_64': 2, 'DTC_2': 1, 'GBC_34': 9, 'GBC_79': 12, 'DTC_44': 1, 'DTC_40': 1, 'DTC_42': 3, 'GBC_105': 3, 'DTC_35': 1, 'GBC_117': 10, 'GBC_114': 27, 'GBC_115': 20, 'GBC_113': 44, 'GBC_109': 1, 'BAGC_4': 1, 'DTC_98': 1, 'DTC_88': 1, 'ETC_257': 1, 'GBC_19': 13, 'LR_36': 2}, 0.83839183360942127, 0.83327529078311158)\n",
      "Add model - GBC_113 - ensemble and score: ({'GBC_76': 4, 'GBC_74': 3, 'DTC_2': 1, 'GBC_34': 9, 'GBC_79': 12, 'DTC_44': 1, 'DTC_40': 1, 'BAGC_4': 1, 'DTC_42': 3, 'GBC_105': 3, 'DTC_35': 1, 'GBC_117': 10, 'GBC_114': 27, 'GBC_115': 20, 'GBC_113': 45, 'GBC_109': 1, 'LR_64': 2, 'DTC_98': 1, 'DTC_88': 1, 'ETC_257': 1, 'GBC_19': 13, 'LR_36': 2}, 0.83839281470651461, 0.83328560759478387)\n",
      "Elminate models -- ensemble and score: ({'GBC_76': 4, 'GBC_74': 3, 'DTC_2': 1, 'GBC_34': 9, 'GBC_79': 12, 'DTC_44': 1, 'DTC_40': 1, 'BAGC_4': 1, 'DTC_42': 3, 'GBC_105': 3, 'DTC_35': 1, 'GBC_117': 10, 'GBC_114': 27, 'GBC_115': 20, 'GBC_113': 45, 'GBC_109': 1, 'LR_64': 2, 'DTC_98': 1, 'DTC_88': 1, 'ETC_257': 1, 'GBC_19': 13, 'LR_36': 2}, 0.83839281470651461, 0.83328560759478387)\n",
      "Add model - GBC_119 - ensemble and score: ({'GBC_76': 4, 'GBC_74': 3, 'LR_64': 2, 'DTC_2': 1, 'GBC_34': 9, 'GBC_79': 12, 'DTC_44': 1, 'DTC_40': 1, 'DTC_42': 3, 'GBC_105': 3, 'GBC_119': 1, 'DTC_35': 1, 'GBC_117': 10, 'GBC_114': 27, 'GBC_115': 20, 'GBC_113': 45, 'GBC_109': 1, 'BAGC_4': 1, 'DTC_98': 1, 'DTC_88': 1, 'ETC_257': 1, 'GBC_19': 13, 'LR_36': 2}, 0.83839455887912484, 0.83318168458940089)\n",
      "Elminate models -- ensemble and score: ({'GBC_76': 4, 'GBC_74': 3, 'LR_64': 2, 'DTC_2': 1, 'GBC_34': 9, 'GBC_79': 12, 'DTC_44': 1, 'DTC_40': 1, 'DTC_42': 3, 'GBC_105': 3, 'DTC_35': 1, 'GBC_117': 10, 'GBC_114': 27, 'GBC_115': 20, 'GBC_113': 45, 'GBC_109': 1, 'BAGC_4': 1, 'DTC_98': 1, 'DTC_88': 1, 'ETC_257': 1, 'GBC_19': 13, 'LR_36': 2}, 0.83839483140609528, 0.83329542114735022)\n",
      "Add model - GBC_115 - ensemble and score: ({'GBC_76': 4, 'GBC_74': 3, 'DTC_2': 1, 'GBC_34': 9, 'GBC_79': 12, 'DTC_44': 1, 'DTC_40': 1, 'BAGC_4': 1, 'DTC_42': 3, 'GBC_105': 3, 'DTC_35': 1, 'GBC_117': 10, 'GBC_114': 27, 'GBC_115': 21, 'GBC_113': 45, 'GBC_109': 1, 'LR_64': 2, 'DTC_98': 1, 'DTC_88': 1, 'ETC_257': 1, 'GBC_19': 13, 'LR_36': 2}, 0.83839766568658691, 0.83329089181539651)\n",
      "Elminate models -- ensemble and score: ({'GBC_76': 4, 'GBC_74': 3, 'DTC_2': 1, 'GBC_34': 9, 'GBC_79': 12, 'DTC_44': 1, 'DTC_40': 1, 'BAGC_4': 1, 'DTC_42': 3, 'GBC_105': 3, 'DTC_35': 1, 'GBC_117': 10, 'GBC_114': 27, 'GBC_115': 21, 'GBC_113': 45, 'GBC_109': 1, 'LR_64': 2, 'DTC_98': 1, 'DTC_88': 1, 'ETC_257': 1, 'GBC_19': 13, 'LR_36': 2}, 0.83839766568658691, 0.83329089181539651)\n",
      "Add model - DTC_69 - ensemble and score: ({'GBC_76': 4, 'GBC_74': 3, 'LR_64': 2, 'DTC_2': 1, 'GBC_34': 9, 'GBC_79': 12, 'DTC_44': 1, 'DTC_69': 1, 'DTC_40': 1, 'DTC_42': 3, 'GBC_105': 3, 'DTC_35': 1, 'GBC_117': 10, 'GBC_114': 27, 'GBC_115': 21, 'GBC_113': 45, 'GBC_109': 1, 'BAGC_4': 1, 'DTC_98': 1, 'DTC_88': 1, 'ETC_257': 1, 'GBC_19': 13, 'LR_36': 2}, 0.83840229864508309, 0.83407496950249826)\n",
      "Elminate models -- ensemble and score: ({'GBC_76': 4, 'LR_64': 2, 'DTC_2': 1, 'GBC_34': 9, 'GBC_79': 12, 'DTC_44': 1, 'DTC_69': 1, 'DTC_40': 1, 'DTC_42': 3, 'GBC_105': 3, 'DTC_35': 1, 'GBC_117': 10, 'GBC_114': 27, 'GBC_115': 21, 'GBC_113': 45, 'GBC_109': 1, 'BAGC_4': 1, 'DTC_98': 1, 'DTC_88': 1, 'ETC_257': 1, 'GBC_19': 13, 'LR_36': 2}, 0.83842159355458445, 0.83396676879471454)\n",
      "Add model - GBC_109 - ensemble and score: ({'GBC_76': 4, 'DTC_2': 1, 'GBC_34': 9, 'GBC_79': 12, 'DTC_44': 1, 'DTC_69': 1, 'DTC_40': 1, 'BAGC_4': 1, 'DTC_42': 3, 'GBC_105': 3, 'DTC_35': 1, 'GBC_117': 10, 'GBC_114': 27, 'GBC_115': 21, 'GBC_113': 45, 'GBC_109': 2, 'LR_64': 2, 'DTC_98': 1, 'DTC_88': 1, 'ETC_257': 1, 'GBC_19': 13, 'LR_36': 2}, 0.83842273816786006, 0.83400048715481456)\n",
      "Elminate models -- ensemble and score: ({'GBC_76': 4, 'DTC_2': 1, 'GBC_34': 9, 'GBC_79': 12, 'DTC_44': 1, 'DTC_69': 1, 'DTC_40': 1, 'BAGC_4': 1, 'DTC_42': 3, 'GBC_105': 3, 'DTC_35': 1, 'GBC_117': 10, 'GBC_114': 27, 'GBC_115': 21, 'GBC_113': 45, 'GBC_109': 2, 'LR_64': 2, 'DTC_98': 1, 'DTC_88': 1, 'ETC_257': 1, 'GBC_19': 13, 'LR_36': 2}, 0.83842273816786006, 0.83400048715481456)\n",
      "Add model - DTC_2 - ensemble and score: ({'GBC_76': 4, 'LR_64': 2, 'DTC_2': 2, 'GBC_34': 9, 'GBC_79': 12, 'DTC_44': 1, 'DTC_69': 1, 'DTC_40': 1, 'DTC_42': 3, 'GBC_105': 3, 'DTC_35': 1, 'GBC_117': 10, 'GBC_114': 27, 'GBC_115': 21, 'GBC_113': 45, 'GBC_109': 2, 'BAGC_4': 1, 'DTC_98': 1, 'DTC_88': 1, 'ETC_257': 1, 'GBC_19': 13, 'LR_36': 2}, 0.83844203307736143, 0.83339556970943829)\n",
      "Elminate models -- ensemble and score: ({'GBC_76': 4, 'LR_64': 2, 'DTC_2': 2, 'GBC_34': 9, 'GBC_79': 12, 'DTC_44': 1, 'DTC_69': 1, 'DTC_40': 1, 'DTC_42': 3, 'GBC_105': 3, 'DTC_35': 1, 'GBC_117': 10, 'GBC_114': 27, 'GBC_115': 21, 'GBC_113': 45, 'BAGC_4': 1, 'DTC_98': 1, 'DTC_88': 1, 'ETC_257': 1, 'GBC_19': 13, 'LR_36': 2}, 0.83845576843666769, 0.83333366883940396)\n",
      "Add model - GBC_74 - ensemble and score: ({'GBC_76': 4, 'GBC_74': 1, 'DTC_2': 2, 'GBC_34': 9, 'GBC_79': 12, 'DTC_44': 1, 'DTC_69': 1, 'DTC_40': 1, 'BAGC_4': 1, 'DTC_42': 3, 'GBC_105': 3, 'DTC_35': 1, 'GBC_117': 10, 'GBC_114': 27, 'GBC_115': 21, 'GBC_113': 45, 'LR_64': 2, 'DTC_98': 1, 'DTC_88': 1, 'ETC_257': 1, 'GBC_19': 13, 'LR_36': 2}, 0.83845582294206167, 0.83338097519536514)\n",
      "Elminate models -- ensemble and score: ({'GBC_76': 4, 'GBC_74': 1, 'DTC_2': 2, 'GBC_34': 9, 'GBC_79': 12, 'DTC_44': 1, 'DTC_69': 1, 'DTC_40': 1, 'BAGC_4': 1, 'DTC_42': 3, 'GBC_105': 3, 'DTC_35': 1, 'GBC_117': 10, 'GBC_114': 27, 'GBC_115': 21, 'GBC_113': 45, 'LR_64': 2, 'DTC_98': 1, 'DTC_88': 1, 'ETC_257': 1, 'GBC_19': 13, 'LR_36': 2}, 0.83845582294206167, 0.83338097519536514)\n",
      "Add model - GBC_113 - ensemble and score: ({'GBC_76': 4, 'GBC_74': 1, 'LR_64': 2, 'DTC_2': 2, 'GBC_34': 9, 'GBC_79': 12, 'DTC_44': 1, 'DTC_69': 1, 'DTC_40': 1, 'DTC_42': 3, 'GBC_105': 3, 'DTC_35': 1, 'GBC_117': 10, 'GBC_114': 27, 'GBC_115': 21, 'GBC_113': 46, 'BAGC_4': 1, 'DTC_98': 1, 'DTC_88': 1, 'ETC_257': 1, 'GBC_19': 13, 'LR_36': 2}, 0.83847081192543138, 0.83340940933485252)\n",
      "Elminate models -- ensemble and score: ({'GBC_76': 4, 'GBC_74': 1, 'LR_64': 2, 'DTC_2': 2, 'GBC_34': 9, 'GBC_79': 12, 'DTC_44': 1, 'DTC_69': 1, 'DTC_40': 1, 'DTC_42': 3, 'GBC_105': 3, 'DTC_35': 1, 'GBC_117': 10, 'GBC_114': 27, 'GBC_115': 21, 'GBC_113': 46, 'BAGC_4': 1, 'DTC_98': 1, 'DTC_88': 1, 'ETC_257': 1, 'GBC_19': 13, 'LR_36': 2}, 0.83847081192543138, 0.83340940933485252)\n",
      "Add model - GBC_74 - ensemble and score: ({'GBC_76': 4, 'GBC_74': 2, 'DTC_2': 2, 'GBC_34': 9, 'GBC_79': 12, 'DTC_44': 1, 'DTC_69': 1, 'DTC_40': 1, 'BAGC_4': 1, 'DTC_42': 3, 'GBC_105': 3, 'DTC_35': 1, 'GBC_117': 10, 'GBC_114': 27, 'GBC_115': 21, 'GBC_113': 46, 'LR_64': 2, 'DTC_98': 1, 'DTC_88': 1, 'ETC_257': 1, 'GBC_19': 13, 'LR_36': 2}, 0.83847762509969037, 0.83349169219867858)\n",
      "Elminate models -- ensemble and score: ({'GBC_76': 4, 'GBC_74': 2, 'DTC_2': 2, 'GBC_34': 9, 'GBC_79': 12, 'DTC_44': 1, 'DTC_69': 1, 'DTC_40': 1, 'BAGC_4': 1, 'DTC_42': 3, 'GBC_105': 3, 'DTC_35': 1, 'GBC_117': 10, 'GBC_114': 27, 'GBC_115': 21, 'GBC_113': 46, 'LR_64': 2, 'DTC_98': 1, 'DTC_88': 1, 'ETC_257': 1, 'GBC_19': 13, 'LR_36': 2}, 0.83847762509969037, 0.83349169219867858)\n",
      "Add model - GBC_114 - ensemble and score: ({'GBC_76': 4, 'GBC_74': 2, 'LR_64': 2, 'DTC_2': 2, 'GBC_34': 9, 'GBC_79': 12, 'DTC_44': 1, 'DTC_69': 1, 'DTC_40': 1, 'DTC_42': 3, 'GBC_105': 3, 'DTC_35': 1, 'GBC_117': 10, 'GBC_114': 28, 'GBC_115': 21, 'GBC_113': 46, 'BAGC_4': 1, 'DTC_98': 1, 'DTC_88': 1, 'ETC_257': 1, 'GBC_19': 13, 'LR_36': 2}, 0.83847871520757178, 0.83350653834230481)\n",
      "Elminate models -- ensemble and score: ({'GBC_76': 4, 'GBC_74': 2, 'LR_64': 2, 'DTC_2': 2, 'GBC_34': 9, 'GBC_79': 12, 'DTC_44': 1, 'DTC_69': 1, 'DTC_40': 1, 'DTC_42': 3, 'GBC_105': 3, 'DTC_35': 1, 'GBC_117': 10, 'GBC_114': 28, 'GBC_115': 21, 'GBC_113': 46, 'BAGC_4': 1, 'DTC_98': 1, 'DTC_88': 1, 'ETC_257': 1, 'GBC_19': 13, 'LR_36': 2}, 0.83847871520757178, 0.83350653834230481)\n",
      "Add model - GBC_113 - ensemble and score: ({'GBC_76': 4, 'GBC_74': 2, 'DTC_2': 2, 'GBC_34': 9, 'GBC_79': 12, 'DTC_44': 1, 'DTC_69': 1, 'DTC_40': 1, 'BAGC_4': 1, 'DTC_42': 3, 'GBC_105': 3, 'DTC_35': 1, 'GBC_117': 10, 'GBC_114': 28, 'GBC_115': 21, 'GBC_113': 47, 'LR_64': 2, 'DTC_98': 1, 'DTC_88': 1, 'ETC_257': 1, 'GBC_19': 13, 'LR_36': 2}, 0.83848045938018212, 0.83352314589280174)\n",
      "Elminate models -- ensemble and score: ({'GBC_76': 4, 'GBC_74': 2, 'DTC_2': 2, 'GBC_34': 9, 'GBC_79': 12, 'DTC_44': 1, 'DTC_69': 1, 'DTC_40': 1, 'BAGC_4': 1, 'DTC_42': 3, 'GBC_105': 3, 'DTC_35': 1, 'GBC_117': 10, 'GBC_114': 28, 'GBC_115': 21, 'GBC_113': 47, 'LR_64': 2, 'DTC_98': 1, 'DTC_88': 1, 'ETC_257': 1, 'GBC_19': 13, 'LR_36': 2}, 0.83848045938018212, 0.83352314589280174)\n",
      "Add model - GBC_115 - ensemble and score: ({'GBC_76': 4, 'GBC_74': 2, 'LR_64': 2, 'DTC_2': 2, 'GBC_34': 9, 'GBC_79': 12, 'DTC_44': 1, 'DTC_69': 1, 'DTC_40': 1, 'DTC_42': 3, 'GBC_105': 3, 'DTC_35': 1, 'GBC_117': 10, 'GBC_114': 28, 'GBC_115': 22, 'GBC_113': 47, 'BAGC_4': 1, 'DTC_98': 1, 'DTC_88': 1, 'ETC_257': 1, 'GBC_19': 13, 'LR_36': 2}, 0.83848503783328399, 0.83353925018419284)\n",
      "Elminate models -- ensemble and score: ({'GBC_76': 4, 'GBC_74': 2, 'LR_64': 2, 'DTC_2': 2, 'GBC_34': 9, 'GBC_79': 12, 'DTC_44': 1, 'DTC_69': 1, 'DTC_40': 1, 'DTC_42': 3, 'GBC_105': 3, 'DTC_35': 1, 'GBC_117': 10, 'GBC_114': 28, 'GBC_115': 22, 'GBC_113': 47, 'BAGC_4': 1, 'DTC_98': 1, 'DTC_88': 1, 'ETC_257': 1, 'GBC_19': 13, 'LR_36': 2}, 0.83848503783328399, 0.83353925018419284)\n",
      "Add model - GBC_79 - ensemble and score: ({'GBC_76': 4, 'GBC_74': 2, 'DTC_2': 2, 'GBC_34': 9, 'GBC_79': 13, 'DTC_44': 1, 'DTC_69': 1, 'DTC_40': 1, 'BAGC_4': 1, 'DTC_42': 3, 'GBC_105': 3, 'DTC_35': 1, 'GBC_117': 10, 'GBC_114': 28, 'GBC_115': 22, 'GBC_113': 47, 'LR_64': 2, 'DTC_98': 1, 'DTC_88': 1, 'ETC_257': 1, 'GBC_19': 13, 'LR_36': 2}, 0.83848552838183088, 0.83357674298758766)\n",
      "Elminate models -- ensemble and score: ({'GBC_76': 4, 'GBC_74': 2, 'DTC_2': 2, 'GBC_34': 9, 'GBC_79': 13, 'DTC_44': 1, 'DTC_69': 1, 'DTC_40': 1, 'BAGC_4': 1, 'DTC_42': 3, 'GBC_105': 3, 'DTC_35': 1, 'GBC_117': 10, 'GBC_114': 28, 'GBC_115': 22, 'GBC_113': 47, 'LR_64': 2, 'DTC_98': 1, 'DTC_88': 1, 'ETC_257': 1, 'GBC_19': 13, 'LR_36': 2}, 0.83848552838183088, 0.83357674298758766)\n",
      "Add model - GBC_107 - ensemble and score: ({'GBC_76': 4, 'GBC_74': 2, 'LR_64': 2, 'DTC_2': 2, 'GBC_34': 9, 'GBC_79': 13, 'DTC_44': 1, 'DTC_69': 1, 'DTC_40': 1, 'DTC_42': 3, 'GBC_105': 3, 'GBC_107': 1, 'DTC_35': 1, 'GBC_117': 10, 'GBC_114': 28, 'GBC_115': 22, 'GBC_113': 47, 'BAGC_4': 1, 'DTC_98': 1, 'DTC_88': 1, 'ETC_257': 1, 'GBC_19': 13, 'LR_36': 2}, 0.83848661848971229, 0.83363512104388016)\n",
      "Elminate models -- ensemble and score: ({'GBC_76': 4, 'GBC_74': 2, 'LR_64': 2, 'DTC_2': 2, 'GBC_34': 9, 'GBC_79': 13, 'DTC_44': 1, 'DTC_69': 1, 'DTC_40': 1, 'DTC_42': 3, 'GBC_105': 3, 'DTC_35': 1, 'GBC_117': 10, 'GBC_114': 28, 'GBC_115': 22, 'GBC_113': 47, 'BAGC_4': 1, 'DTC_98': 1, 'DTC_88': 1, 'ETC_257': 1, 'GBC_19': 13, 'LR_36': 2}, 0.83848934375941586, 0.83357900765356441)\n",
      "Add model - GBC_79 - ensemble and score: ({'GBC_76': 4, 'GBC_74': 2, 'DTC_2': 2, 'GBC_34': 9, 'GBC_79': 14, 'DTC_44': 1, 'DTC_69': 1, 'DTC_40': 1, 'BAGC_4': 1, 'DTC_42': 3, 'GBC_105': 3, 'DTC_35': 1, 'GBC_117': 10, 'GBC_114': 28, 'GBC_115': 22, 'GBC_113': 47, 'LR_64': 2, 'DTC_98': 1, 'DTC_88': 1, 'ETC_257': 1, 'GBC_19': 13, 'LR_36': 2}, 0.83849457627724666, 0.83358806631747195)\n",
      "Elminate models -- ensemble and score: ({'GBC_76': 4, 'GBC_74': 2, 'DTC_2': 2, 'GBC_34': 9, 'GBC_79': 14, 'DTC_44': 1, 'DTC_69': 1, 'DTC_40': 1, 'BAGC_4': 1, 'DTC_42': 3, 'GBC_105': 3, 'DTC_35': 1, 'GBC_117': 10, 'GBC_114': 28, 'GBC_115': 22, 'GBC_113': 47, 'LR_64': 2, 'DTC_98': 1, 'DTC_88': 1, 'ETC_257': 1, 'GBC_19': 13, 'LR_36': 2}, 0.83849457627724666, 0.83358806631747195)\n",
      "Add model - GBC_114 - ensemble and score: ({'GBC_76': 4, 'GBC_74': 2, 'LR_64': 2, 'DTC_2': 2, 'GBC_34': 9, 'GBC_79': 14, 'DTC_44': 1, 'DTC_69': 1, 'DTC_40': 1, 'DTC_42': 3, 'GBC_105': 3, 'DTC_35': 1, 'GBC_117': 10, 'GBC_114': 29, 'GBC_115': 22, 'GBC_113': 47, 'BAGC_4': 1, 'DTC_98': 1, 'DTC_88': 1, 'ETC_257': 1, 'GBC_19': 13, 'LR_36': 2}, 0.83849833714943767, 0.83363688245075107)\n",
      "Elminate models -- ensemble and score: ({'GBC_76': 4, 'GBC_74': 2, 'LR_64': 2, 'DTC_2': 2, 'GBC_34': 9, 'GBC_79': 14, 'DTC_44': 1, 'DTC_69': 1, 'DTC_40': 1, 'DTC_42': 3, 'GBC_105': 3, 'DTC_35': 1, 'GBC_117': 10, 'GBC_114': 29, 'GBC_115': 22, 'GBC_113': 47, 'BAGC_4': 1, 'DTC_98': 1, 'DTC_88': 1, 'ETC_257': 1, 'GBC_19': 13, 'LR_36': 2}, 0.83849833714943767, 0.83363688245075107)\n",
      "Add model - GBC_115 - ensemble and score: ({'GBC_76': 4, 'GBC_74': 2, 'DTC_2': 2, 'GBC_34': 9, 'GBC_79': 14, 'DTC_44': 1, 'DTC_69': 1, 'DTC_40': 1, 'BAGC_4': 1, 'DTC_42': 3, 'GBC_105': 3, 'DTC_35': 1, 'GBC_117': 10, 'GBC_114': 29, 'GBC_115': 23, 'GBC_113': 47, 'LR_64': 2, 'DTC_98': 1, 'DTC_88': 1, 'ETC_257': 1, 'GBC_19': 13, 'LR_36': 2}, 0.8385019890108405, 0.83362606237997272)\n",
      "Elminate models -- ensemble and score: ({'GBC_76': 4, 'GBC_74': 2, 'DTC_2': 2, 'GBC_34': 9, 'GBC_79': 14, 'DTC_44': 1, 'DTC_69': 1, 'DTC_40': 1, 'BAGC_4': 1, 'DTC_42': 3, 'GBC_105': 3, 'DTC_35': 1, 'GBC_117': 10, 'GBC_114': 29, 'GBC_115': 23, 'GBC_113': 47, 'LR_64': 2, 'DTC_98': 1, 'DTC_88': 1, 'ETC_257': 1, 'GBC_19': 13, 'LR_36': 2}, 0.8385019890108405, 0.83362606237997272)\n",
      "Add model - GBC_113 - ensemble and score: ({'GBC_76': 4, 'GBC_74': 2, 'LR_64': 2, 'DTC_2': 2, 'GBC_34': 9, 'GBC_79': 14, 'DTC_44': 1, 'DTC_69': 1, 'DTC_40': 1, 'DTC_42': 3, 'GBC_105': 3, 'DTC_35': 1, 'GBC_117': 10, 'GBC_114': 29, 'GBC_115': 23, 'GBC_113': 48, 'BAGC_4': 1, 'DTC_98': 1, 'DTC_88': 1, 'ETC_257': 1, 'GBC_19': 13, 'LR_36': 2}, 0.83850220703241685, 0.83365399326035405)\n",
      "Elminate models -- ensemble and score: ({'GBC_76': 4, 'GBC_74': 2, 'LR_64': 2, 'DTC_2': 2, 'GBC_34': 9, 'GBC_79': 14, 'DTC_44': 1, 'DTC_69': 1, 'DTC_40': 1, 'DTC_42': 3, 'GBC_105': 3, 'DTC_35': 1, 'GBC_117': 10, 'GBC_114': 29, 'GBC_115': 23, 'GBC_113': 48, 'BAGC_4': 1, 'DTC_98': 1, 'DTC_88': 1, 'ETC_257': 1, 'GBC_19': 13, 'LR_36': 2}, 0.83850220703241685, 0.83365399326035405)\n",
      "Add model - GBC_104 - ensemble and score: ({'GBC_76': 4, 'GBC_74': 2, 'DTC_2': 2, 'GBC_34': 9, 'GBC_79': 14, 'DTC_44': 1, 'DTC_69': 1, 'DTC_40': 1, 'BAGC_4': 1, 'DTC_42': 3, 'GBC_105': 3, 'GBC_104': 1, 'DTC_35': 1, 'GBC_117': 10, 'GBC_114': 29, 'GBC_115': 23, 'GBC_113': 48, 'LR_64': 2, 'DTC_98': 1, 'DTC_88': 1, 'ETC_257': 1, 'GBC_19': 13, 'LR_36': 2}, 0.83850803910958249, 0.8335847951332831)\n",
      "Elminate models -- ensemble and score: ({'GBC_76': 4, 'GBC_74': 2, 'DTC_2': 2, 'GBC_34': 9, 'GBC_79': 14, 'DTC_44': 1, 'DTC_69': 1, 'DTC_40': 1, 'BAGC_4': 1, 'DTC_42': 3, 'GBC_105': 3, 'GBC_104': 1, 'DTC_35': 1, 'GBC_117': 10, 'GBC_114': 29, 'GBC_115': 23, 'GBC_113': 48, 'LR_64': 2, 'DTC_98': 1, 'DTC_88': 1, 'ETC_257': 1, 'GBC_19': 13, 'LR_36': 2}, 0.83850803910958249, 0.8335847951332831)\n",
      "Add model - GBC_22 - ensemble and score: ({'GBC_76': 4, 'GBC_74': 2, 'LR_64': 2, 'GBC_22': 1, 'DTC_2': 2, 'GBC_34': 9, 'GBC_79': 14, 'DTC_44': 1, 'DTC_69': 1, 'DTC_40': 1, 'DTC_42': 3, 'GBC_105': 3, 'GBC_104': 1, 'DTC_35': 1, 'GBC_117': 10, 'GBC_114': 29, 'GBC_115': 23, 'GBC_113': 48, 'BAGC_4': 1, 'DTC_98': 1, 'DTC_88': 1, 'ETC_257': 1, 'GBC_19': 13, 'LR_36': 2}, 0.83851120042243865, 0.83361046134768757)\n",
      "Elminate models -- ensemble and score: ({'GBC_76': 4, 'GBC_74': 2, 'LR_64': 2, 'GBC_22': 1, 'DTC_2': 2, 'GBC_34': 9, 'GBC_79': 14, 'DTC_44': 1, 'DTC_69': 1, 'DTC_40': 1, 'DTC_42': 3, 'GBC_105': 3, 'GBC_104': 1, 'DTC_35': 1, 'GBC_117': 10, 'GBC_114': 29, 'GBC_115': 23, 'GBC_113': 48, 'BAGC_4': 1, 'DTC_98': 1, 'DTC_88': 1, 'ETC_257': 1, 'GBC_19': 13, 'LR_36': 2}, 0.83851120042243865, 0.83361046134768757)\n",
      "Add model - KNN_6 - ensemble and score: ({'GBC_76': 4, 'GBC_74': 2, 'LR_64': 2, 'GBC_22': 1, 'DTC_2': 2, 'GBC_34': 9, 'GBC_79': 14, 'DTC_44': 1, 'DTC_69': 1, 'DTC_40': 1, 'DTC_42': 3, 'GBC_105': 3, 'GBC_104': 1, 'DTC_35': 1, 'GBC_117': 10, 'GBC_114': 29, 'GBC_115': 23, 'GBC_113': 48, 'KNN_6': 1, 'BAGC_4': 1, 'DTC_98': 1, 'DTC_88': 1, 'ETC_257': 1, 'GBC_19': 13, 'LR_36': 2}, 0.83851408920832449, 0.83359511194495561)\n",
      "Elminate models -- ensemble and score: ({'GBC_76': 4, 'GBC_74': 2, 'LR_64': 2, 'DTC_2': 2, 'GBC_34': 9, 'GBC_79': 14, 'DTC_44': 1, 'DTC_69': 1, 'DTC_40': 1, 'DTC_42': 3, 'GBC_105': 3, 'DTC_35': 1, 'GBC_117': 10, 'GBC_114': 29, 'GBC_115': 23, 'GBC_113': 48, 'KNN_6': 1, 'BAGC_4': 1, 'DTC_98': 1, 'DTC_88': 1, 'ETC_257': 1, 'GBC_19': 13, 'LR_36': 2}, 0.8385218834796766, 0.83362354608444278)\n",
      "Add model - GBC_114 - ensemble and score: ({'GBC_76': 4, 'GBC_74': 2, 'DTC_2': 2, 'GBC_34': 9, 'GBC_79': 14, 'DTC_44': 1, 'DTC_69': 1, 'DTC_40': 1, 'BAGC_4': 1, 'DTC_42': 3, 'GBC_105': 3, 'DTC_35': 1, 'GBC_117': 10, 'GBC_114': 30, 'GBC_115': 23, 'GBC_113': 48, 'KNN_6': 1, 'LR_64': 2, 'DTC_98': 1, 'DTC_88': 1, 'ETC_257': 1, 'GBC_19': 13, 'LR_36': 2}, 0.83852455424398609, 0.83363965037583387)\n",
      "Elminate models -- ensemble and score: ({'GBC_76': 4, 'GBC_74': 2, 'DTC_2': 2, 'GBC_34': 9, 'GBC_79': 14, 'DTC_44': 1, 'DTC_69': 1, 'DTC_40': 1, 'BAGC_4': 1, 'DTC_42': 3, 'GBC_105': 3, 'DTC_35': 1, 'GBC_117': 10, 'GBC_114': 30, 'GBC_115': 23, 'GBC_113': 48, 'KNN_6': 1, 'LR_64': 2, 'DTC_98': 1, 'DTC_88': 1, 'ETC_257': 1, 'GBC_19': 13, 'LR_36': 2}, 0.83852455424398609, 0.83363965037583387)\n",
      "Add model - KNN_37 - ensemble and score: ({'GBC_76': 4, 'GBC_74': 2, 'LR_64': 2, 'DTC_2': 2, 'GBC_34': 9, 'GBC_79': 14, 'DTC_44': 1, 'DTC_69': 1, 'DTC_40': 1, 'DTC_42': 3, 'KNN_37': 1, 'GBC_105': 3, 'DTC_35': 1, 'GBC_117': 10, 'GBC_114': 30, 'GBC_115': 23, 'GBC_113': 48, 'KNN_6': 1, 'BAGC_4': 1, 'DTC_98': 1, 'DTC_88': 1, 'ETC_257': 1, 'GBC_19': 13, 'LR_36': 2}, 0.83852967775102893, 0.83388071148759368)\n",
      "Elminate models -- ensemble and score: ({'GBC_76': 4, 'GBC_74': 2, 'LR_64': 2, 'DTC_2': 2, 'GBC_34': 9, 'GBC_79': 14, 'DTC_44': 1, 'DTC_69': 1, 'DTC_40': 1, 'DTC_42': 3, 'KNN_37': 1, 'GBC_105': 3, 'DTC_35': 1, 'GBC_117': 10, 'GBC_114': 30, 'GBC_115': 23, 'GBC_113': 48, 'KNN_6': 1, 'BAGC_4': 1, 'DTC_98': 1, 'DTC_88': 1, 'ETC_257': 1, 'GBC_19': 13, 'LR_36': 2}, 0.83852967775102893, 0.83388071148759368)\n",
      "Add model - GBC_114 - ensemble and score: ({'GBC_76': 4, 'GBC_74': 2, 'LR_64': 2, 'DTC_2': 2, 'GBC_34': 9, 'GBC_79': 14, 'DTC_44': 1, 'DTC_69': 1, 'DTC_40': 1, 'DTC_42': 3, 'KNN_37': 1, 'GBC_105': 3, 'DTC_35': 1, 'GBC_117': 10, 'GBC_114': 31, 'GBC_115': 23, 'GBC_113': 48, 'KNN_6': 1, 'BAGC_4': 1, 'DTC_98': 1, 'DTC_88': 1, 'ETC_257': 1, 'GBC_19': 13, 'LR_36': 2}, 0.83853245752612671, 0.83389958370406758)\n",
      "Elminate models -- ensemble and score: ({'GBC_76': 4, 'GBC_74': 2, 'LR_64': 2, 'DTC_2': 2, 'GBC_34': 9, 'GBC_79': 14, 'DTC_44': 1, 'DTC_69': 1, 'DTC_40': 1, 'DTC_42': 3, 'KNN_37': 1, 'GBC_105': 3, 'DTC_35': 1, 'GBC_117': 10, 'GBC_114': 31, 'GBC_115': 23, 'GBC_113': 48, 'KNN_6': 1, 'BAGC_4': 1, 'DTC_98': 1, 'DTC_88': 1, 'ETC_257': 1, 'GBC_19': 13, 'LR_36': 2}, 0.83853245752612671, 0.83389958370406758)\n",
      "Add model - GBC_34 - ensemble and score: ({'GBC_76': 4, 'GBC_74': 2, 'LR_64': 2, 'DTC_2': 2, 'GBC_34': 10, 'GBC_79': 14, 'DTC_44': 1, 'DTC_69': 1, 'DTC_40': 1, 'DTC_42': 3, 'KNN_37': 1, 'GBC_105': 3, 'DTC_35': 1, 'GBC_117': 10, 'GBC_114': 31, 'GBC_115': 23, 'GBC_113': 48, 'KNN_6': 1, 'BAGC_4': 1, 'DTC_98': 1, 'DTC_88': 1, 'ETC_257': 1, 'GBC_19': 13, 'LR_36': 2}, 0.83853300258006735, 0.83386662023262648)\n",
      "Elminate models -- ensemble and score: ({'GBC_76': 4, 'GBC_74': 2, 'LR_64': 2, 'DTC_2': 2, 'GBC_34': 10, 'GBC_79': 14, 'DTC_44': 1, 'DTC_69': 1, 'DTC_40': 1, 'DTC_42': 3, 'KNN_37': 1, 'GBC_105': 3, 'DTC_35': 1, 'GBC_117': 10, 'GBC_114': 31, 'GBC_115': 23, 'GBC_113': 48, 'KNN_6': 1, 'BAGC_4': 1, 'DTC_98': 1, 'DTC_88': 1, 'ETC_257': 1, 'GBC_19': 13, 'LR_36': 2}, 0.83853300258006735, 0.83386662023262648)\n",
      "Add model - GBC_79 - ensemble and score: ({'GBC_76': 4, 'GBC_74': 2, 'LR_64': 2, 'DTC_2': 2, 'GBC_34': 10, 'GBC_79': 15, 'DTC_44': 1, 'DTC_69': 1, 'DTC_40': 1, 'DTC_42': 3, 'KNN_37': 1, 'GBC_105': 3, 'DTC_35': 1, 'GBC_117': 10, 'GBC_114': 31, 'GBC_115': 23, 'GBC_113': 48, 'KNN_6': 1, 'BAGC_4': 1, 'DTC_98': 1, 'DTC_88': 1, 'ETC_257': 1, 'GBC_19': 13, 'LR_36': 2}, 0.83853392917176661, 0.83387542726698105)\n",
      "Elminate models -- ensemble and score: ({'GBC_76': 4, 'GBC_74': 2, 'LR_64': 2, 'DTC_2': 2, 'GBC_34': 10, 'GBC_79': 15, 'DTC_44': 1, 'DTC_69': 1, 'DTC_40': 1, 'DTC_42': 3, 'KNN_37': 1, 'GBC_105': 3, 'DTC_35': 1, 'GBC_117': 10, 'GBC_114': 31, 'GBC_115': 23, 'GBC_113': 48, 'KNN_6': 1, 'BAGC_4': 1, 'DTC_98': 1, 'DTC_88': 1, 'ETC_257': 1, 'GBC_19': 13, 'LR_36': 2}, 0.83853392917176661, 0.83387542726698105)\n",
      "Add model - GBC_74 - ensemble and score: ({'GBC_76': 4, 'GBC_74': 3, 'LR_64': 2, 'DTC_2': 2, 'GBC_34': 10, 'GBC_79': 15, 'DTC_44': 1, 'DTC_69': 1, 'DTC_40': 1, 'DTC_42': 3, 'KNN_37': 1, 'GBC_105': 3, 'DTC_35': 1, 'GBC_117': 10, 'GBC_114': 31, 'GBC_115': 23, 'GBC_113': 48, 'KNN_6': 1, 'BAGC_4': 1, 'DTC_98': 1, 'DTC_88': 1, 'ETC_257': 1, 'GBC_19': 13, 'LR_36': 2}, 0.83853687246304642, 0.83391996569785942)\n",
      "Elminate models -- ensemble and score: ({'GBC_76': 4, 'GBC_74': 3, 'LR_64': 2, 'DTC_2': 2, 'GBC_34': 10, 'GBC_79': 15, 'DTC_44': 1, 'DTC_69': 1, 'DTC_40': 1, 'DTC_42': 3, 'KNN_37': 1, 'GBC_105': 3, 'DTC_35': 1, 'GBC_117': 10, 'GBC_114': 31, 'GBC_115': 23, 'GBC_113': 48, 'KNN_6': 1, 'BAGC_4': 1, 'DTC_98': 1, 'DTC_88': 1, 'ETC_257': 1, 'GBC_19': 13, 'LR_36': 2}, 0.83853687246304642, 0.83391996569785942)\n",
      "Add model - GBC_74 - ensemble and score: ({'GBC_76': 4, 'GBC_74': 4, 'LR_64': 2, 'DTC_2': 2, 'GBC_34': 10, 'GBC_79': 15, 'DTC_44': 1, 'DTC_69': 1, 'DTC_40': 1, 'DTC_42': 3, 'KNN_37': 1, 'GBC_105': 3, 'DTC_35': 1, 'GBC_117': 10, 'GBC_114': 31, 'GBC_115': 23, 'GBC_113': 48, 'KNN_6': 1, 'BAGC_4': 1, 'DTC_98': 1, 'DTC_88': 1, 'ETC_257': 1, 'GBC_19': 13, 'LR_36': 2}, 0.83855643989951822, 0.83393154065729658)\n",
      "Elminate models -- ensemble and score: ({'GBC_76': 4, 'GBC_74': 4, 'LR_64': 2, 'DTC_2': 2, 'GBC_34': 10, 'GBC_79': 15, 'DTC_44': 1, 'DTC_69': 1, 'DTC_40': 1, 'DTC_42': 3, 'KNN_37': 1, 'GBC_105': 3, 'DTC_35': 1, 'GBC_117': 10, 'GBC_114': 31, 'GBC_115': 23, 'GBC_113': 48, 'KNN_6': 1, 'BAGC_4': 1, 'DTC_98': 1, 'DTC_88': 1, 'ETC_257': 1, 'GBC_19': 13, 'LR_36': 2}, 0.83855643989951822, 0.83393154065729658)\n",
      "Add model - KNN_50 - ensemble and score: ({'GBC_76': 4, 'GBC_74': 4, 'LR_64': 2, 'DTC_2': 2, 'GBC_34': 10, 'GBC_79': 15, 'KNN_50': 1, 'DTC_44': 1, 'DTC_69': 1, 'DTC_40': 1, 'DTC_42': 3, 'KNN_37': 1, 'GBC_105': 3, 'DTC_35': 1, 'GBC_117': 10, 'GBC_114': 31, 'GBC_115': 23, 'GBC_113': 48, 'KNN_6': 1, 'BAGC_4': 1, 'DTC_98': 1, 'DTC_88': 1, 'ETC_257': 1, 'GBC_19': 13, 'LR_36': 2}, 0.83855812956673437, 0.83384950942302349)\n",
      "Elminate models -- ensemble and score: ({'GBC_76': 4, 'GBC_74': 4, 'LR_64': 2, 'DTC_2': 2, 'GBC_34': 10, 'GBC_79': 15, 'KNN_50': 1, 'DTC_44': 1, 'DTC_69': 1, 'DTC_40': 1, 'DTC_42': 3, 'GBC_105': 3, 'DTC_35': 1, 'GBC_117': 10, 'GBC_114': 31, 'GBC_115': 23, 'GBC_113': 48, 'KNN_6': 1, 'BAGC_4': 1, 'DTC_98': 1, 'DTC_88': 1, 'ETC_257': 1, 'GBC_19': 13, 'LR_36': 2}, 0.83856941218330738, 0.83377200752070424)\n",
      "Add model - GBC_79 - ensemble and score: ({'GBC_76': 4, 'GBC_74': 4, 'LR_64': 2, 'DTC_2': 2, 'GBC_34': 10, 'GBC_79': 16, 'KNN_50': 1, 'DTC_44': 1, 'DTC_69': 1, 'DTC_40': 1, 'DTC_42': 3, 'GBC_105': 3, 'DTC_35': 1, 'GBC_117': 10, 'GBC_114': 31, 'GBC_115': 23, 'GBC_113': 48, 'KNN_6': 1, 'BAGC_4': 1, 'DTC_98': 1, 'DTC_88': 1, 'ETC_257': 1, 'GBC_19': 13, 'LR_36': 2}, 0.83857017525882416, 0.83376622004098544)\n",
      "Elminate models -- ensemble and score: ({'GBC_76': 4, 'GBC_74': 4, 'LR_64': 2, 'DTC_2': 2, 'GBC_34': 10, 'GBC_79': 16, 'KNN_50': 1, 'DTC_44': 1, 'DTC_69': 1, 'DTC_40': 1, 'DTC_42': 3, 'GBC_105': 3, 'DTC_35': 1, 'GBC_117': 10, 'GBC_114': 31, 'GBC_115': 23, 'GBC_113': 48, 'KNN_6': 1, 'BAGC_4': 1, 'DTC_98': 1, 'DTC_88': 1, 'ETC_257': 1, 'GBC_19': 13, 'LR_36': 2}, 0.83857017525882416, 0.83376622004098544)\n",
      "Add model - GBC_113 - ensemble and score: ({'GBC_76': 4, 'GBC_74': 4, 'DTC_2': 2, 'GBC_34': 10, 'GBC_79': 16, 'KNN_50': 1, 'DTC_44': 1, 'DTC_69': 1, 'DTC_40': 1, 'BAGC_4': 1, 'DTC_42': 3, 'GBC_105': 3, 'DTC_35': 1, 'GBC_117': 10, 'GBC_114': 31, 'GBC_115': 23, 'GBC_113': 49, 'KNN_6': 1, 'LR_64': 2, 'DTC_98': 1, 'DTC_88': 1, 'ETC_257': 1, 'GBC_19': 13, 'LR_36': 2}, 0.83858407413431268, 0.83381428128560564)\n",
      "Elminate models -- ensemble and score: ({'GBC_76': 4, 'GBC_74': 4, 'DTC_2': 2, 'GBC_34': 10, 'GBC_79': 16, 'KNN_50': 1, 'DTC_44': 1, 'DTC_69': 1, 'DTC_40': 1, 'BAGC_4': 1, 'DTC_42': 3, 'GBC_105': 3, 'DTC_35': 1, 'GBC_117': 10, 'GBC_114': 31, 'GBC_115': 23, 'GBC_113': 49, 'KNN_6': 1, 'LR_64': 2, 'DTC_98': 1, 'DTC_88': 1, 'ETC_257': 1, 'GBC_19': 13, 'LR_36': 2}, 0.83858407413431268, 0.83381428128560564)\n",
      "Add model - GBC_115 - ensemble and score: ({'GBC_76': 4, 'GBC_74': 4, 'LR_64': 2, 'DTC_2': 2, 'GBC_34': 10, 'GBC_79': 16, 'KNN_50': 1, 'DTC_44': 1, 'DTC_69': 1, 'DTC_40': 1, 'DTC_42': 3, 'GBC_105': 3, 'DTC_35': 1, 'GBC_117': 10, 'GBC_114': 31, 'GBC_115': 24, 'GBC_113': 49, 'KNN_6': 1, 'BAGC_4': 1, 'DTC_98': 1, 'DTC_88': 1, 'ETC_257': 1, 'GBC_19': 13, 'LR_36': 2}, 0.83859023324384263, 0.8338381860931392)\n",
      "Elminate models -- ensemble and score: ({'GBC_76': 4, 'GBC_74': 4, 'LR_64': 2, 'DTC_2': 2, 'GBC_34': 10, 'GBC_79': 16, 'KNN_50': 1, 'DTC_44': 1, 'DTC_69': 1, 'DTC_40': 1, 'DTC_42': 3, 'GBC_105': 3, 'DTC_35': 1, 'GBC_117': 10, 'GBC_114': 31, 'GBC_115': 24, 'GBC_113': 49, 'KNN_6': 1, 'BAGC_4': 1, 'DTC_98': 1, 'DTC_88': 1, 'ETC_257': 1, 'GBC_19': 13, 'LR_36': 2}, 0.83859023324384263, 0.8338381860931392)\n",
      "Add model - GBC_1 - ensemble and score: ({'GBC_76': 4, 'GBC_74': 4, 'LR_64': 2, 'DTC_2': 2, 'GBC_34': 10, 'GBC_79': 16, 'GBC_1': 1, 'DTC_44': 1, 'DTC_69': 1, 'DTC_40': 1, 'DTC_42': 3, 'GBC_105': 3, 'DTC_35': 1, 'GBC_117': 10, 'GBC_114': 31, 'GBC_115': 24, 'GBC_113': 49, 'KNN_6': 1, 'BAGC_4': 1, 'KNN_50': 1, 'DTC_98': 1, 'DTC_88': 1, 'ETC_257': 1, 'GBC_19': 13, 'LR_36': 2}, 0.83859263148118202, 0.83382459809727805)\n",
      "Elminate models -- ensemble and score: ({'GBC_76': 4, 'GBC_74': 4, 'LR_64': 2, 'DTC_2': 2, 'GBC_34': 10, 'GBC_79': 16, 'GBC_1': 1, 'DTC_44': 1, 'DTC_69': 1, 'DTC_40': 1, 'DTC_42': 3, 'GBC_105': 3, 'DTC_35': 1, 'GBC_117': 10, 'GBC_114': 31, 'GBC_115': 24, 'GBC_113': 49, 'KNN_6': 1, 'BAGC_4': 1, 'KNN_50': 1, 'DTC_98': 1, 'DTC_88': 1, 'ETC_257': 1, 'GBC_19': 13, 'LR_36': 2}, 0.83859263148118202, 0.83382459809727805)\n",
      "Add model - LR_64 - ensemble and score: ({'GBC_76': 4, 'GBC_74': 4, 'LR_64': 3, 'DTC_2': 2, 'GBC_34': 10, 'GBC_79': 16, 'GBC_1': 1, 'DTC_44': 1, 'DTC_69': 1, 'DTC_40': 1, 'DTC_42': 3, 'GBC_105': 3, 'DTC_35': 1, 'GBC_117': 10, 'GBC_114': 31, 'GBC_115': 24, 'GBC_113': 49, 'KNN_6': 1, 'BAGC_4': 1, 'KNN_50': 1, 'DTC_98': 1, 'DTC_88': 1, 'ETC_257': 1, 'GBC_19': 13, 'LR_36': 2}, 0.83864010567941838, 0.83398689915895341)\n",
      "Elminate models -- ensemble and score: ({'GBC_76': 4, 'GBC_74': 4, 'LR_64': 3, 'DTC_2': 2, 'GBC_34': 10, 'GBC_79': 16, 'KNN_50': 1, 'DTC_44': 1, 'DTC_69': 1, 'DTC_40': 1, 'DTC_42': 3, 'GBC_105': 3, 'DTC_35': 1, 'GBC_117': 10, 'GBC_114': 31, 'GBC_115': 24, 'GBC_113': 49, 'KNN_6': 1, 'BAGC_4': 1, 'DTC_98': 1, 'DTC_88': 1, 'ETC_257': 1, 'GBC_19': 13, 'LR_36': 2}, 0.83865874652419103, 0.8339521742806415)\n",
      "Add model - DTC_37 - ensemble and score: ({'GBC_76': 4, 'GBC_74': 4, 'DTC_2': 2, 'GBC_34': 10, 'GBC_79': 16, 'KNN_50': 1, 'DTC_44': 1, 'DTC_69': 1, 'DTC_40': 1, 'BAGC_4': 1, 'DTC_42': 3, 'GBC_105': 3, 'DTC_35': 1, 'GBC_117': 10, 'GBC_114': 31, 'GBC_115': 24, 'GBC_113': 49, 'GBC_19': 13, 'KNN_6': 1, 'LR_64': 3, 'DTC_98': 1, 'DTC_88': 1, 'ETC_257': 1, 'DTC_37': 1, 'LR_36': 2}, 0.83870425852824093, 0.83322420998385527)\n",
      "Elminate models -- ensemble and score: ({'GBC_76': 4, 'GBC_74': 4, 'DTC_2': 2, 'GBC_34': 10, 'GBC_79': 16, 'KNN_50': 1, 'DTC_44': 1, 'DTC_69': 1, 'DTC_40': 1, 'BAGC_4': 1, 'DTC_42': 3, 'GBC_105': 3, 'DTC_35': 1, 'GBC_117': 10, 'GBC_114': 31, 'GBC_115': 24, 'GBC_113': 49, 'GBC_19': 13, 'KNN_6': 1, 'LR_64': 3, 'DTC_98': 1, 'DTC_88': 1, 'ETC_257': 1, 'DTC_37': 1, 'LR_36': 2}, 0.83870425852824093, 0.83322420998385527)\n",
      "Add model - GBC_114 - ensemble and score: ({'GBC_76': 4, 'GBC_74': 4, 'DTC_2': 2, 'GBC_34': 10, 'GBC_79': 16, 'KNN_50': 1, 'DTC_44': 1, 'DTC_69': 1, 'DTC_40': 1, 'BAGC_4': 1, 'DTC_42': 3, 'GBC_105': 3, 'DTC_35': 1, 'GBC_117': 10, 'GBC_114': 32, 'GBC_115': 24, 'GBC_113': 49, 'GBC_19': 13, 'KNN_6': 1, 'LR_64': 3, 'DTC_98': 1, 'DTC_88': 1, 'ETC_257': 1, 'DTC_37': 1, 'LR_36': 2}, 0.83871483257469093, 0.83324157242301156)\n",
      "Elminate models -- ensemble and score: ({'GBC_76': 4, 'GBC_74': 4, 'DTC_2': 2, 'GBC_34': 10, 'GBC_79': 16, 'KNN_50': 1, 'DTC_44': 1, 'DTC_69': 1, 'DTC_40': 1, 'BAGC_4': 1, 'DTC_42': 3, 'GBC_105': 3, 'DTC_35': 1, 'GBC_117': 10, 'GBC_114': 32, 'GBC_115': 24, 'GBC_113': 49, 'GBC_19': 13, 'KNN_6': 1, 'LR_64': 3, 'DTC_98': 1, 'DTC_88': 1, 'ETC_257': 1, 'DTC_37': 1, 'LR_36': 2}, 0.83871483257469093, 0.83324157242301156)\n",
      "Add model - GBC_119 - ensemble and score: ({'GBC_76': 4, 'GBC_74': 4, 'LR_64': 3, 'DTC_2': 2, 'GBC_34': 10, 'GBC_79': 16, 'KNN_50': 1, 'DTC_44': 1, 'DTC_69': 1, 'DTC_40': 1, 'DTC_42': 3, 'GBC_105': 3, 'GBC_119': 1, 'DTC_35': 1, 'GBC_117': 10, 'GBC_114': 32, 'GBC_115': 24, 'GBC_113': 49, 'GBC_19': 13, 'KNN_6': 1, 'BAGC_4': 1, 'DTC_98': 1, 'DTC_88': 1, 'ETC_257': 1, 'DTC_37': 1, 'LR_36': 2}, 0.83873053012818355, 0.83310871201903547)\n",
      "Elminate models -- ensemble and score: ({'GBC_76': 4, 'GBC_74': 4, 'LR_64': 3, 'DTC_2': 2, 'GBC_34': 10, 'GBC_79': 16, 'KNN_50': 1, 'DTC_44': 1, 'DTC_69': 1, 'DTC_40': 1, 'DTC_42': 3, 'GBC_105': 3, 'GBC_119': 1, 'DTC_35': 1, 'GBC_117': 10, 'GBC_114': 32, 'GBC_115': 24, 'GBC_113': 49, 'GBC_19': 13, 'KNN_6': 1, 'BAGC_4': 1, 'DTC_98': 1, 'DTC_88': 1, 'ETC_257': 1, 'DTC_37': 1, 'LR_36': 2}, 0.83873053012818355, 0.83310871201903547)\n",
      "Add model - GBC_1 - ensemble and score: ({'GBC_76': 4, 'GBC_74': 4, 'LR_64': 3, 'DTC_2': 2, 'GBC_34': 10, 'GBC_79': 16, 'GBC_1': 1, 'DTC_44': 1, 'DTC_69': 1, 'DTC_40': 1, 'DTC_42': 3, 'GBC_105': 3, 'GBC_119': 1, 'DTC_35': 1, 'GBC_117': 10, 'GBC_114': 32, 'GBC_115': 24, 'GBC_113': 49, 'GBC_19': 13, 'KNN_6': 1, 'BAGC_4': 1, 'KNN_50': 1, 'DTC_98': 1, 'DTC_88': 1, 'ETC_257': 1, 'DTC_37': 1, 'LR_36': 2}, 0.83873156573067087, 0.83312104186713143)\n",
      "Elminate models -- ensemble and score: ({'GBC_76': 4, 'GBC_74': 4, 'LR_64': 3, 'DTC_2': 2, 'GBC_34': 10, 'GBC_79': 16, 'GBC_1': 1, 'DTC_44': 1, 'DTC_69': 1, 'DTC_40': 1, 'DTC_42': 3, 'GBC_105': 3, 'GBC_119': 1, 'DTC_35': 1, 'GBC_117': 10, 'GBC_114': 32, 'GBC_115': 24, 'GBC_113': 49, 'GBC_19': 13, 'KNN_6': 1, 'BAGC_4': 1, 'KNN_50': 1, 'DTC_98': 1, 'DTC_88': 1, 'ETC_257': 1, 'DTC_37': 1, 'LR_36': 2}, 0.83873156573067087, 0.83312104186713143)\n",
      "Add model - KNN_52 - ensemble and score: ({'GBC_76': 4, 'GBC_74': 4, 'LR_64': 3, 'DTC_2': 2, 'GBC_34': 10, 'GBC_79': 16, 'KNN_52': 1, 'GBC_1': 1, 'DTC_44': 1, 'DTC_69': 1, 'DTC_40': 1, 'DTC_42': 3, 'GBC_105': 3, 'GBC_119': 1, 'DTC_35': 1, 'GBC_117': 10, 'GBC_114': 32, 'GBC_115': 24, 'GBC_113': 49, 'GBC_19': 13, 'KNN_6': 1, 'BAGC_4': 1, 'KNN_50': 1, 'DTC_98': 1, 'DTC_88': 1, 'ETC_257': 1, 'DTC_37': 1, 'LR_36': 2}, 0.83874840789743921, 0.83309411750496221)\n",
      "Elminate models -- ensemble and score: ({'GBC_76': 4, 'GBC_74': 4, 'LR_64': 3, 'DTC_2': 2, 'GBC_34': 10, 'GBC_79': 16, 'KNN_52': 1, 'GBC_1': 1, 'DTC_44': 1, 'DTC_69': 1, 'DTC_40': 1, 'DTC_42': 3, 'GBC_105': 3, 'GBC_119': 1, 'DTC_35': 1, 'GBC_117': 10, 'GBC_114': 32, 'GBC_115': 24, 'GBC_113': 49, 'GBC_19': 13, 'KNN_6': 1, 'BAGC_4': 1, 'KNN_50': 1, 'DTC_98': 1, 'DTC_88': 1, 'ETC_257': 1, 'DTC_37': 1, 'LR_36': 2}, 0.83874840789743921, 0.83309411750496221)\n",
      "Add model - LR_36 - ensemble and score: ({'GBC_76': 4, 'GBC_74': 4, 'DTC_2': 2, 'GBC_34': 10, 'GBC_79': 16, 'KNN_52': 1, 'GBC_1': 1, 'DTC_44': 1, 'DTC_69': 1, 'DTC_40': 1, 'BAGC_4': 1, 'DTC_42': 3, 'GBC_105': 3, 'GBC_119': 1, 'DTC_35': 1, 'GBC_117': 10, 'GBC_114': 32, 'GBC_115': 24, 'GBC_113': 49, 'GBC_19': 13, 'KNN_6': 1, 'LR_64': 3, 'KNN_50': 1, 'DTC_98': 1, 'DTC_88': 1, 'ETC_257': 1, 'DTC_37': 1, 'LR_36': 3}, 0.83876808434469918, 0.83318344599627192)\n",
      "Elminate models -- ensemble and score: ({'GBC_76': 4, 'GBC_74': 4, 'DTC_2': 2, 'GBC_34': 10, 'GBC_79': 16, 'KNN_52': 1, 'KNN_50': 1, 'DTC_44': 1, 'DTC_69': 1, 'DTC_40': 1, 'BAGC_4': 1, 'DTC_42': 3, 'GBC_105': 3, 'GBC_119': 1, 'DTC_35': 1, 'GBC_117': 10, 'GBC_114': 32, 'GBC_115': 24, 'GBC_113': 49, 'GBC_19': 13, 'KNN_6': 1, 'LR_64': 3, 'DTC_98': 1, 'DTC_88': 1, 'ETC_257': 1, 'DTC_37': 1, 'LR_36': 3}, 0.83877091862519082, 0.83318520740314272)\n",
      "Add model - GBC_107 - ensemble and score: ({'GBC_76': 4, 'GBC_74': 4, 'LR_64': 3, 'DTC_2': 2, 'GBC_34': 10, 'GBC_79': 16, 'KNN_52': 1, 'KNN_50': 1, 'DTC_44': 1, 'DTC_69': 1, 'DTC_40': 1, 'DTC_42': 3, 'GBC_105': 3, 'GBC_107': 1, 'GBC_119': 1, 'DTC_35': 1, 'GBC_117': 10, 'GBC_114': 32, 'GBC_115': 24, 'GBC_113': 49, 'GBC_19': 13, 'KNN_6': 1, 'BAGC_4': 1, 'DTC_98': 1, 'DTC_88': 1, 'ETC_257': 1, 'DTC_37': 1, 'LR_36': 3}, 0.83877451598119968, 0.83320433124916971)\n",
      "Elminate models -- ensemble and score: ({'GBC_76': 4, 'GBC_74': 4, 'LR_64': 3, 'DTC_2': 2, 'GBC_34': 10, 'GBC_79': 16, 'KNN_52': 1, 'KNN_50': 1, 'DTC_44': 1, 'DTC_69': 1, 'DTC_40': 1, 'DTC_42': 3, 'GBC_105': 3, 'GBC_107': 1, 'GBC_119': 1, 'DTC_35': 1, 'GBC_117': 10, 'GBC_114': 32, 'GBC_115': 24, 'GBC_113': 49, 'GBC_19': 13, 'KNN_6': 1, 'BAGC_4': 1, 'DTC_98': 1, 'DTC_88': 1, 'ETC_257': 1, 'DTC_37': 1, 'LR_36': 3}, 0.83877451598119968, 0.83320433124916971)\n",
      "Add model - LR_36 - ensemble and score: ({'GBC_76': 4, 'GBC_74': 4, 'LR_64': 3, 'DTC_2': 2, 'GBC_34': 10, 'GBC_79': 16, 'KNN_52': 1, 'KNN_50': 1, 'DTC_44': 1, 'DTC_69': 1, 'DTC_40': 1, 'DTC_42': 3, 'GBC_105': 3, 'GBC_107': 1, 'GBC_119': 1, 'DTC_35': 1, 'GBC_117': 10, 'GBC_114': 32, 'GBC_115': 24, 'GBC_113': 49, 'GBC_19': 13, 'KNN_6': 1, 'BAGC_4': 1, 'DTC_98': 1, 'DTC_88': 1, 'ETC_257': 1, 'DTC_37': 1, 'LR_36': 4}, 0.83879697220355709, 0.8332805750037241)\n",
      "Elminate models -- ensemble and score: ({'GBC_76': 4, 'GBC_74': 4, 'LR_64': 3, 'DTC_2': 2, 'GBC_34': 10, 'GBC_79': 16, 'KNN_52': 1, 'KNN_50': 1, 'DTC_44': 1, 'DTC_69': 1, 'DTC_40': 1, 'DTC_42': 3, 'GBC_105': 3, 'GBC_107': 1, 'DTC_35': 1, 'GBC_117': 10, 'GBC_114': 32, 'GBC_115': 24, 'GBC_113': 49, 'GBC_19': 13, 'KNN_6': 1, 'BAGC_4': 1, 'DTC_98': 1, 'DTC_88': 1, 'ETC_257': 1, 'DTC_37': 1, 'LR_36': 4}, 0.83880106010811251, 0.83338776919329582)\n",
      "Add model - GBC_113 - ensemble and score: ({'GBC_76': 4, 'GBC_74': 4, 'DTC_2': 2, 'GBC_34': 10, 'GBC_79': 16, 'KNN_52': 1, 'KNN_50': 1, 'DTC_44': 1, 'DTC_69': 1, 'DTC_40': 1, 'BAGC_4': 1, 'DTC_42': 3, 'GBC_105': 3, 'GBC_107': 1, 'DTC_35': 1, 'GBC_117': 10, 'GBC_114': 32, 'GBC_115': 24, 'GBC_113': 50, 'GBC_19': 13, 'KNN_6': 1, 'LR_64': 3, 'DTC_98': 1, 'DTC_88': 1, 'ETC_257': 1, 'DTC_37': 1, 'LR_36': 4}, 0.83881441392966005, 0.83340060230049806)\n",
      "Elminate models -- ensemble and score: ({'GBC_76': 4, 'GBC_74': 4, 'DTC_2': 2, 'GBC_34': 10, 'GBC_79': 16, 'KNN_52': 1, 'KNN_50': 1, 'DTC_44': 1, 'DTC_69': 1, 'DTC_40': 1, 'BAGC_4': 1, 'DTC_42': 3, 'GBC_105': 3, 'GBC_107': 1, 'DTC_35': 1, 'GBC_117': 10, 'GBC_114': 32, 'GBC_115': 24, 'GBC_113': 50, 'GBC_19': 13, 'KNN_6': 1, 'LR_64': 3, 'DTC_98': 1, 'DTC_88': 1, 'ETC_257': 1, 'DTC_37': 1, 'LR_36': 4}, 0.83881441392966005, 0.83340060230049806)\n",
      "Add model - GBC_119 - ensemble and score: ({'GBC_76': 4, 'GBC_74': 4, 'DTC_2': 2, 'GBC_34': 10, 'GBC_79': 16, 'KNN_52': 1, 'KNN_50': 1, 'DTC_44': 1, 'DTC_69': 1, 'DTC_40': 1, 'BAGC_4': 1, 'DTC_42': 3, 'GBC_105': 3, 'GBC_107': 1, 'GBC_119': 1, 'DTC_35': 1, 'GBC_117': 10, 'GBC_114': 32, 'GBC_115': 24, 'GBC_113': 50, 'GBC_19': 13, 'KNN_6': 1, 'LR_64': 3, 'DTC_98': 1, 'DTC_88': 1, 'ETC_257': 1, 'DTC_37': 1, 'LR_36': 4}, 0.83882160864167754, 0.83330120862706902)\n",
      "Elminate models -- ensemble and score: ({'GBC_76': 4, 'GBC_74': 4, 'DTC_2': 2, 'GBC_34': 10, 'GBC_79': 16, 'KNN_52': 1, 'KNN_50': 1, 'DTC_44': 1, 'DTC_69': 1, 'DTC_40': 1, 'BAGC_4': 1, 'DTC_42': 3, 'GBC_105': 3, 'GBC_107': 1, 'GBC_119': 1, 'DTC_35': 1, 'GBC_117': 10, 'GBC_114': 32, 'GBC_115': 24, 'GBC_113': 50, 'GBC_19': 13, 'KNN_6': 1, 'LR_64': 3, 'DTC_98': 1, 'DTC_88': 1, 'ETC_257': 1, 'DTC_37': 1, 'LR_36': 4}, 0.83882160864167754, 0.83330120862706902)\n",
      "Add model - GBC_113 - ensemble and score: ({'GBC_76': 4, 'GBC_74': 4, 'DTC_2': 2, 'GBC_34': 10, 'GBC_79': 16, 'KNN_52': 1, 'KNN_50': 1, 'DTC_44': 1, 'DTC_69': 1, 'DTC_40': 1, 'BAGC_4': 1, 'DTC_42': 3, 'GBC_105': 3, 'GBC_107': 1, 'GBC_119': 1, 'DTC_35': 1, 'GBC_117': 10, 'GBC_114': 32, 'GBC_115': 24, 'GBC_113': 51, 'GBC_19': 13, 'KNN_6': 1, 'LR_64': 3, 'DTC_98': 1, 'DTC_88': 1, 'ETC_257': 1, 'DTC_37': 1, 'LR_36': 4}, 0.83882351633047014, 0.83332410691639058)\n",
      "Elminate models -- ensemble and score: ({'GBC_76': 4, 'GBC_74': 4, 'DTC_2': 2, 'GBC_34': 10, 'GBC_79': 16, 'KNN_52': 1, 'KNN_50': 1, 'DTC_44': 1, 'DTC_69': 1, 'DTC_40': 1, 'BAGC_4': 1, 'DTC_42': 3, 'GBC_105': 3, 'GBC_107': 1, 'GBC_119': 1, 'DTC_35': 1, 'GBC_117': 10, 'GBC_114': 32, 'GBC_115': 24, 'GBC_113': 51, 'GBC_19': 13, 'KNN_6': 1, 'LR_64': 3, 'DTC_98': 1, 'DTC_88': 1, 'ETC_257': 1, 'DTC_37': 1, 'LR_36': 4}, 0.83882351633047014, 0.83332410691639058)\n",
      "Add model - GBC_113 - ensemble and score: ({'GBC_76': 4, 'GBC_74': 4, 'LR_64': 3, 'DTC_2': 2, 'GBC_34': 10, 'GBC_79': 16, 'KNN_52': 1, 'KNN_50': 1, 'DTC_44': 1, 'DTC_69': 1, 'DTC_40': 1, 'DTC_42': 3, 'GBC_105': 3, 'GBC_107': 1, 'GBC_119': 1, 'DTC_35': 1, 'GBC_117': 10, 'GBC_114': 32, 'GBC_115': 24, 'GBC_113': 52, 'GBC_19': 13, 'KNN_6': 1, 'BAGC_4': 1, 'DTC_98': 1, 'DTC_88': 1, 'ETC_257': 1, 'DTC_37': 1, 'LR_36': 4}, 0.83883594356031854, 0.83335002476034803)\n",
      "Elminate models -- ensemble and score: ({'GBC_76': 4, 'GBC_74': 4, 'LR_64': 3, 'DTC_2': 2, 'GBC_34': 10, 'GBC_79': 16, 'KNN_52': 1, 'KNN_50': 1, 'DTC_44': 1, 'DTC_69': 1, 'DTC_40': 1, 'DTC_42': 3, 'GBC_105': 3, 'GBC_107': 1, 'GBC_119': 1, 'DTC_35': 1, 'GBC_117': 10, 'GBC_114': 32, 'GBC_115': 24, 'GBC_113': 52, 'GBC_19': 13, 'KNN_6': 1, 'BAGC_4': 1, 'DTC_98': 1, 'DTC_88': 1, 'ETC_257': 1, 'DTC_37': 1, 'LR_36': 4}, 0.83883594356031854, 0.83335002476034803)\n",
      "Add model - GBC_22 - ensemble and score: ({'GBC_76': 4, 'GBC_74': 4, 'GBC_22': 1, 'DTC_2': 2, 'GBC_34': 10, 'GBC_79': 16, 'KNN_52': 1, 'KNN_50': 1, 'DTC_44': 1, 'DTC_69': 1, 'DTC_40': 1, 'BAGC_4': 1, 'DTC_42': 3, 'GBC_105': 3, 'GBC_107': 1, 'GBC_119': 1, 'DTC_35': 1, 'GBC_117': 10, 'GBC_114': 32, 'GBC_115': 24, 'GBC_113': 52, 'GBC_19': 13, 'KNN_6': 1, 'LR_64': 3, 'DTC_98': 1, 'DTC_88': 1, 'ETC_257': 1, 'DTC_37': 1, 'LR_36': 4}, 0.83883806927068738, 0.83338953060016663)\n",
      "Elminate models -- ensemble and score: ({'GBC_76': 4, 'GBC_74': 4, 'DTC_2': 2, 'GBC_34': 10, 'GBC_79': 16, 'KNN_52': 1, 'KNN_50': 1, 'DTC_44': 1, 'DTC_69': 1, 'DTC_40': 1, 'BAGC_4': 1, 'DTC_42': 3, 'GBC_105': 3, 'GBC_107': 1, 'GBC_119': 1, 'DTC_35': 1, 'GBC_117': 10, 'GBC_114': 32, 'GBC_115': 24, 'GBC_113': 52, 'GBC_19': 13, 'KNN_6': 1, 'LR_64': 3, 'DTC_98': 1, 'DTC_88': 1, 'ETC_257': 1, 'DTC_37': 1, 'LR_36': 4}, 0.83884003146487385, 0.83334599868750026)\n",
      "Add model - None - ensemble and score: ({'GBC_76': 4, 'GBC_74': 4, 'DTC_2': 2, 'GBC_34': 10, 'GBC_79': 16, 'KNN_52': 1, 'KNN_50': 1, 'DTC_44': 1, 'DTC_69': 1, 'DTC_40': 1, 'BAGC_4': 1, 'DTC_42': 3, 'GBC_105': 3, 'GBC_107': 1, 'GBC_119': 1, 'DTC_35': 1, 'GBC_117': 10, 'GBC_114': 32, 'GBC_115': 24, 'GBC_113': 52, 'GBC_19': 13, 'KNN_6': 1, 'LR_64': 3, 'DTC_98': 1, 'DTC_88': 1, 'ETC_257': 1, 'DTC_37': 1, 'LR_36': 4}, 0.83884003146487385, 0.83334599868750026)\n",
      "Stop no model can increase score --------------\n"
     ]
    }
   ],
   "source": [
    "myStep_rand2=StepWiseAMH(k_best=12,max_models=250,epslon=0.00,random=True)\n",
    "myStep_rand2.run()"
   ]
  },
  {
   "cell_type": "code",
   "execution_count": 84,
   "metadata": {
    "collapsed": true
   },
   "outputs": [],
   "source": [
    "with open(\"resultStepwiseRandom2.amh\",\"w\") as fo:\n",
    "    json.dump(obj=myStep.scores_ensemble,fp=fo,indent=5)\n",
    "    fo.flush()"
   ]
  },
  {
   "cell_type": "code",
   "execution_count": 4,
   "metadata": {
    "collapsed": true
   },
   "outputs": [
    {
     "name": "stdout",
     "output_type": "stream",
     "text": [
      "Add model - GBC_40 - ensemble and score: ({'GBC_91': 1, 'GBC_74': 1, 'GBC_97': 1, 'GBC_73': 1, 'GBC_40': 1, 'BAGC_20': 1, 'GBC_93': 1, 'GBC_37': 1, 'GBC_79': 1, 'GBC_1': 1, 'GBC_111': 1, 'GBC_55': 1, 'BAGC_15': 1, 'BAGC_49': 1, 'GBC_19': 1, 'GBC_98': 1, 'GBC_107': 1, 'GBC_109': 1, 'GBC_95': 1, 'GBC_114': 1, 'BAGC_53': 1, 'BAGC_54': 1, 'GBC_113': 1, 'BAGC_57': 1, 'BAGC_19': 1, 'GBC_94': 1}, 0.8313726834662466, 0.83339556970943829)\n",
      "Elminate models -- ensemble and score: ({'BAGC_15': 1, 'GBC_74': 1, 'GBC_1': 1, 'GBC_114': 1, 'GBC_79': 1}, 0.83336267540380871, 0.83415372955258271)\n",
      "Add model - GBC_115 - ensemble and score: ({'BAGC_15': 1, 'GBC_74': 1, 'GBC_1': 1, 'GBC_114': 1, 'GBC_115': 1, 'GBC_79': 1}, 0.83361214659247551, 0.83392776621400178)\n",
      "Elminate models -- ensemble and score: ({'BAGC_15': 1, 'GBC_74': 1, 'GBC_1': 1, 'GBC_114': 1, 'GBC_115': 1, 'GBC_79': 1}, 0.83361214659247551, 0.83392776621400178)\n",
      "Add model - GBC_74 - ensemble and score: ({'BAGC_15': 1, 'GBC_74': 2, 'GBC_1': 1, 'GBC_114': 1, 'GBC_115': 1, 'GBC_79': 1}, 0.83368878117654044, 0.83370255776408009)\n",
      "Elminate models -- ensemble and score: ({'BAGC_15': 1, 'GBC_74': 2, 'GBC_1': 1, 'GBC_114': 1, 'GBC_115': 1, 'GBC_79': 1}, 0.83368878117654044, 0.83370255776408009)\n",
      "Add model - GBC_114 - ensemble and score: ({'BAGC_15': 1, 'GBC_74': 2, 'GBC_1': 1, 'GBC_114': 2, 'GBC_115': 1, 'GBC_79': 1}, 0.8336946132537062, 0.83443479976326695)\n",
      "Elminate models -- ensemble and score: ({'BAGC_15': 1, 'GBC_74': 2, 'GBC_1': 1, 'GBC_114': 2, 'GBC_115': 1, 'GBC_79': 1}, 0.8336946132537062, 0.83443479976326695)\n",
      "Add model - GBC_79 - ensemble and score: ({'BAGC_15': 1, 'GBC_74': 2, 'GBC_1': 1, 'GBC_114': 2, 'GBC_115': 1, 'GBC_79': 2}, 0.83373527427768368, 0.83409132542344222)\n",
      "Elminate models -- ensemble and score: ({'BAGC_15': 1, 'GBC_74': 2, 'GBC_1': 1, 'GBC_114': 2, 'GBC_115': 1, 'GBC_79': 2}, 0.83373527427768368, 0.83409132542344222)\n",
      "Add model - GBC_1 - ensemble and score: ({'BAGC_15': 1, 'GBC_74': 2, 'GBC_1': 2, 'GBC_114': 2, 'GBC_115': 1, 'GBC_79': 2}, 0.83374824656147273, 0.83433414794207272)\n",
      "Elminate models -- ensemble and score: ({'BAGC_15': 1, 'GBC_74': 2, 'GBC_1': 2, 'GBC_114': 2, 'GBC_115': 1, 'GBC_79': 2}, 0.83374824656147273, 0.83433414794207272)\n",
      "Add model - GBC_22 - ensemble and score: ({'BAGC_15': 1, 'GBC_74': 2, 'GBC_115': 1, 'GBC_1': 2, 'GBC_114': 2, 'GBC_22': 1, 'GBC_79': 2}, 0.83375903862949885, 0.83422343093875939)\n",
      "Elminate models -- ensemble and score: ({'BAGC_15': 1, 'GBC_74': 2, 'GBC_115': 1, 'GBC_1': 2, 'GBC_114': 2, 'GBC_22': 1, 'GBC_79': 2}, 0.83375903862949885, 0.83422343093875939)\n",
      "Add model - GBC_115 - ensemble and score: ({'BAGC_15': 1, 'GBC_74': 2, 'GBC_1': 2, 'GBC_114': 2, 'GBC_22': 1, 'GBC_115': 2, 'GBC_79': 2}, 0.83376487070666472, 0.83443857420656176)\n",
      "Elminate models -- ensemble and score: ({'BAGC_15': 1, 'GBC_74': 2, 'GBC_1': 2, 'GBC_114': 2, 'GBC_22': 1, 'GBC_115': 2, 'GBC_79': 2}, 0.83376487070666472, 0.83443857420656176)\n",
      "Add model - GBC_114 - ensemble and score: ({'BAGC_15': 1, 'GBC_74': 2, 'GBC_1': 2, 'GBC_114': 3, 'GBC_22': 1, 'GBC_115': 2, 'GBC_79': 2}, 0.83380847502192201, 0.83454627165523931)\n",
      "Elminate models -- ensemble and score: ({'BAGC_15': 1, 'GBC_74': 2, 'GBC_1': 2, 'GBC_114': 3, 'GBC_22': 1, 'GBC_115': 2, 'GBC_79': 2}, 0.83380847502192201, 0.83454627165523931)\n",
      "Add model - GBC_19 - ensemble and score: ({'BAGC_15': 1, 'GBC_74': 2, 'GBC_115': 2, 'GBC_114': 3, 'GBC_22': 1, 'GBC_79': 2, 'GBC_1': 2, 'GBC_19': 1}, 0.8338778058831815, 0.83449644900374831)\n",
      "Elminate models -- ensemble and score: ({'BAGC_15': 1, 'GBC_74': 2, 'GBC_115': 2, 'GBC_114': 3, 'GBC_22': 1, 'GBC_19': 1, 'GBC_79': 2}, 0.83389911749226353, 0.83421915323635865)\n",
      "Add model - GBC_26 - ensemble and score: ({'BAGC_15': 1, 'GBC_74': 2, 'GBC_115': 2, 'GBC_114': 3, 'GBC_22': 1, 'GBC_79': 2, 'GBC_26': 1, 'GBC_19': 1}, 0.83391514207812079, 0.83369500887749071)\n",
      "Elminate models -- ensemble and score: ({'BAGC_15': 1, 'GBC_74': 2, 'GBC_115': 2, 'GBC_114': 3, 'GBC_22': 1, 'GBC_79': 2, 'GBC_26': 1, 'GBC_19': 1}, 0.83391514207812079, 0.83369500887749071)\n",
      "Add model - GBC_76 - ensemble and score: ({'GBC_76': 1, 'BAGC_15': 1, 'GBC_74': 2, 'GBC_115': 2, 'GBC_114': 3, 'GBC_22': 1, 'GBC_79': 2, 'GBC_26': 1, 'GBC_19': 1}, 0.83394920794941552, 0.83187975328225583)\n",
      "Elminate models -- ensemble and score: ({'GBC_76': 1, 'BAGC_15': 1, 'GBC_74': 2, 'GBC_115': 2, 'GBC_114': 3, 'GBC_22': 1, 'GBC_79': 2, 'GBC_26': 1, 'GBC_19': 1}, 0.83394920794941552, 0.83187975328225583)\n",
      "Add model - GBC_115 - ensemble and score: ({'GBC_76': 1, 'BAGC_15': 1, 'GBC_74': 2, 'GBC_115': 3, 'GBC_114': 3, 'GBC_22': 1, 'GBC_79': 2, 'GBC_26': 1, 'GBC_19': 1}, 0.83402398935008204, 0.83178388242256862)\n",
      "Elminate models -- ensemble and score: ({'GBC_76': 1, 'BAGC_15': 1, 'GBC_74': 2, 'GBC_115': 3, 'GBC_114': 3, 'GBC_22': 1, 'GBC_79': 2, 'GBC_26': 1, 'GBC_19': 1}, 0.83402398935008204, 0.83178388242256862)\n",
      "Add model - GBC_115 - ensemble and score: ({'GBC_76': 1, 'BAGC_15': 1, 'GBC_74': 2, 'GBC_115': 4, 'GBC_114': 3, 'GBC_22': 1, 'GBC_79': 2, 'GBC_26': 1, 'GBC_19': 1}, 0.83408198308937442, 0.83157226196850809)\n",
      "Elminate models -- ensemble and score: ({'GBC_76': 1, 'BAGC_15': 1, 'GBC_74': 2, 'GBC_115': 4, 'GBC_114': 3, 'GBC_22': 1, 'GBC_79': 2, 'GBC_26': 1, 'GBC_19': 1}, 0.83408198308937442, 0.83157226196850809)\n",
      "Add model - GBC_114 - ensemble and score: ({'GBC_76': 1, 'BAGC_15': 1, 'GBC_74': 2, 'GBC_115': 4, 'GBC_114': 4, 'GBC_22': 1, 'GBC_79': 2, 'GBC_26': 1, 'GBC_19': 1}, 0.8342103432924135, 0.83181181330294984)\n",
      "Elminate models -- ensemble and score: ({'GBC_76': 1, 'BAGC_15': 1, 'GBC_74': 2, 'GBC_115': 4, 'GBC_114': 4, 'GBC_22': 1, 'GBC_79': 2, 'GBC_26': 1, 'GBC_19': 1}, 0.8342103432924135, 0.83181181330294984)\n",
      "Add model - GBC_114 - ensemble and score: ({'GBC_76': 1, 'BAGC_15': 1, 'GBC_74': 2, 'GBC_115': 4, 'GBC_114': 5, 'GBC_22': 1, 'GBC_79': 2, 'GBC_26': 1, 'GBC_19': 1}, 0.83421464921854527, 0.83197537251239018)\n",
      "Elminate models -- ensemble and score: ({'GBC_76': 1, 'BAGC_15': 1, 'GBC_74': 2, 'GBC_115': 4, 'GBC_114': 5, 'GBC_22': 1, 'GBC_79': 2, 'GBC_26': 1, 'GBC_19': 1}, 0.83421464921854527, 0.83197537251239018)\n",
      "Add model - GBC_114 - ensemble and score: ({'GBC_76': 1, 'BAGC_15': 1, 'GBC_74': 2, 'GBC_115': 4, 'GBC_114': 6, 'GBC_22': 1, 'GBC_79': 2, 'GBC_26': 1, 'GBC_19': 1}, 0.83422364260856707, 0.83238628357241506)\n",
      "Elminate models -- ensemble and score: ({'GBC_76': 1, 'BAGC_15': 1, 'GBC_74': 2, 'GBC_115': 4, 'GBC_114': 6, 'GBC_22': 1, 'GBC_79': 2, 'GBC_26': 1, 'GBC_19': 1}, 0.83422364260856707, 0.83238628357241506)\n",
      "Add model - GBC_117 - ensemble and score: ({'GBC_76': 1, 'BAGC_15': 1, 'GBC_74': 2, 'GBC_115': 4, 'GBC_117': 1, 'GBC_114': 6, 'GBC_22': 1, 'GBC_79': 2, 'GBC_26': 1, 'GBC_19': 1}, 0.83425885309313752, 0.83231205285428433)\n",
      "Elminate models -- ensemble and score: ({'GBC_76': 1, 'BAGC_15': 1, 'GBC_74': 2, 'GBC_115': 4, 'GBC_117': 1, 'GBC_114': 6, 'GBC_22': 1, 'GBC_79': 2, 'GBC_26': 1, 'GBC_19': 1}, 0.83425885309313752, 0.83231205285428433)\n",
      "Add model - GBC_105 - ensemble and score: ({'GBC_76': 1, 'BAGC_15': 1, 'GBC_74': 2, 'GBC_115': 4, 'GBC_105': 1, 'GBC_117': 1, 'GBC_114': 6, 'GBC_22': 1, 'GBC_79': 2, 'GBC_26': 1, 'GBC_19': 1}, 0.83429842400923382, 0.83071319867461679)\n",
      "Elminate models -- ensemble and score: ({'GBC_76': 1, 'BAGC_15': 1, 'GBC_74': 2, 'GBC_115': 4, 'GBC_105': 1, 'GBC_117': 1, 'GBC_114': 6, 'GBC_22': 1, 'GBC_79': 2, 'GBC_26': 1, 'GBC_19': 1}, 0.83429842400923382, 0.83071319867461679)\n",
      "Add model - GBC_113 - ensemble and score: ({'GBC_76': 1, 'BAGC_15': 1, 'GBC_74': 2, 'GBC_115': 4, 'GBC_105': 1, 'GBC_117': 1, 'GBC_114': 6, 'GBC_22': 1, 'GBC_113': 1, 'GBC_79': 2, 'GBC_26': 1, 'GBC_19': 1}, 0.83433254438592264, 0.83088304862288198)\n",
      "Elminate models -- ensemble and score: ({'GBC_76': 1, 'BAGC_15': 1, 'GBC_74': 2, 'GBC_115': 4, 'GBC_105': 1, 'GBC_117': 1, 'GBC_114': 6, 'GBC_22': 1, 'GBC_113': 1, 'GBC_79': 2, 'GBC_26': 1, 'GBC_19': 1}, 0.83433254438592264, 0.83088304862288198)\n",
      "Add model - GBC_117 - ensemble and score: ({'GBC_76': 1, 'BAGC_15': 1, 'GBC_74': 2, 'GBC_115': 4, 'GBC_105': 1, 'GBC_117': 2, 'GBC_114': 6, 'GBC_22': 1, 'GBC_113': 1, 'GBC_79': 2, 'GBC_26': 1, 'GBC_19': 1}, 0.83436595619248866, 0.83081334723670486)\n",
      "Elminate models -- ensemble and score: ({'GBC_76': 1, 'BAGC_15': 1, 'GBC_74': 2, 'GBC_115': 4, 'GBC_105': 1, 'GBC_117': 2, 'GBC_114': 6, 'GBC_22': 1, 'GBC_113': 1, 'GBC_79': 2, 'GBC_26': 1, 'GBC_19': 1}, 0.83436595619248866, 0.83081334723670486)\n",
      "Add model - GBC_113 - ensemble and score: ({'GBC_76': 1, 'BAGC_15': 1, 'GBC_74': 2, 'GBC_115': 4, 'GBC_105': 1, 'GBC_117': 2, 'GBC_114': 6, 'GBC_22': 1, 'GBC_113': 2, 'GBC_79': 2, 'GBC_26': 1, 'GBC_19': 1}, 0.83437854693851921, 0.83107403545359737)\n",
      "Elminate models -- ensemble and score: ({'GBC_76': 1, 'BAGC_15': 1, 'GBC_74': 2, 'GBC_115': 4, 'GBC_105': 1, 'GBC_117': 2, 'GBC_114': 6, 'GBC_22': 1, 'GBC_113': 2, 'GBC_79': 2, 'GBC_26': 1, 'GBC_19': 1}, 0.83437854693851921, 0.83107403545359737)\n",
      "Add model - GBC_113 - ensemble and score: ({'GBC_76': 1, 'BAGC_15': 1, 'GBC_74': 2, 'GBC_115': 4, 'GBC_105': 1, 'GBC_117': 2, 'GBC_114': 6, 'GBC_22': 1, 'GBC_113': 3, 'GBC_79': 2, 'GBC_26': 1, 'GBC_19': 1}, 0.83441828137079765, 0.83130855419697958)\n",
      "Elminate models -- ensemble and score: ({'GBC_76': 1, 'BAGC_15': 1, 'GBC_74': 2, 'GBC_115': 4, 'GBC_105': 1, 'GBC_117': 2, 'GBC_114': 6, 'GBC_22': 1, 'GBC_113': 3, 'GBC_79': 2, 'GBC_26': 1, 'GBC_19': 1}, 0.83441828137079765, 0.83130855419697958)\n",
      "Add model - GBC_115 - ensemble and score: ({'GBC_76': 1, 'BAGC_15': 1, 'GBC_74': 2, 'GBC_115': 5, 'GBC_105': 1, 'GBC_117': 2, 'GBC_114': 6, 'GBC_22': 1, 'GBC_113': 3, 'GBC_79': 2, 'GBC_26': 1, 'GBC_19': 1}, 0.83446957094661911, 0.8313065411605558)\n",
      "Elminate models -- ensemble and score: ({'GBC_76': 1, 'BAGC_15': 1, 'GBC_74': 2, 'GBC_115': 5, 'GBC_105': 1, 'GBC_117': 2, 'GBC_114': 6, 'GBC_22': 1, 'GBC_113': 3, 'GBC_79': 2, 'GBC_26': 1, 'GBC_19': 1}, 0.83446957094661911, 0.8313065411605558)\n",
      "Add model - GBC_19 - ensemble and score: ({'GBC_76': 1, 'BAGC_15': 1, 'GBC_74': 2, 'GBC_115': 5, 'GBC_105': 1, 'GBC_117': 2, 'GBC_114': 6, 'GBC_22': 1, 'GBC_113': 3, 'GBC_79': 2, 'GBC_26': 1, 'GBC_19': 2}, 0.83448635860799325, 0.83132390359971176)\n",
      "Elminate models -- ensemble and score: ({'GBC_76': 1, 'BAGC_15': 1, 'GBC_74': 2, 'GBC_115': 5, 'GBC_105': 1, 'GBC_117': 2, 'GBC_114': 6, 'GBC_22': 1, 'GBC_113': 3, 'GBC_79': 2, 'GBC_26': 1, 'GBC_19': 2}, 0.83448635860799325, 0.83132390359971176)\n",
      "Add model - GBC_115 - ensemble and score: ({'GBC_76': 1, 'BAGC_15': 1, 'GBC_74': 2, 'GBC_115': 6, 'GBC_105': 1, 'GBC_117': 2, 'GBC_114': 6, 'GBC_22': 1, 'GBC_113': 3, 'GBC_79': 2, 'GBC_26': 1, 'GBC_19': 2}, 0.83449627858971431, 0.83134025952065571)\n",
      "Elminate models -- ensemble and score: ({'GBC_76': 1, 'BAGC_15': 1, 'GBC_74': 2, 'GBC_115': 6, 'GBC_105': 1, 'GBC_117': 2, 'GBC_114': 6, 'GBC_22': 1, 'GBC_113': 3, 'GBC_79': 2, 'GBC_26': 1, 'GBC_19': 2}, 0.83449627858971431, 0.83134025952065571)\n",
      "Add model - GBC_113 - ensemble and score: ({'GBC_76': 1, 'BAGC_15': 1, 'GBC_74': 2, 'GBC_115': 6, 'GBC_105': 1, 'GBC_117': 2, 'GBC_114': 6, 'GBC_22': 1, 'GBC_113': 4, 'GBC_79': 2, 'GBC_26': 1, 'GBC_19': 2}, 0.8345020016560919, 0.83147513296105591)\n",
      "Elminate models -- ensemble and score: ({'GBC_76': 1, 'BAGC_15': 1, 'GBC_74': 2, 'GBC_115': 6, 'GBC_105': 1, 'GBC_117': 2, 'GBC_114': 6, 'GBC_22': 1, 'GBC_113': 4, 'GBC_79': 2, 'GBC_26': 1, 'GBC_19': 2}, 0.8345020016560919, 0.83147513296105591)\n",
      "Add model - GBC_115 - ensemble and score: ({'GBC_76': 1, 'BAGC_15': 1, 'GBC_74': 2, 'GBC_115': 7, 'GBC_105': 1, 'GBC_117': 2, 'GBC_114': 6, 'GBC_22': 1, 'GBC_113': 4, 'GBC_79': 2, 'GBC_26': 1, 'GBC_19': 2}, 0.83452691062118267, 0.83146783570401928)\n",
      "Elminate models -- ensemble and score: ({'GBC_76': 1, 'BAGC_15': 1, 'GBC_74': 2, 'GBC_115': 7, 'GBC_105': 1, 'GBC_117': 2, 'GBC_114': 6, 'GBC_22': 1, 'GBC_113': 4, 'GBC_79': 2, 'GBC_26': 1, 'GBC_19': 2}, 0.83452691062118267, 0.83146783570401928)\n",
      "Add model - GBC_117 - ensemble and score: ({'GBC_76': 1, 'BAGC_15': 1, 'GBC_74': 2, 'GBC_115': 7, 'GBC_105': 1, 'GBC_117': 3, 'GBC_114': 6, 'GBC_22': 1, 'GBC_113': 4, 'GBC_79': 2, 'GBC_26': 1, 'GBC_19': 2}, 0.83456255714890593, 0.83138404306287528)\n",
      "Elminate models -- ensemble and score: ({'GBC_76': 1, 'BAGC_15': 1, 'GBC_74': 2, 'GBC_115': 7, 'GBC_105': 1, 'GBC_117': 3, 'GBC_114': 6, 'GBC_22': 1, 'GBC_113': 4, 'GBC_79': 2, 'GBC_26': 1, 'GBC_19': 2}, 0.83456255714890593, 0.83138404306287528)\n",
      "Add model - GBC_79 - ensemble and score: ({'GBC_76': 1, 'BAGC_15': 1, 'GBC_74': 2, 'GBC_115': 7, 'GBC_105': 1, 'GBC_117': 3, 'GBC_114': 6, 'GBC_22': 1, 'GBC_113': 4, 'GBC_79': 3, 'GBC_26': 1, 'GBC_19': 2}, 0.83461929726413442, 0.83145500259681715)\n",
      "Elminate models -- ensemble and score: ({'GBC_76': 1, 'BAGC_15': 1, 'GBC_74': 2, 'GBC_115': 7, 'GBC_105': 1, 'GBC_117': 3, 'GBC_114': 6, 'GBC_22': 1, 'GBC_113': 4, 'GBC_79': 3, 'GBC_26': 1, 'GBC_19': 2}, 0.83461929726413442, 0.83145500259681715)\n",
      "Add model - GBC_19 - ensemble and score: ({'GBC_76': 1, 'BAGC_15': 1, 'GBC_74': 2, 'GBC_115': 7, 'GBC_105': 1, 'GBC_117': 3, 'GBC_114': 6, 'GBC_22': 1, 'GBC_113': 4, 'GBC_79': 3, 'GBC_26': 1, 'GBC_19': 3}, 0.83465875916944243, 0.83143311082570714)\n",
      "Elminate models -- ensemble and score: ({'GBC_76': 1, 'BAGC_15': 1, 'GBC_74': 2, 'GBC_115': 7, 'GBC_105': 1, 'GBC_117': 3, 'GBC_114': 6, 'GBC_22': 1, 'GBC_113': 4, 'GBC_79': 3, 'GBC_26': 1, 'GBC_19': 3}, 0.83465875916944243, 0.83143311082570714)\n",
      "Add model - GBC_26 - ensemble and score: ({'GBC_76': 1, 'BAGC_15': 1, 'GBC_74': 2, 'GBC_115': 7, 'GBC_105': 1, 'GBC_117': 3, 'GBC_114': 6, 'GBC_22': 1, 'GBC_113': 4, 'GBC_79': 3, 'GBC_26': 2, 'GBC_19': 3}, 0.83467423870135882, 0.83125621524995874)\n",
      "Elminate models -- ensemble and score: ({'GBC_76': 1, 'BAGC_15': 1, 'GBC_74': 2, 'GBC_115': 7, 'GBC_105': 1, 'GBC_117': 3, 'GBC_114': 6, 'GBC_22': 1, 'GBC_113': 4, 'GBC_79': 3, 'GBC_26': 2, 'GBC_19': 3}, 0.83467423870135882, 0.83125621524995874)\n",
      "Add model - GBC_22 - ensemble and score: ({'GBC_76': 1, 'BAGC_15': 1, 'GBC_74': 2, 'GBC_115': 7, 'GBC_105': 1, 'GBC_117': 3, 'GBC_114': 6, 'GBC_22': 2, 'GBC_113': 4, 'GBC_79': 3, 'GBC_26': 2, 'GBC_19': 3}, 0.83469604085898763, 0.83124690495649844)\n",
      "Elminate models -- ensemble and score: ({'GBC_76': 1, 'BAGC_15': 1, 'GBC_74': 2, 'GBC_115': 7, 'GBC_105': 1, 'GBC_117': 3, 'GBC_114': 6, 'GBC_22': 2, 'GBC_79': 3, 'GBC_26': 2, 'GBC_19': 3}, 0.83473659287217694, 0.83053705798752731)\n",
      "Add model - GBC_113 - ensemble and score: ({'GBC_76': 1, 'BAGC_15': 1, 'GBC_74': 2, 'GBC_115': 7, 'GBC_105': 1, 'GBC_117': 3, 'GBC_114': 6, 'GBC_22': 2, 'GBC_113': 1, 'GBC_79': 3, 'GBC_26': 2, 'GBC_19': 3}, 0.8347401902281858, 0.83067872542585786)\n",
      "Elminate models -- ensemble and score: ({'GBC_76': 1, 'BAGC_15': 1, 'GBC_74': 2, 'GBC_115': 7, 'GBC_105': 1, 'GBC_117': 3, 'GBC_114': 6, 'GBC_22': 2, 'GBC_113': 1, 'GBC_79': 3, 'GBC_26': 2, 'GBC_19': 3}, 0.8347401902281858, 0.83067872542585786)\n",
      "Add model - GBC_114 - ensemble and score: ({'GBC_76': 1, 'BAGC_15': 1, 'GBC_74': 2, 'GBC_115': 7, 'GBC_105': 1, 'GBC_117': 3, 'GBC_114': 7, 'GBC_22': 2, 'GBC_113': 1, 'GBC_79': 3, 'GBC_26': 2, 'GBC_19': 3}, 0.83474553175680466, 0.83087600299539832)\n",
      "Elminate models -- ensemble and score: ({'GBC_76': 1, 'BAGC_15': 1, 'GBC_74': 2, 'GBC_115': 7, 'GBC_105': 1, 'GBC_117': 3, 'GBC_114': 7, 'GBC_22': 2, 'GBC_79': 3, 'GBC_26': 2, 'GBC_19': 3}, 0.83477523719657387, 0.83074138118455121)\n",
      "Add model - GBC_109 - ensemble and score: ({'GBC_76': 1, 'BAGC_15': 1, 'GBC_74': 2, 'GBC_115': 7, 'GBC_105': 1, 'GBC_109': 1, 'GBC_117': 3, 'GBC_114': 7, 'GBC_22': 2, 'GBC_79': 3, 'GBC_26': 2, 'GBC_19': 3}, 0.83478030619822263, 0.8309514918612938)\n",
      "Elminate models -- ensemble and score: ({'GBC_76': 1, 'BAGC_15': 1, 'GBC_74': 2, 'GBC_115': 7, 'GBC_105': 1, 'GBC_109': 1, 'GBC_117': 3, 'GBC_114': 7, 'GBC_22': 2, 'GBC_79': 3, 'GBC_26': 2, 'GBC_19': 3}, 0.83478030619822263, 0.8309514918612938)\n",
      "Add model - GBC_79 - ensemble and score: ({'GBC_76': 1, 'BAGC_15': 1, 'GBC_74': 2, 'GBC_115': 7, 'GBC_105': 1, 'GBC_109': 1, 'GBC_117': 3, 'GBC_114': 7, 'GBC_22': 2, 'GBC_79': 4, 'GBC_26': 2, 'GBC_19': 3}, 0.83479256991188888, 0.83103478124333185)\n",
      "Elminate models -- ensemble and score: ({'GBC_76': 1, 'BAGC_15': 1, 'GBC_74': 2, 'GBC_115': 7, 'GBC_105': 1, 'GBC_109': 1, 'GBC_117': 3, 'GBC_114': 7, 'GBC_22': 2, 'GBC_79': 4, 'GBC_26': 2, 'GBC_19': 3}, 0.83479256991188888, 0.83103478124333185)\n",
      "Add model - GBC_107 - ensemble and score: ({'GBC_76': 1, 'BAGC_15': 1, 'GBC_74': 2, 'GBC_115': 7, 'GBC_105': 1, 'GBC_107': 1, 'GBC_109': 1, 'GBC_117': 3, 'GBC_114': 7, 'GBC_22': 2, 'GBC_79': 4, 'GBC_26': 2, 'GBC_19': 3}, 0.83482080370601786, 0.83124438866096839)\n",
      "Elminate models -- ensemble and score: ({'GBC_76': 1, 'BAGC_15': 1, 'GBC_74': 2, 'GBC_115': 7, 'GBC_105': 1, 'GBC_107': 1, 'GBC_117': 3, 'GBC_114': 7, 'GBC_22': 2, 'GBC_79': 4, 'GBC_26': 2, 'GBC_19': 3}, 0.8348541610071899, 0.83097237711419147)\n",
      "Add model - GBC_22 - ensemble and score: ({'GBC_76': 1, 'BAGC_15': 1, 'GBC_74': 2, 'GBC_115': 7, 'GBC_105': 1, 'GBC_107': 1, 'GBC_117': 3, 'GBC_114': 7, 'GBC_22': 3, 'GBC_79': 4, 'GBC_26': 2, 'GBC_19': 3}, 0.8349034338834308, 0.83101439924954001)\n",
      "Elminate models -- ensemble and score: ({'GBC_76': 1, 'BAGC_15': 1, 'GBC_74': 2, 'GBC_115': 7, 'GBC_105': 1, 'GBC_107': 1, 'GBC_117': 3, 'GBC_114': 7, 'GBC_22': 3, 'GBC_79': 4, 'GBC_26': 2, 'GBC_19': 3}, 0.8349034338834308, 0.83101439924954001)\n",
      "Add model - GBC_34 - ensemble and score: ({'GBC_76': 1, 'BAGC_15': 1, 'GBC_74': 2, 'GBC_115': 7, 'GBC_105': 1, 'GBC_107': 1, 'GBC_117': 3, 'GBC_114': 7, 'GBC_22': 3, 'GBC_34': 1, 'GBC_79': 4, 'GBC_26': 2, 'GBC_19': 3}, 0.83515372265300847, 0.83094494949291609)\n",
      "Elminate models -- ensemble and score: ({'GBC_76': 1, 'BAGC_15': 1, 'GBC_74': 2, 'GBC_115': 7, 'GBC_105': 1, 'GBC_117': 3, 'GBC_114': 7, 'GBC_22': 3, 'GBC_34': 1, 'GBC_79': 4, 'GBC_26': 2, 'GBC_19': 3}, 0.83515519429864848, 0.83081988960508246)\n",
      "Add model - GBC_114 - ensemble and score: ({'GBC_76': 1, 'BAGC_15': 1, 'GBC_74': 2, 'GBC_115': 7, 'GBC_105': 1, 'GBC_117': 3, 'GBC_114': 8, 'GBC_22': 3, 'GBC_34': 1, 'GBC_79': 4, 'GBC_26': 2, 'GBC_19': 3}, 0.83516794856086141, 0.8310624604941601)\n",
      "Elminate models -- ensemble and score: ({'GBC_76': 1, 'BAGC_15': 1, 'GBC_74': 2, 'GBC_115': 7, 'GBC_105': 1, 'GBC_117': 3, 'GBC_114': 8, 'GBC_22': 3, 'GBC_34': 1, 'GBC_79': 4, 'GBC_26': 2, 'GBC_19': 3}, 0.83516794856086141, 0.8310624604941601)\n",
      "Add model - GBC_118 - ensemble and score: ({'GBC_76': 1, 'BAGC_15': 1, 'GBC_74': 2, 'GBC_115': 7, 'GBC_105': 1, 'GBC_118': 1, 'GBC_117': 3, 'GBC_114': 8, 'GBC_22': 3, 'GBC_34': 1, 'GBC_79': 4, 'GBC_26': 2, 'GBC_19': 3}, 0.83517721447785354, 0.83079246198380718)\n",
      "Elminate models -- ensemble and score: ({'GBC_76': 1, 'BAGC_15': 1, 'GBC_74': 2, 'GBC_115': 7, 'GBC_105': 1, 'GBC_118': 1, 'GBC_117': 3, 'GBC_114': 8, 'GBC_22': 3, 'GBC_34': 1, 'GBC_79': 4, 'GBC_26': 2, 'GBC_19': 3}, 0.83517721447785354, 0.83079246198380718)\n",
      "Add model - GBC_114 - ensemble and score: ({'GBC_76': 1, 'BAGC_15': 1, 'GBC_74': 2, 'GBC_115': 7, 'GBC_105': 1, 'GBC_118': 1, 'GBC_117': 3, 'GBC_114': 9, 'GBC_22': 3, 'GBC_34': 1, 'GBC_79': 4, 'GBC_26': 2, 'GBC_19': 3}, 0.83518746149193901, 0.83096658963447301)\n",
      "Elminate models -- ensemble and score: ({'GBC_76': 1, 'BAGC_15': 1, 'GBC_74': 2, 'GBC_115': 7, 'GBC_105': 1, 'GBC_118': 1, 'GBC_117': 3, 'GBC_114': 9, 'GBC_22': 3, 'GBC_34': 1, 'GBC_79': 4, 'GBC_26': 2, 'GBC_19': 3}, 0.83518746149193901, 0.83096658963447301)\n",
      "Add model - GBC_114 - ensemble and score: ({'GBC_76': 1, 'BAGC_15': 1, 'GBC_74': 2, 'GBC_115': 7, 'GBC_105': 1, 'GBC_118': 1, 'GBC_117': 3, 'GBC_114': 10, 'GBC_22': 3, 'GBC_34': 1, 'GBC_79': 4, 'GBC_26': 2, 'GBC_19': 3}, 0.83522316252505613, 0.83111580595939305)\n",
      "Elminate models -- ensemble and score: ({'GBC_76': 1, 'BAGC_15': 1, 'GBC_74': 2, 'GBC_115': 7, 'GBC_105': 1, 'GBC_118': 1, 'GBC_117': 3, 'GBC_114': 10, 'GBC_22': 3, 'GBC_34': 1, 'GBC_79': 4, 'GBC_26': 2, 'GBC_19': 3}, 0.83522316252505613, 0.83111580595939305)\n",
      "Add model - GBC_74 - ensemble and score: ({'GBC_76': 1, 'BAGC_15': 1, 'GBC_74': 3, 'GBC_115': 7, 'GBC_105': 1, 'GBC_118': 1, 'GBC_117': 3, 'GBC_114': 10, 'GBC_22': 3, 'GBC_34': 1, 'GBC_79': 4, 'GBC_26': 2, 'GBC_19': 3}, 0.83522556076239529, 0.8312141931146102)\n",
      "Elminate models -- ensemble and score: ({'GBC_76': 1, 'BAGC_15': 1, 'GBC_74': 3, 'GBC_115': 7, 'GBC_105': 1, 'GBC_118': 1, 'GBC_117': 3, 'GBC_114': 10, 'GBC_22': 3, 'GBC_34': 1, 'GBC_79': 4, 'GBC_26': 2, 'GBC_19': 3}, 0.83522556076239529, 0.8312141931146102)\n",
      "Add model - GBC_22 - ensemble and score: ({'GBC_76': 1, 'BAGC_15': 1, 'GBC_74': 3, 'GBC_115': 7, 'GBC_105': 1, 'GBC_118': 1, 'GBC_117': 3, 'GBC_114': 10, 'GBC_22': 4, 'GBC_34': 1, 'GBC_79': 4, 'GBC_26': 2, 'GBC_19': 3}, 0.83524878006026992, 0.83123281370153101)\n",
      "Elminate models -- ensemble and score: ({'GBC_76': 1, 'BAGC_15': 1, 'GBC_74': 3, 'GBC_115': 7, 'GBC_105': 1, 'GBC_118': 1, 'GBC_117': 3, 'GBC_114': 10, 'GBC_22': 4, 'GBC_34': 1, 'GBC_79': 4, 'GBC_19': 3}, 0.83528459010417511, 0.83156521634102443)\n",
      "Add model - GBC_22 - ensemble and score: ({'GBC_76': 1, 'BAGC_15': 1, 'GBC_74': 3, 'GBC_115': 7, 'GBC_105': 1, 'GBC_118': 1, 'GBC_117': 3, 'GBC_114': 10, 'GBC_22': 5, 'GBC_34': 1, 'GBC_79': 4, 'GBC_19': 3}, 0.83532143575056761, 0.8315634549341534)\n",
      "Elminate models -- ensemble and score: ({'GBC_76': 1, 'BAGC_15': 1, 'GBC_74': 3, 'GBC_115': 7, 'GBC_105': 1, 'GBC_118': 1, 'GBC_117': 3, 'GBC_114': 10, 'GBC_22': 5, 'GBC_34': 1, 'GBC_79': 4}, 0.83533413550738655, 0.83133019433853628)\n",
      "Add model - GBC_109 - ensemble and score: ({'GBC_76': 1, 'BAGC_15': 1, 'GBC_74': 3, 'GBC_115': 7, 'GBC_105': 1, 'GBC_118': 1, 'GBC_109': 1, 'GBC_117': 3, 'GBC_114': 10, 'GBC_22': 5, 'GBC_34': 1, 'GBC_79': 4}, 0.8353369152824841, 0.83150532850741388)\n",
      "Elminate models -- ensemble and score: ({'GBC_76': 1, 'BAGC_15': 1, 'GBC_74': 3, 'GBC_115': 7, 'GBC_105': 1, 'GBC_118': 1, 'GBC_109': 1, 'GBC_117': 3, 'GBC_114': 10, 'GBC_22': 5, 'GBC_34': 1, 'GBC_79': 4}, 0.8353369152824841, 0.83150532850741388)\n",
      "Add model - GBC_22 - ensemble and score: ({'GBC_76': 1, 'BAGC_15': 1, 'GBC_74': 3, 'GBC_115': 7, 'GBC_105': 1, 'GBC_118': 1, 'GBC_109': 1, 'GBC_117': 3, 'GBC_114': 10, 'GBC_22': 6, 'GBC_34': 1, 'GBC_79': 4}, 0.83534481856462439, 0.83150960620981473)\n",
      "Elminate models -- ensemble and score: ({'GBC_76': 1, 'BAGC_15': 1, 'GBC_74': 3, 'GBC_115': 7, 'GBC_105': 1, 'GBC_118': 1, 'GBC_117': 3, 'GBC_114': 10, 'GBC_22': 6, 'GBC_34': 1, 'GBC_79': 4}, 0.83535533810568019, 0.83136089314400041)\n",
      "Add model - GBC_107 - ensemble and score: ({'GBC_76': 1, 'BAGC_15': 1, 'GBC_74': 3, 'GBC_115': 7, 'GBC_105': 1, 'GBC_118': 1, 'GBC_107': 1, 'GBC_117': 3, 'GBC_114': 10, 'GBC_22': 6, 'GBC_34': 1, 'GBC_79': 4}, 0.83538139168404657, 0.83143487223257828)\n",
      "Elminate models -- ensemble and score: ({'GBC_76': 1, 'BAGC_15': 1, 'GBC_74': 3, 'GBC_115': 7, 'GBC_105': 1, 'GBC_118': 1, 'GBC_107': 1, 'GBC_117': 3, 'GBC_114': 10, 'GBC_22': 6, 'GBC_34': 1, 'GBC_79': 4}, 0.83538139168404657, 0.83143487223257828)\n",
      "Add model - GBC_117 - ensemble and score: ({'GBC_76': 1, 'BAGC_15': 1, 'GBC_74': 3, 'GBC_115': 7, 'GBC_105': 1, 'GBC_118': 1, 'GBC_107': 1, 'GBC_117': 4, 'GBC_114': 10, 'GBC_22': 6, 'GBC_34': 1, 'GBC_79': 4}, 0.83538526156702586, 0.83136064151444755)\n",
      "Elminate models -- ensemble and score: ({'GBC_76': 1, 'BAGC_15': 1, 'GBC_74': 3, 'GBC_115': 7, 'GBC_105': 1, 'GBC_118': 1, 'GBC_107': 1, 'GBC_117': 4, 'GBC_114': 10, 'GBC_22': 6, 'GBC_34': 1, 'GBC_79': 4}, 0.83538526156702586, 0.83136064151444755)\n",
      "Add model - GBC_79 - ensemble and score: ({'GBC_76': 1, 'BAGC_15': 1, 'GBC_74': 3, 'GBC_115': 7, 'GBC_105': 1, 'GBC_107': 1, 'GBC_118': 1, 'GBC_117': 4, 'GBC_114': 10, 'GBC_22': 6, 'GBC_34': 1, 'GBC_79': 5}, 0.83538558859939027, 0.83141323209102136)\n",
      "Elminate models -- ensemble and score: ({'GBC_76': 1, 'BAGC_15': 1, 'GBC_74': 3, 'GBC_115': 7, 'GBC_105': 1, 'GBC_107': 1, 'GBC_118': 1, 'GBC_117': 4, 'GBC_114': 10, 'GBC_22': 6, 'GBC_34': 1, 'GBC_79': 5}, 0.83538558859939027, 0.83141323209102136)\n",
      "Add model - GBC_34 - ensemble and score: ({'GBC_76': 1, 'BAGC_15': 1, 'GBC_74': 3, 'GBC_115': 7, 'GBC_105': 1, 'GBC_118': 1, 'GBC_107': 1, 'GBC_117': 4, 'GBC_114': 10, 'GBC_22': 6, 'GBC_34': 2, 'GBC_79': 5}, 0.83543262675447416, 0.83134202092752663)\n",
      "Elminate models -- ensemble and score: ({'GBC_76': 1, 'BAGC_15': 1, 'GBC_74': 3, 'GBC_115': 7, 'GBC_105': 1, 'GBC_118': 1, 'GBC_117': 4, 'GBC_114': 10, 'GBC_22': 6, 'GBC_34': 2, 'GBC_79': 5}, 0.83544979595360669, 0.83123834955169684)\n",
      "Add model - ETC_36 - ensemble and score: ({'GBC_76': 1, 'BAGC_15': 1, 'GBC_74': 3, 'GBC_115': 7, 'GBC_105': 1, 'GBC_118': 1, 'ETC_36': 1, 'GBC_117': 4, 'GBC_114': 10, 'GBC_22': 6, 'GBC_34': 2, 'GBC_79': 5}, 0.83550441035846668, 0.83308304580463077)\n",
      "Elminate models -- ensemble and score: ({'GBC_76': 1, 'BAGC_15': 1, 'GBC_74': 3, 'GBC_115': 7, 'GBC_105': 1, 'ETC_36': 1, 'GBC_117': 4, 'GBC_114': 10, 'GBC_22': 6, 'GBC_34': 2, 'GBC_79': 5}, 0.83552261516008663, 0.83338273660223616)\n",
      "Add model - GBC_107 - ensemble and score: ({'GBC_76': 1, 'BAGC_15': 1, 'GBC_74': 3, 'GBC_115': 7, 'GBC_105': 1, 'GBC_107': 1, 'ETC_36': 1, 'GBC_117': 4, 'GBC_114': 10, 'GBC_22': 6, 'GBC_34': 2, 'GBC_79': 5}, 0.83554022040237175, 0.83341419029635899)\n",
      "Elminate models -- ensemble and score: ({'GBC_76': 1, 'BAGC_15': 1, 'GBC_74': 3, 'GBC_115': 7, 'GBC_105': 1, 'GBC_107': 1, 'ETC_36': 1, 'GBC_117': 4, 'GBC_114': 10, 'GBC_22': 6, 'GBC_34': 2, 'GBC_79': 5}, 0.83554022040237175, 0.83341419029635899)\n",
      "Add model - GBC_107 - ensemble and score: ({'GBC_76': 1, 'BAGC_15': 1, 'GBC_74': 3, 'GBC_115': 7, 'GBC_105': 1, 'GBC_107': 2, 'ETC_36': 1, 'GBC_117': 4, 'GBC_114': 10, 'GBC_22': 6, 'GBC_34': 2, 'GBC_79': 5}, 0.83555035840566927, 0.83346124502276753)\n",
      "Elminate models -- ensemble and score: ({'GBC_76': 1, 'BAGC_15': 1, 'GBC_74': 3, 'GBC_115': 7, 'GBC_105': 1, 'GBC_107': 2, 'ETC_36': 1, 'GBC_117': 4, 'GBC_114': 10, 'GBC_22': 6, 'GBC_34': 2, 'GBC_79': 5}, 0.83555035840566927, 0.83346124502276753)\n",
      "Add model - GBC_107 - ensemble and score: ({'GBC_76': 1, 'BAGC_15': 1, 'GBC_74': 3, 'GBC_115': 7, 'GBC_105': 1, 'GBC_107': 3, 'ETC_36': 1, 'GBC_117': 4, 'GBC_114': 10, 'GBC_22': 6, 'GBC_34': 2, 'GBC_79': 5}, 0.83555864322556817, 0.83344690213824724)\n",
      "Elminate models -- ensemble and score: ({'GBC_76': 1, 'BAGC_15': 1, 'GBC_74': 3, 'GBC_115': 7, 'GBC_105': 1, 'GBC_107': 3, 'ETC_36': 1, 'GBC_117': 4, 'GBC_114': 10, 'GBC_22': 6, 'GBC_34': 2, 'GBC_79': 5}, 0.83555864322556817, 0.83344690213824724)\n",
      "Add model - GBC_1 - ensemble and score: ({'GBC_76': 1, 'BAGC_15': 1, 'GBC_74': 3, 'GBC_115': 7, 'GBC_105': 1, 'GBC_107': 3, 'ETC_36': 1, 'GBC_117': 4, 'GBC_114': 10, 'GBC_22': 6, 'GBC_34': 2, 'GBC_79': 5, 'GBC_1': 1}, 0.83556087794672507, 0.83350276389901001)\n",
      "Elminate models -- ensemble and score: ({'GBC_76': 1, 'BAGC_15': 1, 'GBC_74': 3, 'GBC_115': 7, 'GBC_105': 1, 'GBC_107': 3, 'ETC_36': 1, 'GBC_117': 4, 'GBC_114': 10, 'GBC_22': 6, 'GBC_34': 2, 'GBC_79': 5, 'GBC_1': 1}, 0.83556087794672507, 0.83350276389901001)\n",
      "Add model - GBC_76 - ensemble and score: ({'GBC_76': 2, 'BAGC_15': 1, 'GBC_74': 3, 'GBC_115': 7, 'GBC_105': 1, 'GBC_107': 3, 'ETC_36': 1, 'GBC_117': 4, 'GBC_114': 10, 'GBC_22': 6, 'GBC_34': 2, 'GBC_79': 5, 'GBC_1': 1}, 0.83567610234979284, 0.83305385677648447)\n",
      "Elminate models -- ensemble and score: ({'GBC_76': 2, 'BAGC_15': 1, 'GBC_74': 3, 'GBC_115': 7, 'GBC_105': 1, 'GBC_107': 3, 'ETC_36': 1, 'GBC_117': 4, 'GBC_114': 10, 'GBC_22': 6, 'GBC_34': 2, 'GBC_79': 5, 'GBC_1': 1}, 0.83567610234979284, 0.83305385677648447)\n",
      "Add model - GBC_118 - ensemble and score: ({'GBC_76': 2, 'BAGC_15': 1, 'GBC_74': 3, 'GBC_115': 7, 'GBC_105': 1, 'GBC_107': 3, 'GBC_118': 1, 'ETC_36': 1, 'GBC_117': 4, 'GBC_114': 10, 'GBC_22': 6, 'GBC_34': 2, 'GBC_79': 5, 'GBC_1': 1}, 0.83567702894149209, 0.83278335500702538)\n",
      "Elminate models -- ensemble and score: ({'GBC_76': 2, 'BAGC_15': 1, 'GBC_74': 3, 'GBC_115': 7, 'GBC_105': 1, 'GBC_107': 3, 'GBC_118': 1, 'ETC_36': 1, 'GBC_117': 4, 'GBC_114': 10, 'GBC_22': 6, 'GBC_34': 2, 'GBC_79': 5, 'GBC_1': 1}, 0.83567702894149209, 0.83278335500702538)\n",
      "Add model - KNN_50 - ensemble and score: ({'GBC_76': 2, 'BAGC_15': 1, 'GBC_74': 3, 'GBC_115': 7, 'GBC_105': 1, 'GBC_118': 1, 'GBC_107': 3, 'ETC_36': 1, 'GBC_117': 4, 'GBC_114': 10, 'GBC_22': 6, 'GBC_34': 2, 'GBC_79': 5, 'GBC_1': 1, 'KNN_50': 1}, 0.83593631110109168, 0.83303372641224571)\n",
      "Elminate models -- ensemble and score: ({'GBC_76': 2, 'BAGC_15': 1, 'GBC_74': 3, 'GBC_115': 7, 'GBC_105': 1, 'GBC_118': 1, 'GBC_107': 3, 'ETC_36': 1, 'GBC_117': 4, 'GBC_114': 10, 'GBC_22': 6, 'GBC_34': 2, 'GBC_79': 5, 'KNN_50': 1}, 0.83593930889776569, 0.83298994287002626)\n",
      "Add model - GBC_55 - ensemble and score: ({'GBC_76': 2, 'BAGC_15': 1, 'GBC_74': 3, 'GBC_115': 7, 'GBC_105': 1, 'GBC_55': 1, 'GBC_107': 3, 'ETC_36': 1, 'GBC_117': 4, 'GBC_114': 10, 'GBC_22': 6, 'GBC_34': 2, 'GBC_79': 5, 'KNN_50': 1, 'GBC_118': 1}, 0.83594786624463502, 0.83302039004593742)\n",
      "Elminate models -- ensemble and score: ({'GBC_76': 2, 'BAGC_15': 1, 'GBC_74': 3, 'GBC_115': 7, 'GBC_105': 1, 'GBC_55': 1, 'GBC_107': 3, 'ETC_36': 1, 'GBC_117': 4, 'GBC_114': 10, 'GBC_22': 6, 'GBC_34': 2, 'GBC_79': 5, 'KNN_50': 1, 'GBC_118': 1}, 0.83594786624463502, 0.83302039004593742)\n",
      "Add model - GBC_115 - ensemble and score: ({'GBC_76': 2, 'BAGC_15': 1, 'GBC_74': 3, 'GBC_22': 6, 'GBC_105': 1, 'GBC_55': 1, 'GBC_118': 1, 'ETC_36': 1, 'GBC_117': 4, 'GBC_114': 10, 'GBC_115': 8, 'GBC_34': 2, 'GBC_79': 5, 'KNN_50': 1, 'GBC_107': 3}, 0.83594857481475793, 0.83302894545073891)\n",
      "Elminate models -- ensemble and score: ({'GBC_76': 2, 'BAGC_15': 1, 'GBC_74': 3, 'GBC_22': 6, 'GBC_105': 1, 'GBC_107': 3, 'GBC_118': 1, 'ETC_36': 1, 'GBC_117': 4, 'GBC_114': 10, 'GBC_115': 8, 'GBC_34': 2, 'GBC_79': 5, 'KNN_50': 1}, 0.83596067501224192, 0.83304806929676589)\n",
      "Add model - GBC_74 - ensemble and score: ({'GBC_76': 2, 'BAGC_15': 1, 'GBC_74': 4, 'GBC_115': 8, 'GBC_105': 1, 'GBC_118': 1, 'GBC_107': 3, 'ETC_36': 1, 'GBC_117': 4, 'GBC_114': 10, 'GBC_22': 6, 'GBC_34': 2, 'GBC_79': 5, 'KNN_50': 1}, 0.83597288422051397, 0.83310468594618758)\n",
      "Elminate models -- ensemble and score: ({'GBC_76': 2, 'BAGC_15': 1, 'GBC_74': 4, 'GBC_115': 8, 'GBC_105': 1, 'GBC_118': 1, 'GBC_107': 3, 'ETC_36': 1, 'GBC_117': 4, 'GBC_114': 10, 'GBC_22': 6, 'GBC_34': 2, 'GBC_79': 5, 'KNN_50': 1}, 0.83597288422051397, 0.83310468594618758)\n",
      "Add model - GBC_107 - ensemble and score: ({'GBC_76': 2, 'BAGC_15': 1, 'GBC_74': 4, 'GBC_115': 8, 'GBC_105': 1, 'GBC_118': 1, 'GBC_107': 4, 'ETC_36': 1, 'GBC_117': 4, 'GBC_114': 10, 'GBC_22': 6, 'GBC_34': 2, 'GBC_79': 5, 'KNN_50': 1}, 0.83597975190016705, 0.8331545085976787)\n",
      "Elminate models -- ensemble and score: ({'GBC_76': 2, 'BAGC_15': 1, 'GBC_74': 4, 'GBC_115': 8, 'GBC_105': 1, 'GBC_118': 1, 'GBC_107': 4, 'ETC_36': 1, 'GBC_117': 4, 'GBC_114': 10, 'GBC_22': 6, 'GBC_34': 2, 'GBC_79': 5, 'KNN_50': 1}, 0.83597975190016705, 0.8331545085976787)\n",
      "Add model - GBC_73 - ensemble and score: ({'GBC_76': 2, 'BAGC_15': 1, 'GBC_74': 4, 'GBC_115': 8, 'GBC_105': 1, 'GBC_73': 1, 'GBC_107': 4, 'ETC_36': 1, 'GBC_117': 4, 'GBC_114': 10, 'GBC_22': 6, 'GBC_34': 2, 'GBC_79': 5, 'KNN_50': 1, 'GBC_118': 1}, 0.83599855626112185, 0.83317690362789421)\n",
      "Elminate models -- ensemble and score: ({'GBC_76': 2, 'BAGC_15': 1, 'GBC_74': 4, 'GBC_115': 8, 'GBC_105': 1, 'GBC_73': 1, 'GBC_107': 4, 'ETC_36': 1, 'GBC_117': 4, 'GBC_114': 10, 'GBC_22': 6, 'GBC_34': 2, 'GBC_79': 5, 'KNN_50': 1, 'GBC_118': 1}, 0.83599855626112185, 0.83317690362789421)\n",
      "Add model - GBC_74 - ensemble and score: ({'GBC_76': 2, 'BAGC_15': 1, 'GBC_74': 5, 'GBC_22': 6, 'GBC_105': 1, 'GBC_73': 1, 'GBC_118': 1, 'ETC_36': 1, 'GBC_117': 4, 'GBC_114': 10, 'GBC_115': 8, 'GBC_34': 2, 'GBC_79': 5, 'KNN_50': 1, 'GBC_107': 4}, 0.83601409029843232, 0.83323226212955093)\n",
      "Elminate models -- ensemble and score: ({'GBC_76': 2, 'BAGC_15': 1, 'GBC_74': 5, 'GBC_22': 6, 'GBC_105': 1, 'GBC_107': 4, 'GBC_118': 1, 'ETC_36': 1, 'GBC_117': 4, 'GBC_114': 10, 'GBC_115': 8, 'GBC_34': 2, 'GBC_79': 5, 'KNN_50': 1}, 0.83602559093658146, 0.83317564548012935)\n",
      "Add model - GBC_34 - ensemble and score: ({'GBC_76': 2, 'BAGC_15': 1, 'GBC_74': 5, 'GBC_115': 8, 'GBC_105': 1, 'GBC_118': 1, 'GBC_107': 4, 'ETC_36': 1, 'GBC_117': 4, 'GBC_114': 10, 'GBC_22': 6, 'GBC_34': 3, 'GBC_79': 5, 'KNN_50': 1}, 0.83603071444362409, 0.83307700669535922)\n",
      "Elminate models -- ensemble and score: ({'GBC_76': 2, 'BAGC_15': 1, 'GBC_74': 5, 'GBC_115': 8, 'GBC_105': 1, 'GBC_118': 1, 'GBC_107': 4, 'ETC_36': 1, 'GBC_117': 4, 'GBC_114': 10, 'GBC_22': 6, 'GBC_34': 3, 'GBC_79': 5, 'KNN_50': 1}, 0.83603071444362409, 0.83307700669535922)\n",
      "Add model - GBC_117 - ensemble and score: ({'GBC_76': 2, 'BAGC_15': 1, 'GBC_74': 5, 'GBC_115': 8, 'GBC_105': 1, 'GBC_118': 1, 'GBC_107': 4, 'ETC_36': 1, 'GBC_117': 5, 'GBC_114': 10, 'GBC_22': 6, 'GBC_34': 3, 'GBC_79': 5, 'KNN_50': 1}, 0.83603185905689981, 0.83300604716141735)\n",
      "Elminate models -- ensemble and score: ({'GBC_76': 2, 'BAGC_15': 1, 'GBC_74': 5, 'GBC_115': 8, 'GBC_105': 1, 'GBC_118': 1, 'GBC_107': 4, 'ETC_36': 1, 'GBC_117': 5, 'GBC_114': 10, 'GBC_22': 6, 'GBC_34': 3, 'GBC_79': 5, 'KNN_50': 1}, 0.83603185905689981, 0.83300604716141735)\n",
      "Add model - GBC_107 - ensemble and score: ({'GBC_76': 2, 'BAGC_15': 1, 'GBC_74': 5, 'GBC_115': 8, 'GBC_105': 1, 'GBC_118': 1, 'GBC_107': 5, 'ETC_36': 1, 'GBC_117': 5, 'GBC_114': 10, 'GBC_22': 6, 'GBC_34': 3, 'GBC_79': 5, 'KNN_50': 1}, 0.83603360322950993, 0.83302693241431514)\n",
      "Elminate models -- ensemble and score: ({'GBC_76': 2, 'BAGC_15': 1, 'GBC_74': 5, 'GBC_115': 8, 'GBC_105': 1, 'GBC_118': 1, 'GBC_107': 5, 'ETC_36': 1, 'GBC_117': 5, 'GBC_114': 10, 'GBC_22': 6, 'GBC_34': 3, 'GBC_79': 5, 'KNN_50': 1}, 0.83603360322950993, 0.83302693241431514)\n",
      "Add model - GBC_107 - ensemble and score: ({'GBC_76': 2, 'BAGC_15': 1, 'GBC_74': 5, 'GBC_115': 8, 'GBC_105': 1, 'GBC_118': 1, 'GBC_107': 6, 'ETC_36': 1, 'GBC_117': 5, 'GBC_114': 10, 'GBC_22': 6, 'GBC_34': 3, 'GBC_79': 5, 'KNN_50': 1}, 0.83604750210499834, 0.83305184374006047)\n",
      "Elminate models -- ensemble and score: ({'GBC_76': 2, 'BAGC_15': 1, 'GBC_74': 5, 'GBC_115': 8, 'GBC_105': 1, 'GBC_118': 1, 'GBC_107': 6, 'ETC_36': 1, 'GBC_117': 5, 'GBC_114': 10, 'GBC_22': 6, 'GBC_34': 3, 'GBC_79': 5, 'KNN_50': 1}, 0.83604750210499834, 0.83305184374006047)\n",
      "Add model - BAGC_4 - ensemble and score: ({'GBC_76': 2, 'BAGC_15': 1, 'GBC_74': 5, 'GBC_115': 8, 'GBC_105': 1, 'GBC_118': 1, 'GBC_107': 6, 'ETC_36': 1, 'GBC_117': 5, 'GBC_114': 10, 'GBC_22': 6, 'GBC_34': 3, 'GBC_79': 5, 'BAGC_4': 1, 'KNN_50': 1}, 0.83608293061114503, 0.83223127976777611)\n",
      "Elminate models -- ensemble and score: ({'GBC_76': 2, 'BAGC_15': 1, 'GBC_74': 5, 'GBC_115': 8, 'GBC_105': 1, 'GBC_118': 1, 'GBC_107': 6, 'ETC_36': 1, 'GBC_117': 5, 'GBC_114': 10, 'GBC_22': 6, 'GBC_34': 3, 'GBC_79': 5, 'BAGC_4': 1, 'KNN_50': 1}, 0.83608293061114503, 0.83223127976777611)\n",
      "Add model - KNN_50 - ensemble and score: ({'GBC_76': 2, 'BAGC_15': 1, 'GBC_74': 5, 'GBC_22': 6, 'GBC_105': 1, 'GBC_107': 6, 'GBC_118': 1, 'ETC_36': 1, 'GBC_117': 5, 'GBC_114': 10, 'GBC_115': 8, 'GBC_34': 3, 'GBC_79': 5, 'BAGC_4': 1, 'KNN_50': 2}, 0.83617313703833396, 0.83223002162001125)\n",
      "Elminate models -- ensemble and score: ({'GBC_76': 2, 'BAGC_15': 1, 'GBC_74': 5, 'GBC_22': 6, 'GBC_105': 1, 'GBC_107': 6, 'GBC_118': 1, 'ETC_36': 1, 'GBC_117': 5, 'GBC_114': 10, 'GBC_115': 8, 'GBC_34': 3, 'GBC_79': 5, 'BAGC_4': 1, 'KNN_50': 2}, 0.83617313703833396, 0.83223002162001125)\n",
      "Add model - GBC_114 - ensemble and score: ({'GBC_76': 2, 'BAGC_15': 1, 'GBC_74': 5, 'GBC_22': 6, 'GBC_105': 1, 'GBC_107': 6, 'GBC_118': 1, 'ETC_36': 1, 'GBC_117': 5, 'GBC_114': 11, 'GBC_115': 8, 'GBC_34': 3, 'GBC_79': 5, 'BAGC_4': 1, 'KNN_50': 2}, 0.83617749746985959, 0.83228437360345608)\n",
      "Elminate models -- ensemble and score: ({'GBC_76': 2, 'BAGC_15': 1, 'GBC_74': 5, 'GBC_22': 6, 'GBC_105': 1, 'GBC_107': 6, 'GBC_118': 1, 'ETC_36': 1, 'GBC_117': 5, 'GBC_114': 11, 'GBC_115': 8, 'GBC_34': 3, 'GBC_79': 5, 'BAGC_4': 1, 'KNN_50': 2}, 0.83617749746985959, 0.83228437360345608)\n",
      "Add model - ETC_323 - ensemble and score: ({'GBC_76': 2, 'GBC_74': 5, 'ETC_323': 1, 'GBC_22': 6, 'GBC_34': 3, 'GBC_79': 5, 'KNN_50': 2, 'BAGC_15': 1, 'GBC_105': 1, 'GBC_107': 6, 'GBC_118': 1, 'ETC_36': 1, 'GBC_117': 5, 'GBC_114': 11, 'GBC_115': 8, 'BAGC_4': 1}, 0.83617793351301217, 0.83274032635346495)\n",
      "Elminate models -- ensemble and score: ({'GBC_76': 2, 'BAGC_15': 1, 'GBC_74': 5, 'GBC_105': 1, 'GBC_107': 6, 'GBC_118': 1, 'ETC_36': 1, 'GBC_117': 5, 'ETC_323': 1, 'GBC_115': 8, 'GBC_34': 3, 'GBC_79': 5, 'BAGC_4': 1, 'KNN_50': 2, 'GBC_114': 11}, 0.83626536016510333, 0.83258104484642548)\n",
      "Add model - GBC_55 - ensemble and score: ({'GBC_76': 2, 'GBC_74': 5, 'GBC_55': 1, 'ETC_323': 1, 'GBC_34': 3, 'GBC_79': 5, 'KNN_50': 2, 'BAGC_15': 1, 'GBC_105': 1, 'GBC_107': 6, 'GBC_118': 1, 'ETC_36': 1, 'GBC_117': 5, 'GBC_114': 11, 'GBC_115': 8, 'BAGC_4': 1}, 0.83627211883396824, 0.83263237727523454)\n",
      "Elminate models -- ensemble and score: ({'GBC_76': 2, 'GBC_74': 5, 'GBC_55': 1, 'ETC_323': 1, 'GBC_34': 3, 'GBC_79': 5, 'KNN_50': 2, 'BAGC_15': 1, 'GBC_105': 1, 'GBC_107': 6, 'GBC_118': 1, 'ETC_36': 1, 'GBC_117': 5, 'GBC_114': 11, 'GBC_115': 8, 'BAGC_4': 1}, 0.83627211883396824, 0.83263237727523454)\n",
      "Add model - GBC_74 - ensemble and score: ({'GBC_76': 2, 'GBC_74': 6, 'GBC_55': 1, 'ETC_323': 1, 'GBC_34': 3, 'GBC_79': 5, 'KNN_50': 2, 'BAGC_15': 1, 'GBC_105': 1, 'GBC_107': 6, 'GBC_118': 1, 'ETC_36': 1, 'GBC_117': 5, 'GBC_114': 11, 'GBC_115': 8, 'BAGC_4': 1}, 0.83627947706216788, 0.8327325258373226)\n",
      "Elminate models -- ensemble and score: ({'GBC_76': 2, 'BAGC_15': 1, 'GBC_74': 6, 'GBC_105': 1, 'GBC_107': 6, 'GBC_118': 1, 'ETC_36': 1, 'GBC_117': 5, 'ETC_323': 1, 'GBC_115': 8, 'GBC_34': 3, 'GBC_79': 5, 'BAGC_4': 1, 'KNN_50': 2, 'GBC_114': 11}, 0.83631239832018733, 0.83271239547308373)\n",
      "Add model - GBC_98 - ensemble and score: ({'GBC_76': 2, 'GBC_74': 6, 'ETC_323': 1, 'GBC_34': 3, 'GBC_79': 5, 'KNN_50': 2, 'GBC_105': 1, 'BAGC_15': 1, 'GBC_98': 1, 'GBC_107': 6, 'GBC_118': 1, 'ETC_36': 1, 'GBC_117': 5, 'GBC_114': 11, 'GBC_115': 8, 'BAGC_4': 1}, 0.83631512358989102, 0.83264848156662552)\n",
      "Elminate models -- ensemble and score: ({'GBC_76': 2, 'GBC_74': 6, 'ETC_323': 1, 'GBC_34': 3, 'GBC_79': 5, 'KNN_50': 2, 'GBC_105': 1, 'BAGC_15': 1, 'GBC_98': 1, 'GBC_107': 6, 'GBC_118': 1, 'ETC_36': 1, 'GBC_117': 5, 'GBC_114': 11, 'GBC_115': 8, 'BAGC_4': 1}, 0.83631512358989102, 0.83264848156662552)\n",
      "Add model - GBC_1 - ensemble and score: ({'GBC_76': 2, 'GBC_74': 6, 'ETC_323': 1, 'GBC_34': 3, 'GBC_79': 5, 'GBC_1': 1, 'GBC_105': 1, 'BAGC_15': 1, 'GBC_98': 1, 'GBC_107': 6, 'GBC_118': 1, 'ETC_36': 1, 'GBC_117': 5, 'GBC_114': 11, 'GBC_115': 8, 'BAGC_4': 1, 'KNN_50': 2}, 0.83632199126954387, 0.83277731589775383)\n",
      "Elminate models -- ensemble and score: ({'GBC_76': 2, 'GBC_74': 6, 'ETC_323': 1, 'GBC_34': 3, 'GBC_79': 5, 'GBC_1': 1, 'GBC_105': 1, 'BAGC_15': 1, 'GBC_98': 1, 'GBC_107': 6, 'ETC_36': 1, 'GBC_117': 5, 'GBC_114': 11, 'GBC_115': 8, 'BAGC_4': 1, 'KNN_50': 2}, 0.83633409146702786, 0.83294590769825394)\n",
      "Add model - GBC_113 - ensemble and score: ({'GBC_76': 2, 'GBC_74': 6, 'ETC_323': 1, 'GBC_34': 3, 'GBC_79': 5, 'GBC_1': 1, 'GBC_105': 1, 'BAGC_15': 1, 'GBC_98': 1, 'GBC_107': 6, 'ETC_36': 1, 'GBC_117': 5, 'GBC_114': 11, 'GBC_115': 8, 'GBC_113': 1, 'BAGC_4': 1, 'KNN_50': 2}, 0.83635093363379609, 0.83296729621025767)\n",
      "Elminate models -- ensemble and score: ({'GBC_76': 2, 'GBC_74': 6, 'ETC_323': 1, 'GBC_34': 3, 'GBC_79': 5, 'GBC_1': 1, 'GBC_105': 1, 'BAGC_15': 1, 'GBC_98': 1, 'GBC_107': 6, 'ETC_36': 1, 'GBC_117': 5, 'GBC_114': 11, 'GBC_115': 8, 'GBC_113': 1, 'BAGC_4': 1, 'KNN_50': 2}, 0.83635093363379609, 0.83296729621025767)\n",
      "Add model - GBC_1 - ensemble and score: ({'GBC_76': 2, 'GBC_74': 6, 'ETC_323': 1, 'GBC_34': 3, 'GBC_79': 5, 'GBC_1': 2, 'GBC_105': 1, 'BAGC_15': 1, 'GBC_98': 1, 'GBC_107': 6, 'ETC_36': 1, 'GBC_117': 5, 'GBC_114': 11, 'GBC_115': 8, 'GBC_113': 1, 'BAGC_4': 1, 'KNN_50': 2}, 0.8363738258993062, 0.83306090240396813)\n",
      "Elminate models -- ensemble and score: ({'GBC_76': 2, 'GBC_74': 6, 'ETC_323': 1, 'GBC_34': 3, 'GBC_79': 5, 'GBC_1': 2, 'GBC_105': 1, 'BAGC_15': 1, 'GBC_98': 1, 'GBC_107': 6, 'ETC_36': 1, 'GBC_117': 5, 'GBC_114': 11, 'GBC_115': 8, 'GBC_113': 1, 'BAGC_4': 1, 'KNN_50': 2}, 0.8363738258993062, 0.83306090240396813)\n",
      "Add model - KNN_6 - ensemble and score: ({'GBC_76': 2, 'GBC_74': 6, 'ETC_323': 1, 'GBC_34': 3, 'GBC_79': 5, 'GBC_1': 2, 'GBC_98': 1, 'BAGC_15': 1, 'GBC_105': 1, 'GBC_107': 6, 'ETC_36': 1, 'GBC_117': 5, 'GBC_114': 11, 'GBC_115': 8, 'GBC_113': 1, 'KNN_6': 1, 'BAGC_4': 1, 'KNN_50': 2}, 0.83641623109589414, 0.83301762212085473)\n",
      "Elminate models -- ensemble and score: ({'GBC_76': 2, 'GBC_74': 6, 'ETC_323': 1, 'GBC_34': 3, 'GBC_79': 5, 'GBC_1': 2, 'GBC_98': 1, 'BAGC_15': 1, 'GBC_105': 1, 'GBC_107': 6, 'ETC_36': 1, 'GBC_117': 5, 'GBC_114': 11, 'GBC_115': 8, 'GBC_113': 1, 'KNN_6': 1, 'BAGC_4': 1, 'KNN_50': 2}, 0.83641623109589414, 0.83301762212085473)\n",
      "Add model - GBC_114 - ensemble and score: ({'GBC_76': 2, 'GBC_74': 6, 'ETC_323': 1, 'GBC_34': 3, 'GBC_79': 5, 'GBC_1': 2, 'GBC_98': 1, 'BAGC_15': 1, 'GBC_105': 1, 'GBC_107': 6, 'ETC_36': 1, 'GBC_117': 5, 'GBC_114': 12, 'GBC_115': 8, 'GBC_113': 1, 'KNN_6': 1, 'BAGC_4': 1, 'KNN_50': 2}, 0.8364261510776152, 0.83313337171522772)\n",
      "Elminate models -- ensemble and score: ({'GBC_76': 2, 'GBC_74': 6, 'ETC_323': 1, 'GBC_34': 3, 'GBC_79': 5, 'GBC_1': 2, 'GBC_98': 1, 'BAGC_15': 1, 'GBC_105': 1, 'GBC_107': 6, 'ETC_36': 1, 'GBC_117': 5, 'GBC_114': 12, 'GBC_115': 8, 'GBC_113': 1, 'KNN_6': 1, 'BAGC_4': 1, 'KNN_50': 2}, 0.8364261510776152, 0.83313337171522772)\n",
      "Add model - GBC_107 - ensemble and score: ({'GBC_76': 2, 'GBC_74': 6, 'ETC_323': 1, 'GBC_34': 3, 'GBC_79': 5, 'GBC_1': 2, 'GBC_98': 1, 'BAGC_15': 1, 'GBC_105': 1, 'GBC_107': 7, 'ETC_36': 1, 'GBC_117': 5, 'GBC_114': 12, 'GBC_115': 8, 'GBC_113': 1, 'KNN_6': 1, 'BAGC_4': 1, 'KNN_50': 2}, 0.83643285524108613, 0.8331421787495823)\n",
      "Elminate models -- ensemble and score: ({'GBC_76': 2, 'GBC_74': 6, 'ETC_323': 1, 'GBC_34': 3, 'GBC_79': 5, 'GBC_1': 2, 'GBC_98': 1, 'BAGC_15': 1, 'GBC_105': 1, 'GBC_107': 7, 'ETC_36': 1, 'GBC_117': 5, 'GBC_114': 12, 'GBC_115': 8, 'GBC_113': 1, 'KNN_6': 1, 'BAGC_4': 1, 'KNN_50': 2}, 0.83643285524108613, 0.8331421787495823)\n",
      "Add model - BAGC_19 - ensemble and score: ({'GBC_76': 2, 'GBC_74': 6, 'ETC_323': 1, 'GBC_34': 3, 'GBC_79': 5, 'GBC_1': 2, 'BAGC_19': 1, 'GBC_105': 1, 'BAGC_15': 1, 'GBC_98': 1, 'GBC_107': 7, 'ETC_36': 1, 'GBC_117': 5, 'GBC_114': 12, 'GBC_115': 8, 'GBC_113': 1, 'KNN_6': 1, 'BAGC_4': 1, 'KNN_50': 2}, 0.83643688864024746, 0.83319980191721588)\n",
      "Elminate models -- ensemble and score: ({'GBC_76': 2, 'GBC_74': 6, 'ETC_323': 1, 'GBC_34': 3, 'GBC_79': 5, 'GBC_1': 2, 'BAGC_19': 1, 'GBC_105': 1, 'BAGC_15': 1, 'GBC_98': 1, 'GBC_107': 7, 'ETC_36': 1, 'GBC_117': 5, 'GBC_114': 12, 'GBC_115': 8, 'GBC_113': 1, 'KNN_6': 1, 'BAGC_4': 1, 'KNN_50': 2}, 0.83643688864024746, 0.83319980191721588)\n",
      "Add model - GBC_19 - ensemble and score: ({'GBC_76': 2, 'GBC_74': 6, 'ETC_323': 1, 'GBC_34': 3, 'GBC_79': 5, 'GBC_1': 2, 'BAGC_19': 1, 'GBC_105': 1, 'BAGC_15': 1, 'GBC_98': 1, 'GBC_107': 7, 'ETC_36': 1, 'GBC_117': 5, 'GBC_114': 12, 'GBC_115': 8, 'GBC_113': 1, 'KNN_6': 1, 'BAGC_4': 1, 'KNN_50': 2, 'GBC_19': 1}, 0.83643721567261187, 0.83319401443749719)\n",
      "Elminate models -- ensemble and score: ({'GBC_76': 2, 'GBC_74': 6, 'ETC_323': 1, 'GBC_34': 3, 'GBC_79': 5, 'GBC_1': 2, 'BAGC_19': 1, 'GBC_105': 1, 'BAGC_15': 1, 'GBC_98': 1, 'GBC_107': 7, 'ETC_36': 1, 'GBC_117': 5, 'GBC_114': 12, 'GBC_115': 8, 'GBC_113': 1, 'KNN_6': 1, 'BAGC_4': 1, 'KNN_50': 2, 'GBC_19': 1}, 0.83643721567261187, 0.83319401443749719)\n",
      "Add model - GBC_19 - ensemble and score: ({'GBC_76': 2, 'GBC_74': 6, 'ETC_323': 1, 'GBC_34': 3, 'GBC_79': 5, 'GBC_1': 2, 'BAGC_19': 1, 'GBC_98': 1, 'BAGC_15': 1, 'GBC_105': 1, 'GBC_107': 7, 'ETC_36': 1, 'GBC_117': 5, 'GBC_114': 12, 'GBC_115': 8, 'GBC_113': 1, 'KNN_6': 1, 'BAGC_4': 1, 'KNN_50': 2, 'GBC_19': 2}, 0.83644032248007383, 0.83317338081415249)\n",
      "Elminate models -- ensemble and score: ({'GBC_76': 2, 'GBC_74': 6, 'ETC_323': 1, 'GBC_34': 3, 'GBC_79': 5, 'GBC_1': 2, 'BAGC_19': 1, 'GBC_98': 1, 'BAGC_15': 1, 'GBC_105': 1, 'GBC_107': 7, 'ETC_36': 1, 'GBC_117': 5, 'GBC_114': 12, 'GBC_115': 8, 'GBC_113': 1, 'KNN_6': 1, 'BAGC_4': 1, 'KNN_50': 2, 'GBC_19': 2}, 0.83644032248007383, 0.83317338081415249)\n",
      "Add model - LR_36 - ensemble and score: ({'GBC_76': 2, 'GBC_74': 6, 'ETC_323': 1, 'GBC_34': 3, 'GBC_79': 5, 'GBC_1': 2, 'BAGC_19': 1, 'GBC_105': 1, 'BAGC_15': 1, 'GBC_98': 1, 'GBC_107': 7, 'ETC_36': 1, 'GBC_117': 5, 'GBC_114': 12, 'GBC_115': 8, 'GBC_113': 1, 'KNN_6': 1, 'BAGC_4': 1, 'KNN_50': 2, 'GBC_19': 2, 'LR_36': 1}, 0.83667807500901514, 0.8337815694437174)\n",
      "Elminate models -- ensemble and score: ({'GBC_76': 2, 'GBC_74': 6, 'ETC_323': 1, 'GBC_34': 3, 'GBC_79': 5, 'GBC_1': 2, 'BAGC_19': 1, 'GBC_105': 1, 'BAGC_15': 1, 'GBC_98': 1, 'GBC_107': 7, 'GBC_114': 12, 'GBC_115': 8, 'GBC_113': 1, 'KNN_6': 1, 'BAGC_4': 1, 'KNN_50': 2, 'LR_36': 1}, 0.83688650363594586, 0.83329189833360839)\n",
      "Add model - GBC_117 - ensemble and score: ({'GBC_76': 2, 'GBC_74': 6, 'ETC_323': 1, 'GBC_34': 3, 'GBC_79': 5, 'GBC_1': 2, 'BAGC_19': 1, 'GBC_98': 1, 'BAGC_15': 1, 'GBC_105': 1, 'GBC_107': 7, 'GBC_117': 1, 'GBC_114': 12, 'GBC_115': 8, 'GBC_113': 1, 'KNN_6': 1, 'BAGC_4': 1, 'KNN_50': 2, 'LR_36': 1}, 0.83690465393217173, 0.83320886058112342)\n",
      "Elminate models -- ensemble and score: ({'GBC_76': 2, 'GBC_74': 6, 'ETC_323': 1, 'GBC_34': 3, 'GBC_79': 5, 'KNN_50': 2, 'BAGC_19': 1, 'GBC_98': 1, 'BAGC_15': 1, 'GBC_105': 1, 'GBC_107': 7, 'GBC_117': 1, 'GBC_114': 12, 'GBC_115': 8, 'GBC_113': 1, 'KNN_6': 1, 'BAGC_4': 1, 'LR_36': 1}, 0.83691473743007505, 0.83306140566307407)\n",
      "Add model - GBC_117 - ensemble and score: ({'GBC_76': 2, 'GBC_74': 6, 'ETC_323': 1, 'GBC_34': 3, 'GBC_79': 5, 'KNN_50': 2, 'BAGC_19': 1, 'GBC_105': 1, 'BAGC_15': 1, 'GBC_98': 1, 'GBC_107': 7, 'GBC_117': 2, 'GBC_114': 12, 'GBC_115': 8, 'GBC_113': 1, 'KNN_6': 1, 'BAGC_4': 1, 'LR_36': 1}, 0.83692155060433393, 0.83306014751530921)\n",
      "Elminate models -- ensemble and score: ({'GBC_76': 2, 'GBC_74': 6, 'ETC_323': 1, 'GBC_34': 3, 'GBC_79': 5, 'KNN_50': 2, 'BAGC_19': 1, 'GBC_105': 1, 'BAGC_15': 1, 'GBC_98': 1, 'GBC_107': 7, 'GBC_117': 2, 'GBC_114': 12, 'GBC_115': 8, 'GBC_113': 1, 'KNN_6': 1, 'BAGC_4': 1, 'LR_36': 1}, 0.83692155060433393, 0.83306014751530921)\n",
      "Add model - KNN_52 - ensemble and score: ({'GBC_76': 2, 'GBC_74': 6, 'ETC_323': 1, 'GBC_34': 3, 'GBC_79': 5, 'KNN_52': 1, 'KNN_50': 2, 'BAGC_19': 1, 'GBC_98': 1, 'BAGC_15': 1, 'GBC_105': 1, 'GBC_107': 7, 'GBC_117': 2, 'GBC_114': 12, 'GBC_115': 8, 'GBC_113': 1, 'KNN_6': 1, 'BAGC_4': 1, 'LR_36': 1}, 0.83692438488482579, 0.83295094028931371)\n",
      "Elminate models -- ensemble and score: ({'GBC_76': 2, 'GBC_74': 6, 'ETC_323': 1, 'GBC_34': 3, 'GBC_79': 5, 'KNN_52': 1, 'KNN_50': 2, 'BAGC_19': 1, 'GBC_98': 1, 'BAGC_15': 1, 'GBC_105': 1, 'GBC_107': 7, 'GBC_117': 2, 'GBC_114': 12, 'GBC_115': 8, 'GBC_113': 1, 'KNN_6': 1, 'BAGC_4': 1, 'LR_36': 1}, 0.83692438488482579, 0.83295094028931371)\n",
      "Add model - GBC_107 - ensemble and score: ({'GBC_76': 2, 'GBC_74': 6, 'ETC_323': 1, 'GBC_34': 3, 'GBC_79': 5, 'KNN_52': 1, 'KNN_50': 2, 'BAGC_19': 1, 'GBC_105': 1, 'BAGC_15': 1, 'GBC_98': 1, 'GBC_107': 8, 'GBC_117': 2, 'GBC_114': 12, 'GBC_115': 8, 'GBC_113': 1, 'KNN_6': 1, 'BAGC_4': 1, 'LR_36': 1}, 0.83692934487568615, 0.83296075384187995)\n",
      "Elminate models -- ensemble and score: ({'GBC_76': 2, 'GBC_74': 6, 'ETC_323': 1, 'GBC_34': 3, 'GBC_79': 5, 'KNN_52': 1, 'KNN_50': 2, 'BAGC_19': 1, 'GBC_105': 1, 'BAGC_15': 1, 'GBC_98': 1, 'GBC_107': 8, 'GBC_117': 2, 'GBC_114': 12, 'GBC_115': 8, 'GBC_113': 1, 'KNN_6': 1, 'BAGC_4': 1, 'LR_36': 1}, 0.83692934487568615, 0.83296075384187995)\n",
      "Add model - GBC_19 - ensemble and score: ({'GBC_76': 2, 'GBC_74': 6, 'ETC_323': 1, 'GBC_34': 3, 'GBC_79': 5, 'KNN_52': 1, 'KNN_50': 2, 'BAGC_19': 1, 'GBC_98': 1, 'BAGC_15': 1, 'GBC_105': 1, 'GBC_107': 8, 'GBC_117': 2, 'GBC_114': 12, 'GBC_115': 8, 'GBC_113': 1, 'KNN_6': 1, 'BAGC_4': 1, 'GBC_19': 1, 'LR_36': 1}, 0.83693621255533923, 0.83302592589610314)\n",
      "Elminate models -- ensemble and score: ({'GBC_76': 2, 'GBC_74': 6, 'ETC_323': 1, 'GBC_34': 3, 'GBC_79': 5, 'KNN_52': 1, 'KNN_50': 2, 'BAGC_19': 1, 'GBC_98': 1, 'BAGC_15': 1, 'GBC_105': 1, 'GBC_107': 8, 'GBC_117': 2, 'GBC_114': 12, 'GBC_115': 8, 'GBC_113': 1, 'KNN_6': 1, 'BAGC_4': 1, 'GBC_19': 1, 'LR_36': 1}, 0.83693621255533923, 0.83302592589610314)\n",
      "Add model - GBC_19 - ensemble and score: ({'GBC_76': 2, 'GBC_74': 6, 'ETC_323': 1, 'GBC_34': 3, 'GBC_79': 5, 'KNN_52': 1, 'KNN_50': 2, 'BAGC_19': 1, 'GBC_105': 1, 'BAGC_15': 1, 'GBC_98': 1, 'GBC_107': 8, 'GBC_117': 2, 'GBC_114': 12, 'GBC_115': 8, 'GBC_113': 1, 'KNN_6': 1, 'BAGC_4': 1, 'GBC_19': 2, 'LR_36': 1}, 0.83694482440760254, 0.83306367032905093)\n",
      "Elminate models -- ensemble and score: ({'GBC_76': 2, 'GBC_74': 6, 'ETC_323': 1, 'GBC_34': 3, 'GBC_79': 5, 'KNN_52': 1, 'KNN_50': 2, 'BAGC_19': 1, 'GBC_105': 1, 'BAGC_15': 1, 'GBC_98': 1, 'GBC_107': 8, 'GBC_117': 2, 'GBC_114': 12, 'GBC_115': 8, 'GBC_113': 1, 'KNN_6': 1, 'BAGC_4': 1, 'GBC_19': 2, 'LR_36': 1}, 0.83694482440760254, 0.83306367032905093)\n",
      "Add model - BAGC_15 - ensemble and score: ({'GBC_76': 2, 'GBC_74': 6, 'ETC_323': 1, 'GBC_34': 3, 'GBC_79': 5, 'KNN_52': 1, 'KNN_50': 2, 'BAGC_19': 1, 'GBC_98': 1, 'BAGC_15': 2, 'GBC_105': 1, 'GBC_107': 8, 'GBC_117': 2, 'GBC_114': 12, 'GBC_115': 8, 'GBC_113': 1, 'KNN_6': 1, 'BAGC_4': 1, 'GBC_19': 2, 'LR_36': 1}, 0.8369506564847683, 0.83310518920529342)\n",
      "Elminate models -- ensemble and score: ({'GBC_76': 2, 'GBC_74': 6, 'ETC_323': 1, 'GBC_34': 3, 'GBC_79': 5, 'KNN_52': 1, 'KNN_50': 2, 'GBC_98': 1, 'BAGC_15': 2, 'GBC_105': 1, 'GBC_107': 8, 'GBC_117': 2, 'GBC_114': 12, 'GBC_115': 8, 'BAGC_19': 1, 'BAGC_4': 1, 'GBC_19': 2, 'LR_36': 1}, 0.83698248763490635, 0.83309311098675021)\n",
      "Add model - BAGC_15 - ensemble and score: ({'GBC_76': 2, 'GBC_74': 6, 'ETC_323': 1, 'GBC_34': 3, 'GBC_79': 5, 'KNN_52': 1, 'KNN_50': 2, 'GBC_105': 1, 'BAGC_15': 3, 'GBC_98': 1, 'GBC_107': 8, 'GBC_117': 2, 'GBC_114': 12, 'GBC_115': 8, 'BAGC_19': 1, 'BAGC_4': 1, 'GBC_19': 2, 'LR_36': 1}, 0.83700401726556473, 0.83314846948840693)\n",
      "Elminate models -- ensemble and score: ({'GBC_76': 2, 'GBC_74': 6, 'ETC_323': 1, 'GBC_34': 3, 'GBC_79': 5, 'KNN_52': 1, 'KNN_50': 2, 'GBC_105': 1, 'BAGC_15': 3, 'GBC_98': 1, 'GBC_107': 8, 'GBC_117': 2, 'GBC_114': 12, 'GBC_115': 8, 'BAGC_4': 1, 'GBC_19': 2, 'LR_36': 1}, 0.83700875923484896, 0.83314192712002932)\n",
      "Add model - DTC_42 - ensemble and score: ({'GBC_76': 2, 'GBC_74': 6, 'ETC_323': 1, 'GBC_34': 3, 'GBC_79': 5, 'KNN_52': 1, 'KNN_50': 2, 'GBC_105': 1, 'DTC_42': 1, 'BAGC_15': 3, 'GBC_98': 1, 'GBC_107': 8, 'GBC_117': 2, 'GBC_114': 12, 'GBC_115': 8, 'BAGC_4': 1, 'GBC_19': 2, 'LR_36': 1}, 0.8375812838941793, 0.83430495891392664)\n",
      "Elminate models -- ensemble and score: ({'GBC_76': 2, 'GBC_74': 6, 'ETC_323': 1, 'GBC_34': 3, 'GBC_79': 5, 'KNN_50': 2, 'GBC_105': 1, 'DTC_42': 1, 'BAGC_15': 3, 'GBC_98': 1, 'GBC_107': 8, 'GBC_117': 2, 'GBC_114': 12, 'GBC_115': 8, 'BAGC_4': 1, 'GBC_19': 2, 'LR_36': 1}, 0.83758155642114962, 0.83442850902444232)\n",
      "Add model - GBC_113 - ensemble and score: ({'GBC_76': 2, 'GBC_74': 6, 'ETC_323': 1, 'GBC_34': 3, 'GBC_79': 5, 'KNN_50': 2, 'GBC_98': 1, 'DTC_42': 1, 'BAGC_15': 3, 'GBC_105': 1, 'GBC_107': 8, 'GBC_117': 2, 'GBC_114': 12, 'GBC_115': 8, 'GBC_113': 1, 'BAGC_4': 1, 'GBC_19': 2, 'LR_36': 1}, 0.83759698144767203, 0.83443555465192576)\n",
      "Elminate models -- ensemble and score: ({'GBC_76': 2, 'GBC_74': 6, 'ETC_323': 1, 'GBC_34': 3, 'GBC_79': 5, 'KNN_50': 2, 'DTC_42': 1, 'BAGC_15': 3, 'GBC_105': 1, 'GBC_107': 8, 'GBC_117': 2, 'GBC_114': 12, 'GBC_115': 8, 'GBC_113': 1, 'BAGC_4': 1, 'GBC_19': 2, 'LR_36': 1}, 0.83760275901944359, 0.83453268365937816)\n",
      "Add model - GBC_114 - ensemble and score: ({'GBC_76': 2, 'GBC_74': 6, 'ETC_323': 1, 'GBC_34': 3, 'GBC_79': 5, 'KNN_50': 2, 'DTC_42': 1, 'BAGC_15': 3, 'GBC_105': 1, 'GBC_107': 8, 'GBC_117': 2, 'GBC_114': 13, 'GBC_115': 8, 'GBC_113': 1, 'BAGC_4': 1, 'GBC_19': 2, 'LR_36': 1}, 0.83761578580862661, 0.83458930030879985)\n",
      "Elminate models -- ensemble and score: ({'GBC_76': 2, 'GBC_74': 6, 'ETC_323': 1, 'GBC_34': 3, 'GBC_79': 5, 'KNN_50': 2, 'DTC_42': 1, 'BAGC_15': 3, 'GBC_105': 1, 'GBC_107': 8, 'GBC_117': 2, 'GBC_114': 13, 'GBC_115': 8, 'GBC_113': 1, 'BAGC_4': 1, 'GBC_19': 2, 'LR_36': 1}, 0.83761578580862661, 0.83458930030879985)\n",
      "Add model - GBC_114 - ensemble and score: ({'GBC_76': 2, 'GBC_74': 6, 'ETC_323': 1, 'GBC_34': 3, 'GBC_79': 5, 'KNN_50': 2, 'DTC_42': 1, 'BAGC_15': 3, 'GBC_105': 1, 'GBC_107': 8, 'GBC_117': 2, 'GBC_114': 14, 'GBC_115': 8, 'GBC_113': 1, 'BAGC_4': 1, 'GBC_19': 2, 'LR_36': 1}, 0.83762058228330505, 0.83457445416517373)\n",
      "Elminate models -- ensemble and score: ({'GBC_76': 2, 'GBC_74': 6, 'ETC_323': 1, 'GBC_34': 3, 'GBC_79': 5, 'KNN_50': 2, 'DTC_42': 1, 'BAGC_15': 3, 'GBC_105': 1, 'GBC_107': 8, 'GBC_117': 2, 'GBC_114': 14, 'GBC_115': 8, 'BAGC_4': 1, 'GBC_19': 2, 'LR_36': 1}, 0.83762614183350048, 0.83458930030879974)\n",
      "Add model - DTC_2 - ensemble and score: ({'GBC_76': 2, 'GBC_74': 6, 'ETC_323': 1, 'DTC_2': 1, 'GBC_34': 3, 'GBC_79': 5, 'KNN_50': 2, 'DTC_42': 1, 'BAGC_15': 3, 'GBC_105': 1, 'GBC_107': 8, 'GBC_117': 2, 'GBC_114': 14, 'GBC_115': 8, 'BAGC_4': 1, 'GBC_19': 2, 'LR_36': 1}, 0.83796794515972484, 0.83320433124916959)\n",
      "Elminate models -- ensemble and score: ({'GBC_76': 2, 'GBC_74': 6, 'ETC_323': 1, 'DTC_2': 1, 'GBC_34': 3, 'GBC_79': 5, 'KNN_50': 2, 'DTC_42': 1, 'BAGC_15': 3, 'GBC_105': 1, 'GBC_107': 8, 'GBC_117': 2, 'GBC_114': 14, 'GBC_115': 8, 'BAGC_4': 1, 'GBC_19': 2, 'LR_36': 1}, 0.83796794515972484, 0.83320433124916959)\n",
      "Add model - GBC_113 - ensemble and score: ({'GBC_76': 2, 'GBC_74': 6, 'ETC_323': 1, 'DTC_2': 1, 'GBC_34': 3, 'GBC_79': 5, 'KNN_50': 2, 'DTC_42': 1, 'BAGC_15': 3, 'GBC_105': 1, 'GBC_107': 8, 'GBC_117': 2, 'GBC_114': 14, 'GBC_115': 8, 'GBC_113': 1, 'BAGC_4': 1, 'GBC_19': 2, 'LR_36': 1}, 0.83799666950240059, 0.8332438370889883)\n",
      "Elminate models -- ensemble and score: ({'GBC_76': 2, 'GBC_74': 6, 'ETC_323': 1, 'DTC_2': 1, 'GBC_34': 3, 'GBC_79': 5, 'KNN_50': 2, 'DTC_42': 1, 'BAGC_15': 3, 'GBC_105': 1, 'GBC_107': 8, 'GBC_117': 2, 'GBC_114': 14, 'GBC_115': 8, 'GBC_113': 1, 'BAGC_4': 1, 'GBC_19': 2, 'LR_36': 1}, 0.83799666950240059, 0.8332438370889883)\n",
      "Add model - GBC_114 - ensemble and score: ({'GBC_76': 2, 'GBC_74': 6, 'ETC_323': 1, 'DTC_2': 1, 'GBC_34': 3, 'GBC_79': 5, 'KNN_50': 2, 'DTC_42': 1, 'BAGC_15': 3, 'GBC_105': 1, 'GBC_107': 8, 'GBC_117': 2, 'GBC_114': 15, 'GBC_115': 8, 'GBC_113': 1, 'BAGC_4': 1, 'GBC_19': 2, 'LR_36': 1}, 0.83800866068909641, 0.83328082663327718)\n",
      "Elminate models -- ensemble and score: ({'GBC_76': 2, 'GBC_74': 6, 'ETC_323': 1, 'DTC_2': 1, 'GBC_34': 3, 'GBC_79': 5, 'KNN_50': 2, 'DTC_42': 1, 'BAGC_15': 3, 'GBC_105': 1, 'GBC_107': 8, 'GBC_117': 2, 'GBC_114': 15, 'GBC_115': 8, 'GBC_113': 1, 'BAGC_4': 1, 'GBC_19': 2, 'LR_36': 1}, 0.83800866068909641, 0.83328082663327718)\n",
      "Add model - GBC_91 - ensemble and score: ({'GBC_76': 2, 'GBC_74': 6, 'ETC_323': 1, 'DTC_2': 1, 'GBC_34': 3, 'GBC_79': 5, 'KNN_50': 2, 'DTC_42': 1, 'BAGC_15': 3, 'GBC_105': 1, 'GBC_107': 8, 'GBC_117': 2, 'GBC_114': 15, 'GBC_115': 8, 'GBC_113': 1, 'BAGC_4': 1, 'GBC_19': 2, 'GBC_91': 1, 'LR_36': 1}, 0.83801253057207536, 0.83330498307036371)\n",
      "Elminate models -- ensemble and score: ({'GBC_76': 2, 'GBC_74': 6, 'ETC_323': 1, 'DTC_2': 1, 'GBC_34': 3, 'GBC_79': 5, 'KNN_50': 2, 'DTC_42': 1, 'BAGC_15': 3, 'GBC_105': 1, 'GBC_107': 8, 'GBC_117': 2, 'GBC_114': 15, 'GBC_115': 8, 'GBC_113': 1, 'BAGC_4': 1, 'GBC_19': 2, 'GBC_91': 1, 'LR_36': 1}, 0.83801253057207536, 0.83330498307036371)\n",
      "Add model - GBC_34 - ensemble and score: ({'GBC_76': 2, 'GBC_74': 6, 'ETC_323': 1, 'DTC_2': 1, 'GBC_34': 4, 'GBC_79': 5, 'KNN_50': 2, 'DTC_42': 1, 'BAGC_15': 3, 'GBC_105': 1, 'GBC_107': 8, 'GBC_117': 2, 'GBC_114': 15, 'GBC_115': 8, 'GBC_113': 1, 'BAGC_4': 1, 'GBC_19': 2, 'GBC_91': 1, 'LR_36': 1}, 0.83801323914219839, 0.83327176796936953)\n",
      "Elminate models -- ensemble and score: ({'GBC_76': 2, 'GBC_74': 6, 'ETC_323': 1, 'DTC_2': 1, 'GBC_34': 4, 'GBC_79': 5, 'KNN_50': 2, 'DTC_42': 1, 'BAGC_15': 3, 'GBC_105': 1, 'GBC_107': 8, 'GBC_117': 2, 'GBC_114': 15, 'GBC_115': 8, 'GBC_113': 1, 'BAGC_4': 1, 'GBC_19': 2, 'GBC_91': 1, 'LR_36': 1}, 0.83801323914219839, 0.83327176796936953)\n",
      "Add model - GBC_19 - ensemble and score: ({'GBC_76': 2, 'GBC_74': 6, 'ETC_323': 1, 'DTC_2': 1, 'GBC_34': 4, 'GBC_79': 5, 'KNN_50': 2, 'DTC_42': 1, 'BAGC_15': 3, 'GBC_105': 1, 'GBC_107': 8, 'GBC_117': 2, 'GBC_114': 15, 'GBC_115': 8, 'GBC_113': 1, 'BAGC_4': 1, 'GBC_19': 3, 'GBC_91': 1, 'LR_36': 1}, 0.83801661847663089, 0.83333467535761596)\n",
      "Elminate models -- ensemble and score: ({'GBC_76': 2, 'GBC_74': 6, 'ETC_323': 1, 'DTC_2': 1, 'GBC_34': 4, 'GBC_79': 5, 'KNN_50': 2, 'DTC_42': 1, 'BAGC_15': 3, 'GBC_105': 1, 'GBC_107': 8, 'GBC_117': 2, 'GBC_114': 15, 'GBC_115': 8, 'GBC_113': 1, 'BAGC_4': 1, 'GBC_19': 3, 'GBC_91': 1, 'LR_36': 1}, 0.83801661847663089, 0.83333467535761596)\n",
      "Add model - GBC_117 - ensemble and score: ({'GBC_76': 2, 'GBC_74': 6, 'ETC_323': 1, 'DTC_2': 1, 'GBC_34': 4, 'GBC_79': 5, 'KNN_50': 2, 'DTC_42': 1, 'BAGC_15': 3, 'GBC_105': 1, 'GBC_107': 8, 'GBC_117': 3, 'GBC_114': 15, 'GBC_115': 8, 'GBC_113': 1, 'BAGC_4': 1, 'GBC_19': 3, 'GBC_91': 1, 'LR_36': 1}, 0.83801754506833026, 0.83331957758443687)\n",
      "Elminate models -- ensemble and score: ({'GBC_76': 2, 'GBC_74': 6, 'ETC_323': 1, 'DTC_2': 1, 'GBC_34': 4, 'GBC_79': 5, 'KNN_50': 2, 'DTC_42': 1, 'BAGC_15': 3, 'GBC_105': 1, 'GBC_107': 8, 'GBC_117': 3, 'GBC_114': 15, 'GBC_115': 8, 'GBC_113': 1, 'BAGC_4': 1, 'GBC_19': 3, 'GBC_91': 1, 'LR_36': 1}, 0.83801754506833026, 0.83331957758443687)\n",
      "Add model - GBC_19 - ensemble and score: ({'GBC_76': 2, 'GBC_74': 6, 'ETC_323': 1, 'DTC_2': 1, 'GBC_34': 4, 'GBC_79': 5, 'KNN_50': 2, 'DTC_42': 1, 'BAGC_15': 3, 'GBC_105': 1, 'GBC_107': 8, 'GBC_117': 3, 'GBC_114': 15, 'GBC_115': 8, 'GBC_113': 1, 'BAGC_4': 1, 'GBC_19': 4, 'GBC_91': 1, 'LR_36': 1}, 0.83802288659694923, 0.83336940023592776)\n",
      "Elminate models -- ensemble and score: ({'GBC_76': 2, 'GBC_74': 6, 'ETC_323': 1, 'DTC_2': 1, 'GBC_34': 4, 'GBC_79': 5, 'KNN_50': 2, 'DTC_42': 1, 'BAGC_15': 3, 'GBC_105': 1, 'GBC_107': 8, 'GBC_117': 3, 'GBC_114': 15, 'GBC_115': 8, 'GBC_113': 1, 'BAGC_4': 1, 'GBC_19': 4, 'GBC_91': 1, 'LR_36': 1}, 0.83802288659694923, 0.83336940023592776)\n",
      "Add model - GBC_19 - ensemble and score: ({'GBC_76': 2, 'GBC_74': 6, 'ETC_323': 1, 'DTC_2': 1, 'GBC_34': 4, 'GBC_79': 5, 'KNN_50': 2, 'DTC_42': 1, 'BAGC_15': 3, 'GBC_105': 1, 'GBC_107': 8, 'GBC_117': 3, 'GBC_114': 15, 'GBC_115': 8, 'GBC_113': 1, 'BAGC_4': 1, 'GBC_19': 5, 'GBC_91': 1, 'LR_36': 1}, 0.83802414022101279, 0.83341016422351144)\n",
      "Elminate models -- ensemble and score: ({'GBC_76': 2, 'GBC_74': 6, 'ETC_323': 1, 'DTC_2': 1, 'GBC_34': 4, 'GBC_79': 5, 'KNN_50': 2, 'DTC_42': 1, 'BAGC_15': 3, 'GBC_105': 1, 'GBC_107': 8, 'GBC_117': 3, 'GBC_114': 15, 'GBC_115': 8, 'GBC_113': 1, 'BAGC_4': 1, 'GBC_19': 5, 'GBC_91': 1, 'LR_36': 1}, 0.83802414022101279, 0.83341016422351144)\n",
      "Add model - DTC_42 - ensemble and score: ({'GBC_76': 2, 'GBC_74': 6, 'ETC_323': 1, 'DTC_2': 1, 'GBC_34': 4, 'GBC_79': 5, 'KNN_50': 2, 'DTC_42': 2, 'BAGC_15': 3, 'GBC_105': 1, 'GBC_107': 8, 'GBC_117': 3, 'GBC_114': 15, 'GBC_115': 8, 'GBC_113': 1, 'BAGC_4': 1, 'GBC_19': 5, 'GBC_91': 1, 'LR_36': 1}, 0.8380347142674629, 0.83384019912956309)\n",
      "Elminate models -- ensemble and score: ({'GBC_76': 2, 'ETC_323': 1, 'DTC_2': 1, 'GBC_34': 4, 'GBC_79': 5, 'KNN_50': 2, 'DTC_42': 2, 'BAGC_15': 3, 'GBC_105': 1, 'GBC_107': 8, 'GBC_117': 3, 'GBC_114': 15, 'GBC_115': 8, 'GBC_113': 1, 'BAGC_4': 1, 'GBC_19': 5, 'GBC_91': 1, 'LR_36': 1}, 0.83803558635376807, 0.83330347329304566)\n",
      "Add model - GBC_113 - ensemble and score: ({'GBC_76': 2, 'ETC_323': 1, 'DTC_2': 1, 'GBC_34': 4, 'GBC_79': 5, 'KNN_50': 2, 'DTC_42': 2, 'BAGC_15': 3, 'GBC_105': 1, 'GBC_107': 8, 'GBC_117': 3, 'GBC_114': 15, 'GBC_115': 8, 'GBC_113': 2, 'BAGC_4': 1, 'GBC_19': 5, 'GBC_91': 1, 'LR_36': 1}, 0.83804267205499716, 0.83332611995281447)\n",
      "Elminate models -- ensemble and score: ({'GBC_76': 2, 'ETC_323': 1, 'DTC_2': 1, 'GBC_34': 4, 'GBC_79': 5, 'KNN_50': 2, 'DTC_42': 2, 'BAGC_15': 3, 'GBC_105': 1, 'GBC_107': 8, 'GBC_117': 3, 'GBC_114': 15, 'GBC_115': 8, 'GBC_113': 2, 'BAGC_4': 1, 'GBC_19': 5, 'GBC_91': 1, 'LR_36': 1}, 0.83804267205499716, 0.83332611995281447)\n",
      "Add model - GBC_114 - ensemble and score: ({'GBC_76': 2, 'ETC_323': 1, 'DTC_2': 1, 'GBC_34': 4, 'GBC_79': 5, 'KNN_50': 2, 'DTC_42': 2, 'BAGC_15': 3, 'GBC_105': 1, 'GBC_107': 8, 'GBC_117': 3, 'GBC_114': 16, 'GBC_115': 8, 'GBC_113': 2, 'BAGC_4': 1, 'GBC_19': 5, 'GBC_91': 1, 'LR_36': 1}, 0.83805717048982031, 0.83344010814031655)\n",
      "Elminate models -- ensemble and score: ({'GBC_76': 2, 'ETC_323': 1, 'DTC_2': 1, 'GBC_34': 4, 'GBC_79': 5, 'KNN_50': 2, 'DTC_42': 2, 'BAGC_15': 3, 'GBC_105': 1, 'GBC_107': 8, 'GBC_117': 3, 'GBC_114': 16, 'GBC_115': 8, 'GBC_113': 2, 'BAGC_4': 1, 'GBC_19': 5, 'GBC_91': 1, 'LR_36': 1}, 0.83805717048982031, 0.83344010814031655)\n",
      "Add model - GBC_114 - ensemble and score: ({'GBC_76': 2, 'ETC_323': 1, 'DTC_2': 1, 'GBC_34': 4, 'GBC_79': 5, 'KNN_50': 2, 'DTC_42': 2, 'BAGC_15': 3, 'GBC_105': 1, 'GBC_107': 8, 'GBC_117': 3, 'GBC_114': 17, 'GBC_115': 8, 'GBC_113': 2, 'BAGC_4': 1, 'GBC_19': 5, 'GBC_91': 1, 'LR_36': 1}, 0.83806698146075331, 0.83344866354511826)\n",
      "Elminate models -- ensemble and score: ({'GBC_76': 2, 'ETC_323': 1, 'DTC_2': 1, 'GBC_34': 4, 'GBC_79': 5, 'KNN_50': 2, 'DTC_42': 2, 'BAGC_15': 3, 'GBC_105': 1, 'GBC_107': 8, 'GBC_117': 3, 'GBC_114': 17, 'GBC_115': 8, 'GBC_91': 1, 'BAGC_4': 1, 'GBC_19': 5, 'LR_36': 1}, 0.83807068782755023, 0.83329516951779725)\n",
      "Add model - GBC_19 - ensemble and score: ({'GBC_76': 2, 'ETC_323': 1, 'DTC_2': 1, 'GBC_34': 4, 'GBC_79': 5, 'KNN_50': 2, 'DTC_42': 2, 'BAGC_15': 3, 'GBC_105': 1, 'GBC_107': 8, 'GBC_117': 3, 'GBC_114': 17, 'GBC_115': 8, 'GBC_91': 1, 'BAGC_4': 1, 'GBC_19': 6, 'LR_36': 1}, 0.83808088033624162, 0.83333844980091065)\n",
      "Elminate models -- ensemble and score: ({'GBC_76': 2, 'ETC_323': 1, 'DTC_2': 1, 'GBC_34': 4, 'GBC_79': 5, 'KNN_50': 2, 'DTC_42': 2, 'BAGC_15': 3, 'GBC_105': 1, 'GBC_107': 8, 'GBC_117': 3, 'GBC_114': 17, 'GBC_115': 8, 'GBC_91': 1, 'BAGC_4': 1, 'GBC_19': 6, 'LR_36': 1}, 0.83808088033624162, 0.83333844980091065)\n",
      "Add model - RFC_76 - ensemble and score: ({'GBC_76': 2, 'ETC_323': 1, 'DTC_2': 1, 'GBC_34': 4, 'GBC_79': 5, 'KNN_50': 2, 'DTC_42': 2, 'BAGC_15': 3, 'GBC_105': 1, 'GBC_107': 8, 'GBC_117': 3, 'GBC_114': 17, 'GBC_115': 8, 'GBC_91': 1, 'BAGC_4': 1, 'RFC_76': 1, 'GBC_19': 6, 'LR_36': 1}, 0.83830724123782185, 0.83277756752730692)\n",
      "Elminate models -- ensemble and score: ({'GBC_76': 2, 'ETC_323': 1, 'DTC_2': 1, 'GBC_34': 4, 'GBC_79': 5, 'KNN_50': 2, 'DTC_42': 2, 'BAGC_15': 3, 'GBC_105': 1, 'GBC_107': 8, 'GBC_117': 3, 'GBC_114': 17, 'GBC_115': 8, 'GBC_91': 1, 'BAGC_4': 1, 'RFC_76': 1, 'GBC_19': 6, 'LR_36': 1}, 0.83830724123782185, 0.83277756752730692)\n",
      "Add model - LR_64 - ensemble and score: ({'GBC_76': 2, 'ETC_323': 1, 'DTC_2': 1, 'GBC_34': 4, 'GBC_79': 5, 'KNN_50': 2, 'BAGC_4': 1, 'DTC_42': 2, 'BAGC_15': 3, 'GBC_105': 1, 'GBC_107': 8, 'GBC_117': 3, 'GBC_114': 17, 'GBC_115': 8, 'GBC_91': 1, 'LR_64': 1, 'RFC_76': 1, 'GBC_19': 6, 'LR_36': 1}, 0.83832855284690377, 0.83288098727358373)\n",
      "Elminate models -- ensemble and score: ({'GBC_76': 2, 'ETC_323': 1, 'DTC_2': 1, 'GBC_34': 4, 'GBC_79': 5, 'KNN_50': 2, 'BAGC_4': 1, 'DTC_42': 2, 'BAGC_15': 3, 'GBC_105': 1, 'GBC_107': 8, 'GBC_117': 3, 'GBC_114': 17, 'GBC_115': 8, 'GBC_91': 1, 'LR_64': 1, 'RFC_76': 1, 'GBC_19': 6, 'LR_36': 1}, 0.83832855284690377, 0.83288098727358373)\n",
      "Add model - GBC_113 - ensemble and score: ({'GBC_76': 2, 'LR_64': 1, 'ETC_323': 1, 'DTC_2': 1, 'GBC_34': 4, 'GBC_79': 5, 'KNN_50': 2, 'DTC_42': 2, 'BAGC_15': 3, 'GBC_105': 1, 'GBC_107': 8, 'GBC_117': 3, 'GBC_114': 17, 'GBC_115': 8, 'GBC_113': 1, 'BAGC_4': 1, 'RFC_76': 1, 'GBC_19': 6, 'GBC_91': 1, 'LR_36': 1}, 0.83833160514897198, 0.83306719314279265)\n",
      "Elminate models -- ensemble and score: ({'GBC_76': 2, 'LR_64': 1, 'ETC_323': 1, 'DTC_2': 1, 'GBC_34': 4, 'GBC_79': 5, 'KNN_50': 2, 'DTC_42': 2, 'BAGC_15': 3, 'GBC_105': 1, 'GBC_107': 8, 'GBC_117': 3, 'GBC_114': 17, 'GBC_115': 8, 'GBC_113': 1, 'BAGC_4': 1, 'RFC_76': 1, 'GBC_19': 6, 'GBC_91': 1, 'LR_36': 1}, 0.83833160514897198, 0.83306719314279265)\n",
      "Add model - GBC_1 - ensemble and score: ({'GBC_76': 2, 'ETC_323': 1, 'DTC_2': 1, 'GBC_34': 4, 'GBC_79': 5, 'GBC_1': 1, 'BAGC_4': 1, 'DTC_42': 2, 'BAGC_15': 3, 'GBC_105': 1, 'GBC_107': 8, 'GBC_117': 3, 'GBC_114': 17, 'GBC_115': 8, 'GBC_113': 1, 'LR_64': 1, 'KNN_50': 2, 'RFC_76': 1, 'GBC_19': 6, 'GBC_91': 1, 'LR_36': 1}, 0.83835967542691903, 0.83314394015645321)\n",
      "Elminate models -- ensemble and score: ({'GBC_76': 2, 'ETC_323': 1, 'DTC_2': 1, 'GBC_34': 4, 'GBC_79': 5, 'GBC_1': 1, 'BAGC_4': 1, 'DTC_42': 2, 'BAGC_15': 3, 'GBC_105': 1, 'GBC_107': 8, 'GBC_117': 3, 'GBC_114': 17, 'GBC_115': 8, 'GBC_113': 1, 'LR_64': 1, 'KNN_50': 2, 'RFC_76': 1, 'GBC_19': 6, 'GBC_91': 1, 'LR_36': 1}, 0.83835967542691903, 0.83314394015645321)\n",
      "Add model - GBC_115 - ensemble and score: ({'GBC_76': 2, 'LR_64': 1, 'ETC_323': 1, 'DTC_2': 1, 'GBC_34': 4, 'GBC_79': 5, 'GBC_1': 1, 'DTC_42': 2, 'BAGC_15': 3, 'GBC_105': 1, 'GBC_107': 8, 'GBC_117': 3, 'GBC_114': 17, 'GBC_115': 9, 'GBC_113': 1, 'BAGC_4': 1, 'KNN_50': 2, 'RFC_76': 1, 'GBC_19': 6, 'GBC_91': 1, 'LR_36': 1}, 0.83837460990489465, 0.83319829213989804)\n",
      "Elminate models -- ensemble and score: ({'GBC_76': 2, 'LR_64': 1, 'ETC_323': 1, 'DTC_2': 1, 'GBC_34': 4, 'GBC_79': 5, 'GBC_1': 1, 'DTC_42': 2, 'BAGC_15': 3, 'GBC_105': 1, 'GBC_107': 8, 'GBC_117': 3, 'GBC_114': 17, 'GBC_115': 9, 'GBC_113': 1, 'BAGC_4': 1, 'KNN_50': 2, 'RFC_76': 1, 'GBC_19': 6, 'GBC_91': 1, 'LR_36': 1}, 0.83837460990489465, 0.83319829213989804)\n",
      "Add model - RFC_44 - ensemble and score: ({'GBC_76': 2, 'ETC_323': 1, 'DTC_2': 1, 'GBC_34': 4, 'GBC_79': 5, 'GBC_1': 1, 'BAGC_4': 1, 'DTC_42': 2, 'RFC_44': 1, 'BAGC_15': 3, 'GBC_105': 1, 'GBC_107': 8, 'GBC_117': 3, 'GBC_114': 17, 'GBC_115': 9, 'GBC_113': 1, 'LR_64': 1, 'KNN_50': 2, 'RFC_76': 1, 'GBC_19': 6, 'GBC_91': 1, 'LR_36': 1}, 0.83842502739441105, 0.83320911221067628)\n",
      "Elminate models -- ensemble and score: ({'GBC_76': 2, 'ETC_323': 1, 'DTC_2': 1, 'GBC_34': 4, 'GBC_79': 5, 'GBC_1': 1, 'BAGC_4': 1, 'DTC_42': 2, 'RFC_44': 1, 'BAGC_15': 3, 'GBC_105': 1, 'GBC_107': 8, 'GBC_117': 3, 'GBC_114': 17, 'GBC_115': 9, 'GBC_113': 1, 'LR_64': 1, 'KNN_50': 2, 'RFC_76': 1, 'GBC_19': 6, 'GBC_91': 1, 'LR_36': 1}, 0.83842502739441105, 0.83320911221067628)\n",
      "Add model - GBC_113 - ensemble and score: ({'GBC_76': 2, 'LR_64': 1, 'ETC_323': 1, 'DTC_2': 1, 'GBC_34': 4, 'GBC_79': 5, 'GBC_1': 1, 'DTC_42': 2, 'RFC_44': 1, 'BAGC_15': 3, 'GBC_105': 1, 'GBC_107': 8, 'GBC_117': 3, 'GBC_114': 17, 'GBC_115': 9, 'GBC_113': 2, 'BAGC_4': 1, 'KNN_50': 2, 'RFC_76': 1, 'GBC_19': 6, 'GBC_91': 1, 'LR_36': 1}, 0.8384466115304634, 0.83327730381953535)\n",
      "Elminate models -- ensemble and score: ({'GBC_76': 2, 'ETC_323': 1, 'DTC_2': 1, 'GBC_34': 4, 'GBC_79': 5, 'GBC_1': 1, 'DTC_42': 2, 'RFC_44': 1, 'BAGC_15': 3, 'GBC_105': 1, 'GBC_107': 8, 'GBC_117': 3, 'GBC_114': 17, 'GBC_115': 9, 'GBC_113': 2, 'LR_64': 1, 'KNN_50': 2, 'RFC_76': 1, 'GBC_19': 6, 'GBC_91': 1, 'LR_36': 1}, 0.83845898425491772, 0.83391317169992873)\n",
      "Add model - GBC_114 - ensemble and score: ({'GBC_76': 2, 'ETC_323': 1, 'DTC_2': 1, 'GBC_34': 4, 'GBC_79': 5, 'GBC_1': 1, 'DTC_42': 2, 'RFC_44': 1, 'BAGC_15': 3, 'GBC_105': 1, 'GBC_107': 8, 'GBC_117': 3, 'GBC_114': 18, 'GBC_115': 9, 'GBC_113': 2, 'LR_64': 1, 'KNN_50': 2, 'RFC_76': 1, 'GBC_19': 6, 'GBC_91': 1, 'LR_36': 1}, 0.83847282862501205, 0.83398765404761221)\n",
      "Elminate models -- ensemble and score: ({'GBC_76': 2, 'ETC_323': 1, 'DTC_2': 1, 'GBC_34': 4, 'GBC_79': 5, 'GBC_1': 1, 'DTC_42': 2, 'RFC_44': 1, 'BAGC_15': 3, 'GBC_105': 1, 'GBC_107': 8, 'GBC_117': 3, 'GBC_114': 18, 'GBC_115': 9, 'GBC_113': 2, 'LR_64': 1, 'KNN_50': 2, 'RFC_76': 1, 'GBC_19': 6, 'GBC_91': 1, 'LR_36': 1}, 0.83847282862501205, 0.83398765404761221)\n",
      "Add model - GBC_113 - ensemble and score: ({'GBC_76': 2, 'ETC_323': 1, 'DTC_2': 1, 'GBC_34': 4, 'GBC_79': 5, 'GBC_1': 1, 'DTC_42': 2, 'RFC_44': 1, 'BAGC_15': 3, 'GBC_105': 1, 'GBC_107': 8, 'GBC_117': 3, 'GBC_114': 18, 'GBC_115': 9, 'GBC_113': 3, 'LR_64': 1, 'KNN_50': 2, 'RFC_76': 1, 'GBC_19': 6, 'GBC_91': 1, 'LR_36': 1}, 0.83847473631380465, 0.83399847411839068)\n",
      "Elminate models -- ensemble and score: ({'GBC_76': 2, 'ETC_323': 1, 'DTC_2': 1, 'GBC_34': 4, 'GBC_79': 5, 'GBC_1': 1, 'DTC_42': 2, 'RFC_44': 1, 'BAGC_15': 3, 'GBC_105': 1, 'GBC_107': 8, 'GBC_117': 3, 'GBC_114': 18, 'GBC_115': 9, 'GBC_113': 3, 'LR_64': 1, 'KNN_50': 2, 'RFC_76': 1, 'GBC_19': 6, 'GBC_91': 1, 'LR_36': 1}, 0.83847473631380465, 0.83399847411839068)\n",
      "Add model - GBC_107 - ensemble and score: ({'GBC_76': 2, 'ETC_323': 1, 'DTC_2': 1, 'GBC_34': 4, 'GBC_79': 5, 'GBC_1': 1, 'DTC_42': 2, 'RFC_44': 1, 'BAGC_15': 3, 'GBC_105': 1, 'GBC_107': 9, 'GBC_117': 3, 'GBC_114': 18, 'GBC_115': 9, 'GBC_113': 3, 'LR_64': 1, 'KNN_50': 2, 'RFC_76': 1, 'GBC_19': 6, 'GBC_91': 1, 'LR_36': 1}, 0.83848503783328421, 0.83398815730671827)\n",
      "Elminate models -- ensemble and score: ({'GBC_76': 2, 'ETC_323': 1, 'DTC_2': 1, 'GBC_34': 4, 'GBC_79': 5, 'GBC_1': 1, 'DTC_42': 2, 'RFC_44': 1, 'BAGC_15': 3, 'GBC_105': 1, 'GBC_107': 9, 'GBC_117': 3, 'GBC_114': 18, 'GBC_115': 9, 'GBC_113': 3, 'LR_64': 1, 'KNN_50': 2, 'RFC_76': 1, 'GBC_19': 6, 'GBC_91': 1, 'LR_36': 1}, 0.83848503783328421, 0.83398815730671827)\n",
      "Add model - GBC_109 - ensemble and score: ({'GBC_76': 2, 'ETC_323': 1, 'DTC_2': 1, 'GBC_34': 4, 'GBC_79': 5, 'GBC_1': 1, 'DTC_42': 2, 'RFC_44': 1, 'BAGC_15': 3, 'GBC_105': 1, 'GBC_107': 9, 'GBC_109': 1, 'GBC_117': 3, 'GBC_114': 18, 'GBC_115': 9, 'GBC_113': 3, 'LR_64': 1, 'KNN_50': 2, 'RFC_76': 1, 'GBC_19': 6, 'GBC_91': 1, 'LR_36': 1}, 0.8384873270598352, 0.83409535149628999)\n",
      "Elminate models -- ensemble and score: ({'GBC_76': 2, 'ETC_323': 1, 'DTC_2': 1, 'GBC_34': 4, 'GBC_79': 5, 'GBC_1': 1, 'DTC_42': 2, 'RFC_44': 1, 'BAGC_15': 3, 'GBC_105': 1, 'GBC_107': 9, 'GBC_109': 1, 'GBC_117': 3, 'GBC_114': 18, 'GBC_115': 9, 'GBC_113': 3, 'LR_64': 1, 'KNN_50': 2, 'RFC_76': 1, 'GBC_19': 6, 'GBC_91': 1, 'LR_36': 1}, 0.8384873270598352, 0.83409535149628999)\n",
      "Add model - GBC_79 - ensemble and score: ({'GBC_76': 2, 'ETC_323': 1, 'DTC_2': 1, 'GBC_34': 4, 'GBC_79': 6, 'GBC_1': 1, 'DTC_42': 2, 'RFC_44': 1, 'BAGC_15': 3, 'GBC_105': 1, 'GBC_107': 9, 'GBC_109': 1, 'GBC_117': 3, 'GBC_114': 18, 'GBC_115': 9, 'GBC_113': 3, 'LR_64': 1, 'KNN_50': 2, 'RFC_76': 1, 'GBC_19': 6, 'GBC_91': 1, 'LR_36': 1}, 0.83849152397517868, 0.8341376252611914)\n",
      "Elminate models -- ensemble and score: ({'GBC_76': 2, 'ETC_323': 1, 'DTC_2': 1, 'GBC_34': 4, 'GBC_79': 6, 'GBC_1': 1, 'DTC_42': 2, 'RFC_44': 1, 'BAGC_15': 3, 'GBC_105': 1, 'GBC_107': 9, 'GBC_109': 1, 'GBC_117': 3, 'GBC_114': 18, 'GBC_115': 9, 'GBC_91': 1, 'LR_64': 1, 'KNN_50': 2, 'RFC_76': 1, 'GBC_19': 6, 'LR_36': 1}, 0.83851027383073951, 0.8340369734399975)\n",
      "Add model - GBC_113 - ensemble and score: ({'GBC_76': 2, 'ETC_323': 1, 'DTC_2': 1, 'GBC_34': 4, 'GBC_79': 6, 'GBC_1': 1, 'DTC_42': 2, 'RFC_44': 1, 'BAGC_15': 3, 'GBC_105': 1, 'GBC_107': 9, 'GBC_109': 1, 'GBC_117': 3, 'GBC_114': 18, 'GBC_115': 9, 'GBC_113': 1, 'LR_64': 1, 'KNN_50': 2, 'RFC_76': 1, 'GBC_19': 6, 'GBC_91': 1, 'LR_36': 1}, 0.83853136741824519, 0.83411774652650561)\n",
      "Elminate models -- ensemble and score: ({'GBC_76': 2, 'ETC_323': 1, 'DTC_2': 1, 'GBC_34': 4, 'GBC_79': 6, 'GBC_1': 1, 'DTC_42': 2, 'RFC_44': 1, 'BAGC_15': 3, 'GBC_105': 1, 'GBC_107': 9, 'GBC_109': 1, 'GBC_117': 3, 'GBC_114': 18, 'GBC_115': 9, 'GBC_113': 1, 'LR_64': 1, 'KNN_50': 2, 'RFC_76': 1, 'GBC_19': 6, 'GBC_91': 1, 'LR_36': 1}, 0.83853136741824519, 0.83411774652650561)\n",
      "Add model - GBC_113 - ensemble and score: ({'GBC_76': 2, 'ETC_323': 1, 'DTC_2': 1, 'GBC_34': 4, 'GBC_79': 6, 'GBC_1': 1, 'DTC_42': 2, 'RFC_44': 1, 'BAGC_15': 3, 'GBC_105': 1, 'GBC_107': 9, 'GBC_109': 1, 'GBC_117': 3, 'GBC_114': 18, 'GBC_115': 9, 'GBC_113': 2, 'LR_64': 1, 'KNN_50': 2, 'RFC_76': 1, 'GBC_19': 6, 'GBC_91': 1, 'LR_36': 1}, 0.83853725400080492, 0.83415272303437049)\n",
      "Elminate models -- ensemble and score: ({'GBC_76': 2, 'ETC_323': 1, 'DTC_2': 1, 'GBC_34': 4, 'GBC_79': 6, 'GBC_1': 1, 'DTC_42': 2, 'RFC_44': 1, 'BAGC_15': 3, 'GBC_105': 1, 'GBC_107': 9, 'GBC_109': 1, 'GBC_117': 3, 'GBC_114': 18, 'GBC_115': 9, 'GBC_113': 2, 'LR_64': 1, 'KNN_50': 2, 'RFC_76': 1, 'GBC_19': 6, 'GBC_91': 1, 'LR_36': 1}, 0.83853725400080492, 0.83415272303437049)\n",
      "Add model - BAGC_4 - ensemble and score: ({'GBC_76': 2, 'LR_64': 1, 'ETC_323': 1, 'DTC_2': 1, 'GBC_34': 4, 'GBC_79': 6, 'GBC_1': 1, 'DTC_42': 2, 'RFC_44': 1, 'BAGC_15': 3, 'GBC_105': 1, 'GBC_107': 9, 'GBC_109': 1, 'GBC_117': 3, 'GBC_114': 18, 'GBC_115': 9, 'GBC_113': 2, 'BAGC_4': 1, 'KNN_50': 2, 'RFC_76': 1, 'GBC_19': 6, 'GBC_91': 1, 'LR_36': 1}, 0.83853965223814408, 0.83353472085223912)\n",
      "Elminate models -- ensemble and score: ({'GBC_76': 2, 'LR_64': 1, 'ETC_323': 1, 'DTC_2': 1, 'GBC_34': 4, 'GBC_79': 6, 'GBC_1': 1, 'DTC_42': 2, 'RFC_44': 1, 'BAGC_15': 3, 'GBC_105': 1, 'GBC_107': 9, 'GBC_109': 1, 'GBC_117': 3, 'GBC_114': 18, 'GBC_115': 9, 'GBC_113': 2, 'BAGC_4': 1, 'KNN_50': 2, 'RFC_76': 1, 'GBC_19': 6, 'GBC_91': 1, 'LR_36': 1}, 0.83853965223814408, 0.83353472085223912)\n",
      "Add model - None - ensemble and score: ({'GBC_76': 2, 'LR_64': 1, 'ETC_323': 1, 'DTC_2': 1, 'GBC_34': 4, 'GBC_79': 6, 'GBC_1': 1, 'DTC_42': 2, 'RFC_44': 1, 'BAGC_15': 3, 'GBC_105': 1, 'GBC_107': 9, 'GBC_109': 1, 'GBC_117': 3, 'GBC_114': 18, 'GBC_115': 9, 'GBC_113': 2, 'BAGC_4': 1, 'KNN_50': 2, 'RFC_76': 1, 'GBC_19': 6, 'GBC_91': 1, 'LR_36': 1}, 0.83853965223814408, 0.83353472085223912)\n",
      "Stop no model can increase score --------------\n"
     ]
    }
   ],
   "source": [
    "myStep4=StepWiseAMH(k_best=25,max_models=200,epslon=0.00,random=False)\n",
    "myStep4.run()"
   ]
  },
  {
   "cell_type": "code",
   "execution_count": 6,
   "metadata": {
    "collapsed": false
   },
   "outputs": [],
   "source": [
    "with open(\"resultStepwise4.amh\",\"w\") as fo:\n",
    "    json.dump(obj=myStep4.scores_ensemble,fp=fo,indent=5)\n",
    "    fo.flush()"
   ]
  },
  {
   "cell_type": "code",
   "execution_count": 43,
   "metadata": {
    "collapsed": false,
    "scrolled": true
   },
   "outputs": [
    {
     "name": "stdout",
     "output_type": "stream",
     "text": [
      "Add model - GBC_113 - ensemble and score: ({'GBC_50': 1, 'GBC_74': 1, 'GBC_75': 1, 'GBC_73': 1, 'GBC_43': 1, 'GBC_57': 1, 'GBC_58': 1, 'GBC_37': 1, 'GBC_79': 1, 'GBC_1': 1, 'GBC_7': 1, 'BAGC_57': 1, 'GBC_55': 1, 'BAGC_15': 1, 'BAGC_17': 1, 'BAGC_13': 1, 'GBC_116': 1, 'GBC_117': 1, 'GBC_114': 1, 'GBC_115': 1, 'BAGC_54': 1, 'BAGC_19': 1, 'GBC_111': 1, 'GBC_39': 1, 'BAGC_23': 1, 'GBC_19': 1, 'GBC_67': 1, 'GBC_61': 1, 'GBC_21': 1, 'GBC_113': 2, 'GBC_22': 1, 'GBC_25': 1, 'GBC_68': 1, 'GBC_26': 1, 'GBC_40': 1, 'BAGC_20': 1, 'BAGC_49': 1, 'GBC_98': 1, 'GBC_99': 1, 'GBC_107': 1, 'GBC_109': 1, 'GBC_95': 1, 'GBC_97': 1, 'BAGC_47': 1, 'GBC_91': 1, 'GBC_92': 1, 'GBC_93': 1, 'GBC_94': 1, 'BAGC_51': 1, 'BAGC_53': 1}, 0.82994753092745066, 0.83313286845612178)\n",
      "Elminate models -- ensemble and score: ({'BAGC_15': 1, 'GBC_74': 1, 'GBC_75': 1, 'GBC_114': 1, 'GBC_22': 1, 'GBC_115': 1, 'GBC_79': 1, 'GBC_19': 1}, 0.83366403572763192, 0.83474455574299167)\n",
      "Add model - GBC_114 - ensemble and score: ({'BAGC_15': 1, 'GBC_74': 1, 'GBC_75': 1, 'GBC_114': 2, 'GBC_22': 1, 'GBC_115': 1, 'GBC_79': 1, 'GBC_19': 1}, 0.83370186247111777, 0.83494258820119105)\n",
      "Elminate models -- ensemble and score: ({'BAGC_15': 1, 'GBC_74': 1, 'GBC_115': 1, 'GBC_114': 2, 'GBC_22': 1, 'GBC_19': 1, 'GBC_79': 1}, 0.83390157023499689, 0.83381226824918175)\n",
      "Add model - GBC_112 - ensemble and score: ({'BAGC_15': 1, 'GBC_74': 1, 'GBC_115': 1, 'GBC_114': 2, 'GBC_22': 1, 'GBC_112': 1, 'GBC_79': 1, 'GBC_19': 1}, 0.83394402993697858, 0.83498687500251623)\n",
      "Elminate models -- ensemble and score: ({'BAGC_15': 1, 'GBC_74': 1, 'GBC_115': 1, 'GBC_114': 2, 'GBC_22': 1, 'GBC_112': 1, 'GBC_79': 1, 'GBC_19': 1}, 0.83394402993697858, 0.83498687500251623)\n",
      "Add model - GBC_34 - ensemble and score: ({'BAGC_15': 1, 'GBC_74': 1, 'GBC_115': 1, 'GBC_114': 2, 'GBC_22': 1, 'GBC_112': 1, 'GBC_34': 1, 'GBC_79': 1, 'GBC_19': 1}, 0.83419916968662888, 0.83462276703934679)\n",
      "Elminate models -- ensemble and score: ({'BAGC_15': 1, 'GBC_74': 1, 'GBC_115': 1, 'GBC_114': 2, 'GBC_22': 1, 'GBC_34': 1, 'GBC_79': 1, 'GBC_19': 1}, 0.83443893891515064, 0.83324056590479956)\n",
      "Add model - GBC_113 - ensemble and score: ({'BAGC_15': 1, 'GBC_74': 1, 'GBC_115': 1, 'GBC_114': 2, 'GBC_22': 1, 'GBC_113': 1, 'GBC_34': 1, 'GBC_79': 1, 'GBC_19': 1}, 0.83444008352842636, 0.83363260474835021)\n",
      "Elminate models -- ensemble and score: ({'BAGC_15': 1, 'GBC_74': 1, 'GBC_115': 1, 'GBC_114': 2, 'GBC_22': 1, 'GBC_113': 1, 'GBC_34': 1, 'GBC_79': 1, 'GBC_19': 1}, 0.83444008352842636, 0.83363260474835021)\n",
      "Add model - LR_36 - ensemble and score: ({'BAGC_15': 1, 'GBC_74': 1, 'GBC_115': 1, 'GBC_114': 2, 'GBC_22': 1, 'GBC_113': 1, 'GBC_34': 1, 'GBC_79': 1, 'GBC_19': 1, 'LR_36': 1}, 0.83463913722757654, 0.83439831347808413)\n",
      "Elminate models -- ensemble and score: ({'BAGC_15': 1, 'GBC_74': 1, 'GBC_115': 1, 'GBC_114': 2, 'GBC_22': 1, 'GBC_34': 1, 'GBC_79': 1, 'GBC_19': 1, 'LR_36': 1}, 0.83488484754405223, 0.83403722506955036)\n",
      "Add model - GBC_115 - ensemble and score: ({'BAGC_15': 1, 'GBC_74': 1, 'GBC_115': 2, 'GBC_114': 2, 'GBC_22': 1, 'GBC_34': 1, 'GBC_79': 1, 'GBC_19': 1, 'LR_36': 1}, 0.83494818281196381, 0.83430823009811539)\n",
      "Elminate models -- ensemble and score: ({'BAGC_15': 1, 'GBC_74': 1, 'GBC_115': 2, 'GBC_114': 2, 'GBC_22': 1, 'GBC_34': 1, 'GBC_79': 1, 'GBC_19': 1, 'LR_36': 1}, 0.83494818281196381, 0.83430823009811539)\n",
      "Add model - None - ensemble and score: ({'BAGC_15': 1, 'GBC_74': 1, 'GBC_115': 2, 'GBC_114': 2, 'GBC_22': 1, 'GBC_34': 1, 'GBC_79': 1, 'GBC_19': 1, 'LR_36': 1}, 0.83494818281196381, 0.83430823009811539)\n",
      "Stop no model can increase score --------------\n"
     ]
    }
   ],
   "source": [
    "myStep50Best=StepWiseAMH(k_best=50,max_models=200,epslon=0.00,random=False)\n",
    "myStep50Best.run()"
   ]
  },
  {
   "cell_type": "code",
   "execution_count": 45,
   "metadata": {
    "collapsed": true
   },
   "outputs": [],
   "source": [
    "with open(\"resultStepwise50Best.amh\",\"w\") as fo:\n",
    "    json.dump(obj=myStep50Best.scores_ensemble,fp=fo,indent=5)\n",
    "    fo.flush()"
   ]
  },
  {
   "cell_type": "markdown",
   "metadata": {},
   "source": [
    "<font style=\"color:blue;font-size:1.2em;\">Stepwise Results</font>"
   ]
  },
  {
   "cell_type": "code",
   "execution_count": 50,
   "metadata": {
    "collapsed": true
   },
   "outputs": [],
   "source": [
    "setepwise_paths=[\"results/resultsStepWise/resultStepwise.amh\",\n",
    "                 \"results/resultsStepWise/resultStepwiseRandom.amh\",\n",
    "                 \"results/resultsStepWise/resultStepwiseRandom2.amh\",\n",
    "                 \"results/resultsStepWise/resultStepwise4.amh\",\n",
    "                 \"results/resultsStepWise/resultStepwise50Best.amh\",]"
   ]
  },
  {
   "cell_type": "code",
   "execution_count": 53,
   "metadata": {
    "collapsed": false
   },
   "outputs": [],
   "source": [
    "best_ensmble={}\n",
    "def draw_curve(path,name):\n",
    "    global best_ensmble\n",
    "    result=load_json_objcet(path)[1:]\n",
    "    valid_scores,hold_scores,ens_models=[],[],[]\n",
    "    for ens in result:\n",
    "        ens_models.append(ens[0])\n",
    "        valid_scores.append(ens[1])\n",
    "        hold_scores.append(ens[2])\n",
    "    seqs=[i for i in range(len(ens_models))]\n",
    "    plt.plot(seqs, valid_scores, c=\"blue\", label=\"Validation\")\n",
    "    plt.plot(seqs, hold_scores , c=\"red\", label=\"Holding\")\n",
    "    plt.legend()\n",
    "    plt.xlim([1, len(seqs)])\n",
    "    plt.ylim([0.83, 0.84])\n",
    "    plt.title('Validation and holding score --'+str(name))\n",
    "    plt.xlabel('Ensemble index')\n",
    "    plt.ylabel('Score ensemble')\n",
    "    plt.grid(True)\n",
    "    ind=145 #the best ensemble existe between 145 and 155\n",
    "    for i in range(145,155):\n",
    "        if hold_scores[i]<hold_scores[ind]:\n",
    "            best_ensmble=ens_models[ind]\n",
    "            print ens_models[ind],\"::\",valid_scores[ind],\"::\",hold_scores[ind]\n",
    "            break\n",
    "        ind=i"
   ]
  },
  {
   "cell_type": "code",
   "execution_count": 51,
   "metadata": {
    "collapsed": false
   },
   "outputs": [
    {
     "name": "stdout",
     "output_type": "stream",
     "text": [
      "{u'GBC_76': 2, u'GBC_74': 6, u'GBC_105': 1, u'GBC_107': 4, u'GBC_117': 2, u'GBC_114': 17, u'GBC_115': 8, u'BAGC_19': 1, u'GBC_34': 3, u'GBC_79': 5, u'KNN_6': 1, u'BAGC_4': 1, u'GBC_1': 2, u'GBC_91': 1, u'GBC_113': 2, u'KNN_50': 3, u'LR_36': 1, u'DTC_42': 1, u'ETC_209': 1} :: 0.83728063214 :: 0.834468769753\n"
     ]
    },
    {
     "data": {
      "image/png": "[encoded data removed]",
      "text/plain": [
       "<matplotlib.figure.Figure at 0xa4b8b90>"
      ]
     },
     "metadata": {},
     "output_type": "display_data"
    }
   ],
   "source": [
    "draw_curve(path=setepwise_paths[0],name=\"5-Best\")\n",
    "#print best_ensmble"
   ]
  },
  {
   "cell_type": "code",
   "execution_count": 52,
   "metadata": {
    "collapsed": false
   },
   "outputs": [
    {
     "name": "stdout",
     "output_type": "stream",
     "text": [
      "{u'GBC_76': 2, u'GBC_74': 6, u'GBC_105': 1, u'GBC_107': 4, u'GBC_117': 2, u'GBC_114': 17, u'GBC_115': 8, u'BAGC_19': 1, u'GBC_34': 3, u'GBC_79': 5, u'KNN_6': 1, u'BAGC_4': 1, u'GBC_1': 2, u'GBC_91': 1, u'GBC_113': 2, u'KNN_50': 3, u'LR_36': 1, u'DTC_42': 1, u'ETC_209': 1} :: 0.83728063214 :: 0.834468769753\n"
     ]
    },
    {
     "data": {
      "image/png": "[encoded data removed]",
      "text/plain": [
       "<matplotlib.figure.Figure at 0xb2af5b0>"
      ]
     },
     "metadata": {},
     "output_type": "display_data"
    }
   ],
   "source": [
    "draw_curve(path=setepwise_paths[1],name=\"Random 1\")\n",
    "#print best_ensmble"
   ]
  },
  {
   "cell_type": "code",
   "execution_count": 54,
   "metadata": {
    "collapsed": false
   },
   "outputs": [
    {
     "name": "stdout",
     "output_type": "stream",
     "text": [
      "{u'GBC_76': 2, u'GBC_74': 6, u'GBC_105': 1, u'GBC_107': 4, u'GBC_117': 2, u'GBC_114': 17, u'GBC_115': 8, u'BAGC_19': 1, u'GBC_34': 3, u'GBC_79': 5, u'KNN_6': 1, u'BAGC_4': 1, u'GBC_1': 2, u'GBC_91': 1, u'GBC_113': 2, u'KNN_50': 3, u'LR_36': 1, u'DTC_42': 1, u'ETC_209': 1} :: 0.83728063214 :: 0.834468769753\n"
     ]
    },
    {
     "data": {
      "image/png": "[encoded data removed]",
      "text/plain": [
       "<matplotlib.figure.Figure at 0xa2bd3b0>"
      ]
     },
     "metadata": {},
     "output_type": "display_data"
    }
   ],
   "source": [
    "draw_curve(path=setepwise_paths[2],name=\"Random 1\")"
   ]
  },
  {
   "cell_type": "code",
   "execution_count": 48,
   "metadata": {
    "collapsed": false
   },
   "outputs": [
    {
     "name": "stdout",
     "output_type": "stream",
     "text": [
      "{u'GBC_76': 2, u'BAGC_15': 3, u'GBC_74': 6, u'GBC_19': 2, u'GBC_105': 1, u'GBC_107': 8, u'GBC_117': 2, u'ETC_323': 1, u'GBC_115': 8, u'GBC_113': 1, u'GBC_34': 3, u'GBC_79': 5, u'BAGC_4': 1, u'KNN_50': 2, u'GBC_114': 13, u'DTC_42': 1, u'LR_36': 1} :: 0.837615785809 :: 0.834589300309\n"
     ]
    },
    {
     "data": {
      "image/png": "[encoded data removed]",
      "text/plain": [
       "<matplotlib.figure.Figure at 0x9d452b0>"
      ]
     },
     "metadata": {},
     "output_type": "display_data"
    }
   ],
   "source": [
    "draw_curve(path=setepwise_paths[3],name=\"kbest 20\")"
   ]
  },
  {
   "cell_type": "code",
   "execution_count": 54,
   "metadata": {
    "collapsed": false
   },
   "outputs": [
    {
     "data": {
      "image/png": "[encoded data removed]",
      "text/plain": [
       "<matplotlib.figure.Figure at 0x15dff590>"
      ]
     },
     "metadata": {},
     "output_type": "display_data"
    }
   ],
   "source": [
    "draw_curve(path=setepwise_paths[4],name=\"kbest 50\")"
   ]
  },
  {
   "cell_type": "markdown",
   "metadata": {},
   "source": [
    "<font style=\"font-size:1.2em;color:blue;\">The Best ensemble is :</font>"
   ]
  },
  {
   "cell_type": "code",
   "execution_count": 4,
   "metadata": {
    "collapsed": false
   },
   "outputs": [],
   "source": [
    "best_ensemble={u'GBC_76': 2, u'GBC_74': 6, u'GBC_105': 1, u'GBC_107': 4, u'GBC_117': 2, u'GBC_114': 17,\\\n",
    "               u'GBC_115': 8, u'BAGC_19': 1, u'GBC_34': 3, u'GBC_79': 5, u'KNN_6': 1, u'BAGC_4': 1,\\\n",
    "               u'GBC_1': 2, u'GBC_91': 1, u'GBC_113': 2, u'KNN_50': 3, u'LR_36': 1, u'DTC_42': 1, u'ETC_209': 1}\n",
    "best_ensemble_intersect={'BAGC_15': 1, 'GBC_74': 2, 'GBC_1': 2, 'GBC_114': 3, 'GBC_22': 1, 'GBC_115': 2, 'GBC_79': 2}\n",
    "\n",
    "best_ensemble4={u'GBC_76': 2, u'BAGC_15': 3, u'GBC_74': 6, u'GBC_19': 2, u'GBC_105': 1, u'GBC_107': 8, u'GBC_117': 2,\\\n",
    " u'ETC_323': 1, u'GBC_115': 8, u'GBC_113': 1, u'GBC_34': 3, u'GBC_79': 5, u'BAGC_4': 1, u'KNN_50': 2,\\\n",
    " u'GBC_114': 13, u'DTC_42': 1, u'LR_36': 1}\n",
    "\n",
    "best_ensemble4_intersect={'BAGC_15': 1, 'GBC_74': 2, 'GBC_115': 2, 'GBC_114': 3, 'GBC_22': 1, 'GBC_79': 2, 'GBC_26': 1, 'GBC_19': 1}\n",
    "best_test={'BAGC_15': 1, 'GBC_74': 2, 'GBC_115': 2, 'GBC_114': 3, 'GBC_22': 1, 'GBC_79': 2, 'GBC_1': 2, 'GBC_19': 1}\n",
    "best_50_best={'BAGC_15': 1, 'GBC_74': 1, 'GBC_115': 1, 'GBC_114': 2, 'GBC_22': 1, 'GBC_112': 1,\\\n",
    "              'GBC_79': 1, 'GBC_19': 1}#0.820488\n",
    "best_f={'BAGC_15': 1, 'GBC_74': 1, 'GBC_115': 2, 'GBC_114': 2, 'GBC_22': 1, 'GBC_34': 1, 'GBC_79': 1, 'GBC_19': 1, 'LR_36': 1}"
   ]
  },
  {
   "cell_type": "markdown",
   "metadata": {},
   "source": [
    "Construction the test ensmble"
   ]
  },
  {
   "cell_type": "code",
   "execution_count": 5,
   "metadata": {
    "collapsed": true
   },
   "outputs": [],
   "source": [
    "test1=pd.read_csv(\"results/result_proba_test1.csv\")\n",
    "test2=pd.read_csv(\"results/result_proba_test2.csv\")\n",
    "test3=pd.read_csv(\"results/result_proba_test3.csv\")\n",
    "\n",
    "coresp_data={'ETC':'test1','RFC':'test2','BAGC':'test2','DTC':'test2','LR':'test3', 'KNN':'test3', 'GBC':'test3'}"
   ]
  },
  {
   "cell_type": "code",
   "execution_count": 83,
   "metadata": {
    "collapsed": false
   },
   "outputs": [],
   "source": []
  },
  {
   "cell_type": "code",
   "execution_count": 65,
   "metadata": {
    "collapsed": false
   },
   "outputs": [],
   "source": [
    "#pridect_ensemble=None\n",
    "best_ensemble=best_test\n",
    "new_data=pd.DataFrame()\n",
    "for model in best_ensemble.keys():\n",
    "    #print model\n",
    "    data=coresp_data[model.split(\"_\")[0]]\n",
    "    col=None\n",
    "    #print data\n",
    "    if data==\"test1\":\n",
    "        col=test1[model]\n",
    "    if data==\"test2\":\n",
    "        col=test2[model]\n",
    "    if data==\"test3\":\n",
    "        col=test3[model]\n",
    "    new_data[model]=best_ensemble[model]*col # weight* (proba model)\n",
    "    #if pridect_ensemble is None:\n",
    "        #pridect_ensemble=best_ensemble[model]*col # weight* (proba model)\n",
    "    #else:\n",
    "        #pridect_ensemble+=best_ensemble[model]*col # weight* (proba model)\n",
    "    #print pridect_ensemble[1]\n",
    "#predict_ensemble/=float(sum(best_ensemble.values())) # Mean of probas\n",
    "#type(predict_ensemble)\n",
    "\n",
    "sum_proba= new_data.apply(lambda row: sum(row), axis=1)\n",
    "mean_proba= new_data.apply(lambda row: sum(row)/float(sum(best_ensemble.values())), axis=1)\n",
    "target= new_data.apply(lambda row: 1 if (sum(row)/float(sum(best_ensemble.values())))>=0.5 else 0, axis=1)\n",
    "new_data['sum_proba'] =sum_proba\n",
    "new_data['TARGET'] =mean_proba\n",
    "new_data['TARGET_01'] =target"
   ]
  },
  {
   "cell_type": "code",
   "execution_count": 66,
   "metadata": {
    "collapsed": false
   },
   "outputs": [],
   "source": [
    "new_data['ID']=pd.read_csv(\"results/test_id.csv\").ID"
   ]
  },
  {
   "cell_type": "code",
   "execution_count": 67,
   "metadata": {
    "collapsed": false
   },
   "outputs": [
    {
     "data": {
      "text/html": [
       "<div>\n",
       "<table border=\"1\" class=\"dataframe\">\n",
       "  <thead>\n",
       "    <tr style=\"text-align: right;\">\n",
       "      <th></th>\n",
       "      <th>BAGC_15</th>\n",
       "      <th>GBC_74</th>\n",
       "      <th>GBC_22</th>\n",
       "      <th>LR_36</th>\n",
       "      <th>GBC_114</th>\n",
       "      <th>GBC_115</th>\n",
       "      <th>GBC_19</th>\n",
       "      <th>GBC_34</th>\n",
       "      <th>GBC_79</th>\n",
       "      <th>sum_proba</th>\n",
       "      <th>TARGET</th>\n",
       "      <th>TARGET_01</th>\n",
       "      <th>ID</th>\n",
       "    </tr>\n",
       "  </thead>\n",
       "  <tbody>\n",
       "    <tr>\n",
       "      <th>0</th>\n",
       "      <td>0.03</td>\n",
       "      <td>0.03</td>\n",
       "      <td>0.03</td>\n",
       "      <td>0.55</td>\n",
       "      <td>0.06</td>\n",
       "      <td>0.04</td>\n",
       "      <td>0.03</td>\n",
       "      <td>0.02</td>\n",
       "      <td>0.03</td>\n",
       "      <td>0.82</td>\n",
       "      <td>0.074545</td>\n",
       "      <td>0</td>\n",
       "      <td>2</td>\n",
       "    </tr>\n",
       "    <tr>\n",
       "      <th>1</th>\n",
       "      <td>0.04</td>\n",
       "      <td>0.03</td>\n",
       "      <td>0.04</td>\n",
       "      <td>0.56</td>\n",
       "      <td>0.08</td>\n",
       "      <td>0.08</td>\n",
       "      <td>0.04</td>\n",
       "      <td>0.03</td>\n",
       "      <td>0.04</td>\n",
       "      <td>0.94</td>\n",
       "      <td>0.085455</td>\n",
       "      <td>0</td>\n",
       "      <td>5</td>\n",
       "    </tr>\n",
       "    <tr>\n",
       "      <th>2</th>\n",
       "      <td>0.01</td>\n",
       "      <td>0.00</td>\n",
       "      <td>0.00</td>\n",
       "      <td>0.54</td>\n",
       "      <td>0.00</td>\n",
       "      <td>0.00</td>\n",
       "      <td>0.00</td>\n",
       "      <td>0.00</td>\n",
       "      <td>0.00</td>\n",
       "      <td>0.55</td>\n",
       "      <td>0.050000</td>\n",
       "      <td>0</td>\n",
       "      <td>6</td>\n",
       "    </tr>\n",
       "    <tr>\n",
       "      <th>3</th>\n",
       "      <td>0.02</td>\n",
       "      <td>0.01</td>\n",
       "      <td>0.01</td>\n",
       "      <td>0.54</td>\n",
       "      <td>0.02</td>\n",
       "      <td>0.00</td>\n",
       "      <td>0.01</td>\n",
       "      <td>0.02</td>\n",
       "      <td>0.01</td>\n",
       "      <td>0.64</td>\n",
       "      <td>0.058182</td>\n",
       "      <td>0</td>\n",
       "      <td>7</td>\n",
       "    </tr>\n",
       "    <tr>\n",
       "      <th>4</th>\n",
       "      <td>0.01</td>\n",
       "      <td>0.00</td>\n",
       "      <td>0.00</td>\n",
       "      <td>0.54</td>\n",
       "      <td>0.00</td>\n",
       "      <td>0.00</td>\n",
       "      <td>0.00</td>\n",
       "      <td>0.00</td>\n",
       "      <td>0.00</td>\n",
       "      <td>0.55</td>\n",
       "      <td>0.050000</td>\n",
       "      <td>0</td>\n",
       "      <td>9</td>\n",
       "    </tr>\n",
       "  </tbody>\n",
       "</table>\n",
       "</div>"
      ],
      "text/plain": [
       "   BAGC_15  GBC_74  GBC_22  LR_36  GBC_114  GBC_115  GBC_19  GBC_34  GBC_79  \\\n",
       "0     0.03    0.03    0.03   0.55     0.06     0.04    0.03    0.02    0.03   \n",
       "1     0.04    0.03    0.04   0.56     0.08     0.08    0.04    0.03    0.04   \n",
       "2     0.01    0.00    0.00   0.54     0.00     0.00    0.00    0.00    0.00   \n",
       "3     0.02    0.01    0.01   0.54     0.02     0.00    0.01    0.02    0.01   \n",
       "4     0.01    0.00    0.00   0.54     0.00     0.00    0.00    0.00    0.00   \n",
       "\n",
       "   sum_proba    TARGET  TARGET_01  ID  \n",
       "0       0.82  0.074545          0   2  \n",
       "1       0.94  0.085455          0   5  \n",
       "2       0.55  0.050000          0   6  \n",
       "3       0.64  0.058182          0   7  \n",
       "4       0.55  0.050000          0   9  "
      ]
     },
     "execution_count": 67,
     "metadata": {},
     "output_type": "execute_result"
    }
   ],
   "source": [
    "new_data.head()"
   ]
  },
  {
   "cell_type": "code",
   "execution_count": 68,
   "metadata": {
    "collapsed": false
   },
   "outputs": [],
   "source": [
    "new_data.to_csv(\"results/submit0_best_f.csv\",index=False,columns=['ID','TARGET'])\n"
   ]
  },
  {
   "cell_type": "markdown",
   "metadata": {},
   "source": [
    "<font style=\"color:red;font-size:1.2em;\">Test kaggle Score<font>"
   ]
  },
  {
   "cell_type": "markdown",
   "metadata": {},
   "source": [
    "<font style=\"color:green;font-size:1.3em;\">Best ensmble 1</font>"
   ]
  },
  {
   "cell_type": "code",
   "execution_count": 11,
   "metadata": {
    "collapsed": false
   },
   "outputs": [
    {
     "data": {
      "image/jpeg": "[encoded data removed]",
      "text/plain": [
       "<IPython.core.display.Image object>"
      ]
     },
     "execution_count": 11,
     "metadata": {},
     "output_type": "execute_result"
    }
   ],
   "source": [
    "Image(filename=\"submit/1fst.jpg\")"
   ]
  },
  {
   "cell_type": "code",
   "execution_count": 13,
   "metadata": {
    "collapsed": false
   },
   "outputs": [
    {
     "data": {
      "image/jpeg": "[encoded data removed]",
      "text/plain": [
       "<IPython.core.display.Image object>"
      ]
     },
     "execution_count": 13,
     "metadata": {},
     "output_type": "execute_result"
    }
   ],
   "source": [
    "Image(filename=\"submit/frst.jpg\")"
   ]
  },
  {
   "cell_type": "markdown",
   "metadata": {},
   "source": [
    "<font style=\"color:green;font-size:1.3em;\">Best ensmble 1 intersect </font>"
   ]
  },
  {
   "cell_type": "code",
   "execution_count": 36,
   "metadata": {
    "collapsed": false
   },
   "outputs": [
    {
     "data": {
      "image/png": "[encoded data removed]",
      "text/plain": [
       "<IPython.core.display.Image object>"
      ]
     },
     "execution_count": 36,
     "metadata": {},
     "output_type": "execute_result"
    }
   ],
   "source": [
    "Image(filename=\"submit/bestintersect.png\")"
   ]
  },
  {
   "cell_type": "code",
   "execution_count": 37,
   "metadata": {
    "collapsed": false
   },
   "outputs": [
    {
     "data": {
      "image/png": "[encoded data removed]",
      "text/plain": [
       "<IPython.core.display.Image object>"
      ]
     },
     "execution_count": 37,
     "metadata": {},
     "output_type": "execute_result"
    }
   ],
   "source": [
    "Image(filename=\"submit/bestintersectPublic.png\")"
   ]
  },
  {
   "cell_type": "markdown",
   "metadata": {},
   "source": [
    "<font style=\"color:green;font-size:1.3em;\">Best ensemble 2</font>"
   ]
  },
  {
   "cell_type": "code",
   "execution_count": 19,
   "metadata": {
    "collapsed": false
   },
   "outputs": [
    {
     "data": {
      "image/png": "[encoded data removed]",
      "text/plain": [
       "<IPython.core.display.Image object>"
      ]
     },
     "execution_count": 19,
     "metadata": {},
     "output_type": "execute_result"
    }
   ],
   "source": [
    "Image(filename=\"submit/second.png\")"
   ]
  },
  {
   "cell_type": "code",
   "execution_count": 20,
   "metadata": {
    "collapsed": false
   },
   "outputs": [
    {
     "data": {
      "image/png": "[encoded data removed]",
      "text/plain": [
       "<IPython.core.display.Image object>"
      ]
     },
     "execution_count": 20,
     "metadata": {},
     "output_type": "execute_result"
    }
   ],
   "source": [
    "Image(filename=\"submit/secondpublic.png\")"
   ]
  },
  {
   "cell_type": "markdown",
   "metadata": {},
   "source": [
    "<font style=\"color:green;font-size:1.3em;\">Best ensemble4 intersect</font>"
   ]
  },
  {
   "cell_type": "code",
   "execution_count": 26,
   "metadata": {
    "collapsed": false
   },
   "outputs": [
    {
     "data": {
      "image/png": "[encoded data removed]",
      "text/plain": [
       "<IPython.core.display.Image object>"
      ]
     },
     "execution_count": 26,
     "metadata": {},
     "output_type": "execute_result"
    }
   ],
   "source": [
    "Image(filename=\"submit/secondintersect.PNG\")"
   ]
  },
  {
   "cell_type": "code",
   "execution_count": 27,
   "metadata": {
    "collapsed": false
   },
   "outputs": [
    {
     "data": {
      "image/png": "[encoded data removed]",
      "text/plain": [
       "<IPython.core.display.Image object>"
      ]
     },
     "execution_count": 27,
     "metadata": {},
     "output_type": "execute_result"
    }
   ],
   "source": [
    "Image(filename=\"submit/secondintersectPublic.PNG\")"
   ]
  },
  {
   "cell_type": "markdown",
   "metadata": {},
   "source": [
    "<font style=\"color:green;font-size:1.3em;\">Best ensemble4 max holding (best_test)</font>"
   ]
  },
  {
   "cell_type": "code",
   "execution_count": 61,
   "metadata": {
    "collapsed": false
   },
   "outputs": [
    {
     "data": {
      "image/png": "[encoded data removed]",
      "text/plain": [
       "<IPython.core.display.Image object>"
      ]
     },
     "execution_count": 61,
     "metadata": {},
     "output_type": "execute_result"
    }
   ],
   "source": [
    "Image(filename=\"submit/besttest.PNG\")"
   ]
  },
  {
   "cell_type": "code",
   "execution_count": 63,
   "metadata": {
    "collapsed": false
   },
   "outputs": [
    {
     "data": {
      "image/png": "[encoded data removed]",
      "text/plain": [
       "<IPython.core.display.Image object>"
      ]
     },
     "execution_count": 63,
     "metadata": {},
     "output_type": "execute_result"
    }
   ],
   "source": [
    "Image(filename=\"submit/besttestPublic.PNG\")"
   ]
  },
  {
   "cell_type": "markdown",
   "metadata": {
    "collapsed": false
   },
   "source": [
    "<font style=\"font-size:1.3em;color:blue;\">Probability Calibration curves</font>"
   ]
  },
  {
   "cell_type": "code",
   "execution_count": 10,
   "metadata": {
    "collapsed": true
   },
   "outputs": [],
   "source": [
    "#pridect_ensemble=None\n",
    "new_data=pd.DataFrame()\n",
    "for model in best_ensemble.keys():\n",
    "    new_data[model]=best_ensemble[model]*X_validation[model] # weight* (proba model)\n",
    "\n",
    "sum_proba= new_data.apply(lambda row: sum(row), axis=1)\n",
    "mean_proba= new_data.apply(lambda row: sum(row)/float(sum(best_ensemble.values())), axis=1)\n",
    "target= new_data.apply(lambda row: 1 if (sum(row)/float(sum(best_ensemble.values())))>=0.5 else 0, axis=1)\n",
    "new_data['sum_proba'] =sum_proba\n",
    "new_data['TARGET'] =mean_proba\n",
    "new_data['TARGET_01'] =target"
   ]
  },
  {
   "cell_type": "code",
   "execution_count": 12,
   "metadata": {
    "collapsed": false
   },
   "outputs": [],
   "source": [
    "\n",
    "from sklearn.metrics import brier_score_loss, precision_score, recall_score,f1_score\n",
    "from sklearn.calibration import CalibratedClassifierCV, calibration_curve\n",
    "\n",
    "\n",
    "def plot_calibration_curve( name, fig_index):\n",
    "    \"\"\"Plot calibration curve for est w/o and with calibration. \"\"\"\n",
    "    g = plt.figure(fig_index, figsize=(10, 10))\n",
    "    ax1 = plt.subplot2grid((3, 1), (0, 0), rowspan=2)\n",
    "    ax2 = plt.subplot2grid((3, 1), (2, 0))\n",
    "\n",
    "    ax1.plot([0, 1], [0, 1], \"k:\", label=\"Perfectly calibrated\")\n",
    "    \n",
    "    prob_pos = new_data['TARGET']\n",
    "    y_test= Y_validation#Y_holding\n",
    "    y_pred= new_data['TARGET_01']\n",
    "    clf_score = brier_score_loss(y_test, prob_pos, pos_label=1)#pos_label=y.max()\n",
    "    print(\"%s:\" % name)\n",
    "    print(\"\\tBrier: %1.3f\" % (clf_score))\n",
    "    print(\"\\tPrecision: %1.3f\" % precision_score(y_test, y_pred))\n",
    "    print(\"\\tRecall: %1.3f\" % recall_score(y_test, y_pred))\n",
    "    print(\"\\tF1: %1.3f\\n\" % f1_score(y_test, y_pred))\n",
    "\n",
    "    fraction_of_positives, mean_predicted_value = calibration_curve(y_test, prob_pos, n_bins=10)\n",
    "\n",
    "    ax1.plot(mean_predicted_value, fraction_of_positives, \"s-\",label=\"%s (%1.3f)\" % (name, clf_score))\n",
    "\n",
    "    ax2.hist(prob_pos, range=(0, 1), bins=10, label=name, histtype=\"step\", lw=2)\n",
    "\n",
    "    ax1.set_ylabel(\"Fraction of positives\")\n",
    "    ax1.set_ylim([-0.05, 1.05])\n",
    "    ax1.legend(loc=\"lower right\")\n",
    "    ax1.set_title('Calibration plots  (reliability curve)')\n",
    "\n",
    "    ax2.set_xlabel(\"Mean predicted value\")\n",
    "    ax2.set_ylabel(\"Count\")\n",
    "    ax2.legend(loc=\"upper center\", ncol=2)\n",
    "\n",
    "    plt.tight_layout()\n",
    "    plt.show()"
   ]
  },
  {
   "cell_type": "code",
   "execution_count": 25,
   "metadata": {
    "collapsed": false
   },
   "outputs": [
    {
     "data": {
      "image/png": "[encoded data removed]",
      "text/plain": [
       "<matplotlib.figure.Figure at 0x12f46870>"
      ]
     },
     "metadata": {},
     "output_type": "display_data"
    },
    {
     "data": {
      "image/png": "[encoded data removed]",
      "text/plain": [
       "<matplotlib.figure.Figure at 0xe852030>"
      ]
     },
     "metadata": {},
     "output_type": "display_data"
    }
   ],
   "source": [
    "bins=10\n",
    "y_true=Y_validation\n",
    "y_score=new_data['TARGET']\n",
    "def reliability_curve(y_true, y_score, bins=10, normalize=False):\n",
    "    if normalize:  # Normalize scores into bin [0, 1]\n",
    "        y_score = (y_score - y_score.min()) / (y_score.max() - y_score.min())\n",
    "\n",
    "    bin_width = 1.0 / bins\n",
    "    bin_centers = np.linspace(0, 1.0 - bin_width, bins) + bin_width / 2\n",
    "\n",
    "    y_score_bin_mean = np.empty(bins)\n",
    "    empirical_prob_pos = np.empty(bins)\n",
    "    for i, threshold in enumerate(bin_centers):\n",
    "        # determine all samples where y_score falls into the i-th bin\n",
    "        bin_idx = np.logical_and(threshold - bin_width / 2 < y_score,\n",
    "                                 y_score <= threshold + bin_width / 2)\n",
    "        # Store mean y_score and mean empirical probability of positive class\n",
    "        y_score_bin_mean[i] = y_score[bin_idx].mean()\n",
    "        empirical_prob_pos[i] = y_true[bin_idx].mean()\n",
    "    return y_score_bin_mean, empirical_prob_pos\n",
    "\n",
    "plt.figure(0, figsize=(8, 8),)\n",
    "plt.subplot2grid((3, 1), (0, 0), rowspan=2)\n",
    "plt.plot([0.0, 1.0], [0.0, 1.0], 'k', label=\"Perfect\",linewidth=2 )\n",
    "y_score_bin_mean, empirical_prob_pos= reliability_curve(y_true, y_score, bins=10, normalize=True)\n",
    "scores_not_nan = np.logical_not(np.isnan(empirical_prob_pos))\n",
    "plt.plot(y_score_bin_mean[scores_not_nan],empirical_prob_pos[scores_not_nan], label=\"Model ensemble\", linewidth=2)\n",
    "plt.ylabel(\"Empirical probability\")\n",
    "plt.legend(loc=0)\n",
    "plt.show()\n",
    "plt.figure(0, figsize=(8, 8))\n",
    "plt.subplot2grid((3, 1), (2, 0))\n",
    "y_score = (y_score - y_score.min()) / (y_score.max() - y_score.min())\n",
    "plt.hist(y_score, range=(0, 1), bins=bins, label=\"Model ensemble\",histtype=\"step\", lw=2)\n",
    "plt.xlabel(\"Predicted Probability\")\n",
    "plt.ylabel(\"Count\")\n",
    "plt.legend(loc='upper center', ncol=2)\n",
    "\n",
    "plt.show()"
   ]
  },
  {
   "cell_type": "markdown",
   "metadata": {
    "collapsed": false
   },
   "source": [
    "Calibration by CalibratedClassifierCV"
   ]
  },
  {
   "cell_type": "code",
   "execution_count": 4,
   "metadata": {
    "collapsed": false
   },
   "outputs": [],
   "source": [
    "from sklearn.calibration import CalibratedClassifierCV"
   ]
  },
  {
   "cell_type": "code",
   "execution_count": 17,
   "metadata": {
    "collapsed": true
   },
   "outputs": [],
   "source": [
    "#calibCv=CalibratedClassifierCV(base_estimator=linear_model.LogisticRegression(), method='sigmoid', cv=3)\n",
    "calibCv=linear_model.LogisticRegression()"
   ]
  },
  {
   "cell_type": "code",
   "execution_count": 18,
   "metadata": {
    "collapsed": true
   },
   "outputs": [],
   "source": [
    "best_ensemble=best_test\n",
    "X_valid=pd.DataFrame()\n",
    "X_hold=pd.DataFrame()\n",
    "for model in best_ensemble.keys():\n",
    "    #print model\n",
    "    X_valid[model]=best_ensemble[model]*X_validation[model]\n",
    "    X_hold[model]=best_ensemble[model]*X_holding[model]"
   ]
  },
  {
   "cell_type": "code",
   "execution_count": 19,
   "metadata": {
    "collapsed": false
   },
   "outputs": [],
   "source": [
    "calibCv.fit(X_valid,Y_validation)\n",
    "pred_prbs_hold=calibCv.predict_proba(X_hold)[:, 1]"
   ]
  },
  {
   "cell_type": "code",
   "execution_count": 9,
   "metadata": {
    "collapsed": false
   },
   "outputs": [
    {
     "data": {
      "text/plain": [
       "0.82950009259967539"
      ]
     },
     "execution_count": 9,
     "metadata": {},
     "output_type": "execute_result"
    }
   ],
   "source": [
    "fprv,tprv,llv=metrics.roc_curve(Y_holding, pred_prbs_hold)\n",
    "metrics.auc(fprv, tprv)"
   ]
  },
  {
   "cell_type": "code",
   "execution_count": 20,
   "metadata": {
    "collapsed": false
   },
   "outputs": [
    {
     "data": {
      "image/png": "[encoded data removed]",
      "text/plain": [
       "<matplotlib.figure.Figure at 0x11c96590>"
      ]
     },
     "metadata": {},
     "output_type": "display_data"
    },
    {
     "data": {
      "image/png": "[encoded data removed]",
      "text/plain": [
       "<matplotlib.figure.Figure at 0x1417f210>"
      ]
     },
     "metadata": {},
     "output_type": "display_data"
    }
   ],
   "source": [
    "#courbe\n",
    "\n",
    "from sklearn.metrics import brier_score_loss, precision_score, recall_score,f1_score\n",
    "from sklearn.calibration import CalibratedClassifierCV, calibration_curve\n",
    "\n",
    "bins=10\n",
    "y_true=Y_validation\n",
    "y_score=pred_prbs_hold\n",
    "def reliability_curve(y_true, y_score, bins=10, normalize=False):\n",
    "    if normalize:  # Normalize scores into bin [0, 1]\n",
    "        y_score = (y_score - y_score.min()) / (y_score.max() - y_score.min())\n",
    "\n",
    "    bin_width = 1.0 / bins\n",
    "    bin_centers = np.linspace(0, 1.0 - bin_width, bins) + bin_width / 2\n",
    "\n",
    "    y_score_bin_mean = np.empty(bins)\n",
    "    empirical_prob_pos = np.empty(bins)\n",
    "    for i, threshold in enumerate(bin_centers):\n",
    "        # determine all samples where y_score falls into the i-th bin\n",
    "        bin_idx = np.logical_and(threshold - bin_width / 2 < y_score,\n",
    "                                 y_score <= threshold + bin_width / 2)\n",
    "        # Store mean y_score and mean empirical probability of positive class\n",
    "        y_score_bin_mean[i] = y_score[bin_idx].mean()\n",
    "        empirical_prob_pos[i] = y_true[bin_idx].mean()\n",
    "    return y_score_bin_mean, empirical_prob_pos\n",
    "\n",
    "plt.figure(0, figsize=(8, 8),)\n",
    "plt.subplot2grid((3, 1), (0, 0), rowspan=2)\n",
    "plt.plot([0.0, 1.0], [0.0, 1.0], 'k', label=\"Perfect\",linewidth=2 )\n",
    "y_score_bin_mean, empirical_prob_pos= reliability_curve(y_true, y_score, bins=10, normalize=True)\n",
    "scores_not_nan = np.logical_not(np.isnan(empirical_prob_pos))\n",
    "plt.plot(y_score_bin_mean[scores_not_nan],empirical_prob_pos[scores_not_nan], label=\"Model ensemble\", linewidth=2)\n",
    "plt.ylabel(\"Empirical probability\")\n",
    "plt.legend(loc=0)\n",
    "plt.show()\n",
    "plt.figure(0, figsize=(8, 8))\n",
    "plt.subplot2grid((3, 1), (2, 0))\n",
    "y_score = (y_score - y_score.min()) / (y_score.max() - y_score.min())\n",
    "plt.hist(y_score, range=(0, 1), bins=bins, label=\"Model ensemble\",histtype=\"step\", lw=2)\n",
    "plt.xlabel(\"Predicted Probability\")\n",
    "plt.ylabel(\"Count\")\n",
    "plt.legend(loc='upper center', ncol=2)\n",
    "\n",
    "plt.show()"
   ]
  },
  {
   "cell_type": "markdown",
   "metadata": {},
   "source": [
    "<font style=\"font-size:1.3em;color:blue;\">Transform the Probabilies To Calibrated Probabilies</font>"
   ]
  },
  {
   "cell_type": "code",
   "execution_count": 6,
   "metadata": {
    "collapsed": true
   },
   "outputs": [],
   "source": [
    "best_ensemble=best_test\n",
    "valid_p=pd.DataFrame()\n",
    "for model in best_ensemble.keys():\n",
    "    valid_p[model]=best_ensemble[model]*X_validation[model] # weight* (proba model)\n",
    "\n",
    "sum_proba= valid_p.apply(lambda row: sum(row), axis=1)\n",
    "mean_proba= valid_p.apply(lambda row: sum(row)/float(sum(best_ensemble.values())), axis=1)\n",
    "target= valid_p.apply(lambda row: 1 if (sum(row)/float(sum(best_ensemble.values())))>=0.5 else 0, axis=1)\n",
    "valid_p['sum_proba'] =sum_proba\n",
    "valid_p['TARGET'] =mean_proba\n",
    "valid_p['TARGET_01'] =target"
   ]
  },
  {
   "cell_type": "code",
   "execution_count": 7,
   "metadata": {
    "collapsed": true
   },
   "outputs": [],
   "source": [
    "best_ensemble=best_test\n",
    "hold_p=pd.DataFrame()\n",
    "for model in best_ensemble.keys():\n",
    "    hold_p[model]=best_ensemble[model]*X_holding[model] # weight* (proba model)\n",
    "\n",
    "sum_proba= hold_p.apply(lambda row: sum(row), axis=1)\n",
    "mean_proba= hold_p.apply(lambda row: sum(row)/float(sum(best_ensemble.values())), axis=1)\n",
    "target= hold_p.apply(lambda row: 1 if (sum(row)/float(sum(best_ensemble.values())))>=0.5 else 0, axis=1)\n",
    "hold_p['sum_proba'] =sum_proba\n",
    "hold_p['TARGET'] =mean_proba\n",
    "hold_p['TARGET_01'] =target"
   ]
  },
  {
   "cell_type": "code",
   "execution_count": 8,
   "metadata": {
    "collapsed": false
   },
   "outputs": [
    {
     "data": {
      "text/plain": [
       "IsotonicRegression(increasing=True, out_of_bounds='clip', y_max=None,\n",
       "          y_min=None)"
      ]
     },
     "execution_count": 8,
     "metadata": {},
     "output_type": "execute_result"
    }
   ],
   "source": [
    "from sklearn.isotonic import IsotonicRegression as IR\n",
    "\n",
    "ir = IR( out_of_bounds = 'clip' )\n",
    "ir.fit( valid_p['TARGET'], Y_validation )\n",
    "#p_calibrated = ir.transform( p_test )   # or ir.fit( p_test ), that's the same thing"
   ]
  },
  {
   "cell_type": "code",
   "execution_count": 17,
   "metadata": {
    "collapsed": false
   },
   "outputs": [
    {
     "data": {
      "text/html": [
       "<div>\n",
       "<table border=\"1\" class=\"dataframe\">\n",
       "  <thead>\n",
       "    <tr style=\"text-align: right;\">\n",
       "      <th></th>\n",
       "      <th>ID</th>\n",
       "      <th>TARGET</th>\n",
       "      <th>TARGET_0</th>\n",
       "    </tr>\n",
       "  </thead>\n",
       "  <tbody>\n",
       "    <tr>\n",
       "      <th>0</th>\n",
       "      <td>2</td>\n",
       "      <td>0.025909</td>\n",
       "      <td>0.028571</td>\n",
       "    </tr>\n",
       "    <tr>\n",
       "      <th>1</th>\n",
       "      <td>5</td>\n",
       "      <td>0.047369</td>\n",
       "      <td>0.038571</td>\n",
       "    </tr>\n",
       "    <tr>\n",
       "      <th>2</th>\n",
       "      <td>6</td>\n",
       "      <td>0.000849</td>\n",
       "      <td>0.000714</td>\n",
       "    </tr>\n",
       "    <tr>\n",
       "      <th>3</th>\n",
       "      <td>7</td>\n",
       "      <td>0.004865</td>\n",
       "      <td>0.009286</td>\n",
       "    </tr>\n",
       "    <tr>\n",
       "      <th>4</th>\n",
       "      <td>9</td>\n",
       "      <td>0.000849</td>\n",
       "      <td>0.000714</td>\n",
       "    </tr>\n",
       "  </tbody>\n",
       "</table>\n",
       "</div>"
      ],
      "text/plain": [
       "   ID    TARGET  TARGET_0\n",
       "0   2  0.025909  0.028571\n",
       "1   5  0.047369  0.038571\n",
       "2   6  0.000849  0.000714\n",
       "3   7  0.004865  0.009286\n",
       "4   9  0.000849  0.000714"
      ]
     },
     "execution_count": 17,
     "metadata": {},
     "output_type": "execute_result"
    }
   ],
   "source": [
    "\n",
    "p_test=pd.read_csv(\"results/submit0_besttest.csv\")\n",
    "#p_calibrated_h=ir.transform( p_test['TARGET'])\n",
    "#\n",
    "p_test[\"TARGET_0\"]=p_test[\"TARGET\"]\n",
    "p_test[\"TARGET\"]=ir.transform( p_test['TARGET'])\n",
    "p_test.to_csv(\"results/ssubmit0_besttest_calib.csv\",index=False,columns=['ID','TARGET'])\n",
    "p_test.head()\n",
    "#0.820158 pivate in kaggle"
   ]
  },
  {
   "cell_type": "code",
   "execution_count": null,
   "metadata": {
    "collapsed": true
   },
   "outputs": [],
   "source": [
    "#----------------------------------------The End ---------------------------------#"
   ]
  },
  {
   "cell_type": "code",
   "execution_count": null,
   "metadata": {
    "collapsed": true
   },
   "outputs": [],
   "source": []
  },
  {
   "cell_type": "code",
   "execution_count": 11,
   "metadata": {
    "collapsed": false
   },
   "outputs": [],
   "source": [
    "ID=pd.read_csv(\"results/test_id.csv\").ID"
   ]
  },
  {
   "cell_type": "code",
   "execution_count": 19,
   "metadata": {
    "collapsed": false
   },
   "outputs": [],
   "source": [
    "new_data=pd.DataFrame()\n",
    "for model in best_ensemble.keys():\n",
    "    #print model\n",
    "    data=coresp_data[model.split(\"_\")[0]]\n",
    "    col=None\n",
    "    #print data\n",
    "    if data==\"test1\":\n",
    "        col=test1[model]\n",
    "    if data==\"test2\":\n",
    "        col=test2[model]\n",
    "    if data==\"test3\":\n",
    "        col=test3[model]\n",
    "    new_data[model]=best_ensemble[model]*col \n",
    "new_data[\"TARGET\"]=calibCv.predict_proba(new_data)[:, 1]\n",
    "new_data['ID']=ID"
   ]
  },
  {
   "cell_type": "code",
   "execution_count": 20,
   "metadata": {
    "collapsed": false
   },
   "outputs": [],
   "source": [
    "new_data.to_csv(\"results/submit_calib.csv\",index=False,columns=['ID','TARGET'])"
   ]
  }
 ],
 "metadata": {
  "kernelspec": {
   "display_name": "Python 2",
   "language": "python",
   "name": "python2"
  },
  "language_info": {
   "codemirror_mode": {
    "name": "ipython",
    "version": 2
   },
   "file_extension": ".py",
   "mimetype": "text/x-python",
   "name": "python",
   "nbconvert_exporter": "python",
   "pygments_lexer": "ipython2",
   "version": "2.7.12"
  }
 },
 "nbformat": 4,
 "nbformat_minor": 0
}
